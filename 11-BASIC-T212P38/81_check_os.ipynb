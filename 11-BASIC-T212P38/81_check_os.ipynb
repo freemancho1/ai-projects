{
 "cells": [
  {
   "cell_type": "markdown",
   "metadata": {},
   "source": [
    "#### Overview\n",
    "* Check System OS"
   ]
  },
  {
   "cell_type": "code",
   "execution_count": 1,
   "metadata": {},
   "outputs": [
    {
     "name": "stdout",
     "output_type": "stream",
     "text": [
      "Linux, version: #64-Ubuntu SMP Thu Jan 5 11:43:13 UTC 2023\n"
     ]
    }
   ],
   "source": [
    "import platform\n",
    "\n",
    "os_name = platform.system()\n",
    "os_version = platform.version()\n",
    "\n",
    "if os_name == 'Linux':\n",
    "    print(f'Linux, version: {os_version}')\n",
    "elif os_name == 'Darwin':\n",
    "    print('MacOS, version: {os_version}')\n",
    "elif os_name == 'Windows':\n",
    "    print('Windows, version: {os_version}')\n",
    "else:\n",
    "    print(f'Other OS({os_name}), version: {os_version}')"
   ]
  },
  {
   "cell_type": "code",
   "execution_count": null,
   "metadata": {},
   "outputs": [],
   "source": []
  }
 ],
 "metadata": {
  "kernelspec": {
   "display_name": "t212p38",
   "language": "python",
   "name": "python3"
  },
  "language_info": {
   "codemirror_mode": {
    "name": "ipython",
    "version": 3
   },
   "file_extension": ".py",
   "mimetype": "text/x-python",
   "name": "python",
   "nbconvert_exporter": "python",
   "pygments_lexer": "ipython3",
   "version": "3.8.17"
  },
  "orig_nbformat": 4
 },
 "nbformat": 4,
 "nbformat_minor": 2
}
