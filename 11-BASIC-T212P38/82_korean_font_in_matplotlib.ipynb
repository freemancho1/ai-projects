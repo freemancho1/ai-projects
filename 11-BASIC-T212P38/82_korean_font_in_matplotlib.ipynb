{
 "cells": [
  {
   "cell_type": "markdown",
   "metadata": {},
   "source": [
    "#### Overview\n",
    "* matplotlib의 이미지 파일에서 `한글폰트 사용`하기"
   ]
  },
  {
   "cell_type": "markdown",
   "metadata": {},
   "source": [
    "#### Import Libraries"
   ]
  },
  {
   "cell_type": "code",
   "execution_count": 1,
   "metadata": {},
   "outputs": [],
   "source": [
    "import platform\n",
    "import matplotlib.pyplot as plt\n",
    "import matplotlib.font_manager as fm"
   ]
  },
  {
   "cell_type": "code",
   "execution_count": 3,
   "metadata": {},
   "outputs": [],
   "source": [
    "# Check OS\n",
    "os_name = platform.system()\n",
    "\n",
    "# font_path는 사용할 폰트에 따라 변경하면 됨\n",
    "font_path = 'c:/Windows/Fonts/malgun.ttf' if os_name=='Windows' \\\n",
    "    else '/usr/share/fonts/truetype/nanum/NanumGothic.ttf'\n",
    "font_family = fm.FontProperties(fname=font_path).get_name()\n",
    "\n",
    "# font 설정\n",
    "plt.rcParams['font.family'] = font_family\n",
    "\n",
    "# 그래프의 x,y축 레이블에 마이너스 값이 있을 때,\n",
    "# 우리가 알아보기 쉽게 '-'로 표시되게 하는 옵션\n",
    "plt.rcParams['axes.unicode_minus'] = False"
   ]
  },
  {
   "cell_type": "code",
   "execution_count": null,
   "metadata": {},
   "outputs": [],
   "source": []
  }
 ],
 "metadata": {
  "kernelspec": {
   "display_name": "t212p38",
   "language": "python",
   "name": "python3"
  },
  "language_info": {
   "codemirror_mode": {
    "name": "ipython",
    "version": 3
   },
   "file_extension": ".py",
   "mimetype": "text/x-python",
   "name": "python",
   "nbconvert_exporter": "python",
   "pygments_lexer": "ipython3",
   "version": "3.8.17"
  },
  "orig_nbformat": 4
 },
 "nbformat": 4,
 "nbformat_minor": 2
}
