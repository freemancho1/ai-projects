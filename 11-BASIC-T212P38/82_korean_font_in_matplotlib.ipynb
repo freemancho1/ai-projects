{
 "cells": [
  {
   "cell_type": "markdown",
   "metadata": {},
   "source": [
    "#### Overview\n",
    "* matplotlib의 이미지 파일에서 `한글폰트 사용`하기"
   ]
  },
  {
   "cell_type": "markdown",
   "metadata": {},
   "source": [
    "#### Import Libraries"
   ]
  },
  {
   "cell_type": "code",
   "execution_count": 1,
   "metadata": {},
   "outputs": [],
   "source": [
    "import matplotlib.pyplot as plt\n",
    "import matplotlib.font_manager as fm"
   ]
  },
  {
   "cell_type": "code",
   "execution_count": 3,
   "metadata": {},
   "outputs": [],
   "source": [
    "import platform\n",
    "\n",
    "_os_name = platform.system()\n",
    "\n",
    "# font_path는 사용할 폰트에 따라 변경하면 됨\n",
    "_font_path = 'c:/Windows/Fonts/malgun.ttf' if _os_name=='Windows' \\\n",
    "    else '/usr/share/fonts/truetype/nanum/NanumGothic.ttf'\n",
    "_font_family = fm.FontProperties(fname=_font_path).get_name()\n",
    "\n",
    "# font 설정\n",
    "plt.rcParams['font.family'] = _font_family\n",
    "\n",
    "# 폰트캐시까지 삭제 후 한글폰트가 사용될 수 있도록 캐시 삭제\n",
    "# --> 이렇게 해야 비로소 한글이 표현되는 경우가 많음\n",
    "plt.rcParams['font.family'] = 'sans-serif'\n",
    "plt.rcParams['font.sans-serif'] = [_font_family]\n",
    "\n",
    "_fe = fm.FontEntry(\n",
    "    fname='/usr/share/fonts/truetype/nanum/NanumGothic.ttf',\n",
    "    name='NanumGothic'\n",
    ")\n",
    "fm.fontManager.ttflist.insert(0, _fe)"
   ]
  }
 ],
 "metadata": {
  "kernelspec": {
   "display_name": "t212p38",
   "language": "python",
   "name": "python3"
  },
  "language_info": {
   "codemirror_mode": {
    "name": "ipython",
    "version": 3
   },
   "file_extension": ".py",
   "mimetype": "text/x-python",
   "name": "python",
   "nbconvert_exporter": "python",
   "pygments_lexer": "ipython3",
   "version": "3.8.17"
  },
  "orig_nbformat": 4
 },
 "nbformat": 4,
 "nbformat_minor": 2
}
