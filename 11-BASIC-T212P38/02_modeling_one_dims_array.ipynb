{
 "cells": [
  {
   "cell_type": "markdown",
   "metadata": {},
   "source": [
    "##### Import libraries"
   ]
  },
  {
   "cell_type": "code",
   "execution_count": 1,
   "metadata": {},
   "outputs": [
    {
     "name": "stderr",
     "output_type": "stream",
     "text": [
      "2023-08-10 11:26:07.585490: I tensorflow/core/platform/cpu_feature_guard.cc:182] This TensorFlow binary is optimized to use available CPU instructions in performance-critical operations.\n",
      "To enable the following instructions: AVX2 AVX512F FMA, in other operations, rebuild TensorFlow with the appropriate compiler flags.\n"
     ]
    },
    {
     "name": "stdout",
     "output_type": "stream",
     "text": [
      "Tensorflow version: 2.12.0\n"
     ]
    }
   ],
   "source": [
    "import numpy as np\n",
    "\n",
    "from sklearn.linear_model import LinearRegression   # Machine learning library\n",
    "\n",
    "import tensorflow as tf                             # Deep learning library\n",
    "print(f'Tensorflow version: {tf.__version__}')\n",
    "\n",
    "# Visualization library\n",
    "import matplotlib.pyplot as plt\n",
    "import imageio"
   ]
  },
  {
   "cell_type": "markdown",
   "metadata": {},
   "source": [
    "##### Shared data"
   ]
  },
  {
   "cell_type": "code",
   "execution_count": 2,
   "metadata": {},
   "outputs": [],
   "source": [
    "train_x = np.array([[5], [-10], [9], [0], [4], [2]])\n",
    "train_y = np.array([17, -28, 29, 2, 14, 8])         # train_y = train_x * 3 + 2"
   ]
  },
  {
   "cell_type": "markdown",
   "metadata": {},
   "source": [
    "##### with Machine Learning(Linear Regression)"
   ]
  },
  {
   "cell_type": "code",
   "execution_count": 3,
   "metadata": {},
   "outputs": [
    {
     "data": {
      "text/html": [
       "<style>#sk-container-id-1 {color: black;}#sk-container-id-1 pre{padding: 0;}#sk-container-id-1 div.sk-toggleable {background-color: white;}#sk-container-id-1 label.sk-toggleable__label {cursor: pointer;display: block;width: 100%;margin-bottom: 0;padding: 0.3em;box-sizing: border-box;text-align: center;}#sk-container-id-1 label.sk-toggleable__label-arrow:before {content: \"▸\";float: left;margin-right: 0.25em;color: #696969;}#sk-container-id-1 label.sk-toggleable__label-arrow:hover:before {color: black;}#sk-container-id-1 div.sk-estimator:hover label.sk-toggleable__label-arrow:before {color: black;}#sk-container-id-1 div.sk-toggleable__content {max-height: 0;max-width: 0;overflow: hidden;text-align: left;background-color: #f0f8ff;}#sk-container-id-1 div.sk-toggleable__content pre {margin: 0.2em;color: black;border-radius: 0.25em;background-color: #f0f8ff;}#sk-container-id-1 input.sk-toggleable__control:checked~div.sk-toggleable__content {max-height: 200px;max-width: 100%;overflow: auto;}#sk-container-id-1 input.sk-toggleable__control:checked~label.sk-toggleable__label-arrow:before {content: \"▾\";}#sk-container-id-1 div.sk-estimator input.sk-toggleable__control:checked~label.sk-toggleable__label {background-color: #d4ebff;}#sk-container-id-1 div.sk-label input.sk-toggleable__control:checked~label.sk-toggleable__label {background-color: #d4ebff;}#sk-container-id-1 input.sk-hidden--visually {border: 0;clip: rect(1px 1px 1px 1px);clip: rect(1px, 1px, 1px, 1px);height: 1px;margin: -1px;overflow: hidden;padding: 0;position: absolute;width: 1px;}#sk-container-id-1 div.sk-estimator {font-family: monospace;background-color: #f0f8ff;border: 1px dotted black;border-radius: 0.25em;box-sizing: border-box;margin-bottom: 0.5em;}#sk-container-id-1 div.sk-estimator:hover {background-color: #d4ebff;}#sk-container-id-1 div.sk-parallel-item::after {content: \"\";width: 100%;border-bottom: 1px solid gray;flex-grow: 1;}#sk-container-id-1 div.sk-label:hover label.sk-toggleable__label {background-color: #d4ebff;}#sk-container-id-1 div.sk-serial::before {content: \"\";position: absolute;border-left: 1px solid gray;box-sizing: border-box;top: 0;bottom: 0;left: 50%;z-index: 0;}#sk-container-id-1 div.sk-serial {display: flex;flex-direction: column;align-items: center;background-color: white;padding-right: 0.2em;padding-left: 0.2em;position: relative;}#sk-container-id-1 div.sk-item {position: relative;z-index: 1;}#sk-container-id-1 div.sk-parallel {display: flex;align-items: stretch;justify-content: center;background-color: white;position: relative;}#sk-container-id-1 div.sk-item::before, #sk-container-id-1 div.sk-parallel-item::before {content: \"\";position: absolute;border-left: 1px solid gray;box-sizing: border-box;top: 0;bottom: 0;left: 50%;z-index: -1;}#sk-container-id-1 div.sk-parallel-item {display: flex;flex-direction: column;z-index: 1;position: relative;background-color: white;}#sk-container-id-1 div.sk-parallel-item:first-child::after {align-self: flex-end;width: 50%;}#sk-container-id-1 div.sk-parallel-item:last-child::after {align-self: flex-start;width: 50%;}#sk-container-id-1 div.sk-parallel-item:only-child::after {width: 0;}#sk-container-id-1 div.sk-dashed-wrapped {border: 1px dashed gray;margin: 0 0.4em 0.5em 0.4em;box-sizing: border-box;padding-bottom: 0.4em;background-color: white;}#sk-container-id-1 div.sk-label label {font-family: monospace;font-weight: bold;display: inline-block;line-height: 1.2em;}#sk-container-id-1 div.sk-label-container {text-align: center;}#sk-container-id-1 div.sk-container {/* jupyter's `normalize.less` sets `[hidden] { display: none; }` but bootstrap.min.css set `[hidden] { display: none !important; }` so we also need the `!important` here to be able to override the default hidden behavior on the sphinx rendered scikit-learn.org. See: https://github.com/scikit-learn/scikit-learn/issues/21755 */display: inline-block !important;position: relative;}#sk-container-id-1 div.sk-text-repr-fallback {display: none;}</style><div id=\"sk-container-id-1\" class=\"sk-top-container\"><div class=\"sk-text-repr-fallback\"><pre>LinearRegression()</pre><b>In a Jupyter environment, please rerun this cell to show the HTML representation or trust the notebook. <br />On GitHub, the HTML representation is unable to render, please try loading this page with nbviewer.org.</b></div><div class=\"sk-container\" hidden><div class=\"sk-item\"><div class=\"sk-estimator sk-toggleable\"><input class=\"sk-toggleable__control sk-hidden--visually\" id=\"sk-estimator-id-1\" type=\"checkbox\" checked><label for=\"sk-estimator-id-1\" class=\"sk-toggleable__label sk-toggleable__label-arrow\">LinearRegression</label><div class=\"sk-toggleable__content\"><pre>LinearRegression()</pre></div></div></div></div></div>"
      ],
      "text/plain": [
       "LinearRegression()"
      ]
     },
     "execution_count": 3,
     "metadata": {},
     "output_type": "execute_result"
    }
   ],
   "source": [
    "lr_model = LinearRegression()\n",
    "lr_model.fit(train_x, train_y)"
   ]
  },
  {
   "cell_type": "code",
   "execution_count": 4,
   "metadata": {},
   "outputs": [],
   "source": [
    "lr_predictions = lr_model.predict(train_x)"
   ]
  },
  {
   "cell_type": "code",
   "execution_count": 5,
   "metadata": {},
   "outputs": [
    {
     "name": "stdout",
     "output_type": "stream",
     "text": [
      "Input data:   5, Label data:  17, Prediction data: 17.00000\n",
      "Input data: -10, Label data: -28, Prediction data: -28.00000\n",
      "Input data:   9, Label data:  29, Prediction data: 29.00000\n",
      "Input data:   0, Label data:   2, Prediction data:  2.00000\n",
      "Input data:   4, Label data:  14, Prediction data: 14.00000\n",
      "Input data:   2, Label data:   8, Prediction data:  8.00000\n"
     ]
    }
   ],
   "source": [
    "lr_predictions = lr_model.predict(train_x)\n",
    "for i in range(len(train_x)):\n",
    "    print(\n",
    "        f'Input data: {train_x[i][0]:3d}, '\n",
    "        f'Label data: {train_y[i]:3d}, '\n",
    "        f'Prediction data: {lr_predictions[i]:8.5f}'\n",
    "    )"
   ]
  },
  {
   "cell_type": "code",
   "execution_count": 6,
   "metadata": {},
   "outputs": [
    {
     "data": {
      "text/plain": [
       "array([5.])"
      ]
     },
     "execution_count": 6,
     "metadata": {},
     "output_type": "execute_result"
    }
   ],
   "source": [
    "# Prediction\n",
    "# train_x = 1 --> train_y = 1 * 3 + 2 = 5\n",
    "lr_predictions = lr_model.predict([[1]])\n",
    "lr_predictions"
   ]
  },
  {
   "cell_type": "markdown",
   "metadata": {},
   "source": [
    "##### with Simple Deep Learning"
   ]
  },
  {
   "cell_type": "code",
   "execution_count": 7,
   "metadata": {},
   "outputs": [
    {
     "name": "stderr",
     "output_type": "stream",
     "text": [
      "2023-08-10 11:26:16.252607: I tensorflow/core/common_runtime/gpu/gpu_device.cc:1635] Created device /job:localhost/replica:0/task:0/device:GPU:0 with 22787 MB memory:  -> device: 0, name: NVIDIA TITAN RTX, pci bus id: 0000:5e:00.0, compute capability: 7.5\n",
      "2023-08-10 11:26:16.253865: I tensorflow/core/common_runtime/gpu/gpu_device.cc:1635] Created device /job:localhost/replica:0/task:0/device:GPU:1 with 22265 MB memory:  -> device: 1, name: NVIDIA TITAN RTX, pci bus id: 0000:af:00.0, compute capability: 7.5\n",
      "2023-08-10 11:26:18.455516: I tensorflow/compiler/xla/service/service.cc:169] XLA service 0x2c3d49b0 initialized for platform CUDA (this does not guarantee that XLA will be used). Devices:\n",
      "2023-08-10 11:26:18.455588: I tensorflow/compiler/xla/service/service.cc:177]   StreamExecutor device (0): NVIDIA TITAN RTX, Compute Capability 7.5\n",
      "2023-08-10 11:26:18.455612: I tensorflow/compiler/xla/service/service.cc:177]   StreamExecutor device (1): NVIDIA TITAN RTX, Compute Capability 7.5\n",
      "2023-08-10 11:26:18.471593: I tensorflow/compiler/mlir/tensorflow/utils/dump_mlir_util.cc:269] disabling MLIR crash reproducer, set env var `MLIR_CRASH_REPRODUCER_DIRECTORY` to enable.\n",
      "2023-08-10 11:26:18.699469: I tensorflow/compiler/xla/stream_executor/cuda/cuda_dnn.cc:424] Loaded cuDNN version 8600\n",
      "2023-08-10 11:26:18.772413: I tensorflow/tsl/platform/default/subprocess.cc:304] Start cannot spawn child process: No such file or directory\n",
      "2023-08-10 11:26:18.880067: I ./tensorflow/compiler/jit/device_compiler.h:180] Compiled cluster using XLA!  This line is logged at most once for the lifetime of the process.\n"
     ]
    },
    {
     "data": {
      "text/plain": [
       "<keras.callbacks.History at 0x7fb6800cc970>"
      ]
     },
     "execution_count": 7,
     "metadata": {},
     "output_type": "execute_result"
    }
   ],
   "source": [
    "# Model construction\n",
    "dl_model = tf.keras.Sequential([\n",
    "    tf.keras.layers.Dense(units=1, input_shape=(1,))\n",
    "])\n",
    "\n",
    "# Model compile and learning\n",
    "dl_model.compile(\n",
    "    optimizer='adam',\n",
    "    loss='mean_squared_error'\n",
    ")\n",
    "\n",
    "# epochs를 1000번 할 때까지는 정확도가 좋지 않았음\n",
    "dl_model.fit(train_x, train_y, epochs=10000, verbose=0)"
   ]
  },
  {
   "cell_type": "code",
   "execution_count": 8,
   "metadata": {},
   "outputs": [
    {
     "data": {
      "text/plain": [
       "array([[5.000017]], dtype=float32)"
      ]
     },
     "execution_count": 8,
     "metadata": {},
     "output_type": "execute_result"
    }
   ],
   "source": [
    "# Prediction\n",
    "# train_x = 1 --> train_y = 1 * 3 + 2 = 5\n",
    "dl_predictions = dl_model.predict([[1]], verbose=0)\n",
    "dl_predictions"
   ]
  },
  {
   "cell_type": "code",
   "execution_count": 9,
   "metadata": {},
   "outputs": [
    {
     "name": "stdout",
     "output_type": "stream",
     "text": [
      "Input data:   5, Label data:  17, Prediction data: 16.99999\n",
      "Input data: -10, Label data: -28, Prediction data: -27.99990\n",
      "Input data:   9, Label data:  29, Prediction data: 28.99995\n",
      "Input data:   0, Label data:   2, Prediction data:  2.00003\n",
      "Input data:   4, Label data:  14, Prediction data: 13.99999\n",
      "Input data:   2, Label data:   8, Prediction data:  8.00001\n"
     ]
    }
   ],
   "source": [
    "dl_predictions = dl_model.predict(train_x, verbose=0)\n",
    "\n",
    "for i in range(len(train_x)):\n",
    "    print(\n",
    "        f'Input data: {train_x[i][0]:3d}, '\n",
    "        f'Label data: {train_y[i]:3d}, '\n",
    "        f'Prediction data: {dl_predictions[i][0]:8.5f}'\n",
    "    )"
   ]
  },
  {
   "cell_type": "markdown",
   "metadata": {},
   "source": [
    "##### with Deep Learning"
   ]
  },
  {
   "cell_type": "code",
   "execution_count": 10,
   "metadata": {},
   "outputs": [],
   "source": [
    "dl2_model = tf.keras.Sequential([\n",
    "    tf.keras.layers.Dense(units=64, activation='relu', input_shape=(1,)),\n",
    "    tf.keras.layers.Dense(units=32, activation='relu'),\n",
    "    tf.keras.layers.Dense(units=1)\n",
    "])\n",
    "\n",
    "dl2_model.compile(\n",
    "    optimizer='adam',\n",
    "    loss='mean_squared_error'\n",
    ")"
   ]
  },
  {
   "cell_type": "code",
   "execution_count": 11,
   "metadata": {},
   "outputs": [
    {
     "data": {
      "text/plain": [
       "<keras.callbacks.History at 0x7fb670390730>"
      ]
     },
     "execution_count": 11,
     "metadata": {},
     "output_type": "execute_result"
    }
   ],
   "source": [
    "dl2_model.fit(train_x, train_y, epochs=1000, verbose=0)"
   ]
  },
  {
   "cell_type": "code",
   "execution_count": 12,
   "metadata": {},
   "outputs": [
    {
     "data": {
      "text/plain": [
       "array([[5.047438]], dtype=float32)"
      ]
     },
     "execution_count": 12,
     "metadata": {},
     "output_type": "execute_result"
    }
   ],
   "source": [
    "# Prediction\n",
    "# train_x = 1 --> train_y = 1 * 3 + 2 = 5\n",
    "dl2_predictions = dl2_model.predict([[1]], verbose=0)\n",
    "dl2_predictions"
   ]
  },
  {
   "cell_type": "code",
   "execution_count": 13,
   "metadata": {},
   "outputs": [
    {
     "name": "stdout",
     "output_type": "stream",
     "text": [
      "Input data:   5, Label data:  17, Prediction data: 17.01116\n",
      "Input data: -10, Label data: -28, Prediction data: -27.99944\n",
      "Input data:   9, Label data:  29, Prediction data: 28.97476\n",
      "Input data:   0, Label data:   2, Prediction data:  1.97534\n",
      "Input data:   4, Label data:  14, Prediction data: 14.02022\n",
      "Input data:   2, Label data:   8, Prediction data:  8.03837\n"
     ]
    }
   ],
   "source": [
    "dl2_predictions = dl2_model.predict(train_x, verbose=0)\n",
    "\n",
    "for i in range(len(train_x)):\n",
    "    print(\n",
    "        f'Input data: {train_x[i][0]:3d}, '\n",
    "        f'Label data: {train_y[i]:3d}, '\n",
    "        f'Prediction data: {dl2_predictions[i][0]:8.5f}'\n",
    "    )"
   ]
  },
  {
   "cell_type": "markdown",
   "metadata": {},
   "source": [
    "##### with Deep Learning (Visualization)"
   ]
  },
  {
   "cell_type": "code",
   "execution_count": 14,
   "metadata": {},
   "outputs": [
    {
     "name": "stdout",
     "output_type": "stream",
     "text": [
      "Epoch: 0000, Loss: [364.8260498046875], Accuracy: [0.0]\n",
      "Epoch: 0100, Loss: [81.30591583251953], Accuracy: [0.0]\n",
      "Epoch: 0200, Loss: [0.2001866102218628], Accuracy: [0.0]\n",
      "Epoch: 0300, Loss: [0.04334158077836037], Accuracy: [0.0]\n",
      "Epoch: 0400, Loss: [0.017622241750359535], Accuracy: [0.0]\n",
      "Epoch: 0500, Loss: [0.007116349413990974], Accuracy: [0.0]\n",
      "Epoch: 0600, Loss: [0.0027655765879899263], Accuracy: [0.0]\n",
      "Epoch: 0700, Loss: [0.001132157165557146], Accuracy: [0.0]\n",
      "Epoch: 0800, Loss: [0.0005624322802759707], Accuracy: [0.0]\n",
      "Epoch: 0900, Loss: [0.00035976027720607817], Accuracy: [0.0]\n",
      "Epoch: 1000, Loss: [0.0002693807182367891], Accuracy: [0.0]\n"
     ]
    }
   ],
   "source": [
    "vdl_model = tf.keras.Sequential([\n",
    "    tf.keras.layers.Dense(units=64, activation='relu', input_shape=(1,)),\n",
    "    tf.keras.layers.Dense(units=32, activation='relu'),\n",
    "    tf.keras.layers.Dense(units=1)\n",
    "])\n",
    "\n",
    "vdl_model.compile(\n",
    "    optimizer='adam',\n",
    "    loss='mse',\n",
    "    metrics=['accuracy']\n",
    ")\n",
    "\n",
    "weights_history = []\n",
    "for epoch in range(1001):\n",
    "    vdl_model.fit(train_x, train_y, epochs=1, verbose=0)\n",
    "    weights = vdl_model.get_weights()\n",
    "    weights_history.append(weights)\n",
    "    if epoch % 100 == 0:\n",
    "        print(\n",
    "            f'Epoch: {epoch:04d}, '\n",
    "            f'Loss: {vdl_model.history.history[\"loss\"]}, '\n",
    "            f'Accuracy: {vdl_model.history.history[\"accuracy\"]}'\n",
    "        )"
   ]
  },
  {
   "cell_type": "markdown",
   "metadata": {},
   "source": [
    "* Generation GIF Images\n",
    "  * `11-BASIC-T212P38/61_animation_gif.ipynb` 참조"
   ]
  },
  {
   "cell_type": "markdown",
   "metadata": {},
   "source": []
  }
 ],
 "metadata": {
  "kernelspec": {
   "display_name": "t212p38",
   "language": "python",
   "name": "python3"
  },
  "language_info": {
   "codemirror_mode": {
    "name": "ipython",
    "version": 3
   },
   "file_extension": ".py",
   "mimetype": "text/x-python",
   "name": "python",
   "nbconvert_exporter": "python",
   "pygments_lexer": "ipython3",
   "version": "3.8.17"
  },
  "orig_nbformat": 4
 },
 "nbformat": 4,
 "nbformat_minor": 2
}
