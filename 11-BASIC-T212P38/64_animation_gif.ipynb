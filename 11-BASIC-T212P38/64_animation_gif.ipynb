{
 "cells": [
  {
   "cell_type": "markdown",
   "metadata": {},
   "source": [
    "##### Import Libraries"
   ]
  },
  {
   "cell_type": "code",
   "execution_count": 1,
   "metadata": {},
   "outputs": [
    {
     "name": "stderr",
     "output_type": "stream",
     "text": [
      "2023-08-11 09:48:54.358045: I tensorflow/core/platform/cpu_feature_guard.cc:182] This TensorFlow binary is optimized to use available CPU instructions in performance-critical operations.\n",
      "To enable the following instructions: AVX2 AVX512F FMA, in other operations, rebuild TensorFlow with the appropriate compiler flags.\n"
     ]
    }
   ],
   "source": [
    "import os\n",
    "import numpy as np\n",
    "import tensorflow as tf\n",
    "\n",
    "# Visualization(for Animation) Libraries\n",
    "import imageio\n",
    "import matplotlib.pyplot as plt\n",
    "\n",
    "from datetime import datetime as dt"
   ]
  },
  {
   "cell_type": "markdown",
   "metadata": {},
   "source": [
    "##### Preparation of Simple Data for Modeling"
   ]
  },
  {
   "cell_type": "code",
   "execution_count": 2,
   "metadata": {},
   "outputs": [],
   "source": [
    "# train_y = train_x * 3 + 2\n",
    "train_x = np.array([[5], [-10], [9], [0], [4], [2]])\n",
    "train_y = np.array([17, -28, 29, 2, 14, 8]) "
   ]
  },
  {
   "cell_type": "markdown",
   "metadata": {},
   "source": [
    "##### Model Definition with Deep Learning"
   ]
  },
  {
   "cell_type": "code",
   "execution_count": 3,
   "metadata": {},
   "outputs": [
    {
     "name": "stderr",
     "output_type": "stream",
     "text": [
      "2023-08-11 09:48:58.429493: I tensorflow/core/common_runtime/gpu/gpu_device.cc:1635] Created device /job:localhost/replica:0/task:0/device:GPU:0 with 22787 MB memory:  -> device: 0, name: NVIDIA TITAN RTX, pci bus id: 0000:5e:00.0, compute capability: 7.5\n",
      "2023-08-11 09:48:58.430357: I tensorflow/core/common_runtime/gpu/gpu_device.cc:1635] Created device /job:localhost/replica:0/task:0/device:GPU:1 with 22303 MB memory:  -> device: 1, name: NVIDIA TITAN RTX, pci bus id: 0000:af:00.0, compute capability: 7.5\n"
     ]
    }
   ],
   "source": [
    "model = tf.keras.Sequential([\n",
    "    tf.keras.layers.Dense(units=64, activation='relu', input_shape=(1,)),\n",
    "    tf.keras.layers.Dense(units=32, activation='relu'),\n",
    "    tf.keras.layers.Dense(units=1)\n",
    "])\n",
    "\n",
    "model.compile(\n",
    "    optimizer='adam',\n",
    "    loss='mean_squared_error'\n",
    ")"
   ]
  },
  {
   "cell_type": "markdown",
   "metadata": {},
   "source": [
    "##### Model Training"
   ]
  },
  {
   "cell_type": "code",
   "execution_count": 4,
   "metadata": {},
   "outputs": [],
   "source": [
    "EPOCHS = 300"
   ]
  },
  {
   "cell_type": "code",
   "execution_count": 5,
   "metadata": {},
   "outputs": [
    {
     "name": "stderr",
     "output_type": "stream",
     "text": [
      "2023-08-11 09:49:00.508922: I tensorflow/compiler/xla/service/service.cc:169] XLA service 0x2c4d2c90 initialized for platform CUDA (this does not guarantee that XLA will be used). Devices:\n",
      "2023-08-11 09:49:00.508995: I tensorflow/compiler/xla/service/service.cc:177]   StreamExecutor device (0): NVIDIA TITAN RTX, Compute Capability 7.5\n",
      "2023-08-11 09:49:00.509020: I tensorflow/compiler/xla/service/service.cc:177]   StreamExecutor device (1): NVIDIA TITAN RTX, Compute Capability 7.5\n",
      "2023-08-11 09:49:00.523493: I tensorflow/compiler/mlir/tensorflow/utils/dump_mlir_util.cc:269] disabling MLIR crash reproducer, set env var `MLIR_CRASH_REPRODUCER_DIRECTORY` to enable.\n",
      "2023-08-11 09:49:00.753364: I tensorflow/compiler/xla/stream_executor/cuda/cuda_dnn.cc:424] Loaded cuDNN version 8600\n",
      "2023-08-11 09:49:00.826703: I tensorflow/tsl/platform/default/subprocess.cc:304] Start cannot spawn child process: No such file or directory\n",
      "2023-08-11 09:49:00.937363: I ./tensorflow/compiler/jit/device_compiler.h:180] Compiled cluster using XLA!  This line is logged at most once for the lifetime of the process.\n"
     ]
    },
    {
     "name": "stdout",
     "output_type": "stream",
     "text": [
      "Total Processing time: 0:00:22.978802\n"
     ]
    }
   ],
   "source": [
    "weights_history = []\n",
    "\n",
    "_training_start = dt.now()\n",
    "for _ in range(EPOCHS+1):\n",
    "    model.fit(train_x, train_y, epochs=1, verbose=0)\n",
    "    _weights = model.get_weights()\n",
    "    weights_history.append(_weights) \n",
    "\n",
    "print(f'Total Processing Time: {dt.now() - _training_start}')"
   ]
  },
  {
   "cell_type": "markdown",
   "metadata": {},
   "source": [
    "##### Generating Images for Each Epoch"
   ]
  },
  {
   "cell_type": "markdown",
   "metadata": {},
   "source": [
    "* Make Temp Path"
   ]
  },
  {
   "cell_type": "code",
   "execution_count": 9,
   "metadata": {},
   "outputs": [],
   "source": [
    "TEMP_DIR_NAME = '_temp_images'\n",
    "TEMP_PATH = os.path.join(os.getcwd(), TEMP_DIR_NAME)\n",
    "\n",
    "if not os.path.exists(TEMP_PATH):\n",
    "    os.makedirs(TEMP_PATH, exist_ok=True)"
   ]
  },
  {
   "cell_type": "markdown",
   "metadata": {},
   "source": [
    "* Creating Images"
   ]
  },
  {
   "cell_type": "code",
   "execution_count": 10,
   "metadata": {},
   "outputs": [
    {
     "name": "stdout",
     "output_type": "stream",
     "text": [
      "Total Processing time: 0:01:14.901483\n"
     ]
    }
   ],
   "source": [
    "_generation_images_start = dt.now()\n",
    "\n",
    "# Performed 300 iterations\n",
    "for idx, weights in enumerate(weights_history):     \n",
    "    model.set_weights(weights)\n",
    "    _predictions = model.predict(train_x, verbose=0)\n",
    "    \n",
    "    plt.figure(figsize=(10, 10))\n",
    "    plt.title(f'Epoch: {idx}')\n",
    "    plt.scatter(train_x, train_y, label='Actual')\n",
    "    plt.scatter(train_x, _predictions, label='Predicted')\n",
    "    plt.xlabel('Input')\n",
    "    plt.ylabel('Output')\n",
    "    plt.legend(loc='upper left')\n",
    "    \n",
    "    _temp_image_filename = f'temp_{idx:04d}.png'\n",
    "    plt.savefig(os.path.join(TEMP_PATH, _temp_image_filename))\n",
    "    \n",
    "    # None Display Images\n",
    "    plt.close()\n",
    "    \n",
    "print(f'Total Processing Time: {dt.now() - _generation_images_start}')"
   ]
  },
  {
   "cell_type": "markdown",
   "metadata": {},
   "source": [
    "* Creating Animation"
   ]
  },
  {
   "cell_type": "code",
   "execution_count": 12,
   "metadata": {},
   "outputs": [
    {
     "name": "stderr",
     "output_type": "stream",
     "text": [
      "/tmp/ipykernel_37509/1996359379.py:10: DeprecationWarning: Starting with ImageIO v3 the behavior of this function will switch to that of iio.v3.imread. To keep the current behavior (and make this warning disappear) use `import imageio.v2 as imageio` or call `imageio.v2.imread` directly.\n",
      "  _mem_frame = imageio.imread(_frame_path)\n"
     ]
    },
    {
     "name": "stdout",
     "output_type": "stream",
     "text": [
      "Total Processing Time: 0:00:13.496046\n"
     ]
    }
   ],
   "source": [
    "ANIMATION_FILENAME = 'training_animation.gif'\n",
    "\n",
    "_animations = []\n",
    "frames = [img for img in os.listdir(TEMP_PATH) if img.endswith('.png')]\n",
    "frames.sort()\n",
    "\n",
    "_creating_start = dt.now()\n",
    "for frame in frames:\n",
    "    _frame_path = os.path.join(TEMP_PATH, frame)\n",
    "    _mem_frame = imageio.imread(_frame_path)\n",
    "    _animations.append(_mem_frame)\n",
    "    os.remove(_frame_path)\n",
    "    \n",
    "imageio.mimsave(ANIMATION_FILENAME, _animations, format='GIF', duration=0.5)\n",
    "\n",
    "print(f'Total Processing Time: {dt.now() - _creating_start}')\n",
    "\n",
    "try:\n",
    "    os.rmdir(TEMP_PATH)\n",
    "except OSError as e:\n",
    "    print(f'Error deleting directory: {e}')"
   ]
  },
  {
   "cell_type": "code",
   "execution_count": null,
   "metadata": {},
   "outputs": [],
   "source": []
  }
 ],
 "metadata": {
  "kernelspec": {
   "display_name": "t212p38",
   "language": "python",
   "name": "python3"
  },
  "language_info": {
   "codemirror_mode": {
    "name": "ipython",
    "version": 3
   },
   "file_extension": ".py",
   "mimetype": "text/x-python",
   "name": "python",
   "nbconvert_exporter": "python",
   "pygments_lexer": "ipython3",
   "version": "3.8.17"
  },
  "orig_nbformat": 4
 },
 "nbformat": 4,
 "nbformat_minor": 2
}
