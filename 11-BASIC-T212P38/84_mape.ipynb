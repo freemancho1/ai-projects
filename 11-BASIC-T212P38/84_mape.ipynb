{
 "cells": [
  {
   "cell_type": "code",
   "execution_count": 1,
   "metadata": {},
   "outputs": [],
   "source": [
    "import numpy as np"
   ]
  },
  {
   "cell_type": "code",
   "execution_count": 38,
   "metadata": {},
   "outputs": [],
   "source": [
    "def get_mape(y_test, pred):\n",
    "    if len(y_test) != len(pred):\n",
    "        raise ValueError(\n",
    "            '실제 목록과 예측 목록의 길이는 동일해야 합니다.'\n",
    "        )\n",
    "    \n",
    "    max_value = max(y_test)\n",
    "    \n",
    "    mape = 0\n",
    "    epsilon = 0.1\n",
    "    for i in range(len(y_test)):\n",
    "        if y_test[i] == 0\n",
    "        \n",
    "        y = y_test[i] if y_test[i] != 0 else epsilon\n",
    "        mape += abs((y_test[i] - pred[i]) / y) * 100\n",
    "        \n",
    "    return mape / len(y_test)"
   ]
  },
  {
   "cell_type": "code",
   "execution_count": 40,
   "metadata": {},
   "outputs": [
    {
     "name": "stdout",
     "output_type": "stream",
     "text": [
      "100.0\n"
     ]
    }
   ],
   "source": [
    "actual = [1]\n",
    "predict = [2]\n",
    "\n",
    "try:\n",
    "    print(get_mape(actual, predict))\n",
    "except ValueError as ve:\n",
    "    print(ve)\n",
    "except Exception as e:\n",
    "    print(e)"
   ]
  },
  {
   "cell_type": "code",
   "execution_count": null,
   "metadata": {},
   "outputs": [],
   "source": []
  }
 ],
 "metadata": {
  "kernelspec": {
   "display_name": "t213p310",
   "language": "python",
   "name": "python3"
  },
  "language_info": {
   "codemirror_mode": {
    "name": "ipython",
    "version": 3
   },
   "file_extension": ".py",
   "mimetype": "text/x-python",
   "name": "python",
   "nbconvert_exporter": "python",
   "pygments_lexer": "ipython3",
   "version": "3.10.12"
  },
  "orig_nbformat": 4
 },
 "nbformat": 4,
 "nbformat_minor": 2
}
