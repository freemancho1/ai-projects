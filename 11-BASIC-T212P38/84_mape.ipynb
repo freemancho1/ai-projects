{
 "cells": [
  {
   "cell_type": "code",
   "execution_count": 1,
   "metadata": {},
   "outputs": [],
   "source": [
    "import numpy as np"
   ]
  },
  {
   "cell_type": "code",
   "execution_count": 28,
   "metadata": {},
   "outputs": [],
   "source": [
    "def get_mape1(y_test, pred):\n",
    "    if len(y_test) != len(pred):\n",
    "        raise ValueError(\n",
    "            '실제 목록과 예측 목록의 길이는 동일해야 합니다.'\n",
    "        )\n",
    "    \n",
    "    max_value = max(np.max(y_test), 1)\n",
    "    mape = 0\n",
    "\n",
    "    for i in range(len(y_test)):\n",
    "        (y, p) = (max_value, pred[i]+max_value) if y_test[i] < 0.1 else (y_test[i], pred[i])\n",
    "        mape += abs((y-p) / y) * 100\n",
    "        \n",
    "    return mape / len(y_test)"
   ]
  },
  {
   "cell_type": "code",
   "execution_count": 25,
   "metadata": {},
   "outputs": [],
   "source": [
    "def get_mape2(y_test, pred):\n",
    "    if len(y_test) != len(pred):\n",
    "        raise ValueError(\n",
    "            '실제 목록과 예측 목록의 길이는 동일해야 합니다.'\n",
    "        )\n",
    "    \n",
    "    mape = 0\n",
    "    for i in range(len(y_test)):\n",
    "        y = y_test[i] if y_test[i] != 0 else 1e-10\n",
    "        mape += abs((y-pred[i]) / y) * 100\n",
    "        \n",
    "    return mape / len(y_test)"
   ]
  },
  {
   "cell_type": "code",
   "execution_count": 26,
   "metadata": {},
   "outputs": [
    {
     "name": "stdout",
     "output_type": "stream",
     "text": [
      "66.39999999999999 66666666634.0\n"
     ]
    }
   ],
   "source": [
    "actual = [0, 100, -200]\n",
    "predict = [0.2, 101, -198]\n",
    "\n",
    "print(get_mape1(actual, predict), get_mape2(actual, predict))\n",
    "\n",
    "\n",
    "# try:\n",
    "#     print(get_mape1(actual, predict), get_mape2(actual, predict))\n",
    "# except ValueError as ve:\n",
    "#     print(ve)\n",
    "# except Exception as e:\n",
    "#     print(e)"
   ]
  },
  {
   "cell_type": "code",
   "execution_count": 27,
   "metadata": {},
   "outputs": [
    {
     "name": "stdout",
     "output_type": "stream",
     "text": [
      "0.6499999999999986 100.49999999999999\n"
     ]
    }
   ],
   "source": [
    "actual = [0.1, 100,]\n",
    "predict = [0.3, 101]\n",
    "\n",
    "print(get_mape1(actual, predict), get_mape2(actual, predict))"
   ]
  },
  {
   "cell_type": "code",
   "execution_count": 11,
   "metadata": {},
   "outputs": [
    {
     "name": "stdout",
     "output_type": "stream",
     "text": [
      "max_value: 0.1\n",
      "175.0 175.0\n"
     ]
    }
   ],
   "source": [
    "actual = [-1, -2]\n",
    "predict = [1, 1]\n",
    "print(get_mape1(actual, predict), get_mape2(actual, predict))"
   ]
  },
  {
   "cell_type": "code",
   "execution_count": null,
   "metadata": {},
   "outputs": [],
   "source": []
  }
 ],
 "metadata": {
  "kernelspec": {
   "display_name": "t213p310",
   "language": "python",
   "name": "python3"
  },
  "language_info": {
   "codemirror_mode": {
    "name": "ipython",
    "version": 3
   },
   "file_extension": ".py",
   "mimetype": "text/x-python",
   "name": "python",
   "nbconvert_exporter": "python",
   "pygments_lexer": "ipython3",
   "version": "3.10.12"
  },
  "orig_nbformat": 4
 },
 "nbformat": 4,
 "nbformat_minor": 2
}
