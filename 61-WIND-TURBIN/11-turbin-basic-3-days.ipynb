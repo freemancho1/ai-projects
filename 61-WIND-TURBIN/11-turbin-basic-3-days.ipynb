{
 "cells": [
  {
   "cell_type": "code",
   "execution_count": 1,
   "metadata": {},
   "outputs": [],
   "source": [
    "import os\n",
    "import numpy as np\n",
    "import pandas as pd\n",
    "\n",
    "from datetime import datetime\n",
    "\n",
    "import matplotlib.pyplot as plt \n",
    "import seaborn as sns"
   ]
  },
  {
   "cell_type": "code",
   "execution_count": 2,
   "metadata": {},
   "outputs": [],
   "source": [
    "import platform\n",
    "import matplotlib.font_manager as fm\n",
    "\n",
    "_os_name = platform.system()\n",
    "\n",
    "# font_path는 사용할 폰트에 따라 변경하면 됨\n",
    "_font_path = 'c:/Windows/Fonts/malgun.ttf' if _os_name=='Windows' \\\n",
    "    else '/usr/share/fonts/truetype/nanum/NanumGothic.ttf'\n",
    "_font_family = fm.FontProperties(fname=_font_path).get_name()\n",
    "\n",
    "# font 설정\n",
    "plt.rcParams['font.family'] = _font_family\n",
    "\n",
    "# 폰트캐시까지 삭제 후 한글폰트가 사용될 수 있도록 캐시 삭제\n",
    "# --> 이렇게 해야 비로소 한글이 표현되는 경우가 많음\n",
    "plt.rcParams['font.family'] = 'sans-serif'\n",
    "plt.rcParams['font.sans-serif'] = [_font_family]\n",
    "\n",
    "_fe = fm.FontEntry(\n",
    "    fname='/usr/share/fonts/truetype/nanum/NanumGothic.ttf',\n",
    "    name='NanumGothic'\n",
    ")\n",
    "fm.fontManager.ttflist.insert(0, _fe)"
   ]
  },
  {
   "cell_type": "code",
   "execution_count": 3,
   "metadata": {},
   "outputs": [],
   "source": [
    "_PATH_BASE = os.path.join(os.getcwd(), 'data', '41-turbin')\n",
    "get_path = lambda turbin: os.path.join(_PATH_BASE, f'{turbin}_turbin.csv')"
   ]
  },
  {
   "cell_type": "code",
   "execution_count": 4,
   "metadata": {},
   "outputs": [],
   "source": [
    "df_data = pd.read_csv(get_path('b'))"
   ]
  },
  {
   "cell_type": "code",
   "execution_count": 5,
   "metadata": {},
   "outputs": [],
   "source": [
    "# 처음 2개와 마지막 4개\n",
    "df_data = df_data.iloc[2:-4]\n",
    "\n",
    "# 기존 인덱스를 컬럼으로 변경하고 새 인덱스를 생성함\n",
    "df_data.reset_index(inplace=True)\n",
    "# 기존 인덱스 제거\n",
    "df_data.drop('index', axis=1, inplace=True)"
   ]
  },
  {
   "cell_type": "code",
   "execution_count": 6,
   "metadata": {},
   "outputs": [],
   "source": [
    "df_data_back = df_data.copy()"
   ]
  },
  {
   "cell_type": "code",
   "execution_count": 7,
   "metadata": {},
   "outputs": [],
   "source": [
    "target_col = 'ACTIVE_POWER'"
   ]
  },
  {
   "cell_type": "code",
   "execution_count": 8,
   "metadata": {},
   "outputs": [],
   "source": [
    "# 결측치 처리\n",
    "# 발전량이 음수인 컬럼의 풍향/풍속/발전량 값을 NaN으로 변경\n",
    "df_data.loc[df_data[target_col] < 0, ['WIND_SPEED', 'WIND_DIR']+[target_col]] = np.nan"
   ]
  },
  {
   "cell_type": "code",
   "execution_count": 9,
   "metadata": {},
   "outputs": [],
   "source": [
    "# 시계열성값을 이용한 결측치 처리\n",
    "df_data = df_data.interpolate()"
   ]
  },
  {
   "cell_type": "code",
   "execution_count": 10,
   "metadata": {},
   "outputs": [
    {
     "data": {
      "text/plain": [
       "TURBINE_TIME    0\n",
       "WIND_SPEED      0\n",
       "WIND_DIR        0\n",
       "ACTIVE_POWER    0\n",
       "month           0\n",
       "hour            0\n",
       "dtype: int64"
      ]
     },
     "execution_count": 10,
     "metadata": {},
     "output_type": "execute_result"
    }
   ],
   "source": [
    "df_data.isna().sum()"
   ]
  },
  {
   "cell_type": "code",
   "execution_count": 19,
   "metadata": {},
   "outputs": [],
   "source": [
    "df_temp = df_data.head(24*10)"
   ]
  },
  {
   "cell_type": "code",
   "execution_count": 20,
   "metadata": {},
   "outputs": [
    {
     "name": "stdout",
     "output_type": "stream",
     "text": [
      "<class 'pandas.core.frame.DataFrame'>\n",
      "RangeIndex: 240 entries, 0 to 239\n",
      "Data columns (total 6 columns):\n",
      " #   Column        Non-Null Count  Dtype  \n",
      "---  ------        --------------  -----  \n",
      " 0   TURBINE_TIME  240 non-null    object \n",
      " 1   WIND_SPEED    240 non-null    float64\n",
      " 2   WIND_DIR      240 non-null    float64\n",
      " 3   ACTIVE_POWER  240 non-null    float64\n",
      " 4   month         240 non-null    int64  \n",
      " 5   hour          240 non-null    int64  \n",
      "dtypes: float64(3), int64(2), object(1)\n",
      "memory usage: 11.4+ KB\n"
     ]
    }
   ],
   "source": [
    "df_temp.info()"
   ]
  },
  {
   "cell_type": "code",
   "execution_count": 21,
   "metadata": {},
   "outputs": [
    {
     "name": "stderr",
     "output_type": "stream",
     "text": [
      "/tmp/ipykernel_13462/1259282367.py:1: SettingWithCopyWarning: \n",
      "A value is trying to be set on a copy of a slice from a DataFrame.\n",
      "Try using .loc[row_indexer,col_indexer] = value instead\n",
      "\n",
      "See the caveats in the documentation: https://pandas.pydata.org/pandas-docs/stable/user_guide/indexing.html#returning-a-view-versus-a-copy\n",
      "  df_temp['TURBINE_TIME'] = pd.to_datetime(df_temp['TURBINE_TIME'])\n"
     ]
    }
   ],
   "source": [
    "df_temp['TURBINE_TIME'] = pd.to_datetime(df_temp['TURBINE_TIME'])\n",
    "df_temp.set_index('TURBINE_TIME', inplace=True)\n",
    "df_temp.index.name='index'"
   ]
  },
  {
   "cell_type": "code",
   "execution_count": 22,
   "metadata": {},
   "outputs": [
    {
     "name": "stdout",
     "output_type": "stream",
     "text": [
      "<class 'pandas.core.frame.DataFrame'>\n",
      "DatetimeIndex: 240 entries, 2020-01-16 00:00:00 to 2020-01-25 23:00:00\n",
      "Data columns (total 5 columns):\n",
      " #   Column        Non-Null Count  Dtype  \n",
      "---  ------        --------------  -----  \n",
      " 0   WIND_SPEED    240 non-null    float64\n",
      " 1   WIND_DIR      240 non-null    float64\n",
      " 2   ACTIVE_POWER  240 non-null    float64\n",
      " 3   month         240 non-null    int64  \n",
      " 4   hour          240 non-null    int64  \n",
      "dtypes: float64(3), int64(2)\n",
      "memory usage: 11.2 KB\n"
     ]
    }
   ],
   "source": [
    "df_temp.info()"
   ]
  },
  {
   "cell_type": "code",
   "execution_count": 25,
   "metadata": {},
   "outputs": [],
   "source": [
    "df_temp_daily = df_temp.resample('D').agg({\n",
    "    'WIND_SPEED': ['mean', 'sum', 'min', 'max'], \n",
    "    'WIND_DIR': ['mean', 'sum', 'min', 'max'], \n",
    "    'ACTIVE_POWER': ['mean', 'sum', 'min', 'max']\n",
    "})\n",
    "\n",
    "df_temp_daily.columns = [f'{col}_{stat}' for col, stat in df_temp_daily.columns]"
   ]
  },
  {
   "cell_type": "code",
   "execution_count": 24,
   "metadata": {},
   "outputs": [
    {
     "data": {
      "text/html": [
       "<div>\n",
       "<style scoped>\n",
       "    .dataframe tbody tr th:only-of-type {\n",
       "        vertical-align: middle;\n",
       "    }\n",
       "\n",
       "    .dataframe tbody tr th {\n",
       "        vertical-align: top;\n",
       "    }\n",
       "\n",
       "    .dataframe thead tr th {\n",
       "        text-align: left;\n",
       "    }\n",
       "\n",
       "    .dataframe thead tr:last-of-type th {\n",
       "        text-align: right;\n",
       "    }\n",
       "</style>\n",
       "<table border=\"1\" class=\"dataframe\">\n",
       "  <thead>\n",
       "    <tr>\n",
       "      <th></th>\n",
       "      <th colspan=\"4\" halign=\"left\">WIND_SPEED</th>\n",
       "      <th colspan=\"4\" halign=\"left\">WIND_DIR</th>\n",
       "      <th colspan=\"4\" halign=\"left\">ACTIVE_POWER</th>\n",
       "    </tr>\n",
       "    <tr>\n",
       "      <th></th>\n",
       "      <th>mean</th>\n",
       "      <th>sum</th>\n",
       "      <th>min</th>\n",
       "      <th>max</th>\n",
       "      <th>mean</th>\n",
       "      <th>sum</th>\n",
       "      <th>min</th>\n",
       "      <th>max</th>\n",
       "      <th>mean</th>\n",
       "      <th>sum</th>\n",
       "      <th>min</th>\n",
       "      <th>max</th>\n",
       "    </tr>\n",
       "    <tr>\n",
       "      <th>index</th>\n",
       "      <th></th>\n",
       "      <th></th>\n",
       "      <th></th>\n",
       "      <th></th>\n",
       "      <th></th>\n",
       "      <th></th>\n",
       "      <th></th>\n",
       "      <th></th>\n",
       "      <th></th>\n",
       "      <th></th>\n",
       "      <th></th>\n",
       "      <th></th>\n",
       "    </tr>\n",
       "  </thead>\n",
       "  <tbody>\n",
       "    <tr>\n",
       "      <th>2020-01-16</th>\n",
       "      <td>5.292346</td>\n",
       "      <td>127.016299</td>\n",
       "      <td>3.590000</td>\n",
       "      <td>7.610000</td>\n",
       "      <td>0.160285</td>\n",
       "      <td>3.846831</td>\n",
       "      <td>-4.751667</td>\n",
       "      <td>5.603333</td>\n",
       "      <td>616.109519</td>\n",
       "      <td>14786.628457</td>\n",
       "      <td>125.820000</td>\n",
       "      <td>1693.653333</td>\n",
       "    </tr>\n",
       "    <tr>\n",
       "      <th>2020-01-17</th>\n",
       "      <td>5.445016</td>\n",
       "      <td>130.680395</td>\n",
       "      <td>3.231667</td>\n",
       "      <td>7.315000</td>\n",
       "      <td>0.026999</td>\n",
       "      <td>0.647966</td>\n",
       "      <td>-3.991667</td>\n",
       "      <td>5.363333</td>\n",
       "      <td>696.514745</td>\n",
       "      <td>16716.353870</td>\n",
       "      <td>84.915000</td>\n",
       "      <td>1493.343333</td>\n",
       "    </tr>\n",
       "    <tr>\n",
       "      <th>2020-01-18</th>\n",
       "      <td>4.530940</td>\n",
       "      <td>108.742548</td>\n",
       "      <td>2.958065</td>\n",
       "      <td>6.525000</td>\n",
       "      <td>-1.173481</td>\n",
       "      <td>-28.163552</td>\n",
       "      <td>-10.466667</td>\n",
       "      <td>2.945000</td>\n",
       "      <td>379.876276</td>\n",
       "      <td>9117.030624</td>\n",
       "      <td>29.477778</td>\n",
       "      <td>1023.400000</td>\n",
       "    </tr>\n",
       "    <tr>\n",
       "      <th>2020-01-19</th>\n",
       "      <td>4.192735</td>\n",
       "      <td>100.625641</td>\n",
       "      <td>2.700000</td>\n",
       "      <td>6.881667</td>\n",
       "      <td>-0.484117</td>\n",
       "      <td>-11.618802</td>\n",
       "      <td>-11.200000</td>\n",
       "      <td>4.105000</td>\n",
       "      <td>296.911928</td>\n",
       "      <td>7125.886260</td>\n",
       "      <td>2.900000</td>\n",
       "      <td>1152.365000</td>\n",
       "    </tr>\n",
       "    <tr>\n",
       "      <th>2020-01-20</th>\n",
       "      <td>5.905877</td>\n",
       "      <td>141.741045</td>\n",
       "      <td>4.381667</td>\n",
       "      <td>7.446667</td>\n",
       "      <td>0.624342</td>\n",
       "      <td>14.984209</td>\n",
       "      <td>-3.241667</td>\n",
       "      <td>5.630000</td>\n",
       "      <td>790.340208</td>\n",
       "      <td>18968.165000</td>\n",
       "      <td>284.120000</td>\n",
       "      <td>1551.218333</td>\n",
       "    </tr>\n",
       "  </tbody>\n",
       "</table>\n",
       "</div>"
      ],
      "text/plain": [
       "           WIND_SPEED                                  WIND_DIR             \\\n",
       "                 mean         sum       min       max      mean        sum   \n",
       "index                                                                        \n",
       "2020-01-16   5.292346  127.016299  3.590000  7.610000  0.160285   3.846831   \n",
       "2020-01-17   5.445016  130.680395  3.231667  7.315000  0.026999   0.647966   \n",
       "2020-01-18   4.530940  108.742548  2.958065  6.525000 -1.173481 -28.163552   \n",
       "2020-01-19   4.192735  100.625641  2.700000  6.881667 -0.484117 -11.618802   \n",
       "2020-01-20   5.905877  141.741045  4.381667  7.446667  0.624342  14.984209   \n",
       "\n",
       "                                ACTIVE_POWER                            \\\n",
       "                  min       max         mean           sum         min   \n",
       "index                                                                    \n",
       "2020-01-16  -4.751667  5.603333   616.109519  14786.628457  125.820000   \n",
       "2020-01-17  -3.991667  5.363333   696.514745  16716.353870   84.915000   \n",
       "2020-01-18 -10.466667  2.945000   379.876276   9117.030624   29.477778   \n",
       "2020-01-19 -11.200000  4.105000   296.911928   7125.886260    2.900000   \n",
       "2020-01-20  -3.241667  5.630000   790.340208  18968.165000  284.120000   \n",
       "\n",
       "                         \n",
       "                    max  \n",
       "index                    \n",
       "2020-01-16  1693.653333  \n",
       "2020-01-17  1493.343333  \n",
       "2020-01-18  1023.400000  \n",
       "2020-01-19  1152.365000  \n",
       "2020-01-20  1551.218333  "
      ]
     },
     "execution_count": 24,
     "metadata": {},
     "output_type": "execute_result"
    }
   ],
   "source": [
    "df_temp_daily.head()"
   ]
  },
  {
   "cell_type": "code",
   "execution_count": null,
   "metadata": {},
   "outputs": [],
   "source": []
  }
 ],
 "metadata": {
  "kernelspec": {
   "display_name": "t213p310",
   "language": "python",
   "name": "python3"
  },
  "language_info": {
   "codemirror_mode": {
    "name": "ipython",
    "version": 3
   },
   "file_extension": ".py",
   "mimetype": "text/x-python",
   "name": "python",
   "nbconvert_exporter": "python",
   "pygments_lexer": "ipython3",
   "version": "3.10.12"
  },
  "orig_nbformat": 4
 },
 "nbformat": 4,
 "nbformat_minor": 2
}
