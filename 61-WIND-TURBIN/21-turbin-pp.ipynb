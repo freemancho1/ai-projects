{
 "cells": [
  {
   "cell_type": "markdown",
   "metadata": {},
   "source": [
    "#### 라이브러리 불러오기"
   ]
  },
  {
   "cell_type": "code",
   "execution_count": 1,
   "metadata": {},
   "outputs": [],
   "source": [
    "import os\n",
    "\n",
    "import numpy as np\n",
    "import pandas as pd"
   ]
  },
  {
   "cell_type": "code",
   "execution_count": 2,
   "metadata": {},
   "outputs": [],
   "source": [
    "_PATH_BASE = os.path.join(os.getcwd(), 'data')\n",
    "get_path = lambda turbin: os.path.join(_PATH_BASE, f'{turbin}_turbin.csv')\n",
    "df_data = pd.read_csv(get_path('b'))"
   ]
  },
  {
   "cell_type": "markdown",
   "metadata": {},
   "source": [
    "#### 하루단위가 안되는 ROW 삭제"
   ]
  },
  {
   "cell_type": "code",
   "execution_count": 3,
   "metadata": {},
   "outputs": [],
   "source": [
    "df_data = df_data.iloc[2:-4]"
   ]
  },
  {
   "cell_type": "code",
   "execution_count": 4,
   "metadata": {},
   "outputs": [],
   "source": [
    "# 기존 인덱스 갱신\n",
    "df_data.reset_index(inplace=True)\n",
    "df_data.drop('index', axis=1, inplace=True)"
   ]
  },
  {
   "cell_type": "code",
   "execution_count": 5,
   "metadata": {},
   "outputs": [
    {
     "data": {
      "text/plain": [
       "(9353, 6)"
      ]
     },
     "execution_count": 5,
     "metadata": {},
     "output_type": "execute_result"
    }
   ],
   "source": [
    "target_col = 'ACTIVE_POWER'\n",
    "df_data[df_data[target_col]==-1].shape"
   ]
  },
  {
   "cell_type": "code",
   "execution_count": 6,
   "metadata": {},
   "outputs": [
    {
     "data": {
      "text/plain": [
       "WIND_SPEED       9353\n",
       "WIND_DIR        15108\n",
       "ACTIVE_POWER     9353\n",
       "month               0\n",
       "hour                0\n",
       "dtype: int64"
      ]
     },
     "execution_count": 6,
     "metadata": {},
     "output_type": "execute_result"
    }
   ],
   "source": [
    "non_value_counts = (df_data.drop('TURBINE_TIME', axis=1) < 0).sum()\n",
    "non_value_counts"
   ]
  },
  {
   "cell_type": "code",
   "execution_count": 7,
   "metadata": {},
   "outputs": [],
   "source": [
    "# 발전량이 음수인 컬럼의 풍향/풍속/발전량 값을 NaN으로 변경\n",
    "df_data.loc[df_data[target_col] < 0, ['WIND_SPEED', 'WIND_DIR']+[target_col]] = np.nan"
   ]
  },
  {
   "cell_type": "code",
   "execution_count": 8,
   "metadata": {},
   "outputs": [],
   "source": [
    "# 시계열성값을 이용한 결측치 처리\n",
    "df_data = df_data.interpolate()"
   ]
  },
  {
   "cell_type": "markdown",
   "metadata": {},
   "source": [
    "#### 풍향/풍속을 이용해 바람벡터 생성"
   ]
  },
  {
   "cell_type": "code",
   "execution_count": 9,
   "metadata": {},
   "outputs": [],
   "source": [
    "ws = df_data.pop('WIND_SPEED')\n",
    "wd = df_data.pop('WIND_DIR')\n",
    "wd_radian = wd * np.pi /180\n",
    "\n",
    "df_data['ws_X'] = ws * np.cos(wd_radian)\n",
    "df_data['ws_y'] = ws * np.sin(wd_radian)"
   ]
  },
  {
   "cell_type": "markdown",
   "metadata": {},
   "source": [
    "#### 시간데이터에 일간/년간 주기성 부여"
   ]
  },
  {
   "cell_type": "code",
   "execution_count": 10,
   "metadata": {},
   "outputs": [],
   "source": [
    "day = 24 * 60 * 60\n",
    "year = 365.2425 * day\n",
    "df_data['TURBINE_TIME'] = pd.to_datetime(df_data['TURBINE_TIME'])\n",
    "df_data.set_index('TURBINE_TIME', inplace=True)"
   ]
  },
  {
   "cell_type": "code",
   "execution_count": 12,
   "metadata": {},
   "outputs": [],
   "source": [
    "timestampe_s = df_data.index.map(pd.Timestamp.timestamp)\n",
    "df_data['day_sin'] = np.sin(timestampe_s * (2 * np.pi / day))\n",
    "df_data['day_cos'] = np.cos(timestampe_s * (2 * np.pi / day))\n",
    "df_data['year_sin'] = np.sin(timestampe_s * (2 * np.pi / year))\n",
    "df_data['year_cos'] = np.cos(timestampe_s * (2 * np.pi / year))"
   ]
  },
  {
   "cell_type": "code",
   "execution_count": 13,
   "metadata": {},
   "outputs": [],
   "source": [
    "data_size, n_features = df_data.shape\n",
    "\n",
    "df_train = df_data[:int(data_size * 0.7)]\n",
    "df_valid = df_data[int(data_size * 0.7): int(data_size * 0.9)]\n",
    "df_test = df_data[int(data_size * 0.9):] "
   ]
  },
  {
   "cell_type": "code",
   "execution_count": 14,
   "metadata": {},
   "outputs": [],
   "source": [
    "df_train.to_csv(os.path.join(_PATH_BASE, 'b_train.csv'), index=False)\n",
    "df_valid.to_csv(os.path.join(_PATH_BASE, 'b_valid.csv'), index=False)\n",
    "df_test.to_csv(os.path.join(_PATH_BASE, 'b_test.csv'), index=False)"
   ]
  },
  {
   "cell_type": "code",
   "execution_count": null,
   "metadata": {},
   "outputs": [],
   "source": []
  }
 ],
 "metadata": {
  "kernelspec": {
   "display_name": "t213p310",
   "language": "python",
   "name": "python3"
  },
  "language_info": {
   "codemirror_mode": {
    "name": "ipython",
    "version": 3
   },
   "file_extension": ".py",
   "mimetype": "text/x-python",
   "name": "python",
   "nbconvert_exporter": "python",
   "pygments_lexer": "ipython3",
   "version": "3.10.12"
  },
  "orig_nbformat": 4
 },
 "nbformat": 4,
 "nbformat_minor": 2
}
