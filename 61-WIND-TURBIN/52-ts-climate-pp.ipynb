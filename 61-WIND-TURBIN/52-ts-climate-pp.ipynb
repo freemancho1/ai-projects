{
 "cells": [
  {
   "cell_type": "markdown",
   "metadata": {},
   "source": [
    "#### 라이브러리 불러오기"
   ]
  },
  {
   "cell_type": "code",
   "execution_count": 1,
   "metadata": {},
   "outputs": [
    {
     "name": "stderr",
     "output_type": "stream",
     "text": [
      "2023-08-30 09:58:37.735474: I tensorflow/core/platform/cpu_feature_guard.cc:182] This TensorFlow binary is optimized to use available CPU instructions in performance-critical operations.\n",
      "To enable the following instructions: AVX2 AVX512F FMA, in other operations, rebuild TensorFlow with the appropriate compiler flags.\n"
     ]
    }
   ],
   "source": [
    "import os\n",
    "\n",
    "import numpy as np\n",
    "import pandas as pd"
   ]
  },
  {
   "cell_type": "markdown",
   "metadata": {},
   "source": [
    "#### 데이터 불러오기"
   ]
  },
  {
   "cell_type": "code",
   "execution_count": 2,
   "metadata": {},
   "outputs": [],
   "source": [
    "_PATH_BASE = os.path.join(os.getcwd(), 'data')\n",
    "_PATH_DATA_FILE = os.path.join(_PATH_BASE, 'climate_2009_2016.csv')\n",
    "\n",
    "if os.path.exists(_PATH_DATA_FILE):\n",
    "    df_climate = pd.read_csv(_PATH_DATA_FILE)\n",
    "else:\n",
    "    _WEB_FILE_PATH = tf.keras.utils.get_file(\n",
    "        origin='https://storage.googleapis.com/tensorflow/tf-keras-datasets/jena_climate_2009_2016.csv.zip',\n",
    "        fname='jena_climate_2009_2016.csv.zip',\n",
    "        extract=True\n",
    "    )\n",
    "    _CSV_PATH, _ = os.path.splitext(_WEB_FILE_PATH)\n",
    "    df_climate = pd.read_csv(_CSV_PATH)\n",
    "    df_climate.to_csv(_PATH_DATA_FILE, index=False)"
   ]
  },
  {
   "cell_type": "markdown",
   "metadata": {},
   "source": [
    "#### 데이터 전처리"
   ]
  },
  {
   "cell_type": "markdown",
   "metadata": {},
   "source": [
    "##### 10분단위 데이터 -> 시간단위 데이터"
   ]
  },
  {
   "cell_type": "code",
   "execution_count": 3,
   "metadata": {},
   "outputs": [],
   "source": [
    "# 10분단위로 들어온 데이터를 시간당 한건만 추출하는 방법\n",
    "# df_climate = df_climate[5::6]     # 5번째 로우부터 6로우(60분) 간격으로 하나씩 추출\n",
    "\n",
    "# 해당시간대의 평균값으로 시간별 데이터 추출\n",
    "df_climate['Date Time'] = \\\n",
    "    pd.to_datetime(df_climate['Date Time'], format='%d.%m.%Y %H:%M:%S')\n",
    "    \n",
    "# 시계열데이터가 인덱스가 아니면, 아래 resample()이 처리되지 않음\n",
    "df_climate.set_index('Date Time', inplace=True)\n",
    "df_climate = df_climate.resample('H').mean()"
   ]
  },
  {
   "cell_type": "markdown",
   "metadata": {},
   "source": [
    "##### 풍속/최대풍속 음수값 처리"
   ]
  },
  {
   "cell_type": "code",
   "execution_count": 4,
   "metadata": {},
   "outputs": [],
   "source": [
    "# 아래 두 행은 같은 방법임\n",
    "# 이 두 행은 조건에 의해 특정 컬럼값을 변경시키는 방법임(같은 기능)\n",
    "df_climate['wv (m/s)'][df_climate['wv (m/s)'] < 0.0] = 0.0\n",
    "# df_climate.loc[df_climate['wv (m/s)'] < 0.0, 'wv (m/s)'] = 0.0\n",
    "df_climate['max. wv (m/s)'] = df_climate['max. wv (m/s)'].apply(lambda x: max(0,x))"
   ]
  },
  {
   "cell_type": "code",
   "execution_count": 5,
   "metadata": {},
   "outputs": [
    {
     "data": {
      "text/html": [
       "<div>\n",
       "<style scoped>\n",
       "    .dataframe tbody tr th:only-of-type {\n",
       "        vertical-align: middle;\n",
       "    }\n",
       "\n",
       "    .dataframe tbody tr th {\n",
       "        vertical-align: top;\n",
       "    }\n",
       "\n",
       "    .dataframe thead th {\n",
       "        text-align: right;\n",
       "    }\n",
       "</style>\n",
       "<table border=\"1\" class=\"dataframe\">\n",
       "  <thead>\n",
       "    <tr style=\"text-align: right;\">\n",
       "      <th></th>\n",
       "      <th>count</th>\n",
       "      <th>mean</th>\n",
       "      <th>std</th>\n",
       "      <th>min</th>\n",
       "      <th>25%</th>\n",
       "      <th>50%</th>\n",
       "      <th>75%</th>\n",
       "      <th>max</th>\n",
       "    </tr>\n",
       "  </thead>\n",
       "  <tbody>\n",
       "    <tr>\n",
       "      <th>p (mbar)</th>\n",
       "      <td>70041.0</td>\n",
       "      <td>989.214359</td>\n",
       "      <td>8.358615</td>\n",
       "      <td>934.905000</td>\n",
       "      <td>984.206667</td>\n",
       "      <td>989.570000</td>\n",
       "      <td>994.726667</td>\n",
       "      <td>1015.243333</td>\n",
       "    </tr>\n",
       "    <tr>\n",
       "      <th>T (degC)</th>\n",
       "      <td>70041.0</td>\n",
       "      <td>9.442390</td>\n",
       "      <td>8.414647</td>\n",
       "      <td>-22.653333</td>\n",
       "      <td>3.358333</td>\n",
       "      <td>9.410000</td>\n",
       "      <td>15.461667</td>\n",
       "      <td>37.038333</td>\n",
       "    </tr>\n",
       "    <tr>\n",
       "      <th>Tpot (K)</th>\n",
       "      <td>70041.0</td>\n",
       "      <td>283.484834</td>\n",
       "      <td>8.495644</td>\n",
       "      <td>250.970000</td>\n",
       "      <td>277.430000</td>\n",
       "      <td>283.455000</td>\n",
       "      <td>289.515000</td>\n",
       "      <td>310.976667</td>\n",
       "    </tr>\n",
       "    <tr>\n",
       "      <th>Tdew (degC)</th>\n",
       "      <td>70041.0</td>\n",
       "      <td>4.953446</td>\n",
       "      <td>6.727769</td>\n",
       "      <td>-24.601667</td>\n",
       "      <td>0.233333</td>\n",
       "      <td>5.215000</td>\n",
       "      <td>10.068333</td>\n",
       "      <td>23.016667</td>\n",
       "    </tr>\n",
       "    <tr>\n",
       "      <th>rh (%)</th>\n",
       "      <td>70041.0</td>\n",
       "      <td>76.028671</td>\n",
       "      <td>16.385638</td>\n",
       "      <td>13.683333</td>\n",
       "      <td>65.308333</td>\n",
       "      <td>79.266667</td>\n",
       "      <td>89.350000</td>\n",
       "      <td>100.000000</td>\n",
       "    </tr>\n",
       "    <tr>\n",
       "      <th>VPmax (mbar)</th>\n",
       "      <td>70041.0</td>\n",
       "      <td>13.568619</td>\n",
       "      <td>7.725238</td>\n",
       "      <td>0.980000</td>\n",
       "      <td>7.776667</td>\n",
       "      <td>11.818333</td>\n",
       "      <td>17.598333</td>\n",
       "      <td>62.943333</td>\n",
       "    </tr>\n",
       "    <tr>\n",
       "      <th>VPact (mbar)</th>\n",
       "      <td>70041.0</td>\n",
       "      <td>9.532337</td>\n",
       "      <td>4.180956</td>\n",
       "      <td>0.821667</td>\n",
       "      <td>6.213333</td>\n",
       "      <td>8.861667</td>\n",
       "      <td>12.351667</td>\n",
       "      <td>28.168333</td>\n",
       "    </tr>\n",
       "    <tr>\n",
       "      <th>VPdef (mbar)</th>\n",
       "      <td>70041.0</td>\n",
       "      <td>4.036199</td>\n",
       "      <td>4.874833</td>\n",
       "      <td>0.000000</td>\n",
       "      <td>0.878333</td>\n",
       "      <td>2.195000</td>\n",
       "      <td>5.290000</td>\n",
       "      <td>45.195000</td>\n",
       "    </tr>\n",
       "    <tr>\n",
       "      <th>sh (g/kg)</th>\n",
       "      <td>70041.0</td>\n",
       "      <td>6.021505</td>\n",
       "      <td>2.654106</td>\n",
       "      <td>0.516667</td>\n",
       "      <td>3.918333</td>\n",
       "      <td>5.595000</td>\n",
       "      <td>7.801667</td>\n",
       "      <td>18.025000</td>\n",
       "    </tr>\n",
       "    <tr>\n",
       "      <th>H2OC (mmol/mol)</th>\n",
       "      <td>70041.0</td>\n",
       "      <td>9.638782</td>\n",
       "      <td>4.232169</td>\n",
       "      <td>0.828333</td>\n",
       "      <td>6.283333</td>\n",
       "      <td>8.963333</td>\n",
       "      <td>12.481667</td>\n",
       "      <td>28.661667</td>\n",
       "    </tr>\n",
       "    <tr>\n",
       "      <th>rho (g/m**3)</th>\n",
       "      <td>70041.0</td>\n",
       "      <td>1216.098209</td>\n",
       "      <td>39.941547</td>\n",
       "      <td>1084.358333</td>\n",
       "      <td>1187.508333</td>\n",
       "      <td>1213.815000</td>\n",
       "      <td>1242.770000</td>\n",
       "      <td>1392.175000</td>\n",
       "    </tr>\n",
       "    <tr>\n",
       "      <th>wv (m/s)</th>\n",
       "      <td>70041.0</td>\n",
       "      <td>2.129088</td>\n",
       "      <td>1.465228</td>\n",
       "      <td>0.000000</td>\n",
       "      <td>1.036667</td>\n",
       "      <td>1.768333</td>\n",
       "      <td>2.818333</td>\n",
       "      <td>12.895000</td>\n",
       "    </tr>\n",
       "    <tr>\n",
       "      <th>max. wv (m/s)</th>\n",
       "      <td>70129.0</td>\n",
       "      <td>3.526256</td>\n",
       "      <td>2.230430</td>\n",
       "      <td>0.000000</td>\n",
       "      <td>1.815000</td>\n",
       "      <td>3.003333</td>\n",
       "      <td>4.700000</td>\n",
       "      <td>20.015000</td>\n",
       "    </tr>\n",
       "    <tr>\n",
       "      <th>wd (deg)</th>\n",
       "      <td>70041.0</td>\n",
       "      <td>174.749675</td>\n",
       "      <td>73.248768</td>\n",
       "      <td>0.000000</td>\n",
       "      <td>140.621667</td>\n",
       "      <td>192.283333</td>\n",
       "      <td>224.466667</td>\n",
       "      <td>359.800000</td>\n",
       "    </tr>\n",
       "  </tbody>\n",
       "</table>\n",
       "</div>"
      ],
      "text/plain": [
       "                   count         mean        std          min          25%  \\\n",
       "p (mbar)         70041.0   989.214359   8.358615   934.905000   984.206667   \n",
       "T (degC)         70041.0     9.442390   8.414647   -22.653333     3.358333   \n",
       "Tpot (K)         70041.0   283.484834   8.495644   250.970000   277.430000   \n",
       "Tdew (degC)      70041.0     4.953446   6.727769   -24.601667     0.233333   \n",
       "rh (%)           70041.0    76.028671  16.385638    13.683333    65.308333   \n",
       "VPmax (mbar)     70041.0    13.568619   7.725238     0.980000     7.776667   \n",
       "VPact (mbar)     70041.0     9.532337   4.180956     0.821667     6.213333   \n",
       "VPdef (mbar)     70041.0     4.036199   4.874833     0.000000     0.878333   \n",
       "sh (g/kg)        70041.0     6.021505   2.654106     0.516667     3.918333   \n",
       "H2OC (mmol/mol)  70041.0     9.638782   4.232169     0.828333     6.283333   \n",
       "rho (g/m**3)     70041.0  1216.098209  39.941547  1084.358333  1187.508333   \n",
       "wv (m/s)         70041.0     2.129088   1.465228     0.000000     1.036667   \n",
       "max. wv (m/s)    70129.0     3.526256   2.230430     0.000000     1.815000   \n",
       "wd (deg)         70041.0   174.749675  73.248768     0.000000   140.621667   \n",
       "\n",
       "                         50%          75%          max  \n",
       "p (mbar)          989.570000   994.726667  1015.243333  \n",
       "T (degC)            9.410000    15.461667    37.038333  \n",
       "Tpot (K)          283.455000   289.515000   310.976667  \n",
       "Tdew (degC)         5.215000    10.068333    23.016667  \n",
       "rh (%)             79.266667    89.350000   100.000000  \n",
       "VPmax (mbar)       11.818333    17.598333    62.943333  \n",
       "VPact (mbar)        8.861667    12.351667    28.168333  \n",
       "VPdef (mbar)        2.195000     5.290000    45.195000  \n",
       "sh (g/kg)           5.595000     7.801667    18.025000  \n",
       "H2OC (mmol/mol)     8.963333    12.481667    28.661667  \n",
       "rho (g/m**3)     1213.815000  1242.770000  1392.175000  \n",
       "wv (m/s)            1.768333     2.818333    12.895000  \n",
       "max. wv (m/s)       3.003333     4.700000    20.015000  \n",
       "wd (deg)          192.283333   224.466667   359.800000  "
      ]
     },
     "execution_count": 5,
     "metadata": {},
     "output_type": "execute_result"
    }
   ],
   "source": [
    "df_climate.describe().T"
   ]
  },
  {
   "cell_type": "markdown",
   "metadata": {},
   "source": [
    "##### 풍향/풍속을 이용해 바람벡터 생성"
   ]
  },
  {
   "cell_type": "code",
   "execution_count": 6,
   "metadata": {},
   "outputs": [
    {
     "data": {
      "text/plain": [
       "(70129, 14)"
      ]
     },
     "execution_count": 6,
     "metadata": {},
     "output_type": "execute_result"
    }
   ],
   "source": [
    "df_climate.shape"
   ]
  },
  {
   "cell_type": "code",
   "execution_count": 7,
   "metadata": {},
   "outputs": [],
   "source": [
    "_wv = df_climate.pop('wv (m/s)')\n",
    "_max_wv = df_climate.pop('max. wv (m/s)')\n",
    "\n",
    "_wd_radian = df_climate.pop('wd (deg)') * np.pi / 180\n",
    "\n",
    "# 바람백터 생성\n",
    "df_climate['Vwv_X'] = _wv * np.cos(_wd_radian)\n",
    "df_climate['Vwv_Y'] = _wv * np.sin(_wd_radian)\n",
    "df_climate['Vmwv_X'] = _max_wv * np.cos(_wd_radian)\n",
    "df_climate['Vmwv_Y'] = _max_wv * np.sin(_wd_radian)"
   ]
  },
  {
   "cell_type": "code",
   "execution_count": 8,
   "metadata": {},
   "outputs": [
    {
     "data": {
      "text/plain": [
       "(70129, 15)"
      ]
     },
     "execution_count": 8,
     "metadata": {},
     "output_type": "execute_result"
    }
   ],
   "source": [
    "# 3개 컬럼이 제거되고 4개 컬럼이 추가됨\n",
    "df_climate.shape"
   ]
  },
  {
   "cell_type": "code",
   "execution_count": 9,
   "metadata": {},
   "outputs": [
    {
     "name": "stdout",
     "output_type": "stream",
     "text": [
      "<class 'pandas.core.frame.DataFrame'>\n",
      "DatetimeIndex: 70129 entries, 2009-01-01 00:00:00 to 2017-01-01 00:00:00\n",
      "Freq: H\n",
      "Data columns (total 15 columns):\n",
      " #   Column           Non-Null Count  Dtype  \n",
      "---  ------           --------------  -----  \n",
      " 0   p (mbar)         70041 non-null  float64\n",
      " 1   T (degC)         70041 non-null  float64\n",
      " 2   Tpot (K)         70041 non-null  float64\n",
      " 3   Tdew (degC)      70041 non-null  float64\n",
      " 4   rh (%)           70041 non-null  float64\n",
      " 5   VPmax (mbar)     70041 non-null  float64\n",
      " 6   VPact (mbar)     70041 non-null  float64\n",
      " 7   VPdef (mbar)     70041 non-null  float64\n",
      " 8   sh (g/kg)        70041 non-null  float64\n",
      " 9   H2OC (mmol/mol)  70041 non-null  float64\n",
      " 10  rho (g/m**3)     70041 non-null  float64\n",
      " 11  Vwv_X            70041 non-null  float64\n",
      " 12  Vwv_Y            70041 non-null  float64\n",
      " 13  Vmwv_X           70041 non-null  float64\n",
      " 14  Vmwv_Y           70041 non-null  float64\n",
      "dtypes: float64(15)\n",
      "memory usage: 8.6 MB\n"
     ]
    }
   ],
   "source": [
    "df_climate.info()"
   ]
  },
  {
   "cell_type": "markdown",
   "metadata": {},
   "source": [
    "##### 시간데이터에 일간/년간 주기성 부여"
   ]
  },
  {
   "cell_type": "code",
   "execution_count": 10,
   "metadata": {},
   "outputs": [],
   "source": [
    "# 시간데이터가 초 단위로 있으면 모델링에 적합하지 않다.\n",
    "# 일간/년간 주기성 부여가 반드시 필요함\n",
    "_day = 24 * 60 * 60\n",
    "_year = (365.2425) * _day\n",
    "_timestamp_s = df_climate.index.map(pd.Timestamp.timestamp)\n",
    "\n",
    "df_climate['day_sin'] = np.sin(_timestamp_s * (2 * np.pi / _day))\n",
    "df_climate['day_cos'] = np.cos(_timestamp_s * (2 * np.pi / _day))\n",
    "df_climate['year_sin'] = np.sin(_timestamp_s * (2 * np.pi / _year))\n",
    "df_climate['year_cos'] = np.cos(_timestamp_s * (2 * np.pi / _year))"
   ]
  },
  {
   "cell_type": "markdown",
   "metadata": {},
   "source": [
    "##### 데이터 분할"
   ]
  },
  {
   "cell_type": "code",
   "execution_count": 14,
   "metadata": {},
   "outputs": [],
   "source": [
    "_data_size, _n_features = df_climate.shape\n",
    "\n",
    "df_train = df_climate[:int(_data_size * 0.7)]\n",
    "df_valid = df_climate[int(_data_size * 0.7): int(_data_size * 0.9)]\n",
    "df_test = df_climate[int(_data_size * 0.9):]"
   ]
  },
  {
   "cell_type": "markdown",
   "metadata": {},
   "source": [
    "##### 정규화"
   ]
  },
  {
   "cell_type": "code",
   "execution_count": 15,
   "metadata": {},
   "outputs": [],
   "source": [
    "_data_mean, _data_std = df_train.mean(), df_train.std()\n",
    "\n",
    "df_train = (df_train - _data_mean) / _data_std\n",
    "df_valid = (df_valid - _data_mean) / _data_std\n",
    "df_test = (df_test - _data_mean) / _data_std"
   ]
  },
  {
   "cell_type": "markdown",
   "metadata": {},
   "source": [
    "##### 전처리 데이터 저장"
   ]
  },
  {
   "cell_type": "code",
   "execution_count": 16,
   "metadata": {},
   "outputs": [],
   "source": [
    "df_train.to_csv(os.path.join(_PATH_BASE, 'climate_train.csv'), index=False)\n",
    "df_valid.to_csv(os.path.join(_PATH_BASE, 'climate_valid.csv'), index=False)\n",
    "df_test.to_csv(os.path.join(_PATH_BASE, 'climate_test.csv'), index=False)"
   ]
  },
  {
   "cell_type": "code",
   "execution_count": null,
   "metadata": {},
   "outputs": [],
   "source": []
  }
 ],
 "metadata": {
  "kernelspec": {
   "display_name": "t213p310",
   "language": "python",
   "name": "python3"
  },
  "language_info": {
   "codemirror_mode": {
    "name": "ipython",
    "version": 3
   },
   "file_extension": ".py",
   "mimetype": "text/x-python",
   "name": "python",
   "nbconvert_exporter": "python",
   "pygments_lexer": "ipython3",
   "version": "3.10.12"
  },
  "orig_nbformat": 4
 },
 "nbformat": 4,
 "nbformat_minor": 2
}
