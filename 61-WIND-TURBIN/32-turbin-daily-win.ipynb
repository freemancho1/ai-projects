{
 "cells": [
  {
   "cell_type": "code",
   "execution_count": 1,
   "metadata": {},
   "outputs": [
    {
     "name": "stderr",
     "output_type": "stream",
     "text": [
      "2023-08-31 14:04:24.302011: I tensorflow/core/platform/cpu_feature_guard.cc:182] This TensorFlow binary is optimized to use available CPU instructions in performance-critical operations.\n",
      "To enable the following instructions: AVX2 AVX512F FMA, in other operations, rebuild TensorFlow with the appropriate compiler flags.\n"
     ]
    }
   ],
   "source": [
    "import os\n",
    "import numpy as np\n",
    "import pandas as pd"
   ]
  },
  {
   "cell_type": "code",
   "execution_count": 12,
   "metadata": {},
   "outputs": [],
   "source": [
    "_PATH_BASE = os.path.join(os.getcwd(), 'data')\n",
    "df_daily = pd.read_csv(\n",
    "    os.path.join(_PATH_BASE, 'b_daily.csv'), \n",
    "    index_col=None\n",
    ")\n",
    "\n",
    "df_daily.drop('index', axis=1, inplace=True)"
   ]
  },
  {
   "cell_type": "code",
   "execution_count": 13,
   "metadata": {},
   "outputs": [],
   "source": [
    "WINDOW_SIZE = 7\n",
    "target_col = 'ACTIVE_POWER_sum'\n",
    "column_indices = {name: i for i, name in enumerate(df_daily.columns)}\n",
    "target_idx = column_indices[target_col]"
   ]
  },
  {
   "cell_type": "code",
   "execution_count": 17,
   "metadata": {},
   "outputs": [],
   "source": [
    "# Features, Target 분류\n",
    "X_data_win = []\n",
    "y_data_win = []\n",
    "nd_daily = df_daily.values\n",
    "\n",
    "for _i in range(df_daily.shape[0] - WINDOW_SIZE):\n",
    "    X_data_win.append(nd_daily[_i:_i+WINDOW_SIZE, :])\n",
    "    y_data_win.append(nd_daily[_i+WINDOW_SIZE, target_idx])\n",
    "\n",
    "X_data_win = np.array(X_data_win)\n",
    "y_data_win = np.array(y_data_win)"
   ]
  },
  {
   "cell_type": "code",
   "execution_count": 18,
   "metadata": {},
   "outputs": [],
   "source": [
    "np.save(os.path.join(_PATH_BASE, 'b_daily_feature.npy'), X_data_win)\n",
    "np.save(os.path.join(_PATH_BASE, 'b_daily_label.npy'), y_data_win)"
   ]
  },
  {
   "cell_type": "code",
   "execution_count": null,
   "metadata": {},
   "outputs": [],
   "source": []
  }
 ],
 "metadata": {
  "kernelspec": {
   "display_name": "t213p310",
   "language": "python",
   "name": "python3"
  },
  "language_info": {
   "codemirror_mode": {
    "name": "ipython",
    "version": 3
   },
   "file_extension": ".py",
   "mimetype": "text/x-python",
   "name": "python",
   "nbconvert_exporter": "python",
   "pygments_lexer": "ipython3",
   "version": "3.10.12"
  },
  "orig_nbformat": 4
 },
 "nbformat": 4,
 "nbformat_minor": 2
}
