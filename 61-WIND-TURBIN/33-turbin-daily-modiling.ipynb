{
 "cells": [
  {
   "cell_type": "code",
   "execution_count": 27,
   "metadata": {},
   "outputs": [],
   "source": [
    "import os\n",
    "import numpy as np\n",
    "import pandas as pd\n",
    "\n",
    "import tensorflow as tf\n",
    "from tensorflow.keras.layers import Conv1D, Dense, Flatten, LSTM, Lambda\n",
    "from tensorflow.keras.callbacks import EarlyStopping\n",
    "\n",
    "from sklearn.model_selection import train_test_split\n",
    "\n",
    "from sklearn.metrics import mean_absolute_error\n",
    "from sklearn.metrics import mean_squared_error\n",
    "from sklearn.metrics import mean_absolute_percentage_error\n",
    "from sklearn.metrics import r2_score\n",
    "\n",
    "import matplotlib.pyplot as plt\n",
    "import matplotlib.font_manager as fm\n",
    "import seaborn as sns"
   ]
  },
  {
   "cell_type": "code",
   "execution_count": 2,
   "metadata": {},
   "outputs": [],
   "source": [
    "_SEED = 1234\n",
    "\n",
    "_PATH_BASE = os.path.join(os.getcwd(), 'data')\n",
    "\n",
    "MAX_EPOCHS = 10"
   ]
  },
  {
   "cell_type": "code",
   "execution_count": 3,
   "metadata": {},
   "outputs": [],
   "source": [
    "X_data = np.load(os.path.join(_PATH_BASE, 'b_daily_feature.npy'))\n",
    "y_data = np.load(os.path.join(_PATH_BASE, 'b_daily_label.npy'))"
   ]
  },
  {
   "cell_type": "code",
   "execution_count": 4,
   "metadata": {},
   "outputs": [],
   "source": [
    "X_train, X_test, y_train, y_test = \\\n",
    "    train_test_split(X_data, y_data, test_size=0.2, random_state=_SEED)"
   ]
  },
  {
   "cell_type": "markdown",
   "metadata": {},
   "source": [
    "#### CNN"
   ]
  },
  {
   "cell_type": "code",
   "execution_count": 5,
   "metadata": {},
   "outputs": [
    {
     "name": "stderr",
     "output_type": "stream",
     "text": [
      "2023-08-31 21:48:44.573710: I tensorflow/compiler/xla/stream_executor/cuda/cuda_gpu_executor.cc:995] successful NUMA node read from SysFS had negative value (-1), but there must be at least one NUMA node, so returning NUMA node zero. See more at https://github.com/torvalds/linux/blob/v6.0/Documentation/ABI/testing/sysfs-bus-pci#L344-L355\n",
      "2023-08-31 21:48:44.580873: I tensorflow/compiler/xla/stream_executor/cuda/cuda_gpu_executor.cc:995] successful NUMA node read from SysFS had negative value (-1), but there must be at least one NUMA node, so returning NUMA node zero. See more at https://github.com/torvalds/linux/blob/v6.0/Documentation/ABI/testing/sysfs-bus-pci#L344-L355\n",
      "2023-08-31 21:48:44.581112: I tensorflow/compiler/xla/stream_executor/cuda/cuda_gpu_executor.cc:995] successful NUMA node read from SysFS had negative value (-1), but there must be at least one NUMA node, so returning NUMA node zero. See more at https://github.com/torvalds/linux/blob/v6.0/Documentation/ABI/testing/sysfs-bus-pci#L344-L355\n",
      "2023-08-31 21:48:44.585002: I tensorflow/compiler/xla/stream_executor/cuda/cuda_gpu_executor.cc:995] successful NUMA node read from SysFS had negative value (-1), but there must be at least one NUMA node, so returning NUMA node zero. See more at https://github.com/torvalds/linux/blob/v6.0/Documentation/ABI/testing/sysfs-bus-pci#L344-L355\n",
      "2023-08-31 21:48:44.585256: I tensorflow/compiler/xla/stream_executor/cuda/cuda_gpu_executor.cc:995] successful NUMA node read from SysFS had negative value (-1), but there must be at least one NUMA node, so returning NUMA node zero. See more at https://github.com/torvalds/linux/blob/v6.0/Documentation/ABI/testing/sysfs-bus-pci#L344-L355\n",
      "2023-08-31 21:48:44.585377: I tensorflow/compiler/xla/stream_executor/cuda/cuda_gpu_executor.cc:995] successful NUMA node read from SysFS had negative value (-1), but there must be at least one NUMA node, so returning NUMA node zero. See more at https://github.com/torvalds/linux/blob/v6.0/Documentation/ABI/testing/sysfs-bus-pci#L344-L355\n",
      "2023-08-31 21:48:45.066880: I tensorflow/compiler/xla/stream_executor/cuda/cuda_gpu_executor.cc:995] successful NUMA node read from SysFS had negative value (-1), but there must be at least one NUMA node, so returning NUMA node zero. See more at https://github.com/torvalds/linux/blob/v6.0/Documentation/ABI/testing/sysfs-bus-pci#L344-L355\n",
      "2023-08-31 21:48:45.067043: I tensorflow/compiler/xla/stream_executor/cuda/cuda_gpu_executor.cc:995] successful NUMA node read from SysFS had negative value (-1), but there must be at least one NUMA node, so returning NUMA node zero. See more at https://github.com/torvalds/linux/blob/v6.0/Documentation/ABI/testing/sysfs-bus-pci#L344-L355\n",
      "2023-08-31 21:48:45.067165: I tensorflow/compiler/xla/stream_executor/cuda/cuda_gpu_executor.cc:995] successful NUMA node read from SysFS had negative value (-1), but there must be at least one NUMA node, so returning NUMA node zero. See more at https://github.com/torvalds/linux/blob/v6.0/Documentation/ABI/testing/sysfs-bus-pci#L344-L355\n",
      "2023-08-31 21:48:45.067274: I tensorflow/core/common_runtime/gpu/gpu_device.cc:1639] Created device /job:localhost/replica:0/task:0/device:GPU:0 with 6824 MB memory:  -> device: 0, name: NVIDIA GeForce GTX 1070, pci bus id: 0000:01:00.0, compute capability: 6.1\n"
     ]
    }
   ],
   "source": [
    "model_cnn = tf.keras.Sequential([\n",
    "    Conv1D(256, 3, activation='relu', input_shape=X_train.shape[1:]), \n",
    "    Conv1D(128, 3, activation='relu'),\n",
    "    Flatten(),\n",
    "    Dense(64, activation='relu'),\n",
    "    Dense(1)\n",
    "])"
   ]
  },
  {
   "cell_type": "code",
   "execution_count": 6,
   "metadata": {},
   "outputs": [],
   "source": [
    "early_stopping = EarlyStopping(monitor='val_loss', patience=2, mode='min')\n",
    "model_cnn.compile(\n",
    "    optimizer=tf.keras.optimizers.Adam(),\n",
    "    loss=tf.keras.losses.MeanSquaredError(),\n",
    "    metrics=[tf.keras.metrics.MeanAbsoluteError()]\n",
    ")"
   ]
  },
  {
   "cell_type": "code",
   "execution_count": 7,
   "metadata": {},
   "outputs": [
    {
     "name": "stdout",
     "output_type": "stream",
     "text": [
      "Epoch 1/10\n"
     ]
    },
    {
     "name": "stderr",
     "output_type": "stream",
     "text": [
      "2023-08-31 21:48:46.142123: I tensorflow/compiler/xla/stream_executor/cuda/cuda_dnn.cc:432] Loaded cuDNN version 8904\n",
      "2023-08-31 21:48:46.554018: I tensorflow/tsl/platform/default/subprocess.cc:304] Start cannot spawn child process: No such file or directory\n",
      "2023-08-31 21:48:46.612842: I tensorflow/compiler/xla/service/service.cc:168] XLA service 0x7ff784003640 initialized for platform CUDA (this does not guarantee that XLA will be used). Devices:\n",
      "2023-08-31 21:48:46.612864: I tensorflow/compiler/xla/service/service.cc:176]   StreamExecutor device (0): NVIDIA GeForce GTX 1070, Compute Capability 6.1\n",
      "2023-08-31 21:48:46.617090: I tensorflow/compiler/mlir/tensorflow/utils/dump_mlir_util.cc:255] disabling MLIR crash reproducer, set env var `MLIR_CRASH_REPRODUCER_DIRECTORY` to enable.\n",
      "2023-08-31 21:48:46.672643: I tensorflow/tsl/platform/default/subprocess.cc:304] Start cannot spawn child process: No such file or directory\n",
      "2023-08-31 21:48:46.716750: I ./tensorflow/compiler/jit/device_compiler.h:186] Compiled cluster using XLA!  This line is logged at most once for the lifetime of the process.\n"
     ]
    },
    {
     "name": "stdout",
     "output_type": "stream",
     "text": [
      "19/19 [==============================] - 2s 15ms/step - loss: 0.9528 - mean_absolute_error: 0.7168 - val_loss: 0.9360 - val_mean_absolute_error: 0.6776\n",
      "Epoch 2/10\n",
      "19/19 [==============================] - 0s 4ms/step - loss: 0.7071 - mean_absolute_error: 0.5926 - val_loss: 0.9148 - val_mean_absolute_error: 0.6006\n",
      "Epoch 3/10\n",
      "19/19 [==============================] - 0s 4ms/step - loss: 0.5703 - mean_absolute_error: 0.5303 - val_loss: 0.8875 - val_mean_absolute_error: 0.6606\n",
      "Epoch 4/10\n",
      "19/19 [==============================] - 0s 4ms/step - loss: 0.4755 - mean_absolute_error: 0.4910 - val_loss: 0.9406 - val_mean_absolute_error: 0.6370\n",
      "Epoch 5/10\n",
      "19/19 [==============================] - 0s 4ms/step - loss: 0.4274 - mean_absolute_error: 0.4685 - val_loss: 0.9296 - val_mean_absolute_error: 0.6838\n",
      "Epoch 6/10\n",
      "19/19 [==============================] - 0s 5ms/step - loss: 0.3578 - mean_absolute_error: 0.4299 - val_loss: 0.8964 - val_mean_absolute_error: 0.6261\n",
      "Epoch 7/10\n",
      "19/19 [==============================] - 0s 4ms/step - loss: 0.2881 - mean_absolute_error: 0.3746 - val_loss: 0.9679 - val_mean_absolute_error: 0.7362\n",
      "Epoch 8/10\n",
      "19/19 [==============================] - 0s 4ms/step - loss: 0.2492 - mean_absolute_error: 0.3631 - val_loss: 1.0268 - val_mean_absolute_error: 0.6547\n",
      "Epoch 9/10\n",
      "19/19 [==============================] - 0s 4ms/step - loss: 0.2010 - mean_absolute_error: 0.3198 - val_loss: 0.8436 - val_mean_absolute_error: 0.6182\n",
      "Epoch 10/10\n",
      "19/19 [==============================] - 0s 4ms/step - loss: 0.1542 - mean_absolute_error: 0.2817 - val_loss: 1.0289 - val_mean_absolute_error: 0.6737\n"
     ]
    },
    {
     "data": {
      "text/plain": [
       "<keras.src.callbacks.History at 0x7ff8649a28f0>"
      ]
     },
     "execution_count": 7,
     "metadata": {},
     "output_type": "execute_result"
    }
   ],
   "source": [
    "model_cnn.fit(\n",
    "    X_train, y_train,\n",
    "    epochs=MAX_EPOCHS,\n",
    "    validation_split=0.2,\n",
    "    # callbacks=[early_stopping]\n",
    ")"
   ]
  },
  {
   "cell_type": "code",
   "execution_count": 8,
   "metadata": {},
   "outputs": [
    {
     "name": "stdout",
     "output_type": "stream",
     "text": [
      "6/6 [==============================] - 0s 7ms/step\n"
     ]
    }
   ],
   "source": [
    "pred_cnn = model_cnn.predict(X_test).reshape(-1)"
   ]
  },
  {
   "cell_type": "code",
   "execution_count": 9,
   "metadata": {},
   "outputs": [
    {
     "name": "stdout",
     "output_type": "stream",
     "text": [
      "24/24 [==============================] - 0s 2ms/step\n"
     ]
    }
   ],
   "source": [
    "pred_cnn_train = model_cnn.predict(X_train).reshape(-1)"
   ]
  },
  {
   "cell_type": "code",
   "execution_count": 10,
   "metadata": {},
   "outputs": [
    {
     "name": "stdout",
     "output_type": "stream",
     "text": [
      "WARNING:tensorflow:Layer lstm will not use cuDNN kernels since it doesn't meet the criteria. It will use a generic GPU kernel as fallback when running on GPU.\n"
     ]
    }
   ],
   "source": [
    "model_lstm = tf.keras.Sequential([\n",
    "    LSTM(32, activation='relu', return_sequences=False),\n",
    "    Dense(1)\n",
    "])\n",
    "model_lstm.compile(\n",
    "    optimizer=tf.keras.optimizers.Adam(),\n",
    "    loss=tf.keras.losses.MeanSquaredError(),\n",
    "    metrics=[tf.keras.metrics.MeanAbsoluteError()]\n",
    ")"
   ]
  },
  {
   "cell_type": "code",
   "execution_count": 11,
   "metadata": {},
   "outputs": [
    {
     "name": "stdout",
     "output_type": "stream",
     "text": [
      "Epoch 1/100\n",
      "19/19 [==============================] - 1s 15ms/step - loss: 0.9968 - mean_absolute_error: 0.7429 - val_loss: 0.8779 - val_mean_absolute_error: 0.6804\n",
      "Epoch 2/100\n",
      "19/19 [==============================] - 0s 8ms/step - loss: 0.8833 - mean_absolute_error: 0.6819 - val_loss: 0.8339 - val_mean_absolute_error: 0.6457\n",
      "Epoch 3/100\n",
      "19/19 [==============================] - 0s 8ms/step - loss: 0.8402 - mean_absolute_error: 0.6436 - val_loss: 0.7988 - val_mean_absolute_error: 0.6193\n",
      "Epoch 4/100\n",
      "19/19 [==============================] - 0s 8ms/step - loss: 0.8170 - mean_absolute_error: 0.6371 - val_loss: 0.7780 - val_mean_absolute_error: 0.6127\n",
      "Epoch 5/100\n",
      "19/19 [==============================] - 0s 8ms/step - loss: 0.7870 - mean_absolute_error: 0.6098 - val_loss: 0.7570 - val_mean_absolute_error: 0.5983\n",
      "Epoch 6/100\n",
      "19/19 [==============================] - 0s 9ms/step - loss: 0.7674 - mean_absolute_error: 0.6118 - val_loss: 0.7414 - val_mean_absolute_error: 0.5969\n",
      "Epoch 7/100\n",
      "19/19 [==============================] - 0s 8ms/step - loss: 0.7420 - mean_absolute_error: 0.6039 - val_loss: 0.7208 - val_mean_absolute_error: 0.5896\n",
      "Epoch 8/100\n",
      "19/19 [==============================] - 0s 8ms/step - loss: 0.7125 - mean_absolute_error: 0.5867 - val_loss: 0.7132 - val_mean_absolute_error: 0.5850\n",
      "Epoch 9/100\n",
      "19/19 [==============================] - 0s 8ms/step - loss: 0.6893 - mean_absolute_error: 0.5834 - val_loss: 0.6742 - val_mean_absolute_error: 0.5787\n",
      "Epoch 10/100\n",
      "19/19 [==============================] - 0s 8ms/step - loss: 0.6594 - mean_absolute_error: 0.5772 - val_loss: 0.6711 - val_mean_absolute_error: 0.5779\n",
      "Epoch 11/100\n",
      "19/19 [==============================] - 0s 9ms/step - loss: 0.6431 - mean_absolute_error: 0.5600 - val_loss: 0.6579 - val_mean_absolute_error: 0.5801\n",
      "Epoch 12/100\n",
      "19/19 [==============================] - 0s 10ms/step - loss: 0.6157 - mean_absolute_error: 0.5550 - val_loss: 0.6474 - val_mean_absolute_error: 0.5780\n",
      "Epoch 13/100\n",
      "19/19 [==============================] - 0s 9ms/step - loss: 0.6017 - mean_absolute_error: 0.5528 - val_loss: 0.6781 - val_mean_absolute_error: 0.5796\n",
      "Epoch 14/100\n",
      "19/19 [==============================] - 0s 9ms/step - loss: 0.5719 - mean_absolute_error: 0.5284 - val_loss: 0.6564 - val_mean_absolute_error: 0.5765\n",
      "Epoch 15/100\n",
      "19/19 [==============================] - 0s 10ms/step - loss: 0.5674 - mean_absolute_error: 0.5283 - val_loss: 0.6548 - val_mean_absolute_error: 0.5784\n",
      "Epoch 16/100\n",
      "19/19 [==============================] - 0s 8ms/step - loss: 0.5524 - mean_absolute_error: 0.5222 - val_loss: 0.6554 - val_mean_absolute_error: 0.5825\n",
      "Epoch 17/100\n",
      "19/19 [==============================] - 0s 8ms/step - loss: 0.5524 - mean_absolute_error: 0.5211 - val_loss: 0.6754 - val_mean_absolute_error: 0.5904\n",
      "Epoch 18/100\n",
      "19/19 [==============================] - 0s 9ms/step - loss: 0.5281 - mean_absolute_error: 0.5033 - val_loss: 0.6464 - val_mean_absolute_error: 0.5673\n",
      "Epoch 19/100\n",
      "19/19 [==============================] - 0s 8ms/step - loss: 0.5195 - mean_absolute_error: 0.4963 - val_loss: 0.6533 - val_mean_absolute_error: 0.5771\n",
      "Epoch 20/100\n",
      "19/19 [==============================] - 0s 8ms/step - loss: 0.5101 - mean_absolute_error: 0.5023 - val_loss: 0.6701 - val_mean_absolute_error: 0.5810\n",
      "Epoch 21/100\n",
      "19/19 [==============================] - 0s 8ms/step - loss: 0.5095 - mean_absolute_error: 0.4871 - val_loss: 0.6640 - val_mean_absolute_error: 0.5791\n",
      "Epoch 22/100\n",
      "19/19 [==============================] - 0s 8ms/step - loss: 0.4886 - mean_absolute_error: 0.4789 - val_loss: 0.6708 - val_mean_absolute_error: 0.5861\n",
      "Epoch 23/100\n",
      "19/19 [==============================] - 0s 8ms/step - loss: 0.4906 - mean_absolute_error: 0.4811 - val_loss: 0.6647 - val_mean_absolute_error: 0.5794\n",
      "Epoch 24/100\n",
      "19/19 [==============================] - 0s 8ms/step - loss: 0.4805 - mean_absolute_error: 0.4803 - val_loss: 0.6759 - val_mean_absolute_error: 0.5832\n",
      "Epoch 25/100\n",
      "19/19 [==============================] - 0s 10ms/step - loss: 0.4645 - mean_absolute_error: 0.4638 - val_loss: 0.6732 - val_mean_absolute_error: 0.5893\n",
      "Epoch 26/100\n",
      "19/19 [==============================] - 0s 9ms/step - loss: 0.4600 - mean_absolute_error: 0.4691 - val_loss: 0.7062 - val_mean_absolute_error: 0.5971\n",
      "Epoch 27/100\n",
      "19/19 [==============================] - 0s 9ms/step - loss: 0.4561 - mean_absolute_error: 0.4577 - val_loss: 0.6996 - val_mean_absolute_error: 0.6040\n",
      "Epoch 28/100\n",
      "19/19 [==============================] - 0s 11ms/step - loss: 0.4493 - mean_absolute_error: 0.4598 - val_loss: 0.7013 - val_mean_absolute_error: 0.6055\n",
      "Epoch 29/100\n",
      "19/19 [==============================] - 0s 9ms/step - loss: 0.4421 - mean_absolute_error: 0.4517 - val_loss: 0.7034 - val_mean_absolute_error: 0.6085\n",
      "Epoch 30/100\n",
      "19/19 [==============================] - 0s 8ms/step - loss: 0.4362 - mean_absolute_error: 0.4552 - val_loss: 0.7217 - val_mean_absolute_error: 0.6094\n",
      "Epoch 31/100\n",
      "19/19 [==============================] - 0s 8ms/step - loss: 0.4465 - mean_absolute_error: 0.4620 - val_loss: 0.7179 - val_mean_absolute_error: 0.6232\n",
      "Epoch 32/100\n",
      "19/19 [==============================] - 0s 8ms/step - loss: 0.4226 - mean_absolute_error: 0.4436 - val_loss: 0.6981 - val_mean_absolute_error: 0.6019\n",
      "Epoch 33/100\n",
      "19/19 [==============================] - 0s 8ms/step - loss: 0.4069 - mean_absolute_error: 0.4344 - val_loss: 0.6908 - val_mean_absolute_error: 0.5966\n",
      "Epoch 34/100\n",
      "19/19 [==============================] - 0s 9ms/step - loss: 0.3985 - mean_absolute_error: 0.4375 - val_loss: 0.7182 - val_mean_absolute_error: 0.6009\n",
      "Epoch 35/100\n",
      "19/19 [==============================] - 0s 8ms/step - loss: 0.3947 - mean_absolute_error: 0.4283 - val_loss: 0.7911 - val_mean_absolute_error: 0.6447\n",
      "Epoch 36/100\n",
      "19/19 [==============================] - 0s 9ms/step - loss: 0.3987 - mean_absolute_error: 0.4361 - val_loss: 0.7218 - val_mean_absolute_error: 0.6009\n",
      "Epoch 37/100\n",
      "19/19 [==============================] - 0s 8ms/step - loss: 0.3752 - mean_absolute_error: 0.4153 - val_loss: 0.7254 - val_mean_absolute_error: 0.5983\n",
      "Epoch 38/100\n",
      "19/19 [==============================] - 0s 8ms/step - loss: 0.3612 - mean_absolute_error: 0.4093 - val_loss: 0.7830 - val_mean_absolute_error: 0.6361\n",
      "Epoch 39/100\n",
      "19/19 [==============================] - 0s 8ms/step - loss: 0.3620 - mean_absolute_error: 0.4169 - val_loss: 0.7489 - val_mean_absolute_error: 0.6138\n",
      "Epoch 40/100\n",
      "19/19 [==============================] - 0s 8ms/step - loss: 0.3613 - mean_absolute_error: 0.4124 - val_loss: 0.7618 - val_mean_absolute_error: 0.6097\n",
      "Epoch 41/100\n",
      "19/19 [==============================] - 0s 8ms/step - loss: 0.3440 - mean_absolute_error: 0.3993 - val_loss: 0.7861 - val_mean_absolute_error: 0.6299\n",
      "Epoch 42/100\n",
      "19/19 [==============================] - 0s 8ms/step - loss: 0.3182 - mean_absolute_error: 0.3781 - val_loss: 0.7750 - val_mean_absolute_error: 0.6203\n",
      "Epoch 43/100\n",
      "19/19 [==============================] - 0s 8ms/step - loss: 0.3346 - mean_absolute_error: 0.3994 - val_loss: 0.7466 - val_mean_absolute_error: 0.6102\n",
      "Epoch 44/100\n",
      "19/19 [==============================] - 0s 9ms/step - loss: 0.3258 - mean_absolute_error: 0.3919 - val_loss: 0.8166 - val_mean_absolute_error: 0.6439\n",
      "Epoch 45/100\n",
      "19/19 [==============================] - 0s 8ms/step - loss: 0.3074 - mean_absolute_error: 0.3843 - val_loss: 0.8556 - val_mean_absolute_error: 0.6501\n",
      "Epoch 46/100\n",
      "19/19 [==============================] - 0s 8ms/step - loss: 0.3029 - mean_absolute_error: 0.3737 - val_loss: 0.8057 - val_mean_absolute_error: 0.6234\n",
      "Epoch 47/100\n",
      "19/19 [==============================] - 0s 9ms/step - loss: 0.2881 - mean_absolute_error: 0.3713 - val_loss: 0.8704 - val_mean_absolute_error: 0.6561\n",
      "Epoch 48/100\n",
      "19/19 [==============================] - 0s 8ms/step - loss: 0.3096 - mean_absolute_error: 0.3885 - val_loss: 0.8580 - val_mean_absolute_error: 0.6471\n",
      "Epoch 49/100\n",
      "19/19 [==============================] - 0s 8ms/step - loss: 0.2865 - mean_absolute_error: 0.3683 - val_loss: 0.7872 - val_mean_absolute_error: 0.6139\n",
      "Epoch 50/100\n",
      "19/19 [==============================] - 0s 9ms/step - loss: 0.2711 - mean_absolute_error: 0.3488 - val_loss: 0.8105 - val_mean_absolute_error: 0.6266\n",
      "Epoch 51/100\n",
      "19/19 [==============================] - 0s 8ms/step - loss: 0.2673 - mean_absolute_error: 0.3482 - val_loss: 0.8768 - val_mean_absolute_error: 0.6417\n",
      "Epoch 52/100\n",
      "19/19 [==============================] - 0s 9ms/step - loss: 0.2406 - mean_absolute_error: 0.3361 - val_loss: 0.8744 - val_mean_absolute_error: 0.6537\n",
      "Epoch 53/100\n",
      "19/19 [==============================] - 0s 8ms/step - loss: 0.2355 - mean_absolute_error: 0.3293 - val_loss: 0.8931 - val_mean_absolute_error: 0.6480\n",
      "Epoch 54/100\n",
      "19/19 [==============================] - 0s 8ms/step - loss: 0.2316 - mean_absolute_error: 0.3258 - val_loss: 0.8834 - val_mean_absolute_error: 0.6476\n",
      "Epoch 55/100\n",
      "19/19 [==============================] - 0s 9ms/step - loss: 0.2324 - mean_absolute_error: 0.3258 - val_loss: 0.9604 - val_mean_absolute_error: 0.6813\n",
      "Epoch 56/100\n",
      "19/19 [==============================] - 0s 9ms/step - loss: 0.2148 - mean_absolute_error: 0.3157 - val_loss: 0.9619 - val_mean_absolute_error: 0.6653\n",
      "Epoch 57/100\n",
      "19/19 [==============================] - 0s 8ms/step - loss: 0.2102 - mean_absolute_error: 0.3095 - val_loss: 0.9625 - val_mean_absolute_error: 0.6707\n",
      "Epoch 58/100\n",
      "19/19 [==============================] - 0s 9ms/step - loss: 0.2158 - mean_absolute_error: 0.3194 - val_loss: 0.8356 - val_mean_absolute_error: 0.6295\n",
      "Epoch 59/100\n",
      "19/19 [==============================] - 0s 9ms/step - loss: 0.2110 - mean_absolute_error: 0.3137 - val_loss: 0.9928 - val_mean_absolute_error: 0.6725\n",
      "Epoch 60/100\n",
      "19/19 [==============================] - 0s 8ms/step - loss: 0.1964 - mean_absolute_error: 0.3039 - val_loss: 0.9211 - val_mean_absolute_error: 0.6561\n",
      "Epoch 61/100\n",
      "19/19 [==============================] - 0s 8ms/step - loss: 0.1948 - mean_absolute_error: 0.3041 - val_loss: 0.9417 - val_mean_absolute_error: 0.6632\n",
      "Epoch 62/100\n",
      "19/19 [==============================] - 0s 8ms/step - loss: 0.1794 - mean_absolute_error: 0.2866 - val_loss: 0.9802 - val_mean_absolute_error: 0.6748\n",
      "Epoch 63/100\n",
      "19/19 [==============================] - 0s 8ms/step - loss: 0.1765 - mean_absolute_error: 0.2876 - val_loss: 0.9835 - val_mean_absolute_error: 0.6762\n",
      "Epoch 64/100\n",
      "19/19 [==============================] - 0s 9ms/step - loss: 0.1713 - mean_absolute_error: 0.2796 - val_loss: 1.0130 - val_mean_absolute_error: 0.6910\n",
      "Epoch 65/100\n",
      "19/19 [==============================] - 0s 9ms/step - loss: 0.1730 - mean_absolute_error: 0.2851 - val_loss: 0.9846 - val_mean_absolute_error: 0.6668\n",
      "Epoch 66/100\n",
      "19/19 [==============================] - 0s 8ms/step - loss: 0.1678 - mean_absolute_error: 0.2867 - val_loss: 0.9605 - val_mean_absolute_error: 0.6870\n",
      "Epoch 67/100\n",
      "19/19 [==============================] - 0s 9ms/step - loss: 0.1565 - mean_absolute_error: 0.2812 - val_loss: 1.0592 - val_mean_absolute_error: 0.7106\n",
      "Epoch 68/100\n",
      "19/19 [==============================] - 0s 8ms/step - loss: 0.1716 - mean_absolute_error: 0.2848 - val_loss: 1.0311 - val_mean_absolute_error: 0.6835\n",
      "Epoch 69/100\n",
      "19/19 [==============================] - 0s 8ms/step - loss: 0.1658 - mean_absolute_error: 0.2768 - val_loss: 1.0312 - val_mean_absolute_error: 0.6872\n",
      "Epoch 70/100\n",
      "19/19 [==============================] - 0s 8ms/step - loss: 0.1537 - mean_absolute_error: 0.2644 - val_loss: 1.0463 - val_mean_absolute_error: 0.7000\n",
      "Epoch 71/100\n",
      "19/19 [==============================] - 0s 9ms/step - loss: 0.1587 - mean_absolute_error: 0.2766 - val_loss: 0.9709 - val_mean_absolute_error: 0.6765\n",
      "Epoch 72/100\n",
      "19/19 [==============================] - 0s 8ms/step - loss: 0.1344 - mean_absolute_error: 0.2543 - val_loss: 1.0724 - val_mean_absolute_error: 0.7036\n",
      "Epoch 73/100\n",
      "19/19 [==============================] - 0s 8ms/step - loss: 0.1271 - mean_absolute_error: 0.2417 - val_loss: 1.1050 - val_mean_absolute_error: 0.7058\n",
      "Epoch 74/100\n",
      "19/19 [==============================] - 0s 8ms/step - loss: 0.1247 - mean_absolute_error: 0.2406 - val_loss: 1.1061 - val_mean_absolute_error: 0.7205\n",
      "Epoch 75/100\n",
      "19/19 [==============================] - 0s 9ms/step - loss: 0.1230 - mean_absolute_error: 0.2391 - val_loss: 1.0709 - val_mean_absolute_error: 0.7040\n",
      "Epoch 76/100\n",
      "19/19 [==============================] - 0s 8ms/step - loss: 0.1220 - mean_absolute_error: 0.2434 - val_loss: 1.0522 - val_mean_absolute_error: 0.6980\n",
      "Epoch 77/100\n",
      "19/19 [==============================] - 0s 10ms/step - loss: 0.1271 - mean_absolute_error: 0.2524 - val_loss: 1.1075 - val_mean_absolute_error: 0.7229\n",
      "Epoch 78/100\n",
      "19/19 [==============================] - 0s 8ms/step - loss: 0.1399 - mean_absolute_error: 0.2681 - val_loss: 0.9800 - val_mean_absolute_error: 0.6784\n",
      "Epoch 79/100\n",
      "19/19 [==============================] - 0s 8ms/step - loss: 0.1251 - mean_absolute_error: 0.2421 - val_loss: 1.1025 - val_mean_absolute_error: 0.7173\n",
      "Epoch 80/100\n",
      "19/19 [==============================] - 0s 8ms/step - loss: 0.1271 - mean_absolute_error: 0.2457 - val_loss: 1.1206 - val_mean_absolute_error: 0.7274\n",
      "Epoch 81/100\n",
      "19/19 [==============================] - 0s 9ms/step - loss: 0.1107 - mean_absolute_error: 0.2223 - val_loss: 1.0170 - val_mean_absolute_error: 0.6898\n",
      "Epoch 82/100\n",
      "19/19 [==============================] - 0s 9ms/step - loss: 0.1099 - mean_absolute_error: 0.2279 - val_loss: 1.1404 - val_mean_absolute_error: 0.7201\n",
      "Epoch 83/100\n",
      "19/19 [==============================] - 0s 8ms/step - loss: 0.1079 - mean_absolute_error: 0.2268 - val_loss: 1.1131 - val_mean_absolute_error: 0.7280\n",
      "Epoch 84/100\n",
      "19/19 [==============================] - 0s 8ms/step - loss: 0.1035 - mean_absolute_error: 0.2233 - val_loss: 1.0736 - val_mean_absolute_error: 0.7231\n",
      "Epoch 85/100\n",
      "19/19 [==============================] - 0s 8ms/step - loss: 0.1000 - mean_absolute_error: 0.2193 - val_loss: 1.2582 - val_mean_absolute_error: 0.7573\n",
      "Epoch 86/100\n",
      "19/19 [==============================] - 0s 8ms/step - loss: 0.0968 - mean_absolute_error: 0.2154 - val_loss: 1.1111 - val_mean_absolute_error: 0.7189\n",
      "Epoch 87/100\n",
      "19/19 [==============================] - 0s 8ms/step - loss: 0.0978 - mean_absolute_error: 0.2145 - val_loss: 1.1802 - val_mean_absolute_error: 0.7406\n",
      "Epoch 88/100\n",
      "19/19 [==============================] - 0s 9ms/step - loss: 0.0933 - mean_absolute_error: 0.2092 - val_loss: 1.1813 - val_mean_absolute_error: 0.7375\n",
      "Epoch 89/100\n",
      "19/19 [==============================] - 0s 8ms/step - loss: 0.0942 - mean_absolute_error: 0.2136 - val_loss: 1.0523 - val_mean_absolute_error: 0.7022\n",
      "Epoch 90/100\n",
      "19/19 [==============================] - 0s 9ms/step - loss: 0.0904 - mean_absolute_error: 0.2125 - val_loss: 1.1988 - val_mean_absolute_error: 0.7497\n",
      "Epoch 91/100\n",
      "19/19 [==============================] - 0s 8ms/step - loss: 0.0842 - mean_absolute_error: 0.1998 - val_loss: 1.1198 - val_mean_absolute_error: 0.7372\n",
      "Epoch 92/100\n",
      "19/19 [==============================] - 0s 8ms/step - loss: 0.0793 - mean_absolute_error: 0.1936 - val_loss: 1.2458 - val_mean_absolute_error: 0.7765\n",
      "Epoch 93/100\n",
      "19/19 [==============================] - 0s 8ms/step - loss: 0.0859 - mean_absolute_error: 0.2060 - val_loss: 1.1584 - val_mean_absolute_error: 0.7306\n",
      "Epoch 94/100\n",
      "19/19 [==============================] - 0s 9ms/step - loss: 0.0824 - mean_absolute_error: 0.1981 - val_loss: 1.1781 - val_mean_absolute_error: 0.7443\n",
      "Epoch 95/100\n",
      "19/19 [==============================] - 0s 8ms/step - loss: 0.0727 - mean_absolute_error: 0.1883 - val_loss: 1.2347 - val_mean_absolute_error: 0.7782\n",
      "Epoch 96/100\n",
      "19/19 [==============================] - 0s 9ms/step - loss: 0.0729 - mean_absolute_error: 0.1860 - val_loss: 1.2059 - val_mean_absolute_error: 0.7517\n",
      "Epoch 97/100\n",
      "19/19 [==============================] - 0s 9ms/step - loss: 0.0758 - mean_absolute_error: 0.1914 - val_loss: 1.1882 - val_mean_absolute_error: 0.7500\n",
      "Epoch 98/100\n",
      "19/19 [==============================] - 0s 9ms/step - loss: 0.0679 - mean_absolute_error: 0.1795 - val_loss: 1.2415 - val_mean_absolute_error: 0.7611\n",
      "Epoch 99/100\n",
      "19/19 [==============================] - 0s 10ms/step - loss: 0.0650 - mean_absolute_error: 0.1780 - val_loss: 1.2605 - val_mean_absolute_error: 0.7733\n",
      "Epoch 100/100\n",
      "19/19 [==============================] - 0s 8ms/step - loss: 0.0652 - mean_absolute_error: 0.1771 - val_loss: 1.1991 - val_mean_absolute_error: 0.7458\n"
     ]
    },
    {
     "data": {
      "text/plain": [
       "<keras.src.callbacks.History at 0x7ff8582c29b0>"
      ]
     },
     "execution_count": 11,
     "metadata": {},
     "output_type": "execute_result"
    }
   ],
   "source": [
    "model_lstm.fit(X_train, y_train, epochs=100, validation_split=0.2)"
   ]
  },
  {
   "cell_type": "code",
   "execution_count": 12,
   "metadata": {},
   "outputs": [
    {
     "name": "stdout",
     "output_type": "stream",
     "text": [
      "6/6 [==============================] - 0s 2ms/step\n"
     ]
    }
   ],
   "source": [
    "pred_lstm = model_lstm.predict(X_test).reshape(-1)"
   ]
  },
  {
   "cell_type": "code",
   "execution_count": 13,
   "metadata": {},
   "outputs": [
    {
     "name": "stdout",
     "output_type": "stream",
     "text": [
      "24/24 [==============================] - 0s 2ms/step\n"
     ]
    }
   ],
   "source": [
    "pred_lstm_t = model_lstm.predict(X_train).reshape(-1)"
   ]
  },
  {
   "cell_type": "code",
   "execution_count": 14,
   "metadata": {},
   "outputs": [
    {
     "data": {
      "text/plain": [
       "185"
      ]
     },
     "execution_count": 14,
     "metadata": {},
     "output_type": "execute_result"
    }
   ],
   "source": [
    "len(y_test)"
   ]
  },
  {
   "cell_type": "code",
   "execution_count": 15,
   "metadata": {},
   "outputs": [
    {
     "data": {
      "image/png": "[encoded data removed]",
      "text/plain": [
       "<Figure size 1200x600 with 1 Axes>"
      ]
     },
     "metadata": {},
     "output_type": "display_data"
    }
   ],
   "source": [
    "plt.figure(figsize=(12,6))\n",
    "plt_size = 30\n",
    "\n",
    "plt.plot(\n",
    "    np.arange(len(y_test))[:plt_size], \n",
    "    y_test[:plt_size],\n",
    "    label='Test'\n",
    ")\n",
    "plt.plot(\n",
    "    np.arange(len(y_test))[:plt_size], \n",
    "    pred_lstm[:plt_size],\n",
    "    label='Predict'\n",
    ")\n",
    "plt.xlabel('Day')\n",
    "plt.ylabel('Power')\n",
    "plt.title('Test vs Predict')\n",
    "plt.legend()\n",
    "plt.show()"
   ]
  },
  {
   "cell_type": "code",
   "execution_count": 22,
   "metadata": {},
   "outputs": [
    {
     "name": "stdout",
     "output_type": "stream",
     "text": [
      "WARNING:tensorflow:Layer lstm_3 will not use cuDNN kernels since it doesn't meet the criteria. It will use a generic GPU kernel as fallback when running on GPU.\n"
     ]
    }
   ],
   "source": [
    "model_lstm2 = tf.keras.Sequential([\n",
    "    Conv1D(32, 2, padding='valid', activation='relu', input_shape=X_train.shape[1:]),\n",
    "    LSTM(32, activation='relu'),\n",
    "    Dense(16, activation='relu'),\n",
    "    Dense(1)\n",
    "])\n",
    "model_lstm2.compile(\n",
    "    optimizer=tf.keras.optimizers.Adam(),\n",
    "    loss=tf.keras.losses.MeanSquaredError(),\n",
    "    metrics=[tf.keras.metrics.MeanAbsoluteError()]\n",
    ")"
   ]
  },
  {
   "cell_type": "code",
   "execution_count": 23,
   "metadata": {},
   "outputs": [
    {
     "name": "stdout",
     "output_type": "stream",
     "text": [
      "Epoch 1/50\n",
      "19/19 [==============================] - 2s 18ms/step - loss: 1.0006 - mean_absolute_error: 0.7713 - val_loss: 0.8494 - val_mean_absolute_error: 0.6715\n",
      "Epoch 2/50\n",
      "19/19 [==============================] - 0s 10ms/step - loss: 0.8862 - mean_absolute_error: 0.6807 - val_loss: 0.8446 - val_mean_absolute_error: 0.6530\n",
      "Epoch 3/50\n",
      "19/19 [==============================] - 0s 10ms/step - loss: 0.8265 - mean_absolute_error: 0.6446 - val_loss: 0.8131 - val_mean_absolute_error: 0.6252\n",
      "Epoch 4/50\n",
      "19/19 [==============================] - 0s 9ms/step - loss: 0.7810 - mean_absolute_error: 0.6199 - val_loss: 0.7686 - val_mean_absolute_error: 0.6168\n",
      "Epoch 5/50\n",
      "19/19 [==============================] - 0s 9ms/step - loss: 0.7292 - mean_absolute_error: 0.5982 - val_loss: 0.7594 - val_mean_absolute_error: 0.6022\n",
      "Epoch 6/50\n",
      "19/19 [==============================] - 0s 10ms/step - loss: 0.6881 - mean_absolute_error: 0.5736 - val_loss: 0.7492 - val_mean_absolute_error: 0.6033\n",
      "Epoch 7/50\n",
      "19/19 [==============================] - 0s 10ms/step - loss: 0.6569 - mean_absolute_error: 0.5650 - val_loss: 0.7329 - val_mean_absolute_error: 0.5943\n",
      "Epoch 8/50\n",
      "19/19 [==============================] - 0s 10ms/step - loss: 0.6365 - mean_absolute_error: 0.5517 - val_loss: 0.7571 - val_mean_absolute_error: 0.6161\n",
      "Epoch 9/50\n",
      "19/19 [==============================] - 0s 10ms/step - loss: 0.6076 - mean_absolute_error: 0.5494 - val_loss: 0.7358 - val_mean_absolute_error: 0.5729\n",
      "Epoch 10/50\n",
      "19/19 [==============================] - 0s 9ms/step - loss: 0.5906 - mean_absolute_error: 0.5298 - val_loss: 0.7230 - val_mean_absolute_error: 0.5791\n",
      "Epoch 11/50\n",
      "19/19 [==============================] - 0s 10ms/step - loss: 0.5887 - mean_absolute_error: 0.5413 - val_loss: 0.7230 - val_mean_absolute_error: 0.5905\n",
      "Epoch 12/50\n",
      "19/19 [==============================] - 0s 10ms/step - loss: 0.5465 - mean_absolute_error: 0.5157 - val_loss: 0.6997 - val_mean_absolute_error: 0.5729\n",
      "Epoch 13/50\n",
      "19/19 [==============================] - 0s 10ms/step - loss: 0.5239 - mean_absolute_error: 0.5037 - val_loss: 0.7424 - val_mean_absolute_error: 0.5973\n",
      "Epoch 14/50\n",
      "19/19 [==============================] - 0s 9ms/step - loss: 0.5114 - mean_absolute_error: 0.5020 - val_loss: 0.7062 - val_mean_absolute_error: 0.5702\n",
      "Epoch 15/50\n",
      "19/19 [==============================] - 0s 10ms/step - loss: 0.5177 - mean_absolute_error: 0.5086 - val_loss: 0.7071 - val_mean_absolute_error: 0.5569\n",
      "Epoch 16/50\n",
      "19/19 [==============================] - 0s 9ms/step - loss: 0.4960 - mean_absolute_error: 0.4902 - val_loss: 0.7365 - val_mean_absolute_error: 0.5943\n",
      "Epoch 17/50\n",
      "19/19 [==============================] - 0s 9ms/step - loss: 0.4908 - mean_absolute_error: 0.4955 - val_loss: 0.7429 - val_mean_absolute_error: 0.6259\n",
      "Epoch 18/50\n",
      "19/19 [==============================] - 0s 9ms/step - loss: 0.4818 - mean_absolute_error: 0.4896 - val_loss: 0.7594 - val_mean_absolute_error: 0.6366\n",
      "Epoch 19/50\n",
      "19/19 [==============================] - 0s 9ms/step - loss: 0.4718 - mean_absolute_error: 0.4923 - val_loss: 0.7106 - val_mean_absolute_error: 0.5679\n",
      "Epoch 20/50\n",
      "19/19 [==============================] - 0s 10ms/step - loss: 0.4422 - mean_absolute_error: 0.4575 - val_loss: 0.7060 - val_mean_absolute_error: 0.5659\n",
      "Epoch 21/50\n",
      "19/19 [==============================] - 0s 9ms/step - loss: 0.4278 - mean_absolute_error: 0.4445 - val_loss: 0.7221 - val_mean_absolute_error: 0.5549\n",
      "Epoch 22/50\n",
      "19/19 [==============================] - 0s 9ms/step - loss: 0.4171 - mean_absolute_error: 0.4525 - val_loss: 0.7841 - val_mean_absolute_error: 0.6184\n",
      "Epoch 23/50\n",
      "19/19 [==============================] - 0s 11ms/step - loss: 0.4021 - mean_absolute_error: 0.4345 - val_loss: 0.7574 - val_mean_absolute_error: 0.6092\n",
      "Epoch 24/50\n",
      "19/19 [==============================] - 0s 12ms/step - loss: 0.3918 - mean_absolute_error: 0.4408 - val_loss: 0.8172 - val_mean_absolute_error: 0.6555\n",
      "Epoch 25/50\n",
      "19/19 [==============================] - 0s 10ms/step - loss: 0.4004 - mean_absolute_error: 0.4425 - val_loss: 0.7916 - val_mean_absolute_error: 0.6058\n",
      "Epoch 26/50\n",
      "19/19 [==============================] - 0s 11ms/step - loss: 0.3680 - mean_absolute_error: 0.4102 - val_loss: 0.7702 - val_mean_absolute_error: 0.5836\n",
      "Epoch 27/50\n",
      "19/19 [==============================] - 0s 9ms/step - loss: 0.3532 - mean_absolute_error: 0.3994 - val_loss: 0.7951 - val_mean_absolute_error: 0.6153\n",
      "Epoch 28/50\n",
      "19/19 [==============================] - 0s 10ms/step - loss: 0.3692 - mean_absolute_error: 0.4272 - val_loss: 0.7752 - val_mean_absolute_error: 0.5899\n",
      "Epoch 29/50\n",
      "19/19 [==============================] - 0s 10ms/step - loss: 0.3602 - mean_absolute_error: 0.4172 - val_loss: 0.7730 - val_mean_absolute_error: 0.6033\n",
      "Epoch 30/50\n",
      "19/19 [==============================] - 0s 10ms/step - loss: 0.3564 - mean_absolute_error: 0.4244 - val_loss: 0.9000 - val_mean_absolute_error: 0.6535\n",
      "Epoch 31/50\n",
      "19/19 [==============================] - 0s 11ms/step - loss: 0.3460 - mean_absolute_error: 0.4174 - val_loss: 0.7429 - val_mean_absolute_error: 0.6010\n",
      "Epoch 32/50\n",
      "19/19 [==============================] - 0s 10ms/step - loss: 0.3084 - mean_absolute_error: 0.3776 - val_loss: 0.8268 - val_mean_absolute_error: 0.6236\n",
      "Epoch 33/50\n",
      "19/19 [==============================] - 0s 10ms/step - loss: 0.2863 - mean_absolute_error: 0.3693 - val_loss: 0.8344 - val_mean_absolute_error: 0.6170\n",
      "Epoch 34/50\n",
      "19/19 [==============================] - 0s 10ms/step - loss: 0.2682 - mean_absolute_error: 0.3569 - val_loss: 0.8646 - val_mean_absolute_error: 0.6242\n",
      "Epoch 35/50\n",
      "19/19 [==============================] - 0s 9ms/step - loss: 0.2668 - mean_absolute_error: 0.3553 - val_loss: 0.8590 - val_mean_absolute_error: 0.6158\n",
      "Epoch 36/50\n",
      "19/19 [==============================] - 0s 9ms/step - loss: 0.2679 - mean_absolute_error: 0.3661 - val_loss: 0.8608 - val_mean_absolute_error: 0.6161\n",
      "Epoch 37/50\n",
      "19/19 [==============================] - 0s 11ms/step - loss: 0.2429 - mean_absolute_error: 0.3448 - val_loss: 0.8617 - val_mean_absolute_error: 0.6298\n",
      "Epoch 38/50\n",
      "19/19 [==============================] - 0s 10ms/step - loss: 0.2359 - mean_absolute_error: 0.3310 - val_loss: 0.9210 - val_mean_absolute_error: 0.6434\n",
      "Epoch 39/50\n",
      "19/19 [==============================] - 0s 9ms/step - loss: 0.2560 - mean_absolute_error: 0.3527 - val_loss: 0.8647 - val_mean_absolute_error: 0.6182\n",
      "Epoch 40/50\n",
      "19/19 [==============================] - 0s 10ms/step - loss: 0.2369 - mean_absolute_error: 0.3297 - val_loss: 0.8892 - val_mean_absolute_error: 0.6399\n",
      "Epoch 41/50\n",
      "19/19 [==============================] - 0s 10ms/step - loss: 0.2250 - mean_absolute_error: 0.3205 - val_loss: 0.9194 - val_mean_absolute_error: 0.6399\n",
      "Epoch 42/50\n",
      "19/19 [==============================] - 0s 10ms/step - loss: 0.2111 - mean_absolute_error: 0.3142 - val_loss: 0.9037 - val_mean_absolute_error: 0.6252\n",
      "Epoch 43/50\n",
      "19/19 [==============================] - 0s 11ms/step - loss: 0.1964 - mean_absolute_error: 0.2979 - val_loss: 0.9228 - val_mean_absolute_error: 0.6407\n",
      "Epoch 44/50\n",
      "19/19 [==============================] - 0s 10ms/step - loss: 0.1840 - mean_absolute_error: 0.2816 - val_loss: 0.8396 - val_mean_absolute_error: 0.6072\n",
      "Epoch 45/50\n",
      "19/19 [==============================] - 0s 10ms/step - loss: 0.1914 - mean_absolute_error: 0.2941 - val_loss: 1.0706 - val_mean_absolute_error: 0.7045\n",
      "Epoch 46/50\n",
      "19/19 [==============================] - 0s 10ms/step - loss: 0.2038 - mean_absolute_error: 0.3144 - val_loss: 1.0228 - val_mean_absolute_error: 0.6857\n",
      "Epoch 47/50\n",
      "19/19 [==============================] - 0s 10ms/step - loss: 0.1936 - mean_absolute_error: 0.2983 - val_loss: 0.9971 - val_mean_absolute_error: 0.6671\n",
      "Epoch 48/50\n",
      "19/19 [==============================] - 0s 10ms/step - loss: 0.1754 - mean_absolute_error: 0.2877 - val_loss: 0.8727 - val_mean_absolute_error: 0.6188\n",
      "Epoch 49/50\n",
      "19/19 [==============================] - 0s 10ms/step - loss: 0.1707 - mean_absolute_error: 0.2888 - val_loss: 1.0081 - val_mean_absolute_error: 0.6673\n",
      "Epoch 50/50\n",
      "19/19 [==============================] - 0s 9ms/step - loss: 0.1683 - mean_absolute_error: 0.2834 - val_loss: 0.9999 - val_mean_absolute_error: 0.6707\n"
     ]
    },
    {
     "data": {
      "text/plain": [
       "<keras.src.callbacks.History at 0x7ff7c3bc8e20>"
      ]
     },
     "execution_count": 23,
     "metadata": {},
     "output_type": "execute_result"
    }
   ],
   "source": [
    "model_lstm2.fit(X_train, y_train, epochs=50, validation_split=0.2)"
   ]
  },
  {
   "cell_type": "code",
   "execution_count": 24,
   "metadata": {},
   "outputs": [
    {
     "name": "stdout",
     "output_type": "stream",
     "text": [
      "6/6 [==============================] - 0s 5ms/step\n"
     ]
    }
   ],
   "source": [
    "pred_lstm2 = model_lstm2.predict(X_test).reshape(-1)"
   ]
  },
  {
   "cell_type": "code",
   "execution_count": 30,
   "metadata": {},
   "outputs": [],
   "source": [
    "def user_mape(y_test, pred):\n",
    "    # 예측대상(test_y)값이 0인 경우를 대비해, \n",
    "    # 0이 아닌 아주 작은수를 더해 MAPE값을 구함\n",
    "    epsilon = 1e-10\n",
    "    \n",
    "    abs_err = np.abs(y_test - pred)\n",
    "    y_test = y_test + epsilon\n",
    "        \n",
    "    pct_err = np.where(abs_err == 0, 0, abs_err / y_test * 100)\n",
    "\n",
    "    # for i in range(len(pct_err)):\n",
    "    #     if pct_err[i] > 100:\n",
    "    #         print(y_test[i], pred[i], pct_err[i])\n",
    "    pct_err = np.minimum(pct_err, 100)\n",
    "    \n",
    "    return np.mean(pct_err)\n",
    "\n",
    "def regression_evaluation(y_test, pred, verbose=1):\n",
    "    # 모든값을 소숫점 5자리에서 반올림(np 자체의 버그인지 일단 해결하기 위함)\n",
    "    y = np.round(y_test, decimals=5)\n",
    "    p = np.round(pred, decimals=5)\n",
    "    \n",
    "    mse = mean_squared_error(y, p)\n",
    "    rmse = np.sqrt(mse)\n",
    "    mae = mean_absolute_error(y, p)\n",
    "    r2score = r2_score(y, p)\n",
    "    mape = mean_absolute_percentage_error(y, p)\n",
    "    mape2 = user_mape(y, p)\n",
    "    \n",
    "    if verbose != 0:\n",
    "        print(\n",
    "            f'R2_SCORE: {r2score:.6f}, MAPE2: {mape2:.6f}, '\n",
    "            f'MAPE: {mape:.6f}\\nMSE: {mse:.6f}, '\n",
    "            f'MAE: {mae:.6f}, RMSE: {rmse:.6f}'\n",
    "        )\n",
    "        \n",
    "    return mse, rmse, mae, mape, mape2"
   ]
  },
  {
   "cell_type": "code",
   "execution_count": 31,
   "metadata": {},
   "outputs": [
    {
     "name": "stdout",
     "output_type": "stream",
     "text": [
      "R2_SCORE: 0.134867, MAPE2: -67.357293, MAPE: 1.638471\n",
      "MSE: 0.879620, MAE: 0.616516, RMSE: 0.937881\n"
     ]
    }
   ],
   "source": [
    "_ = regression_evaluation(y_test, pred_lstm2)"
   ]
  },
  {
   "cell_type": "code",
   "execution_count": null,
   "metadata": {},
   "outputs": [],
   "source": []
  }
 ],
 "metadata": {
  "kernelspec": {
   "display_name": "t213p310",
   "language": "python",
   "name": "python3"
  },
  "language_info": {
   "codemirror_mode": {
    "name": "ipython",
    "version": 3
   },
   "file_extension": ".py",
   "mimetype": "text/x-python",
   "name": "python",
   "nbconvert_exporter": "python",
   "pygments_lexer": "ipython3",
   "version": "3.10.12"
  },
  "orig_nbformat": 4
 },
 "nbformat": 4,
 "nbformat_minor": 2
}
