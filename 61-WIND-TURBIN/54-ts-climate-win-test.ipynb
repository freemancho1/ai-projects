{
 "cells": [
  {
   "cell_type": "code",
   "execution_count": 4,
   "metadata": {},
   "outputs": [],
   "source": [
    "import os\n",
    "import pandas as pd\n",
    "\n",
    "from climate_win_gen import WindowGen"
   ]
  },
  {
   "cell_type": "code",
   "execution_count": 3,
   "metadata": {},
   "outputs": [
    {
     "name": "stdout",
     "output_type": "stream",
     "text": [
      "처리할 데이터프레임이 없습니다. 확인후 다시 실행하세요\n"
     ]
    }
   ],
   "source": [
    "w1 = WindowGen(input_width=1, label_width=1, shift=1)"
   ]
  },
  {
   "cell_type": "code",
   "execution_count": 5,
   "metadata": {},
   "outputs": [],
   "source": [
    "_PATH_BASE = os.path.join(os.getcwd(), 'data')\n",
    "_PATH_TRAIN = os.path.join(_PATH_BASE, 'climate_train.csv')\n",
    "_PATH_VALID = os.path.join(_PATH_BASE, 'climate_valid.csv')\n",
    "_PATH_TEST = os.path.join(_PATH_BASE, 'climate_test.csv')\n",
    "\n",
    "try:\n",
    "    df_train = pd.read_csv(_PATH_TRAIN)\n",
    "    df_valid = pd.read_csv(_PATH_VALID)\n",
    "    df_test = pd.read_csv(_PATH_TEST)\n",
    "except Exception as e:\n",
    "    print('훈련/검증/시험파일이 존재하지 않습니다.\\n'\n",
    "          '52-ts-climate-pp.ipynb 실행 후 작업하시기 바랍니다.')\n",
    "    print(e)"
   ]
  },
  {
   "cell_type": "code",
   "execution_count": 6,
   "metadata": {},
   "outputs": [],
   "source": [
    "def make_win(input_width, label_width, shift, labels):\n",
    "    return WindowGen(\n",
    "        input_width=input_width,\n",
    "        label_width=label_width,\n",
    "        shift=shift,\n",
    "        df_train=df_train,\n",
    "        df_valid=df_valid,\n",
    "        df_test=df_test,\n",
    "        label_columns=labels\n",
    "    )"
   ]
  },
  {
   "cell_type": "code",
   "execution_count": 8,
   "metadata": {},
   "outputs": [
    {
     "data": {
      "text/plain": [
       "Total window size: 2\n",
       "Input indices: [0]\n",
       "Label indices: [1]\n",
       "Label column name(s): ['T (degC)']"
      ]
     },
     "execution_count": 8,
     "metadata": {},
     "output_type": "execute_result"
    }
   ],
   "source": [
    "w1 = make_win(input_width=1, label_width=1, shift=1, labels=['T (degC)'])\n",
    "w1"
   ]
  },
  {
   "cell_type": "code",
   "execution_count": null,
   "metadata": {},
   "outputs": [],
   "source": []
  }
 ],
 "metadata": {
  "kernelspec": {
   "display_name": "t213p310",
   "language": "python",
   "name": "python3"
  },
  "language_info": {
   "codemirror_mode": {
    "name": "ipython",
    "version": 3
   },
   "file_extension": ".py",
   "mimetype": "text/x-python",
   "name": "python",
   "nbconvert_exporter": "python",
   "pygments_lexer": "ipython3",
   "version": "3.10.12"
  },
  "orig_nbformat": 4
 },
 "nbformat": 4,
 "nbformat_minor": 2
}
