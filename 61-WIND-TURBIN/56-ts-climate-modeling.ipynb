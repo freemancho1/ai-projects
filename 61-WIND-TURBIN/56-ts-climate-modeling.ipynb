{
 "cells": [
  {
   "cell_type": "code",
   "execution_count": 1,
   "metadata": {},
   "outputs": [
    {
     "name": "stderr",
     "output_type": "stream",
     "text": [
      "2023-09-05 21:57:25.147211: I tensorflow/core/platform/cpu_feature_guard.cc:182] This TensorFlow binary is optimized to use available CPU instructions in performance-critical operations.\n",
      "To enable the following instructions: AVX2 FMA, in other operations, rebuild TensorFlow with the appropriate compiler flags.\n"
     ]
    }
   ],
   "source": [
    " import os\n",
    " import numpy as np\n",
    " import pandas as pd\n",
    " import tensorflow as tf\n",
    " \n",
    " import matplotlib.pyplot as plt\n",
    " \n",
    " from freeman.plt_setting import plt_settings\n",
    " from freeman.tensor import MakeWindow"
   ]
  },
  {
   "cell_type": "code",
   "execution_count": 2,
   "metadata": {},
   "outputs": [],
   "source": [
    "plt_settings()"
   ]
  },
  {
   "cell_type": "code",
   "execution_count": 3,
   "metadata": {},
   "outputs": [],
   "source": [
    "_PATH_BASE = os.path.join(os.getcwd(), 'data')\n",
    "_PATH_CLIMATE = os.path.join(_PATH_BASE, 'climate_pp.csv')\n",
    "\n",
    "try:\n",
    "    df_climate = pd.read_csv(_PATH_CLIMATE)\n",
    "except Exception as e:\n",
    "    print('파일이 존재하지 않습니다.\\n'\n",
    "          '52-ts-climate-pp.ipynb 실행 후 작업하시기 바랍니다.')\n",
    "    print(e)"
   ]
  },
  {
   "cell_type": "code",
   "execution_count": 4,
   "metadata": {},
   "outputs": [],
   "source": [
    "WINDOW_SIZE = 24\n",
    "BATCH_SIZE = 32\n",
    "TARGET_COL = 'T (degC)'"
   ]
  },
  {
   "cell_type": "code",
   "execution_count": 5,
   "metadata": {},
   "outputs": [
    {
     "name": "stderr",
     "output_type": "stream",
     "text": [
      "2023-09-05 21:57:26.864246: I tensorflow/compiler/xla/stream_executor/cuda/cuda_gpu_executor.cc:995] successful NUMA node read from SysFS had negative value (-1), but there must be at least one NUMA node, so returning NUMA node zero. See more at https://github.com/torvalds/linux/blob/v6.0/Documentation/ABI/testing/sysfs-bus-pci#L344-L355\n",
      "2023-09-05 21:57:26.868772: I tensorflow/compiler/xla/stream_executor/cuda/cuda_gpu_executor.cc:995] successful NUMA node read from SysFS had negative value (-1), but there must be at least one NUMA node, so returning NUMA node zero. See more at https://github.com/torvalds/linux/blob/v6.0/Documentation/ABI/testing/sysfs-bus-pci#L344-L355\n",
      "2023-09-05 21:57:26.868925: I tensorflow/compiler/xla/stream_executor/cuda/cuda_gpu_executor.cc:995] successful NUMA node read from SysFS had negative value (-1), but there must be at least one NUMA node, so returning NUMA node zero. See more at https://github.com/torvalds/linux/blob/v6.0/Documentation/ABI/testing/sysfs-bus-pci#L344-L355\n",
      "2023-09-05 21:57:26.869674: I tensorflow/compiler/xla/stream_executor/cuda/cuda_gpu_executor.cc:995] successful NUMA node read from SysFS had negative value (-1), but there must be at least one NUMA node, so returning NUMA node zero. See more at https://github.com/torvalds/linux/blob/v6.0/Documentation/ABI/testing/sysfs-bus-pci#L344-L355\n",
      "2023-09-05 21:57:26.869800: I tensorflow/compiler/xla/stream_executor/cuda/cuda_gpu_executor.cc:995] successful NUMA node read from SysFS had negative value (-1), but there must be at least one NUMA node, so returning NUMA node zero. See more at https://github.com/torvalds/linux/blob/v6.0/Documentation/ABI/testing/sysfs-bus-pci#L344-L355\n",
      "2023-09-05 21:57:26.869911: I tensorflow/compiler/xla/stream_executor/cuda/cuda_gpu_executor.cc:995] successful NUMA node read from SysFS had negative value (-1), but there must be at least one NUMA node, so returning NUMA node zero. See more at https://github.com/torvalds/linux/blob/v6.0/Documentation/ABI/testing/sysfs-bus-pci#L344-L355\n",
      "2023-09-05 21:57:27.341964: I tensorflow/compiler/xla/stream_executor/cuda/cuda_gpu_executor.cc:995] successful NUMA node read from SysFS had negative value (-1), but there must be at least one NUMA node, so returning NUMA node zero. See more at https://github.com/torvalds/linux/blob/v6.0/Documentation/ABI/testing/sysfs-bus-pci#L344-L355\n",
      "2023-09-05 21:57:27.342121: I tensorflow/compiler/xla/stream_executor/cuda/cuda_gpu_executor.cc:995] successful NUMA node read from SysFS had negative value (-1), but there must be at least one NUMA node, so returning NUMA node zero. See more at https://github.com/torvalds/linux/blob/v6.0/Documentation/ABI/testing/sysfs-bus-pci#L344-L355\n",
      "2023-09-05 21:57:27.342241: I tensorflow/compiler/xla/stream_executor/cuda/cuda_gpu_executor.cc:995] successful NUMA node read from SysFS had negative value (-1), but there must be at least one NUMA node, so returning NUMA node zero. See more at https://github.com/torvalds/linux/blob/v6.0/Documentation/ABI/testing/sysfs-bus-pci#L344-L355\n",
      "2023-09-05 21:57:27.342345: I tensorflow/core/common_runtime/gpu/gpu_device.cc:1639] Created device /job:localhost/replica:0/task:0/device:GPU:0 with 6822 MB memory:  -> device: 0, name: NVIDIA GeForce GTX 1070, pci bus id: 0000:01:00.0, compute capability: 6.1\n"
     ]
    },
    {
     "name": "stdout",
     "output_type": "stream",
     "text": [
      "Batch dataset shape: features(32, 24, 19), label(32,)\n",
      "Last batch dataset shape: features(25, 24, 19), label(25,)\n",
      "Batch dataset size: 2191\n",
      "Total dataset row size: 70105 = 32 * (2191 - 1) + 25\n"
     ]
    }
   ],
   "source": [
    "win_data = MakeWindow(\n",
    "    df_climate, WINDOW_SIZE, BATCH_SIZE, label_col=TARGET_COL\n",
    ")"
   ]
  },
  {
   "cell_type": "code",
   "execution_count": 6,
   "metadata": {},
   "outputs": [
    {
     "name": "stdout",
     "output_type": "stream",
     "text": [
      "Train Data:\n",
      "Batch dataset shape: features(32, 24, 19), label(32,)\n",
      "Last batch dataset shape: features(32, 24, 19), label(32,)\n",
      "Batch dataset size: 1314\n",
      "Total dataset row size: 42048 = 32 * (1314 - 1) + 32\n",
      "Valid Data:\n",
      "Batch dataset shape: features(32, 24, 19), label(32,)\n",
      "Last batch dataset shape: features(32, 24, 19), label(32,)\n",
      "Batch dataset size: 438\n",
      "Total dataset row size: 14016 = 32 * (438 - 1) + 32\n",
      "Test Data:\n",
      "Batch dataset shape: features(32, 24, 19), label(32,)\n",
      "Last batch dataset shape: features(25, 24, 19), label(25,)\n",
      "Batch dataset size: 439\n",
      "Total dataset row size: 14041 = 32 * (439 - 1) + 25\n"
     ]
    }
   ],
   "source": [
    "win_data.slices()"
   ]
  },
  {
   "cell_type": "code",
   "execution_count": 7,
   "metadata": {},
   "outputs": [],
   "source": [
    "model = tf.keras.Sequential([\n",
    "    tf.keras.layers.LSTM(32, activation='tanh', input_shape=win_data.input_shape),\n",
    "    tf.keras.layers.Dense(1)\n",
    "])\n",
    "\n",
    "model.compile(\n",
    "    optimizer=tf.keras.optimizers.Adam(),\n",
    "    loss=tf.keras.losses.MeanSquaredError(),\n",
    "    metrics=[tf.keras.metrics.MeanAbsoluteError()]\n",
    ")"
   ]
  },
  {
   "cell_type": "code",
   "execution_count": 8,
   "metadata": {},
   "outputs": [
    {
     "name": "stdout",
     "output_type": "stream",
     "text": [
      "Epoch 1/10\n"
     ]
    },
    {
     "name": "stderr",
     "output_type": "stream",
     "text": [
      "2023-09-05 21:57:40.521839: I tensorflow/compiler/xla/stream_executor/cuda/cuda_dnn.cc:432] Loaded cuDNN version 8904\n",
      "2023-09-05 21:57:40.784542: I tensorflow/compiler/xla/service/service.cc:168] XLA service 0x7fd1d01d2840 initialized for platform CUDA (this does not guarantee that XLA will be used). Devices:\n",
      "2023-09-05 21:57:40.784565: I tensorflow/compiler/xla/service/service.cc:176]   StreamExecutor device (0): NVIDIA GeForce GTX 1070, Compute Capability 6.1\n",
      "2023-09-05 21:57:40.840516: I tensorflow/compiler/mlir/tensorflow/utils/dump_mlir_util.cc:255] disabling MLIR crash reproducer, set env var `MLIR_CRASH_REPRODUCER_DIRECTORY` to enable.\n"
     ]
    },
    {
     "name": "stdout",
     "output_type": "stream",
     "text": [
      "      1/Unknown - 3s 3s/step - loss: 25.6008 - mean_absolute_error: 4.8079"
     ]
    },
    {
     "name": "stderr",
     "output_type": "stream",
     "text": [
      "2023-09-05 21:57:41.036789: I tensorflow/tsl/platform/default/subprocess.cc:304] Start cannot spawn child process: No such file or directory\n",
      "2023-09-05 21:57:41.139426: I ./tensorflow/compiler/jit/device_compiler.h:186] Compiled cluster using XLA!  This line is logged at most once for the lifetime of the process.\n"
     ]
    },
    {
     "name": "stdout",
     "output_type": "stream",
     "text": [
      "   1296/Unknown - 7s 3ms/step - loss: 114.6908 - mean_absolute_error: 8.7901"
     ]
    },
    {
     "name": "stderr",
     "output_type": "stream",
     "text": [
      "2023-09-05 21:57:44.926385: I tensorflow/core/framework/local_rendezvous.cc:405] Local rendezvous recv item cancelled. Key hash: 10558366348436227318\n",
      "2023-09-05 21:57:44.926425: I tensorflow/core/framework/local_rendezvous.cc:405] Local rendezvous recv item cancelled. Key hash: 13163502417316224400\n"
     ]
    },
    {
     "name": "stdout",
     "output_type": "stream",
     "text": [
      "1314/1314 [==============================] - 10s 5ms/step - loss: 113.5534 - mean_absolute_error: 8.7355 - val_loss: nan - val_mean_absolute_error: nan\n",
      "Epoch 2/10\n",
      "  56/1314 [>.............................] - ETA: 3s - loss: 59.7211 - mean_absolute_error: 5.9970"
     ]
    },
    {
     "name": "stderr",
     "output_type": "stream",
     "text": [
      "2023-09-05 21:57:47.988382: I tensorflow/core/framework/local_rendezvous.cc:405] Local rendezvous recv item cancelled. Key hash: 10558366348436227318\n",
      "2023-09-05 21:57:47.988418: I tensorflow/core/framework/local_rendezvous.cc:405] Local rendezvous recv item cancelled. Key hash: 13163502417316224400\n"
     ]
    },
    {
     "name": "stdout",
     "output_type": "stream",
     "text": [
      "1314/1314 [==============================] - 6s 5ms/step - loss: 84.2717 - mean_absolute_error: 7.5113 - val_loss: nan - val_mean_absolute_error: nan\n",
      "Epoch 3/10\n",
      "1314/1314 [==============================] - 6s 5ms/step - loss: 78.9606 - mean_absolute_error: 7.2646 - val_loss: nan - val_mean_absolute_error: nan\n",
      "Epoch 4/10\n",
      "1314/1314 [==============================] - 6s 5ms/step - loss: 78.3298 - mean_absolute_error: 7.2261 - val_loss: nan - val_mean_absolute_error: nan\n",
      "Epoch 5/10\n",
      "1314/1314 [==============================] - 6s 5ms/step - loss: 78.3344 - mean_absolute_error: 7.2211 - val_loss: nan - val_mean_absolute_error: nan\n",
      "Epoch 6/10\n",
      "1314/1314 [==============================] - 6s 5ms/step - loss: 78.5920 - mean_absolute_error: 7.2343 - val_loss: nan - val_mean_absolute_error: nan\n",
      "Epoch 7/10\n",
      "1314/1314 [==============================] - 6s 5ms/step - loss: 78.4637 - mean_absolute_error: 7.2270 - val_loss: nan - val_mean_absolute_error: nan\n",
      "Epoch 8/10\n",
      "1314/1314 [==============================] - 7s 5ms/step - loss: 78.4855 - mean_absolute_error: 7.2263 - val_loss: nan - val_mean_absolute_error: nan\n",
      "Epoch 9/10\n",
      "1314/1314 [==============================] - 6s 5ms/step - loss: 78.4957 - mean_absolute_error: 7.2262 - val_loss: nan - val_mean_absolute_error: nan\n",
      "Epoch 10/10\n",
      "1314/1314 [==============================] - 6s 5ms/step - loss: 78.4993 - mean_absolute_error: 7.2262 - val_loss: nan - val_mean_absolute_error: nan\n"
     ]
    },
    {
     "data": {
      "text/plain": [
       "<keras.src.callbacks.History at 0x7fd38861b0a0>"
      ]
     },
     "execution_count": 8,
     "metadata": {},
     "output_type": "execute_result"
    }
   ],
   "source": [
    "model.fit(       # return history\n",
    "    win_data.train, \n",
    "    epochs=10, \n",
    "    validation_data=win_data.valid,\n",
    ")"
   ]
  },
  {
   "cell_type": "code",
   "execution_count": 9,
   "metadata": {},
   "outputs": [
    {
     "name": "stdout",
     "output_type": "stream",
     "text": [
      "439/439 [==============================] - 3s 2ms/step - loss: nan - mean_absolute_error: nan\n"
     ]
    },
    {
     "name": "stderr",
     "output_type": "stream",
     "text": [
      "2023-09-05 21:59:50.153822: I tensorflow/core/framework/local_rendezvous.cc:405] Local rendezvous recv item cancelled. Key hash: 10558366348436227318\n"
     ]
    },
    {
     "data": {
      "text/plain": [
       "[nan, nan]"
      ]
     },
     "execution_count": 9,
     "metadata": {},
     "output_type": "execute_result"
    }
   ],
   "source": [
    "model.evaluate(win_data.test)"
   ]
  },
  {
   "cell_type": "code",
   "execution_count": null,
   "metadata": {},
   "outputs": [],
   "source": []
  }
 ],
 "metadata": {
  "kernelspec": {
   "display_name": "t213p310",
   "language": "python",
   "name": "python3"
  },
  "language_info": {
   "codemirror_mode": {
    "name": "ipython",
    "version": 3
   },
   "file_extension": ".py",
   "mimetype": "text/x-python",
   "name": "python",
   "nbconvert_exporter": "python",
   "pygments_lexer": "ipython3",
   "version": "3.10.12"
  },
  "orig_nbformat": 4
 },
 "nbformat": 4,
 "nbformat_minor": 2
}
