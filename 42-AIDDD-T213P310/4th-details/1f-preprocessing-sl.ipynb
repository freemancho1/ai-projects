{
 "cells": [
  {
   "cell_type": "markdown",
   "metadata": {},
   "source": [
    "#### 인입선 데이터 처리\n",
    "* 여기서는 인입지점의 좌표정보는 처리하지 않음"
   ]
  },
  {
   "cell_type": "code",
   "execution_count": 23,
   "metadata": {},
   "outputs": [],
   "source": [
    "import pandas as pd\n",
    "from freeman.aiddd.data_manager import read_data, write_data, common_columns"
   ]
  },
  {
   "cell_type": "code",
   "execution_count": 24,
   "metadata": {},
   "outputs": [
    {
     "name": "stderr",
     "output_type": "stream",
     "text": [
      "/home/freeman/projects/ai-projects/utils/freeman/aiddd/data_manager.py:31: DtypeWarning: Columns (135) have mixed types. Specify dtype option on import or set low_memory=False.\n",
      "  return pd.read_csv(full_path, **kwargs)\n"
     ]
    },
    {
     "data": {
      "text/plain": [
       "((11383, 139), (22632, 57))"
      ]
     },
     "execution_count": 24,
     "metadata": {},
     "output_type": "execute_result"
    }
   ],
   "source": [
    "dtype = {'cons_id': str}\n",
    "df_cons = read_data(\n",
    "    '1e-merge-cons-pole-line-path', process_seq='4th', dtype=dtype,\n",
    ")\n",
    "df_sl = read_data('SL_DATA', data_type='provide', process_seq='3rd')\n",
    "\n",
    "df_cons.shape, df_sl.shape"
   ]
  },
  {
   "cell_type": "markdown",
   "metadata": {},
   "source": [
    "#### 전처리"
   ]
  },
  {
   "cell_type": "code",
   "execution_count": 25,
   "metadata": {},
   "outputs": [],
   "source": [
    "# df_cons[?????_comp_id]에 NaN값이 존재(읽어오면서 생긴듯)\n",
    "df_cons.fillna('', inplace=True)"
   ]
  },
  {
   "cell_type": "code",
   "execution_count": 26,
   "metadata": {},
   "outputs": [
    {
     "name": "stdout",
     "output_type": "stream",
     "text": [
      "{'공사번호': 'cons_id', '전산화번호': 'comp_id', '인입전선종류코드': 'sl_type_cd', '고객공급선규격코드': 'sl_spec_cd', '지지물간거리': 'span', '조수': 'supervisor'}\n"
     ]
    },
    {
     "data": {
      "text/plain": [
       "(22632, 6)"
      ]
     },
     "execution_count": 26,
     "metadata": {},
     "output_type": "execute_result"
    }
   ],
   "source": [
    "training_columns = [\n",
    "    '공사번호', '전산화번호', '인입전선종류코드', \n",
    "    '고객공급선규격코드', '지지물간거리', '조수'\n",
    "]\n",
    "rename_columns = {\n",
    "    '공사번호': common_columns['공사번호'],\n",
    "    '전산화번호': common_columns['전산화번호'],\n",
    "    '인입전선종류코드': common_columns['인입전선종류코드'],\n",
    "    '고객공급선규격코드': common_columns['고객공급선규격코드'],\n",
    "    '지지물간거리': common_columns['지지물간거리'],\n",
    "    '조수': common_columns['조수'],\n",
    "}\n",
    "print(rename_columns)\n",
    "\n",
    "df_training = df_sl[training_columns].copy()\n",
    "df_training.rename(columns=rename_columns, inplace=True)\n",
    "df_training.shape"
   ]
  },
  {
   "cell_type": "code",
   "execution_count": 27,
   "metadata": {},
   "outputs": [
    {
     "data": {
      "text/plain": [
       "(11892, 6)"
      ]
     },
     "execution_count": 27,
     "metadata": {},
     "output_type": "execute_result"
    }
   ],
   "source": [
    "df_training = df_training[df_training.cons_id.isin(df_cons.cons_id)]\n",
    "df_training.shape"
   ]
  },
  {
   "cell_type": "code",
   "execution_count": 28,
   "metadata": {},
   "outputs": [
    {
     "data": {
      "text/plain": [
       "cons_id       0\n",
       "comp_id       0\n",
       "sl_type_cd    0\n",
       "sl_spec_cd    0\n",
       "span          0\n",
       "supervisor    0\n",
       "dtype: int64"
      ]
     },
     "execution_count": 28,
     "metadata": {},
     "output_type": "execute_result"
    }
   ],
   "source": [
    "# 결측치 확인\n",
    "df_training.isna().sum()"
   ]
  },
  {
   "cell_type": "code",
   "execution_count": 29,
   "metadata": {},
   "outputs": [
    {
     "data": {
      "text/plain": [
       "cons_id\n",
       "474220224975    8\n",
       "477220213640    7\n",
       "70HC20213607    6\n",
       "70HC20225986    6\n",
       "474220223607    6\n",
       "               ..\n",
       "477220233923    1\n",
       "477220233924    1\n",
       "477220233925    1\n",
       "477220233928    1\n",
       "474620234659    1\n",
       "Name: count, Length: 11209, dtype: int64"
      ]
     },
     "execution_count": 29,
     "metadata": {},
     "output_type": "execute_result"
    }
   ],
   "source": [
    "df_training.cons_id.value_counts()"
   ]
  },
  {
   "cell_type": "code",
   "execution_count": 30,
   "metadata": {},
   "outputs": [
    {
     "data": {
      "text/plain": [
       "['line_cnts', 'pole_cnts', 'sl_cnts', 'real_pole_cnts', 'support_pole_cnts']"
      ]
     },
     "execution_count": 30,
     "metadata": {},
     "output_type": "execute_result"
    }
   ],
   "source": [
    "[col for col in df_cons.columns if '_cnts' in col]"
   ]
  },
  {
   "cell_type": "markdown",
   "metadata": {},
   "source": [
    "#### 전처리 sl 데이터 저장"
   ]
  },
  {
   "cell_type": "code",
   "execution_count": 31,
   "metadata": {},
   "outputs": [],
   "source": [
    "write_data('1f-preprocessed-sl', df_training, process_seq='4th')"
   ]
  },
  {
   "cell_type": "code",
   "execution_count": 32,
   "metadata": {},
   "outputs": [
    {
     "name": "stdout",
     "output_type": "stream",
     "text": [
      "<class 'pandas.core.frame.DataFrame'>\n",
      "Index: 11892 entries, 17 to 22631\n",
      "Data columns (total 6 columns):\n",
      " #   Column      Non-Null Count  Dtype  \n",
      "---  ------      --------------  -----  \n",
      " 0   cons_id     11892 non-null  object \n",
      " 1   comp_id     11892 non-null  object \n",
      " 2   sl_type_cd  11892 non-null  object \n",
      " 3   sl_spec_cd  11892 non-null  float64\n",
      " 4   span        11892 non-null  int64  \n",
      " 5   supervisor  11892 non-null  int64  \n",
      "dtypes: float64(1), int64(2), object(3)\n",
      "memory usage: 650.3+ KB\n"
     ]
    }
   ],
   "source": [
    "df_training.info()"
   ]
  },
  {
   "cell_type": "code",
   "execution_count": 33,
   "metadata": {},
   "outputs": [],
   "source": [
    "df_training = pd.get_dummies(\n",
    "    df_training,\n",
    "    columns=['sl_type_cd', 'sl_spec_cd'],\n",
    "    prefix=['sl_type', 'sl_spec']\n",
    ")"
   ]
  },
  {
   "cell_type": "code",
   "execution_count": 34,
   "metadata": {},
   "outputs": [
    {
     "name": "stdout",
     "output_type": "stream",
     "text": [
      "<class 'pandas.core.frame.DataFrame'>\n",
      "Index: 11892 entries, 17 to 22631\n",
      "Data columns (total 26 columns):\n",
      " #   Column         Non-Null Count  Dtype \n",
      "---  ------         --------------  ----- \n",
      " 0   cons_id        11892 non-null  object\n",
      " 1   comp_id        11892 non-null  object\n",
      " 2   span           11892 non-null  int64 \n",
      " 3   supervisor     11892 non-null  int64 \n",
      " 4   sl_type_C1     11892 non-null  bool  \n",
      " 5   sl_type_C2     11892 non-null  bool  \n",
      " 6   sl_type_C4     11892 non-null  bool  \n",
      " 7   sl_type_D2     11892 non-null  bool  \n",
      " 8   sl_type_D3     11892 non-null  bool  \n",
      " 9   sl_type_D4     11892 non-null  bool  \n",
      " 10  sl_type_OW     11892 non-null  bool  \n",
      " 11  sl_type_V2     11892 non-null  bool  \n",
      " 12  sl_spec_1.6    11892 non-null  bool  \n",
      " 13  sl_spec_2.6    11892 non-null  bool  \n",
      " 14  sl_spec_3.2    11892 non-null  bool  \n",
      " 15  sl_spec_5.5    11892 non-null  bool  \n",
      " 16  sl_spec_10.0   11892 non-null  bool  \n",
      " 17  sl_spec_16.0   11892 non-null  bool  \n",
      " 18  sl_spec_22.0   11892 non-null  bool  \n",
      " 19  sl_spec_25.0   11892 non-null  bool  \n",
      " 20  sl_spec_35.0   11892 non-null  bool  \n",
      " 21  sl_spec_38.0   11892 non-null  bool  \n",
      " 22  sl_spec_60.0   11892 non-null  bool  \n",
      " 23  sl_spec_70.0   11892 non-null  bool  \n",
      " 24  sl_spec_100.0  11892 non-null  bool  \n",
      " 25  sl_spec_120.0  11892 non-null  bool  \n",
      "dtypes: bool(22), int64(2), object(2)\n",
      "memory usage: 720.0+ KB\n"
     ]
    }
   ],
   "source": [
    "df_training.info()"
   ]
  },
  {
   "cell_type": "code",
   "execution_count": 35,
   "metadata": {},
   "outputs": [],
   "source": [
    "# bool형을 int로 변환\n",
    "df_training = df_training.applymap(\n",
    "    lambda x: int(x) if isinstance(x, bool) else x\n",
    ")"
   ]
  },
  {
   "cell_type": "code",
   "execution_count": 36,
   "metadata": {},
   "outputs": [
    {
     "data": {
      "text/html": [
       "<div>\n",
       "<style scoped>\n",
       "    .dataframe tbody tr th:only-of-type {\n",
       "        vertical-align: middle;\n",
       "    }\n",
       "\n",
       "    .dataframe tbody tr th {\n",
       "        vertical-align: top;\n",
       "    }\n",
       "\n",
       "    .dataframe thead th {\n",
       "        text-align: right;\n",
       "    }\n",
       "</style>\n",
       "<table border=\"1\" class=\"dataframe\">\n",
       "  <thead>\n",
       "    <tr style=\"text-align: right;\">\n",
       "      <th></th>\n",
       "      <th>cons_id</th>\n",
       "      <th>comp_id</th>\n",
       "      <th>span</th>\n",
       "      <th>supervisor</th>\n",
       "      <th>sl_type_C1</th>\n",
       "      <th>sl_type_C2</th>\n",
       "      <th>sl_type_C4</th>\n",
       "      <th>sl_type_D2</th>\n",
       "      <th>sl_type_D3</th>\n",
       "      <th>sl_type_D4</th>\n",
       "      <th>...</th>\n",
       "      <th>sl_spec_10.0</th>\n",
       "      <th>sl_spec_16.0</th>\n",
       "      <th>sl_spec_22.0</th>\n",
       "      <th>sl_spec_25.0</th>\n",
       "      <th>sl_spec_35.0</th>\n",
       "      <th>sl_spec_38.0</th>\n",
       "      <th>sl_spec_60.0</th>\n",
       "      <th>sl_spec_70.0</th>\n",
       "      <th>sl_spec_100.0</th>\n",
       "      <th>sl_spec_120.0</th>\n",
       "    </tr>\n",
       "  </thead>\n",
       "  <tbody>\n",
       "    <tr>\n",
       "      <th>19906</th>\n",
       "      <td>474220224975</td>\n",
       "      <td>1573B651</td>\n",
       "      <td>17</td>\n",
       "      <td>1</td>\n",
       "      <td>0</td>\n",
       "      <td>0</td>\n",
       "      <td>0</td>\n",
       "      <td>1</td>\n",
       "      <td>0</td>\n",
       "      <td>0</td>\n",
       "      <td>...</td>\n",
       "      <td>0</td>\n",
       "      <td>0</td>\n",
       "      <td>0</td>\n",
       "      <td>0</td>\n",
       "      <td>0</td>\n",
       "      <td>0</td>\n",
       "      <td>0</td>\n",
       "      <td>0</td>\n",
       "      <td>0</td>\n",
       "      <td>0</td>\n",
       "    </tr>\n",
       "    <tr>\n",
       "      <th>19907</th>\n",
       "      <td>474220224975</td>\n",
       "      <td>1573B651</td>\n",
       "      <td>11</td>\n",
       "      <td>1</td>\n",
       "      <td>0</td>\n",
       "      <td>0</td>\n",
       "      <td>0</td>\n",
       "      <td>1</td>\n",
       "      <td>0</td>\n",
       "      <td>0</td>\n",
       "      <td>...</td>\n",
       "      <td>0</td>\n",
       "      <td>0</td>\n",
       "      <td>0</td>\n",
       "      <td>0</td>\n",
       "      <td>0</td>\n",
       "      <td>0</td>\n",
       "      <td>0</td>\n",
       "      <td>0</td>\n",
       "      <td>0</td>\n",
       "      <td>0</td>\n",
       "    </tr>\n",
       "    <tr>\n",
       "      <th>19908</th>\n",
       "      <td>474220224975</td>\n",
       "      <td>1573B651</td>\n",
       "      <td>8</td>\n",
       "      <td>1</td>\n",
       "      <td>0</td>\n",
       "      <td>0</td>\n",
       "      <td>0</td>\n",
       "      <td>1</td>\n",
       "      <td>0</td>\n",
       "      <td>0</td>\n",
       "      <td>...</td>\n",
       "      <td>0</td>\n",
       "      <td>0</td>\n",
       "      <td>0</td>\n",
       "      <td>0</td>\n",
       "      <td>0</td>\n",
       "      <td>0</td>\n",
       "      <td>0</td>\n",
       "      <td>0</td>\n",
       "      <td>0</td>\n",
       "      <td>0</td>\n",
       "    </tr>\n",
       "    <tr>\n",
       "      <th>19909</th>\n",
       "      <td>474220224975</td>\n",
       "      <td>1573B661</td>\n",
       "      <td>20</td>\n",
       "      <td>1</td>\n",
       "      <td>0</td>\n",
       "      <td>0</td>\n",
       "      <td>0</td>\n",
       "      <td>1</td>\n",
       "      <td>0</td>\n",
       "      <td>0</td>\n",
       "      <td>...</td>\n",
       "      <td>0</td>\n",
       "      <td>0</td>\n",
       "      <td>0</td>\n",
       "      <td>0</td>\n",
       "      <td>0</td>\n",
       "      <td>0</td>\n",
       "      <td>0</td>\n",
       "      <td>0</td>\n",
       "      <td>0</td>\n",
       "      <td>0</td>\n",
       "    </tr>\n",
       "    <tr>\n",
       "      <th>19910</th>\n",
       "      <td>474220224975</td>\n",
       "      <td>1573B661</td>\n",
       "      <td>10</td>\n",
       "      <td>1</td>\n",
       "      <td>0</td>\n",
       "      <td>0</td>\n",
       "      <td>0</td>\n",
       "      <td>1</td>\n",
       "      <td>0</td>\n",
       "      <td>0</td>\n",
       "      <td>...</td>\n",
       "      <td>0</td>\n",
       "      <td>0</td>\n",
       "      <td>0</td>\n",
       "      <td>0</td>\n",
       "      <td>0</td>\n",
       "      <td>0</td>\n",
       "      <td>0</td>\n",
       "      <td>0</td>\n",
       "      <td>0</td>\n",
       "      <td>0</td>\n",
       "    </tr>\n",
       "    <tr>\n",
       "      <th>19911</th>\n",
       "      <td>474220224975</td>\n",
       "      <td>1573B664</td>\n",
       "      <td>21</td>\n",
       "      <td>1</td>\n",
       "      <td>0</td>\n",
       "      <td>0</td>\n",
       "      <td>0</td>\n",
       "      <td>1</td>\n",
       "      <td>0</td>\n",
       "      <td>0</td>\n",
       "      <td>...</td>\n",
       "      <td>0</td>\n",
       "      <td>0</td>\n",
       "      <td>0</td>\n",
       "      <td>0</td>\n",
       "      <td>0</td>\n",
       "      <td>0</td>\n",
       "      <td>0</td>\n",
       "      <td>0</td>\n",
       "      <td>0</td>\n",
       "      <td>0</td>\n",
       "    </tr>\n",
       "    <tr>\n",
       "      <th>19912</th>\n",
       "      <td>474220224975</td>\n",
       "      <td>1573B664</td>\n",
       "      <td>14</td>\n",
       "      <td>1</td>\n",
       "      <td>0</td>\n",
       "      <td>0</td>\n",
       "      <td>0</td>\n",
       "      <td>1</td>\n",
       "      <td>0</td>\n",
       "      <td>0</td>\n",
       "      <td>...</td>\n",
       "      <td>0</td>\n",
       "      <td>0</td>\n",
       "      <td>0</td>\n",
       "      <td>0</td>\n",
       "      <td>0</td>\n",
       "      <td>0</td>\n",
       "      <td>0</td>\n",
       "      <td>0</td>\n",
       "      <td>0</td>\n",
       "      <td>0</td>\n",
       "    </tr>\n",
       "    <tr>\n",
       "      <th>19913</th>\n",
       "      <td>474220224975</td>\n",
       "      <td>1573B664</td>\n",
       "      <td>6</td>\n",
       "      <td>1</td>\n",
       "      <td>0</td>\n",
       "      <td>0</td>\n",
       "      <td>0</td>\n",
       "      <td>1</td>\n",
       "      <td>0</td>\n",
       "      <td>0</td>\n",
       "      <td>...</td>\n",
       "      <td>0</td>\n",
       "      <td>0</td>\n",
       "      <td>0</td>\n",
       "      <td>0</td>\n",
       "      <td>0</td>\n",
       "      <td>0</td>\n",
       "      <td>0</td>\n",
       "      <td>0</td>\n",
       "      <td>0</td>\n",
       "      <td>0</td>\n",
       "    </tr>\n",
       "  </tbody>\n",
       "</table>\n",
       "<p>8 rows × 26 columns</p>\n",
       "</div>"
      ],
      "text/plain": [
       "            cons_id   comp_id  span  supervisor  sl_type_C1  sl_type_C2  \\\n",
       "19906  474220224975  1573B651    17           1           0           0   \n",
       "19907  474220224975  1573B651    11           1           0           0   \n",
       "19908  474220224975  1573B651     8           1           0           0   \n",
       "19909  474220224975  1573B661    20           1           0           0   \n",
       "19910  474220224975  1573B661    10           1           0           0   \n",
       "19911  474220224975  1573B664    21           1           0           0   \n",
       "19912  474220224975  1573B664    14           1           0           0   \n",
       "19913  474220224975  1573B664     6           1           0           0   \n",
       "\n",
       "       sl_type_C4  sl_type_D2  sl_type_D3  sl_type_D4  ...  sl_spec_10.0  \\\n",
       "19906           0           1           0           0  ...             0   \n",
       "19907           0           1           0           0  ...             0   \n",
       "19908           0           1           0           0  ...             0   \n",
       "19909           0           1           0           0  ...             0   \n",
       "19910           0           1           0           0  ...             0   \n",
       "19911           0           1           0           0  ...             0   \n",
       "19912           0           1           0           0  ...             0   \n",
       "19913           0           1           0           0  ...             0   \n",
       "\n",
       "       sl_spec_16.0  sl_spec_22.0  sl_spec_25.0  sl_spec_35.0  sl_spec_38.0  \\\n",
       "19906             0             0             0             0             0   \n",
       "19907             0             0             0             0             0   \n",
       "19908             0             0             0             0             0   \n",
       "19909             0             0             0             0             0   \n",
       "19910             0             0             0             0             0   \n",
       "19911             0             0             0             0             0   \n",
       "19912             0             0             0             0             0   \n",
       "19913             0             0             0             0             0   \n",
       "\n",
       "       sl_spec_60.0  sl_spec_70.0  sl_spec_100.0  sl_spec_120.0  \n",
       "19906             0             0              0              0  \n",
       "19907             0             0              0              0  \n",
       "19908             0             0              0              0  \n",
       "19909             0             0              0              0  \n",
       "19910             0             0              0              0  \n",
       "19911             0             0              0              0  \n",
       "19912             0             0              0              0  \n",
       "19913             0             0              0              0  \n",
       "\n",
       "[8 rows x 26 columns]"
      ]
     },
     "execution_count": 36,
     "metadata": {},
     "output_type": "execute_result"
    }
   ],
   "source": [
    "df_training[df_training.cons_id=='474220224975']\n",
    "# 당연하지만 인입선의 전원측전산화번호가 2개인 경우도 있음"
   ]
  },
  {
   "cell_type": "markdown",
   "metadata": {},
   "source": [
    "#### 공사번호 기준 인입선 그룹 만들기"
   ]
  },
  {
   "cell_type": "code",
   "execution_count": 37,
   "metadata": {},
   "outputs": [],
   "source": [
    "unique_cons_ids = df_training.cons_id.unique()\n",
    "cons_id_row_values = []\n",
    "columns_for_summation = df_training.columns.tolist()[2:]"
   ]
  },
  {
   "cell_type": "code",
   "execution_count": 38,
   "metadata": {},
   "outputs": [
    {
     "data": {
      "text/plain": [
       "(11383, 11209)"
      ]
     },
     "execution_count": 38,
     "metadata": {},
     "output_type": "execute_result"
    }
   ],
   "source": [
    "# 지금까지 전처리된 데이터의 공사번호 갯 수와 인입선 데이터의 공사번호 갯 수 비교\n",
    "df_cons.shape[0], len(unique_cons_ids)\n",
    "\n",
    "# 인입선 공사가 없는 공사도 있음"
   ]
  },
  {
   "cell_type": "code",
   "execution_count": 39,
   "metadata": {},
   "outputs": [],
   "source": [
    "for cons_id in unique_cons_ids:\n",
    "    df_temp = df_training[df_training.cons_id == cons_id]\n",
    "    new_row = df_temp[columns_for_summation].sum().values.tolist()\n",
    "    comp_id_count = df_temp.comp_id.nunique()\n",
    "    cons_id_row_values.append([cons_id, comp_id_count, df_temp.shape[0]] + new_row)"
   ]
  },
  {
   "cell_type": "code",
   "execution_count": 40,
   "metadata": {},
   "outputs": [
    {
     "data": {
      "text/plain": [
       "(11209, 27)"
      ]
     },
     "execution_count": 40,
     "metadata": {},
     "output_type": "execute_result"
    }
   ],
   "source": [
    "df_group = pd.DataFrame(\n",
    "    cons_id_row_values, \n",
    "    columns=['cons_id', 'sl_comp_id_cnts', 'real_sl_cnts', 'sl_span_sum'] \\\n",
    "        + columns_for_summation[1:]\n",
    ")\n",
    "df_group.shape"
   ]
  },
  {
   "cell_type": "code",
   "execution_count": 41,
   "metadata": {},
   "outputs": [
    {
     "data": {
      "text/plain": [
       "(11383, 165)"
      ]
     },
     "execution_count": 41,
     "metadata": {},
     "output_type": "execute_result"
    }
   ],
   "source": [
    "df_merge_sl = df_cons.merge(df_group, on='cons_id', how='left')\n",
    "df_merge_sl.shape"
   ]
  },
  {
   "cell_type": "code",
   "execution_count": 42,
   "metadata": {},
   "outputs": [
    {
     "data": {
      "text/plain": [
       "sl_spec_120.0      174\n",
       "sl_spec_1.6        174\n",
       "real_sl_cnts       174\n",
       "sl_span_sum        174\n",
       "supervisor         174\n",
       "sl_type_C1         174\n",
       "sl_type_C2         174\n",
       "sl_type_C4         174\n",
       "sl_type_D2         174\n",
       "sl_type_D3         174\n",
       "sl_type_D4         174\n",
       "sl_type_OW         174\n",
       "sl_type_V2         174\n",
       "sl_comp_id_cnts    174\n",
       "sl_spec_2.6        174\n",
       "sl_spec_25.0       174\n",
       "sl_spec_100.0      174\n",
       "sl_spec_70.0       174\n",
       "sl_spec_60.0       174\n",
       "sl_spec_35.0       174\n",
       "dtype: int64"
      ]
     },
     "execution_count": 42,
     "metadata": {},
     "output_type": "execute_result"
    }
   ],
   "source": [
    "df_merge_sl.isna().sum().sort_values(ascending=False)[:20]"
   ]
  },
  {
   "cell_type": "code",
   "execution_count": 43,
   "metadata": {},
   "outputs": [],
   "source": [
    "df_merge_sl.fillna(0.0, inplace=True)"
   ]
  },
  {
   "cell_type": "code",
   "execution_count": 44,
   "metadata": {},
   "outputs": [],
   "source": [
    "write_data('1f-merge-cons-pole-line-sl-path', df_merge_sl, process_seq='4th')"
   ]
  },
  {
   "cell_type": "code",
   "execution_count": null,
   "metadata": {},
   "outputs": [],
   "source": []
  }
 ],
 "metadata": {
  "kernelspec": {
   "display_name": "t213p310",
   "language": "python",
   "name": "python3"
  },
  "language_info": {
   "codemirror_mode": {
    "name": "ipython",
    "version": 3
   },
   "file_extension": ".py",
   "mimetype": "text/x-python",
   "name": "python",
   "nbconvert_exporter": "python",
   "pygments_lexer": "ipython3",
   "version": "3.10.12"
  },
  "orig_nbformat": 4
 },
 "nbformat": 4,
 "nbformat_minor": 2
}
