{
 "cells": [
  {
   "cell_type": "markdown",
   "metadata": {},
   "source": [
    "#### 공사비 기준 설비 카운팅\n",
    "\n",
    "##### 학습대상 추출\n",
    "* 공사비에 존재하는 공사번호\n",
    "* 전선 갯 수: 1~11, 전주 갯 수: 1~10"
   ]
  },
  {
   "cell_type": "code",
   "execution_count": 1,
   "metadata": {},
   "outputs": [],
   "source": [
    "import pandas as pd\n",
    "from datetime import datetime\n",
    "\n",
    "import matplotlib.pyplot as plt\n",
    "from freeman.plt_setting import plt_settings\n",
    "from freeman.aiddd.data_manager import read_data, write_data\n",
    "\n",
    "# 차트 한글처리 지원\n",
    "plt_settings()"
   ]
  },
  {
   "cell_type": "markdown",
   "metadata": {},
   "source": [
    "#### 데이터 불러오기"
   ]
  },
  {
   "cell_type": "code",
   "execution_count": 2,
   "metadata": {},
   "outputs": [
    {
     "name": "stdout",
     "output_type": "stream",
     "text": [
      "Total Elapsed Time for Data Load: 0:00:48.229812\n",
      "Provided Data Shape: line (40019, 77), pole (38533, 63), sl (22632, 57), \n",
      "Preprocessing Data Shape: (15335, 15)\n"
     ]
    }
   ],
   "source": [
    "_start_time = datetime.now()\n",
    "\n",
    "# 제공받은 데이터: 자체적으로 3차에 받은 데이터\n",
    "provided_data = {\n",
    "    'line': read_data('LINE_DATA', data_type='provide', process_seq='3rd'),\n",
    "    'pole': read_data('POLE_DATA', data_type='provide', process_seq='3rd'),\n",
    "    'sl': read_data('SL_DATA', data_type='provide', process_seq='3rd')\n",
    "}\n",
    "\n",
    "# 2차에 받은 공사비 데이터를 가지고 자체적으로 4차에 전처리한 학습대상 데이터 \n",
    "df_cons = read_data('1a-cons-training', data_type='preprocess', process_seq='4th')\n",
    "\n",
    "print(\n",
    "    f'Total Elapsed Time for Data Load: {datetime.now() - _start_time}\\n'\n",
    "    'Provided Data Shape:', end=' '\n",
    ")\n",
    "for data_type in provided_data.keys():\n",
    "    print(f'{data_type} {provided_data[data_type].shape}', end=', ')\n",
    "print(f'\\nPreprocessing Data Shape: {df_cons.shape}')"
   ]
  },
  {
   "cell_type": "markdown",
   "metadata": {},
   "source": [
    "#### 공사번호별 설비(전주/전선/인입선) 갯 수 계산"
   ]
  },
  {
   "cell_type": "code",
   "execution_count": 3,
   "metadata": {},
   "outputs": [],
   "source": [
    "for data_type in provided_data.keys():\n",
    "    df_current = provided_data[data_type]\n",
    "    device_counts_per_cons_id = df_current['공사번호'].value_counts()\n",
    "    column_name = f'{data_type}_cnts'\n",
    "    \n",
    "    df_cons = pd.merge(\n",
    "        df_cons, device_counts_per_cons_id.rename(column_name),\n",
    "        left_on='cons_id', right_on=device_counts_per_cons_id.index,\n",
    "        how='left'\n",
    "    )\n",
    "    \n",
    "    # 공사비에 있는 공사번호에 해당 설비가 없는 경우 NaN값이 들어감(그 값을 0으로)\n",
    "    df_cons[column_name].fillna(0, inplace=True)"
   ]
  },
  {
   "cell_type": "markdown",
   "metadata": {},
   "source": [
    "#### 중복으로 관리되는 전산화 번호 확인"
   ]
  },
  {
   "cell_type": "code",
   "execution_count": 4,
   "metadata": {},
   "outputs": [
    {
     "data": {
      "text/plain": [
       "전산화번호\n",
       "4053W851    2\n",
       "4189A521    2\n",
       "4189A301    2\n",
       "2663X353    2\n",
       "3780R101    2\n",
       "2663X052    2\n",
       "6304S412    2\n",
       "4053W872    2\n",
       "2885D003    1\n",
       "2582X841    1\n",
       "Name: count, dtype: int64"
      ]
     },
     "execution_count": 4,
     "metadata": {},
     "output_type": "execute_result"
    }
   ],
   "source": [
    "provided_data['pole']['전산화번호'].value_counts()[:10]"
   ]
  },
  {
   "cell_type": "code",
   "execution_count": 5,
   "metadata": {},
   "outputs": [],
   "source": [
    "df_pole = provided_data['pole']\n",
    "duplicated_comp_id_rows = \\\n",
    "    df_pole[df_pole['전산화번호'].duplicated(keep=False)]"
   ]
  },
  {
   "cell_type": "code",
   "execution_count": 6,
   "metadata": {},
   "outputs": [
    {
     "data": {
      "text/html": [
       "<div>\n",
       "<style scoped>\n",
       "    .dataframe tbody tr th:only-of-type {\n",
       "        vertical-align: middle;\n",
       "    }\n",
       "\n",
       "    .dataframe tbody tr th {\n",
       "        vertical-align: top;\n",
       "    }\n",
       "\n",
       "    .dataframe thead th {\n",
       "        text-align: right;\n",
       "    }\n",
       "</style>\n",
       "<table border=\"1\" class=\"dataframe\">\n",
       "  <thead>\n",
       "    <tr style=\"text-align: right;\">\n",
       "      <th></th>\n",
       "      <th>공사번호</th>\n",
       "      <th>전산화번호</th>\n",
       "    </tr>\n",
       "  </thead>\n",
       "  <tbody>\n",
       "    <tr>\n",
       "      <th>8631</th>\n",
       "      <td>476920213694</td>\n",
       "      <td>2663X052</td>\n",
       "    </tr>\n",
       "    <tr>\n",
       "      <th>8632</th>\n",
       "      <td>476920213694</td>\n",
       "      <td>2663X052</td>\n",
       "    </tr>\n",
       "    <tr>\n",
       "      <th>8635</th>\n",
       "      <td>476920213694</td>\n",
       "      <td>2663X353</td>\n",
       "    </tr>\n",
       "    <tr>\n",
       "      <th>8636</th>\n",
       "      <td>476920213694</td>\n",
       "      <td>2663X353</td>\n",
       "    </tr>\n",
       "    <tr>\n",
       "      <th>11084</th>\n",
       "      <td>477220203284</td>\n",
       "      <td>4053W851</td>\n",
       "    </tr>\n",
       "    <tr>\n",
       "      <th>11085</th>\n",
       "      <td>477220203284</td>\n",
       "      <td>4053W851</td>\n",
       "    </tr>\n",
       "    <tr>\n",
       "      <th>11086</th>\n",
       "      <td>477220203284</td>\n",
       "      <td>4053W872</td>\n",
       "    </tr>\n",
       "    <tr>\n",
       "      <th>11087</th>\n",
       "      <td>477220203284</td>\n",
       "      <td>4053W872</td>\n",
       "    </tr>\n",
       "    <tr>\n",
       "      <th>21589</th>\n",
       "      <td>474920213231</td>\n",
       "      <td>6304S412</td>\n",
       "    </tr>\n",
       "    <tr>\n",
       "      <th>22020</th>\n",
       "      <td>474920213966</td>\n",
       "      <td>6304S412</td>\n",
       "    </tr>\n",
       "    <tr>\n",
       "      <th>24516</th>\n",
       "      <td>70HC20204519</td>\n",
       "      <td>3780R101</td>\n",
       "    </tr>\n",
       "    <tr>\n",
       "      <th>24517</th>\n",
       "      <td>70HC20204519</td>\n",
       "      <td>3780R101</td>\n",
       "    </tr>\n",
       "    <tr>\n",
       "      <th>35028</th>\n",
       "      <td>474620204764</td>\n",
       "      <td>4189A301</td>\n",
       "    </tr>\n",
       "    <tr>\n",
       "      <th>35029</th>\n",
       "      <td>474620204764</td>\n",
       "      <td>4189A301</td>\n",
       "    </tr>\n",
       "    <tr>\n",
       "      <th>35030</th>\n",
       "      <td>474620204764</td>\n",
       "      <td>4189A521</td>\n",
       "    </tr>\n",
       "    <tr>\n",
       "      <th>35031</th>\n",
       "      <td>474620204764</td>\n",
       "      <td>4189A521</td>\n",
       "    </tr>\n",
       "  </tbody>\n",
       "</table>\n",
       "</div>"
      ],
      "text/plain": [
       "               공사번호     전산화번호\n",
       "8631   476920213694  2663X052\n",
       "8632   476920213694  2663X052\n",
       "8635   476920213694  2663X353\n",
       "8636   476920213694  2663X353\n",
       "11084  477220203284  4053W851\n",
       "11085  477220203284  4053W851\n",
       "11086  477220203284  4053W872\n",
       "11087  477220203284  4053W872\n",
       "21589  474920213231  6304S412\n",
       "22020  474920213966  6304S412\n",
       "24516  70HC20204519  3780R101\n",
       "24517  70HC20204519  3780R101\n",
       "35028  474620204764  4189A301\n",
       "35029  474620204764  4189A301\n",
       "35030  474620204764  4189A521\n",
       "35031  474620204764  4189A521"
      ]
     },
     "execution_count": 6,
     "metadata": {},
     "output_type": "execute_result"
    }
   ],
   "source": [
    "duplicated_comp_id_rows[['공사번호', '전산화번호']]"
   ]
  },
  {
   "cell_type": "code",
   "execution_count": 7,
   "metadata": {},
   "outputs": [
    {
     "data": {
      "text/html": [
       "<div>\n",
       "<style scoped>\n",
       "    .dataframe tbody tr th:only-of-type {\n",
       "        vertical-align: middle;\n",
       "    }\n",
       "\n",
       "    .dataframe tbody tr th {\n",
       "        vertical-align: top;\n",
       "    }\n",
       "\n",
       "    .dataframe thead th {\n",
       "        text-align: right;\n",
       "    }\n",
       "</style>\n",
       "<table border=\"1\" class=\"dataframe\">\n",
       "  <thead>\n",
       "    <tr style=\"text-align: right;\">\n",
       "      <th></th>\n",
       "      <th>cons_id</th>\n",
       "      <th>total_cons_cost</th>\n",
       "      <th>cont_cap</th>\n",
       "      <th>last_mod_date</th>\n",
       "      <th>year</th>\n",
       "      <th>month</th>\n",
       "      <th>day</th>\n",
       "      <th>dayofweek</th>\n",
       "      <th>dayofyear</th>\n",
       "      <th>last_mod_eid</th>\n",
       "      <th>eid_code</th>\n",
       "      <th>eid_code_number</th>\n",
       "      <th>eid_number</th>\n",
       "      <th>office_name</th>\n",
       "      <th>office_number</th>\n",
       "      <th>line_cnts</th>\n",
       "      <th>pole_cnts</th>\n",
       "      <th>sl_cnts</th>\n",
       "    </tr>\n",
       "  </thead>\n",
       "  <tbody>\n",
       "    <tr>\n",
       "      <th>8191</th>\n",
       "      <td>474920213231</td>\n",
       "      <td>3261098</td>\n",
       "      <td>3</td>\n",
       "      <td>2021-03-19 08:37:34</td>\n",
       "      <td>2021</td>\n",
       "      <td>3</td>\n",
       "      <td>19</td>\n",
       "      <td>4</td>\n",
       "      <td>78</td>\n",
       "      <td>2019108601</td>\n",
       "      <td>AAA</td>\n",
       "      <td>1</td>\n",
       "      <td>2019108601</td>\n",
       "      <td>제천지사</td>\n",
       "      <td>7</td>\n",
       "      <td>2.0</td>\n",
       "      <td>2.0</td>\n",
       "      <td>1.0</td>\n",
       "    </tr>\n",
       "    <tr>\n",
       "      <th>8389</th>\n",
       "      <td>474920213966</td>\n",
       "      <td>1647953</td>\n",
       "      <td>5</td>\n",
       "      <td>2021-07-06 12:40:48</td>\n",
       "      <td>2021</td>\n",
       "      <td>7</td>\n",
       "      <td>6</td>\n",
       "      <td>1</td>\n",
       "      <td>187</td>\n",
       "      <td>MDP2100070</td>\n",
       "      <td>MDP</td>\n",
       "      <td>8</td>\n",
       "      <td>2100070</td>\n",
       "      <td>제천지사</td>\n",
       "      <td>7</td>\n",
       "      <td>1.0</td>\n",
       "      <td>1.0</td>\n",
       "      <td>1.0</td>\n",
       "    </tr>\n",
       "  </tbody>\n",
       "</table>\n",
       "</div>"
      ],
      "text/plain": [
       "           cons_id  total_cons_cost  cont_cap        last_mod_date  year  \\\n",
       "8191  474920213231          3261098         3  2021-03-19 08:37:34  2021   \n",
       "8389  474920213966          1647953         5  2021-07-06 12:40:48  2021   \n",
       "\n",
       "      month  day  dayofweek  dayofyear last_mod_eid eid_code  eid_code_number  \\\n",
       "8191      3   19          4         78   2019108601      AAA                1   \n",
       "8389      7    6          1        187   MDP2100070      MDP                8   \n",
       "\n",
       "      eid_number office_name  office_number  line_cnts  pole_cnts  sl_cnts  \n",
       "8191  2019108601        제천지사              7        2.0        2.0      1.0  \n",
       "8389     2100070        제천지사              7        1.0        1.0      1.0  "
      ]
     },
     "execution_count": 7,
     "metadata": {},
     "output_type": "execute_result"
    }
   ],
   "source": [
    "# 전체 공사비 데이터에서 해당 공사번호 레코드 추출\n",
    "df_cons[df_cons.cons_id.isin(duplicated_comp_id_rows['공사번호'])]"
   ]
  },
  {
   "cell_type": "code",
   "execution_count": 8,
   "metadata": {},
   "outputs": [],
   "source": [
    "# 다행히 중복된 전산화번호가 포함된 공사번호는 1건 뿐임\n",
    "# 전주, 전선, 인입선 데이터 더 적을 '474920213966' 공사번호 제거\n",
    "df_cons = df_cons[df_cons.cons_id != '474920213966']"
   ]
  },
  {
   "cell_type": "markdown",
   "metadata": {},
   "source": [
    "#### 학습대상 레코드 추출"
   ]
  },
  {
   "cell_type": "code",
   "execution_count": 9,
   "metadata": {},
   "outputs": [
    {
     "data": {
      "text/plain": [
       "606"
      ]
     },
     "execution_count": 9,
     "metadata": {},
     "output_type": "execute_result"
    }
   ],
   "source": [
    "MIN_POLE_LINE_COUNT = 0\n",
    "MAX_POLE_COUNT = 10\n",
    "MAX_LINE_COUNT = 11\n",
    "\n",
    "training_data_conditions = \\\n",
    "    (df_cons.pole_cnts >  MIN_POLE_LINE_COUNT) & \\\n",
    "    (df_cons.pole_cnts <= MAX_POLE_COUNT) & \\\n",
    "    (df_cons.line_cnts >  MIN_POLE_LINE_COUNT) & \\\n",
    "    (df_cons.line_cnts <= MAX_LINE_COUNT)\n",
    "    \n",
    "# 불필요 레코드 갯 수\n",
    "df_cons[~training_data_conditions].shape[0]"
   ]
  },
  {
   "cell_type": "code",
   "execution_count": 10,
   "metadata": {},
   "outputs": [],
   "source": [
    "# 606개면 무시할 만 하니 제거\n",
    "df_training = df_cons[training_data_conditions]"
   ]
  },
  {
   "cell_type": "code",
   "execution_count": 11,
   "metadata": {},
   "outputs": [],
   "source": [
    "write_data('1b-merge-cons-device-counts-all', df_cons, process_seq='4th')\n",
    "write_data('1b-merge-cons-device-counts-training', df_training, process_seq='4th')"
   ]
  },
  {
   "cell_type": "code",
   "execution_count": null,
   "metadata": {},
   "outputs": [],
   "source": []
  }
 ],
 "metadata": {
  "kernelspec": {
   "display_name": "t213p310",
   "language": "python",
   "name": "python3"
  },
  "language_info": {
   "codemirror_mode": {
    "name": "ipython",
    "version": 3
   },
   "file_extension": ".py",
   "mimetype": "text/x-python",
   "name": "python",
   "nbconvert_exporter": "python",
   "pygments_lexer": "ipython3",
   "version": "3.10.12"
  },
  "orig_nbformat": 4
 },
 "nbformat": 4,
 "nbformat_minor": 2
}
