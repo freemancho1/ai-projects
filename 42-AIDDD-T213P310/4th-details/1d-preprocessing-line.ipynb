{
 "cells": [
  {
   "cell_type": "markdown",
   "metadata": {},
   "source": [
    "#### 전선 데이터 처리"
   ]
  },
  {
   "cell_type": "code",
   "execution_count": 31,
   "metadata": {},
   "outputs": [],
   "source": [
    "import pandas as pd\n",
    "from datetime import datetime\n",
    "\n",
    "from freeman.aiddd.data_manager import read_data, write_data, common_columns"
   ]
  },
  {
   "cell_type": "markdown",
   "metadata": {},
   "source": [
    "#### 데이터 불러오기"
   ]
  },
  {
   "cell_type": "code",
   "execution_count": 32,
   "metadata": {},
   "outputs": [
    {
     "name": "stdout",
     "output_type": "stream",
     "text": [
      "Total Elapsed Time for Data Load: 0:00:21.825749\n",
      "Provided Data Shape: (40019, 77)\n",
      "Preprocessed Data(cons) Shape: (14728, 35)\n",
      "Preprocessed Data(pole) Shape: (26920, 20)\n"
     ]
    }
   ],
   "source": [
    "_start_time = datetime.now()\n",
    "\n",
    "# 4차 전처리: 공사비 + 전주 데이터 \n",
    "_df_cons = read_data('1c-merge-cons-pole', process_seq='4th')\n",
    "\n",
    "# 4차 전처리: 전주 데이터(확인용)\n",
    "_df_pole = read_data('1c-preprocessed-pole', process_seq='4th')\n",
    "\n",
    "# 3번째 제공받은 전선 데이터\n",
    "_df_line = read_data('LINE_DATA', data_type='provide', process_seq='3rd')\n",
    "\n",
    "print(\n",
    "    f'Total Elapsed Time for Data Load: {datetime.now() - _start_time}\\n'\n",
    "    f'Provided Data Shape: {_df_line.shape}\\n'\n",
    "    f'Preprocessed Data(cons) Shape: {_df_cons.shape}\\n'\n",
    "    f'Preprocessed Data(pole) Shape: {_df_pole.shape}'\n",
    ")"
   ]
  },
  {
   "cell_type": "code",
   "execution_count": 33,
   "metadata": {},
   "outputs": [],
   "source": [
    "df_cons, df_pole, df_line = _df_cons.copy(), _df_pole.copy(), _df_line.copy()"
   ]
  },
  {
   "cell_type": "markdown",
   "metadata": {},
   "source": [
    "#### 데이터 확인 및 학습 컬럼 추출"
   ]
  },
  {
   "cell_type": "code",
   "execution_count": 34,
   "metadata": {},
   "outputs": [
    {
     "data": {
      "text/plain": [
       "Index(['공사번호', '공사변경순번', '전산화번호', 'GISID', '공사구분코드', '전원측전산화번호', '전압구분코드',\n",
       "       '설치순서', '공사성격코드', '회선명', '결선방식코드', '상배열구분코드', '지지물간거리', '전선종류코드1',\n",
       "       '전선규격코드1', '전선조수1', '전선구분코드1', '전선조정코드1', '전선공사특성코드2', '전선종류코드2',\n",
       "       '전선규격코드2', '전선조수2', '전선구분코드2', '전선조정코드2', '전선펴기여부', '중성선공사특성코드',\n",
       "       '중성선종류코드', '중성선규격코드', '중성선구분코드', '중성선조정코드', '중성선공용구분코드', '직선접속공사특성코드',\n",
       "       '직선접속수량', '슬리브접속수량', '시공방법코드', '상부가설여부', '수목접촉여부', '건물방호관코드', '건물방호관수량',\n",
       "       '고객제공여부', '직선접속중성선공사성격코드', '직선접속중성선수량', '전압선중성선사용여부', '중성선전압선사용여부',\n",
       "       '전선펴기긴선여부', '기설전선여부', '전선공사특성코드3', '전선종류코드3', '전선규격코드3', '전선구분코드3',\n",
       "       '전선조정코드3', '기설설비유실여부', '사업소코드', '변전소코드', '회선코드', '기설설비상태코드', '위험표지판수량',\n",
       "       '종단접속공사코드', '종단접속수량', '조가형태공사코드', '조가형태코드', '파형관규격코드', '디지털장력계여부',\n",
       "       '분산형전원표시판수', '케이블헤더수량', 'NDIS사업소코드', '최초등록일시', '최초등록자사번', '최종변경일시',\n",
       "       '최종변경자사번', '사업소명', '접수종류코드', '접수종류명', '공사형태코드', '공사형태명', '계약전력',\n",
       "       'X좌표-Y좌표'],\n",
       "      dtype='object')"
      ]
     },
     "execution_count": 34,
     "metadata": {},
     "output_type": "execute_result"
    }
   ],
   "source": [
    "df_line.columns"
   ]
  },
  {
   "cell_type": "code",
   "execution_count": 35,
   "metadata": {},
   "outputs": [
    {
     "data": {
      "text/plain": [
       "['전선종류코드1',\n",
       " '전선규격코드1',\n",
       " '전선조수1',\n",
       " '전선구분코드1',\n",
       " '전선조정코드1',\n",
       " '전선공사특성코드2',\n",
       " '전선종류코드2',\n",
       " '전선규격코드2',\n",
       " '전선조수2',\n",
       " '전선구분코드2',\n",
       " '전선조정코드2',\n",
       " '전선펴기여부',\n",
       " '전선펴기긴선여부',\n",
       " '기설전선여부',\n",
       " '전선공사특성코드3',\n",
       " '전선종류코드3',\n",
       " '전선규격코드3',\n",
       " '전선구분코드3',\n",
       " '전선조정코드3']"
      ]
     },
     "execution_count": 35,
     "metadata": {},
     "output_type": "execute_result"
    }
   ],
   "source": [
    "[col for col in df_line.columns if '전선' in col]"
   ]
  },
  {
   "cell_type": "code",
   "execution_count": 36,
   "metadata": {},
   "outputs": [
    {
     "data": {
      "text/plain": [
       "중성선규격코드\n",
       "32.0     18885\n",
       "0.0       6973\n",
       "22.0      6606\n",
       "58.0      4397\n",
       "95.0      1299\n",
       "38.0       813\n",
       "35.0       467\n",
       "60.0       415\n",
       "100.0      126\n",
       "150.0        9\n",
       "Name: count, dtype: int64"
      ]
     },
     "execution_count": 36,
     "metadata": {},
     "output_type": "execute_result"
    }
   ],
   "source": [
    "df_line['중성선규격코드'].value_counts()"
   ]
  },
  {
   "cell_type": "code",
   "execution_count": 37,
   "metadata": {},
   "outputs": [
    {
     "data": {
      "text/plain": [
       "(40019, 11)"
      ]
     },
     "execution_count": 37,
     "metadata": {},
     "output_type": "execute_result"
    }
   ],
   "source": [
    "# 학습에 필요한 컬럼 추출\n",
    "training_columns = [\n",
    "    '공사번호', '전원측전산화번호', '전산화번호', '결선방식코드',\n",
    "    '전선종류코드1', '전선규격코드1', '전선조수1', '지지물간거리',\n",
    "    '중성선종류코드', '중성선규격코드', 'X좌표-Y좌표'\n",
    "]\n",
    "\n",
    "rename_columns = {\n",
    "    '공사번호': common_columns['공사번호'],\n",
    "    '전원측전산화번호': common_columns['전원측전산화번호'],\n",
    "    '전산화번호': common_columns['전산화번호'],\n",
    "    '결선방식코드': common_columns['결선방식코드'],\n",
    "    '전선종류코드1': common_columns['전선종류코드1'],\n",
    "    '전선규격코드1': common_columns['전선규격코드1'],\n",
    "    '전선조수1': common_columns['전선조수1'],\n",
    "    '지지물간거리': common_columns['지지물간거리'],\n",
    "    '중성선종류코드': common_columns['중성선종류코드'],\n",
    "    '중성선규격코드': common_columns['중성선규격코드'],\n",
    "    'X좌표-Y좌표': common_columns['X좌표-Y좌표'],\n",
    "}\n",
    "\n",
    "df_line = df_line[training_columns]\n",
    "df_line.rename(columns=rename_columns, inplace=True)\n",
    "df_line.shape"
   ]
  },
  {
   "cell_type": "markdown",
   "metadata": {},
   "source": [
    "#### 데이터 전처리"
   ]
  },
  {
   "cell_type": "markdown",
   "metadata": {},
   "source": [
    "##### 결측치 처리"
   ]
  },
  {
   "cell_type": "code",
   "execution_count": 38,
   "metadata": {},
   "outputs": [
    {
     "data": {
      "text/plain": [
       "cons_id             0\n",
       "from_comp_id        0\n",
       "comp_id             0\n",
       "wiring_scheme       0\n",
       "line_type_cd        0\n",
       "line_spec_cd        0\n",
       "line_phase_cd       0\n",
       "span                0\n",
       "neutral_type_cd    29\n",
       "neutral_spec_cd    29\n",
       "coordinate          0\n",
       "dtype: int64"
      ]
     },
     "execution_count": 38,
     "metadata": {},
     "output_type": "execute_result"
    }
   ],
   "source": [
    "# 결측값 확인\n",
    "df_line.isna().sum()"
   ]
  },
  {
   "cell_type": "code",
   "execution_count": 39,
   "metadata": {},
   "outputs": [
    {
     "data": {
      "text/plain": [
       "neutral_spec_cd\n",
       "32.0     18885\n",
       "0.0       6973\n",
       "22.0      6606\n",
       "58.0      4397\n",
       "95.0      1299\n",
       "38.0       813\n",
       "35.0       467\n",
       "60.0       415\n",
       "100.0      126\n",
       "150.0        9\n",
       "Name: count, dtype: int64"
      ]
     },
     "execution_count": 39,
     "metadata": {},
     "output_type": "execute_result"
    }
   ],
   "source": [
    "df_line.neutral_spec_cd.value_counts()"
   ]
  },
  {
   "cell_type": "code",
   "execution_count": 40,
   "metadata": {},
   "outputs": [],
   "source": [
    "# 0.0값이 존재하기 때문에 NaN값을 999.0으로 치환\n",
    "df_line.neutral_spec_cd.fillna(999.0, inplace=True)"
   ]
  },
  {
   "cell_type": "code",
   "execution_count": 41,
   "metadata": {},
   "outputs": [
    {
     "data": {
      "text/plain": [
       "neutral_type_cd\n",
       "AL    24565\n",
       "WO     7592\n",
       "ZZ     6973\n",
       "AO      470\n",
       "OW      377\n",
       "OC       12\n",
       "C1        1\n",
       "Name: count, dtype: int64"
      ]
     },
     "execution_count": 41,
     "metadata": {},
     "output_type": "execute_result"
    }
   ],
   "source": [
    "df_line.neutral_type_cd.value_counts()"
   ]
  },
  {
   "cell_type": "code",
   "execution_count": 42,
   "metadata": {},
   "outputs": [],
   "source": [
    "# NaN값을 'NaN'으로 치환\n",
    "df_line.neutral_type_cd.fillna('NaN', inplace=True)"
   ]
  },
  {
   "cell_type": "code",
   "execution_count": 43,
   "metadata": {},
   "outputs": [
    {
     "data": {
      "text/plain": [
       "neutral_type_cd\n",
       "AL     24565\n",
       "WO      7592\n",
       "ZZ      6973\n",
       "AO       470\n",
       "OW       377\n",
       "NaN       29\n",
       "OC        12\n",
       "C1         1\n",
       "Name: count, dtype: int64"
      ]
     },
     "execution_count": 43,
     "metadata": {},
     "output_type": "execute_result"
    }
   ],
   "source": [
    "df_line.neutral_type_cd.value_counts()"
   ]
  },
  {
   "cell_type": "code",
   "execution_count": 44,
   "metadata": {},
   "outputs": [
    {
     "data": {
      "text/plain": [
       "wiring_scheme\n",
       "13    29843\n",
       "43    10175\n",
       "41        1\n",
       "Name: count, dtype: int64"
      ]
     },
     "execution_count": 44,
     "metadata": {},
     "output_type": "execute_result"
    }
   ],
   "source": [
    "# 결선방식 확인\n",
    "df_line.wiring_scheme.value_counts()"
   ]
  },
  {
   "cell_type": "code",
   "execution_count": 45,
   "metadata": {},
   "outputs": [],
   "source": [
    "# 41 -> 43으로 치환\n",
    "df_line.wiring_scheme = df_line.wiring_scheme.replace(41, 43)"
   ]
  },
  {
   "cell_type": "markdown",
   "metadata": {},
   "source": [
    "##### 전선 전체길이 컬럼 추가"
   ]
  },
  {
   "cell_type": "code",
   "execution_count": 46,
   "metadata": {},
   "outputs": [],
   "source": [
    "# 전체 전선 길이 = 선로길이(긍장, span) * 조수(전선의 갯 수, phase)\n",
    "df_line['line_length'] = df_line.span * df_line.line_phase_cd"
   ]
  },
  {
   "cell_type": "markdown",
   "metadata": {},
   "source": [
    "##### One-Hot Encoding"
   ]
  },
  {
   "cell_type": "code",
   "execution_count": 47,
   "metadata": {},
   "outputs": [
    {
     "name": "stdout",
     "output_type": "stream",
     "text": [
      "<class 'pandas.core.frame.DataFrame'>\n",
      "RangeIndex: 40019 entries, 0 to 40018\n",
      "Data columns (total 12 columns):\n",
      " #   Column           Non-Null Count  Dtype  \n",
      "---  ------           --------------  -----  \n",
      " 0   cons_id          40019 non-null  object \n",
      " 1   from_comp_id     40019 non-null  object \n",
      " 2   comp_id          40019 non-null  object \n",
      " 3   wiring_scheme    40019 non-null  int64  \n",
      " 4   line_type_cd     40019 non-null  object \n",
      " 5   line_spec_cd     40019 non-null  float64\n",
      " 6   line_phase_cd    40019 non-null  int64  \n",
      " 7   span             40019 non-null  int64  \n",
      " 8   neutral_type_cd  40019 non-null  object \n",
      " 9   neutral_spec_cd  40019 non-null  float64\n",
      " 10  coordinate       40019 non-null  object \n",
      " 11  line_length      40019 non-null  int64  \n",
      "dtypes: float64(2), int64(4), object(6)\n",
      "memory usage: 3.7+ MB\n"
     ]
    }
   ],
   "source": [
    "df_line.info()"
   ]
  },
  {
   "cell_type": "code",
   "execution_count": 48,
   "metadata": {},
   "outputs": [],
   "source": [
    "df_line = pd.get_dummies(\n",
    "    df_line,\n",
    "    columns=[\n",
    "        'wiring_scheme', 'line_type_cd', 'line_spec_cd', 'line_phase_cd',\n",
    "        'neutral_type_cd', 'neutral_spec_cd'\n",
    "    ],\n",
    "    prefix=[\n",
    "        'wiring_scheme', 'line_type', 'line_spec', 'line_phase',\n",
    "        'neutral_type', 'neutral_spec'\n",
    "    ]\n",
    ")"
   ]
  },
  {
   "cell_type": "code",
   "execution_count": 49,
   "metadata": {},
   "outputs": [
    {
     "data": {
      "text/plain": [
       "(40019, 51)"
      ]
     },
     "execution_count": 49,
     "metadata": {},
     "output_type": "execute_result"
    }
   ],
   "source": [
    "df_line.shape"
   ]
  },
  {
   "cell_type": "code",
   "execution_count": 50,
   "metadata": {},
   "outputs": [],
   "source": [
    "# bool형을 int형으로 변환\n",
    "df_line = df_line.applymap(lambda x: int(x) if isinstance(x, bool) else x)"
   ]
  },
  {
   "cell_type": "markdown",
   "metadata": {},
   "source": [
    "##### 학습대상 레코드 추출"
   ]
  },
  {
   "cell_type": "code",
   "execution_count": 51,
   "metadata": {},
   "outputs": [
    {
     "data": {
      "text/plain": [
       "(29704, 51)"
      ]
     },
     "execution_count": 51,
     "metadata": {},
     "output_type": "execute_result"
    }
   ],
   "source": [
    "df_line = df_line[df_line.cons_id.isin(df_cons.cons_id)]\n",
    "df_line.shape"
   ]
  },
  {
   "cell_type": "code",
   "execution_count": 52,
   "metadata": {},
   "outputs": [],
   "source": [
    "write_data('1d-preprocessed-line', df_line, process_seq='4th')"
   ]
  },
  {
   "cell_type": "markdown",
   "metadata": {},
   "source": [
    "#### 공사비 기준 전선 그룹 레코드 만들기"
   ]
  },
  {
   "cell_type": "code",
   "execution_count": 53,
   "metadata": {},
   "outputs": [],
   "source": [
    "# 유일값의 공사번호들\n",
    "unique_cons_ids = df_line.cons_id.unique()\n",
    "# 해당 공사번호의 레코드 값\n",
    "cons_id_row_values = []\n",
    "# 합산할 컬럼들\n",
    "columns_for_summation = ['span'] + df_line.columns.tolist()[5:]"
   ]
  },
  {
   "cell_type": "code",
   "execution_count": 54,
   "metadata": {},
   "outputs": [
    {
     "data": {
      "text/plain": [
       "(14728, 14728)"
      ]
     },
     "execution_count": 54,
     "metadata": {},
     "output_type": "execute_result"
    }
   ],
   "source": [
    "# 공사비의 공사번호 갯 수와 전처리된 전선에 있는 고유 공사번호 갯 수 비교\n",
    "df_cons.shape[0], len(unique_cons_ids)\n",
    "\n",
    "# 공사비에 있는 공사번호 모두에 전주가 포함되어 있음을 알 수 있음."
   ]
  },
  {
   "cell_type": "code",
   "execution_count": 55,
   "metadata": {},
   "outputs": [
    {
     "name": "stdout",
     "output_type": "stream",
     "text": [
      "Total Elapsed Time for Data Load: 0:00:31.681026\n"
     ]
    }
   ],
   "source": [
    "_start_time = datetime.now()\n",
    "\n",
    "for cons_id in unique_cons_ids:\n",
    "    df_temp = df_line[df_line.cons_id == cons_id]\n",
    "    new_row = df_temp[columns_for_summation].sum().values.tolist()\n",
    "    cons_id_row_values.append([cons_id] + new_row)\n",
    "    \n",
    "# 그룹 데이터프레임 만들기\n",
    "df_group = pd.DataFrame(\n",
    "    cons_id_row_values, columns=['cons_id'] + columns_for_summation\n",
    ")\n",
    "df_group.shape\n",
    "\n",
    "print(f'Total Elapsed Time for Data Load: {datetime.now() - _start_time}')"
   ]
  },
  {
   "cell_type": "code",
   "execution_count": 56,
   "metadata": {},
   "outputs": [
    {
     "data": {
      "text/html": [
       "<div>\n",
       "<style scoped>\n",
       "    .dataframe tbody tr th:only-of-type {\n",
       "        vertical-align: middle;\n",
       "    }\n",
       "\n",
       "    .dataframe tbody tr th {\n",
       "        vertical-align: top;\n",
       "    }\n",
       "\n",
       "    .dataframe thead th {\n",
       "        text-align: right;\n",
       "    }\n",
       "</style>\n",
       "<table border=\"1\" class=\"dataframe\">\n",
       "  <thead>\n",
       "    <tr style=\"text-align: right;\">\n",
       "      <th></th>\n",
       "      <th>span</th>\n",
       "      <th>line_length</th>\n",
       "      <th>wiring_scheme_13</th>\n",
       "      <th>wiring_scheme_43</th>\n",
       "      <th>line_type_AO</th>\n",
       "      <th>line_type_C1</th>\n",
       "      <th>line_type_C2</th>\n",
       "      <th>line_type_C4</th>\n",
       "      <th>line_type_D2</th>\n",
       "      <th>line_type_D4</th>\n",
       "      <th>...</th>\n",
       "      <th>neutral_spec_22.0</th>\n",
       "      <th>neutral_spec_32.0</th>\n",
       "      <th>neutral_spec_35.0</th>\n",
       "      <th>neutral_spec_38.0</th>\n",
       "      <th>neutral_spec_58.0</th>\n",
       "      <th>neutral_spec_60.0</th>\n",
       "      <th>neutral_spec_95.0</th>\n",
       "      <th>neutral_spec_100.0</th>\n",
       "      <th>neutral_spec_150.0</th>\n",
       "      <th>neutral_spec_999.0</th>\n",
       "    </tr>\n",
       "  </thead>\n",
       "  <tbody>\n",
       "    <tr>\n",
       "      <th>0</th>\n",
       "      <td>28</td>\n",
       "      <td>28</td>\n",
       "      <td>1</td>\n",
       "      <td>0</td>\n",
       "      <td>1</td>\n",
       "      <td>0</td>\n",
       "      <td>0</td>\n",
       "      <td>0</td>\n",
       "      <td>0</td>\n",
       "      <td>0</td>\n",
       "      <td>...</td>\n",
       "      <td>0</td>\n",
       "      <td>0</td>\n",
       "      <td>0</td>\n",
       "      <td>0</td>\n",
       "      <td>1</td>\n",
       "      <td>0</td>\n",
       "      <td>0</td>\n",
       "      <td>0</td>\n",
       "      <td>0</td>\n",
       "      <td>0</td>\n",
       "    </tr>\n",
       "    <tr>\n",
       "      <th>1</th>\n",
       "      <td>39</td>\n",
       "      <td>39</td>\n",
       "      <td>1</td>\n",
       "      <td>0</td>\n",
       "      <td>1</td>\n",
       "      <td>0</td>\n",
       "      <td>0</td>\n",
       "      <td>0</td>\n",
       "      <td>0</td>\n",
       "      <td>0</td>\n",
       "      <td>...</td>\n",
       "      <td>0</td>\n",
       "      <td>1</td>\n",
       "      <td>0</td>\n",
       "      <td>0</td>\n",
       "      <td>0</td>\n",
       "      <td>0</td>\n",
       "      <td>0</td>\n",
       "      <td>0</td>\n",
       "      <td>0</td>\n",
       "      <td>0</td>\n",
       "    </tr>\n",
       "    <tr>\n",
       "      <th>2</th>\n",
       "      <td>61</td>\n",
       "      <td>61</td>\n",
       "      <td>1</td>\n",
       "      <td>0</td>\n",
       "      <td>1</td>\n",
       "      <td>0</td>\n",
       "      <td>0</td>\n",
       "      <td>0</td>\n",
       "      <td>0</td>\n",
       "      <td>0</td>\n",
       "      <td>...</td>\n",
       "      <td>0</td>\n",
       "      <td>1</td>\n",
       "      <td>0</td>\n",
       "      <td>0</td>\n",
       "      <td>0</td>\n",
       "      <td>0</td>\n",
       "      <td>0</td>\n",
       "      <td>0</td>\n",
       "      <td>0</td>\n",
       "      <td>0</td>\n",
       "    </tr>\n",
       "    <tr>\n",
       "      <th>3</th>\n",
       "      <td>35</td>\n",
       "      <td>35</td>\n",
       "      <td>1</td>\n",
       "      <td>0</td>\n",
       "      <td>1</td>\n",
       "      <td>0</td>\n",
       "      <td>0</td>\n",
       "      <td>0</td>\n",
       "      <td>0</td>\n",
       "      <td>0</td>\n",
       "      <td>...</td>\n",
       "      <td>0</td>\n",
       "      <td>1</td>\n",
       "      <td>0</td>\n",
       "      <td>0</td>\n",
       "      <td>0</td>\n",
       "      <td>0</td>\n",
       "      <td>0</td>\n",
       "      <td>0</td>\n",
       "      <td>0</td>\n",
       "      <td>0</td>\n",
       "    </tr>\n",
       "    <tr>\n",
       "      <th>group</th>\n",
       "      <td>163</td>\n",
       "      <td>163</td>\n",
       "      <td>4</td>\n",
       "      <td>0</td>\n",
       "      <td>4</td>\n",
       "      <td>0</td>\n",
       "      <td>0</td>\n",
       "      <td>0</td>\n",
       "      <td>0</td>\n",
       "      <td>0</td>\n",
       "      <td>...</td>\n",
       "      <td>0</td>\n",
       "      <td>3</td>\n",
       "      <td>0</td>\n",
       "      <td>0</td>\n",
       "      <td>1</td>\n",
       "      <td>0</td>\n",
       "      <td>0</td>\n",
       "      <td>0</td>\n",
       "      <td>0</td>\n",
       "      <td>0</td>\n",
       "    </tr>\n",
       "  </tbody>\n",
       "</table>\n",
       "<p>5 rows × 47 columns</p>\n",
       "</div>"
      ],
      "text/plain": [
       "       span  line_length  wiring_scheme_13  wiring_scheme_43  line_type_AO  \\\n",
       "0        28           28                 1                 0             1   \n",
       "1        39           39                 1                 0             1   \n",
       "2        61           61                 1                 0             1   \n",
       "3        35           35                 1                 0             1   \n",
       "group   163          163                 4                 0             4   \n",
       "\n",
       "       line_type_C1  line_type_C2  line_type_C4  line_type_D2  line_type_D4  \\\n",
       "0                 0             0             0             0             0   \n",
       "1                 0             0             0             0             0   \n",
       "2                 0             0             0             0             0   \n",
       "3                 0             0             0             0             0   \n",
       "group             0             0             0             0             0   \n",
       "\n",
       "       ...  neutral_spec_22.0  neutral_spec_32.0  neutral_spec_35.0  \\\n",
       "0      ...                  0                  0                  0   \n",
       "1      ...                  0                  1                  0   \n",
       "2      ...                  0                  1                  0   \n",
       "3      ...                  0                  1                  0   \n",
       "group  ...                  0                  3                  0   \n",
       "\n",
       "       neutral_spec_38.0  neutral_spec_58.0  neutral_spec_60.0  \\\n",
       "0                      0                  1                  0   \n",
       "1                      0                  0                  0   \n",
       "2                      0                  0                  0   \n",
       "3                      0                  0                  0   \n",
       "group                  0                  1                  0   \n",
       "\n",
       "       neutral_spec_95.0  neutral_spec_100.0  neutral_spec_150.0  \\\n",
       "0                      0                   0                   0   \n",
       "1                      0                   0                   0   \n",
       "2                      0                   0                   0   \n",
       "3                      0                   0                   0   \n",
       "group                  0                   0                   0   \n",
       "\n",
       "       neutral_spec_999.0  \n",
       "0                       0  \n",
       "1                       0  \n",
       "2                       0  \n",
       "3                       0  \n",
       "group                   0  \n",
       "\n",
       "[5 rows x 47 columns]"
      ]
     },
     "execution_count": 56,
     "metadata": {},
     "output_type": "execute_result"
    }
   ],
   "source": [
    "# 잘 더해 졌는지 임의 공사번호를 불러와 확인\n",
    "_CONS_ID = '477420193349'\n",
    "_df1 = df_line[columns_for_summation][df_line.cons_id==_CONS_ID]\n",
    "_df2 = df_group[columns_for_summation][df_group.cons_id==_CONS_ID]\n",
    "_df3 = pd.concat([_df1, _df2], ignore_index=True)\n",
    "_indexs = _df3.index.tolist()\n",
    "_indexs[-1] = 'group'\n",
    "_df3.index = _indexs\n",
    "_df3"
   ]
  },
  {
   "cell_type": "code",
   "execution_count": 57,
   "metadata": {},
   "outputs": [
    {
     "data": {
      "text/html": [
       "<div>\n",
       "<style scoped>\n",
       "    .dataframe tbody tr th:only-of-type {\n",
       "        vertical-align: middle;\n",
       "    }\n",
       "\n",
       "    .dataframe tbody tr th {\n",
       "        vertical-align: top;\n",
       "    }\n",
       "\n",
       "    .dataframe thead th {\n",
       "        text-align: right;\n",
       "    }\n",
       "</style>\n",
       "<table border=\"1\" class=\"dataframe\">\n",
       "  <thead>\n",
       "    <tr style=\"text-align: right;\">\n",
       "      <th></th>\n",
       "      <th>cons_id</th>\n",
       "      <th>comp_id</th>\n",
       "      <th>x</th>\n",
       "      <th>y</th>\n",
       "      <th>pole_shape_G</th>\n",
       "      <th>pole_shape_O</th>\n",
       "      <th>pole_shape_V</th>\n",
       "      <th>pole_type_1</th>\n",
       "      <th>pole_type_B</th>\n",
       "      <th>pole_type_C</th>\n",
       "      <th>pole_type_E</th>\n",
       "      <th>pole_type_H</th>\n",
       "      <th>pole_type_M</th>\n",
       "      <th>pole_spec_6.0</th>\n",
       "      <th>pole_spec_8.0</th>\n",
       "      <th>pole_spec_10.0</th>\n",
       "      <th>pole_spec_11.0</th>\n",
       "      <th>pole_spec_12.0</th>\n",
       "      <th>pole_spec_14.0</th>\n",
       "      <th>pole_spec_16.0</th>\n",
       "    </tr>\n",
       "  </thead>\n",
       "  <tbody>\n",
       "    <tr>\n",
       "      <th>6</th>\n",
       "      <td>477420193349</td>\n",
       "      <td>7103S622</td>\n",
       "      <td>128.345893</td>\n",
       "      <td>37.146079</td>\n",
       "      <td>0</td>\n",
       "      <td>1</td>\n",
       "      <td>0</td>\n",
       "      <td>0</td>\n",
       "      <td>0</td>\n",
       "      <td>0</td>\n",
       "      <td>0</td>\n",
       "      <td>1</td>\n",
       "      <td>0</td>\n",
       "      <td>0</td>\n",
       "      <td>0</td>\n",
       "      <td>0</td>\n",
       "      <td>0</td>\n",
       "      <td>0</td>\n",
       "      <td>1</td>\n",
       "      <td>0</td>\n",
       "    </tr>\n",
       "    <tr>\n",
       "      <th>7</th>\n",
       "      <td>477420193349</td>\n",
       "      <td>7103S723</td>\n",
       "      <td>128.346364</td>\n",
       "      <td>37.145936</td>\n",
       "      <td>0</td>\n",
       "      <td>1</td>\n",
       "      <td>0</td>\n",
       "      <td>0</td>\n",
       "      <td>0</td>\n",
       "      <td>0</td>\n",
       "      <td>0</td>\n",
       "      <td>1</td>\n",
       "      <td>0</td>\n",
       "      <td>0</td>\n",
       "      <td>0</td>\n",
       "      <td>0</td>\n",
       "      <td>0</td>\n",
       "      <td>0</td>\n",
       "      <td>1</td>\n",
       "      <td>0</td>\n",
       "    </tr>\n",
       "    <tr>\n",
       "      <th>8</th>\n",
       "      <td>477420193349</td>\n",
       "      <td>7103S724</td>\n",
       "      <td>128.346539</td>\n",
       "      <td>37.146082</td>\n",
       "      <td>0</td>\n",
       "      <td>1</td>\n",
       "      <td>0</td>\n",
       "      <td>0</td>\n",
       "      <td>0</td>\n",
       "      <td>0</td>\n",
       "      <td>0</td>\n",
       "      <td>1</td>\n",
       "      <td>0</td>\n",
       "      <td>0</td>\n",
       "      <td>0</td>\n",
       "      <td>0</td>\n",
       "      <td>0</td>\n",
       "      <td>0</td>\n",
       "      <td>0</td>\n",
       "      <td>1</td>\n",
       "    </tr>\n",
       "    <tr>\n",
       "      <th>9</th>\n",
       "      <td>477420193349</td>\n",
       "      <td>7103S725</td>\n",
       "      <td>128.346487</td>\n",
       "      <td>37.146335</td>\n",
       "      <td>0</td>\n",
       "      <td>1</td>\n",
       "      <td>0</td>\n",
       "      <td>0</td>\n",
       "      <td>0</td>\n",
       "      <td>0</td>\n",
       "      <td>0</td>\n",
       "      <td>1</td>\n",
       "      <td>0</td>\n",
       "      <td>0</td>\n",
       "      <td>0</td>\n",
       "      <td>0</td>\n",
       "      <td>0</td>\n",
       "      <td>0</td>\n",
       "      <td>0</td>\n",
       "      <td>1</td>\n",
       "    </tr>\n",
       "    <tr>\n",
       "      <th>10</th>\n",
       "      <td>477420193349</td>\n",
       "      <td>7103S821</td>\n",
       "      <td>128.348403</td>\n",
       "      <td>37.146904</td>\n",
       "      <td>0</td>\n",
       "      <td>1</td>\n",
       "      <td>0</td>\n",
       "      <td>0</td>\n",
       "      <td>0</td>\n",
       "      <td>1</td>\n",
       "      <td>0</td>\n",
       "      <td>0</td>\n",
       "      <td>0</td>\n",
       "      <td>0</td>\n",
       "      <td>0</td>\n",
       "      <td>0</td>\n",
       "      <td>0</td>\n",
       "      <td>1</td>\n",
       "      <td>0</td>\n",
       "      <td>0</td>\n",
       "    </tr>\n",
       "    <tr>\n",
       "      <th>11</th>\n",
       "      <td>477420193349</td>\n",
       "      <td>7103S921</td>\n",
       "      <td>128.348422</td>\n",
       "      <td>37.146354</td>\n",
       "      <td>0</td>\n",
       "      <td>1</td>\n",
       "      <td>0</td>\n",
       "      <td>0</td>\n",
       "      <td>0</td>\n",
       "      <td>1</td>\n",
       "      <td>0</td>\n",
       "      <td>0</td>\n",
       "      <td>0</td>\n",
       "      <td>0</td>\n",
       "      <td>0</td>\n",
       "      <td>0</td>\n",
       "      <td>0</td>\n",
       "      <td>1</td>\n",
       "      <td>0</td>\n",
       "      <td>0</td>\n",
       "    </tr>\n",
       "    <tr>\n",
       "      <th>12</th>\n",
       "      <td>477420193349</td>\n",
       "      <td>7103Y021</td>\n",
       "      <td>128.348137</td>\n",
       "      <td>37.146136</td>\n",
       "      <td>0</td>\n",
       "      <td>1</td>\n",
       "      <td>0</td>\n",
       "      <td>0</td>\n",
       "      <td>0</td>\n",
       "      <td>1</td>\n",
       "      <td>0</td>\n",
       "      <td>0</td>\n",
       "      <td>0</td>\n",
       "      <td>0</td>\n",
       "      <td>0</td>\n",
       "      <td>0</td>\n",
       "      <td>0</td>\n",
       "      <td>1</td>\n",
       "      <td>0</td>\n",
       "      <td>0</td>\n",
       "    </tr>\n",
       "    <tr>\n",
       "      <th>13</th>\n",
       "      <td>477420193349</td>\n",
       "      <td>7103Y121</td>\n",
       "      <td>128.348501</td>\n",
       "      <td>37.146327</td>\n",
       "      <td>1</td>\n",
       "      <td>0</td>\n",
       "      <td>0</td>\n",
       "      <td>0</td>\n",
       "      <td>0</td>\n",
       "      <td>1</td>\n",
       "      <td>0</td>\n",
       "      <td>0</td>\n",
       "      <td>0</td>\n",
       "      <td>0</td>\n",
       "      <td>0</td>\n",
       "      <td>1</td>\n",
       "      <td>0</td>\n",
       "      <td>0</td>\n",
       "      <td>0</td>\n",
       "      <td>0</td>\n",
       "    </tr>\n",
       "  </tbody>\n",
       "</table>\n",
       "</div>"
      ],
      "text/plain": [
       "         cons_id   comp_id           x          y  pole_shape_G  pole_shape_O  \\\n",
       "6   477420193349  7103S622  128.345893  37.146079             0             1   \n",
       "7   477420193349  7103S723  128.346364  37.145936             0             1   \n",
       "8   477420193349  7103S724  128.346539  37.146082             0             1   \n",
       "9   477420193349  7103S725  128.346487  37.146335             0             1   \n",
       "10  477420193349  7103S821  128.348403  37.146904             0             1   \n",
       "11  477420193349  7103S921  128.348422  37.146354             0             1   \n",
       "12  477420193349  7103Y021  128.348137  37.146136             0             1   \n",
       "13  477420193349  7103Y121  128.348501  37.146327             1             0   \n",
       "\n",
       "    pole_shape_V  pole_type_1  pole_type_B  pole_type_C  pole_type_E  \\\n",
       "6              0            0            0            0            0   \n",
       "7              0            0            0            0            0   \n",
       "8              0            0            0            0            0   \n",
       "9              0            0            0            0            0   \n",
       "10             0            0            0            1            0   \n",
       "11             0            0            0            1            0   \n",
       "12             0            0            0            1            0   \n",
       "13             0            0            0            1            0   \n",
       "\n",
       "    pole_type_H  pole_type_M  pole_spec_6.0  pole_spec_8.0  pole_spec_10.0  \\\n",
       "6             1            0              0              0               0   \n",
       "7             1            0              0              0               0   \n",
       "8             1            0              0              0               0   \n",
       "9             1            0              0              0               0   \n",
       "10            0            0              0              0               0   \n",
       "11            0            0              0              0               0   \n",
       "12            0            0              0              0               0   \n",
       "13            0            0              0              0               1   \n",
       "\n",
       "    pole_spec_11.0  pole_spec_12.0  pole_spec_14.0  pole_spec_16.0  \n",
       "6                0               0               1               0  \n",
       "7                0               0               1               0  \n",
       "8                0               0               0               1  \n",
       "9                0               0               0               1  \n",
       "10               0               1               0               0  \n",
       "11               0               1               0               0  \n",
       "12               0               1               0               0  \n",
       "13               0               0               0               0  "
      ]
     },
     "execution_count": 57,
     "metadata": {},
     "output_type": "execute_result"
    }
   ],
   "source": [
    "df_pole[df_pole.cons_id==_CONS_ID]\n",
    "# 이상하다!!\n",
    "# 전주가 8개 설치된 공사인데, 전선이 4개다.(나머지 4개는 지선주?)"
   ]
  },
  {
   "cell_type": "code",
   "execution_count": 58,
   "metadata": {},
   "outputs": [
    {
     "data": {
      "text/plain": [
       "((14728, 35), (14728, 48))"
      ]
     },
     "execution_count": 58,
     "metadata": {},
     "output_type": "execute_result"
    }
   ],
   "source": [
    "df_cons.shape, df_group.shape"
   ]
  },
  {
   "cell_type": "code",
   "execution_count": 59,
   "metadata": {},
   "outputs": [
    {
     "data": {
      "text/plain": [
       "(14728, 82)"
      ]
     },
     "execution_count": 59,
     "metadata": {},
     "output_type": "execute_result"
    }
   ],
   "source": [
    "df_cons_group = pd.merge(\n",
    "    df_cons, df_group,\n",
    "    left_on='cons_id', right_on='cons_id', how='left'\n",
    ")\n",
    "df_cons_group.shape"
   ]
  },
  {
   "cell_type": "code",
   "execution_count": 60,
   "metadata": {},
   "outputs": [],
   "source": [
    "write_data('1d-merge-cons-pole-line', df_cons_group, process_seq='4th')"
   ]
  },
  {
   "cell_type": "code",
   "execution_count": null,
   "metadata": {},
   "outputs": [],
   "source": []
  }
 ],
 "metadata": {
  "kernelspec": {
   "display_name": "t213p310",
   "language": "python",
   "name": "python3"
  },
  "language_info": {
   "codemirror_mode": {
    "name": "ipython",
    "version": 3
   },
   "file_extension": ".py",
   "mimetype": "text/x-python",
   "name": "python",
   "nbconvert_exporter": "python",
   "pygments_lexer": "ipython3",
   "version": "3.10.12"
  },
  "orig_nbformat": 4
 },
 "nbformat": 4,
 "nbformat_minor": 2
}
