{
 "cells": [
  {
   "cell_type": "code",
   "execution_count": 1,
   "metadata": {},
   "outputs": [
    {
     "name": "stderr",
     "output_type": "stream",
     "text": [
      "2023-09-29 08:31:24.009923: I tensorflow/core/platform/cpu_feature_guard.cc:182] This TensorFlow binary is optimized to use available CPU instructions in performance-critical operations.\n",
      "To enable the following instructions: AVX2 FMA, in other operations, rebuild TensorFlow with the appropriate compiler flags.\n"
     ]
    }
   ],
   "source": [
    "import pandas as pd\n",
    "import tensorflow as tf\n",
    "from datetime import datetime\n",
    "\n",
    "from sklearn.model_selection import train_test_split\n",
    "from sklearn.preprocessing import StandardScaler\n",
    "\n",
    "from bayes_opt import BayesianOptimization\n",
    "from bayes_opt import UtilityFunction\n",
    "\n",
    "import matplotlib.pyplot as plt\n",
    "from freeman.plt_setting import plt_settings\n",
    "from freeman.evaluation import regression_evaluation, f_importances, plot_actual_pred\n",
    "from freeman.aiddd.data_manager import read_data\n",
    "\n",
    "# 한글처리 지원\n",
    "plt_settings()"
   ]
  },
  {
   "cell_type": "code",
   "execution_count": 2,
   "metadata": {},
   "outputs": [],
   "source": [
    "df_X = read_data('2a-all-scaled-X', process_seq='4th')\n",
    "df_y = read_data('2a-all-y', process_seq='4th')\n",
    "\n",
    "training_columns = df_X.columns"
   ]
  },
  {
   "cell_type": "code",
   "execution_count": 3,
   "metadata": {},
   "outputs": [],
   "source": [
    "X_train, X_test, y_train, y_test = \\\n",
    "    train_test_split(df_X, df_y, test_size=0.2)"
   ]
  },
  {
   "cell_type": "code",
   "execution_count": 4,
   "metadata": {},
   "outputs": [
    {
     "name": "stderr",
     "output_type": "stream",
     "text": [
      "2023-09-29 08:32:24.545094: I tensorflow/compiler/xla/stream_executor/cuda/cuda_gpu_executor.cc:995] successful NUMA node read from SysFS had negative value (-1), but there must be at least one NUMA node, so returning NUMA node zero. See more at https://github.com/torvalds/linux/blob/v6.0/Documentation/ABI/testing/sysfs-bus-pci#L344-L355\n"
     ]
    },
    {
     "name": "stdout",
     "output_type": "stream",
     "text": [
      "Model: \"sequential\"\n",
      "_________________________________________________________________\n",
      " Layer (type)                Output Shape              Param #   \n",
      "=================================================================\n",
      " dense (Dense)               (None, 128)               19072     \n",
      "                                                                 \n",
      " dense_1 (Dense)             (None, 64)                8256      \n",
      "                                                                 \n",
      " dense_2 (Dense)             (None, 32)                2080      \n",
      "                                                                 \n",
      " dense_3 (Dense)             (None, 1)                 33        \n",
      "                                                                 \n",
      "=================================================================\n",
      "Total params: 29441 (115.00 KB)\n",
      "Trainable params: 29441 (115.00 KB)\n",
      "Non-trainable params: 0 (0.00 Byte)\n",
      "_________________________________________________________________\n"
     ]
    },
    {
     "name": "stderr",
     "output_type": "stream",
     "text": [
      "2023-09-29 08:32:24.592198: I tensorflow/compiler/xla/stream_executor/cuda/cuda_gpu_executor.cc:995] successful NUMA node read from SysFS had negative value (-1), but there must be at least one NUMA node, so returning NUMA node zero. See more at https://github.com/torvalds/linux/blob/v6.0/Documentation/ABI/testing/sysfs-bus-pci#L344-L355\n",
      "2023-09-29 08:32:24.592375: I tensorflow/compiler/xla/stream_executor/cuda/cuda_gpu_executor.cc:995] successful NUMA node read from SysFS had negative value (-1), but there must be at least one NUMA node, so returning NUMA node zero. See more at https://github.com/torvalds/linux/blob/v6.0/Documentation/ABI/testing/sysfs-bus-pci#L344-L355\n",
      "2023-09-29 08:32:24.593882: I tensorflow/compiler/xla/stream_executor/cuda/cuda_gpu_executor.cc:995] successful NUMA node read from SysFS had negative value (-1), but there must be at least one NUMA node, so returning NUMA node zero. See more at https://github.com/torvalds/linux/blob/v6.0/Documentation/ABI/testing/sysfs-bus-pci#L344-L355\n",
      "2023-09-29 08:32:24.594033: I tensorflow/compiler/xla/stream_executor/cuda/cuda_gpu_executor.cc:995] successful NUMA node read from SysFS had negative value (-1), but there must be at least one NUMA node, so returning NUMA node zero. See more at https://github.com/torvalds/linux/blob/v6.0/Documentation/ABI/testing/sysfs-bus-pci#L344-L355\n",
      "2023-09-29 08:32:24.594148: I tensorflow/compiler/xla/stream_executor/cuda/cuda_gpu_executor.cc:995] successful NUMA node read from SysFS had negative value (-1), but there must be at least one NUMA node, so returning NUMA node zero. See more at https://github.com/torvalds/linux/blob/v6.0/Documentation/ABI/testing/sysfs-bus-pci#L344-L355\n",
      "2023-09-29 08:32:25.807880: I tensorflow/compiler/xla/stream_executor/cuda/cuda_gpu_executor.cc:995] successful NUMA node read from SysFS had negative value (-1), but there must be at least one NUMA node, so returning NUMA node zero. See more at https://github.com/torvalds/linux/blob/v6.0/Documentation/ABI/testing/sysfs-bus-pci#L344-L355\n",
      "2023-09-29 08:32:25.808072: I tensorflow/compiler/xla/stream_executor/cuda/cuda_gpu_executor.cc:995] successful NUMA node read from SysFS had negative value (-1), but there must be at least one NUMA node, so returning NUMA node zero. See more at https://github.com/torvalds/linux/blob/v6.0/Documentation/ABI/testing/sysfs-bus-pci#L344-L355\n",
      "2023-09-29 08:32:25.808214: I tensorflow/compiler/xla/stream_executor/cuda/cuda_gpu_executor.cc:995] successful NUMA node read from SysFS had negative value (-1), but there must be at least one NUMA node, so returning NUMA node zero. See more at https://github.com/torvalds/linux/blob/v6.0/Documentation/ABI/testing/sysfs-bus-pci#L344-L355\n",
      "2023-09-29 08:32:25.808842: I tensorflow/core/common_runtime/gpu/gpu_device.cc:1639] Created device /job:localhost/replica:0/task:0/device:GPU:0 with 6492 MB memory:  -> device: 0, name: NVIDIA GeForce GTX 1070, pci bus id: 0000:01:00.0, compute capability: 6.1\n"
     ]
    }
   ],
   "source": [
    "model_mlp = tf.keras.Sequential([\n",
    "    tf.keras.layers.Dense(128, activation='relu', input_shape=(X_train.shape[1:])),\n",
    "    tf.keras.layers.Dense(64, activation='relu'),\n",
    "    tf.keras.layers.Dense(32, activation='relu'),\n",
    "    tf.keras.layers.Dense(1)\n",
    "])\n",
    "model_mlp.compile(\n",
    "    optimizer='adam',\n",
    "    loss='mean_squared_error',\n",
    "    metrics=['mae']\n",
    ")\n",
    "model_mlp.summary()"
   ]
  },
  {
   "cell_type": "code",
   "execution_count": 5,
   "metadata": {},
   "outputs": [
    {
     "name": "stdout",
     "output_type": "stream",
     "text": [
      "Epoch 1/100\n"
     ]
    },
    {
     "name": "stderr",
     "output_type": "stream",
     "text": [
      "2023-09-29 08:32:42.535466: I tensorflow/compiler/xla/service/service.cc:168] XLA service 0x7f2e8c004d60 initialized for platform CUDA (this does not guarantee that XLA will be used). Devices:\n",
      "2023-09-29 08:32:42.535524: I tensorflow/compiler/xla/service/service.cc:176]   StreamExecutor device (0): NVIDIA GeForce GTX 1070, Compute Capability 6.1\n",
      "2023-09-29 08:32:42.600335: I tensorflow/compiler/mlir/tensorflow/utils/dump_mlir_util.cc:255] disabling MLIR crash reproducer, set env var `MLIR_CRASH_REPRODUCER_DIRECTORY` to enable.\n",
      "2023-09-29 08:32:42.953909: I tensorflow/compiler/xla/stream_executor/cuda/cuda_dnn.cc:432] Loaded cuDNN version 8904\n",
      "2023-09-29 08:32:43.116740: I tensorflow/tsl/platform/default/subprocess.cc:304] Start cannot spawn child process: No such file or directory\n",
      "2023-09-29 08:32:43.223992: I ./tensorflow/compiler/jit/device_compiler.h:186] Compiled cluster using XLA!  This line is logged at most once for the lifetime of the process.\n"
     ]
    },
    {
     "name": "stdout",
     "output_type": "stream",
     "text": [
      "228/228 - 4s - loss: 26795025891328.0000 - mae: 4205182.0000 - val_loss: 26061997867008.0000 - val_mae: 4183392.5000 - 4s/epoch - 16ms/step\n",
      "Epoch 2/100\n",
      "228/228 - 1s - loss: 24261265719296.0000 - mae: 4013332.0000 - val_loss: 19961927958528.0000 - val_mae: 3671302.2500 - 515ms/epoch - 2ms/step\n",
      "Epoch 3/100\n",
      "228/228 - 1s - loss: 14437692997632.0000 - mae: 2989764.5000 - val_loss: 10013076619264.0000 - val_mae: 2293105.5000 - 520ms/epoch - 2ms/step\n",
      "Epoch 4/100\n",
      "228/228 - 0s - loss: 8059244511232.0000 - mae: 1917565.1250 - val_loss: 6775159390208.0000 - val_mae: 1611651.5000 - 487ms/epoch - 2ms/step\n",
      "Epoch 5/100\n",
      "228/228 - 0s - loss: 5713445781504.0000 - mae: 1412484.8750 - val_loss: 5390845083648.0000 - val_mae: 1325911.3750 - 482ms/epoch - 2ms/step\n",
      "Epoch 6/100\n",
      "228/228 - 0s - loss: 4804682711040.0000 - mae: 1256406.1250 - val_loss: 4835355131904.0000 - val_mae: 1244473.3750 - 472ms/epoch - 2ms/step\n",
      "Epoch 7/100\n",
      "228/228 - 0s - loss: 4386656878592.0000 - mae: 1184736.6250 - val_loss: 4487814053888.0000 - val_mae: 1175876.3750 - 477ms/epoch - 2ms/step\n",
      "Epoch 8/100\n",
      "228/228 - 0s - loss: 4110893711360.0000 - mae: 1128258.3750 - val_loss: 4256419282944.0000 - val_mae: 1129691.0000 - 487ms/epoch - 2ms/step\n",
      "Epoch 9/100\n",
      "228/228 - 0s - loss: 3914669752320.0000 - mae: 1077295.0000 - val_loss: 4073581182976.0000 - val_mae: 1079717.1250 - 466ms/epoch - 2ms/step\n",
      "Epoch 10/100\n",
      "228/228 - 0s - loss: 3770223951872.0000 - mae: 1035505.3125 - val_loss: 3932242575360.0000 - val_mae: 1038424.5000 - 465ms/epoch - 2ms/step\n",
      "Epoch 11/100\n",
      "228/228 - 0s - loss: 3657673998336.0000 - mae: 999756.0000 - val_loss: 3822883962880.0000 - val_mae: 1015736.1875 - 472ms/epoch - 2ms/step\n",
      "Epoch 12/100\n",
      "228/228 - 0s - loss: 3569804640256.0000 - mae: 978222.3750 - val_loss: 3744515489792.0000 - val_mae: 1000501.6875 - 469ms/epoch - 2ms/step\n",
      "Epoch 13/100\n",
      "228/228 - 0s - loss: 3493732024320.0000 - mae: 953909.4375 - val_loss: 3665855250432.0000 - val_mae: 982171.8125 - 477ms/epoch - 2ms/step\n",
      "Epoch 14/100\n",
      "228/228 - 0s - loss: 3434302406656.0000 - mae: 936969.7500 - val_loss: 3600122642432.0000 - val_mae: 965054.9375 - 476ms/epoch - 2ms/step\n",
      "Epoch 15/100\n",
      "228/228 - 0s - loss: 3377753751552.0000 - mae: 920869.5625 - val_loss: 3561173811200.0000 - val_mae: 973854.5000 - 476ms/epoch - 2ms/step\n",
      "Epoch 16/100\n",
      "228/228 - 0s - loss: 3330342125568.0000 - mae: 915245.6250 - val_loss: 3475280494592.0000 - val_mae: 927705.0000 - 476ms/epoch - 2ms/step\n",
      "Epoch 17/100\n",
      "228/228 - 0s - loss: 3288852856832.0000 - mae: 893183.5625 - val_loss: 3443528564736.0000 - val_mae: 936734.1875 - 467ms/epoch - 2ms/step\n",
      "Epoch 18/100\n",
      "228/228 - 0s - loss: 3251588825088.0000 - mae: 889490.9375 - val_loss: 3402726637568.0000 - val_mae: 927991.6875 - 472ms/epoch - 2ms/step\n",
      "Epoch 19/100\n",
      "228/228 - 0s - loss: 3218131386368.0000 - mae: 886684.8750 - val_loss: 3350553427968.0000 - val_mae: 904192.1250 - 473ms/epoch - 2ms/step\n",
      "Epoch 20/100\n",
      "228/228 - 0s - loss: 3186468585472.0000 - mae: 872335.8125 - val_loss: 3319006756864.0000 - val_mae: 908975.9375 - 467ms/epoch - 2ms/step\n",
      "Epoch 21/100\n",
      "228/228 - 0s - loss: 3159137976320.0000 - mae: 870327.4375 - val_loss: 3297036206080.0000 - val_mae: 911796.0000 - 477ms/epoch - 2ms/step\n",
      "Epoch 22/100\n",
      "228/228 - 1s - loss: 3133614063616.0000 - mae: 866806.3125 - val_loss: 3266270724096.0000 - val_mae: 899509.3125 - 516ms/epoch - 2ms/step\n",
      "Epoch 23/100\n",
      "228/228 - 0s - loss: 3110268043264.0000 - mae: 855604.6875 - val_loss: 3233798684672.0000 - val_mae: 897011.6875 - 474ms/epoch - 2ms/step\n",
      "Epoch 24/100\n",
      "228/228 - 0s - loss: 3090700566528.0000 - mae: 857638.3125 - val_loss: 3217006264320.0000 - val_mae: 890419.3750 - 472ms/epoch - 2ms/step\n",
      "Epoch 25/100\n",
      "228/228 - 0s - loss: 3070605131776.0000 - mae: 849778.5000 - val_loss: 3180831703040.0000 - val_mae: 875043.4375 - 477ms/epoch - 2ms/step\n",
      "Epoch 26/100\n",
      "228/228 - 0s - loss: 3050724917248.0000 - mae: 843097.6875 - val_loss: 3170253930496.0000 - val_mae: 896358.1250 - 466ms/epoch - 2ms/step\n",
      "Epoch 27/100\n",
      "228/228 - 0s - loss: 3032720343040.0000 - mae: 847169.5625 - val_loss: 3136475365376.0000 - val_mae: 869757.2500 - 476ms/epoch - 2ms/step\n",
      "Epoch 28/100\n",
      "228/228 - 0s - loss: 3019236442112.0000 - mae: 844279.5625 - val_loss: 3123642892288.0000 - val_mae: 864575.2500 - 477ms/epoch - 2ms/step\n",
      "Epoch 29/100\n",
      "228/228 - 0s - loss: 3003625504768.0000 - mae: 830768.9375 - val_loss: 3102830755840.0000 - val_mae: 876146.5625 - 465ms/epoch - 2ms/step\n",
      "Epoch 30/100\n",
      "228/228 - 0s - loss: 2992248193024.0000 - mae: 834682.8125 - val_loss: 3095405789184.0000 - val_mae: 880416.2500 - 472ms/epoch - 2ms/step\n",
      "Epoch 31/100\n",
      "228/228 - 0s - loss: 2981750374400.0000 - mae: 832514.4375 - val_loss: 3091814940672.0000 - val_mae: 881485.1250 - 468ms/epoch - 2ms/step\n",
      "Epoch 32/100\n",
      "228/228 - 0s - loss: 2967871422464.0000 - mae: 827436.9375 - val_loss: 3086065336320.0000 - val_mae: 886236.1250 - 469ms/epoch - 2ms/step\n",
      "Epoch 33/100\n",
      "228/228 - 0s - loss: 2962064408576.0000 - mae: 832190.3750 - val_loss: 3046410813440.0000 - val_mae: 854909.1875 - 481ms/epoch - 2ms/step\n",
      "Epoch 34/100\n",
      "228/228 - 0s - loss: 2949933694976.0000 - mae: 823933.7500 - val_loss: 3045645877248.0000 - val_mae: 862392.8750 - 477ms/epoch - 2ms/step\n",
      "Epoch 35/100\n",
      "228/228 - 0s - loss: 2938810138624.0000 - mae: 827263.0000 - val_loss: 3019101700096.0000 - val_mae: 834403.5000 - 470ms/epoch - 2ms/step\n",
      "Epoch 36/100\n",
      "228/228 - 0s - loss: 2930736103424.0000 - mae: 812249.0000 - val_loss: 3036578840576.0000 - val_mae: 875637.1250 - 466ms/epoch - 2ms/step\n",
      "Epoch 37/100\n",
      "228/228 - 0s - loss: 2923212046336.0000 - mae: 819214.3125 - val_loss: 3010137948160.0000 - val_mae: 862325.1875 - 482ms/epoch - 2ms/step\n",
      "Epoch 38/100\n",
      "228/228 - 0s - loss: 2914696822784.0000 - mae: 821591.3125 - val_loss: 3004598845440.0000 - val_mae: 856621.0625 - 484ms/epoch - 2ms/step\n",
      "Epoch 39/100\n",
      "228/228 - 0s - loss: 2904842305536.0000 - mae: 819518.2500 - val_loss: 2983466106880.0000 - val_mae: 842466.5000 - 473ms/epoch - 2ms/step\n",
      "Epoch 40/100\n",
      "228/228 - 0s - loss: 2900843560960.0000 - mae: 815169.6250 - val_loss: 2987180687360.0000 - val_mae: 851159.5625 - 482ms/epoch - 2ms/step\n",
      "Epoch 41/100\n",
      "228/228 - 0s - loss: 2894325350400.0000 - mae: 816178.2500 - val_loss: 2974067720192.0000 - val_mae: 840360.3125 - 480ms/epoch - 2ms/step\n",
      "Epoch 42/100\n",
      "228/228 - 0s - loss: 2887738458112.0000 - mae: 810831.3125 - val_loss: 2979059204096.0000 - val_mae: 856420.9375 - 474ms/epoch - 2ms/step\n",
      "Epoch 43/100\n",
      "228/228 - 0s - loss: 2881311997952.0000 - mae: 811910.6875 - val_loss: 2965558788096.0000 - val_mae: 848021.1875 - 462ms/epoch - 2ms/step\n",
      "Epoch 44/100\n",
      "228/228 - 0s - loss: 2879066734592.0000 - mae: 813495.2500 - val_loss: 2965062549504.0000 - val_mae: 855079.6875 - 463ms/epoch - 2ms/step\n",
      "Epoch 45/100\n",
      "228/228 - 0s - loss: 2872550096896.0000 - mae: 811327.5000 - val_loss: 2956355174400.0000 - val_mae: 854803.6875 - 458ms/epoch - 2ms/step\n",
      "Epoch 46/100\n",
      "228/228 - 0s - loss: 2864029368320.0000 - mae: 809865.6875 - val_loss: 2938598588416.0000 - val_mae: 836154.4375 - 463ms/epoch - 2ms/step\n",
      "Epoch 47/100\n",
      "228/228 - 0s - loss: 2859316019200.0000 - mae: 808767.2500 - val_loss: 2955132534784.0000 - val_mae: 856937.6875 - 472ms/epoch - 2ms/step\n",
      "Epoch 48/100\n",
      "228/228 - 0s - loss: 2851114057728.0000 - mae: 804705.6875 - val_loss: 2974899240960.0000 - val_mae: 874560.0000 - 482ms/epoch - 2ms/step\n",
      "Epoch 49/100\n",
      "228/228 - 0s - loss: 2849909506048.0000 - mae: 808532.8125 - val_loss: 2938630832128.0000 - val_mae: 854854.6875 - 481ms/epoch - 2ms/step\n",
      "Epoch 50/100\n",
      "228/228 - 0s - loss: 2848083148800.0000 - mae: 807941.0625 - val_loss: 2926877081600.0000 - val_mae: 845066.8750 - 461ms/epoch - 2ms/step\n",
      "Epoch 51/100\n",
      "228/228 - 0s - loss: 2839512088576.0000 - mae: 803499.0625 - val_loss: 2937234653184.0000 - val_mae: 859726.3125 - 463ms/epoch - 2ms/step\n",
      "Epoch 52/100\n",
      "228/228 - 0s - loss: 2837528969216.0000 - mae: 808702.8125 - val_loss: 2919801552896.0000 - val_mae: 844033.8750 - 466ms/epoch - 2ms/step\n",
      "Epoch 53/100\n",
      "228/228 - 0s - loss: 2833593663488.0000 - mae: 802336.3750 - val_loss: 2918035226624.0000 - val_mae: 854650.0000 - 461ms/epoch - 2ms/step\n",
      "Epoch 54/100\n",
      "228/228 - 0s - loss: 2827100094464.0000 - mae: 800888.1250 - val_loss: 2934738255872.0000 - val_mae: 869497.2500 - 461ms/epoch - 2ms/step\n",
      "Epoch 55/100\n",
      "228/228 - 0s - loss: 2826079043584.0000 - mae: 804117.7500 - val_loss: 2910545510400.0000 - val_mae: 854440.9375 - 470ms/epoch - 2ms/step\n",
      "Epoch 56/100\n",
      "228/228 - 0s - loss: 2821033558016.0000 - mae: 805993.2500 - val_loss: 2895742238720.0000 - val_mae: 835892.5625 - 459ms/epoch - 2ms/step\n",
      "Epoch 57/100\n",
      "228/228 - 0s - loss: 2816691929088.0000 - mae: 795456.4375 - val_loss: 2908973432832.0000 - val_mae: 859523.6250 - 487ms/epoch - 2ms/step\n",
      "Epoch 58/100\n",
      "228/228 - 0s - loss: 2810910081024.0000 - mae: 810067.0000 - val_loss: 2873542836224.0000 - val_mae: 819252.5000 - 475ms/epoch - 2ms/step\n",
      "Epoch 59/100\n",
      "228/228 - 0s - loss: 2809966362624.0000 - mae: 798764.0625 - val_loss: 2884234379264.0000 - val_mae: 832079.3125 - 469ms/epoch - 2ms/step\n",
      "Epoch 60/100\n",
      "228/228 - 0s - loss: 2807450304512.0000 - mae: 797133.0625 - val_loss: 2886571655168.0000 - val_mae: 836826.9375 - 485ms/epoch - 2ms/step\n",
      "Epoch 61/100\n",
      "228/228 - 0s - loss: 2803760627712.0000 - mae: 799825.8125 - val_loss: 2885360287744.0000 - val_mae: 843288.1250 - 456ms/epoch - 2ms/step\n",
      "Epoch 62/100\n",
      "228/228 - 0s - loss: 2796875415552.0000 - mae: 796707.0000 - val_loss: 2875088699392.0000 - val_mae: 841815.2500 - 466ms/epoch - 2ms/step\n",
      "Epoch 63/100\n",
      "228/228 - 0s - loss: 2795484741632.0000 - mae: 798416.0000 - val_loss: 2886577160192.0000 - val_mae: 847641.0000 - 465ms/epoch - 2ms/step\n",
      "Epoch 64/100\n",
      "228/228 - 0s - loss: 2790499549184.0000 - mae: 801469.1250 - val_loss: 2878740365312.0000 - val_mae: 838002.8750 - 481ms/epoch - 2ms/step\n",
      "Epoch 65/100\n",
      "228/228 - 0s - loss: 2791270776832.0000 - mae: 797175.0000 - val_loss: 2858834198528.0000 - val_mae: 835867.4375 - 463ms/epoch - 2ms/step\n",
      "Epoch 66/100\n",
      "228/228 - 0s - loss: 2783446564864.0000 - mae: 799120.6875 - val_loss: 2862571061248.0000 - val_mae: 830729.0000 - 467ms/epoch - 2ms/step\n",
      "Epoch 67/100\n",
      "228/228 - 0s - loss: 2784887046144.0000 - mae: 795049.7500 - val_loss: 2869214576640.0000 - val_mae: 842468.0625 - 462ms/epoch - 2ms/step\n",
      "Epoch 68/100\n",
      "228/228 - 0s - loss: 2779054342144.0000 - mae: 796563.2500 - val_loss: 2861844398080.0000 - val_mae: 838865.7500 - 458ms/epoch - 2ms/step\n",
      "Epoch 69/100\n",
      "228/228 - 0s - loss: 2774543106048.0000 - mae: 795084.1250 - val_loss: 2844952100864.0000 - val_mae: 824239.7500 - 465ms/epoch - 2ms/step\n",
      "Epoch 70/100\n",
      "228/228 - 0s - loss: 2771679182848.0000 - mae: 791039.9375 - val_loss: 2871844405248.0000 - val_mae: 855017.0000 - 457ms/epoch - 2ms/step\n",
      "Epoch 71/100\n",
      "228/228 - 0s - loss: 2770087968768.0000 - mae: 798075.0625 - val_loss: 2846725767168.0000 - val_mae: 829368.0000 - 463ms/epoch - 2ms/step\n",
      "Epoch 72/100\n",
      "228/228 - 0s - loss: 2765131350016.0000 - mae: 794588.1250 - val_loss: 2854700974080.0000 - val_mae: 838232.9375 - 456ms/epoch - 2ms/step\n",
      "Epoch 73/100\n",
      "228/228 - 0s - loss: 2761887055872.0000 - mae: 790942.8125 - val_loss: 2835624755200.0000 - val_mae: 830624.8750 - 453ms/epoch - 2ms/step\n",
      "Epoch 74/100\n",
      "228/228 - 0s - loss: 2758413910016.0000 - mae: 792886.5625 - val_loss: 2854612893696.0000 - val_mae: 848910.7500 - 462ms/epoch - 2ms/step\n",
      "Epoch 75/100\n",
      "228/228 - 0s - loss: 2755834413056.0000 - mae: 792035.5625 - val_loss: 2839676977152.0000 - val_mae: 838471.3750 - 465ms/epoch - 2ms/step\n",
      "Epoch 76/100\n",
      "228/228 - 0s - loss: 2750672797696.0000 - mae: 794129.3125 - val_loss: 2841199247360.0000 - val_mae: 837096.6875 - 499ms/epoch - 2ms/step\n",
      "Epoch 77/100\n",
      "228/228 - 0s - loss: 2748181381120.0000 - mae: 794895.6875 - val_loss: 2829963493376.0000 - val_mae: 825866.8750 - 468ms/epoch - 2ms/step\n",
      "Epoch 78/100\n",
      "228/228 - 0s - loss: 2745954992128.0000 - mae: 790418.7500 - val_loss: 2831791161344.0000 - val_mae: 829742.5625 - 468ms/epoch - 2ms/step\n",
      "Epoch 79/100\n",
      "228/228 - 1s - loss: 2742768893952.0000 - mae: 793802.3125 - val_loss: 2832029188096.0000 - val_mae: 827860.5000 - 504ms/epoch - 2ms/step\n",
      "Epoch 80/100\n",
      "228/228 - 1s - loss: 2736885334016.0000 - mae: 789087.2500 - val_loss: 2820801036288.0000 - val_mae: 827977.7500 - 522ms/epoch - 2ms/step\n",
      "Epoch 81/100\n",
      "228/228 - 0s - loss: 2735754969088.0000 - mae: 788988.5625 - val_loss: 2819666739200.0000 - val_mae: 826073.3750 - 493ms/epoch - 2ms/step\n",
      "Epoch 82/100\n",
      "228/228 - 0s - loss: 2733344555008.0000 - mae: 792070.1250 - val_loss: 2826868097024.0000 - val_mae: 827515.0625 - 485ms/epoch - 2ms/step\n",
      "Epoch 83/100\n",
      "228/228 - 0s - loss: 2729073442816.0000 - mae: 789323.0000 - val_loss: 2839057530880.0000 - val_mae: 849150.5000 - 456ms/epoch - 2ms/step\n",
      "Epoch 84/100\n",
      "228/228 - 0s - loss: 2726212403200.0000 - mae: 788871.1250 - val_loss: 2821340790784.0000 - val_mae: 832209.3125 - 466ms/epoch - 2ms/step\n",
      "Epoch 85/100\n",
      "228/228 - 0s - loss: 2722778054656.0000 - mae: 791356.5000 - val_loss: 2816349569024.0000 - val_mae: 819845.8750 - 462ms/epoch - 2ms/step\n",
      "Epoch 86/100\n",
      "228/228 - 0s - loss: 2722637021184.0000 - mae: 785660.2500 - val_loss: 2818216296448.0000 - val_mae: 833596.6875 - 459ms/epoch - 2ms/step\n",
      "Epoch 87/100\n",
      "228/228 - 0s - loss: 2719137923072.0000 - mae: 792820.8750 - val_loss: 2811622064128.0000 - val_mae: 818360.1250 - 500ms/epoch - 2ms/step\n",
      "Epoch 88/100\n",
      "228/228 - 0s - loss: 2718316101632.0000 - mae: 783841.3750 - val_loss: 2800612540416.0000 - val_mae: 819975.8125 - 455ms/epoch - 2ms/step\n",
      "Epoch 89/100\n",
      "228/228 - 0s - loss: 2713846022144.0000 - mae: 789120.0625 - val_loss: 2818906259456.0000 - val_mae: 829539.5625 - 463ms/epoch - 2ms/step\n",
      "Epoch 90/100\n",
      "228/228 - 0s - loss: 2714426408960.0000 - mae: 787153.0625 - val_loss: 2806292152320.0000 - val_mae: 823582.4375 - 490ms/epoch - 2ms/step\n",
      "Epoch 91/100\n",
      "228/228 - 0s - loss: 2708455030784.0000 - mae: 783576.9375 - val_loss: 2830443741184.0000 - val_mae: 845002.0625 - 486ms/epoch - 2ms/step\n",
      "Epoch 92/100\n",
      "228/228 - 1s - loss: 2707448922112.0000 - mae: 782056.9375 - val_loss: 2807153557504.0000 - val_mae: 832729.8750 - 509ms/epoch - 2ms/step\n",
      "Epoch 93/100\n",
      "228/228 - 0s - loss: 2704515792896.0000 - mae: 787527.3750 - val_loss: 2802642059264.0000 - val_mae: 831899.9375 - 492ms/epoch - 2ms/step\n",
      "Epoch 94/100\n",
      "228/228 - 0s - loss: 2704265183232.0000 - mae: 788579.8125 - val_loss: 2809615876096.0000 - val_mae: 836611.1875 - 478ms/epoch - 2ms/step\n",
      "Epoch 95/100\n",
      "228/228 - 0s - loss: 2701838778368.0000 - mae: 785921.8750 - val_loss: 2804831748096.0000 - val_mae: 832848.5625 - 488ms/epoch - 2ms/step\n",
      "Epoch 96/100\n",
      "228/228 - 0s - loss: 2699666391040.0000 - mae: 787556.8125 - val_loss: 2807171121152.0000 - val_mae: 829834.0000 - 461ms/epoch - 2ms/step\n",
      "Epoch 97/100\n",
      "228/228 - 0s - loss: 2693824774144.0000 - mae: 781732.6875 - val_loss: 2820710858752.0000 - val_mae: 846110.9375 - 457ms/epoch - 2ms/step\n",
      "Epoch 98/100\n",
      "228/228 - 0s - loss: 2687584436224.0000 - mae: 790332.7500 - val_loss: 2783807012864.0000 - val_mae: 805037.1250 - 464ms/epoch - 2ms/step\n",
      "Epoch 99/100\n",
      "228/228 - 0s - loss: 2692580638720.0000 - mae: 778504.6875 - val_loss: 2807878123520.0000 - val_mae: 838364.1875 - 463ms/epoch - 2ms/step\n",
      "Epoch 100/100\n",
      "228/228 - 0s - loss: 2687685099520.0000 - mae: 781895.5625 - val_loss: 2826220077056.0000 - val_mae: 847417.6875 - 464ms/epoch - 2ms/step\n"
     ]
    }
   ],
   "source": [
    "history = model_mlp.fit(\n",
    "    X_train, y_train, \n",
    "    epochs=100, verbose=2, validation_split=0.2\n",
    ")"
   ]
  },
  {
   "cell_type": "code",
   "execution_count": 6,
   "metadata": {},
   "outputs": [
    {
     "data": {
      "text/plain": [
       "[3974730612736.0, 898675.375]"
      ]
     },
     "execution_count": 6,
     "metadata": {},
     "output_type": "execute_result"
    }
   ],
   "source": [
    "model_mlp.evaluate(X_test, y_test, verbose=0)"
   ]
  },
  {
   "cell_type": "code",
   "execution_count": 7,
   "metadata": {},
   "outputs": [
    {
     "name": "stdout",
     "output_type": "stream",
     "text": [
      "R2_SCORE: 0.640761, MAPE: 18.024977, MSE: 3974730248833.740723, RMSE: 1993672.553062, MAE: 898675.330384\n"
     ]
    }
   ],
   "source": [
    "pred_mlp = model_mlp.predict(X_test, verbose=0)\n",
    "_ = regression_evaluation(y_test, pred_mlp)"
   ]
  },
  {
   "cell_type": "code",
   "execution_count": 8,
   "metadata": {},
   "outputs": [
    {
     "data": {
      "image/png": "[encoded data removed]",
      "text/plain": [
       "<Figure size 640x480 with 1 Axes>"
      ]
     },
     "metadata": {},
     "output_type": "display_data"
    }
   ],
   "source": [
    "loss = history.history['loss']\n",
    "val_loss = history.history['val_loss']\n",
    "\n",
    "# loss와 val_loss 값을 그래프로 그립니다.\n",
    "epochs_range = range(1, len(loss) + 1)\n",
    "plt.plot(epochs_range, loss, label='Training Loss')\n",
    "plt.plot(epochs_range, val_loss, label='Validation Loss')\n",
    "plt.xlabel('Epochs')\n",
    "plt.ylabel('Loss')\n",
    "plt.legend()\n",
    "plt.show()"
   ]
  },
  {
   "cell_type": "code",
   "execution_count": null,
   "metadata": {},
   "outputs": [],
   "source": []
  }
 ],
 "metadata": {
  "kernelspec": {
   "display_name": "t213p310",
   "language": "python",
   "name": "python3"
  },
  "language_info": {
   "codemirror_mode": {
    "name": "ipython",
    "version": 3
   },
   "file_extension": ".py",
   "mimetype": "text/x-python",
   "name": "python",
   "nbconvert_exporter": "python",
   "pygments_lexer": "ipython3",
   "version": "3.10.12"
  },
  "orig_nbformat": 4
 },
 "nbformat": 4,
 "nbformat_minor": 2
}
