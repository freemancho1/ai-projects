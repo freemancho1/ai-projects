{
 "cells": [
  {
   "cell_type": "markdown",
   "metadata": {},
   "source": [
    "#### 전주 데이터 처리"
   ]
  },
  {
   "cell_type": "code",
   "execution_count": 1,
   "metadata": {},
   "outputs": [],
   "source": [
    "import pandas as pd\n",
    "from datetime import datetime\n",
    "\n",
    "import matplotlib.pyplot as plt\n",
    "from freeman.plt_setting import plt_settings\n",
    "from freeman.aiddd.data_manager import read_data, write_data, common_columns\n",
    "\n",
    "# 차트 한글처리 지원\n",
    "plt_settings()"
   ]
  },
  {
   "cell_type": "code",
   "execution_count": 2,
   "metadata": {},
   "outputs": [
    {
     "name": "stdout",
     "output_type": "stream",
     "text": [
      "Total Elapsed Time for Data Load: 0:00:17.633953\n",
      "Provided Data Shape: (38533, 63)\n",
      "Preprocessed Data Shape: (14728, 18)\n"
     ]
    }
   ],
   "source": [
    "_start_time = datetime.now()\n",
    "\n",
    "# 4번째 설비 갯 수가 추가된 공사비 전처리 데이터 \n",
    "_df_cons = read_data(\n",
    "    '1b-merge-cons-device-counts-training', \n",
    "    data_type='preprocess', \n",
    "    process_seq='4th'\n",
    ")\n",
    "\n",
    "# 3번째 제공된 전주 데이터\n",
    "_df_pole = read_data('POLE_DATA', data_type='provide', process_seq='3rd')\n",
    "\n",
    "print(\n",
    "    f'Total Elapsed Time for Data Load: {datetime.now() - _start_time}\\n'\n",
    "    f'Provided Data Shape: {_df_pole.shape}\\n'\n",
    "    f'Preprocessed Data Shape: {_df_cons.shape}'\n",
    ")"
   ]
  },
  {
   "cell_type": "code",
   "execution_count": 3,
   "metadata": {},
   "outputs": [],
   "source": [
    "df_cons, df_pole = _df_cons.copy(), _df_pole.copy()"
   ]
  },
  {
   "cell_type": "markdown",
   "metadata": {},
   "source": [
    "#### 데이터 전처리"
   ]
  },
  {
   "cell_type": "markdown",
   "metadata": {},
   "source": [
    "##### 학습에 필요한 컬럼 추출"
   ]
  },
  {
   "cell_type": "code",
   "execution_count": 4,
   "metadata": {},
   "outputs": [
    {
     "data": {
      "text/plain": [
       "(38533, 6)"
      ]
     },
     "execution_count": 4,
     "metadata": {},
     "output_type": "execute_result"
    }
   ],
   "source": [
    "# 학습에 필요한 데이터만 추출\n",
    "training_columns = [\n",
    "    '공사번호', '전산화번호', \n",
    "    '전주종류코드', '전주규격코드', '전주형태코드', \n",
    "    'X좌표-Y좌표'\n",
    "]\n",
    "df_training = df_pole[training_columns].copy()\n",
    "df_training.shape"
   ]
  },
  {
   "cell_type": "markdown",
   "metadata": {},
   "source": [
    "##### 컬럼명을 영문으로 변환"
   ]
  },
  {
   "cell_type": "code",
   "execution_count": 5,
   "metadata": {},
   "outputs": [],
   "source": [
    "# 사용하기 좋게 컬럼명을 영문으로 변경\n",
    "rename_columns = {\n",
    "    '공사번호': common_columns['공사번호'],\n",
    "    '전산화번호': common_columns['전산화번호'], \n",
    "    '전주종류코드': common_columns['전주종류코드'],\n",
    "    '전주규격코드': common_columns['전주규격코드'],\n",
    "    '전주형태코드': common_columns['전주형태코드'],\n",
    "    'X좌표-Y좌표': common_columns['X좌표-Y좌표'],\n",
    "}\n",
    "df_training.rename(columns=rename_columns, inplace=True)"
   ]
  },
  {
   "cell_type": "markdown",
   "metadata": {},
   "source": [
    "##### 학습에 필요한 레코드 추출"
   ]
  },
  {
   "cell_type": "code",
   "execution_count": 6,
   "metadata": {},
   "outputs": [
    {
     "data": {
      "text/plain": [
       "(26920, 6)"
      ]
     },
     "execution_count": 6,
     "metadata": {},
     "output_type": "execute_result"
    }
   ],
   "source": [
    "# 공사비에 있는 공사번호를 포함한 레코드만 학습 대상으로 추출\n",
    "df_training = df_training[df_training.cons_id.isin(df_cons.cons_id)]\n",
    "df_training.shape"
   ]
  },
  {
   "cell_type": "markdown",
   "metadata": {},
   "source": [
    "##### 좌표정보 추가"
   ]
  },
  {
   "cell_type": "code",
   "execution_count": 7,
   "metadata": {},
   "outputs": [
    {
     "data": {
      "text/plain": [
       "(26920, 8)"
      ]
     },
     "execution_count": 7,
     "metadata": {},
     "output_type": "execute_result"
    }
   ],
   "source": [
    "# `coordinate` 컬럼을 이용해 x, y 좌표컬럼 추가\n",
    "df_training[['x', 'y', 'temp1', 'temp2']] = \\\n",
    "    df_training.coordinate.str.split(',', expand=True)\n",
    "\n",
    "df_training.drop(columns=['temp1', 'temp2'], inplace=True)\n",
    "df_training.shape"
   ]
  },
  {
   "cell_type": "code",
   "execution_count": 8,
   "metadata": {},
   "outputs": [
    {
     "name": "stdout",
     "output_type": "stream",
     "text": [
      "<class 'pandas.core.frame.DataFrame'>\n",
      "Index: 26920 entries, 220 to 38532\n",
      "Data columns (total 8 columns):\n",
      " #   Column         Non-Null Count  Dtype  \n",
      "---  ------         --------------  -----  \n",
      " 0   cons_id        26920 non-null  object \n",
      " 1   comp_id        26920 non-null  object \n",
      " 2   pole_type_cd   26825 non-null  object \n",
      " 3   pole_spec_cd   26825 non-null  float64\n",
      " 4   pole_shape_cd  26920 non-null  object \n",
      " 5   coordinate     26920 non-null  object \n",
      " 6   x              26920 non-null  object \n",
      " 7   y              26920 non-null  object \n",
      "dtypes: float64(1), object(7)\n",
      "memory usage: 1.8+ MB\n"
     ]
    }
   ],
   "source": [
    "# 컬럼별 데이터 형태 확인\n",
    "df_training.info()"
   ]
  },
  {
   "cell_type": "code",
   "execution_count": 9,
   "metadata": {},
   "outputs": [],
   "source": [
    "# 좌표값을 문자에서 실수형으로 변환\n",
    "df_training.x = df_training.x.astype(float)\n",
    "df_training.y = df_training.y.astype(float)"
   ]
  },
  {
   "cell_type": "code",
   "execution_count": 10,
   "metadata": {},
   "outputs": [],
   "source": [
    "# `coordinate` 데이터 제거\n",
    "df_training.drop('coordinate', axis=1, inplace=True)"
   ]
  },
  {
   "cell_type": "markdown",
   "metadata": {},
   "source": [
    "##### Code데이터 One-Hot Encoding"
   ]
  },
  {
   "cell_type": "code",
   "execution_count": 11,
   "metadata": {},
   "outputs": [
    {
     "data": {
      "text/plain": [
       "pole_type_cd\n",
       "C    24967\n",
       "H     1435\n",
       "B      402\n",
       "1       16\n",
       "M        4\n",
       "E        1\n",
       "Name: count, dtype: int64"
      ]
     },
     "execution_count": 11,
     "metadata": {},
     "output_type": "execute_result"
    }
   ],
   "source": [
    "df_training.pole_type_cd.value_counts()"
   ]
  },
  {
   "cell_type": "code",
   "execution_count": 12,
   "metadata": {},
   "outputs": [
    {
     "data": {
      "text/plain": [
       "pole_shape_cd\n",
       "O    26259\n",
       "G      566\n",
       "V       95\n",
       "Name: count, dtype: int64"
      ]
     },
     "execution_count": 12,
     "metadata": {},
     "output_type": "execute_result"
    }
   ],
   "source": [
    "df_training.pole_shape_cd.value_counts()"
   ]
  },
  {
   "cell_type": "code",
   "execution_count": 13,
   "metadata": {},
   "outputs": [
    {
     "data": {
      "text/plain": [
       "pole_spec_cd\n",
       "10.0    19022\n",
       "12.0     5591\n",
       "16.0     1067\n",
       "14.0      739\n",
       "6.0       402\n",
       "11.0        3\n",
       "8.0         1\n",
       "Name: count, dtype: int64"
      ]
     },
     "execution_count": 13,
     "metadata": {},
     "output_type": "execute_result"
    }
   ],
   "source": [
    "df_training.pole_spec_cd.value_counts()"
   ]
  },
  {
   "cell_type": "code",
   "execution_count": 14,
   "metadata": {},
   "outputs": [
    {
     "data": {
      "text/plain": [
       "(26920, 20)"
      ]
     },
     "execution_count": 14,
     "metadata": {},
     "output_type": "execute_result"
    }
   ],
   "source": [
    "# 코드 데이터를 나중에 갯 수로 처리하기 위해 one-hot encoding 처리\n",
    "df_training = pd.get_dummies(\n",
    "    df_training, \n",
    "    columns=['pole_shape_cd', 'pole_type_cd', 'pole_spec_cd'],\n",
    "    prefix=['pole_shape', 'pole_type', 'pole_spec']\n",
    ")\n",
    "\n",
    "df_training.shape"
   ]
  },
  {
   "cell_type": "code",
   "execution_count": 15,
   "metadata": {},
   "outputs": [
    {
     "name": "stdout",
     "output_type": "stream",
     "text": [
      "<class 'pandas.core.frame.DataFrame'>\n",
      "Index: 26920 entries, 220 to 38532\n",
      "Data columns (total 20 columns):\n",
      " #   Column          Non-Null Count  Dtype  \n",
      "---  ------          --------------  -----  \n",
      " 0   cons_id         26920 non-null  object \n",
      " 1   comp_id         26920 non-null  object \n",
      " 2   x               26920 non-null  float64\n",
      " 3   y               26920 non-null  float64\n",
      " 4   pole_shape_G    26920 non-null  bool   \n",
      " 5   pole_shape_O    26920 non-null  bool   \n",
      " 6   pole_shape_V    26920 non-null  bool   \n",
      " 7   pole_type_1     26920 non-null  bool   \n",
      " 8   pole_type_B     26920 non-null  bool   \n",
      " 9   pole_type_C     26920 non-null  bool   \n",
      " 10  pole_type_E     26920 non-null  bool   \n",
      " 11  pole_type_H     26920 non-null  bool   \n",
      " 12  pole_type_M     26920 non-null  bool   \n",
      " 13  pole_spec_6.0   26920 non-null  bool   \n",
      " 14  pole_spec_8.0   26920 non-null  bool   \n",
      " 15  pole_spec_10.0  26920 non-null  bool   \n",
      " 16  pole_spec_11.0  26920 non-null  bool   \n",
      " 17  pole_spec_12.0  26920 non-null  bool   \n",
      " 18  pole_spec_14.0  26920 non-null  bool   \n",
      " 19  pole_spec_16.0  26920 non-null  bool   \n",
      "dtypes: bool(16), float64(2), object(2)\n",
      "memory usage: 1.4+ MB\n"
     ]
    }
   ],
   "source": [
    "df_training.info()"
   ]
  },
  {
   "cell_type": "code",
   "execution_count": 16,
   "metadata": {},
   "outputs": [],
   "source": [
    "# 안해도 되지만, bool형 타입 데이터를 보기 좋게 1, 0으로 변환\n",
    "df_training = df_training.applymap(\n",
    "    lambda x: int(x) if isinstance(x, bool) else x\n",
    ")"
   ]
  },
  {
   "cell_type": "markdown",
   "metadata": {},
   "source": [
    "#### 학습한 전주 데이터 저장\n",
    "* 이 데이터는 학습에 사용되지 않지만, 이후 작업 처리를 할 경우 불러다 사용하면 됨"
   ]
  },
  {
   "cell_type": "code",
   "execution_count": 17,
   "metadata": {},
   "outputs": [],
   "source": [
    "write_data('1c-preprocessed-pole', df_training, process_seq='4th')"
   ]
  },
  {
   "cell_type": "markdown",
   "metadata": {},
   "source": [
    "#### 공사비를 기준으로 한 레코드로 만들기"
   ]
  },
  {
   "cell_type": "code",
   "execution_count": 18,
   "metadata": {},
   "outputs": [],
   "source": [
    "# 유일값의 공사번호들\n",
    "unique_cons_ids = df_training.cons_id.unique()\n",
    "# 해당 공사번호의 레코드 값\n",
    "cons_id_row_values = []\n",
    "# 합산할 컬럼들\n",
    "columns_for_summation = [\n",
    "    col for col in df_training.columns if col.startswith('pole_')\n",
    "]"
   ]
  },
  {
   "cell_type": "code",
   "execution_count": 19,
   "metadata": {},
   "outputs": [
    {
     "data": {
      "text/plain": [
       "(14728, 14728)"
      ]
     },
     "execution_count": 19,
     "metadata": {},
     "output_type": "execute_result"
    }
   ],
   "source": [
    "# 공사비의 공사번호 갯 수와 전처리된 전주에 있는 유일한 공사번호 갯 수 비교\n",
    "df_cons.shape[0], len(unique_cons_ids)\n",
    "\n",
    "# 공사비에 있는 공사번호 모두에 전주가 포함되어 있음을 알 수 있음."
   ]
  },
  {
   "cell_type": "code",
   "execution_count": 20,
   "metadata": {},
   "outputs": [],
   "source": [
    "for cons_id in unique_cons_ids:\n",
    "    df_temp = df_training[df_training.cons_id == cons_id]\n",
    "    new_row = df_temp[columns_for_summation].sum().values.tolist()\n",
    "    cons_id_row_values.append([cons_id] + new_row)"
   ]
  },
  {
   "cell_type": "code",
   "execution_count": 21,
   "metadata": {},
   "outputs": [
    {
     "data": {
      "text/plain": [
       "(14728, 17)"
      ]
     },
     "execution_count": 21,
     "metadata": {},
     "output_type": "execute_result"
    }
   ],
   "source": [
    "# 그룹 데이터프레임 만들기\n",
    "df_group = pd.DataFrame(\n",
    "    cons_id_row_values, columns=['cons_id'] + columns_for_summation\n",
    ")\n",
    "df_group.shape"
   ]
  },
  {
   "cell_type": "code",
   "execution_count": 22,
   "metadata": {},
   "outputs": [
    {
     "data": {
      "text/html": [
       "<div>\n",
       "<style scoped>\n",
       "    .dataframe tbody tr th:only-of-type {\n",
       "        vertical-align: middle;\n",
       "    }\n",
       "\n",
       "    .dataframe tbody tr th {\n",
       "        vertical-align: top;\n",
       "    }\n",
       "\n",
       "    .dataframe thead th {\n",
       "        text-align: right;\n",
       "    }\n",
       "</style>\n",
       "<table border=\"1\" class=\"dataframe\">\n",
       "  <thead>\n",
       "    <tr style=\"text-align: right;\">\n",
       "      <th></th>\n",
       "      <th>pole_shape_G</th>\n",
       "      <th>pole_shape_O</th>\n",
       "      <th>pole_shape_V</th>\n",
       "      <th>pole_type_1</th>\n",
       "      <th>pole_type_B</th>\n",
       "      <th>pole_type_C</th>\n",
       "      <th>pole_type_E</th>\n",
       "      <th>pole_type_H</th>\n",
       "      <th>pole_type_M</th>\n",
       "      <th>pole_spec_6.0</th>\n",
       "      <th>pole_spec_8.0</th>\n",
       "      <th>pole_spec_10.0</th>\n",
       "      <th>pole_spec_11.0</th>\n",
       "      <th>pole_spec_12.0</th>\n",
       "      <th>pole_spec_14.0</th>\n",
       "      <th>pole_spec_16.0</th>\n",
       "    </tr>\n",
       "  </thead>\n",
       "  <tbody>\n",
       "    <tr>\n",
       "      <th>0</th>\n",
       "      <td>0</td>\n",
       "      <td>1</td>\n",
       "      <td>0</td>\n",
       "      <td>0</td>\n",
       "      <td>0</td>\n",
       "      <td>0</td>\n",
       "      <td>0</td>\n",
       "      <td>1</td>\n",
       "      <td>0</td>\n",
       "      <td>0</td>\n",
       "      <td>0</td>\n",
       "      <td>0</td>\n",
       "      <td>0</td>\n",
       "      <td>0</td>\n",
       "      <td>1</td>\n",
       "      <td>0</td>\n",
       "    </tr>\n",
       "    <tr>\n",
       "      <th>1</th>\n",
       "      <td>0</td>\n",
       "      <td>1</td>\n",
       "      <td>0</td>\n",
       "      <td>0</td>\n",
       "      <td>0</td>\n",
       "      <td>0</td>\n",
       "      <td>0</td>\n",
       "      <td>1</td>\n",
       "      <td>0</td>\n",
       "      <td>0</td>\n",
       "      <td>0</td>\n",
       "      <td>0</td>\n",
       "      <td>0</td>\n",
       "      <td>0</td>\n",
       "      <td>1</td>\n",
       "      <td>0</td>\n",
       "    </tr>\n",
       "    <tr>\n",
       "      <th>2</th>\n",
       "      <td>0</td>\n",
       "      <td>1</td>\n",
       "      <td>0</td>\n",
       "      <td>0</td>\n",
       "      <td>0</td>\n",
       "      <td>0</td>\n",
       "      <td>0</td>\n",
       "      <td>1</td>\n",
       "      <td>0</td>\n",
       "      <td>0</td>\n",
       "      <td>0</td>\n",
       "      <td>0</td>\n",
       "      <td>0</td>\n",
       "      <td>0</td>\n",
       "      <td>0</td>\n",
       "      <td>1</td>\n",
       "    </tr>\n",
       "    <tr>\n",
       "      <th>3</th>\n",
       "      <td>0</td>\n",
       "      <td>1</td>\n",
       "      <td>0</td>\n",
       "      <td>0</td>\n",
       "      <td>0</td>\n",
       "      <td>0</td>\n",
       "      <td>0</td>\n",
       "      <td>1</td>\n",
       "      <td>0</td>\n",
       "      <td>0</td>\n",
       "      <td>0</td>\n",
       "      <td>0</td>\n",
       "      <td>0</td>\n",
       "      <td>0</td>\n",
       "      <td>0</td>\n",
       "      <td>1</td>\n",
       "    </tr>\n",
       "    <tr>\n",
       "      <th>4</th>\n",
       "      <td>0</td>\n",
       "      <td>1</td>\n",
       "      <td>0</td>\n",
       "      <td>0</td>\n",
       "      <td>0</td>\n",
       "      <td>1</td>\n",
       "      <td>0</td>\n",
       "      <td>0</td>\n",
       "      <td>0</td>\n",
       "      <td>0</td>\n",
       "      <td>0</td>\n",
       "      <td>0</td>\n",
       "      <td>0</td>\n",
       "      <td>1</td>\n",
       "      <td>0</td>\n",
       "      <td>0</td>\n",
       "    </tr>\n",
       "    <tr>\n",
       "      <th>5</th>\n",
       "      <td>0</td>\n",
       "      <td>1</td>\n",
       "      <td>0</td>\n",
       "      <td>0</td>\n",
       "      <td>0</td>\n",
       "      <td>1</td>\n",
       "      <td>0</td>\n",
       "      <td>0</td>\n",
       "      <td>0</td>\n",
       "      <td>0</td>\n",
       "      <td>0</td>\n",
       "      <td>0</td>\n",
       "      <td>0</td>\n",
       "      <td>1</td>\n",
       "      <td>0</td>\n",
       "      <td>0</td>\n",
       "    </tr>\n",
       "    <tr>\n",
       "      <th>6</th>\n",
       "      <td>0</td>\n",
       "      <td>1</td>\n",
       "      <td>0</td>\n",
       "      <td>0</td>\n",
       "      <td>0</td>\n",
       "      <td>1</td>\n",
       "      <td>0</td>\n",
       "      <td>0</td>\n",
       "      <td>0</td>\n",
       "      <td>0</td>\n",
       "      <td>0</td>\n",
       "      <td>0</td>\n",
       "      <td>0</td>\n",
       "      <td>1</td>\n",
       "      <td>0</td>\n",
       "      <td>0</td>\n",
       "    </tr>\n",
       "    <tr>\n",
       "      <th>7</th>\n",
       "      <td>1</td>\n",
       "      <td>0</td>\n",
       "      <td>0</td>\n",
       "      <td>0</td>\n",
       "      <td>0</td>\n",
       "      <td>1</td>\n",
       "      <td>0</td>\n",
       "      <td>0</td>\n",
       "      <td>0</td>\n",
       "      <td>0</td>\n",
       "      <td>0</td>\n",
       "      <td>1</td>\n",
       "      <td>0</td>\n",
       "      <td>0</td>\n",
       "      <td>0</td>\n",
       "      <td>0</td>\n",
       "    </tr>\n",
       "    <tr>\n",
       "      <th>group</th>\n",
       "      <td>1</td>\n",
       "      <td>7</td>\n",
       "      <td>0</td>\n",
       "      <td>0</td>\n",
       "      <td>0</td>\n",
       "      <td>4</td>\n",
       "      <td>0</td>\n",
       "      <td>4</td>\n",
       "      <td>0</td>\n",
       "      <td>0</td>\n",
       "      <td>0</td>\n",
       "      <td>1</td>\n",
       "      <td>0</td>\n",
       "      <td>3</td>\n",
       "      <td>2</td>\n",
       "      <td>2</td>\n",
       "    </tr>\n",
       "  </tbody>\n",
       "</table>\n",
       "</div>"
      ],
      "text/plain": [
       "       pole_shape_G  pole_shape_O  pole_shape_V  pole_type_1  pole_type_B  \\\n",
       "0                 0             1             0            0            0   \n",
       "1                 0             1             0            0            0   \n",
       "2                 0             1             0            0            0   \n",
       "3                 0             1             0            0            0   \n",
       "4                 0             1             0            0            0   \n",
       "5                 0             1             0            0            0   \n",
       "6                 0             1             0            0            0   \n",
       "7                 1             0             0            0            0   \n",
       "group             1             7             0            0            0   \n",
       "\n",
       "       pole_type_C  pole_type_E  pole_type_H  pole_type_M  pole_spec_6.0  \\\n",
       "0                0            0            1            0              0   \n",
       "1                0            0            1            0              0   \n",
       "2                0            0            1            0              0   \n",
       "3                0            0            1            0              0   \n",
       "4                1            0            0            0              0   \n",
       "5                1            0            0            0              0   \n",
       "6                1            0            0            0              0   \n",
       "7                1            0            0            0              0   \n",
       "group            4            0            4            0              0   \n",
       "\n",
       "       pole_spec_8.0  pole_spec_10.0  pole_spec_11.0  pole_spec_12.0  \\\n",
       "0                  0               0               0               0   \n",
       "1                  0               0               0               0   \n",
       "2                  0               0               0               0   \n",
       "3                  0               0               0               0   \n",
       "4                  0               0               0               1   \n",
       "5                  0               0               0               1   \n",
       "6                  0               0               0               1   \n",
       "7                  0               1               0               0   \n",
       "group              0               1               0               3   \n",
       "\n",
       "       pole_spec_14.0  pole_spec_16.0  \n",
       "0                   1               0  \n",
       "1                   1               0  \n",
       "2                   0               1  \n",
       "3                   0               1  \n",
       "4                   0               0  \n",
       "5                   0               0  \n",
       "6                   0               0  \n",
       "7                   0               0  \n",
       "group               2               2  "
      ]
     },
     "execution_count": 22,
     "metadata": {},
     "output_type": "execute_result"
    }
   ],
   "source": [
    "# 잘 더해 졌는지 임의 공사번호를 불러와 확인\n",
    "_CONS_ID = '477420193349'\n",
    "_df1 = df_training[columns_for_summation][df_training.cons_id==_CONS_ID]\n",
    "_df2 = df_group[columns_for_summation][df_group.cons_id==_CONS_ID]\n",
    "_df3 = pd.concat([_df1, _df2], ignore_index=True)\n",
    "_indexs = _df3.index.tolist()\n",
    "_indexs[-1] = 'group'\n",
    "_df3.index = _indexs\n",
    "_df3"
   ]
  },
  {
   "cell_type": "markdown",
   "metadata": {},
   "source": [
    "#### 공사비 데이터와 전주 그룹데이터 병합\n",
    "* 여기서는 아직 공사비별 전주 순서는 처리하지 않음(그 부분은 전선에서 처리)"
   ]
  },
  {
   "cell_type": "code",
   "execution_count": 23,
   "metadata": {},
   "outputs": [],
   "source": [
    "df_cons_pols_merge = pd.merge(\n",
    "    df_cons, df_group,\n",
    "    left_on='cons_id', right_on='cons_id', how='left'\n",
    ")"
   ]
  },
  {
   "cell_type": "code",
   "execution_count": 24,
   "metadata": {},
   "outputs": [],
   "source": [
    "write_data('1c-merge-cons-pole', df_cons_pols_merge, process_seq='4th')"
   ]
  },
  {
   "cell_type": "code",
   "execution_count": null,
   "metadata": {},
   "outputs": [],
   "source": []
  }
 ],
 "metadata": {
  "kernelspec": {
   "display_name": "t213p310",
   "language": "python",
   "name": "python3"
  },
  "language_info": {
   "codemirror_mode": {
    "name": "ipython",
    "version": 3
   },
   "file_extension": ".py",
   "mimetype": "text/x-python",
   "name": "python",
   "nbconvert_exporter": "python",
   "pygments_lexer": "ipython3",
   "version": "3.10.12"
  },
  "orig_nbformat": 4
 },
 "nbformat": 4,
 "nbformat_minor": 2
}
