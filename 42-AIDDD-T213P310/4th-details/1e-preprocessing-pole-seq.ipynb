{
 "cells": [
  {
   "cell_type": "markdown",
   "metadata": {},
   "source": [
    "#### 전주 순번 및 전주와 지선주 갯 수 계산"
   ]
  },
  {
   "cell_type": "code",
   "execution_count": 1,
   "metadata": {},
   "outputs": [],
   "source": [
    "import pandas as pd\n",
    "from datetime import datetime \n",
    "\n",
    "from freeman.aiddd.data_manager import read_data, write_data"
   ]
  },
  {
   "cell_type": "markdown",
   "metadata": {},
   "source": [
    "#### 데이터 불러오기"
   ]
  },
  {
   "cell_type": "code",
   "execution_count": 2,
   "metadata": {},
   "outputs": [
    {
     "name": "stdout",
     "output_type": "stream",
     "text": [
      "Total Elapsed Time for Data Load: 0:00:00.463533\n",
      "Preprocessed Data(cons) Shape: (14728, 81)\n",
      "Preprocessed Data(pole) Shape: (26920, 20)\n",
      "Preprocessed Data(line) Shape: (29704, 51)\n"
     ]
    }
   ],
   "source": [
    "_start_time = datetime.now()\n",
    "\n",
    "# 4차 전처리: 공사비 + 전주 + 전선 데이터 \n",
    "_df_cons = read_data(\n",
    "    '1d-merge-cons-pole-line', process_seq='4th', dtype={'cons_id': str}\n",
    ")\n",
    "\n",
    "# 4차 전처리: 전주 데이터(전선 정보를 이용해 순서 정하고 좌표 지정하기 위해)\n",
    "_df_pole = read_data(\n",
    "    '1c-preprocessed-pole', process_seq='4th', dtype={'cons_id': str}\n",
    ")\n",
    "\n",
    "# 4차 전처리: 전선 데이터\n",
    "_df_line = read_data(\n",
    "    '1d-preprocessed-line', process_seq='4th', dtype={'cons_id': str}\n",
    ")\n",
    "\n",
    "print(\n",
    "    f'Total Elapsed Time for Data Load: {datetime.now() - _start_time}\\n'\n",
    "    f'Preprocessed Data(cons) Shape: {_df_cons.shape}\\n'\n",
    "    f'Preprocessed Data(pole) Shape: {_df_pole.shape}\\n'\n",
    "    f'Preprocessed Data(line) Shape: {_df_line.shape}'\n",
    ")"
   ]
  },
  {
   "cell_type": "code",
   "execution_count": 3,
   "metadata": {},
   "outputs": [],
   "source": [
    "df_cons, df_pole, df_line = _df_cons.copy(), _df_pole.copy(), _df_line.copy()"
   ]
  },
  {
   "cell_type": "markdown",
   "metadata": {},
   "source": [
    "#### DF_POLE dict생성"
   ]
  },
  {
   "cell_type": "code",
   "execution_count": 4,
   "metadata": {},
   "outputs": [
    {
     "data": {
      "text/plain": [
       "[128.393165784208, 36.8303489085259]"
      ]
     },
     "execution_count": 4,
     "metadata": {},
     "output_type": "execute_result"
    }
   ],
   "source": [
    "dict_pole = df_pole[['comp_id', 'x', 'y']]\\\n",
    "    .set_index('comp_id').T.to_dict('list')\n",
    "\n",
    "# 확인\n",
    "dict_pole[df_pole.iloc[1].comp_id]"
   ]
  },
  {
   "cell_type": "markdown",
   "metadata": {},
   "source": [
    "#### 공사번호별 전주 순서 계산"
   ]
  },
  {
   "cell_type": "code",
   "execution_count": 7,
   "metadata": {},
   "outputs": [],
   "source": [
    "# 공사번호별 전주 및 지선주 갯 수 계산\n",
    "def computed_pole_counts(df_curr_pole, df_curr_line):\n",
    "    # 지선주 갯 수: df_temp.shape[0]\n",
    "    # 실제 전주 갯 수: pole_cnts - 지선주 갯 수\n",
    "    df_temp = df_curr_pole[\n",
    "        ~df_curr_pole.comp_id.isin(df_curr_line.comp_id) &\n",
    "        ~df_curr_pole.comp_id.isin(df_curr_line.from_comp_id)\n",
    "    ]\n",
    "    curr_total_pole_count = df_curr_pole.shape[0]\n",
    "    curr_support_pole_count = df_temp.shape[0]\n",
    "    return [\n",
    "        curr_total_pole_count - curr_support_pole_count,\n",
    "        curr_support_pole_count\n",
    "    ]"
   ]
  },
  {
   "cell_type": "code",
   "execution_count": 49,
   "metadata": {},
   "outputs": [],
   "source": [
    "# 공사번호별 전주 순서계산 함수\n",
    "def computed_pole_seqs(paths, df_curr_pole, df_curr_line):\n",
    "    # 전선에 연결된 전산화번호 값들\n",
    "    comp_id_values = df_curr_line.comp_id.tolist()\n",
    "    # 전선에 연결된 전원측전산화번호 값들\n",
    "    from_comp_id_values = df_curr_line.from_comp_id.tolist()\n",
    "    # 전주간 거리\n",
    "    span_values = df_curr_line.span.tolist()\n",
    "    # 전주 자체 전산화번호 값들\n",
    "    pole_comp_id_values = df_curr_pole.comp_id.tolist()\n",
    "    # 전원측전산화번호에만 있는 값들(이 전주가 전체 경로의 시작점)\n",
    "    only_from_comp_id_values = [\n",
    "        item for item in from_comp_id_values if item not in comp_id_values\n",
    "    ]\n",
    "    \n",
    "    # print(\n",
    "    #     f'pole: {pole_comp_id_values}\\n'\n",
    "    #     f'comp: {comp_id_values}\\n'\n",
    "    #     f'from: {from_comp_id_values}{only_from_comp_id_values}'\n",
    "    # )\n",
    "    \n",
    "    # 연속한 두 전주의 기설 여부 체크\n",
    "    # 이런 경우는 전주작업 없이 전선작업만 한 경우로 예외 처리\n",
    "    before_is_already = False\n",
    "    # 한 전주에서 2번 이상 분기한 경우 체크\n",
    "    # 이런 경우는 정상적인 경우가 아니기 때문에 예외 처리\n",
    "    processed_comp_id = []\n",
    "    # 두 전주가 전선으로 연결되지 않고 끈겨 있는 횟 수 \n",
    "    # 이 값은 모델 속성값으로 사용할 예정\n",
    "    disconnected_count = 0\n",
    "    \n",
    "    # 회전 횟 수를 1 추가해 비정상 종료 시키면서 마지막 next_span값에 0 추가\n",
    "    curr_loop_count = len(from_comp_id_values) + 1\n",
    "    sub_loop_count = 0\n",
    "    is_exception = False\n",
    "    for comp_id in only_from_comp_id_values:\n",
    "        # 하나의 전주(전산화번호)에서 여러 전주로 연결되는 공사(제외대상)\n",
    "        if comp_id in processed_comp_id:\n",
    "            is_exception = True\n",
    "            break\n",
    "        processed_comp_id.append(comp_id)\n",
    "        \n",
    "        next_comp_id = comp_id\n",
    "        for _ in range(curr_loop_count - sub_loop_count):\n",
    "            # 현재 전주의 기설(1) 또는 신설(0) 여부 판단\n",
    "            is_already = next_comp_id not in pole_comp_id_values\n",
    "            # print(f'**{is_already}:{next_comp_id}:{pole_comp_id_values}')\n",
    "            if is_already and before_is_already:\n",
    "                is_exception = True\n",
    "                break\n",
    "            before_is_already = is_already\n",
    "            \n",
    "            # 현 전주의 좌표값 가져오기\n",
    "            xy = dict_pole.get(next_comp_id, [0, 0])\n",
    "            \n",
    "            try:\n",
    "                next_comp_id_index = from_comp_id_values.index(next_comp_id)\n",
    "                next_span = span_values[next_comp_id_index]\n",
    "                paths.extend([\n",
    "                    is_already, next_comp_id, xy[0], xy[1], next_span\n",
    "                ])\n",
    "                next_comp_id = comp_id_values[next_comp_id_index]\n",
    "            except ValueError as ve:\n",
    "                # 전주와 전주 사이에 연결이 끈어진 경우\n",
    "                next_span = 0\n",
    "                disconnected_count += 1\n",
    "                paths.extend([\n",
    "                    is_already, next_comp_id, xy[0], xy[1], next_span\n",
    "                ])\n",
    "                break\n",
    "                \n",
    "            sub_loop_count += 1\n",
    "    \n",
    "    # 전주와 전주 사이가 끈어진 경우 제외\n",
    "    if disconnected_count > 1:\n",
    "        is_exception = True\n",
    "            \n",
    "    return is_exception, disconnected_count"
   ]
  },
  {
   "cell_type": "code",
   "execution_count": 50,
   "metadata": {},
   "outputs": [],
   "source": [
    "# 공사번호별 전주 경로계산 함수\n",
    "def computed_pole_paths(cons_id):\n",
    "    # 공사번호 추가\n",
    "    pole_paths = [cons_id]\n",
    "    \n",
    "    df_curr_pole = df_pole[df_pole.cons_id == cons_id]\n",
    "    df_curr_line = df_line[df_line.cons_id == cons_id]\n",
    "    \n",
    "    # 전주 및 지선주 갯 수 추가\n",
    "    pole_paths.extend(computed_pole_counts(df_curr_pole, df_curr_line))\n",
    "    \n",
    "    # 전주 순서 구하기\n",
    "    is_exception, disconnected_count = \\\n",
    "        computed_pole_seqs(pole_paths, df_curr_pole, df_curr_line)\n",
    "        \n",
    "    return is_exception, disconnected_count, pole_paths"
   ]
  },
  {
   "cell_type": "code",
   "execution_count": 51,
   "metadata": {},
   "outputs": [],
   "source": [
    "# 공사번호 리스트\n",
    "unique_cons_ids = df_cons.cons_id.unique()\n",
    "# 공사번호별 전주 순번 등 경로정보\n",
    "cons_id_pole_paths = []\n",
    "# 해당 공사에서 전선이 끈긴 횟 수\n",
    "cons_id_disconnected_counts = []\n",
    "\n",
    "for cons_id in unique_cons_ids:\n",
    "    # print(f'{cons_id}:')\n",
    "    is_exception, disconnected_count, pole_paths = \\\n",
    "        computed_pole_paths(cons_id)\n",
    "    if is_exception is not True:\n",
    "        cons_id_pole_paths.append(pole_paths)\n",
    "        cons_id_disconnected_counts.append(disconnected_count)"
   ]
  },
  {
   "cell_type": "code",
   "execution_count": 54,
   "metadata": {},
   "outputs": [],
   "source": [
    "MAX_POLE_COUNT = 11\n",
    "column_names = ['cons_id', 'real_pole_cnts', 'support_pole_cnts']\n",
    "for idx in range(MAX_POLE_COUNT):\n",
    "    column_names += [\n",
    "        f'pole{idx+1}_is_already', f'pole{idx+1}_comp_id',\n",
    "        f'pole{idx+1}_x', f'pole{idx+1}_y', f'pole{idx+1}_span'\n",
    "    ]"
   ]
  },
  {
   "cell_type": "code",
   "execution_count": 55,
   "metadata": {},
   "outputs": [],
   "source": [
    "df_pole_paths = pd.DataFrame(cons_id_pole_paths, columns=column_names)"
   ]
  },
  {
   "cell_type": "code",
   "execution_count": 56,
   "metadata": {},
   "outputs": [],
   "source": [
    "df_merge = pd.merge(\n",
    "    df_cons, df_pole_paths,\n",
    "    left_on='cons_id', right_on='cons_id', how='right'\n",
    ")"
   ]
  },
  {
   "cell_type": "code",
   "execution_count": 59,
   "metadata": {},
   "outputs": [],
   "source": [
    "write_data('1e-merge-cons-pole-line-path', df_merge, process_seq='4th')"
   ]
  },
  {
   "cell_type": "code",
   "execution_count": 60,
   "metadata": {},
   "outputs": [
    {
     "data": {
      "text/plain": [
       "['cons_id',\n",
       " 'total_cons_cost',\n",
       " 'cont_cap',\n",
       " 'last_mod_date',\n",
       " 'year',\n",
       " 'month',\n",
       " 'day',\n",
       " 'dayofweek',\n",
       " 'dayofyear',\n",
       " 'last_mod_eid',\n",
       " 'eid_code',\n",
       " 'eid_code_number',\n",
       " 'eid_number',\n",
       " 'office_name',\n",
       " 'office_number',\n",
       " 'line_cnts',\n",
       " 'pole_cnts',\n",
       " 'sl_cnts',\n",
       " 'pole_shape_G',\n",
       " 'pole_shape_O',\n",
       " 'pole_shape_V',\n",
       " 'pole_type_1',\n",
       " 'pole_type_B',\n",
       " 'pole_type_C',\n",
       " 'pole_type_E',\n",
       " 'pole_type_H',\n",
       " 'pole_type_M',\n",
       " 'pole_spec_6.0',\n",
       " 'pole_spec_8.0',\n",
       " 'pole_spec_10.0',\n",
       " 'pole_spec_11.0',\n",
       " 'pole_spec_12.0',\n",
       " 'pole_spec_14.0',\n",
       " 'pole_spec_16.0',\n",
       " 'span',\n",
       " 'line_length',\n",
       " 'wiring_scheme_13',\n",
       " 'wiring_scheme_43',\n",
       " 'line_type_AO',\n",
       " 'line_type_C1',\n",
       " 'line_type_C2',\n",
       " 'line_type_C4',\n",
       " 'line_type_D2',\n",
       " 'line_type_D4',\n",
       " 'line_type_EW',\n",
       " 'line_type_OC',\n",
       " 'line_type_OW',\n",
       " 'line_spec_3.2',\n",
       " 'line_spec_22.0',\n",
       " 'line_spec_25.0',\n",
       " 'line_spec_32.0',\n",
       " 'line_spec_35.0',\n",
       " 'line_spec_38.0',\n",
       " 'line_spec_58.0',\n",
       " 'line_spec_60.0',\n",
       " 'line_spec_70.0',\n",
       " 'line_spec_100.0',\n",
       " 'line_spec_120.0',\n",
       " 'line_spec_150.0',\n",
       " 'line_phase_1',\n",
       " 'line_phase_2',\n",
       " 'line_phase_3',\n",
       " 'neutral_type_AL',\n",
       " 'neutral_type_AO',\n",
       " 'neutral_type_C1',\n",
       " 'neutral_type_NaN',\n",
       " 'neutral_type_OC',\n",
       " 'neutral_type_OW',\n",
       " 'neutral_type_WO',\n",
       " 'neutral_type_ZZ',\n",
       " 'neutral_spec_0.0',\n",
       " 'neutral_spec_22.0',\n",
       " 'neutral_spec_32.0',\n",
       " 'neutral_spec_35.0',\n",
       " 'neutral_spec_38.0',\n",
       " 'neutral_spec_58.0',\n",
       " 'neutral_spec_60.0',\n",
       " 'neutral_spec_95.0',\n",
       " 'neutral_spec_100.0',\n",
       " 'neutral_spec_150.0',\n",
       " 'neutral_spec_999.0',\n",
       " 'real_pole_cnts',\n",
       " 'support_pole_cnts',\n",
       " 'pole1_is_already',\n",
       " 'pole1_comp_id',\n",
       " 'pole1_x',\n",
       " 'pole1_y',\n",
       " 'pole1_span',\n",
       " 'pole2_is_already',\n",
       " 'pole2_comp_id',\n",
       " 'pole2_x',\n",
       " 'pole2_y',\n",
       " 'pole2_span',\n",
       " 'pole3_is_already',\n",
       " 'pole3_comp_id',\n",
       " 'pole3_x',\n",
       " 'pole3_y',\n",
       " 'pole3_span',\n",
       " 'pole4_is_already',\n",
       " 'pole4_comp_id',\n",
       " 'pole4_x',\n",
       " 'pole4_y',\n",
       " 'pole4_span',\n",
       " 'pole5_is_already',\n",
       " 'pole5_comp_id',\n",
       " 'pole5_x',\n",
       " 'pole5_y',\n",
       " 'pole5_span',\n",
       " 'pole6_is_already',\n",
       " 'pole6_comp_id',\n",
       " 'pole6_x',\n",
       " 'pole6_y',\n",
       " 'pole6_span',\n",
       " 'pole7_is_already',\n",
       " 'pole7_comp_id',\n",
       " 'pole7_x',\n",
       " 'pole7_y',\n",
       " 'pole7_span',\n",
       " 'pole8_is_already',\n",
       " 'pole8_comp_id',\n",
       " 'pole8_x',\n",
       " 'pole8_y',\n",
       " 'pole8_span',\n",
       " 'pole9_is_already',\n",
       " 'pole9_comp_id',\n",
       " 'pole9_x',\n",
       " 'pole9_y',\n",
       " 'pole9_span',\n",
       " 'pole10_is_already',\n",
       " 'pole10_comp_id',\n",
       " 'pole10_x',\n",
       " 'pole10_y',\n",
       " 'pole10_span',\n",
       " 'pole11_is_already',\n",
       " 'pole11_comp_id',\n",
       " 'pole11_x',\n",
       " 'pole11_y',\n",
       " 'pole11_span']"
      ]
     },
     "execution_count": 60,
     "metadata": {},
     "output_type": "execute_result"
    }
   ],
   "source": [
    "[col for col in df_merge.columns]"
   ]
  },
  {
   "cell_type": "code",
   "execution_count": 64,
   "metadata": {},
   "outputs": [],
   "source": [
    "column_unique_counts = df_merge.nunique()"
   ]
  },
  {
   "cell_type": "code",
   "execution_count": 72,
   "metadata": {},
   "outputs": [
    {
     "data": {
      "text/plain": [
       "(24, 138)"
      ]
     },
     "execution_count": 72,
     "metadata": {},
     "output_type": "execute_result"
    }
   ],
   "source": [
    "df_merge[df_merge.pole5_is_already == True].shape"
   ]
  },
  {
   "cell_type": "code",
   "execution_count": null,
   "metadata": {},
   "outputs": [],
   "source": []
  }
 ],
 "metadata": {
  "kernelspec": {
   "display_name": "t213p310",
   "language": "python",
   "name": "python3"
  },
  "language_info": {
   "codemirror_mode": {
    "name": "ipython",
    "version": 3
   },
   "file_extension": ".py",
   "mimetype": "text/x-python",
   "name": "python",
   "nbconvert_exporter": "python",
   "pygments_lexer": "ipython3",
   "version": "3.10.12"
  },
  "orig_nbformat": 4
 },
 "nbformat": 4,
 "nbformat_minor": 2
}
