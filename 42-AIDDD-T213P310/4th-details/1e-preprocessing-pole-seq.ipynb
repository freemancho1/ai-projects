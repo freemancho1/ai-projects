{
 "cells": [
  {
   "cell_type": "markdown",
   "metadata": {},
   "source": [
    "#### 전주 순번 및 전주와 지선주 갯 수 계산"
   ]
  },
  {
   "cell_type": "code",
   "execution_count": 1,
   "metadata": {},
   "outputs": [],
   "source": [
    "import pandas as pd\n",
    "from collections import Counter\n",
    "from datetime import datetime \n",
    "\n",
    "from freeman.aiddd.data_manager import read_data, write_data"
   ]
  },
  {
   "cell_type": "markdown",
   "metadata": {},
   "source": [
    "#### 데이터 불러오기"
   ]
  },
  {
   "cell_type": "code",
   "execution_count": 2,
   "metadata": {},
   "outputs": [
    {
     "name": "stdout",
     "output_type": "stream",
     "text": [
      "Total Elapsed Time for Data Load: 0:00:00.232523\n",
      "Preprocessed Data(cons) Shape: (14728, 82)\n",
      "Preprocessed Data(pole) Shape: (26920, 20)\n",
      "Preprocessed Data(line) Shape: (29704, 51)\n"
     ]
    }
   ],
   "source": [
    "_start_time = datetime.now()\n",
    "\n",
    "# 4차 전처리: 공사비 + 전주 + 전선 데이터 \n",
    "_df_cons = read_data(\n",
    "    '1d-merge-cons-pole-line', process_seq='4th', dtype={'cons_id': str}\n",
    ")\n",
    "\n",
    "# 4차 전처리: 전주 데이터(전선 정보를 이용해 순서 정하고 좌표 지정하기 위해)\n",
    "_df_pole = read_data(\n",
    "    '1c-preprocessed-pole', process_seq='4th', dtype={'cons_id': str}\n",
    ")\n",
    "\n",
    "# 4차 전처리: 전선 데이터\n",
    "_df_line = read_data(\n",
    "    '1d-preprocessed-line', process_seq='4th', dtype={'cons_id': str}\n",
    ")\n",
    "\n",
    "print(\n",
    "    f'Total Elapsed Time for Data Load: {datetime.now() - _start_time}\\n'\n",
    "    f'Preprocessed Data(cons) Shape: {_df_cons.shape}\\n'\n",
    "    f'Preprocessed Data(pole) Shape: {_df_pole.shape}\\n'\n",
    "    f'Preprocessed Data(line) Shape: {_df_line.shape}'\n",
    ")"
   ]
  },
  {
   "cell_type": "code",
   "execution_count": 3,
   "metadata": {},
   "outputs": [],
   "source": [
    "df_cons, df_pole, df_line = _df_cons.copy(), _df_pole.copy(), _df_line.copy()"
   ]
  },
  {
   "cell_type": "markdown",
   "metadata": {},
   "source": [
    "#### DF_POLE dict생성"
   ]
  },
  {
   "cell_type": "code",
   "execution_count": 4,
   "metadata": {},
   "outputs": [
    {
     "data": {
      "text/plain": [
       "[128.393165784208, 36.8303489085259]"
      ]
     },
     "execution_count": 4,
     "metadata": {},
     "output_type": "execute_result"
    }
   ],
   "source": [
    "dict_pole = df_pole[['comp_id', 'x', 'y']]\\\n",
    "    .set_index('comp_id').T.to_dict('list')\n",
    "\n",
    "# 확인\n",
    "dict_pole[df_pole.iloc[1].comp_id]"
   ]
  },
  {
   "cell_type": "markdown",
   "metadata": {},
   "source": [
    "#### 공사번호별 전주 순서 계산"
   ]
  },
  {
   "cell_type": "code",
   "execution_count": 5,
   "metadata": {},
   "outputs": [],
   "source": [
    "MAX_POLE_COUNT = 11"
   ]
  },
  {
   "cell_type": "code",
   "execution_count": 6,
   "metadata": {},
   "outputs": [],
   "source": [
    "# 공사번호별 전주 및 지선주 갯 수 계산\n",
    "def computed_pole_counts(df_curr_pole, df_curr_line):\n",
    "    # 지선주 갯 수: df_temp.shape[0]\n",
    "    # 실제 전주 갯 수: pole_cnts - 지선주 갯 수\n",
    "    df_temp = df_curr_pole[\n",
    "        ~df_curr_pole.comp_id.isin(df_curr_line.comp_id) &\n",
    "        ~df_curr_pole.comp_id.isin(df_curr_line.from_comp_id)\n",
    "    ]\n",
    "    curr_total_pole_count = df_curr_pole.shape[0]\n",
    "    curr_support_pole_count = df_temp.shape[0]\n",
    "    return [\n",
    "        curr_total_pole_count - curr_support_pole_count,\n",
    "        curr_support_pole_count\n",
    "    ]"
   ]
  },
  {
   "cell_type": "code",
   "execution_count": 7,
   "metadata": {},
   "outputs": [],
   "source": [
    "# 공사번호별 전주 순서계산 함수\n",
    "def computed_pole_seqs(paths, df_curr_pole, df_curr_line):\n",
    "    comp_id_values = df_curr_line.comp_id.tolist()\n",
    "    from_comp_id_values = df_curr_line.from_comp_id.tolist()\n",
    "    span_values = df_curr_line.span.tolist()\n",
    "    pole_comp_id_values = df_curr_pole.comp_id.tolist()\n",
    "    only_from_comp_id_values = [\n",
    "        item for item in from_comp_id_values if item not in comp_id_values\n",
    "    ]\n",
    "    \n",
    "    # 1개 더한값은 전주데이터에 없는 기설 전주\n",
    "    data_size = len(from_comp_id_values)\n",
    "    is_exception = False\n",
    "    \n",
    "    try:\n",
    "        next_comp_id = only_from_comp_id_values[0]\n",
    "    except Exception as e:\n",
    "        # 출발지가 없는 공사번호는 학습에서 제외\n",
    "        exception_types.append(1)\n",
    "        return True         \n",
    "    \n",
    "    for idx in range(MAX_POLE_COUNT):\n",
    "        # 현재 전주의 기설(1)/신설(0) 여부 판단\n",
    "        is_already = next_comp_id not in pole_comp_id_values\n",
    "        if is_already and idx != 0:\n",
    "            # 중간에 기설 전주가 있는 경우\n",
    "            exception_types.append(2)\n",
    "            return True   \n",
    "        \n",
    "        # 현 전주의 좌표 가져오기\n",
    "        xy = dict_pole.get(next_comp_id, [0, 0])  \n",
    "        \n",
    "        if idx < data_size:\n",
    "            try:\n",
    "                next_comp_id_index = from_comp_id_values.index(next_comp_id)\n",
    "                next_span = span_values[next_comp_id_index]\n",
    "                paths.extend([\n",
    "                    is_already, next_comp_id, xy[0], xy[1], next_span\n",
    "                ])\n",
    "                next_comp_id = comp_id_values[next_comp_id_index]\n",
    "            except Exception as e:\n",
    "                # 전주가 끈어진 경우 학습에서 제외\n",
    "                exception_types.append(3)\n",
    "                return True\n",
    "        elif idx == data_size:\n",
    "            paths.extend([is_already, next_comp_id, xy[0], xy[1], 0])\n",
    "        else:\n",
    "            paths.extend([False, '', 0, 0, 0])\n",
    "    \n",
    "    # 현재 공사번호는 학습에서 사용\n",
    "    return False"
   ]
  },
  {
   "cell_type": "code",
   "execution_count": 8,
   "metadata": {},
   "outputs": [],
   "source": [
    "# 공사번호별 전주 경로계산 함수\n",
    "def computed_pole_paths(cons_id):\n",
    "    # 공사번호 추가\n",
    "    pole_paths = [cons_id]\n",
    "    \n",
    "    df_curr_pole = df_pole[df_pole.cons_id == cons_id]\n",
    "    df_curr_line = df_line[df_line.cons_id == cons_id]\n",
    "    \n",
    "    # 전주 및 지선주 갯 수 추가\n",
    "    pole_paths.extend(computed_pole_counts(df_curr_pole, df_curr_line))\n",
    "    \n",
    "    # 전주 순서 구하기\n",
    "    is_exception = \\\n",
    "        computed_pole_seqs(pole_paths, df_curr_pole, df_curr_line)\n",
    "        \n",
    "    return is_exception, pole_paths"
   ]
  },
  {
   "cell_type": "code",
   "execution_count": 9,
   "metadata": {},
   "outputs": [],
   "source": [
    "# 공사번호 리스트\n",
    "unique_cons_ids = df_cons.cons_id.unique()\n",
    "# 공사번호별 전주 순번 등 경로정보\n",
    "cons_id_pole_paths = []\n",
    "# 학습에서 제외되는 레코드 타입\n",
    "exception_types = []\n",
    "\n",
    "for cons_id in unique_cons_ids:\n",
    "    # print(f'{cons_id}:')\n",
    "    is_exception, pole_paths = computed_pole_paths(cons_id)\n",
    "    if is_exception is not True:\n",
    "        cons_id_pole_paths.append(pole_paths)"
   ]
  },
  {
   "cell_type": "code",
   "execution_count": 10,
   "metadata": {},
   "outputs": [
    {
     "name": "stdout",
     "output_type": "stream",
     "text": [
      "  3:   908\n",
      "  2: 2,429\n",
      "  1:     8\n",
      "sum: 3,345\n"
     ]
    }
   ],
   "source": [
    "# 제외된 레코드 종류별 건 수 확인\n",
    "exception_type_counts = Counter(exception_types)\n",
    "for value, frequency in exception_type_counts.items():\n",
    "    print(f'{value:>3d}: {frequency:>5,d}')\n",
    "print(f'sum: {len(exception_types):>5,d}')    \n",
    "# 3: 전주가 끈어진 경우, 2: 중간에 기설 전주 포함, 1: 출발지가 없는 공사번호"
   ]
  },
  {
   "cell_type": "code",
   "execution_count": 11,
   "metadata": {},
   "outputs": [
    {
     "name": "stdout",
     "output_type": "stream",
     "text": [
      "477420193243:\n",
      "[44, 33, 41, 43, 50, 50]\n",
      "['7385D611', '7385D612', '7385D621', '7385D631', '7385D731', '7385D742']\n",
      "['7385D611', '7385D612', '7385D621', '7385D631', '7385D731', '7385D742']\n",
      "['7385D621', '7385D611', '7385D631', '7385D731', '7385D742', '7385D851']['7385D851']\n",
      "477420193349:\n",
      "[28, 39, 61, 35]\n",
      "['7103S622', '7103S723', '7103S724', '7103S725', '7103S821', '7103S921', '7103Y021', '7103Y121']\n",
      "['7103S724', '7103S821', '7103S921', '7103Y021']\n",
      "['7103S725', '7103Y041', '7103S821', '7103S921']['7103S725', '7103Y041']\n",
      "477420193827:\n",
      "[53, 37, 57]\n",
      "['7696C162', '7696C171', '7696C262']\n",
      "['7696C162', '7696C171', '7696C262']\n",
      "['7696C262', '7696C162', '7696C351']['7696C351']\n",
      "477420203272:\n",
      "[42, 29]\n",
      "['6795A842', '6795A851']\n",
      "['6795A842', '6795A851']\n",
      "['6795A841', '6795A842']['6795A841']\n",
      "477420203306:\n",
      "[62, 43, 10]\n",
      "['7594W543', '7594W652', '7594W662', '7594W821']\n",
      "['7594W461', '7594W662', '7594W821']\n",
      "['7594W662', '7594W552', '7594W832']['7594W552', '7594W832']\n"
     ]
    }
   ],
   "source": [
    "# 값 확인\n",
    "def print_df_values(df_curr_pole, df_curr_line):\n",
    "    comp_id_values = df_curr_line.comp_id.tolist()\n",
    "    from_comp_id_values = df_curr_line.from_comp_id.tolist()\n",
    "    pole_comp_id_values = df_curr_pole.comp_id.tolist()\n",
    "    span_values = df_curr_line.span.tolist()\n",
    "    only_from_comp_id_values = [\n",
    "        item for item in from_comp_id_values if item not in comp_id_values\n",
    "    ]\n",
    "    \n",
    "    print(\n",
    "        f'{span_values}\\n'\n",
    "        f'{pole_comp_id_values}\\n{comp_id_values}\\n'\n",
    "        f'{from_comp_id_values}{only_from_comp_id_values}'\n",
    "    )\n",
    "    \n",
    "for cons_id in unique_cons_ids[:5]:\n",
    "# for cons_id in ['442720203510']:\n",
    "    print(f'{cons_id}:')\n",
    "    df_curr_pole = df_pole[df_pole.cons_id == cons_id]\n",
    "    df_curr_line = df_line[df_line.cons_id == cons_id]\n",
    "    print_df_values(df_curr_pole, df_curr_line)"
   ]
  },
  {
   "cell_type": "code",
   "execution_count": 12,
   "metadata": {},
   "outputs": [],
   "source": [
    "column_names = ['cons_id', 'real_pole_cnts', 'support_pole_cnts']\n",
    "for idx in range(MAX_POLE_COUNT):\n",
    "    column_names += [\n",
    "        f'pole{idx+1}_is_already', f'pole{idx+1}_comp_id',\n",
    "        f'pole{idx+1}_x', f'pole{idx+1}_y', f'pole{idx+1}_span'\n",
    "    ]"
   ]
  },
  {
   "cell_type": "code",
   "execution_count": 13,
   "metadata": {},
   "outputs": [],
   "source": [
    "df_pole_paths = pd.DataFrame(cons_id_pole_paths, columns=column_names)"
   ]
  },
  {
   "cell_type": "code",
   "execution_count": null,
   "metadata": {},
   "outputs": [
    {
     "data": {
      "text/plain": [
       "['pole1_is_already',\n",
       " 'pole2_is_already',\n",
       " 'pole3_is_already',\n",
       " 'pole4_is_already',\n",
       " 'pole5_is_already',\n",
       " 'pole6_is_already',\n",
       " 'pole7_is_already',\n",
       " 'pole8_is_already',\n",
       " 'pole9_is_already',\n",
       " 'pole10_is_already',\n",
       " 'pole11_is_already']"
      ]
     },
     "metadata": {},
     "output_type": "display_data"
    }
   ],
   "source": [
    "[col for col in df_pole_paths.columns if df_pole_paths[col].dtype==bool]"
   ]
  },
  {
   "cell_type": "code",
   "execution_count": 24,
   "metadata": {},
   "outputs": [],
   "source": [
    "# bool형을 int형으로 변환\n",
    "df_pole_paths = df_pole_paths.applymap(lambda x: int(x) if isinstance(x, bool) else x)"
   ]
  },
  {
   "cell_type": "markdown",
   "metadata": {},
   "source": [
    "#### 데이터 병합 및 저장"
   ]
  },
  {
   "cell_type": "code",
   "execution_count": 25,
   "metadata": {},
   "outputs": [],
   "source": [
    "df_merge = pd.merge(\n",
    "    df_cons, df_pole_paths,\n",
    "    left_on='cons_id', right_on='cons_id', how='right'\n",
    ")\n",
    "# 아래와 같이해도 비슷하게 되는데 차이점은 컬럼 순서가 df_pole_paths가 먼저 옴\n",
    "# df_merge = df_pole_paths.merge(df_cons, on='cons_id', how='inner')"
   ]
  },
  {
   "cell_type": "code",
   "execution_count": 26,
   "metadata": {},
   "outputs": [],
   "source": [
    "# 유니크한 값 확인\n",
    "column_unique_counts = df_merge.nunique()"
   ]
  },
  {
   "cell_type": "code",
   "execution_count": 27,
   "metadata": {},
   "outputs": [
    {
     "data": {
      "text/html": [
       "<div>\n",
       "<style scoped>\n",
       "    .dataframe tbody tr th:only-of-type {\n",
       "        vertical-align: middle;\n",
       "    }\n",
       "\n",
       "    .dataframe tbody tr th {\n",
       "        vertical-align: top;\n",
       "    }\n",
       "\n",
       "    .dataframe thead th {\n",
       "        text-align: right;\n",
       "    }\n",
       "</style>\n",
       "<table border=\"1\" class=\"dataframe\">\n",
       "  <thead>\n",
       "    <tr style=\"text-align: right;\">\n",
       "      <th></th>\n",
       "      <th>cons_id</th>\n",
       "      <th>total_cons_cost</th>\n",
       "      <th>last_mod_date</th>\n",
       "      <th>last_mod_eid</th>\n",
       "      <th>office_name</th>\n",
       "      <th>eid_code</th>\n",
       "      <th>cont_cap</th>\n",
       "      <th>year</th>\n",
       "      <th>month</th>\n",
       "      <th>day</th>\n",
       "      <th>...</th>\n",
       "      <th>pole10_is_already</th>\n",
       "      <th>pole10_comp_id</th>\n",
       "      <th>pole10_x</th>\n",
       "      <th>pole10_y</th>\n",
       "      <th>pole10_span</th>\n",
       "      <th>pole11_is_already</th>\n",
       "      <th>pole11_comp_id</th>\n",
       "      <th>pole11_x</th>\n",
       "      <th>pole11_y</th>\n",
       "      <th>pole11_span</th>\n",
       "    </tr>\n",
       "  </thead>\n",
       "  <tbody>\n",
       "  </tbody>\n",
       "</table>\n",
       "<p>0 rows × 139 columns</p>\n",
       "</div>"
      ],
      "text/plain": [
       "Empty DataFrame\n",
       "Columns: [cons_id, total_cons_cost, last_mod_date, last_mod_eid, office_name, eid_code, cont_cap, year, month, day, dayofweek, dayofyear, year_month, eid_code_number, eid_number, office_number, line_cnts, pole_cnts, sl_cnts, pole_shape_G, pole_shape_O, pole_shape_V, pole_type_1, pole_type_B, pole_type_C, pole_type_E, pole_type_H, pole_type_M, pole_spec_6.0, pole_spec_8.0, pole_spec_10.0, pole_spec_11.0, pole_spec_12.0, pole_spec_14.0, pole_spec_16.0, span, line_length, wiring_scheme_13, wiring_scheme_43, line_type_AO, line_type_C1, line_type_C2, line_type_C4, line_type_D2, line_type_D4, line_type_EW, line_type_OC, line_type_OW, line_spec_3.2, line_spec_22.0, line_spec_25.0, line_spec_32.0, line_spec_35.0, line_spec_38.0, line_spec_58.0, line_spec_60.0, line_spec_70.0, line_spec_100.0, line_spec_120.0, line_spec_150.0, line_phase_1, line_phase_2, line_phase_3, neutral_type_AL, neutral_type_AO, neutral_type_C1, neutral_type_NaN, neutral_type_OC, neutral_type_OW, neutral_type_WO, neutral_type_ZZ, neutral_spec_0.0, neutral_spec_22.0, neutral_spec_32.0, neutral_spec_35.0, neutral_spec_38.0, neutral_spec_58.0, neutral_spec_60.0, neutral_spec_95.0, neutral_spec_100.0, neutral_spec_150.0, neutral_spec_999.0, real_pole_cnts, support_pole_cnts, pole1_is_already, pole1_comp_id, pole1_x, pole1_y, pole1_span, pole2_is_already, pole2_comp_id, pole2_x, pole2_y, pole2_span, pole3_is_already, pole3_comp_id, pole3_x, pole3_y, pole3_span, pole4_is_already, ...]\n",
       "Index: []\n",
       "\n",
       "[0 rows x 139 columns]"
      ]
     },
     "execution_count": 27,
     "metadata": {},
     "output_type": "execute_result"
    }
   ],
   "source": [
    "df_merge[df_merge.pole3_is_already == True]"
   ]
  },
  {
   "cell_type": "code",
   "execution_count": 28,
   "metadata": {},
   "outputs": [
    {
     "data": {
      "text/plain": [
       "cons_id             0\n",
       "pole3_comp_id       0\n",
       "pole2_is_already    0\n",
       "pole2_comp_id       0\n",
       "pole2_x             0\n",
       "                   ..\n",
       "line_type_C1        0\n",
       "line_type_AO        0\n",
       "wiring_scheme_43    0\n",
       "wiring_scheme_13    0\n",
       "pole11_span         0\n",
       "Length: 139, dtype: int64"
      ]
     },
     "execution_count": 28,
     "metadata": {},
     "output_type": "execute_result"
    }
   ],
   "source": [
    "# 결측값 확인\n",
    "df_merge.isna().sum().sort_values(ascending=False)"
   ]
  },
  {
   "cell_type": "code",
   "execution_count": 29,
   "metadata": {},
   "outputs": [],
   "source": [
    "write_data('1e-merge-cons-pole-line-path', df_merge, process_seq='4th')"
   ]
  },
  {
   "cell_type": "code",
   "execution_count": 19,
   "metadata": {},
   "outputs": [],
   "source": [
    "# # 공사번호별 전주 순서계산 함수\n",
    "# def computed_pole_seqs1(paths, df_curr_pole, df_curr_line):\n",
    "#     # 전선에 연결된 전산화번호 값들\n",
    "#     comp_id_values = df_curr_line.comp_id.tolist()\n",
    "#     # 전선에 연결된 전원측전산화번호 값들\n",
    "#     from_comp_id_values = df_curr_line.from_comp_id.tolist()\n",
    "#     # 전주간 거리\n",
    "#     span_values = df_curr_line.span.tolist()\n",
    "#     # 전주 자체 전산화번호 값들\n",
    "#     pole_comp_id_values = df_curr_pole.comp_id.tolist()\n",
    "#     # 전원측전산화번호에만 있는 값들(이 전주가 전체 경로의 시작점)\n",
    "#     only_from_comp_id_values = [\n",
    "#         item for item in from_comp_id_values if item not in comp_id_values\n",
    "#     ]\n",
    "    \n",
    "#     # print(\n",
    "#     #     f'pole: {pole_comp_id_values}\\n'\n",
    "#     #     f'comp: {comp_id_values}\\n'\n",
    "#     #     f'from: {from_comp_id_values}{only_from_comp_id_values}'\n",
    "#     # )\n",
    "    \n",
    "#     # 연속한 두 전주의 기설 여부 체크\n",
    "#     # 이런 경우는 전주작업 없이 전선작업만 한 경우로 예외 처리\n",
    "#     before_is_already = False\n",
    "#     # 한 전주에서 2번 이상 분기한 경우 체크\n",
    "#     # 이런 경우는 정상적인 경우가 아니기 때문에 예외 처리\n",
    "#     processed_comp_id = []\n",
    "#     # 두 전주가 전선으로 연결되지 않고 끈겨 있는 횟 수 \n",
    "#     # 이 값은 모델 속성값으로 사용할 예정\n",
    "#     disconnected_count = 0\n",
    "    \n",
    "#     # 회전 횟 수를 1 추가해 비정상 종료 시키면서 마지막 next_span값에 0 추가\n",
    "#     curr_loop_count = len(from_comp_id_values) + 1\n",
    "#     sub_loop_count = 0\n",
    "#     is_exception = False\n",
    "#     for comp_id in only_from_comp_id_values:\n",
    "#         # 하나의 전주(전산화번호)에서 여러 전주로 연결되는 공사(제외대상)\n",
    "#         if comp_id in processed_comp_id:\n",
    "#             is_exception = True\n",
    "#             break\n",
    "#         processed_comp_id.append(comp_id)\n",
    "        \n",
    "#         next_comp_id = comp_id\n",
    "#         for _ in range(curr_loop_count - sub_loop_count):\n",
    "#             # 현재 전주의 기설(1) 또는 신설(0) 여부 판단\n",
    "#             is_already = next_comp_id not in pole_comp_id_values\n",
    "#             # print(f'**{is_already}:{next_comp_id}:{pole_comp_id_values}')\n",
    "#             if is_already and before_is_already:\n",
    "#                 is_exception = True\n",
    "#                 break\n",
    "#             before_is_already = is_already\n",
    "            \n",
    "#             # 현 전주의 좌표값 가져오기\n",
    "#             xy = dict_pole.get(next_comp_id, [0, 0])\n",
    "            \n",
    "#             try:\n",
    "#                 next_comp_id_index = from_comp_id_values.index(next_comp_id)\n",
    "#                 next_span = span_values[next_comp_id_index]\n",
    "#                 paths.extend([\n",
    "#                     is_already, next_comp_id, xy[0], xy[1], next_span\n",
    "#                 ])\n",
    "#                 next_comp_id = comp_id_values[next_comp_id_index]\n",
    "#             except ValueError as ve:\n",
    "#                 # 전주와 전주 사이에 연결이 끈어진 경우\n",
    "#                 next_span = 0\n",
    "#                 disconnected_count += 1\n",
    "#                 paths.extend([\n",
    "#                     is_already, next_comp_id, xy[0], xy[1], next_span\n",
    "#                 ])\n",
    "#                 break\n",
    "                \n",
    "#             sub_loop_count += 1\n",
    "    \n",
    "#     # 전주와 전주 사이가 끈어진 경우 제외\n",
    "#     if disconnected_count > 0:\n",
    "#         is_exception = True\n",
    "            \n",
    "#     return is_exception, disconnected_count"
   ]
  }
 ],
 "metadata": {
  "kernelspec": {
   "display_name": "t213p310",
   "language": "python",
   "name": "python3"
  },
  "language_info": {
   "codemirror_mode": {
    "name": "ipython",
    "version": 3
   },
   "file_extension": ".py",
   "mimetype": "text/x-python",
   "name": "python",
   "nbconvert_exporter": "python",
   "pygments_lexer": "ipython3",
   "version": "3.10.12"
  },
  "orig_nbformat": 4
 },
 "nbformat": 4,
 "nbformat_minor": 2
}
