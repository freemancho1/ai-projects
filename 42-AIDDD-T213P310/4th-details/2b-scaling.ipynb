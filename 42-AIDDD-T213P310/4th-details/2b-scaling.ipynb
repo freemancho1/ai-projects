{
 "cells": [
  {
   "cell_type": "code",
   "execution_count": 1,
   "metadata": {},
   "outputs": [],
   "source": [
    "import pandas as pd\n",
    "from sklearn.preprocessing import StandardScaler\n",
    "from freeman.aiddd.data_manager import read_data, write_data"
   ]
  },
  {
   "cell_type": "code",
   "execution_count": 2,
   "metadata": {},
   "outputs": [
    {
     "name": "stderr",
     "output_type": "stream",
     "text": [
      "/home/freeman/projects/ai-projects/utils/freeman/aiddd/data_manager.py:31: DtypeWarning: Columns (135) have mixed types. Specify dtype option on import or set low_memory=False.\n",
      "  return pd.read_csv(full_path, **kwargs)\n"
     ]
    },
    {
     "data": {
      "text/plain": [
       "(11383, 165)"
      ]
     },
     "execution_count": 2,
     "metadata": {},
     "output_type": "execute_result"
    }
   ],
   "source": [
    "dtype = {'cons_id': str}\n",
    "df_data = read_data('1f-merge-cons-pole-line-sl-path', process_seq='4th', dtype=dtype)\n",
    "df_data.shape"
   ]
  },
  {
   "cell_type": "code",
   "execution_count": 3,
   "metadata": {},
   "outputs": [],
   "source": [
    "target_column = 'total_cons_cost'\n",
    "training_columns = df_data.columns[6:].tolist()"
   ]
  },
  {
   "cell_type": "code",
   "execution_count": 9,
   "metadata": {},
   "outputs": [],
   "source": [
    "df_X = df_data[training_columns+[target_column]].copy()\n",
    "df_y = df_X.pop(target_column)\n",
    "df_X.drop(columns=[col for col in df_X.columns if col.endswith('_comp_id')], inplace=True)\n",
    "\n",
    "write_data('2a-all-X', df_X, process_seq='4th')\n",
    "write_data('2a-all-y', df_y, process_seq='4th')"
   ]
  },
  {
   "cell_type": "code",
   "execution_count": 10,
   "metadata": {},
   "outputs": [],
   "source": [
    "# 전체데이터\n",
    "standard_scaler = StandardScaler()\n",
    "scaled_X = standard_scaler.fit_transform(df_X)\n",
    "\n",
    "df_scaled = pd.DataFrame(scaled_X, columns=df_X.columns.tolist())\n",
    "\n",
    "write_data('2a-all-scaled-X', df_scaled, process_seq='4th')"
   ]
  },
  {
   "cell_type": "code",
   "execution_count": 12,
   "metadata": {},
   "outputs": [],
   "source": [
    "# real_pole_cnts == 1\n",
    "standard_scaler = StandardScaler()\n",
    "scaled_X = standard_scaler.fit_transform(df_X[df_X.real_pole_cnts==1])\n",
    "\n",
    "df_scaled = pd.DataFrame(scaled_X, columns=df_X.columns.tolist())\n",
    "\n",
    "write_data('2a-all-scaled-X1', df_scaled, process_seq='4th')\n",
    "write_data('2a-all-y1', df_y[df_X.real_pole_cnts==1], process_seq='4th')"
   ]
  },
  {
   "cell_type": "code",
   "execution_count": 13,
   "metadata": {},
   "outputs": [],
   "source": [
    "# real_pole_cnts != 1\n",
    "standard_scaler = StandardScaler()\n",
    "scaled_X = standard_scaler.fit_transform(df_X[df_X.real_pole_cnts!=1])\n",
    "\n",
    "df_scaled = pd.DataFrame(scaled_X, columns=df_X.columns.tolist())\n",
    "\n",
    "write_data('2a-all-scaled-X2', df_scaled, process_seq='4th')\n",
    "write_data('2a-all-y2', df_y[df_X.real_pole_cnts!=1], process_seq='4th')"
   ]
  },
  {
   "cell_type": "code",
   "execution_count": 14,
   "metadata": {},
   "outputs": [],
   "source": [
    "df_X_nunique = df_X.nunique()"
   ]
  },
  {
   "cell_type": "code",
   "execution_count": 83,
   "metadata": {},
   "outputs": [],
   "source": [
    "training_columns = [\n",
    "    'cont_cap', 'year_month', 'eid_code_number', 'eid_number', 'office_number',\n",
    "    'line_cnts', 'real_pole_cnts', 'support_pole_cnts', 'real_sl_cnts', 'sl_span_sum',\n",
    "    'pole_shape_O', 'pole_type_C', 'pole_type_H', 'pole_spec_10.0', 'pole_spec_12.0',\n",
    "    'span', 'line_length', 'wiring_scheme_13', 'wiring_scheme_43',\n",
    "    'line_type_AO', 'line_type_C2', 'line_type_OW',\n",
    "    'line_spec_22.0', 'line_spec_35.0', 'line_phase_1', 'neutral_type_AL',\n",
    "    'neutral_type_WO', 'neutral_type_ZZ', 'neutral_spec_0.0', \n",
    "    'neutral_spec_22.0', 'neutral_spec_32.0', 'pole2_x', 'pole2_y',\n",
    "]"
   ]
  },
  {
   "cell_type": "code",
   "execution_count": 87,
   "metadata": {},
   "outputs": [],
   "source": [
    "df_X = df_data[training_columns+[target_column]].copy()\n",
    "df_y = df_X.pop(target_column)\n",
    "\n",
    "write_data('2a-sub-X', df_X, process_seq='4th')\n",
    "write_data('2a-sub-y', df_y, process_seq='4th')"
   ]
  },
  {
   "cell_type": "code",
   "execution_count": 88,
   "metadata": {},
   "outputs": [],
   "source": [
    "# 전체데이터\n",
    "standard_scaler = StandardScaler()\n",
    "scaled_X = standard_scaler.fit_transform(df_X)\n",
    "\n",
    "df_scaled = pd.DataFrame(scaled_X, columns=df_X.columns.tolist())\n",
    "\n",
    "write_data('2a-sub-scaled-X', df_scaled, process_seq='4th')"
   ]
  },
  {
   "cell_type": "code",
   "execution_count": 85,
   "metadata": {},
   "outputs": [],
   "source": [
    "# real_pole_cnts == 1\n",
    "standard_scaler = StandardScaler()\n",
    "scaled_X = standard_scaler.fit_transform(df_X[df_X.real_pole_cnts==1])\n",
    "\n",
    "df_scaled = pd.DataFrame(scaled_X, columns=df_X.columns.tolist())\n",
    "\n",
    "write_data('2a-sub-scaled-X1', df_scaled, process_seq='4th')\n",
    "write_data('2a-sub-y1', df_y[df_X.real_pole_cnts==1], process_seq='4th')"
   ]
  },
  {
   "cell_type": "code",
   "execution_count": 86,
   "metadata": {},
   "outputs": [],
   "source": [
    "# real_pole_cnts != 1\n",
    "standard_scaler = StandardScaler()\n",
    "scaled_X = standard_scaler.fit_transform(df_X[df_X.real_pole_cnts!=1])\n",
    "\n",
    "df_scaled = pd.DataFrame(scaled_X, columns=df_X.columns.tolist())\n",
    "\n",
    "write_data('2a-sub-scaled-X2', df_scaled, process_seq='4th')\n",
    "write_data('2a-sub-y2', df_y[df_X.real_pole_cnts!=1], process_seq='4th')"
   ]
  },
  {
   "cell_type": "code",
   "execution_count": null,
   "metadata": {},
   "outputs": [],
   "source": []
  }
 ],
 "metadata": {
  "kernelspec": {
   "display_name": "t213p310",
   "language": "python",
   "name": "python3"
  },
  "language_info": {
   "codemirror_mode": {
    "name": "ipython",
    "version": 3
   },
   "file_extension": ".py",
   "mimetype": "text/x-python",
   "name": "python",
   "nbconvert_exporter": "python",
   "pygments_lexer": "ipython3",
   "version": "3.10.12"
  },
  "orig_nbformat": 4
 },
 "nbformat": 4,
 "nbformat_minor": 2
}
