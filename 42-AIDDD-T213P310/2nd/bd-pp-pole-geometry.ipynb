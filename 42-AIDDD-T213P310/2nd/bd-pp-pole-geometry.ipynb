{
 "cells": [
  {
   "cell_type": "markdown",
   "metadata": {},
   "source": [
    "#### 전주 위치정보를 geometry로 변환"
   ]
  },
  {
   "cell_type": "code",
   "execution_count": 2,
   "metadata": {},
   "outputs": [],
   "source": [
    "import pandas as pd\n",
    "import geopandas as gpd\n",
    "\n",
    "from freeman.aiddd.data_manager import read_data, write_data"
   ]
  },
  {
   "cell_type": "markdown",
   "metadata": {},
   "source": [
    "#### 데이터 불러오기"
   ]
  },
  {
   "cell_type": "code",
   "execution_count": 17,
   "metadata": {},
   "outputs": [],
   "source": [
    "df_data = read_data('2nd pp pole-position-on-cons-1st')"
   ]
  },
  {
   "cell_type": "code",
   "execution_count": 18,
   "metadata": {},
   "outputs": [],
   "source": [
    "geometry = gpd.points_from_xy(df_data.pole1_y, df_data.pole1_x)"
   ]
  },
  {
   "cell_type": "code",
   "execution_count": 19,
   "metadata": {},
   "outputs": [],
   "source": [
    "gdf_data = gpd.GeoDataFrame(df_data, geometry=geometry, crs='epsg:5179')"
   ]
  },
  {
   "cell_type": "code",
   "execution_count": 20,
   "metadata": {},
   "outputs": [
    {
     "data": {
      "text/html": [
       "<div>\n",
       "<style scoped>\n",
       "    .dataframe tbody tr th:only-of-type {\n",
       "        vertical-align: middle;\n",
       "    }\n",
       "\n",
       "    .dataframe tbody tr th {\n",
       "        vertical-align: top;\n",
       "    }\n",
       "\n",
       "    .dataframe thead th {\n",
       "        text-align: right;\n",
       "    }\n",
       "</style>\n",
       "<table border=\"1\" class=\"dataframe\">\n",
       "  <thead>\n",
       "    <tr style=\"text-align: right;\">\n",
       "      <th></th>\n",
       "      <th>공사번호</th>\n",
       "      <th>총공사비</th>\n",
       "      <th>최종변경일시</th>\n",
       "      <th>year</th>\n",
       "      <th>month</th>\n",
       "      <th>day</th>\n",
       "      <th>dayofweek</th>\n",
       "      <th>dayofyear</th>\n",
       "      <th>최종변경자사번</th>\n",
       "      <th>사번코드</th>\n",
       "      <th>...</th>\n",
       "      <th>pole6_y</th>\n",
       "      <th>pole7_x</th>\n",
       "      <th>pole7_y</th>\n",
       "      <th>pole8_x</th>\n",
       "      <th>pole8_y</th>\n",
       "      <th>pole9_x</th>\n",
       "      <th>pole9_y</th>\n",
       "      <th>pole10_x</th>\n",
       "      <th>pole10_y</th>\n",
       "      <th>geometry</th>\n",
       "    </tr>\n",
       "  </thead>\n",
       "  <tbody>\n",
       "    <tr>\n",
       "      <th>0</th>\n",
       "      <td>477420183473</td>\n",
       "      <td>37874518</td>\n",
       "      <td>2021-02-25 09:10:18</td>\n",
       "      <td>2021</td>\n",
       "      <td>2</td>\n",
       "      <td>25</td>\n",
       "      <td>3</td>\n",
       "      <td>56</td>\n",
       "      <td>1988103181</td>\n",
       "      <td>AAA</td>\n",
       "      <td>...</td>\n",
       "      <td>4.452301e+06</td>\n",
       "      <td>1.429277e+07</td>\n",
       "      <td>4.451661e+06</td>\n",
       "      <td>1.429280e+07</td>\n",
       "      <td>4.451671e+06</td>\n",
       "      <td>1.429281e+07</td>\n",
       "      <td>4.451665e+06</td>\n",
       "      <td>0.000000e+00</td>\n",
       "      <td>0.000000e+00</td>\n",
       "      <td>POINT (4452009.098 14292991.218)</td>\n",
       "    </tr>\n",
       "    <tr>\n",
       "      <th>1</th>\n",
       "      <td>477420183616</td>\n",
       "      <td>31478585</td>\n",
       "      <td>2021-02-25 13:52:47</td>\n",
       "      <td>2021</td>\n",
       "      <td>2</td>\n",
       "      <td>25</td>\n",
       "      <td>3</td>\n",
       "      <td>56</td>\n",
       "      <td>MDE1706013</td>\n",
       "      <td>MDE</td>\n",
       "      <td>...</td>\n",
       "      <td>0.000000e+00</td>\n",
       "      <td>0.000000e+00</td>\n",
       "      <td>0.000000e+00</td>\n",
       "      <td>0.000000e+00</td>\n",
       "      <td>0.000000e+00</td>\n",
       "      <td>0.000000e+00</td>\n",
       "      <td>0.000000e+00</td>\n",
       "      <td>0.000000e+00</td>\n",
       "      <td>0.000000e+00</td>\n",
       "      <td>POINT (4451792.206 14298429.258)</td>\n",
       "    </tr>\n",
       "    <tr>\n",
       "      <th>2</th>\n",
       "      <td>477420183728</td>\n",
       "      <td>30268679</td>\n",
       "      <td>2021-04-12 08:11:24</td>\n",
       "      <td>2021</td>\n",
       "      <td>4</td>\n",
       "      <td>12</td>\n",
       "      <td>0</td>\n",
       "      <td>102</td>\n",
       "      <td>MDP2100086</td>\n",
       "      <td>MDP</td>\n",
       "      <td>...</td>\n",
       "      <td>4.449207e+06</td>\n",
       "      <td>1.430658e+07</td>\n",
       "      <td>4.449207e+06</td>\n",
       "      <td>1.430669e+07</td>\n",
       "      <td>4.449164e+06</td>\n",
       "      <td>1.430667e+07</td>\n",
       "      <td>4.449210e+06</td>\n",
       "      <td>1.430665e+07</td>\n",
       "      <td>4.449241e+06</td>\n",
       "      <td>POINT (4448929.187 14306368.113)</td>\n",
       "    </tr>\n",
       "    <tr>\n",
       "      <th>3</th>\n",
       "      <td>477420193243</td>\n",
       "      <td>11598900</td>\n",
       "      <td>2022-11-21 17:45:02</td>\n",
       "      <td>2022</td>\n",
       "      <td>11</td>\n",
       "      <td>21</td>\n",
       "      <td>0</td>\n",
       "      <td>325</td>\n",
       "      <td>MDE1900011</td>\n",
       "      <td>MDE</td>\n",
       "      <td>...</td>\n",
       "      <td>4.415728e+06</td>\n",
       "      <td>0.000000e+00</td>\n",
       "      <td>0.000000e+00</td>\n",
       "      <td>0.000000e+00</td>\n",
       "      <td>0.000000e+00</td>\n",
       "      <td>0.000000e+00</td>\n",
       "      <td>0.000000e+00</td>\n",
       "      <td>0.000000e+00</td>\n",
       "      <td>0.000000e+00</td>\n",
       "      <td>POINT (4415508.751 14292693.636)</td>\n",
       "    </tr>\n",
       "    <tr>\n",
       "      <th>4</th>\n",
       "      <td>477420193349</td>\n",
       "      <td>23535217</td>\n",
       "      <td>2020-10-19 09:06:23</td>\n",
       "      <td>2020</td>\n",
       "      <td>10</td>\n",
       "      <td>19</td>\n",
       "      <td>0</td>\n",
       "      <td>293</td>\n",
       "      <td>MDE1900011</td>\n",
       "      <td>MDE</td>\n",
       "      <td>...</td>\n",
       "      <td>4.459526e+06</td>\n",
       "      <td>1.428765e+07</td>\n",
       "      <td>4.459496e+06</td>\n",
       "      <td>1.428769e+07</td>\n",
       "      <td>4.459523e+06</td>\n",
       "      <td>0.000000e+00</td>\n",
       "      <td>0.000000e+00</td>\n",
       "      <td>0.000000e+00</td>\n",
       "      <td>0.000000e+00</td>\n",
       "      <td>POINT (4459487.897 14287399.436)</td>\n",
       "    </tr>\n",
       "  </tbody>\n",
       "</table>\n",
       "<p>5 rows × 40 columns</p>\n",
       "</div>"
      ],
      "text/plain": [
       "           공사번호      총공사비               최종변경일시  year  month  day  dayofweek  \\\n",
       "0  477420183473  37874518  2021-02-25 09:10:18  2021      2   25          3   \n",
       "1  477420183616  31478585  2021-02-25 13:52:47  2021      2   25          3   \n",
       "2  477420183728  30268679  2021-04-12 08:11:24  2021      4   12          0   \n",
       "3  477420193243  11598900  2022-11-21 17:45:02  2022     11   21          0   \n",
       "4  477420193349  23535217  2020-10-19 09:06:23  2020     10   19          0   \n",
       "\n",
       "   dayofyear     최종변경자사번 사번코드  ...       pole6_y       pole7_x       pole7_y  \\\n",
       "0         56  1988103181  AAA  ...  4.452301e+06  1.429277e+07  4.451661e+06   \n",
       "1         56  MDE1706013  MDE  ...  0.000000e+00  0.000000e+00  0.000000e+00   \n",
       "2        102  MDP2100086  MDP  ...  4.449207e+06  1.430658e+07  4.449207e+06   \n",
       "3        325  MDE1900011  MDE  ...  4.415728e+06  0.000000e+00  0.000000e+00   \n",
       "4        293  MDE1900011  MDE  ...  4.459526e+06  1.428765e+07  4.459496e+06   \n",
       "\n",
       "        pole8_x       pole8_y       pole9_x       pole9_y      pole10_x  \\\n",
       "0  1.429280e+07  4.451671e+06  1.429281e+07  4.451665e+06  0.000000e+00   \n",
       "1  0.000000e+00  0.000000e+00  0.000000e+00  0.000000e+00  0.000000e+00   \n",
       "2  1.430669e+07  4.449164e+06  1.430667e+07  4.449210e+06  1.430665e+07   \n",
       "3  0.000000e+00  0.000000e+00  0.000000e+00  0.000000e+00  0.000000e+00   \n",
       "4  1.428769e+07  4.459523e+06  0.000000e+00  0.000000e+00  0.000000e+00   \n",
       "\n",
       "       pole10_y                          geometry  \n",
       "0  0.000000e+00  POINT (4452009.098 14292991.218)  \n",
       "1  0.000000e+00  POINT (4451792.206 14298429.258)  \n",
       "2  4.449241e+06  POINT (4448929.187 14306368.113)  \n",
       "3  0.000000e+00  POINT (4415508.751 14292693.636)  \n",
       "4  0.000000e+00  POINT (4459487.897 14287399.436)  \n",
       "\n",
       "[5 rows x 40 columns]"
      ]
     },
     "execution_count": 20,
     "metadata": {},
     "output_type": "execute_result"
    }
   ],
   "source": [
    "gdf_data.head()"
   ]
  },
  {
   "cell_type": "code",
   "execution_count": 21,
   "metadata": {},
   "outputs": [
    {
     "data": {
      "text/plain": [
       "<Projected CRS: EPSG:5179>\n",
       "Name: Korea 2000 / Unified CS\n",
       "Axis Info [cartesian]:\n",
       "- X[north]: Northing (metre)\n",
       "- Y[east]: Easting (metre)\n",
       "Area of Use:\n",
       "- name: Republic of Korea (South Korea) - onshore and offshore.\n",
       "- bounds: (122.71, 28.6, 134.28, 40.27)\n",
       "Coordinate Operation:\n",
       "- name: Korea Unified Belt\n",
       "- method: Transverse Mercator\n",
       "Datum: Geocentric datum of Korea\n",
       "- Ellipsoid: GRS 1980\n",
       "- Prime Meridian: Greenwich"
      ]
     },
     "execution_count": 21,
     "metadata": {},
     "output_type": "execute_result"
    }
   ],
   "source": [
    "gdf_data.crs"
   ]
  },
  {
   "cell_type": "code",
   "execution_count": 22,
   "metadata": {},
   "outputs": [],
   "source": [
    "gdf_data_epsg4326 = gdf_data.to_crs(epsg=4326)"
   ]
  },
  {
   "cell_type": "code",
   "execution_count": 24,
   "metadata": {},
   "outputs": [
    {
     "data": {
      "text/plain": [
       "0    POINT (-86.18011 27.09286)\n",
       "1    POINT (-86.16444 27.05253)\n",
       "2    POINT (-86.12026 26.99942)\n",
       "3    POINT (-85.87408 27.17818)\n",
       "4    POINT (-86.25709 27.11772)\n",
       "Name: geometry, dtype: geometry"
      ]
     },
     "execution_count": 24,
     "metadata": {},
     "output_type": "execute_result"
    }
   ],
   "source": [
    "gdf_data_epsg4326['geometry'].head()"
   ]
  },
  {
   "cell_type": "code",
   "execution_count": 25,
   "metadata": {},
   "outputs": [
    {
     "data": {
      "text/plain": [
       "93.81989"
      ]
     },
     "execution_count": 25,
     "metadata": {},
     "output_type": "execute_result"
    }
   ],
   "source": [
    "180 - 86.18011"
   ]
  },
  {
   "cell_type": "code",
   "execution_count": null,
   "metadata": {},
   "outputs": [],
   "source": []
  }
 ],
 "metadata": {
  "kernelspec": {
   "display_name": "t213p310",
   "language": "python",
   "name": "python3"
  },
  "language_info": {
   "codemirror_mode": {
    "name": "ipython",
    "version": 3
   },
   "file_extension": ".py",
   "mimetype": "text/x-python",
   "name": "python",
   "nbconvert_exporter": "python",
   "pygments_lexer": "ipython3",
   "version": "3.10.12"
  },
  "orig_nbformat": 4
 },
 "nbformat": 4,
 "nbformat_minor": 2
}
