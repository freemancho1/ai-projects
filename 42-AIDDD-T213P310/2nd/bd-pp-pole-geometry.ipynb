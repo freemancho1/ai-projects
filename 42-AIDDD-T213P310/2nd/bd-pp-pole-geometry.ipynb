{
 "cells": [
  {
   "cell_type": "markdown",
   "metadata": {},
   "source": [
    "#### 전주 위치정보를 geometry로 변환"
   ]
  },
  {
   "cell_type": "code",
   "execution_count": 1,
   "metadata": {},
   "outputs": [],
   "source": [
    "import pandas as pd\n",
    "import geopandas as gpd\n",
    "\n",
    "from freeman.aiddd.data_manager import read_data, write_data"
   ]
  },
  {
   "cell_type": "markdown",
   "metadata": {},
   "source": [
    "#### 데이터 불러오기"
   ]
  },
  {
   "cell_type": "code",
   "execution_count": 2,
   "metadata": {},
   "outputs": [
    {
     "ename": "KeyError",
     "evalue": "'Key of File `2nd provided pole` does not Exist.'",
     "output_type": "error",
     "traceback": [
      "\u001b[0;31m---------------------------------------------------------------------------\u001b[0m",
      "\u001b[0;31mKeyError\u001b[0m                                  Traceback (most recent call last)",
      "File \u001b[0;32m~/projects/ai-projects/utils/freeman/aiddd/data_manager.py:36\u001b[0m, in \u001b[0;36mget_path\u001b[0;34m(file_key)\u001b[0m\n\u001b[1;32m     35\u001b[0m \u001b[39mtry\u001b[39;00m:\n\u001b[0;32m---> 36\u001b[0m     file_path \u001b[39m=\u001b[39m DATA_FILES[file_key]\n\u001b[1;32m     37\u001b[0m \u001b[39mexcept\u001b[39;00m \u001b[39mKeyError\u001b[39;00m \u001b[39mas\u001b[39;00m ke:\n",
      "\u001b[0;31mKeyError\u001b[0m: '2nd provided pole'",
      "\nDuring handling of the above exception, another exception occurred:\n",
      "\u001b[0;31mKeyError\u001b[0m                                  Traceback (most recent call last)",
      "Cell \u001b[0;32mIn[2], line 1\u001b[0m\n\u001b[0;32m----> 1\u001b[0m df_data \u001b[39m=\u001b[39m read_data(\u001b[39m'\u001b[39;49m\u001b[39m2nd provided pole\u001b[39;49m\u001b[39m'\u001b[39;49m)\n",
      "File \u001b[0;32m~/projects/ai-projects/utils/freeman/aiddd/data_manager.py:56\u001b[0m, in \u001b[0;36mread_data\u001b[0;34m(file_key, **kwargs)\u001b[0m\n\u001b[1;32m     48\u001b[0m     \u001b[39m# 엑셀파일을 읽을 때, openpyxl라이브러리에서 스타일관련 오류를 출력하는데, \u001b[39;00m\n\u001b[1;32m     49\u001b[0m     \u001b[39m# 일반적으로 이 경고는 무시해도 무방하기 때문에 설정을 변경함\u001b[39;00m\n\u001b[1;32m     50\u001b[0m     warnings\u001b[39m.\u001b[39mfilterwarnings(\n\u001b[1;32m     51\u001b[0m         \u001b[39m'\u001b[39m\u001b[39mignore\u001b[39m\u001b[39m'\u001b[39m,\n\u001b[1;32m     52\u001b[0m         category\u001b[39m=\u001b[39m\u001b[39mUserWarning\u001b[39;00m,\n\u001b[1;32m     53\u001b[0m         module\u001b[39m=\u001b[39m\u001b[39m'\u001b[39m\u001b[39mopenpyxl.styles.stylesheet\u001b[39m\u001b[39m'\u001b[39m\n\u001b[1;32m     54\u001b[0m     )\n\u001b[0;32m---> 56\u001b[0m read_file_path \u001b[39m=\u001b[39m get_path(file_key)\n\u001b[1;32m     57\u001b[0m file_extension \u001b[39m=\u001b[39m os\u001b[39m.\u001b[39mpath\u001b[39m.\u001b[39msplitext(read_file_path)[\u001b[39m1\u001b[39m]\n\u001b[1;32m     58\u001b[0m \u001b[39mif\u001b[39;00m file_extension\u001b[39m.\u001b[39mlower() \u001b[39m==\u001b[39m \u001b[39m'\u001b[39m\u001b[39m.xlsx\u001b[39m\u001b[39m'\u001b[39m:\n",
      "File \u001b[0;32m~/projects/ai-projects/utils/freeman/aiddd/data_manager.py:38\u001b[0m, in \u001b[0;36mget_path\u001b[0;34m(file_key)\u001b[0m\n\u001b[1;32m     36\u001b[0m     file_path \u001b[39m=\u001b[39m DATA_FILES[file_key]\n\u001b[1;32m     37\u001b[0m \u001b[39mexcept\u001b[39;00m \u001b[39mKeyError\u001b[39;00m \u001b[39mas\u001b[39;00m ke:\n\u001b[0;32m---> 38\u001b[0m     \u001b[39mraise\u001b[39;00m \u001b[39mKeyError\u001b[39;00m(\u001b[39mf\u001b[39m\u001b[39m'\u001b[39m\u001b[39mKey of File `\u001b[39m\u001b[39m{\u001b[39;00mfile_key\u001b[39m}\u001b[39;00m\u001b[39m` does not Exist.\u001b[39m\u001b[39m'\u001b[39m)\n\u001b[1;32m     39\u001b[0m joined_path \u001b[39m=\u001b[39m [DATA_BASE_PATH] \u001b[39m+\u001b[39m file_path\n\u001b[1;32m     40\u001b[0m \u001b[39mreturn\u001b[39;00m os\u001b[39m.\u001b[39mpath\u001b[39m.\u001b[39mjoin(\u001b[39m*\u001b[39mjoined_path)\n",
      "\u001b[0;31mKeyError\u001b[0m: 'Key of File `2nd provided pole` does not Exist.'"
     ]
    }
   ],
   "source": [
    "df_data = read_data('2nd provided pole')"
   ]
  },
  {
   "cell_type": "code",
   "execution_count": null,
   "metadata": {},
   "outputs": [],
   "source": []
  }
 ],
 "metadata": {
  "kernelspec": {
   "display_name": "t213p310",
   "language": "python",
   "name": "python3"
  },
  "language_info": {
   "codemirror_mode": {
    "name": "ipython",
    "version": 3
   },
   "file_extension": ".py",
   "mimetype": "text/x-python",
   "name": "python",
   "nbconvert_exporter": "python",
   "pygments_lexer": "ipython3",
   "version": "3.10.12"
  },
  "orig_nbformat": 4
 },
 "nbformat": 4,
 "nbformat_minor": 2
}
