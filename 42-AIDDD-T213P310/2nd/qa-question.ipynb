{
 "cells": [
  {
   "cell_type": "code",
   "execution_count": 1,
   "metadata": {},
   "outputs": [],
   "source": [
    "import sys\n",
    "import pandas as pd\n",
    "from datetime import datetime\n",
    "\n",
    "sys.path.append('..')\n",
    "from utils.data_manager import read_data"
   ]
  },
  {
   "cell_type": "code",
   "execution_count": 2,
   "metadata": {},
   "outputs": [
    {
     "name": "stdout",
     "output_type": "stream",
     "text": [
      "CPU times: user 19.1 s, sys: 90.4 ms, total: 19.2 s\n",
      "Wall time: 19.2 s\n"
     ]
    },
    {
     "data": {
      "text/plain": [
       "(19052, 143)"
      ]
     },
     "execution_count": 2,
     "metadata": {},
     "output_type": "execute_result"
    }
   ],
   "source": [
    "%%time\n",
    "df_data = read_data('2nd provide cons')\n",
    "df_data.shape"
   ]
  },
  {
   "cell_type": "markdown",
   "metadata": {},
   "source": [
    "#### 질문1: 신설인데 '철거기준비용'은 뭔가?\n",
    "* 특별한 경우에 설계자가 입력한 값인가 아님 자동으로 들어가는 기준이 있나?"
   ]
  },
  {
   "cell_type": "markdown",
   "metadata": {},
   "source": [
    "#### 질문2: 각종 비율값\n",
    "* 복리후생비율 등 다양한 비율값이 존재하던데, 설계자가 입력하나 아님 자동으로 들어가는 기준이 있나?"
   ]
  },
  {
   "cell_type": "code",
   "execution_count": 3,
   "metadata": {},
   "outputs": [],
   "source": [
    "신설인데철거파쇄 = ['철거기준비용', '전주파쇄비', '기타자재파쇄비']\n",
    "각종비율은어떻게정하나 = ['복리후생비율', '소모품비율', '여비통신비율', '세금공과금비율']"
   ]
  },
  {
   "cell_type": "code",
   "execution_count": 4,
   "metadata": {},
   "outputs": [
    {
     "data": {
      "text/html": [
       "<div>\n",
       "<style scoped>\n",
       "    .dataframe tbody tr th:only-of-type {\n",
       "        vertical-align: middle;\n",
       "    }\n",
       "\n",
       "    .dataframe tbody tr th {\n",
       "        vertical-align: top;\n",
       "    }\n",
       "\n",
       "    .dataframe thead th {\n",
       "        text-align: right;\n",
       "    }\n",
       "</style>\n",
       "<table border=\"1\" class=\"dataframe\">\n",
       "  <thead>\n",
       "    <tr style=\"text-align: right;\">\n",
       "      <th></th>\n",
       "      <th>계약전력</th>\n",
       "      <th>총공사비</th>\n",
       "      <th>접수종류명</th>\n",
       "      <th>공사형태명</th>\n",
       "      <th>철거기준비용</th>\n",
       "      <th>전주파쇄비</th>\n",
       "      <th>기타자재파쇄비</th>\n",
       "    </tr>\n",
       "  </thead>\n",
       "  <tbody>\n",
       "    <tr>\n",
       "      <th>0</th>\n",
       "      <td>5</td>\n",
       "      <td>49466605</td>\n",
       "      <td>신설(상용/임시)</td>\n",
       "      <td>외선소요</td>\n",
       "      <td>992399</td>\n",
       "      <td>372140</td>\n",
       "      <td>3190</td>\n",
       "    </tr>\n",
       "    <tr>\n",
       "      <th>2</th>\n",
       "      <td>3</td>\n",
       "      <td>37874518</td>\n",
       "      <td>신설(상용/임시)</td>\n",
       "      <td>외선소요</td>\n",
       "      <td>720440</td>\n",
       "      <td>297712</td>\n",
       "      <td>2373</td>\n",
       "    </tr>\n",
       "    <tr>\n",
       "      <th>3</th>\n",
       "      <td>5</td>\n",
       "      <td>31478585</td>\n",
       "      <td>신설(상용/임시)</td>\n",
       "      <td>외선소요</td>\n",
       "      <td>11314</td>\n",
       "      <td>0</td>\n",
       "      <td>290</td>\n",
       "    </tr>\n",
       "    <tr>\n",
       "      <th>4</th>\n",
       "      <td>750</td>\n",
       "      <td>14284312</td>\n",
       "      <td>신설(상용/임시)</td>\n",
       "      <td>외선소요</td>\n",
       "      <td>174635</td>\n",
       "      <td>0</td>\n",
       "      <td>1466</td>\n",
       "    </tr>\n",
       "    <tr>\n",
       "      <th>5</th>\n",
       "      <td>3</td>\n",
       "      <td>30268679</td>\n",
       "      <td>신설(상용/임시)</td>\n",
       "      <td>외선소요</td>\n",
       "      <td>1058155</td>\n",
       "      <td>446568</td>\n",
       "      <td>2328</td>\n",
       "    </tr>\n",
       "    <tr>\n",
       "      <th>...</th>\n",
       "      <td>...</td>\n",
       "      <td>...</td>\n",
       "      <td>...</td>\n",
       "      <td>...</td>\n",
       "      <td>...</td>\n",
       "      <td>...</td>\n",
       "      <td>...</td>\n",
       "    </tr>\n",
       "    <tr>\n",
       "      <th>19015</th>\n",
       "      <td>3</td>\n",
       "      <td>2972684</td>\n",
       "      <td>신설(상용/임시)</td>\n",
       "      <td>외선소요</td>\n",
       "      <td>129932</td>\n",
       "      <td>77724</td>\n",
       "      <td>0</td>\n",
       "    </tr>\n",
       "    <tr>\n",
       "      <th>19023</th>\n",
       "      <td>4</td>\n",
       "      <td>3856209</td>\n",
       "      <td>신설(상용/임시)</td>\n",
       "      <td>외선소요</td>\n",
       "      <td>34473</td>\n",
       "      <td>0</td>\n",
       "      <td>0</td>\n",
       "    </tr>\n",
       "    <tr>\n",
       "      <th>19028</th>\n",
       "      <td>13</td>\n",
       "      <td>6578418</td>\n",
       "      <td>단순공급방식변경</td>\n",
       "      <td>외선소요</td>\n",
       "      <td>622800</td>\n",
       "      <td>77724</td>\n",
       "      <td>596</td>\n",
       "    </tr>\n",
       "    <tr>\n",
       "      <th>19036</th>\n",
       "      <td>100</td>\n",
       "      <td>13659633</td>\n",
       "      <td>신설(발전기)</td>\n",
       "      <td>외선소요</td>\n",
       "      <td>310005</td>\n",
       "      <td>0</td>\n",
       "      <td>0</td>\n",
       "    </tr>\n",
       "    <tr>\n",
       "      <th>19042</th>\n",
       "      <td>20</td>\n",
       "      <td>10395236</td>\n",
       "      <td>신설(상용/임시)</td>\n",
       "      <td>외선소요</td>\n",
       "      <td>425328</td>\n",
       "      <td>0</td>\n",
       "      <td>1059</td>\n",
       "    </tr>\n",
       "  </tbody>\n",
       "</table>\n",
       "<p>6601 rows × 7 columns</p>\n",
       "</div>"
      ],
      "text/plain": [
       "       계약전력      총공사비      접수종류명 공사형태명   철거기준비용   전주파쇄비  기타자재파쇄비\n",
       "0         5  49466605  신설(상용/임시)  외선소요   992399  372140     3190\n",
       "2         3  37874518  신설(상용/임시)  외선소요   720440  297712     2373\n",
       "3         5  31478585  신설(상용/임시)  외선소요    11314       0      290\n",
       "4       750  14284312  신설(상용/임시)  외선소요   174635       0     1466\n",
       "5         3  30268679  신설(상용/임시)  외선소요  1058155  446568     2328\n",
       "...     ...       ...        ...   ...      ...     ...      ...\n",
       "19015     3   2972684  신설(상용/임시)  외선소요   129932   77724        0\n",
       "19023     4   3856209  신설(상용/임시)  외선소요    34473       0        0\n",
       "19028    13   6578418   단순공급방식변경  외선소요   622800   77724      596\n",
       "19036   100  13659633    신설(발전기)  외선소요   310005       0        0\n",
       "19042    20  10395236  신설(상용/임시)  외선소요   425328       0     1059\n",
       "\n",
       "[6601 rows x 7 columns]"
      ]
     },
     "execution_count": 4,
     "metadata": {},
     "output_type": "execute_result"
    }
   ],
   "source": [
    "df_data[['계약전력', '총공사비', '접수종류명', '공사형태명', '철거기준비용', '전주파쇄비', '기타자재파쇄비']][df_data['철거기준비용'] > 0]"
   ]
  },
  {
   "cell_type": "markdown",
   "metadata": {},
   "source": [
    "#### 질문3: 전산화번호\n",
    "* 전산화번호의 `2473Q953` 이런 값에서 앞 4자리 숫자와 영문자 뒤 3자리 숫자의 의미는?<br/>\n",
    "같은 공사번호에 앞 4자리는 동일한데 영문과 뒤 3자리의 값은 다름"
   ]
  },
  {
   "cell_type": "markdown",
   "metadata": {},
   "source": [
    "#### 질문4: GISID\n",
    "* 공사번호별 인덱스 순서랑 `GISID`의 순서가 다름(인덱스번호가 적은데 GISID는 큰 경우가 많음)"
   ]
  },
  {
   "cell_type": "markdown",
   "metadata": {},
   "source": [
    "#### 질문5: 좌표계\n",
    "* 제공한 데이터에 있는 `X좌표-Y좌표`의 좌표계는 무슨 좌표계인가(EPSG기준, 5186?, 5179?)\n",
    "* 셈플값: 14289801.7912967,4449034.10434287"
   ]
  },
  {
   "cell_type": "markdown",
   "metadata": {},
   "source": [
    "#### 질문6: 신설데이터의 기설 데이터 정보를 줄 수 있나?"
   ]
  },
  {
   "cell_type": "code",
   "execution_count": null,
   "metadata": {},
   "outputs": [],
   "source": []
  }
 ],
 "metadata": {
  "kernelspec": {
   "display_name": "t213p310",
   "language": "python",
   "name": "python3"
  },
  "language_info": {
   "codemirror_mode": {
    "name": "ipython",
    "version": 3
   },
   "file_extension": ".py",
   "mimetype": "text/x-python",
   "name": "python",
   "nbconvert_exporter": "python",
   "pygments_lexer": "ipython3",
   "version": "3.10.12"
  },
  "orig_nbformat": 4
 },
 "nbformat": 4,
 "nbformat_minor": 2
}
