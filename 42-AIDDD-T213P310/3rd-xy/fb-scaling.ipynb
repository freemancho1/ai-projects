{
 "cells": [
  {
   "cell_type": "code",
   "execution_count": 21,
   "metadata": {},
   "outputs": [],
   "source": [
    "import pandas as pd\n",
    "from sklearn.preprocessing import StandardScaler\n",
    "from freeman.aiddd.data_manager import read_data, write_data"
   ]
  },
  {
   "cell_type": "code",
   "execution_count": 22,
   "metadata": {},
   "outputs": [],
   "source": [
    "MIN_POLE_LINE_COUNTS = 2"
   ]
  },
  {
   "cell_type": "code",
   "execution_count": 23,
   "metadata": {},
   "outputs": [],
   "source": [
    "filename_X = 'fa-modeling-X' if MIN_POLE_LINE_COUNTS == 1 else 'fa-modeling-X-2'\n",
    "filename_y = 'fa-modeling-y' if MIN_POLE_LINE_COUNTS == 1 else 'fa-modeling-y-2'\n",
    "\n",
    "df_X = read_data(filename_X)\n",
    "df_y = read_data(filename_y)\n",
    "\n",
    "training_columns = df_X.columns"
   ]
  },
  {
   "cell_type": "code",
   "execution_count": 24,
   "metadata": {},
   "outputs": [],
   "source": [
    "standard_scaler = StandardScaler()\n",
    "X_scaled = standard_scaler.fit_transform(df_X)"
   ]
  },
  {
   "cell_type": "code",
   "execution_count": 25,
   "metadata": {},
   "outputs": [],
   "source": [
    "df_scaled = pd.DataFrame(X_scaled, columns=training_columns)"
   ]
  },
  {
   "cell_type": "code",
   "execution_count": 26,
   "metadata": {},
   "outputs": [],
   "source": [
    "filename_X = 'fb-scaling-X' if MIN_POLE_LINE_COUNTS == 1 else 'fb-scaling-X-2'\n",
    "filename_y = 'fb-scaling-y' if MIN_POLE_LINE_COUNTS == 1 else 'fb-scaling-y-2'\n",
    "write_data(filename_X, df_scaled)\n",
    "write_data(filename_y, df_y)        # y값을 스케이링되지 않음"
   ]
  },
  {
   "cell_type": "code",
   "execution_count": 27,
   "metadata": {},
   "outputs": [],
   "source": [
    "filename_X = 'fa-modeling-not-pos-X' if MIN_POLE_LINE_COUNTS == 1 else 'fa-modeling-not-pos-X-2'\n",
    "filename_y = 'fa-modeling-not-pos-y' if MIN_POLE_LINE_COUNTS == 1 else 'fa-modeling-not-pos-y-2'\n",
    "\n",
    "df_X = read_data(filename_X)\n",
    "df_y = read_data(filename_y)\n",
    "\n",
    "training_columns = df_X.columns"
   ]
  },
  {
   "cell_type": "code",
   "execution_count": 28,
   "metadata": {},
   "outputs": [],
   "source": [
    "standard_scaler = StandardScaler()\n",
    "X_scaled = standard_scaler.fit_transform(df_X)"
   ]
  },
  {
   "cell_type": "code",
   "execution_count": 29,
   "metadata": {},
   "outputs": [],
   "source": [
    "df_scaled = pd.DataFrame(X_scaled, columns=training_columns)"
   ]
  },
  {
   "cell_type": "code",
   "execution_count": 30,
   "metadata": {},
   "outputs": [],
   "source": [
    "filename_X = 'fb-scaling-not-pos-X' if MIN_POLE_LINE_COUNTS == 1 else 'fb-scaling-not-pos-X-2'\n",
    "filename_y = 'fb-scaling-not-pos-y' if MIN_POLE_LINE_COUNTS == 1 else 'fb-scaling-not-pos-y-2'\n",
    "write_data(filename_X, df_scaled)\n",
    "write_data(filename_y, df_y)   "
   ]
  }
 ],
 "metadata": {
  "kernelspec": {
   "display_name": "t213p310",
   "language": "python",
   "name": "python3"
  },
  "language_info": {
   "codemirror_mode": {
    "name": "ipython",
    "version": 3
   },
   "file_extension": ".py",
   "mimetype": "text/x-python",
   "name": "python",
   "nbconvert_exporter": "python",
   "pygments_lexer": "ipython3",
   "version": "3.10.12"
  },
  "orig_nbformat": 4
 },
 "nbformat": 4,
 "nbformat_minor": 2
}
