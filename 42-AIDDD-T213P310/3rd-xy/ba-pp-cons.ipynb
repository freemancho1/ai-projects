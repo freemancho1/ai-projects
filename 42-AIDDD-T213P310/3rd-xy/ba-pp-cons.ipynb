{
 "cells": [
  {
   "cell_type": "markdown",
   "metadata": {},
   "source": [
    "#### 공사비 1차 전처리\n",
    "\n",
    "##### 레코드 제거\n",
    "* 계약전력: 100 이상\n",
    "* 접수종류명: 신설(상용/임시) 이외\n",
    "* 총공사비: 60,000,000이상(11개 레코드로 예외처리)\n",
    "* 공사형태명: '외선소요' 이외(나머지는 140개 정도로 예외처리)\n",
    "\n",
    "##### 컬럼 제거\n",
    "* 컬럼값이 1개로 구성된 컬럼은 학습에 영향이 없기 때문에 제거"
   ]
  },
  {
   "cell_type": "code",
   "execution_count": 2,
   "metadata": {},
   "outputs": [],
   "source": [
    "import re\n",
    "import pandas as pd\n",
    "from datetime import datetime\n",
    "\n",
    "import matplotlib.pyplot as plt\n",
    "from freeman.plt_setting import plt_settings\n",
    "from freeman.aiddd.data_manager import read_data, write_data\n",
    "\n",
    "# 한글처리 지원\n",
    "plt_settings()"
   ]
  },
  {
   "cell_type": "markdown",
   "metadata": {},
   "source": [
    "#### 원본 데이터 불러오기"
   ]
  },
  {
   "cell_type": "code",
   "execution_count": 3,
   "metadata": {},
   "outputs": [
    {
     "name": "stdout",
     "output_type": "stream",
     "text": [
      "Total Elapsed Time for Data Load: 0:00:27.156337\n",
      "Shape: (19052, 143)\n"
     ]
    }
   ],
   "source": [
    "_start = datetime.now()\n",
    "df_data = read_data('2nd provide cons')\n",
    "print(\n",
    "    f'Total Elapsed Time for Data Load: {datetime.now()-_start}\\n'\n",
    "    f'Shape: {df_data.shape}'\n",
    ")"
   ]
  },
  {
   "cell_type": "markdown",
   "metadata": {},
   "source": [
    "#### 데이터 전처리"
   ]
  },
  {
   "cell_type": "markdown",
   "metadata": {},
   "source": [
    "##### 결측치 처리"
   ]
  },
  {
   "cell_type": "code",
   "execution_count": 4,
   "metadata": {},
   "outputs": [
    {
     "data": {
      "text/plain": [
       "신기술공종규격코드    19052\n",
       "전선변압기코드번호    19052\n",
       "CUD상태코드      19052\n",
       "공사번호             0\n",
       "더블블레이드수익금        0\n",
       "dtype: int64"
      ]
     },
     "execution_count": 4,
     "metadata": {},
     "output_type": "execute_result"
    }
   ],
   "source": [
    "# 결측치 값의 상태 체크\n",
    "df_data.isna().sum().sort_values(ascending=False)[:5]"
   ]
  },
  {
   "cell_type": "markdown",
   "metadata": {},
   "source": [
    "* 모든 레코드가 결측치인 컬럼이 3개 -> 0으로 치환해 나중에 단일값 컬럼 제거시 같이 제거"
   ]
  },
  {
   "cell_type": "code",
   "execution_count": 5,
   "metadata": {},
   "outputs": [],
   "source": [
    "# '신기술공종규격코드', '전선변압기코드번호', '상태코드' 3컬럼이 모두 결측치이기 때문에,\n",
    "# 단일값인 0으로 치환 후 이후 단일값으로 구성된 컬럼 삭제시 제거\n",
    "df_data.fillna(0, inplace=True)"
   ]
  },
  {
   "cell_type": "markdown",
   "metadata": {},
   "source": [
    "##### 학습대상 레코드 추출"
   ]
  },
  {
   "cell_type": "code",
   "execution_count": 6,
   "metadata": {},
   "outputs": [
    {
     "data": {
      "text/plain": [
       "(3158, 143)"
      ]
     },
     "execution_count": 6,
     "metadata": {},
     "output_type": "execute_result"
    }
   ],
   "source": [
    "# 학습대상 레코드 조건\n",
    "training_data_conditions = \\\n",
    "    (df_data['접수종류명'] == '신설(상용/임시)') & \\\n",
    "    (df_data['계약전력'] < 100) & \\\n",
    "    (df_data['공사형태코드'] == 2) & \\\n",
    "    (df_data['총공사비'] < 60000000)\n",
    "    \n",
    "# 학습대상 이외의 데이터 건수 확인\n",
    "df_data[~training_data_conditions].shape"
   ]
  },
  {
   "cell_type": "code",
   "execution_count": 7,
   "metadata": {},
   "outputs": [],
   "source": [
    "# 전체 레코드(19,052)중에 3,158건으로 예외로 제거\n",
    "# (제거 후 인덱스를 갱신함)\n",
    "df_data = df_data[training_data_conditions].reset_index(drop=True)"
   ]
  },
  {
   "cell_type": "markdown",
   "metadata": {},
   "source": [
    "##### 1개의 값으로 구성된 컬럼 제거"
   ]
  },
  {
   "cell_type": "code",
   "execution_count": 8,
   "metadata": {},
   "outputs": [
    {
     "name": "stdout",
     "output_type": "stream",
     "text": [
      "Number of Drop Columns: 89\n",
      "Columns: ['공사변경순번', '배전공사형태코드', '외자분재료비', '사업소재료비금액', '간접재료비', '작업부산물값', '전선변압기코드번호', '전선변압기추가금액', '전선변압기조정금액', '인력분기준비용', '기계분기준비용', '할선분기준비용', '전선기술노무비', '전선기술재료비', '전선기술경비', '무정전기술노무비', '무정전기술경비', '도급분무정전기술노무비', '도급분무정전기술경비', '감리총공사비', '폐기물총공사비', '자동화총공사비', '도통시험총공사비', '전주가지지공법노무비', '전주가지지공법경비', '공통공사비', '가설공사비1', '가설공사비2', '공동장비비용', '현장관리비', '직접공사비', '회사분직접공사비', '도급분직접공사비', '간접공사비', '가공분단위시설별공사비', '지중분단위시설별공사비', '가공분회사분재료비', '지중분회사분재료비', '가공분도급분재료비', '지중분도급분재료비', '감리자본적금액', '감리수익적금액', '폐기자본적금액', '폐기수익적금액', '도통자본적금액', '도통수익적금액', '자동화자본적금액', '자동화수익적금액', '자본대비자본적비율', '수익대비수익적비율', '원형전주버팀목공법자재비', '원형전주버팀목공법노무비', '원형전주버팀목공법경비', '도급분원형전주버팀목공법자재비', '도급분원형전주버팀목공법노무비', '도급분원형전주버팀목공법경비', '더블블레이드총공사비', '더블블레이드자본금액', '더블블레이드수익금', '사급자재자체감리비', '고객부담자체감리비', '부대공사자체감리비', '신기술공종규격코드', '신기술공사비', '신기술적용대수', '신기술적용선로길이', '중공스크루로드총공사비', '중공스크루로드자본적금액', '중공스크루로드수익적금액', 'CUD상태코드', '손실보상금', '손실보상계수', '무정전전선이선공사비', '무정전전선이선특허사용료율', '방호대총공사비', '방호대자본적금액', '방호대수익적금액', '미관개선총공사비', '미관개선자본적금액', '미관개선수익적금액', '직접기본노무비', '제수당', '퇴직금액', '교통보조비용', '총직접노무비', '접수종류코드', '접수종류명', '공사형태코드', '공사형태명']\n",
      "Data shape: (15894, 54)\n"
     ]
    }
   ],
   "source": [
    "nunique_per_column = df_data.nunique()\n",
    "single_value_column_list = nunique_per_column[nunique_per_column == 1].index\n",
    "df_data.drop(columns=single_value_column_list, axis=1, inplace=True)\n",
    "\n",
    "# 결과확인\n",
    "print(\n",
    "    f'Number of Drop Columns: {len(single_value_column_list)}\\n'\n",
    "    f'Columns: {[col for col in single_value_column_list]}\\n'\n",
    "    f'Data shape: {df_data.shape}'\n",
    ")"
   ]
  },
  {
   "cell_type": "markdown",
   "metadata": {},
   "source": [
    "#### 주요 컬럼 데이터 분석"
   ]
  },
  {
   "cell_type": "markdown",
   "metadata": {},
   "source": [
    "##### 공사번호"
   ]
  },
  {
   "cell_type": "code",
   "execution_count": 9,
   "metadata": {},
   "outputs": [
    {
     "data": {
      "text/plain": [
       "(2189,)"
      ]
     },
     "execution_count": 9,
     "metadata": {},
     "output_type": "execute_result"
    }
   ],
   "source": [
    "# 공사번호에 영문 포함 여부 확인\n",
    "df_data['공사번호'][df_data['공사번호'].str.contains('[a-zA-Z]')].shape"
   ]
  },
  {
   "cell_type": "markdown",
   "metadata": {},
   "source": [
    "* 공사번호에 영문이 포함된 레코드가 2,189개 존재\n",
    "* 공사번호 자체를 학습에 사용하지 않기 때문에 Key로서 보관"
   ]
  },
  {
   "cell_type": "markdown",
   "metadata": {},
   "source": [
    "##### 날짜 데이터\n",
    "* `최종등록일시`, `최종변경일시`"
   ]
  },
  {
   "cell_type": "code",
   "execution_count": 10,
   "metadata": {},
   "outputs": [
    {
     "name": "stdout",
     "output_type": "stream",
     "text": [
      "<class 'pandas.core.frame.DataFrame'>\n",
      "RangeIndex: 15894 entries, 0 to 15893\n",
      "Data columns (total 2 columns):\n",
      " #   Column  Non-Null Count  Dtype         \n",
      "---  ------  --------------  -----         \n",
      " 0   최초등록일시  15894 non-null  datetime64[ns]\n",
      " 1   최종변경일시  15894 non-null  datetime64[ns]\n",
      "dtypes: datetime64[ns](2)\n",
      "memory usage: 248.5 KB\n"
     ]
    }
   ],
   "source": [
    "df_data[['최초등록일시', '최종변경일시']].info()"
   ]
  },
  {
   "cell_type": "code",
   "execution_count": 11,
   "metadata": {},
   "outputs": [
    {
     "data": {
      "text/html": [
       "<div>\n",
       "<style scoped>\n",
       "    .dataframe tbody tr th:only-of-type {\n",
       "        vertical-align: middle;\n",
       "    }\n",
       "\n",
       "    .dataframe tbody tr th {\n",
       "        vertical-align: top;\n",
       "    }\n",
       "\n",
       "    .dataframe thead th {\n",
       "        text-align: right;\n",
       "    }\n",
       "</style>\n",
       "<table border=\"1\" class=\"dataframe\">\n",
       "  <thead>\n",
       "    <tr style=\"text-align: right;\">\n",
       "      <th></th>\n",
       "      <th>최초등록일시</th>\n",
       "      <th>최종변경일시</th>\n",
       "    </tr>\n",
       "  </thead>\n",
       "  <tbody>\n",
       "    <tr>\n",
       "      <th>0</th>\n",
       "      <td>2021-06-03 08:21:39</td>\n",
       "      <td>2021-06-03 08:21:40</td>\n",
       "    </tr>\n",
       "    <tr>\n",
       "      <th>1</th>\n",
       "      <td>2021-06-16 16:59:17</td>\n",
       "      <td>2021-06-16 16:59:17</td>\n",
       "    </tr>\n",
       "  </tbody>\n",
       "</table>\n",
       "</div>"
      ],
      "text/plain": [
       "               최초등록일시              최종변경일시\n",
       "0 2021-06-03 08:21:39 2021-06-03 08:21:40\n",
       "1 2021-06-16 16:59:17 2021-06-16 16:59:17"
      ]
     },
     "execution_count": 11,
     "metadata": {},
     "output_type": "execute_result"
    }
   ],
   "source": [
    "df_data[['최초등록일시', '최종변경일시']].head(2)"
   ]
  },
  {
   "cell_type": "code",
   "execution_count": 12,
   "metadata": {},
   "outputs": [
    {
     "data": {
      "text/plain": [
       "(0, 54)"
      ]
     },
     "execution_count": 12,
     "metadata": {},
     "output_type": "execute_result"
    }
   ],
   "source": [
    "# 최초등록일시와 최종변경일시가 각각 의미가 있는가를 판단하기 위해\n",
    "# 두 일시의 차이 계산(하루 미만이면 하나(최종변경일시)만 학습에 사용)\n",
    "SECONDS_PER_HOUR = 60 * 60\n",
    "difference_date_condition = (\n",
    "    (df_data['최종변경일시']-df_data['최초등록일시']).dt.total_seconds() >= SECONDS_PER_HOUR\n",
    ")\n",
    "\n",
    "df_data[difference_date_condition].shape"
   ]
  },
  {
   "cell_type": "markdown",
   "metadata": {},
   "source": [
    "* 두 날짜 데이터의 차이가 1시간 이상인 데이터가 하나도 없기 때문에 두 데이터를 유사 데이터로 인식하고 `최종변경일시`만 학습에 사용함"
   ]
  },
  {
   "cell_type": "markdown",
   "metadata": {},
   "source": [
    "##### 날짜 관련 컬럼 추가"
   ]
  },
  {
   "cell_type": "code",
   "execution_count": 13,
   "metadata": {},
   "outputs": [],
   "source": [
    "df_data['year'] = df_data['최종변경일시'].dt.year\n",
    "df_data['month'] = df_data['최종변경일시'].dt.month\n",
    "df_data['day'] = df_data['최종변경일시'].dt.day\n",
    "df_data['dayofweek'] = df_data['최종변경일시'].dt.dayofweek\n",
    "df_data['dayofyear'] = df_data['최종변경일시'].dt.dayofyear"
   ]
  },
  {
   "cell_type": "markdown",
   "metadata": {},
   "source": [
    "##### 사번 \n",
    "* `최초등록자사번` vs `최종변경자사번`"
   ]
  },
  {
   "cell_type": "code",
   "execution_count": 14,
   "metadata": {},
   "outputs": [
    {
     "data": {
      "text/plain": [
       "(0, 59)"
      ]
     },
     "execution_count": 14,
     "metadata": {},
     "output_type": "execute_result"
    }
   ],
   "source": [
    "difference_employee_number_condition = \\\n",
    "    (df_data['최초등록자사번'] != df_data['최종변경자사번'])\n",
    "\n",
    "df_data[difference_employee_number_condition].shape"
   ]
  },
  {
   "cell_type": "markdown",
   "metadata": {},
   "source": [
    "* 두 사번 데이터가 모두 동일하기 때문에 `최종변경자사번`만 학습에 사용"
   ]
  },
  {
   "cell_type": "markdown",
   "metadata": {},
   "source": [
    "##### 사번 관련 컬럼 추가"
   ]
  },
  {
   "cell_type": "code",
   "execution_count": null,
   "metadata": {},
   "outputs": [],
   "source": [
    "df_data['사번코드'] = df_data['최종변경자사번'].str.extract('([a-zA-Z]+)', expand=False)\n",
    "df_data['사번코드'].value_counts()"
   ]
  }
 ],
 "metadata": {
  "kernelspec": {
   "display_name": "t213p310",
   "language": "python",
   "name": "python3"
  },
  "language_info": {
   "codemirror_mode": {
    "name": "ipython",
    "version": 3
   },
   "file_extension": ".py",
   "mimetype": "text/x-python",
   "name": "python",
   "nbconvert_exporter": "python",
   "pygments_lexer": "ipython3",
   "version": "3.10.12"
  },
  "orig_nbformat": 4
 },
 "nbformat": 4,
 "nbformat_minor": 2
}
