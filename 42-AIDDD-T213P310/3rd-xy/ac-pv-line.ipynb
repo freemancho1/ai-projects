{
 "cells": [
  {
   "cell_type": "code",
   "execution_count": 1,
   "metadata": {},
   "outputs": [],
   "source": [
    "import pandas as pd\n",
    "from freeman.aiddd.data_manager import read_data"
   ]
  },
  {
   "cell_type": "code",
   "execution_count": 2,
   "metadata": {},
   "outputs": [],
   "source": [
    "df_line = read_data('3rd provide line')"
   ]
  },
  {
   "cell_type": "code",
   "execution_count": 19,
   "metadata": {},
   "outputs": [],
   "source": [
    "df_cons = read_data('3rd pp counts-base-on-cons-1st')"
   ]
  },
  {
   "cell_type": "markdown",
   "metadata": {},
   "source": [
    "#### 데이터 전처리"
   ]
  },
  {
   "cell_type": "markdown",
   "metadata": {},
   "source": [
    "##### 결측치 처리"
   ]
  },
  {
   "cell_type": "code",
   "execution_count": 7,
   "metadata": {},
   "outputs": [
    {
     "data": {
      "text/plain": [
       "회선코드             40018\n",
       "직선접속중성선공사성격코드    40016\n",
       "직선접속공사특성코드       40016\n",
       "전선구분코드2          39750\n",
       "전선규격코드2          39718\n",
       "전선공사특성코드2        39718\n",
       "전선종류코드2          39718\n",
       "중성선구분코드          13230\n",
       "중성선공사특성코드         6973\n",
       "전선구분코드1           1193\n",
       "dtype: int64"
      ]
     },
     "execution_count": 7,
     "metadata": {},
     "output_type": "execute_result"
    }
   ],
   "source": [
    "# 결측값 체크\n",
    "df_line.isna().sum().sort_values(ascending=False)[20:30]\n",
    "\n",
    "# 27컬럼의 거의 모든 값이 NaN임(27개 컬럼 삭제)"
   ]
  },
  {
   "cell_type": "code",
   "execution_count": 8,
   "metadata": {},
   "outputs": [],
   "source": [
    "df_line.fillna(0, inplace=True)"
   ]
  },
  {
   "cell_type": "markdown",
   "metadata": {},
   "source": [
    "##### 1개의 값으로 구성된 컬럼 제거"
   ]
  },
  {
   "cell_type": "code",
   "execution_count": 9,
   "metadata": {},
   "outputs": [],
   "source": [
    "nunique_per_column = df_line.nunique()"
   ]
  },
  {
   "cell_type": "code",
   "execution_count": 10,
   "metadata": {},
   "outputs": [
    {
     "name": "stdout",
     "output_type": "stream",
     "text": [
      "Number of Drop Columns: 32\n",
      "Columns: ['공사변경순번', '공사구분코드', '전압구분코드', '공사성격코드', '회선명', '전선조정코드1', '전선조정코드2', '전선펴기여부', '중성선조정코드', '슬리브접속수량', '시공방법코드', '건물방호관코드', '건물방호관수량', '고객제공여부', '전압선중성선사용여부', '중성선전압선사용여부', '전선펴기긴선여부', '기설전선여부', '전선공사특성코드3', '전선종류코드3', '전선규격코드3', '전선구분코드3', '전선조정코드3', '기설설비유실여부', '기설설비상태코드', '종단접속공사코드', '종단접속수량', '조가형태공사코드', '조가형태코드', '파형관규격코드', '디지털장력계여부', '케이블헤더수량']\n",
      "Data shape: (40019, 45)\n"
     ]
    }
   ],
   "source": [
    "single_value_column_list = nunique_per_column[nunique_per_column == 1].index\n",
    "df_line.drop(columns=single_value_column_list, axis=1, inplace=True)\n",
    "\n",
    "# 결과확인\n",
    "print(\n",
    "    f'Number of Drop Columns: {len(single_value_column_list)}\\n'\n",
    "    f'Columns: {[col for col in single_value_column_list]}\\n'\n",
    "    f'Data shape: {df_line.shape}'\n",
    ")"
   ]
  },
  {
   "cell_type": "code",
   "execution_count": 22,
   "metadata": {},
   "outputs": [],
   "source": [
    "# 학습에 사용할 컬럼 추출\n",
    "columns_for_training = [\n",
    "    '공사번호', '전산화번호', '전원측전산화번호', '설치순서', \n",
    "    '지지물간거리', '전선종류코드1', '전선규격코드1'\n",
    "]\n",
    "df_data = df_line[columns_for_training].copy()"
   ]
  },
  {
   "cell_type": "code",
   "execution_count": 23,
   "metadata": {},
   "outputs": [],
   "source": [
    "columns_name_ko_to_en = {\n",
    "    '공사번호': 'cons_no', \n",
    "    '전산화번호': 'comp_no', \n",
    "    '전원측전산화번호': 'from_comp_no', \n",
    "    '설치순서': 'cons_seq',\n",
    "    '지지물간거리': 'distance', \n",
    "    '전선종류코드1': 'line_type', \n",
    "    '전선규격코드1': 'line_spec'\n",
    "}\n",
    "df_data.rename(columns=columns_name_ko_to_en, inplace=True)"
   ]
  },
  {
   "cell_type": "code",
   "execution_count": 24,
   "metadata": {},
   "outputs": [
    {
     "data": {
      "text/plain": [
       "(40019, 7)"
      ]
     },
     "execution_count": 24,
     "metadata": {},
     "output_type": "execute_result"
    }
   ],
   "source": [
    "df_data.shape"
   ]
  },
  {
   "cell_type": "code",
   "execution_count": 25,
   "metadata": {},
   "outputs": [],
   "source": [
    "# 공사비에 있는 공사번호만 남기고 나머지 레코드 제거\n",
    "df_data = df_data[df_data.cons_no.isin(df_cons.cons_no)]"
   ]
  },
  {
   "cell_type": "code",
   "execution_count": 26,
   "metadata": {},
   "outputs": [
    {
     "data": {
      "text/plain": [
       "(30998, 7)"
      ]
     },
     "execution_count": 26,
     "metadata": {},
     "output_type": "execute_result"
    }
   ],
   "source": [
    "df_data.shape"
   ]
  },
  {
   "cell_type": "code",
   "execution_count": 28,
   "metadata": {},
   "outputs": [],
   "source": [
    "# 공사번호별 전주(최대 10개) x,y좌표 붙이기\n",
    "MAX_LINE_COUNTS = 11\n",
    "merge_data = []"
   ]
  },
  {
   "cell_type": "code",
   "execution_count": 34,
   "metadata": {},
   "outputs": [],
   "source": [
    "df_temp = df_data[df_data.cons_no == '477420183616'].copy()"
   ]
  },
  {
   "cell_type": "code",
   "execution_count": 35,
   "metadata": {},
   "outputs": [],
   "source": [
    "comp_no = df_temp['comp_no'].values\n",
    "from_comp_no = df_temp['from_comp_no'].values"
   ]
  },
  {
   "cell_type": "code",
   "execution_count": 36,
   "metadata": {},
   "outputs": [
    {
     "name": "stdout",
     "output_type": "stream",
     "text": [
      "7599F561, 7599F462\n",
      "7599F562, 7599F561\n",
      "7599F571, 7599F562\n"
     ]
    }
   ],
   "source": [
    "for idx in range(len(comp_no)):\n",
    "    print(f'{comp_no[idx]}, {from_comp_no[idx]}')\n",
    "comp_no_only = "
   ]
  },
  {
   "cell_type": "code",
   "execution_count": null,
   "metadata": {},
   "outputs": [],
   "source": []
  }
 ],
 "metadata": {
  "kernelspec": {
   "display_name": "t213p310",
   "language": "python",
   "name": "python3"
  },
  "language_info": {
   "codemirror_mode": {
    "name": "ipython",
    "version": 3
   },
   "file_extension": ".py",
   "mimetype": "text/x-python",
   "name": "python",
   "nbconvert_exporter": "python",
   "pygments_lexer": "ipython3",
   "version": "3.10.12"
  },
  "orig_nbformat": 4
 },
 "nbformat": 4,
 "nbformat_minor": 2
}
