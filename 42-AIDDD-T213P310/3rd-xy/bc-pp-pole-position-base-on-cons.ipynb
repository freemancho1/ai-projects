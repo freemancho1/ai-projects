{
 "cells": [
  {
   "cell_type": "markdown",
   "metadata": {},
   "source": [
    "#### 설비 갯 수가 계산된 학습용 전처리 데이터에 전주 좌표 추가"
   ]
  },
  {
   "cell_type": "code",
   "execution_count": 2,
   "metadata": {},
   "outputs": [],
   "source": [
    "import pandas as pd\n",
    "\n",
    "import matplotlib.pyplot as plt\n",
    "from freeman.plt_setting import plt_settings\n",
    "from freeman.aiddd.data_manager import read_data, write_data\n",
    "\n",
    "# 차트 한글처리 지원\n",
    "plt_settings()"
   ]
  },
  {
   "cell_type": "markdown",
   "metadata": {},
   "source": [
    "#### 데이터 불러오기"
   ]
  },
  {
   "cell_type": "code",
   "execution_count": 3,
   "metadata": {},
   "outputs": [],
   "source": [
    "# 설비 갯 수가 추가된 학습용 데이터\n",
    "df_data = read_data('3rd pp counts-base-on-cons-1st')\n",
    "# 유의미한 좌표가 추가된 3차 제공 데이터\n",
    "df_pole = read_data('3rd provide pole')"
   ]
  },
  {
   "cell_type": "markdown",
   "metadata": {},
   "source": [
    "#### 데이터 전처리"
   ]
  },
  {
   "cell_type": "markdown",
   "metadata": {},
   "source": [
    "##### 공사비 레코드에 전주 좌표 추가"
   ]
  },
  {
   "cell_type": "code",
   "execution_count": 4,
   "metadata": {},
   "outputs": [],
   "source": [
    "# 전주 데이터에서 좌표 추가를 위해 필요한 컬럼만 추출\n",
    "df_pole_xy = df_pole[['공사번호', '전산화번호', 'GISID', 'X좌표-Y좌표']].copy()"
   ]
  },
  {
   "cell_type": "code",
   "execution_count": 5,
   "metadata": {},
   "outputs": [],
   "source": [
    "# 컬럼명 변경: 사용하기 좋게 영문으로\n",
    "rename_columns = {\n",
    "    '공사번호': 'cons_no', '전산화번호': 'comp_no', \n",
    "    'GISID': 'gisid', 'X좌표-Y좌표': 'position'\n",
    "}\n",
    "df_pole_xy.rename(columns=rename_columns, inplace=True)"
   ]
  },
  {
   "cell_type": "code",
   "execution_count": 9,
   "metadata": {},
   "outputs": [],
   "source": [
    "# `position` 컬럼을 이용해 좌표관련 컬럼 추가\n",
    "df_pole_xy[['x', 'y', 'temp1', 'temp2']] = \\\n",
    "    df_pole_xy.position.str.split(',', expand=True)"
   ]
  },
  {
   "cell_type": "code",
   "execution_count": 10,
   "metadata": {},
   "outputs": [],
   "source": [
    "# 공사번호 기준 전산화번호로 정렬\n",
    "#  - 전산화번호별로 정렬된 데이터의 인덱스가 공사번호별로 일정하게 증가함\n",
    "#  - GISID로 정렬하면 일정하지 않음\n",
    "df_pole_xy = df_pole_xy.sort_values(by=['cons_no', 'comp_no'])"
   ]
  },
  {
   "cell_type": "code",
   "execution_count": 11,
   "metadata": {},
   "outputs": [],
   "source": [
    "# 공사비에 있는 공사번호만 남기고 나머지 레코드는 제거\n",
    "df_pole_xy = df_pole_xy[df_pole_xy.cons_no.isin(df_data.cons_no)]"
   ]
  },
  {
   "cell_type": "code",
   "execution_count": 12,
   "metadata": {},
   "outputs": [],
   "source": [
    "# 공사번호별 전주(최대 10개) x,y좌표 붙이기\n",
    "MAX_POLE_COUNTS = 10\n",
    "merge_data = []\n",
    "\n",
    "for cons_no in df_pole_xy.cons_no.unique():\n",
    "    temp_df = df_pole_xy[df_pole_xy.cons_no == cons_no]\n",
    "    x_values = temp_df['x'].tolist()\n",
    "    y_values = temp_df['y'].tolist()\n",
    "    values_size = len(x_values)\n",
    "    new_data = []\n",
    "    for i in range(MAX_POLE_COUNTS):\n",
    "        if i < values_size:\n",
    "            append_data = [float(x_values[i]), float(y_values[i])]\n",
    "        else:\n",
    "            append_data = [0.0, 0.0]\n",
    "        new_data += append_data\n",
    "    new_data = [cons_no] + new_data\n",
    "    merge_data.append(new_data)\n",
    "    \n",
    "# 컬럼명만들기\n",
    "column_names = ['cons_no']\n",
    "for index in range(MAX_POLE_COUNTS):\n",
    "    column_names.append(f'pole{index+1}_x')\n",
    "    column_names.append(f'pole{index+1}_y')\n",
    "    \n",
    "# 데이터프레임만들기\n",
    "df_position = pd.DataFrame(merge_data, columns=column_names)"
   ]
  },
  {
   "cell_type": "code",
   "execution_count": 13,
   "metadata": {},
   "outputs": [
    {
     "data": {
      "text/html": [
       "<div>\n",
       "<style scoped>\n",
       "    .dataframe tbody tr th:only-of-type {\n",
       "        vertical-align: middle;\n",
       "    }\n",
       "\n",
       "    .dataframe tbody tr th {\n",
       "        vertical-align: top;\n",
       "    }\n",
       "\n",
       "    .dataframe thead th {\n",
       "        text-align: right;\n",
       "    }\n",
       "</style>\n",
       "<table border=\"1\" class=\"dataframe\">\n",
       "  <thead>\n",
       "    <tr style=\"text-align: right;\">\n",
       "      <th></th>\n",
       "      <th>cons_no</th>\n",
       "      <th>pole1_x</th>\n",
       "      <th>pole1_y</th>\n",
       "      <th>pole2_x</th>\n",
       "      <th>pole2_y</th>\n",
       "      <th>pole3_x</th>\n",
       "      <th>pole3_y</th>\n",
       "      <th>pole4_x</th>\n",
       "      <th>pole4_y</th>\n",
       "      <th>pole5_x</th>\n",
       "      <th>...</th>\n",
       "      <th>pole6_x</th>\n",
       "      <th>pole6_y</th>\n",
       "      <th>pole7_x</th>\n",
       "      <th>pole7_y</th>\n",
       "      <th>pole8_x</th>\n",
       "      <th>pole8_y</th>\n",
       "      <th>pole9_x</th>\n",
       "      <th>pole9_y</th>\n",
       "      <th>pole10_x</th>\n",
       "      <th>pole10_y</th>\n",
       "    </tr>\n",
       "  </thead>\n",
       "  <tbody>\n",
       "    <tr>\n",
       "      <th>0</th>\n",
       "      <td>442720173009</td>\n",
       "      <td>127.497907</td>\n",
       "      <td>36.638881</td>\n",
       "      <td>127.495730</td>\n",
       "      <td>36.647452</td>\n",
       "      <td>127.495709</td>\n",
       "      <td>36.647546</td>\n",
       "      <td>127.495254</td>\n",
       "      <td>36.644221</td>\n",
       "      <td>0.000000</td>\n",
       "      <td>...</td>\n",
       "      <td>0.000000</td>\n",
       "      <td>0.000000</td>\n",
       "      <td>0.000000</td>\n",
       "      <td>0.000000</td>\n",
       "      <td>0.0</td>\n",
       "      <td>0.0</td>\n",
       "      <td>0.0</td>\n",
       "      <td>0.0</td>\n",
       "      <td>0.0</td>\n",
       "      <td>0.0</td>\n",
       "    </tr>\n",
       "    <tr>\n",
       "      <th>1</th>\n",
       "      <td>442720174402</td>\n",
       "      <td>127.534065</td>\n",
       "      <td>36.725321</td>\n",
       "      <td>127.533852</td>\n",
       "      <td>36.725459</td>\n",
       "      <td>127.533855</td>\n",
       "      <td>36.725922</td>\n",
       "      <td>127.534358</td>\n",
       "      <td>36.725188</td>\n",
       "      <td>127.534667</td>\n",
       "      <td>...</td>\n",
       "      <td>127.534500</td>\n",
       "      <td>36.725774</td>\n",
       "      <td>127.534287</td>\n",
       "      <td>36.726108</td>\n",
       "      <td>0.0</td>\n",
       "      <td>0.0</td>\n",
       "      <td>0.0</td>\n",
       "      <td>0.0</td>\n",
       "      <td>0.0</td>\n",
       "      <td>0.0</td>\n",
       "    </tr>\n",
       "    <tr>\n",
       "      <th>2</th>\n",
       "      <td>442720193782</td>\n",
       "      <td>127.526735</td>\n",
       "      <td>36.563426</td>\n",
       "      <td>127.526971</td>\n",
       "      <td>36.563041</td>\n",
       "      <td>127.527371</td>\n",
       "      <td>36.563285</td>\n",
       "      <td>127.527060</td>\n",
       "      <td>36.563450</td>\n",
       "      <td>127.527329</td>\n",
       "      <td>...</td>\n",
       "      <td>127.527288</td>\n",
       "      <td>36.563843</td>\n",
       "      <td>127.527530</td>\n",
       "      <td>36.563658</td>\n",
       "      <td>0.0</td>\n",
       "      <td>0.0</td>\n",
       "      <td>0.0</td>\n",
       "      <td>0.0</td>\n",
       "      <td>0.0</td>\n",
       "      <td>0.0</td>\n",
       "    </tr>\n",
       "    <tr>\n",
       "      <th>3</th>\n",
       "      <td>442720193806</td>\n",
       "      <td>127.547019</td>\n",
       "      <td>36.561259</td>\n",
       "      <td>127.547143</td>\n",
       "      <td>36.560796</td>\n",
       "      <td>127.541254</td>\n",
       "      <td>36.559375</td>\n",
       "      <td>0.000000</td>\n",
       "      <td>0.000000</td>\n",
       "      <td>0.000000</td>\n",
       "      <td>...</td>\n",
       "      <td>0.000000</td>\n",
       "      <td>0.000000</td>\n",
       "      <td>0.000000</td>\n",
       "      <td>0.000000</td>\n",
       "      <td>0.0</td>\n",
       "      <td>0.0</td>\n",
       "      <td>0.0</td>\n",
       "      <td>0.0</td>\n",
       "      <td>0.0</td>\n",
       "      <td>0.0</td>\n",
       "    </tr>\n",
       "    <tr>\n",
       "      <th>4</th>\n",
       "      <td>442720194411</td>\n",
       "      <td>127.491587</td>\n",
       "      <td>36.664314</td>\n",
       "      <td>0.000000</td>\n",
       "      <td>0.000000</td>\n",
       "      <td>0.000000</td>\n",
       "      <td>0.000000</td>\n",
       "      <td>0.000000</td>\n",
       "      <td>0.000000</td>\n",
       "      <td>0.000000</td>\n",
       "      <td>...</td>\n",
       "      <td>0.000000</td>\n",
       "      <td>0.000000</td>\n",
       "      <td>0.000000</td>\n",
       "      <td>0.000000</td>\n",
       "      <td>0.0</td>\n",
       "      <td>0.0</td>\n",
       "      <td>0.0</td>\n",
       "      <td>0.0</td>\n",
       "      <td>0.0</td>\n",
       "      <td>0.0</td>\n",
       "    </tr>\n",
       "  </tbody>\n",
       "</table>\n",
       "<p>5 rows × 21 columns</p>\n",
       "</div>"
      ],
      "text/plain": [
       "        cons_no     pole1_x    pole1_y     pole2_x    pole2_y     pole3_x  \\\n",
       "0  442720173009  127.497907  36.638881  127.495730  36.647452  127.495709   \n",
       "1  442720174402  127.534065  36.725321  127.533852  36.725459  127.533855   \n",
       "2  442720193782  127.526735  36.563426  127.526971  36.563041  127.527371   \n",
       "3  442720193806  127.547019  36.561259  127.547143  36.560796  127.541254   \n",
       "4  442720194411  127.491587  36.664314    0.000000   0.000000    0.000000   \n",
       "\n",
       "     pole3_y     pole4_x    pole4_y     pole5_x  ...     pole6_x    pole6_y  \\\n",
       "0  36.647546  127.495254  36.644221    0.000000  ...    0.000000   0.000000   \n",
       "1  36.725922  127.534358  36.725188  127.534667  ...  127.534500  36.725774   \n",
       "2  36.563285  127.527060  36.563450  127.527329  ...  127.527288  36.563843   \n",
       "3  36.559375    0.000000   0.000000    0.000000  ...    0.000000   0.000000   \n",
       "4   0.000000    0.000000   0.000000    0.000000  ...    0.000000   0.000000   \n",
       "\n",
       "      pole7_x    pole7_y  pole8_x  pole8_y  pole9_x  pole9_y  pole10_x  \\\n",
       "0    0.000000   0.000000      0.0      0.0      0.0      0.0       0.0   \n",
       "1  127.534287  36.726108      0.0      0.0      0.0      0.0       0.0   \n",
       "2  127.527530  36.563658      0.0      0.0      0.0      0.0       0.0   \n",
       "3    0.000000   0.000000      0.0      0.0      0.0      0.0       0.0   \n",
       "4    0.000000   0.000000      0.0      0.0      0.0      0.0       0.0   \n",
       "\n",
       "   pole10_y  \n",
       "0       0.0  \n",
       "1       0.0  \n",
       "2       0.0  \n",
       "3       0.0  \n",
       "4       0.0  \n",
       "\n",
       "[5 rows x 21 columns]"
      ]
     },
     "execution_count": 13,
     "metadata": {},
     "output_type": "execute_result"
    }
   ],
   "source": [
    "df_position.head()"
   ]
  },
  {
   "cell_type": "code",
   "execution_count": 14,
   "metadata": {},
   "outputs": [],
   "source": [
    "# 전처리 레코드에 전주좌표 추가\n",
    "df_data = pd.merge(\n",
    "    df_data, df_position,\n",
    "    left_on='cons_no', right_on='cons_no', how='left'\n",
    ")"
   ]
  },
  {
   "cell_type": "code",
   "execution_count": 15,
   "metadata": {},
   "outputs": [],
   "source": [
    "write_data('3rd pp pole-position-on-cons-1st', df_data)"
   ]
  },
  {
   "cell_type": "code",
   "execution_count": null,
   "metadata": {},
   "outputs": [],
   "source": []
  }
 ],
 "metadata": {
  "kernelspec": {
   "display_name": "t213p310",
   "language": "python",
   "name": "python3"
  },
  "language_info": {
   "codemirror_mode": {
    "name": "ipython",
    "version": 3
   },
   "file_extension": ".py",
   "mimetype": "text/x-python",
   "name": "python",
   "nbconvert_exporter": "python",
   "pygments_lexer": "ipython3",
   "version": "3.10.12"
  },
  "orig_nbformat": 4
 },
 "nbformat": 4,
 "nbformat_minor": 2
}
