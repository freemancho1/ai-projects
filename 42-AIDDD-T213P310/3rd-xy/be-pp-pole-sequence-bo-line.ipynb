{
 "cells": [
  {
   "cell_type": "markdown",
   "metadata": {},
   "source": [
    "#### 전주와 전선데이터를 읽어와 전선좌우 전주를 이용해 전주순번 달기"
   ]
  },
  {
   "cell_type": "code",
   "execution_count": 19,
   "metadata": {},
   "outputs": [],
   "source": [
    "import numpy as np\n",
    "import pandas as pd\n",
    "from freeman.aiddd.data_manager import read_data, write_data"
   ]
  },
  {
   "cell_type": "code",
   "execution_count": 6,
   "metadata": {},
   "outputs": [],
   "source": [
    "_df_pole = read_data('3rd pp pole-base-on-cons-1st', dtype={'cons_no': str})\n",
    "_df_line = read_data('3rd pp line-base-on-cons-1st', dtype={'cons_no': str})"
   ]
  },
  {
   "cell_type": "code",
   "execution_count": 7,
   "metadata": {},
   "outputs": [],
   "source": [
    "df_pole, df_line = _df_pole.copy(), _df_line.copy()"
   ]
  },
  {
   "cell_type": "code",
   "execution_count": 8,
   "metadata": {},
   "outputs": [
    {
     "data": {
      "text/plain": [
       "((26921, 22), (29705, 33))"
      ]
     },
     "execution_count": 8,
     "metadata": {},
     "output_type": "execute_result"
    }
   ],
   "source": [
    "df_pole.shape, df_line.shape"
   ]
  },
  {
   "cell_type": "markdown",
   "metadata": {},
   "source": [
    "#### 전선 데이터의 좌우 전주 순번확인"
   ]
  },
  {
   "cell_type": "code",
   "execution_count": 10,
   "metadata": {},
   "outputs": [],
   "source": [
    "comp_no_columns = ['comp_no', 'from_comp_no']\n",
    "df_line_pole = df_line[['cons_no']+comp_no_columns].copy()"
   ]
  },
  {
   "cell_type": "code",
   "execution_count": 20,
   "metadata": {},
   "outputs": [
    {
     "name": "stdout",
     "output_type": "stream",
     "text": [
      "[['7385D851'], ['7385D612'], array([], dtype=object), array([], dtype=object), array([], dtype=object), array([], dtype=object), array([], dtype=object)]\n",
      "        cons_no   comp_no from_comp_no\n",
      "0  477420193243  7385D611     7385D621\n",
      "1  477420193243  7385D612     7385D611\n",
      "2  477420193243  7385D621     7385D631\n",
      "3  477420193243  7385D631     7385D731\n",
      "4  477420193243  7385D731     7385D742\n",
      "5  477420193243  7385D742     7385D851\n"
     ]
    },
    {
     "name": "stderr",
     "output_type": "stream",
     "text": [
      "/tmp/ipykernel_18892/1039900977.py:14: DeprecationWarning: elementwise comparison failed; this will raise an error in the future.\n",
      "  next_index = np.where(from_comp_no_values == next_path)\n"
     ]
    }
   ],
   "source": [
    "unique_cons_no_list = df_line_pole.cons_no.unique()\n",
    "for cons_no in unique_cons_no_list[:1]:\n",
    "    df_temp = df_line_pole[df_line_pole.cons_no == cons_no]\n",
    "    comp_no_values = df_temp.comp_no.values\n",
    "    from_comp_no_values = df_temp.from_comp_no.values\n",
    "    only_comp_no = [item for item in comp_no_values if item not in from_comp_no_values]\n",
    "    only_from_comp_no = [\n",
    "        item for item in from_comp_no_values if item not in comp_no_values\n",
    "    ]\n",
    "    values_len = len(comp_no_values)\n",
    "    comp_no_path = [only_from_comp_no, only_comp_no]\n",
    "    next_path = only_comp_no\n",
    "    for _ in range(values_len-1):\n",
    "        next_index = np.where(from_comp_no_values == next_path)\n",
    "        next_path = comp_no_values[next_index]\n",
    "        comp_no_path.append(next_path)\n",
    "    print(comp_no_path)\n",
    "    print(df_temp)"
   ]
  },
  {
   "cell_type": "code",
   "execution_count": null,
   "metadata": {},
   "outputs": [],
   "source": []
  }
 ],
 "metadata": {
  "kernelspec": {
   "display_name": "t213p310",
   "language": "python",
   "name": "python3"
  },
  "language_info": {
   "codemirror_mode": {
    "name": "ipython",
    "version": 3
   },
   "file_extension": ".py",
   "mimetype": "text/x-python",
   "name": "python",
   "nbconvert_exporter": "python",
   "pygments_lexer": "ipython3",
   "version": "3.10.12"
  },
  "orig_nbformat": 4
 },
 "nbformat": 4,
 "nbformat_minor": 2
}
