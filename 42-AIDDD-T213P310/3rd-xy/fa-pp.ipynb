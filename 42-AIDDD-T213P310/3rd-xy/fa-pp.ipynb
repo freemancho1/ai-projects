{
 "cells": [
  {
   "cell_type": "code",
   "execution_count": 20,
   "metadata": {},
   "outputs": [],
   "source": [
    "from freeman.aiddd.data_manager import read_data, write_data"
   ]
  },
  {
   "cell_type": "code",
   "execution_count": 21,
   "metadata": {},
   "outputs": [],
   "source": [
    "MIN_POLE_LINE_COUNTS = 2"
   ]
  },
  {
   "cell_type": "code",
   "execution_count": 22,
   "metadata": {},
   "outputs": [],
   "source": [
    "filename = 'bd-all-merge' if MIN_POLE_LINE_COUNTS == 1 else 'bd-all-merge-2'\n",
    "\n",
    "dtype_options = {'pole12_comp_no': str, 'pole12_xy': object}\n",
    "df_data = read_data(filename, dtype=dtype_options)"
   ]
  },
  {
   "cell_type": "code",
   "execution_count": 23,
   "metadata": {},
   "outputs": [],
   "source": [
    "target_column = 'total_cons_cost'\n",
    "training_columns = [\n",
    "    'cont_cap', 'year', 'month', 'day', 'dayofweek', 'dayofyear',\n",
    "    'eid_code_num', 'eid_num', 'office_num', 'sl_cnts'\n",
    "]\n",
    "pole_line_columns = [\n",
    "    col for col in df_data.columns if col.startswith('pole_') or col.startswith('line_')\n",
    "]\n",
    "distance_columns = [\n",
    "    col for col in df_data.columns if col.endswith('_distance') or col.endswith('distance_sum')\n",
    "]\n",
    "pos_columns = [\n",
    "    col for col in df_data.columns if col.endswith('_pos')\n",
    "]\n",
    "\n",
    "training_columns += pole_line_columns + distance_columns + pos_columns"
   ]
  },
  {
   "cell_type": "code",
   "execution_count": 24,
   "metadata": {},
   "outputs": [],
   "source": [
    "df_X = df_data[training_columns+[target_column]]\n",
    "df_y = df_X.pop(target_column)\n",
    "\n",
    "filename_X = 'fa-modeling-X' if MIN_POLE_LINE_COUNTS == 1 else 'fa-modeling-X-2'\n",
    "filename_y = 'fa-modeling-y' if MIN_POLE_LINE_COUNTS == 1 else 'fa-modeling-y-2'\n",
    "write_data(filename_X, df_X)\n",
    "write_data(filename_y, df_y)"
   ]
  },
  {
   "cell_type": "code",
   "execution_count": 25,
   "metadata": {},
   "outputs": [],
   "source": [
    "training_columns = [\n",
    "    'cont_cap', 'year', 'month', 'day', 'dayofweek', 'dayofyear',\n",
    "    'eid_code_num', 'eid_num', 'office_num', 'sl_cnts', 'line_cnts', 'pole_cnts',\n",
    "    'distance_sum', \n",
    "]\n",
    "training_columns += pole_line_columns"
   ]
  },
  {
   "cell_type": "code",
   "execution_count": 26,
   "metadata": {},
   "outputs": [],
   "source": [
    "df_X = df_data[training_columns+[target_column]]\n",
    "df_y = df_X.pop(target_column)\n",
    "\n",
    "filename_X = 'fa-modeling-not-pos-X' if MIN_POLE_LINE_COUNTS == 1 else 'fa-modeling-not-pos-X-2'\n",
    "filename_y = 'fa-modeling-not-pos-y' if MIN_POLE_LINE_COUNTS == 1 else 'fa-modeling-not-pos-y-2'\n",
    "write_data(filename_X, df_X)\n",
    "write_data(filename_y, df_y)"
   ]
  }
 ],
 "metadata": {
  "kernelspec": {
   "display_name": "t213p310",
   "language": "python",
   "name": "python3"
  },
  "language_info": {
   "codemirror_mode": {
    "name": "ipython",
    "version": 3
   },
   "file_extension": ".py",
   "mimetype": "text/x-python",
   "name": "python",
   "nbconvert_exporter": "python",
   "pygments_lexer": "ipython3",
   "version": "3.10.12"
  },
  "orig_nbformat": 4
 },
 "nbformat": 4,
 "nbformat_minor": 2
}
