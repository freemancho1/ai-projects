{
 "cells": [
  {
   "cell_type": "markdown",
   "metadata": {},
   "source": [
    "#### 전선관련 전처리"
   ]
  },
  {
   "cell_type": "code",
   "execution_count": 1,
   "metadata": {},
   "outputs": [],
   "source": [
    "import pandas as pd\n",
    "from freeman.aiddd.data_manager import read_data, write_data"
   ]
  },
  {
   "cell_type": "code",
   "execution_count": 2,
   "metadata": {},
   "outputs": [
    {
     "data": {
      "text/plain": [
       "((14729, 18), (40019, 77))"
      ]
     },
     "execution_count": 2,
     "metadata": {},
     "output_type": "execute_result"
    }
   ],
   "source": [
    "# 설비 갯 수가 추가된 학습용 데이터\n",
    "df_data = read_data('3rd pp counts-base-on-cons-1st')\n",
    "# 유의미한 좌표가 추가된 3차 제공 데이터\n",
    "df_line = read_data('3rd provide line')\n",
    "\n",
    "df_data.shape, df_line.shape"
   ]
  },
  {
   "cell_type": "markdown",
   "metadata": {},
   "source": [
    "#### 컬럼확인"
   ]
  },
  {
   "cell_type": "code",
   "execution_count": 12,
   "metadata": {},
   "outputs": [
    {
     "data": {
      "text/plain": [
       "(40019, 9)"
      ]
     },
     "execution_count": 12,
     "metadata": {},
     "output_type": "execute_result"
    }
   ],
   "source": [
    "# 학습에 필요한 컬럼 추출\n",
    "columns_for_training = [\n",
    "    '공사번호', '전산화번호', 'GISID', '전원측전산화번호', '지지물간거리',\n",
    "    '전선종류코드1', '전선규격코드1', '전선구분코드1', 'X좌표-Y좌표'\n",
    "]\n",
    "df = df_line[columns_for_training].copy()\n",
    "df.shape"
   ]
  },
  {
   "cell_type": "code",
   "execution_count": 13,
   "metadata": {},
   "outputs": [],
   "source": [
    "# 컬럼명 변경: 사용하기 좋게 영문으로\n",
    "rename_columns = {\n",
    "    '공사번호': 'cons_no', 'GISID': 'gisid', \n",
    "    '전산화번호': 'comp_no', '전원측전산화번호': 'from_comp_no',\n",
    "    '지지물간거리': 'distance', \n",
    "    '전선종류코드1': 'line_type_cd', '전선규격코드1': 'line_spec_cd',\n",
    "    '전선구분코드1': 'line_class_cd', 'X좌표-Y좌표': 'position',\n",
    "}\n",
    "df.rename(columns=rename_columns, inplace=True)"
   ]
  },
  {
   "cell_type": "markdown",
   "metadata": {},
   "source": [
    "#### 데이터전처리"
   ]
  },
  {
   "cell_type": "markdown",
   "metadata": {},
   "source": [
    "##### 좌표값"
   ]
  },
  {
   "cell_type": "code",
   "execution_count": 15,
   "metadata": {},
   "outputs": [],
   "source": [
    "all_positions = []\n",
    "positions_length = []\n",
    "for _, row in df.iterrows():\n",
    "    current_positions_soc = row['position'].split(',')\n",
    "    p_len = len(current_positions_soc) // 2\n",
    "    positions_length.append(p_len)\n",
    "    current_positions = [\n",
    "        [float(current_positions_soc[i]), float(current_positions_soc[i+1])]\n",
    "        for i in range(0, p_len*2, 2)\n",
    "    ]\n",
    "    all_positions.append(current_positions)"
   ]
  },
  {
   "cell_type": "code",
   "execution_count": 17,
   "metadata": {},
   "outputs": [],
   "source": [
    "df['positions_len'] = positions_length\n",
    "df['positions'] = all_positions"
   ]
  },
  {
   "cell_type": "code",
   "execution_count": 20,
   "metadata": {},
   "outputs": [
    {
     "name": "stdout",
     "output_type": "stream",
     "text": [
      "<class 'pandas.core.frame.DataFrame'>\n",
      "RangeIndex: 40019 entries, 0 to 40018\n",
      "Data columns (total 11 columns):\n",
      " #   Column         Non-Null Count  Dtype  \n",
      "---  ------         --------------  -----  \n",
      " 0   cons_no        40019 non-null  object \n",
      " 1   comp_no        40019 non-null  object \n",
      " 2   gisid          40019 non-null  int64  \n",
      " 3   from_comp_no   40019 non-null  object \n",
      " 4   distance       40019 non-null  int64  \n",
      " 5   line_type_cd   40019 non-null  object \n",
      " 6   line_spec_cd   40019 non-null  float64\n",
      " 7   line_class_cd  38826 non-null  object \n",
      " 8   position       40019 non-null  object \n",
      " 9   positions_len  40019 non-null  int64  \n",
      " 10  positions      40019 non-null  object \n",
      "dtypes: float64(1), int64(3), object(7)\n",
      "memory usage: 3.4+ MB\n"
     ]
    }
   ],
   "source": [
    "df.info()"
   ]
  },
  {
   "cell_type": "code",
   "execution_count": 21,
   "metadata": {},
   "outputs": [
    {
     "data": {
      "text/plain": [
       "line_type_cd\n",
       "AO    22090\n",
       "OW    10024\n",
       "C2     3464\n",
       "C4     3095\n",
       "OC      934\n",
       "D2      389\n",
       "EW       16\n",
       "D4        5\n",
       "C1        2\n",
       "Name: count, dtype: int64"
      ]
     },
     "execution_count": 21,
     "metadata": {},
     "output_type": "execute_result"
    }
   ],
   "source": [
    "df.line_type_cd.value_counts()"
   ]
  },
  {
   "cell_type": "code",
   "execution_count": 23,
   "metadata": {},
   "outputs": [],
   "source": [
    "df = pd.get_dummies(\n",
    "    df, \n",
    "    columns=['line_type_cd', 'line_spec_cd', 'line_class_cd'], \n",
    "    prefix=['line_type', 'line_spec', 'line_class']\n",
    ")"
   ]
  },
  {
   "cell_type": "code",
   "execution_count": 24,
   "metadata": {},
   "outputs": [
    {
     "data": {
      "text/plain": [
       "Index(['cons_no', 'comp_no', 'gisid', 'from_comp_no', 'distance', 'position',\n",
       "       'positions_len', 'positions', 'line_type_AO', 'line_type_C1',\n",
       "       'line_type_C2', 'line_type_C4', 'line_type_D2', 'line_type_D4',\n",
       "       'line_type_EW', 'line_type_OC', 'line_type_OW', 'line_spec_3.2',\n",
       "       'line_spec_22.0', 'line_spec_25.0', 'line_spec_32.0', 'line_spec_35.0',\n",
       "       'line_spec_38.0', 'line_spec_58.0', 'line_spec_60.0', 'line_spec_70.0',\n",
       "       'line_spec_100.0', 'line_spec_120.0', 'line_spec_150.0',\n",
       "       'line_class_NJ', 'line_class_NP', 'line_class_NT', 'line_class_NW'],\n",
       "      dtype='object')"
      ]
     },
     "execution_count": 24,
     "metadata": {},
     "output_type": "execute_result"
    }
   ],
   "source": [
    "df.columns"
   ]
  },
  {
   "cell_type": "code",
   "execution_count": 25,
   "metadata": {},
   "outputs": [
    {
     "name": "stdout",
     "output_type": "stream",
     "text": [
      "<class 'pandas.core.frame.DataFrame'>\n",
      "RangeIndex: 40019 entries, 0 to 40018\n",
      "Data columns (total 33 columns):\n",
      " #   Column           Non-Null Count  Dtype \n",
      "---  ------           --------------  ----- \n",
      " 0   cons_no          40019 non-null  object\n",
      " 1   comp_no          40019 non-null  object\n",
      " 2   gisid            40019 non-null  int64 \n",
      " 3   from_comp_no     40019 non-null  object\n",
      " 4   distance         40019 non-null  int64 \n",
      " 5   position         40019 non-null  object\n",
      " 6   positions_len    40019 non-null  int64 \n",
      " 7   positions        40019 non-null  object\n",
      " 8   line_type_AO     40019 non-null  bool  \n",
      " 9   line_type_C1     40019 non-null  bool  \n",
      " 10  line_type_C2     40019 non-null  bool  \n",
      " 11  line_type_C4     40019 non-null  bool  \n",
      " 12  line_type_D2     40019 non-null  bool  \n",
      " 13  line_type_D4     40019 non-null  bool  \n",
      " 14  line_type_EW     40019 non-null  bool  \n",
      " 15  line_type_OC     40019 non-null  bool  \n",
      " 16  line_type_OW     40019 non-null  bool  \n",
      " 17  line_spec_3.2    40019 non-null  bool  \n",
      " 18  line_spec_22.0   40019 non-null  bool  \n",
      " 19  line_spec_25.0   40019 non-null  bool  \n",
      " 20  line_spec_32.0   40019 non-null  bool  \n",
      " 21  line_spec_35.0   40019 non-null  bool  \n",
      " 22  line_spec_38.0   40019 non-null  bool  \n",
      " 23  line_spec_58.0   40019 non-null  bool  \n",
      " 24  line_spec_60.0   40019 non-null  bool  \n",
      " 25  line_spec_70.0   40019 non-null  bool  \n",
      " 26  line_spec_100.0  40019 non-null  bool  \n",
      " 27  line_spec_120.0  40019 non-null  bool  \n",
      " 28  line_spec_150.0  40019 non-null  bool  \n",
      " 29  line_class_NJ    40019 non-null  bool  \n",
      " 30  line_class_NP    40019 non-null  bool  \n",
      " 31  line_class_NT    40019 non-null  bool  \n",
      " 32  line_class_NW    40019 non-null  bool  \n",
      "dtypes: bool(25), int64(3), object(5)\n",
      "memory usage: 3.4+ MB\n"
     ]
    }
   ],
   "source": [
    "df.info()"
   ]
  },
  {
   "cell_type": "code",
   "execution_count": 26,
   "metadata": {},
   "outputs": [],
   "source": [
    "# bool형을 int형으로 변환\n",
    "df = df.applymap(lambda x: int(x) if isinstance(x, bool) else x)"
   ]
  },
  {
   "cell_type": "code",
   "execution_count": 28,
   "metadata": {},
   "outputs": [
    {
     "data": {
      "text/plain": [
       "(40019, 33)"
      ]
     },
     "execution_count": 28,
     "metadata": {},
     "output_type": "execute_result"
    }
   ],
   "source": [
    "df.shape"
   ]
  },
  {
   "cell_type": "code",
   "execution_count": 29,
   "metadata": {},
   "outputs": [
    {
     "data": {
      "text/plain": [
       "(29705, 33)"
      ]
     },
     "execution_count": 29,
     "metadata": {},
     "output_type": "execute_result"
    }
   ],
   "source": [
    "df = df[df.cons_no.isin(df_data.cons_no)]\n",
    "df.shape"
   ]
  },
  {
   "cell_type": "code",
   "execution_count": 30,
   "metadata": {},
   "outputs": [],
   "source": [
    "write_data('3rd pp line-base-on-cons-1st', df)"
   ]
  },
  {
   "cell_type": "code",
   "execution_count": null,
   "metadata": {},
   "outputs": [],
   "source": []
  }
 ],
 "metadata": {
  "kernelspec": {
   "display_name": "t213p310",
   "language": "python",
   "name": "python3"
  },
  "language_info": {
   "codemirror_mode": {
    "name": "ipython",
    "version": 3
   },
   "file_extension": ".py",
   "mimetype": "text/x-python",
   "name": "python",
   "nbconvert_exporter": "python",
   "pygments_lexer": "ipython3",
   "version": "3.10.12"
  },
  "orig_nbformat": 4
 },
 "nbformat": 4,
 "nbformat_minor": 2
}
