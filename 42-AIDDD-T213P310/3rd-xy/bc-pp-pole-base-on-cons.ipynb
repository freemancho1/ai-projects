{
 "cells": [
  {
   "cell_type": "markdown",
   "metadata": {},
   "source": [
    "#### 전주관련 전처리"
   ]
  },
  {
   "cell_type": "code",
   "execution_count": 1,
   "metadata": {},
   "outputs": [],
   "source": [
    "import pandas as pd\n",
    "\n",
    "import matplotlib.pyplot as plt\n",
    "from freeman.plt_setting import plt_settings\n",
    "from freeman.aiddd.data_manager import read_data, write_data\n",
    "\n",
    "# 차트 한글처리 지원\n",
    "plt_settings()"
   ]
  },
  {
   "cell_type": "markdown",
   "metadata": {},
   "source": [
    "#### 데이터 불러오기"
   ]
  },
  {
   "cell_type": "code",
   "execution_count": 2,
   "metadata": {},
   "outputs": [],
   "source": [
    "# 설비 갯 수가 추가된 학습용 데이터\n",
    "df_data = read_data('3rd pp counts-base-on-cons-1st')\n",
    "# 유의미한 좌표가 추가된 3차 제공 데이터\n",
    "df_pole = read_data('3rd provide pole')"
   ]
  },
  {
   "cell_type": "code",
   "execution_count": 3,
   "metadata": {},
   "outputs": [
    {
     "data": {
      "text/plain": [
       "((14729, 18), (38533, 63))"
      ]
     },
     "execution_count": 3,
     "metadata": {},
     "output_type": "execute_result"
    }
   ],
   "source": [
    "df_data.shape, df_pole.shape"
   ]
  },
  {
   "cell_type": "markdown",
   "metadata": {},
   "source": [
    "#### 데이터 전처리"
   ]
  },
  {
   "cell_type": "markdown",
   "metadata": {},
   "source": [
    "##### 공사비 레코드에 전주 좌표 추가"
   ]
  },
  {
   "cell_type": "code",
   "execution_count": 4,
   "metadata": {},
   "outputs": [
    {
     "data": {
      "text/plain": [
       "(38533, 7)"
      ]
     },
     "execution_count": 4,
     "metadata": {},
     "output_type": "execute_result"
    }
   ],
   "source": [
    "# 전주 데이터에서 좌표 추가를 위해 필요한 컬럼만 추출\n",
    "columns_for_training = [\n",
    "    '공사번호', '전산화번호', 'GISID', \n",
    "    '전주형태코드', '전주종류코드', '전주규격코드', \n",
    "    'X좌표-Y좌표',\n",
    "]\n",
    "df_pole = df_pole[columns_for_training].copy()\n",
    "df_pole.shape"
   ]
  },
  {
   "cell_type": "code",
   "execution_count": 5,
   "metadata": {},
   "outputs": [],
   "source": [
    "# 컬럼명 변경: 사용하기 좋게 영문으로\n",
    "rename_columns = {\n",
    "    '공사번호': 'cons_no', '전산화번호': 'comp_no', 'GISID': 'gisid', \n",
    "    '전주형태코드': 'pole_shape_cd', '전주종류코드': 'pole_type_cd',\n",
    "    '전주규격코드': 'pole_spec_cd','X좌표-Y좌표': 'position'\n",
    "}\n",
    "df_pole.rename(columns=rename_columns, inplace=True)"
   ]
  },
  {
   "cell_type": "code",
   "execution_count": 6,
   "metadata": {},
   "outputs": [
    {
     "data": {
      "text/plain": [
       "(26921, 9)"
      ]
     },
     "execution_count": 6,
     "metadata": {},
     "output_type": "execute_result"
    }
   ],
   "source": [
    "# `position` 컬럼을 이용해 좌표관련 컬럼 추가\n",
    "df_pole[['x', 'y', 'temp1', 'temp2']] = \\\n",
    "    df_pole.position.str.split(',', expand=True)\n",
    "    \n",
    "df_pole.drop(['temp1', 'temp2'], axis=1, inplace=True)\n",
    "\n",
    "# 공사비 데이터셋에 있는 공사번호만 남기고 나머지는 제거\n",
    "df_pole = df_pole[df_pole.cons_no.isin(df_data.cons_no)]\n",
    "df_pole.shape"
   ]
  },
  {
   "cell_type": "code",
   "execution_count": 7,
   "metadata": {},
   "outputs": [
    {
     "name": "stdout",
     "output_type": "stream",
     "text": [
      "<class 'pandas.core.frame.DataFrame'>\n",
      "Index: 26921 entries, 220 to 38532\n",
      "Data columns (total 9 columns):\n",
      " #   Column         Non-Null Count  Dtype  \n",
      "---  ------         --------------  -----  \n",
      " 0   cons_no        26921 non-null  object \n",
      " 1   comp_no        26921 non-null  object \n",
      " 2   gisid          26921 non-null  int64  \n",
      " 3   pole_shape_cd  26921 non-null  object \n",
      " 4   pole_type_cd   26826 non-null  object \n",
      " 5   pole_spec_cd   26826 non-null  float64\n",
      " 6   position       26921 non-null  object \n",
      " 7   x              26921 non-null  object \n",
      " 8   y              26921 non-null  object \n",
      "dtypes: float64(1), int64(1), object(7)\n",
      "memory usage: 2.1+ MB\n"
     ]
    }
   ],
   "source": [
    "# 컬럼 확인\n",
    "df_pole.info()"
   ]
  },
  {
   "cell_type": "code",
   "execution_count": 8,
   "metadata": {},
   "outputs": [
    {
     "data": {
      "text/plain": [
       "pole_shape_cd\n",
       "O    26260\n",
       "G      566\n",
       "V       95\n",
       "Name: count, dtype: int64"
      ]
     },
     "execution_count": 8,
     "metadata": {},
     "output_type": "execute_result"
    }
   ],
   "source": [
    "df_pole['pole_shape_cd'].value_counts()"
   ]
  },
  {
   "cell_type": "code",
   "execution_count": 9,
   "metadata": {},
   "outputs": [
    {
     "data": {
      "text/plain": [
       "(26921, 11)"
      ]
     },
     "execution_count": 9,
     "metadata": {},
     "output_type": "execute_result"
    }
   ],
   "source": [
    "# OneHot Encoding: `pole_shape_cd` column\n",
    "df_pole = pd.get_dummies(df_pole, columns=['pole_shape_cd'], prefix=['pole_shape'])\n",
    "df_pole.shape"
   ]
  },
  {
   "cell_type": "code",
   "execution_count": 10,
   "metadata": {},
   "outputs": [
    {
     "name": "stdout",
     "output_type": "stream",
     "text": [
      "<class 'pandas.core.frame.DataFrame'>\n",
      "Index: 26921 entries, 220 to 38532\n",
      "Data columns (total 11 columns):\n",
      " #   Column        Non-Null Count  Dtype  \n",
      "---  ------        --------------  -----  \n",
      " 0   cons_no       26921 non-null  object \n",
      " 1   comp_no       26921 non-null  object \n",
      " 2   gisid         26921 non-null  int64  \n",
      " 3   pole_type_cd  26826 non-null  object \n",
      " 4   pole_spec_cd  26826 non-null  float64\n",
      " 5   position      26921 non-null  object \n",
      " 6   x             26921 non-null  object \n",
      " 7   y             26921 non-null  object \n",
      " 8   pole_shape_G  26921 non-null  bool   \n",
      " 9   pole_shape_O  26921 non-null  bool   \n",
      " 10  pole_shape_V  26921 non-null  bool   \n",
      "dtypes: bool(3), float64(1), int64(1), object(6)\n",
      "memory usage: 1.9+ MB\n"
     ]
    }
   ],
   "source": [
    "df_pole.info()"
   ]
  },
  {
   "cell_type": "code",
   "execution_count": 11,
   "metadata": {},
   "outputs": [
    {
     "data": {
      "text/plain": [
       "pole_type_cd\n",
       "C    24968\n",
       "H     1435\n",
       "B      402\n",
       "1       16\n",
       "M        4\n",
       "E        1\n",
       "Name: count, dtype: int64"
      ]
     },
     "execution_count": 11,
     "metadata": {},
     "output_type": "execute_result"
    }
   ],
   "source": [
    "df_pole['pole_type_cd'].value_counts()"
   ]
  },
  {
   "cell_type": "code",
   "execution_count": 12,
   "metadata": {},
   "outputs": [
    {
     "data": {
      "text/plain": [
       "(26921, 16)"
      ]
     },
     "execution_count": 12,
     "metadata": {},
     "output_type": "execute_result"
    }
   ],
   "source": [
    "# OneHot Encoding: `pole_type_cd` column\n",
    "df_pole = pd.get_dummies(df_pole, columns=['pole_type_cd'], prefix=['pole_type'])\n",
    "df_pole.shape"
   ]
  },
  {
   "cell_type": "code",
   "execution_count": 13,
   "metadata": {},
   "outputs": [
    {
     "data": {
      "text/plain": [
       "pole_spec_cd\n",
       "10.0    19023\n",
       "12.0     5591\n",
       "16.0     1067\n",
       "14.0      739\n",
       "6.0       402\n",
       "11.0        3\n",
       "8.0         1\n",
       "Name: count, dtype: int64"
      ]
     },
     "execution_count": 13,
     "metadata": {},
     "output_type": "execute_result"
    }
   ],
   "source": [
    "df_pole['pole_spec_cd'].value_counts()"
   ]
  },
  {
   "cell_type": "code",
   "execution_count": 14,
   "metadata": {},
   "outputs": [
    {
     "data": {
      "text/plain": [
       "(26921, 22)"
      ]
     },
     "execution_count": 14,
     "metadata": {},
     "output_type": "execute_result"
    }
   ],
   "source": [
    "# OneHot Encoding: `pole_spec_cd` column\n",
    "df_pole = pd.get_dummies(df_pole, columns=['pole_spec_cd'], prefix=['pole_spec'])\n",
    "df_pole.shape"
   ]
  },
  {
   "cell_type": "code",
   "execution_count": 15,
   "metadata": {},
   "outputs": [
    {
     "name": "stdout",
     "output_type": "stream",
     "text": [
      "<class 'pandas.core.frame.DataFrame'>\n",
      "Index: 26921 entries, 220 to 38532\n",
      "Data columns (total 22 columns):\n",
      " #   Column          Non-Null Count  Dtype \n",
      "---  ------          --------------  ----- \n",
      " 0   cons_no         26921 non-null  object\n",
      " 1   comp_no         26921 non-null  object\n",
      " 2   gisid           26921 non-null  int64 \n",
      " 3   position        26921 non-null  object\n",
      " 4   x               26921 non-null  object\n",
      " 5   y               26921 non-null  object\n",
      " 6   pole_shape_G    26921 non-null  bool  \n",
      " 7   pole_shape_O    26921 non-null  bool  \n",
      " 8   pole_shape_V    26921 non-null  bool  \n",
      " 9   pole_type_1     26921 non-null  bool  \n",
      " 10  pole_type_B     26921 non-null  bool  \n",
      " 11  pole_type_C     26921 non-null  bool  \n",
      " 12  pole_type_E     26921 non-null  bool  \n",
      " 13  pole_type_H     26921 non-null  bool  \n",
      " 14  pole_type_M     26921 non-null  bool  \n",
      " 15  pole_spec_6.0   26921 non-null  bool  \n",
      " 16  pole_spec_8.0   26921 non-null  bool  \n",
      " 17  pole_spec_10.0  26921 non-null  bool  \n",
      " 18  pole_spec_11.0  26921 non-null  bool  \n",
      " 19  pole_spec_12.0  26921 non-null  bool  \n",
      " 20  pole_spec_14.0  26921 non-null  bool  \n",
      " 21  pole_spec_16.0  26921 non-null  bool  \n",
      "dtypes: bool(16), int64(1), object(5)\n",
      "memory usage: 1.8+ MB\n"
     ]
    }
   ],
   "source": [
    "df_pole.info()"
   ]
  },
  {
   "cell_type": "code",
   "execution_count": 20,
   "metadata": {},
   "outputs": [],
   "source": [
    "# bool형을 int형으로 변환\n",
    "df_pole = df_pole.applymap(lambda x: int(x) if isinstance(x, bool) else x)\n",
    "\n",
    "# str형을 float형으로\n",
    "df_pole['x'] = df_pole['x'].astype(float)\n",
    "df_pole['y'] = df_pole['y'].astype(float)"
   ]
  },
  {
   "cell_type": "code",
   "execution_count": 21,
   "metadata": {},
   "outputs": [
    {
     "name": "stdout",
     "output_type": "stream",
     "text": [
      "<class 'pandas.core.frame.DataFrame'>\n",
      "Index: 26921 entries, 220 to 38532\n",
      "Data columns (total 22 columns):\n",
      " #   Column          Non-Null Count  Dtype  \n",
      "---  ------          --------------  -----  \n",
      " 0   cons_no         26921 non-null  object \n",
      " 1   comp_no         26921 non-null  object \n",
      " 2   gisid           26921 non-null  int64  \n",
      " 3   position        26921 non-null  object \n",
      " 4   x               26921 non-null  float64\n",
      " 5   y               26921 non-null  float64\n",
      " 6   pole_shape_G    26921 non-null  int64  \n",
      " 7   pole_shape_O    26921 non-null  int64  \n",
      " 8   pole_shape_V    26921 non-null  int64  \n",
      " 9   pole_type_1     26921 non-null  int64  \n",
      " 10  pole_type_B     26921 non-null  int64  \n",
      " 11  pole_type_C     26921 non-null  int64  \n",
      " 12  pole_type_E     26921 non-null  int64  \n",
      " 13  pole_type_H     26921 non-null  int64  \n",
      " 14  pole_type_M     26921 non-null  int64  \n",
      " 15  pole_spec_6.0   26921 non-null  int64  \n",
      " 16  pole_spec_8.0   26921 non-null  int64  \n",
      " 17  pole_spec_10.0  26921 non-null  int64  \n",
      " 18  pole_spec_11.0  26921 non-null  int64  \n",
      " 19  pole_spec_12.0  26921 non-null  int64  \n",
      " 20  pole_spec_14.0  26921 non-null  int64  \n",
      " 21  pole_spec_16.0  26921 non-null  int64  \n",
      "dtypes: float64(2), int64(17), object(3)\n",
      "memory usage: 4.7+ MB\n"
     ]
    }
   ],
   "source": [
    "df_pole.info()"
   ]
  },
  {
   "cell_type": "code",
   "execution_count": 22,
   "metadata": {},
   "outputs": [],
   "source": [
    "write_data('3rd pp pole-base-on-cons-1st', df_pole)"
   ]
  },
  {
   "cell_type": "code",
   "execution_count": null,
   "metadata": {},
   "outputs": [],
   "source": []
  }
 ],
 "metadata": {
  "kernelspec": {
   "display_name": "t213p310",
   "language": "python",
   "name": "python3"
  },
  "language_info": {
   "codemirror_mode": {
    "name": "ipython",
    "version": 3
   },
   "file_extension": ".py",
   "mimetype": "text/x-python",
   "name": "python",
   "nbconvert_exporter": "python",
   "pygments_lexer": "ipython3",
   "version": "3.10.12"
  },
  "orig_nbformat": 4
 },
 "nbformat": 4,
 "nbformat_minor": 2
}
