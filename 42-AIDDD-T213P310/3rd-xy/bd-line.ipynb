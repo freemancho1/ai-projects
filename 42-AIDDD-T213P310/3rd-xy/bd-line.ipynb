{
 "cells": [
  {
   "cell_type": "markdown",
   "metadata": {},
   "source": [
    "#### 전선관련 전처리"
   ]
  },
  {
   "cell_type": "code",
   "execution_count": 39,
   "metadata": {},
   "outputs": [],
   "source": [
    "import ast\n",
    "import pandas as pd\n",
    "from freeman.aiddd.data_manager import read_data, write_data"
   ]
  },
  {
   "cell_type": "code",
   "execution_count": 40,
   "metadata": {},
   "outputs": [],
   "source": [
    "MIN_POLE_LINE_COUNTS = 2"
   ]
  },
  {
   "cell_type": "code",
   "execution_count": 41,
   "metadata": {},
   "outputs": [
    {
     "data": {
      "text/plain": [
       "((5710, 33), (17555, 21), (40019, 77))"
      ]
     },
     "execution_count": 41,
     "metadata": {},
     "output_type": "execute_result"
    }
   ],
   "source": [
    "# 전선정보까지 포함된 전처리 데이터\n",
    "filename = 'bc-cons-pole-merge' if MIN_POLE_LINE_COUNTS == 1 else 'bc-cons-pole-merge-2'\n",
    "_df_data = read_data(filename)\n",
    "\n",
    "# 전처리된 전주정보\n",
    "filename = 'bc-pole' if MIN_POLE_LINE_COUNTS == 1 else 'bc-pole-2'\n",
    "_df_pole = read_data(filename)\n",
    "# 제공받은 3차 전선정보\n",
    "_df_line = read_data('LINE_DATA', 'provide')\n",
    "\n",
    "_df_data.shape, _df_pole.shape, _df_line.shape"
   ]
  },
  {
   "cell_type": "code",
   "execution_count": 42,
   "metadata": {},
   "outputs": [],
   "source": [
    "df_data, df_pole, df_line = _df_data.copy(), _df_pole.copy(), _df_line.copy()"
   ]
  },
  {
   "cell_type": "markdown",
   "metadata": {},
   "source": [
    "#### 컬럼확인"
   ]
  },
  {
   "cell_type": "code",
   "execution_count": 43,
   "metadata": {},
   "outputs": [
    {
     "data": {
      "text/plain": [
       "(40019, 9)"
      ]
     },
     "execution_count": 43,
     "metadata": {},
     "output_type": "execute_result"
    }
   ],
   "source": [
    "# 학습에 필요한 컬럼 추출\n",
    "columns_for_training = [\n",
    "    '공사번호', '전산화번호', 'GISID', '전원측전산화번호', '지지물간거리',\n",
    "    '전선종류코드1', '전선규격코드1', '전선구분코드1', 'X좌표-Y좌표'\n",
    "]\n",
    "df = df_line[columns_for_training].copy()\n",
    "df.shape"
   ]
  },
  {
   "cell_type": "code",
   "execution_count": 44,
   "metadata": {},
   "outputs": [],
   "source": [
    "# 컬럼명 변경: 사용하기 좋게 영문으로\n",
    "rename_columns = {\n",
    "    '공사번호': 'cons_no', 'GISID': 'gisid', \n",
    "    '전산화번호': 'comp_no', '전원측전산화번호': 'from_comp_no',\n",
    "    '지지물간거리': 'distance', \n",
    "    '전선종류코드1': 'line_type_cd', '전선규격코드1': 'line_spec_cd',\n",
    "    '전선구분코드1': 'line_class_cd', 'X좌표-Y좌표': 'position',\n",
    "}\n",
    "df.rename(columns=rename_columns, inplace=True)"
   ]
  },
  {
   "cell_type": "markdown",
   "metadata": {},
   "source": [
    "#### 데이터전처리"
   ]
  },
  {
   "cell_type": "markdown",
   "metadata": {},
   "source": [
    "##### 좌표값"
   ]
  },
  {
   "cell_type": "code",
   "execution_count": 45,
   "metadata": {},
   "outputs": [],
   "source": [
    "# all_positions = []\n",
    "# positions_length = []\n",
    "# for _, row in df.iterrows():\n",
    "#     current_positions_soc = row['position'].split(',')\n",
    "#     p_len = len(current_positions_soc) // 2\n",
    "#     positions_length.append(p_len)\n",
    "#     current_positions = [\n",
    "#         [float(current_positions_soc[i]), float(current_positions_soc[i+1])]\n",
    "#         for i in range(0, p_len*2, 2)\n",
    "#     ]\n",
    "#     all_positions.append(current_positions)"
   ]
  },
  {
   "cell_type": "code",
   "execution_count": 46,
   "metadata": {},
   "outputs": [],
   "source": [
    "# df['positions_len'] = positions_length\n",
    "# df['positions'] = all_positions"
   ]
  },
  {
   "cell_type": "code",
   "execution_count": 47,
   "metadata": {},
   "outputs": [
    {
     "name": "stdout",
     "output_type": "stream",
     "text": [
      "<class 'pandas.core.frame.DataFrame'>\n",
      "RangeIndex: 40019 entries, 0 to 40018\n",
      "Data columns (total 9 columns):\n",
      " #   Column         Non-Null Count  Dtype  \n",
      "---  ------         --------------  -----  \n",
      " 0   cons_no        40019 non-null  object \n",
      " 1   comp_no        40019 non-null  object \n",
      " 2   gisid          40019 non-null  int64  \n",
      " 3   from_comp_no   40019 non-null  object \n",
      " 4   distance       40019 non-null  int64  \n",
      " 5   line_type_cd   40019 non-null  object \n",
      " 6   line_spec_cd   40019 non-null  float64\n",
      " 7   line_class_cd  38826 non-null  object \n",
      " 8   position       40019 non-null  object \n",
      "dtypes: float64(1), int64(2), object(6)\n",
      "memory usage: 2.7+ MB\n"
     ]
    }
   ],
   "source": [
    "df.info()"
   ]
  },
  {
   "cell_type": "code",
   "execution_count": 48,
   "metadata": {},
   "outputs": [],
   "source": [
    "df = pd.get_dummies(\n",
    "    df, \n",
    "    columns=['line_type_cd', 'line_spec_cd', 'line_class_cd'], \n",
    "    prefix=['line_type', 'line_spec', 'line_class']\n",
    ")"
   ]
  },
  {
   "cell_type": "code",
   "execution_count": 49,
   "metadata": {},
   "outputs": [
    {
     "data": {
      "text/plain": [
       "Index(['cons_no', 'comp_no', 'gisid', 'from_comp_no', 'distance', 'position',\n",
       "       'line_type_AO', 'line_type_C1', 'line_type_C2', 'line_type_C4',\n",
       "       'line_type_D2', 'line_type_D4', 'line_type_EW', 'line_type_OC',\n",
       "       'line_type_OW', 'line_spec_3.2', 'line_spec_22.0', 'line_spec_25.0',\n",
       "       'line_spec_32.0', 'line_spec_35.0', 'line_spec_38.0', 'line_spec_58.0',\n",
       "       'line_spec_60.0', 'line_spec_70.0', 'line_spec_100.0',\n",
       "       'line_spec_120.0', 'line_spec_150.0', 'line_class_NJ', 'line_class_NP',\n",
       "       'line_class_NT', 'line_class_NW'],\n",
       "      dtype='object')"
      ]
     },
     "execution_count": 49,
     "metadata": {},
     "output_type": "execute_result"
    }
   ],
   "source": [
    "df.columns"
   ]
  },
  {
   "cell_type": "code",
   "execution_count": 50,
   "metadata": {},
   "outputs": [
    {
     "name": "stdout",
     "output_type": "stream",
     "text": [
      "<class 'pandas.core.frame.DataFrame'>\n",
      "RangeIndex: 40019 entries, 0 to 40018\n",
      "Data columns (total 31 columns):\n",
      " #   Column           Non-Null Count  Dtype \n",
      "---  ------           --------------  ----- \n",
      " 0   cons_no          40019 non-null  object\n",
      " 1   comp_no          40019 non-null  object\n",
      " 2   gisid            40019 non-null  int64 \n",
      " 3   from_comp_no     40019 non-null  object\n",
      " 4   distance         40019 non-null  int64 \n",
      " 5   position         40019 non-null  object\n",
      " 6   line_type_AO     40019 non-null  bool  \n",
      " 7   line_type_C1     40019 non-null  bool  \n",
      " 8   line_type_C2     40019 non-null  bool  \n",
      " 9   line_type_C4     40019 non-null  bool  \n",
      " 10  line_type_D2     40019 non-null  bool  \n",
      " 11  line_type_D4     40019 non-null  bool  \n",
      " 12  line_type_EW     40019 non-null  bool  \n",
      " 13  line_type_OC     40019 non-null  bool  \n",
      " 14  line_type_OW     40019 non-null  bool  \n",
      " 15  line_spec_3.2    40019 non-null  bool  \n",
      " 16  line_spec_22.0   40019 non-null  bool  \n",
      " 17  line_spec_25.0   40019 non-null  bool  \n",
      " 18  line_spec_32.0   40019 non-null  bool  \n",
      " 19  line_spec_35.0   40019 non-null  bool  \n",
      " 20  line_spec_38.0   40019 non-null  bool  \n",
      " 21  line_spec_58.0   40019 non-null  bool  \n",
      " 22  line_spec_60.0   40019 non-null  bool  \n",
      " 23  line_spec_70.0   40019 non-null  bool  \n",
      " 24  line_spec_100.0  40019 non-null  bool  \n",
      " 25  line_spec_120.0  40019 non-null  bool  \n",
      " 26  line_spec_150.0  40019 non-null  bool  \n",
      " 27  line_class_NJ    40019 non-null  bool  \n",
      " 28  line_class_NP    40019 non-null  bool  \n",
      " 29  line_class_NT    40019 non-null  bool  \n",
      " 30  line_class_NW    40019 non-null  bool  \n",
      "dtypes: bool(25), int64(2), object(4)\n",
      "memory usage: 2.8+ MB\n"
     ]
    }
   ],
   "source": [
    "df.info()"
   ]
  },
  {
   "cell_type": "code",
   "execution_count": 51,
   "metadata": {},
   "outputs": [],
   "source": [
    "# bool형을 int형으로 변환\n",
    "df = df.applymap(lambda x: int(x) if isinstance(x, bool) else x)"
   ]
  },
  {
   "cell_type": "code",
   "execution_count": 52,
   "metadata": {},
   "outputs": [
    {
     "data": {
      "text/plain": [
       "(40019, 31)"
      ]
     },
     "execution_count": 52,
     "metadata": {},
     "output_type": "execute_result"
    }
   ],
   "source": [
    "df.shape"
   ]
  },
  {
   "cell_type": "code",
   "execution_count": 53,
   "metadata": {},
   "outputs": [
    {
     "data": {
      "text/plain": [
       "(18566, 31)"
      ]
     },
     "execution_count": 53,
     "metadata": {},
     "output_type": "execute_result"
    }
   ],
   "source": [
    "df = df[df.cons_no.isin(df_data.cons_no)]\n",
    "df.shape"
   ]
  },
  {
   "cell_type": "code",
   "execution_count": 54,
   "metadata": {},
   "outputs": [],
   "source": [
    "filename = 'bd-line' if MIN_POLE_LINE_COUNTS == 1 else 'bd-line-2'\n",
    "write_data(filename, df)"
   ]
  },
  {
   "cell_type": "markdown",
   "metadata": {},
   "source": [
    "#### 공사비를 기준으로 로우 만들기"
   ]
  },
  {
   "cell_type": "code",
   "execution_count": 55,
   "metadata": {},
   "outputs": [],
   "source": [
    "cons_no_rows = []\n",
    "unique_cons_no_list = df.cons_no.unique()\n",
    "sum_columns = [col for col in df.columns if col.startswith('line_')]"
   ]
  },
  {
   "cell_type": "code",
   "execution_count": 56,
   "metadata": {},
   "outputs": [],
   "source": [
    "for cons_no in unique_cons_no_list:\n",
    "    df_temp = df[df.cons_no == cons_no]\n",
    "    cons_no_sum = df_temp[sum_columns].sum().values.tolist()\n",
    "    add_data = [cons_no] + cons_no_sum\n",
    "    cons_no_rows.append(add_data)\n",
    "    \n",
    "df_line_group = pd.DataFrame(cons_no_rows, columns=['cons_no']+sum_columns)"
   ]
  },
  {
   "cell_type": "code",
   "execution_count": 57,
   "metadata": {},
   "outputs": [],
   "source": [
    "filename = 'bd-line-group' if MIN_POLE_LINE_COUNTS == 1 else 'bd-line-group-2'\n",
    "write_data(filename, df_line_group)"
   ]
  },
  {
   "cell_type": "code",
   "execution_count": 58,
   "metadata": {},
   "outputs": [],
   "source": [
    "df_cons_pole_line_merge = pd.merge(\n",
    "    df_data, df_line_group,\n",
    "    left_on='cons_no', right_on='cons_no', how='left'\n",
    ")"
   ]
  },
  {
   "cell_type": "code",
   "execution_count": 59,
   "metadata": {},
   "outputs": [],
   "source": [
    "filename = 'bd-cons-pole-line-merge' if MIN_POLE_LINE_COUNTS == 1 else 'bd-cons-pole-line-merge-2'\n",
    "write_data(filename, df_cons_pole_line_merge)"
   ]
  },
  {
   "cell_type": "code",
   "execution_count": 60,
   "metadata": {},
   "outputs": [],
   "source": [
    "# df_pole의 전산화번호를 이용해 좌표 comp_no: [x,y]인 딕션너리 만들기\n",
    "pole_dict = df_pole[['comp_no', 'x', 'y']].set_index('comp_no').T.to_dict('list')"
   ]
  },
  {
   "cell_type": "code",
   "execution_count": 61,
   "metadata": {},
   "outputs": [],
   "source": [
    "cons_no_pole_path = []\n",
    "cons_no_distance_sum = []\n",
    "# 제외되는 공사번호 저장\n",
    "exception_cons_no_list = []\n",
    "\n",
    "for cons_no in unique_cons_no_list:\n",
    "    df_temp = df[df.cons_no == cons_no]\n",
    "    \n",
    "    try:\n",
    "        comp_no_values = df_temp.comp_no.tolist()\n",
    "        from_comp_no_values = df_temp.from_comp_no.tolist()\n",
    "        distance_values = df_temp.distance.tolist()\n",
    "        only_comp_no_value = [\n",
    "            item for item in comp_no_values if item not in from_comp_no_values\n",
    "        ][0]\n",
    "        only_from_comp_no_value = [\n",
    "            item for item in from_comp_no_values if item not in comp_no_values\n",
    "        ][0]\n",
    "    except IndexError:\n",
    "        # 공사번호에 전주가 하나뿐이여서 한쪽에만 있는 전주번호가 없음\n",
    "        exception_cons_no_list.append(cons_no)\n",
    "        continue\n",
    "    \n",
    "    pole_path = [only_from_comp_no_value, pole_dict.get(only_from_comp_no_value, [0,0])]\n",
    "    # 전원측전산화번오에만 있는 값의 인덱스를 구해야 하기 때문에 다음값에 최초값을 넣어줌\n",
    "    next_value = only_from_comp_no_value\n",
    "    loop_size = len(from_comp_no_values)\n",
    "    distance_sum = 0\n",
    "    try:\n",
    "        for _ in range(loop_size):\n",
    "            next_index = from_comp_no_values.index(next_value)\n",
    "            next_distance = distance_values[next_index]\n",
    "            distance_sum += next_distance\n",
    "            next_value = comp_no_values[next_index]\n",
    "            pole_path.append(next_distance)\n",
    "            pole_path.append(next_value)\n",
    "            pole_path.append(pole_dict.get(next_value, [0,0]))\n",
    "        cons_no_pole_path.append([cons_no] + pole_path)\n",
    "        cons_no_distance_sum.append([cons_no] + [distance_sum])\n",
    "    except ValueError:\n",
    "        # 한 공사에서 모든 전주가 한 라인에 연결되지 않고, 끈어진 경우\n",
    "        exception_cons_no_list.append(cons_no)\n",
    "        continue"
   ]
  },
  {
   "cell_type": "code",
   "execution_count": 62,
   "metadata": {},
   "outputs": [],
   "source": [
    "# 컬럼명 만들기\n",
    "column_names = ['cons_no']\n",
    "MAX_LINE_COUNTS = 12\n",
    "for index in range(1, MAX_LINE_COUNTS):\n",
    "    column_names.append(f'pole{index}_comp_no')\n",
    "    column_names.append(f'pole{index}_xy')\n",
    "    column_names.append(f'pole{index+1}_distance')\n",
    "column_names.append('pole12_comp_no')\n",
    "column_names.append('pole12_xy')"
   ]
  },
  {
   "cell_type": "code",
   "execution_count": 63,
   "metadata": {},
   "outputs": [],
   "source": [
    "df_pole_path = pd.DataFrame(cons_no_pole_path, columns=column_names)\n",
    "df_total_distance = pd.DataFrame(cons_no_distance_sum, columns=['cons_no', 'distance_sum'])"
   ]
  },
  {
   "cell_type": "code",
   "execution_count": 64,
   "metadata": {},
   "outputs": [
    {
     "data": {
      "text/html": [
       "<div>\n",
       "<style scoped>\n",
       "    .dataframe tbody tr th:only-of-type {\n",
       "        vertical-align: middle;\n",
       "    }\n",
       "\n",
       "    .dataframe tbody tr th {\n",
       "        vertical-align: top;\n",
       "    }\n",
       "\n",
       "    .dataframe thead th {\n",
       "        text-align: right;\n",
       "    }\n",
       "</style>\n",
       "<table border=\"1\" class=\"dataframe\">\n",
       "  <thead>\n",
       "    <tr style=\"text-align: right;\">\n",
       "      <th></th>\n",
       "      <th>cons_no</th>\n",
       "      <th>pole1_comp_no</th>\n",
       "      <th>pole1_xy</th>\n",
       "      <th>pole2_distance</th>\n",
       "      <th>pole2_comp_no</th>\n",
       "      <th>pole2_xy</th>\n",
       "      <th>pole3_distance</th>\n",
       "      <th>pole3_comp_no</th>\n",
       "      <th>pole3_xy</th>\n",
       "      <th>pole4_distance</th>\n",
       "      <th>...</th>\n",
       "      <th>pole9_xy</th>\n",
       "      <th>pole10_distance</th>\n",
       "      <th>pole10_comp_no</th>\n",
       "      <th>pole10_xy</th>\n",
       "      <th>pole11_distance</th>\n",
       "      <th>pole11_comp_no</th>\n",
       "      <th>pole11_xy</th>\n",
       "      <th>pole12_distance</th>\n",
       "      <th>pole12_comp_no</th>\n",
       "      <th>pole12_xy</th>\n",
       "    </tr>\n",
       "  </thead>\n",
       "  <tbody>\n",
       "    <tr>\n",
       "      <th>0</th>\n",
       "      <td>477420193243</td>\n",
       "      <td>7385D851</td>\n",
       "      <td>[0, 0]</td>\n",
       "      <td>50</td>\n",
       "      <td>7385D742</td>\n",
       "      <td>[128.393826881391, 36.8320877291799]</td>\n",
       "      <td>50</td>\n",
       "      <td>7385D731</td>\n",
       "      <td>[128.393672553828, 36.8316526370489]</td>\n",
       "      <td>43.0</td>\n",
       "      <td>...</td>\n",
       "      <td>None</td>\n",
       "      <td>NaN</td>\n",
       "      <td>None</td>\n",
       "      <td>None</td>\n",
       "      <td>NaN</td>\n",
       "      <td>None</td>\n",
       "      <td>None</td>\n",
       "      <td>NaN</td>\n",
       "      <td>None</td>\n",
       "      <td>None</td>\n",
       "    </tr>\n",
       "    <tr>\n",
       "      <th>1</th>\n",
       "      <td>477420193827</td>\n",
       "      <td>7696C351</td>\n",
       "      <td>[0, 0]</td>\n",
       "      <td>57</td>\n",
       "      <td>7696C262</td>\n",
       "      <td>[128.451141424479, 37.0311195266744]</td>\n",
       "      <td>53</td>\n",
       "      <td>7696C162</td>\n",
       "      <td>[128.450624308738, 37.0313530823716]</td>\n",
       "      <td>37.0</td>\n",
       "      <td>...</td>\n",
       "      <td>None</td>\n",
       "      <td>NaN</td>\n",
       "      <td>None</td>\n",
       "      <td>None</td>\n",
       "      <td>NaN</td>\n",
       "      <td>None</td>\n",
       "      <td>None</td>\n",
       "      <td>NaN</td>\n",
       "      <td>None</td>\n",
       "      <td>None</td>\n",
       "    </tr>\n",
       "    <tr>\n",
       "      <th>2</th>\n",
       "      <td>477420203272</td>\n",
       "      <td>6795A841</td>\n",
       "      <td>[0, 0]</td>\n",
       "      <td>42</td>\n",
       "      <td>6795A842</td>\n",
       "      <td>[128.252547411503, 37.0160534603552]</td>\n",
       "      <td>29</td>\n",
       "      <td>6795A851</td>\n",
       "      <td>[128.252650514568, 37.0163067389827]</td>\n",
       "      <td>NaN</td>\n",
       "      <td>...</td>\n",
       "      <td>None</td>\n",
       "      <td>NaN</td>\n",
       "      <td>None</td>\n",
       "      <td>None</td>\n",
       "      <td>NaN</td>\n",
       "      <td>None</td>\n",
       "      <td>None</td>\n",
       "      <td>NaN</td>\n",
       "      <td>None</td>\n",
       "      <td>None</td>\n",
       "    </tr>\n",
       "    <tr>\n",
       "      <th>3</th>\n",
       "      <td>477420203601</td>\n",
       "      <td>6994A441</td>\n",
       "      <td>[0, 0]</td>\n",
       "      <td>57</td>\n",
       "      <td>6994A361</td>\n",
       "      <td>[0, 0]</td>\n",
       "      <td>63</td>\n",
       "      <td>6994A371</td>\n",
       "      <td>[0, 0]</td>\n",
       "      <td>57.0</td>\n",
       "      <td>...</td>\n",
       "      <td>None</td>\n",
       "      <td>NaN</td>\n",
       "      <td>None</td>\n",
       "      <td>None</td>\n",
       "      <td>NaN</td>\n",
       "      <td>None</td>\n",
       "      <td>None</td>\n",
       "      <td>NaN</td>\n",
       "      <td>None</td>\n",
       "      <td>None</td>\n",
       "    </tr>\n",
       "    <tr>\n",
       "      <th>4</th>\n",
       "      <td>477420203712</td>\n",
       "      <td>6998H531</td>\n",
       "      <td>[0, 0]</td>\n",
       "      <td>31</td>\n",
       "      <td>6998H541</td>\n",
       "      <td>[0, 0]</td>\n",
       "      <td>30</td>\n",
       "      <td>6998H551</td>\n",
       "      <td>[128.312198570629, 37.0660126357728]</td>\n",
       "      <td>38.0</td>\n",
       "      <td>...</td>\n",
       "      <td>None</td>\n",
       "      <td>NaN</td>\n",
       "      <td>None</td>\n",
       "      <td>None</td>\n",
       "      <td>NaN</td>\n",
       "      <td>None</td>\n",
       "      <td>None</td>\n",
       "      <td>NaN</td>\n",
       "      <td>None</td>\n",
       "      <td>None</td>\n",
       "    </tr>\n",
       "  </tbody>\n",
       "</table>\n",
       "<p>5 rows × 36 columns</p>\n",
       "</div>"
      ],
      "text/plain": [
       "        cons_no pole1_comp_no pole1_xy  pole2_distance pole2_comp_no  \\\n",
       "0  477420193243      7385D851   [0, 0]              50      7385D742   \n",
       "1  477420193827      7696C351   [0, 0]              57      7696C262   \n",
       "2  477420203272      6795A841   [0, 0]              42      6795A842   \n",
       "3  477420203601      6994A441   [0, 0]              57      6994A361   \n",
       "4  477420203712      6998H531   [0, 0]              31      6998H541   \n",
       "\n",
       "                               pole2_xy  pole3_distance pole3_comp_no  \\\n",
       "0  [128.393826881391, 36.8320877291799]              50      7385D731   \n",
       "1  [128.451141424479, 37.0311195266744]              53      7696C162   \n",
       "2  [128.252547411503, 37.0160534603552]              29      6795A851   \n",
       "3                                [0, 0]              63      6994A371   \n",
       "4                                [0, 0]              30      6998H551   \n",
       "\n",
       "                               pole3_xy  pole4_distance  ... pole9_xy  \\\n",
       "0  [128.393672553828, 36.8316526370489]            43.0  ...     None   \n",
       "1  [128.450624308738, 37.0313530823716]            37.0  ...     None   \n",
       "2  [128.252650514568, 37.0163067389827]             NaN  ...     None   \n",
       "3                                [0, 0]            57.0  ...     None   \n",
       "4  [128.312198570629, 37.0660126357728]            38.0  ...     None   \n",
       "\n",
       "  pole10_distance  pole10_comp_no pole10_xy pole11_distance  pole11_comp_no  \\\n",
       "0             NaN            None      None             NaN            None   \n",
       "1             NaN            None      None             NaN            None   \n",
       "2             NaN            None      None             NaN            None   \n",
       "3             NaN            None      None             NaN            None   \n",
       "4             NaN            None      None             NaN            None   \n",
       "\n",
       "  pole11_xy pole12_distance  pole12_comp_no pole12_xy  \n",
       "0      None             NaN            None      None  \n",
       "1      None             NaN            None      None  \n",
       "2      None             NaN            None      None  \n",
       "3      None             NaN            None      None  \n",
       "4      None             NaN            None      None  \n",
       "\n",
       "[5 rows x 36 columns]"
      ]
     },
     "execution_count": 64,
     "metadata": {},
     "output_type": "execute_result"
    }
   ],
   "source": [
    "df_pole_path.head()"
   ]
  },
  {
   "cell_type": "code",
   "execution_count": 65,
   "metadata": {},
   "outputs": [],
   "source": [
    "df_cons_pole_line_path_merge = pd.merge(\n",
    "    df_cons_pole_line_merge, df_pole_path,\n",
    "    left_on='cons_no', right_on='cons_no', how='right'\n",
    ")"
   ]
  },
  {
   "cell_type": "code",
   "execution_count": 66,
   "metadata": {},
   "outputs": [],
   "source": [
    "df_cons_pole_line_path_merge = pd.merge(\n",
    "    df_cons_pole_line_path_merge, df_total_distance,\n",
    "    left_on='cons_no', right_on='cons_no', how='left'\n",
    ")"
   ]
  },
  {
   "cell_type": "code",
   "execution_count": 67,
   "metadata": {},
   "outputs": [],
   "source": [
    "filtered_pole_num_columns = [\n",
    "    col for col in df_cons_pole_line_path_merge.columns \n",
    "    if col.startswith('pole') and col[4].isdigit()\n",
    "]"
   ]
  },
  {
   "cell_type": "code",
   "execution_count": 68,
   "metadata": {},
   "outputs": [],
   "source": [
    "df_temp = df_cons_pole_line_path_merge[\n",
    "    ['line_cnts', 'pole_cnts'] + filtered_pole_num_columns\n",
    "].copy()"
   ]
  },
  {
   "cell_type": "code",
   "execution_count": 69,
   "metadata": {},
   "outputs": [
    {
     "data": {
      "text/plain": [
       "pole12_xy          4416\n",
       "pole12_comp_no     4416\n",
       "pole12_distance    4416\n",
       "pole11_xy          4411\n",
       "pole11_comp_no     4411\n",
       "                   ... \n",
       "pole_spec_11.0        0\n",
       "pole_spec_10.0        0\n",
       "pole_spec_8.0         0\n",
       "pole_spec_6.0         0\n",
       "distance_sum          0\n",
       "Length: 94, dtype: int64"
      ]
     },
     "execution_count": 69,
     "metadata": {},
     "output_type": "execute_result"
    }
   ],
   "source": [
    "df_cons_pole_line_path_merge.isna().sum().sort_values(ascending=False)"
   ]
  },
  {
   "cell_type": "code",
   "execution_count": 70,
   "metadata": {},
   "outputs": [],
   "source": [
    "df_cons_pole_line_path_merge.fillna(0.0, inplace=True)"
   ]
  },
  {
   "cell_type": "code",
   "execution_count": 71,
   "metadata": {},
   "outputs": [],
   "source": [
    "def change_position(data):\n",
    "    change_data = ast.literal_eval(data)\n",
    "    if change_data not in [[0,0], 0.0]:\n",
    "        return change_data[0], change_data[1]\n",
    "    else:\n",
    "        return 0, 0"
   ]
  },
  {
   "cell_type": "code",
   "execution_count": 72,
   "metadata": {},
   "outputs": [],
   "source": [
    "# xy로 '[x, y]'로 되어있는 컬럼을 이용해 x,y컬럼을 추가\n",
    "MAX_POLE_COUNTS = 12\n",
    "for idx in range(1, MAX_POLE_COUNTS+1):\n",
    "    source_column = f'pole{idx}_xy'\n",
    "    target_x_column = f'pole{idx}_x_pos'\n",
    "    target_y_column = f'pole{idx}_y_pos'\n",
    "    # df_cons_pole_line_path_merge[[target_x_column, target_y_column]] = \\\n",
    "    #     df_cons_pole_line_path_merge[source_column].apply(change_position)\n",
    "    df_cons_pole_line_path_merge[target_x_column] = \\\n",
    "        df_cons_pole_line_path_merge[source_column].apply(\n",
    "            lambda x: x[0] if x not in [[0, 0], 0.0] else 0\n",
    "        )\n",
    "    df_cons_pole_line_path_merge[target_y_column] = \\\n",
    "        df_cons_pole_line_path_merge[source_column].apply(\n",
    "            lambda x: x[1] if x not in [[0, 0], 0.0] else 0\n",
    "        )"
   ]
  },
  {
   "cell_type": "code",
   "execution_count": 73,
   "metadata": {},
   "outputs": [
    {
     "data": {
      "text/html": [
       "<div>\n",
       "<style scoped>\n",
       "    .dataframe tbody tr th:only-of-type {\n",
       "        vertical-align: middle;\n",
       "    }\n",
       "\n",
       "    .dataframe tbody tr th {\n",
       "        vertical-align: top;\n",
       "    }\n",
       "\n",
       "    .dataframe thead th {\n",
       "        text-align: right;\n",
       "    }\n",
       "</style>\n",
       "<table border=\"1\" class=\"dataframe\">\n",
       "  <thead>\n",
       "    <tr style=\"text-align: right;\">\n",
       "      <th></th>\n",
       "      <th>pole1_xy</th>\n",
       "      <th>pole1_x_pos</th>\n",
       "      <th>pole1_y_pos</th>\n",
       "      <th>pole2_xy</th>\n",
       "      <th>pole2_x_pos</th>\n",
       "      <th>pole2_y_pos</th>\n",
       "    </tr>\n",
       "  </thead>\n",
       "  <tbody>\n",
       "    <tr>\n",
       "      <th>0</th>\n",
       "      <td>[0, 0]</td>\n",
       "      <td>0.0</td>\n",
       "      <td>0.0</td>\n",
       "      <td>[128.393826881391, 36.8320877291799]</td>\n",
       "      <td>128.393827</td>\n",
       "      <td>36.832088</td>\n",
       "    </tr>\n",
       "    <tr>\n",
       "      <th>1</th>\n",
       "      <td>[0, 0]</td>\n",
       "      <td>0.0</td>\n",
       "      <td>0.0</td>\n",
       "      <td>[128.451141424479, 37.0311195266744]</td>\n",
       "      <td>128.451141</td>\n",
       "      <td>37.031120</td>\n",
       "    </tr>\n",
       "    <tr>\n",
       "      <th>2</th>\n",
       "      <td>[0, 0]</td>\n",
       "      <td>0.0</td>\n",
       "      <td>0.0</td>\n",
       "      <td>[128.252547411503, 37.0160534603552]</td>\n",
       "      <td>128.252547</td>\n",
       "      <td>37.016053</td>\n",
       "    </tr>\n",
       "    <tr>\n",
       "      <th>3</th>\n",
       "      <td>[0, 0]</td>\n",
       "      <td>0.0</td>\n",
       "      <td>0.0</td>\n",
       "      <td>[0, 0]</td>\n",
       "      <td>0.000000</td>\n",
       "      <td>0.000000</td>\n",
       "    </tr>\n",
       "    <tr>\n",
       "      <th>4</th>\n",
       "      <td>[0, 0]</td>\n",
       "      <td>0.0</td>\n",
       "      <td>0.0</td>\n",
       "      <td>[0, 0]</td>\n",
       "      <td>0.000000</td>\n",
       "      <td>0.000000</td>\n",
       "    </tr>\n",
       "  </tbody>\n",
       "</table>\n",
       "</div>"
      ],
      "text/plain": [
       "  pole1_xy  pole1_x_pos  pole1_y_pos                              pole2_xy  \\\n",
       "0   [0, 0]          0.0          0.0  [128.393826881391, 36.8320877291799]   \n",
       "1   [0, 0]          0.0          0.0  [128.451141424479, 37.0311195266744]   \n",
       "2   [0, 0]          0.0          0.0  [128.252547411503, 37.0160534603552]   \n",
       "3   [0, 0]          0.0          0.0                                [0, 0]   \n",
       "4   [0, 0]          0.0          0.0                                [0, 0]   \n",
       "\n",
       "   pole2_x_pos  pole2_y_pos  \n",
       "0   128.393827    36.832088  \n",
       "1   128.451141    37.031120  \n",
       "2   128.252547    37.016053  \n",
       "3     0.000000     0.000000  \n",
       "4     0.000000     0.000000  "
      ]
     },
     "execution_count": 73,
     "metadata": {},
     "output_type": "execute_result"
    }
   ],
   "source": [
    "df_cons_pole_line_path_merge[['pole1_xy', 'pole1_x_pos', 'pole1_y_pos', 'pole2_xy', 'pole2_x_pos', 'pole2_y_pos']].head()"
   ]
  },
  {
   "cell_type": "code",
   "execution_count": 74,
   "metadata": {},
   "outputs": [],
   "source": [
    "filename = 'bd-all-merge' if MIN_POLE_LINE_COUNTS == 1 else 'bd-all-merge-2'\n",
    "write_data(filename, df_cons_pole_line_path_merge)"
   ]
  },
  {
   "cell_type": "code",
   "execution_count": null,
   "metadata": {},
   "outputs": [],
   "source": []
  }
 ],
 "metadata": {
  "kernelspec": {
   "display_name": "t213p310",
   "language": "python",
   "name": "python3"
  },
  "language_info": {
   "codemirror_mode": {
    "name": "ipython",
    "version": 3
   },
   "file_extension": ".py",
   "mimetype": "text/x-python",
   "name": "python",
   "nbconvert_exporter": "python",
   "pygments_lexer": "ipython3",
   "version": "3.10.12"
  },
  "orig_nbformat": 4
 },
 "nbformat": 4,
 "nbformat_minor": 2
}
