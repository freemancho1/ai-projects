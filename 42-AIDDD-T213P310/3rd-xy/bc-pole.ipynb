{
 "cells": [
  {
   "cell_type": "markdown",
   "metadata": {},
   "source": [
    "#### 전주관련 전처리"
   ]
  },
  {
   "cell_type": "code",
   "execution_count": 53,
   "metadata": {},
   "outputs": [],
   "source": [
    "import pandas as pd\n",
    "\n",
    "import matplotlib.pyplot as plt\n",
    "from freeman.plt_setting import plt_settings\n",
    "from freeman.aiddd.data_manager import read_data, write_data\n",
    "\n",
    "# 차트 한글처리 지원\n",
    "plt_settings()"
   ]
  },
  {
   "cell_type": "code",
   "execution_count": 54,
   "metadata": {},
   "outputs": [],
   "source": [
    "MIN_POLE_LINE_COUNTS = 2"
   ]
  },
  {
   "cell_type": "markdown",
   "metadata": {},
   "source": [
    "#### 데이터 불러오기"
   ]
  },
  {
   "cell_type": "code",
   "execution_count": 55,
   "metadata": {},
   "outputs": [],
   "source": [
    "# 설비 갯 수가 추가된 학습용 데이터\n",
    "filename = 'bb-device-counts' if MIN_POLE_LINE_COUNTS == 1 else 'bb-device-counts-2'\n",
    "_df_cons = read_data(filename)\n",
    "# 유의미한 좌표가 추가된 3차 제공 데이터\n",
    "_df_pole = read_data('POLE_DATA', data_type='provide')"
   ]
  },
  {
   "cell_type": "code",
   "execution_count": 56,
   "metadata": {},
   "outputs": [],
   "source": [
    "df_cons, df_pole = _df_cons.copy(), _df_pole.copy()"
   ]
  },
  {
   "cell_type": "code",
   "execution_count": 57,
   "metadata": {},
   "outputs": [
    {
     "data": {
      "text/plain": [
       "((5710, 18), (38533, 63))"
      ]
     },
     "execution_count": 57,
     "metadata": {},
     "output_type": "execute_result"
    }
   ],
   "source": [
    "df_cons.shape, df_pole.shape"
   ]
  },
  {
   "cell_type": "markdown",
   "metadata": {},
   "source": [
    "#### 데이터 전처리"
   ]
  },
  {
   "cell_type": "markdown",
   "metadata": {},
   "source": [
    "##### 공사비 레코드에 전주 좌표 추가"
   ]
  },
  {
   "cell_type": "code",
   "execution_count": 58,
   "metadata": {},
   "outputs": [
    {
     "data": {
      "text/plain": [
       "(38533, 7)"
      ]
     },
     "execution_count": 58,
     "metadata": {},
     "output_type": "execute_result"
    }
   ],
   "source": [
    "# 전주 데이터에서 좌표 추가를 위해 필요한 컬럼만 추출\n",
    "columns_for_training = [\n",
    "    '공사번호', '전산화번호', 'GISID', \n",
    "    '전주형태코드', '전주종류코드', '전주규격코드', \n",
    "    'X좌표-Y좌표',\n",
    "]\n",
    "df_pole = df_pole[columns_for_training].copy()\n",
    "df_pole.shape"
   ]
  },
  {
   "cell_type": "code",
   "execution_count": 59,
   "metadata": {},
   "outputs": [],
   "source": [
    "# 컬럼명 변경: 사용하기 좋게 영문으로\n",
    "rename_columns = {\n",
    "    '공사번호': 'cons_no', '전산화번호': 'comp_no', 'GISID': 'gisid', \n",
    "    '전주형태코드': 'pole_shape_cd', '전주종류코드': 'pole_type_cd',\n",
    "    '전주규격코드': 'pole_spec_cd','X좌표-Y좌표': 'position'\n",
    "}\n",
    "df_pole.rename(columns=rename_columns, inplace=True)"
   ]
  },
  {
   "cell_type": "code",
   "execution_count": 60,
   "metadata": {},
   "outputs": [
    {
     "data": {
      "text/plain": [
       "(17555, 9)"
      ]
     },
     "execution_count": 60,
     "metadata": {},
     "output_type": "execute_result"
    }
   ],
   "source": [
    "# `position` 컬럼을 이용해 좌표관련 컬럼 추가\n",
    "df_pole[['x', 'y', 'temp1', 'temp2']] = \\\n",
    "    df_pole.position.str.split(',', expand=True)\n",
    "    \n",
    "df_pole.drop(['temp1', 'temp2'], axis=1, inplace=True)\n",
    "\n",
    "# 공사비 데이터셋에 있는 공사번호만 남기고 나머지는 제거\n",
    "df_pole = df_pole[df_pole.cons_no.isin(df_cons.cons_no)]\n",
    "df_pole.shape"
   ]
  },
  {
   "cell_type": "code",
   "execution_count": 61,
   "metadata": {},
   "outputs": [
    {
     "name": "stdout",
     "output_type": "stream",
     "text": [
      "<class 'pandas.core.frame.DataFrame'>\n",
      "Index: 17555 entries, 220 to 38521\n",
      "Data columns (total 9 columns):\n",
      " #   Column         Non-Null Count  Dtype  \n",
      "---  ------         --------------  -----  \n",
      " 0   cons_no        17555 non-null  object \n",
      " 1   comp_no        17555 non-null  object \n",
      " 2   gisid          17555 non-null  int64  \n",
      " 3   pole_shape_cd  17555 non-null  object \n",
      " 4   pole_type_cd   17469 non-null  object \n",
      " 5   pole_spec_cd   17469 non-null  float64\n",
      " 6   position       17555 non-null  object \n",
      " 7   x              17555 non-null  object \n",
      " 8   y              17555 non-null  object \n",
      "dtypes: float64(1), int64(1), object(7)\n",
      "memory usage: 1.3+ MB\n"
     ]
    }
   ],
   "source": [
    "# 컬럼 확인\n",
    "df_pole.info()"
   ]
  },
  {
   "cell_type": "code",
   "execution_count": 62,
   "metadata": {},
   "outputs": [
    {
     "data": {
      "text/plain": [
       "pole_shape_cd\n",
       "O    16995\n",
       "G      474\n",
       "V       86\n",
       "Name: count, dtype: int64"
      ]
     },
     "execution_count": 62,
     "metadata": {},
     "output_type": "execute_result"
    }
   ],
   "source": [
    "df_pole['pole_shape_cd'].value_counts()"
   ]
  },
  {
   "cell_type": "code",
   "execution_count": 63,
   "metadata": {},
   "outputs": [
    {
     "data": {
      "text/plain": [
       "(17555, 11)"
      ]
     },
     "execution_count": 63,
     "metadata": {},
     "output_type": "execute_result"
    }
   ],
   "source": [
    "# OneHot Encoding: `pole_shape_cd` column\n",
    "df_pole = pd.get_dummies(df_pole, columns=['pole_shape_cd'], prefix=['pole_shape'])\n",
    "df_pole.shape"
   ]
  },
  {
   "cell_type": "code",
   "execution_count": 64,
   "metadata": {},
   "outputs": [
    {
     "name": "stdout",
     "output_type": "stream",
     "text": [
      "<class 'pandas.core.frame.DataFrame'>\n",
      "Index: 17555 entries, 220 to 38521\n",
      "Data columns (total 11 columns):\n",
      " #   Column        Non-Null Count  Dtype  \n",
      "---  ------        --------------  -----  \n",
      " 0   cons_no       17555 non-null  object \n",
      " 1   comp_no       17555 non-null  object \n",
      " 2   gisid         17555 non-null  int64  \n",
      " 3   pole_type_cd  17469 non-null  object \n",
      " 4   pole_spec_cd  17469 non-null  float64\n",
      " 5   position      17555 non-null  object \n",
      " 6   x             17555 non-null  object \n",
      " 7   y             17555 non-null  object \n",
      " 8   pole_shape_G  17555 non-null  bool   \n",
      " 9   pole_shape_O  17555 non-null  bool   \n",
      " 10  pole_shape_V  17555 non-null  bool   \n",
      "dtypes: bool(3), float64(1), int64(1), object(6)\n",
      "memory usage: 1.3+ MB\n"
     ]
    }
   ],
   "source": [
    "df_pole.info()"
   ]
  },
  {
   "cell_type": "code",
   "execution_count": 65,
   "metadata": {},
   "outputs": [
    {
     "data": {
      "text/plain": [
       "pole_type_cd\n",
       "C    16185\n",
       "H     1117\n",
       "B      150\n",
       "1       14\n",
       "M        3\n",
       "Name: count, dtype: int64"
      ]
     },
     "execution_count": 65,
     "metadata": {},
     "output_type": "execute_result"
    }
   ],
   "source": [
    "df_pole['pole_type_cd'].value_counts()"
   ]
  },
  {
   "cell_type": "code",
   "execution_count": 66,
   "metadata": {},
   "outputs": [
    {
     "data": {
      "text/plain": [
       "(17555, 15)"
      ]
     },
     "execution_count": 66,
     "metadata": {},
     "output_type": "execute_result"
    }
   ],
   "source": [
    "# OneHot Encoding: `pole_type_cd` column\n",
    "df_pole = pd.get_dummies(df_pole, columns=['pole_type_cd'], prefix=['pole_type'])\n",
    "df_pole.shape"
   ]
  },
  {
   "cell_type": "code",
   "execution_count": 67,
   "metadata": {},
   "outputs": [
    {
     "data": {
      "text/plain": [
       "pole_spec_cd\n",
       "10.0    12238\n",
       "12.0     3685\n",
       "16.0      810\n",
       "14.0      583\n",
       "6.0       150\n",
       "11.0        2\n",
       "8.0         1\n",
       "Name: count, dtype: int64"
      ]
     },
     "execution_count": 67,
     "metadata": {},
     "output_type": "execute_result"
    }
   ],
   "source": [
    "df_pole['pole_spec_cd'].value_counts()"
   ]
  },
  {
   "cell_type": "code",
   "execution_count": 68,
   "metadata": {},
   "outputs": [
    {
     "data": {
      "text/plain": [
       "(17555, 21)"
      ]
     },
     "execution_count": 68,
     "metadata": {},
     "output_type": "execute_result"
    }
   ],
   "source": [
    "# OneHot Encoding: `pole_spec_cd` column\n",
    "df_pole = pd.get_dummies(df_pole, columns=['pole_spec_cd'], prefix=['pole_spec'])\n",
    "df_pole.shape"
   ]
  },
  {
   "cell_type": "code",
   "execution_count": 69,
   "metadata": {},
   "outputs": [
    {
     "name": "stdout",
     "output_type": "stream",
     "text": [
      "<class 'pandas.core.frame.DataFrame'>\n",
      "Index: 17555 entries, 220 to 38521\n",
      "Data columns (total 21 columns):\n",
      " #   Column          Non-Null Count  Dtype \n",
      "---  ------          --------------  ----- \n",
      " 0   cons_no         17555 non-null  object\n",
      " 1   comp_no         17555 non-null  object\n",
      " 2   gisid           17555 non-null  int64 \n",
      " 3   position        17555 non-null  object\n",
      " 4   x               17555 non-null  object\n",
      " 5   y               17555 non-null  object\n",
      " 6   pole_shape_G    17555 non-null  bool  \n",
      " 7   pole_shape_O    17555 non-null  bool  \n",
      " 8   pole_shape_V    17555 non-null  bool  \n",
      " 9   pole_type_1     17555 non-null  bool  \n",
      " 10  pole_type_B     17555 non-null  bool  \n",
      " 11  pole_type_C     17555 non-null  bool  \n",
      " 12  pole_type_H     17555 non-null  bool  \n",
      " 13  pole_type_M     17555 non-null  bool  \n",
      " 14  pole_spec_6.0   17555 non-null  bool  \n",
      " 15  pole_spec_8.0   17555 non-null  bool  \n",
      " 16  pole_spec_10.0  17555 non-null  bool  \n",
      " 17  pole_spec_11.0  17555 non-null  bool  \n",
      " 18  pole_spec_12.0  17555 non-null  bool  \n",
      " 19  pole_spec_14.0  17555 non-null  bool  \n",
      " 20  pole_spec_16.0  17555 non-null  bool  \n",
      "dtypes: bool(15), int64(1), object(5)\n",
      "memory usage: 1.2+ MB\n"
     ]
    }
   ],
   "source": [
    "df_pole.info()"
   ]
  },
  {
   "cell_type": "code",
   "execution_count": 70,
   "metadata": {},
   "outputs": [],
   "source": [
    "# bool형을 int형으로 변환\n",
    "df_pole = df_pole.applymap(lambda x: int(x) if isinstance(x, bool) else x)\n",
    "\n",
    "# str형을 float형으로\n",
    "df_pole['x'] = df_pole['x'].astype(float)\n",
    "df_pole['y'] = df_pole['y'].astype(float)"
   ]
  },
  {
   "cell_type": "code",
   "execution_count": 71,
   "metadata": {},
   "outputs": [
    {
     "name": "stdout",
     "output_type": "stream",
     "text": [
      "<class 'pandas.core.frame.DataFrame'>\n",
      "Index: 17555 entries, 220 to 38521\n",
      "Data columns (total 21 columns):\n",
      " #   Column          Non-Null Count  Dtype  \n",
      "---  ------          --------------  -----  \n",
      " 0   cons_no         17555 non-null  object \n",
      " 1   comp_no         17555 non-null  object \n",
      " 2   gisid           17555 non-null  int64  \n",
      " 3   position        17555 non-null  object \n",
      " 4   x               17555 non-null  float64\n",
      " 5   y               17555 non-null  float64\n",
      " 6   pole_shape_G    17555 non-null  int64  \n",
      " 7   pole_shape_O    17555 non-null  int64  \n",
      " 8   pole_shape_V    17555 non-null  int64  \n",
      " 9   pole_type_1     17555 non-null  int64  \n",
      " 10  pole_type_B     17555 non-null  int64  \n",
      " 11  pole_type_C     17555 non-null  int64  \n",
      " 12  pole_type_H     17555 non-null  int64  \n",
      " 13  pole_type_M     17555 non-null  int64  \n",
      " 14  pole_spec_6.0   17555 non-null  int64  \n",
      " 15  pole_spec_8.0   17555 non-null  int64  \n",
      " 16  pole_spec_10.0  17555 non-null  int64  \n",
      " 17  pole_spec_11.0  17555 non-null  int64  \n",
      " 18  pole_spec_12.0  17555 non-null  int64  \n",
      " 19  pole_spec_14.0  17555 non-null  int64  \n",
      " 20  pole_spec_16.0  17555 non-null  int64  \n",
      "dtypes: float64(2), int64(16), object(3)\n",
      "memory usage: 2.9+ MB\n"
     ]
    }
   ],
   "source": [
    "df_pole.info()"
   ]
  },
  {
   "cell_type": "code",
   "execution_count": 72,
   "metadata": {},
   "outputs": [],
   "source": [
    "filename = 'bc-pole' if MIN_POLE_LINE_COUNTS == 1 else 'bc-pole-2'\n",
    "write_data(filename, df_pole)"
   ]
  },
  {
   "cell_type": "markdown",
   "metadata": {},
   "source": [
    "#### 공사비를 기준으로 한 로우로 만들기"
   ]
  },
  {
   "cell_type": "code",
   "execution_count": 73,
   "metadata": {},
   "outputs": [],
   "source": [
    "cons_no_rows = []\n",
    "unique_cons_no_list = df_pole.cons_no.unique()\n",
    "sum_columns = [col for col in df_pole.columns if col.startswith('pole_')]\n",
    "\n",
    "for cons_no in unique_cons_no_list:\n",
    "    df_temp = df_pole[df_pole.cons_no == cons_no]\n",
    "    cons_no_sum = df_temp[sum_columns].sum().values.tolist()\n",
    "    add_data = [cons_no] + cons_no_sum\n",
    "    cons_no_rows.append(add_data)\n",
    "    \n",
    "df_pole_group = pd.DataFrame(cons_no_rows, columns=['cons_no']+sum_columns)"
   ]
  },
  {
   "cell_type": "code",
   "execution_count": 74,
   "metadata": {},
   "outputs": [],
   "source": [
    "filename = 'bc-pole-group' if MIN_POLE_LINE_COUNTS == 1 else 'bc-pole-group-2'\n",
    "write_data(filename, df_pole_group)"
   ]
  },
  {
   "cell_type": "code",
   "execution_count": 75,
   "metadata": {},
   "outputs": [],
   "source": [
    "df_cons_pole_merge = pd.merge(\n",
    "    df_cons, df_pole_group,\n",
    "    left_on='cons_no', right_on='cons_no', how='left'\n",
    ")"
   ]
  },
  {
   "cell_type": "code",
   "execution_count": 76,
   "metadata": {},
   "outputs": [],
   "source": [
    "filename = 'bc-cons-pole-merge' if MIN_POLE_LINE_COUNTS == 1 else 'bc-cons-pole-merge-2'\n",
    "write_data(filename, df_cons_pole_merge)"
   ]
  },
  {
   "cell_type": "code",
   "execution_count": null,
   "metadata": {},
   "outputs": [],
   "source": []
  }
 ],
 "metadata": {
  "kernelspec": {
   "display_name": "t213p310",
   "language": "python",
   "name": "python3"
  },
  "language_info": {
   "codemirror_mode": {
    "name": "ipython",
    "version": 3
   },
   "file_extension": ".py",
   "mimetype": "text/x-python",
   "name": "python",
   "nbconvert_exporter": "python",
   "pygments_lexer": "ipython3",
   "version": "3.10.12"
  },
  "orig_nbformat": 4
 },
 "nbformat": 4,
 "nbformat_minor": 2
}
