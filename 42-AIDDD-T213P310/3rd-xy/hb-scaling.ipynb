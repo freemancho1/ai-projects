{
 "cells": [
  {
   "cell_type": "code",
   "execution_count": 1,
   "metadata": {},
   "outputs": [
    {
     "name": "stderr",
     "output_type": "stream",
     "text": [
      "2023-09-23 21:37:33.966151: I tensorflow/core/platform/cpu_feature_guard.cc:182] This TensorFlow binary is optimized to use available CPU instructions in performance-critical operations.\n",
      "To enable the following instructions: AVX2 FMA, in other operations, rebuild TensorFlow with the appropriate compiler flags.\n"
     ]
    }
   ],
   "source": [
    "import pandas as pd\n",
    "import tensorflow as tf\n",
    "from datetime import datetime\n",
    "\n",
    "from sklearn.model_selection import train_test_split\n",
    "from sklearn.preprocessing import StandardScaler\n",
    "\n",
    "from bayes_opt import BayesianOptimization\n",
    "from bayes_opt import UtilityFunction\n",
    "\n",
    "import matplotlib.pyplot as plt\n",
    "from freeman.plt_setting import plt_settings\n",
    "from freeman.evaluation import regression_evaluation, f_importances, plot_actual_pred\n",
    "from freeman.aiddd.data_manager import read_data\n",
    "\n",
    "# 한글처리 지원\n",
    "plt_settings()"
   ]
  },
  {
   "cell_type": "code",
   "execution_count": 2,
   "metadata": {},
   "outputs": [],
   "source": [
    "df_X = read_data('fb-scaling-X')\n",
    "df_y = read_data('fb-scaling-y')\n",
    "\n",
    "training_columns = df_X.columns"
   ]
  },
  {
   "cell_type": "code",
   "execution_count": 3,
   "metadata": {},
   "outputs": [],
   "source": [
    "X_train, X_test, y_train, y_test = \\\n",
    "    train_test_split(df_X, df_y, test_size=0.1)"
   ]
  },
  {
   "cell_type": "code",
   "execution_count": 4,
   "metadata": {},
   "outputs": [
    {
     "name": "stdout",
     "output_type": "stream",
     "text": [
      "Model: \"sequential\"\n",
      "_________________________________________________________________\n",
      " Layer (type)                Output Shape              Param #   \n",
      "=================================================================\n",
      " dense (Dense)               (None, 128)               11520     \n",
      "                                                                 \n",
      " dense_1 (Dense)             (None, 64)                8256      \n",
      "                                                                 \n",
      " dense_2 (Dense)             (None, 32)                2080      \n",
      "                                                                 \n",
      " dense_3 (Dense)             (None, 1)                 33        \n",
      "                                                                 \n",
      "=================================================================\n",
      "Total params: 21889 (85.50 KB)\n",
      "Trainable params: 21889 (85.50 KB)\n",
      "Non-trainable params: 0 (0.00 Byte)\n",
      "_________________________________________________________________\n"
     ]
    },
    {
     "name": "stderr",
     "output_type": "stream",
     "text": [
      "2023-09-23 21:38:41.797712: I tensorflow/compiler/xla/stream_executor/cuda/cuda_gpu_executor.cc:995] successful NUMA node read from SysFS had negative value (-1), but there must be at least one NUMA node, so returning NUMA node zero. See more at https://github.com/torvalds/linux/blob/v6.0/Documentation/ABI/testing/sysfs-bus-pci#L344-L355\n",
      "2023-09-23 21:38:41.834025: I tensorflow/compiler/xla/stream_executor/cuda/cuda_gpu_executor.cc:995] successful NUMA node read from SysFS had negative value (-1), but there must be at least one NUMA node, so returning NUMA node zero. See more at https://github.com/torvalds/linux/blob/v6.0/Documentation/ABI/testing/sysfs-bus-pci#L344-L355\n",
      "2023-09-23 21:38:41.834486: I tensorflow/compiler/xla/stream_executor/cuda/cuda_gpu_executor.cc:995] successful NUMA node read from SysFS had negative value (-1), but there must be at least one NUMA node, so returning NUMA node zero. See more at https://github.com/torvalds/linux/blob/v6.0/Documentation/ABI/testing/sysfs-bus-pci#L344-L355\n",
      "2023-09-23 21:38:41.836231: I tensorflow/compiler/xla/stream_executor/cuda/cuda_gpu_executor.cc:995] successful NUMA node read from SysFS had negative value (-1), but there must be at least one NUMA node, so returning NUMA node zero. See more at https://github.com/torvalds/linux/blob/v6.0/Documentation/ABI/testing/sysfs-bus-pci#L344-L355\n",
      "2023-09-23 21:38:41.836523: I tensorflow/compiler/xla/stream_executor/cuda/cuda_gpu_executor.cc:995] successful NUMA node read from SysFS had negative value (-1), but there must be at least one NUMA node, so returning NUMA node zero. See more at https://github.com/torvalds/linux/blob/v6.0/Documentation/ABI/testing/sysfs-bus-pci#L344-L355\n",
      "2023-09-23 21:38:41.836687: I tensorflow/compiler/xla/stream_executor/cuda/cuda_gpu_executor.cc:995] successful NUMA node read from SysFS had negative value (-1), but there must be at least one NUMA node, so returning NUMA node zero. See more at https://github.com/torvalds/linux/blob/v6.0/Documentation/ABI/testing/sysfs-bus-pci#L344-L355\n",
      "2023-09-23 21:38:42.887766: I tensorflow/compiler/xla/stream_executor/cuda/cuda_gpu_executor.cc:995] successful NUMA node read from SysFS had negative value (-1), but there must be at least one NUMA node, so returning NUMA node zero. See more at https://github.com/torvalds/linux/blob/v6.0/Documentation/ABI/testing/sysfs-bus-pci#L344-L355\n",
      "2023-09-23 21:38:42.887927: I tensorflow/compiler/xla/stream_executor/cuda/cuda_gpu_executor.cc:995] successful NUMA node read from SysFS had negative value (-1), but there must be at least one NUMA node, so returning NUMA node zero. See more at https://github.com/torvalds/linux/blob/v6.0/Documentation/ABI/testing/sysfs-bus-pci#L344-L355\n",
      "2023-09-23 21:38:42.888049: I tensorflow/compiler/xla/stream_executor/cuda/cuda_gpu_executor.cc:995] successful NUMA node read from SysFS had negative value (-1), but there must be at least one NUMA node, so returning NUMA node zero. See more at https://github.com/torvalds/linux/blob/v6.0/Documentation/ABI/testing/sysfs-bus-pci#L344-L355\n",
      "2023-09-23 21:38:42.888179: I tensorflow/core/common_runtime/gpu/gpu_device.cc:1639] Created device /job:localhost/replica:0/task:0/device:GPU:0 with 6741 MB memory:  -> device: 0, name: NVIDIA GeForce GTX 1070, pci bus id: 0000:01:00.0, compute capability: 6.1\n"
     ]
    }
   ],
   "source": [
    "model_mlp = tf.keras.Sequential([\n",
    "    tf.keras.layers.Dense(128, activation='relu', input_shape=(X_train.shape[1:])),\n",
    "    tf.keras.layers.Dense(64, activation='relu'),\n",
    "    tf.keras.layers.Dense(32, activation='relu'),\n",
    "    tf.keras.layers.Dense(1)\n",
    "])\n",
    "model_mlp.compile(\n",
    "    optimizer='adam',\n",
    "    loss='mean_squared_error',\n",
    "    metrics=['mae']\n",
    ")\n",
    "model_mlp.summary()"
   ]
  },
  {
   "cell_type": "code",
   "execution_count": 18,
   "metadata": {},
   "outputs": [
    {
     "name": "stdout",
     "output_type": "stream",
     "text": [
      "Epoch 1/50\n",
      "299/299 - 1s - loss: 3603673382912.0000 - mae: 940699.8750 - val_loss: 3920074899456.0000 - val_mae: 978993.7500 - 616ms/epoch - 2ms/step\n",
      "Epoch 2/50\n",
      "299/299 - 1s - loss: 3603711131648.0000 - mae: 938906.0625 - val_loss: 3915519623168.0000 - val_mae: 977250.0625 - 585ms/epoch - 2ms/step\n",
      "Epoch 3/50\n",
      "299/299 - 1s - loss: 3603230359552.0000 - mae: 940010.2500 - val_loss: 3940547035136.0000 - val_mae: 992382.0625 - 583ms/epoch - 2ms/step\n",
      "Epoch 4/50\n",
      "299/299 - 1s - loss: 3605238906880.0000 - mae: 938774.3750 - val_loss: 3932572352512.0000 - val_mae: 989019.7500 - 640ms/epoch - 2ms/step\n",
      "Epoch 5/50\n",
      "299/299 - 1s - loss: 3601452236800.0000 - mae: 941851.6875 - val_loss: 3929795723264.0000 - val_mae: 971858.7500 - 580ms/epoch - 2ms/step\n",
      "Epoch 6/50\n",
      "299/299 - 1s - loss: 3604503855104.0000 - mae: 942951.5625 - val_loss: 3936843726848.0000 - val_mae: 981677.4375 - 616ms/epoch - 2ms/step\n",
      "Epoch 7/50\n",
      "299/299 - 1s - loss: 3601234395136.0000 - mae: 938332.0000 - val_loss: 3936834027520.0000 - val_mae: 971329.6875 - 658ms/epoch - 2ms/step\n",
      "Epoch 8/50\n",
      "299/299 - 1s - loss: 3599735193600.0000 - mae: 941077.5625 - val_loss: 3945764749312.0000 - val_mae: 965075.8125 - 564ms/epoch - 2ms/step\n",
      "Epoch 9/50\n",
      "299/299 - 1s - loss: 3599570305024.0000 - mae: 937204.1250 - val_loss: 3939530964992.0000 - val_mae: 988385.8750 - 564ms/epoch - 2ms/step\n",
      "Epoch 10/50\n",
      "299/299 - 1s - loss: 3600391077888.0000 - mae: 935948.1250 - val_loss: 3965375741952.0000 - val_mae: 999684.6875 - 592ms/epoch - 2ms/step\n",
      "Epoch 11/50\n",
      "299/299 - 1s - loss: 3595944853504.0000 - mae: 945515.3125 - val_loss: 3950781399040.0000 - val_mae: 965691.0625 - 639ms/epoch - 2ms/step\n",
      "Epoch 12/50\n",
      "299/299 - 1s - loss: 3598020771840.0000 - mae: 933697.1875 - val_loss: 3993414139904.0000 - val_mae: 1030662.5625 - 609ms/epoch - 2ms/step\n",
      "Epoch 13/50\n",
      "299/299 - 1s - loss: 3597904904192.0000 - mae: 943022.3125 - val_loss: 3961641500672.0000 - val_mae: 993620.5625 - 576ms/epoch - 2ms/step\n",
      "Epoch 14/50\n",
      "299/299 - 1s - loss: 3593785573376.0000 - mae: 941888.7500 - val_loss: 3966618042368.0000 - val_mae: 973093.0625 - 603ms/epoch - 2ms/step\n",
      "Epoch 15/50\n",
      "299/299 - 1s - loss: 3596622495744.0000 - mae: 936703.0625 - val_loss: 3987627048960.0000 - val_mae: 1004523.4375 - 586ms/epoch - 2ms/step\n",
      "Epoch 16/50\n",
      "299/299 - 1s - loss: 3597373800448.0000 - mae: 944091.1250 - val_loss: 3978260119552.0000 - val_mae: 979978.3750 - 578ms/epoch - 2ms/step\n",
      "Epoch 17/50\n",
      "299/299 - 1s - loss: 3595442061312.0000 - mae: 938892.0000 - val_loss: 3969428488192.0000 - val_mae: 968649.2500 - 617ms/epoch - 2ms/step\n",
      "Epoch 18/50\n",
      "299/299 - 1s - loss: 3593042395136.0000 - mae: 936338.4375 - val_loss: 3980725583872.0000 - val_mae: 994494.8125 - 667ms/epoch - 2ms/step\n",
      "Epoch 19/50\n",
      "299/299 - 1s - loss: 3593004646400.0000 - mae: 938230.7500 - val_loss: 3988707082240.0000 - val_mae: 995100.8125 - 576ms/epoch - 2ms/step\n",
      "Epoch 20/50\n",
      "299/299 - 1s - loss: 3594866393088.0000 - mae: 939167.6250 - val_loss: 3988951400448.0000 - val_mae: 991586.0625 - 573ms/epoch - 2ms/step\n",
      "Epoch 21/50\n",
      "299/299 - 1s - loss: 3590992953344.0000 - mae: 942014.8125 - val_loss: 4000113754112.0000 - val_mae: 986868.1875 - 573ms/epoch - 2ms/step\n",
      "Epoch 22/50\n",
      "299/299 - 1s - loss: 3589974523904.0000 - mae: 938842.8125 - val_loss: 3977475260416.0000 - val_mae: 982982.6250 - 577ms/epoch - 2ms/step\n",
      "Epoch 23/50\n",
      "299/299 - 1s - loss: 3591043284992.0000 - mae: 936232.4375 - val_loss: 4013582974976.0000 - val_mae: 997060.0625 - 573ms/epoch - 2ms/step\n",
      "Epoch 24/50\n",
      "299/299 - 1s - loss: 3591580680192.0000 - mae: 934584.3125 - val_loss: 4005838979072.0000 - val_mae: 1010299.3750 - 579ms/epoch - 2ms/step\n",
      "Epoch 25/50\n",
      "299/299 - 1s - loss: 3589208276992.0000 - mae: 940073.1875 - val_loss: 4046504329216.0000 - val_mae: 1022209.8125 - 575ms/epoch - 2ms/step\n",
      "Epoch 26/50\n",
      "299/299 - 1s - loss: 3588698406912.0000 - mae: 947972.6250 - val_loss: 4010879746048.0000 - val_mae: 965009.3750 - 577ms/epoch - 2ms/step\n",
      "Epoch 27/50\n",
      "299/299 - 1s - loss: 3588049338368.0000 - mae: 934029.7500 - val_loss: 4022457073664.0000 - val_mae: 992991.7500 - 560ms/epoch - 2ms/step\n",
      "Epoch 28/50\n",
      "299/299 - 1s - loss: 3589195169792.0000 - mae: 940173.0625 - val_loss: 4024310956032.0000 - val_mae: 988804.6250 - 576ms/epoch - 2ms/step\n",
      "Epoch 29/50\n",
      "299/299 - 1s - loss: 3586861826048.0000 - mae: 941433.1250 - val_loss: 4015699001344.0000 - val_mae: 970379.8125 - 572ms/epoch - 2ms/step\n",
      "Epoch 30/50\n",
      "299/299 - 1s - loss: 3583263375360.0000 - mae: 934342.5625 - val_loss: 4050845171712.0000 - val_mae: 999876.3125 - 588ms/epoch - 2ms/step\n",
      "Epoch 31/50\n",
      "299/299 - 1s - loss: 3585437073408.0000 - mae: 941444.6250 - val_loss: 4029704568832.0000 - val_mae: 980021.8125 - 591ms/epoch - 2ms/step\n",
      "Epoch 32/50\n",
      "299/299 - 1s - loss: 3583322095616.0000 - mae: 937213.5625 - val_loss: 4027109605376.0000 - val_mae: 986978.7500 - 652ms/epoch - 2ms/step\n",
      "Epoch 33/50\n",
      "299/299 - 1s - loss: 3584695730176.0000 - mae: 940100.8125 - val_loss: 4034245427200.0000 - val_mae: 974077.0000 - 595ms/epoch - 2ms/step\n",
      "Epoch 34/50\n",
      "299/299 - 1s - loss: 3583991349248.0000 - mae: 940046.5000 - val_loss: 4035785523200.0000 - val_mae: 977042.0000 - 623ms/epoch - 2ms/step\n",
      "Epoch 35/50\n",
      "299/299 - 1s - loss: 3584456130560.0000 - mae: 936633.5625 - val_loss: 4048488759296.0000 - val_mae: 970090.7500 - 627ms/epoch - 2ms/step\n",
      "Epoch 36/50\n",
      "299/299 - 1s - loss: 3582897684480.0000 - mae: 934047.3125 - val_loss: 4062624088064.0000 - val_mae: 1010847.9375 - 586ms/epoch - 2ms/step\n",
      "Epoch 37/50\n",
      "299/299 - 1s - loss: 3582951161856.0000 - mae: 939279.6250 - val_loss: 4059027734528.0000 - val_mae: 995501.8750 - 567ms/epoch - 2ms/step\n",
      "Epoch 38/50\n",
      "299/299 - 1s - loss: 3582174429184.0000 - mae: 937674.0625 - val_loss: 4070454067200.0000 - val_mae: 1013205.3125 - 568ms/epoch - 2ms/step\n",
      "Epoch 39/50\n",
      "299/299 - 1s - loss: 3580452405248.0000 - mae: 937267.0000 - val_loss: 4073401352192.0000 - val_mae: 1013366.4375 - 576ms/epoch - 2ms/step\n",
      "Epoch 40/50\n",
      "299/299 - 1s - loss: 3578329038848.0000 - mae: 937254.0625 - val_loss: 4086686547968.0000 - val_mae: 1011090.7500 - 602ms/epoch - 2ms/step\n",
      "Epoch 41/50\n",
      "299/299 - 1s - loss: 3581325869056.0000 - mae: 939547.5625 - val_loss: 4077045415936.0000 - val_mae: 1000765.5625 - 563ms/epoch - 2ms/step\n",
      "Epoch 42/50\n",
      "299/299 - 1s - loss: 3579268562944.0000 - mae: 941539.9375 - val_loss: 4083374096384.0000 - val_mae: 988707.6875 - 573ms/epoch - 2ms/step\n",
      "Epoch 43/50\n",
      "299/299 - 1s - loss: 3579241299968.0000 - mae: 936651.6875 - val_loss: 4086961799168.0000 - val_mae: 985281.0625 - 551ms/epoch - 2ms/step\n",
      "Epoch 44/50\n",
      "299/299 - 1s - loss: 3577736593408.0000 - mae: 936244.6250 - val_loss: 4084767391744.0000 - val_mae: 983080.0000 - 553ms/epoch - 2ms/step\n",
      "Epoch 45/50\n",
      "299/299 - 1s - loss: 3576631918592.0000 - mae: 939602.1250 - val_loss: 4103778861056.0000 - val_mae: 985500.3125 - 590ms/epoch - 2ms/step\n",
      "Epoch 46/50\n",
      "299/299 - 1s - loss: 3575610081280.0000 - mae: 933943.8750 - val_loss: 4102397886464.0000 - val_mae: 998752.5000 - 550ms/epoch - 2ms/step\n",
      "Epoch 47/50\n",
      "299/299 - 1s - loss: 3573808103424.0000 - mae: 943908.3125 - val_loss: 4108670730240.0000 - val_mae: 978798.1250 - 543ms/epoch - 2ms/step\n",
      "Epoch 48/50\n",
      "299/299 - 1s - loss: 3575744299008.0000 - mae: 931295.0625 - val_loss: 4116741095424.0000 - val_mae: 998644.6250 - 542ms/epoch - 2ms/step\n",
      "Epoch 49/50\n",
      "299/299 - 1s - loss: 3574746578944.0000 - mae: 943732.8750 - val_loss: 4127306547200.0000 - val_mae: 982309.9375 - 613ms/epoch - 2ms/step\n",
      "Epoch 50/50\n",
      "299/299 - 1s - loss: 3574915137536.0000 - mae: 932471.8750 - val_loss: 4118846111744.0000 - val_mae: 1000106.3750 - 562ms/epoch - 2ms/step\n"
     ]
    }
   ],
   "source": [
    "history = model_mlp.fit(\n",
    "    X_train, y_train, \n",
    "    epochs=50, verbose=2, validation_split=0.2\n",
    ")"
   ]
  },
  {
   "cell_type": "code",
   "execution_count": 19,
   "metadata": {},
   "outputs": [
    {
     "data": {
      "text/plain": [
       "[4368480075776.0, 1023860.25]"
      ]
     },
     "execution_count": 19,
     "metadata": {},
     "output_type": "execute_result"
    }
   ],
   "source": [
    "model_mlp.evaluate(X_test, y_test, verbose=0)"
   ]
  },
  {
   "cell_type": "code",
   "execution_count": 20,
   "metadata": {},
   "outputs": [
    {
     "name": "stdout",
     "output_type": "stream",
     "text": [
      "R2_SCORE: 0.639007, MAPE: 21.373959, MSE: 4368480348319.840332, RMSE: 2090090.990440, MAE: 1023860.032687\n"
     ]
    }
   ],
   "source": [
    "pred_mlp = model_mlp.predict(X_test, verbose=0)\n",
    "_ = regression_evaluation(y_test, pred_mlp)"
   ]
  },
  {
   "cell_type": "code",
   "execution_count": 21,
   "metadata": {},
   "outputs": [
    {
     "data": {
      "image/png": "[encoded data removed]",
      "text/plain": [
       "<Figure size 640x480 with 1 Axes>"
      ]
     },
     "metadata": {},
     "output_type": "display_data"
    }
   ],
   "source": [
    "loss = history.history['loss']\n",
    "val_loss = history.history['val_loss']\n",
    "\n",
    "# loss와 val_loss 값을 그래프로 그립니다.\n",
    "epochs_range = range(1, len(loss) + 1)\n",
    "plt.plot(epochs_range, loss, label='Training Loss')\n",
    "plt.plot(epochs_range, val_loss, label='Validation Loss')\n",
    "plt.xlabel('Epochs')\n",
    "plt.ylabel('Loss')\n",
    "plt.legend()\n",
    "plt.show()"
   ]
  },
  {
   "cell_type": "code",
   "execution_count": null,
   "metadata": {},
   "outputs": [],
   "source": []
  }
 ],
 "metadata": {
  "kernelspec": {
   "display_name": "t213p310",
   "language": "python",
   "name": "python3"
  },
  "language_info": {
   "codemirror_mode": {
    "name": "ipython",
    "version": 3
   },
   "file_extension": ".py",
   "mimetype": "text/x-python",
   "name": "python",
   "nbconvert_exporter": "python",
   "pygments_lexer": "ipython3",
   "version": "3.10.12"
  },
  "orig_nbformat": 4
 },
 "nbformat": 4,
 "nbformat_minor": 2
}
