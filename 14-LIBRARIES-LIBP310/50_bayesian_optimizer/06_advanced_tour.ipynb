{
 "cells": [
  {
   "cell_type": "markdown",
   "metadata": {},
   "source": [
    "#### 고급 최적화\n",
    "* 1. 제안-평가-등록 패러다임: <br/>\n",
    "`maximize`는 내부적으로 `suggest`, `probe` 및 `register` 메서드를 래핑해 한번에 처리되기 때문에 `최적화 루프에 더 많은 제어가 필요한 경우` 사용할 수 있음."
   ]
  },
  {
   "cell_type": "markdown",
   "metadata": {},
   "source": [
    "#### 라이브러리 불러오기"
   ]
  },
  {
   "cell_type": "code",
   "execution_count": 6,
   "metadata": {},
   "outputs": [],
   "source": [
    "from bayes_opt import UtilityFunction\n",
    "from bayes_opt import BayesianOptimization"
   ]
  },
  {
   "cell_type": "code",
   "execution_count": 4,
   "metadata": {},
   "outputs": [],
   "source": [
    "SEED = 1"
   ]
  },
  {
   "cell_type": "markdown",
   "metadata": {},
   "source": [
    "#### 제안-평가-등록 패러다임"
   ]
  },
  {
   "cell_type": "markdown",
   "metadata": {},
   "source": [
    "##### 기본적인 흐름"
   ]
  },
  {
   "cell_type": "markdown",
   "metadata": {},
   "source": [
    "* 1. 대상함수 지정"
   ]
  },
  {
   "cell_type": "code",
   "execution_count": 1,
   "metadata": {},
   "outputs": [],
   "source": [
    "# 대상함수 정의\n",
    "def black_box_function(x, y):\n",
    "    return -x ** 2 - (y - 1) ** 2 + 1"
   ]
  },
  {
   "cell_type": "markdown",
   "metadata": {},
   "source": [
    "* 2. 대상함수를 특정하지 않는 채, 옵티마이저 지정"
   ]
  },
  {
   "cell_type": "code",
   "execution_count": 5,
   "metadata": {},
   "outputs": [],
   "source": [
    "# 대상함수의 평가가 최적화객체에 의해 수행되지 않음.\n",
    "# 이 함수의 평가가 다른 기계에서도 수행되거나, 다른 언어로 작성되었을 수 있기 때문\n",
    "# `probe` 또는 `maximize` 메서드를 호출하지 않는 한 최적화객체는 대상함수를 무시함\n",
    "\n",
    "optimizer = BayesianOptimization(\n",
    "    f=None,     # 실행할 대상 함수를 직접 지정하지 않음\n",
    "    pbounds={'x': (-2, 2), 'y': (-3, 3)},\n",
    "    verbose=2,\n",
    "    random_state=SEED\n",
    ")"
   ]
  },
  {
   "cell_type": "markdown",
   "metadata": {},
   "source": [
    "* 3. 최적화에 필요한 탐색 및 활용전략 설정"
   ]
  },
  {
   "cell_type": "code",
   "execution_count": 8,
   "metadata": {},
   "outputs": [],
   "source": [
    "# 최적화에 적합한 다양한 탐색 및 활용전략 설정\n",
    "utility = UtilityFunction(\n",
    "    kind='ucb', # 탐색과 활용 사이의 균형 유지, 불확실한 지점을 더 많이 탐색\n",
    "    kappa=2.5,  # UCB전략에서 얼마의 불확실성을 고려할지 지정\n",
    "                # 값이 높으면 탐색을, 값이 낮으면 활용을 강조함\n",
    "    xi=0.0      # 탐색전략에서 사용되는 파라미터로 얼마나 큰 개선을 고려할지 조정\n",
    "                # 값이 높으면 큰 개선을 값이 낮으면 작은 개선을 탐색함\n",
    ")"
   ]
  },
  {
   "cell_type": "markdown",
   "metadata": {},
   "source": [
    "* 4. 다음에 탐색할 매개변수 조합을 확인"
   ]
  },
  {
   "cell_type": "code",
   "execution_count": 10,
   "metadata": {},
   "outputs": [
    {
     "name": "stdout",
     "output_type": "stream",
     "text": [
      "Next point to probe is: {'x': -1.9995425007306205, 'y': -1.1860045642089614}\n"
     ]
    }
   ],
   "source": [
    "# 옵티마이저는 언제는 suggest인자로 utility를 이용해,\n",
    "# 옵티마이저가 다음으로 탐색할 매개변수 조합을 제안할 수 있음\n",
    "next_point_to_probe = optimizer.suggest(utility)\n",
    "print(f'Next point to probe is: {next_point_to_probe}')"
   ]
  },
  {
   "cell_type": "markdown",
   "metadata": {},
   "source": [
    "* 5. 해당 시점에서 대상 함수 평가: 이 부분은 반복 실행됨"
   ]
  },
  {
   "cell_type": "code",
   "execution_count": 12,
   "metadata": {},
   "outputs": [
    {
     "name": "stdout",
     "output_type": "stream",
     "text": [
      "Found the target value to be: -7.776786166970474\n"
     ]
    }
   ],
   "source": [
    "# 이렇게 제안된 지점에서 함수를 자유롭게 평가할 수 있음\n",
    "target = black_box_function(**next_point_to_probe)\n",
    "print(f'Found the target value to be: {target}')"
   ]
  },
  {
   "cell_type": "markdown",
   "metadata": {},
   "source": [
    "* 6. 해당 시점의 관찰된 대상값을 옵티마이저에 등록"
   ]
  },
  {
   "cell_type": "code",
   "execution_count": 13,
   "metadata": {},
   "outputs": [],
   "source": [
    "# 마지막으로 할 일은, 관찰된 대상값을 옵티마이저에 알리는 것(등록)임.\n",
    "optimizer.register(\n",
    "    params=next_point_to_probe,\n",
    "    target=target\n",
    ")"
   ]
  },
  {
   "cell_type": "markdown",
   "metadata": {},
   "source": [
    "##### 최대화 루프\n",
    "위 4~6 단계들을 반복함으로써 최대화 메서드의 내부를 구현"
   ]
  },
  {
   "cell_type": "code",
   "execution_count": 14,
   "metadata": {},
   "outputs": [
    {
     "name": "stdout",
     "output_type": "stream",
     "text": [
      "-6.855238338708555 {'x': 1.971861291575097, 'y': 2.9917332616332803}\n",
      "-6.843971497794797 {'x': 1.9645795986017864, 'y': 2.996095813970973}\n",
      "-4.860694575404144 {'x': 1.364072789628231, 'y': 3.0}\n",
      "-3.806908887203212 {'x': 0.8982810736084849, 'y': 3.0}\n",
      "-0.4627160776045711 {'x': 0.4304199308674709, 'y': 2.1302454426878317}\n",
      "{'target': -0.4627160776045711, 'params': {'x': 0.4304199308674709, 'y': 2.1302454426878317}}\n"
     ]
    }
   ],
   "source": [
    "for _ in range(5):\n",
    "    next_point = optimizer.suggest(utility)\n",
    "    target = black_box_function(**next_point)\n",
    "    optimizer.register(params=next_point, target=target)\n",
    "    print(target, next_point)\n",
    "    \n",
    "print(optimizer.max)"
   ]
  },
  {
   "cell_type": "markdown",
   "metadata": {},
   "source": [
    "#### 불연속 매개변수 처리"
   ]
  },
  {
   "cell_type": "code",
   "execution_count": 17,
   "metadata": {},
   "outputs": [],
   "source": [
    "# 대상함수 생성\n",
    "def func_with_discrete_params(x, y, d):\n",
    "    # 'd'값의 불연속 값(정수) 여부 체크\n",
    "    assert type(d) == int\n",
    "    \n",
    "    return ((x + y + d) // (1 + d)) / (1 + (x + y) ** 2)\n",
    "\n",
    "def function_to_be_optimized(x, y, w):\n",
    "    d = int(w)\n",
    "    return func_with_discrete_params(x, y, d)"
   ]
  },
  {
   "cell_type": "code",
   "execution_count": null,
   "metadata": {},
   "outputs": [],
   "source": []
  }
 ],
 "metadata": {
  "kernelspec": {
   "display_name": "libp310",
   "language": "python",
   "name": "python3"
  },
  "language_info": {
   "codemirror_mode": {
    "name": "ipython",
    "version": 3
   },
   "file_extension": ".py",
   "mimetype": "text/x-python",
   "name": "python",
   "nbconvert_exporter": "python",
   "pygments_lexer": "ipython3",
   "version": "3.10.12"
  },
  "orig_nbformat": 4
 },
 "nbformat": 4,
 "nbformat_minor": 2
}
