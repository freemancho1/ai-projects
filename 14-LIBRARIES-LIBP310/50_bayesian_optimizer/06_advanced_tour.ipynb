{
 "cells": [
  {
   "cell_type": "markdown",
   "metadata": {},
   "source": [
    "#### 고급 최적화\n",
    "* 1. 제안-평가-등록 패러다임: <br/>\n",
    "`maximize`는 내부적으로 `suggest`, `probe` 및 `register` 메서드를 래핑해 한번에 처리되기 때문에 `최적화 루프에 더 많은 제어가 필요한 경우` 사용할 수 있음."
   ]
  },
  {
   "cell_type": "markdown",
   "metadata": {},
   "source": [
    "#### 라이브러리 불러오기"
   ]
  },
  {
   "cell_type": "code",
   "execution_count": 1,
   "metadata": {},
   "outputs": [],
   "source": [
    "from bayes_opt import UtilityFunction\n",
    "from bayes_opt import BayesianOptimization"
   ]
  },
  {
   "cell_type": "code",
   "execution_count": 2,
   "metadata": {},
   "outputs": [],
   "source": [
    "SEED = 1"
   ]
  },
  {
   "cell_type": "markdown",
   "metadata": {},
   "source": [
    "#### 제안-평가-등록 패러다임"
   ]
  },
  {
   "cell_type": "markdown",
   "metadata": {},
   "source": [
    "##### 기본적인 흐름"
   ]
  },
  {
   "cell_type": "markdown",
   "metadata": {},
   "source": [
    "* 1. 대상함수 지정"
   ]
  },
  {
   "cell_type": "code",
   "execution_count": 3,
   "metadata": {},
   "outputs": [],
   "source": [
    "# 대상함수 정의\n",
    "def black_box_function(x, y):\n",
    "    return -x ** 2 - (y - 1) ** 2 + 1"
   ]
  },
  {
   "cell_type": "markdown",
   "metadata": {},
   "source": [
    "* 2. 대상함수를 특정하지 않는 채, 옵티마이저 지정"
   ]
  },
  {
   "cell_type": "code",
   "execution_count": 4,
   "metadata": {},
   "outputs": [],
   "source": [
    "# 대상함수의 평가가 최적화객체에 의해 수행되지 않음.\n",
    "# 이 함수의 평가가 다른 기계에서도 수행되거나, 다른 언어로 작성되었을 수 있기 때문\n",
    "# `probe` 또는 `maximize` 메서드를 호출하지 않는 한 최적화객체는 대상함수를 무시함\n",
    "\n",
    "optimizer = BayesianOptimization(\n",
    "    f=None,     # 실행할 대상 함수를 직접 지정하지 않음\n",
    "    pbounds={'x': (-2, 2), 'y': (-3, 3)},\n",
    "    verbose=2,\n",
    "    random_state=SEED\n",
    ")"
   ]
  },
  {
   "cell_type": "markdown",
   "metadata": {},
   "source": [
    "* 3. 최적화에 필요한 탐색 및 활용전략 설정"
   ]
  },
  {
   "cell_type": "code",
   "execution_count": 5,
   "metadata": {},
   "outputs": [],
   "source": [
    "# 최적화에 적합한 다양한 탐색 및 활용전략 설정\n",
    "utility = UtilityFunction(\n",
    "    kind='ucb', # 탐색과 활용 사이의 균형 유지, 불확실한 지점을 더 많이 탐색\n",
    "    kappa=2.5,  # UCB전략에서 얼마의 불확실성을 고려할지 지정\n",
    "                # 값이 높으면 탐색을, 값이 낮으면 활용을 강조함\n",
    "    xi=0.0      # 탐색전략에서 사용되는 파라미터로 얼마나 큰 개선을 고려할지 조정\n",
    "                # 값이 높으면 큰 개선을 값이 낮으면 작은 개선을 탐색함\n",
    ")"
   ]
  },
  {
   "cell_type": "markdown",
   "metadata": {},
   "source": [
    "* 4. 다음에 탐색할 매개변수 조합을 확인"
   ]
  },
  {
   "cell_type": "code",
   "execution_count": 6,
   "metadata": {},
   "outputs": [
    {
     "name": "stdout",
     "output_type": "stream",
     "text": [
      "Next point to probe is: {'x': -0.331911981189704, 'y': 1.3219469606529488}\n"
     ]
    }
   ],
   "source": [
    "# 옵티마이저는 언제는 suggest인자로 utility를 이용해,\n",
    "# 옵티마이저가 다음으로 탐색할 매개변수 조합을 제안할 수 있음\n",
    "next_point_to_probe = optimizer.suggest(utility)\n",
    "print(f'Next point to probe is: {next_point_to_probe}')"
   ]
  },
  {
   "cell_type": "markdown",
   "metadata": {},
   "source": [
    "* 5. 해당 시점에서 대상 함수 평가: 이 부분은 반복 실행됨"
   ]
  },
  {
   "cell_type": "code",
   "execution_count": 7,
   "metadata": {},
   "outputs": [
    {
     "name": "stdout",
     "output_type": "stream",
     "text": [
      "Found the target value to be: 0.7861845912690542\n"
     ]
    }
   ],
   "source": [
    "# 이렇게 제안된 지점에서 함수를 자유롭게 평가할 수 있음\n",
    "target = black_box_function(**next_point_to_probe)\n",
    "print(f'Found the target value to be: {target}')"
   ]
  },
  {
   "cell_type": "markdown",
   "metadata": {},
   "source": [
    "* 6. 해당 시점의 관찰된 대상값을 옵티마이저에 등록"
   ]
  },
  {
   "cell_type": "code",
   "execution_count": 8,
   "metadata": {},
   "outputs": [],
   "source": [
    "# 마지막으로 할 일은, 관찰된 대상값을 옵티마이저에 알리는 것(등록)임.\n",
    "optimizer.register(\n",
    "    params=next_point_to_probe,\n",
    "    target=target\n",
    ")"
   ]
  },
  {
   "cell_type": "markdown",
   "metadata": {},
   "source": [
    "##### 최대화 루프\n",
    "위 4~6 단계들을 반복함으로써 최대화 메서드의 내부를 구현"
   ]
  },
  {
   "cell_type": "code",
   "execution_count": 9,
   "metadata": {},
   "outputs": [
    {
     "name": "stdout",
     "output_type": "stream",
     "text": [
      "-18.49187152919165 {'x': 1.8861546000771092, 'y': -2.9917780942581977}\n",
      "0.7911494590443674 {'x': -0.31764604716962586, 'y': 1.3285597809731806}\n",
      "-7.0 {'x': -2.0, 'y': 3.0}\n",
      "-7.0 {'x': 2.0, 'y': 3.0}\n",
      "-7.503866469950651 {'x': -2.0, 'y': -1.122231483592365}\n",
      "{'target': 0.7911494590443674, 'params': {'x': -0.31764604716962586, 'y': 1.3285597809731806}}\n"
     ]
    }
   ],
   "source": [
    "for _ in range(5):\n",
    "    next_point = optimizer.suggest(utility)\n",
    "    target = black_box_function(**next_point)\n",
    "    optimizer.register(params=next_point, target=target)\n",
    "    print(target, next_point)\n",
    "    \n",
    "print(optimizer.max)"
   ]
  },
  {
   "cell_type": "markdown",
   "metadata": {},
   "source": [
    "#### 불연속 매개변수 처리"
   ]
  },
  {
   "cell_type": "code",
   "execution_count": 10,
   "metadata": {},
   "outputs": [],
   "source": [
    "# 대상함수 생성\n",
    "def func_with_discrete_params(x, y, d):\n",
    "    # 'd'값의 불연속 값(정수) 여부 체크\n",
    "    assert type(d) == int\n",
    "    \n",
    "    return ((x + y + d) // (1 + d)) / (1 + (x + y) ** 2)\n",
    "\n",
    "def function_to_be_optimized(x, y, w):\n",
    "    d = int(w)\n",
    "    return func_with_discrete_params(x, y, d)"
   ]
  },
  {
   "cell_type": "code",
   "execution_count": 11,
   "metadata": {},
   "outputs": [],
   "source": [
    "optimizer = BayesianOptimization(\n",
    "    f=function_to_be_optimized,\n",
    "    pbounds={'x': (-10, 10), 'y': (-10, 10), 'w': (0, 5)},\n",
    "    verbose=2,\n",
    "    random_state=SEED\n",
    ")"
   ]
  },
  {
   "cell_type": "code",
   "execution_count": 12,
   "metadata": {},
   "outputs": [
    {
     "name": "stdout",
     "output_type": "stream",
     "text": [
      "|   iter    |  target   |     w     |     x     |     y     |\n",
      "-------------------------------------------------------------\n",
      "| \u001b[0m1        \u001b[0m | \u001b[0m-0.06199 \u001b[0m | \u001b[0m2.085    \u001b[0m | \u001b[0m4.406    \u001b[0m | \u001b[0m-9.998   \u001b[0m |\n",
      "| \u001b[95m2        \u001b[0m | \u001b[95m-0.0344  \u001b[0m | \u001b[95m1.512    \u001b[0m | \u001b[95m-7.065   \u001b[0m | \u001b[95m-8.153   \u001b[0m |\n",
      "| \u001b[0m3        \u001b[0m | \u001b[0m-0.2177  \u001b[0m | \u001b[0m0.9313   \u001b[0m | \u001b[0m-3.089   \u001b[0m | \u001b[0m-2.065   \u001b[0m |\n",
      "| \u001b[95m4        \u001b[0m | \u001b[95m0.1865   \u001b[0m | \u001b[95m2.694    \u001b[0m | \u001b[95m-1.616   \u001b[0m | \u001b[95m3.704    \u001b[0m |\n",
      "| \u001b[0m5        \u001b[0m | \u001b[0m-0.2187  \u001b[0m | \u001b[0m1.022    \u001b[0m | \u001b[0m7.562    \u001b[0m | \u001b[0m-9.452   \u001b[0m |\n",
      "| \u001b[95m6        \u001b[0m | \u001b[95m0.1868   \u001b[0m | \u001b[95m2.533    \u001b[0m | \u001b[95m-1.728   \u001b[0m | \u001b[95m3.815    \u001b[0m |\n",
      "| \u001b[0m7        \u001b[0m | \u001b[0m0.05119  \u001b[0m | \u001b[0m3.957    \u001b[0m | \u001b[0m-0.6151  \u001b[0m | \u001b[0m6.785    \u001b[0m |\n",
      "| \u001b[0m8        \u001b[0m | \u001b[0m0.1761   \u001b[0m | \u001b[0m0.5799   \u001b[0m | \u001b[0m1.181    \u001b[0m | \u001b[0m4.054    \u001b[0m |\n",
      "| \u001b[0m9        \u001b[0m | \u001b[0m0.04045  \u001b[0m | \u001b[0m4.004    \u001b[0m | \u001b[0m4.304    \u001b[0m | \u001b[0m2.656    \u001b[0m |\n",
      "| \u001b[0m10       \u001b[0m | \u001b[0m0.07509  \u001b[0m | \u001b[0m0.0      \u001b[0m | \u001b[0m4.843    \u001b[0m | \u001b[0m7.759    \u001b[0m |\n",
      "| \u001b[95m11       \u001b[0m | \u001b[95m0.3512   \u001b[0m | \u001b[95m0.0      \u001b[0m | \u001b[95m-5.713   \u001b[0m | \u001b[95m7.072    \u001b[0m |\n",
      "| \u001b[0m12       \u001b[0m | \u001b[0m-0.8068  \u001b[0m | \u001b[0m0.0      \u001b[0m | \u001b[0m-9.09    \u001b[0m | \u001b[0m8.6      \u001b[0m |\n",
      "| \u001b[95m13       \u001b[0m | \u001b[95m0.3774   \u001b[0m | \u001b[95m0.3974   \u001b[0m | \u001b[95m-4.19    \u001b[0m | \u001b[95m6.263    \u001b[0m |\n",
      "| \u001b[0m14       \u001b[0m | \u001b[0m0.157    \u001b[0m | \u001b[0m0.0      \u001b[0m | \u001b[0m-3.587   \u001b[0m | \u001b[0m8.534    \u001b[0m |\n",
      "| \u001b[0m15       \u001b[0m | \u001b[0m-0.7891  \u001b[0m | \u001b[0m0.4794   \u001b[0m | \u001b[0m-5.536   \u001b[0m | \u001b[0m4.298    \u001b[0m |\n",
      "| \u001b[0m16       \u001b[0m | \u001b[0m0.1176   \u001b[0m | \u001b[0m1.038    \u001b[0m | \u001b[0m-4.671   \u001b[0m | \u001b[0m7.41     \u001b[0m |\n",
      "| \u001b[0m17       \u001b[0m | \u001b[0m0.1815   \u001b[0m | \u001b[0m0.4815   \u001b[0m | \u001b[0m-2.66    \u001b[0m | \u001b[0m6.6      \u001b[0m |\n",
      "| \u001b[0m18       \u001b[0m | \u001b[0m0.08677  \u001b[0m | \u001b[0m1.933    \u001b[0m | \u001b[0m-0.1437  \u001b[0m | \u001b[0m4.839    \u001b[0m |\n",
      "| \u001b[0m19       \u001b[0m | \u001b[0m0.1687   \u001b[0m | \u001b[0m1.139    \u001b[0m | \u001b[0m-0.4706  \u001b[0m | \u001b[0m2.69     \u001b[0m |\n",
      "| \u001b[0m20       \u001b[0m | \u001b[0m0.1133   \u001b[0m | \u001b[0m2.363    \u001b[0m | \u001b[0m1.345    \u001b[0m | \u001b[0m2.736    \u001b[0m |\n",
      "| \u001b[0m21       \u001b[0m | \u001b[0m0.2402   \u001b[0m | \u001b[0m0.0      \u001b[0m | \u001b[0m1.441    \u001b[0m | \u001b[0m1.948    \u001b[0m |\n",
      "| \u001b[0m22       \u001b[0m | \u001b[0m0.1568   \u001b[0m | \u001b[0m0.1824   \u001b[0m | \u001b[0m3.2      \u001b[0m | \u001b[0m2.904    \u001b[0m |\n",
      "| \u001b[0m23       \u001b[0m | \u001b[0m0.2721   \u001b[0m | \u001b[0m0.9722   \u001b[0m | \u001b[0m2.626    \u001b[0m | \u001b[0m0.5404   \u001b[0m |\n",
      "| \u001b[0m24       \u001b[0m | \u001b[0m0.0      \u001b[0m | \u001b[0m1.148    \u001b[0m | \u001b[0m0.7197   \u001b[0m | \u001b[0m0.2261   \u001b[0m |\n",
      "| \u001b[0m25       \u001b[0m | \u001b[0m0.1684   \u001b[0m | \u001b[0m0.0      \u001b[0m | \u001b[0m4.183    \u001b[0m | \u001b[0m0.5873   \u001b[0m |\n",
      "| \u001b[0m26       \u001b[0m | \u001b[0m0.06442  \u001b[0m | \u001b[0m2.276    \u001b[0m | \u001b[0m3.975    \u001b[0m | \u001b[0m-0.1639  \u001b[0m |\n",
      "| \u001b[95m27       \u001b[0m | \u001b[95m0.4397   \u001b[0m | \u001b[95m0.08737  \u001b[0m | \u001b[95m2.66     \u001b[0m | \u001b[95m-1.531   \u001b[0m |\n",
      "| \u001b[0m28       \u001b[0m | \u001b[0m0.2901   \u001b[0m | \u001b[0m0.0      \u001b[0m | \u001b[0m3.913    \u001b[0m | \u001b[0m-2.349   \u001b[0m |\n",
      "| \u001b[0m29       \u001b[0m | \u001b[0m-0.9878  \u001b[0m | \u001b[0m0.0      \u001b[0m | \u001b[0m1.992    \u001b[0m | \u001b[0m-3.004   \u001b[0m |\n",
      "| \u001b[0m30       \u001b[0m | \u001b[0m0.3001   \u001b[0m | \u001b[0m0.2118   \u001b[0m | \u001b[0m3.374    \u001b[0m | \u001b[0m-0.9943  \u001b[0m |\n",
      "=============================================================\n"
     ]
    }
   ],
   "source": [
    "optimizer.set_gp_params(alpha=1e-3)\n",
    "optimizer.maximize()"
   ]
  },
  {
   "cell_type": "markdown",
   "metadata": {},
   "source": [
    "#### 기본 가우시안 프로세스 튜닝\n",
    "* 베이지안 최적화 알고리즘은 관찰된 매개변수 조합과 관련된 목표값을 기반으로 `가우시안 프로세스 회귀를 수행하여 작동`함."
   ]
  },
  {
   "cell_type": "markdown",
   "metadata": {},
   "source": [
    "##### 가우시안 프로세스에 매개변수 전달\n",
    "* 대상 함수에 따라 기본 가우시안 프로세스의 기본 매개변수를 변경하는 것이 유용할 수 있음"
   ]
  },
  {
   "cell_type": "code",
   "execution_count": 13,
   "metadata": {},
   "outputs": [],
   "source": [
    "optimizer = BayesianOptimization(\n",
    "    f=black_box_function,\n",
    "    pbounds={'x': (-2, 2), 'y': (-3, 3)},\n",
    "    verbose=2,\n",
    "    random_state=SEED\n",
    ")\n",
    "# 옵티마이저가 사용할 가우시안 프로세스 모델 구성\n",
    "# alpha: 불확실성 조정(높으면 불확실성이 높아지고, 낮으면 낮아짐(단, 낮으면 과적합우려있음))\n",
    "# n_restarts_optimizer: 가우시안 프로세스 모델 사용시 초기 추정치 시도 횟 수\n",
    "#   높으면 성능은 향상되지만 자원(시간 포함)은 많이 소요됨\n",
    "optimizer.set_gp_params(alpha=1e-3, n_restarts_optimizer=5)"
   ]
  },
  {
   "cell_type": "code",
   "execution_count": 14,
   "metadata": {},
   "outputs": [
    {
     "name": "stdout",
     "output_type": "stream",
     "text": [
      "|   iter    |  target   |     x     |     y     |\n",
      "-------------------------------------------------\n",
      "| \u001b[0m1        \u001b[0m | \u001b[0m0.7862   \u001b[0m | \u001b[0m-0.3319  \u001b[0m | \u001b[0m1.322    \u001b[0m |\n",
      "| \u001b[0m2        \u001b[0m | \u001b[0m-18.49   \u001b[0m | \u001b[0m1.886    \u001b[0m | \u001b[0m-2.992   \u001b[0m |\n",
      "| \u001b[95m3        \u001b[0m | \u001b[95m0.7911   \u001b[0m | \u001b[95m-0.3176  \u001b[0m | \u001b[95m1.329    \u001b[0m |\n",
      "| \u001b[0m4        \u001b[0m | \u001b[0m-6.11    \u001b[0m | \u001b[0m-1.763   \u001b[0m | \u001b[0m3.0      \u001b[0m |\n",
      "| \u001b[0m5        \u001b[0m | \u001b[0m-2.895   \u001b[0m | \u001b[0m1.533    \u001b[0m | \u001b[0m2.243    \u001b[0m |\n",
      "| \u001b[0m6        \u001b[0m | \u001b[0m-4.806   \u001b[0m | \u001b[0m-2.0     \u001b[0m | \u001b[0m-0.3439  \u001b[0m |\n",
      "=================================================\n"
     ]
    }
   ],
   "source": [
    "optimizer.maximize(init_points=1, n_iter=5)"
   ]
  },
  {
   "cell_type": "code",
   "execution_count": null,
   "metadata": {},
   "outputs": [],
   "source": []
  }
 ],
 "metadata": {
  "kernelspec": {
   "display_name": "libp310",
   "language": "python",
   "name": "python3"
  },
  "language_info": {
   "codemirror_mode": {
    "name": "ipython",
    "version": 3
   },
   "file_extension": ".py",
   "mimetype": "text/x-python",
   "name": "python",
   "nbconvert_exporter": "python",
   "pygments_lexer": "ipython3",
   "version": "3.10.12"
  },
  "orig_nbformat": 4
 },
 "nbformat": 4,
 "nbformat_minor": 2
}
