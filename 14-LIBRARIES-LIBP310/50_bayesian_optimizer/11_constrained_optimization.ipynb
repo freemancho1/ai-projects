{
 "cells": [
  {
   "cell_type": "markdown",
   "metadata": {},
   "source": [
    "#### 제한적 최적화\n",
    "제한적 최적화는 최적화시 일부 제약조건을 주는 방법으로, 제약조건을 주는 이유는 아래와 같음\n",
    "* 현실적 제약: 변수가 사람의 나이일 때, 제약조건으로 음수나 200이상을 제거함\n",
    "* 이 밖에 `안전성과 신뢰성`, `비용 최소화`, `권리와 규정준수` 등의 이유로 제한적 최적화를 할 수 있음"
   ]
  },
  {
   "cell_type": "markdown",
   "metadata": {},
   "source": [
    "#### 라이브러리 불러오기"
   ]
  },
  {
   "cell_type": "code",
   "execution_count": 16,
   "metadata": {},
   "outputs": [],
   "source": [
    "import os\n",
    "import numpy as np\n",
    "import bayes_opt as bo\n",
    "\n",
    "import matplotlib.pyplot as plt\n",
    "from scipy.optimize import NonlinearConstraint\n",
    "from datetime import datetime as dt"
   ]
  },
  {
   "cell_type": "markdown",
   "metadata": {},
   "source": [
    "#### 간단한 제약조건이 있는 최적화"
   ]
  },
  {
   "cell_type": "markdown",
   "metadata": {},
   "source": [
    "##### 비교를 위해 제약조건이 없는 함수 생성"
   ]
  },
  {
   "cell_type": "code",
   "execution_count": 3,
   "metadata": {},
   "outputs": [],
   "source": [
    "SEED = 0"
   ]
  },
  {
   "cell_type": "code",
   "execution_count": 2,
   "metadata": {},
   "outputs": [],
   "source": [
    "def black_box_no_constraints(x, y):\n",
    "    return -x ** 2 - (y - 1) ** 2 + 1"
   ]
  },
  {
   "cell_type": "code",
   "execution_count": 9,
   "metadata": {},
   "outputs": [
    {
     "name": "stdout",
     "output_type": "stream",
     "text": [
      "Max values: {'target': -3.000000124830394, 'params': {'x': 2.0, 'y': 0.9996466865497726}}\n",
      "Processing Time: 0:01:08.632292\n"
     ]
    }
   ],
   "source": [
    "pbounds = {'x': (2, 4), 'y': (-3, 3)}\n",
    "\n",
    "_dt_start = dt.now()\n",
    "nc_optimizer = bo.BayesianOptimization(\n",
    "    f=black_box_no_constraints,\n",
    "    pbounds=pbounds,\n",
    "    verbose=0,\n",
    "    random_state=SEED\n",
    ")\n",
    "\n",
    "nc_optimizer.maximize(init_points=2, n_iter=100)\n",
    "\n",
    "print(f'Max values: {nc_optimizer.max}')\n",
    "print(f'Processing Time: {dt.now()-_dt_start}')"
   ]
  },
  {
   "cell_type": "markdown",
   "metadata": {},
   "source": [
    "##### 제약조건 추가\n",
    "* 제약조건: y > x"
   ]
  },
  {
   "cell_type": "code",
   "execution_count": 5,
   "metadata": {},
   "outputs": [],
   "source": [
    "def block_box_with_constraints(x, y):\n",
    "    return -10 if y <= x else -x ** 2 - (y - 1) ** 2 + 1"
   ]
  },
  {
   "cell_type": "code",
   "execution_count": 10,
   "metadata": {},
   "outputs": [
    {
     "name": "stdout",
     "output_type": "stream",
     "text": [
      "Max values: {'target': -4.208073090494202, 'params': {'x': 2.0, 'y': 2.099123783062764}}\n",
      "Processing Time: 0:00:32.348864\n"
     ]
    }
   ],
   "source": [
    "_dt_start = dt.now()\n",
    "wc_optimizer = bo.BayesianOptimization(\n",
    "    f=block_box_with_constraints,\n",
    "    pbounds=pbounds,\n",
    "    verbose=0,\n",
    "    random_state=SEED\n",
    ")\n",
    "\n",
    "wc_optimizer.maximize(init_points=2, n_iter=100)\n",
    "\n",
    "print(f'Max values: {wc_optimizer.max}')\n",
    "print(f'Processing Time: {dt.now()-_dt_start}')"
   ]
  },
  {
   "cell_type": "markdown",
   "metadata": {},
   "source": [
    "##### 또 다른 제약조건 추가\n",
    "* 제약조건: x + y = 4 (y = 4 - x)"
   ]
  },
  {
   "cell_type": "code",
   "execution_count": 14,
   "metadata": {},
   "outputs": [
    {
     "name": "stdout",
     "output_type": "stream",
     "text": [
      "\u001b[91mData point [2.] is not unique. 1 duplicates registered. Continuing ...\u001b[0m\n",
      "\u001b[91mData point [2.] is not unique. 2 duplicates registered. Continuing ...\u001b[0m\n",
      "\u001b[91mData point [2.] is not unique. 3 duplicates registered. Continuing ...\u001b[0m\n",
      "\u001b[91mData point [2.] is not unique. 4 duplicates registered. Continuing ...\u001b[0m\n",
      "\u001b[91mData point [2.] is not unique. 5 duplicates registered. Continuing ...\u001b[0m\n",
      "\u001b[91mData point [2.] is not unique. 6 duplicates registered. Continuing ...\u001b[0m\n",
      "\u001b[91mData point [2.] is not unique. 7 duplicates registered. Continuing ...\u001b[0m\n",
      "\u001b[91mData point [2.] is not unique. 8 duplicates registered. Continuing ...\u001b[0m\n",
      "\u001b[91mData point [2.] is not unique. 9 duplicates registered. Continuing ...\u001b[0m\n",
      "\u001b[91mData point [2.] is not unique. 10 duplicates registered. Continuing ...\u001b[0m\n",
      "\u001b[91mData point [2.] is not unique. 11 duplicates registered. Continuing ...\u001b[0m\n",
      "\u001b[91mData point [2.] is not unique. 12 duplicates registered. Continuing ...\u001b[0m\n",
      "\u001b[91mData point [2.] is not unique. 13 duplicates registered. Continuing ...\u001b[0m\n",
      "\u001b[91mData point [2.] is not unique. 14 duplicates registered. Continuing ...\u001b[0m\n",
      "\u001b[91mData point [2.] is not unique. 15 duplicates registered. Continuing ...\u001b[0m\n",
      "\u001b[91mData point [2.] is not unique. 16 duplicates registered. Continuing ...\u001b[0m\n",
      "\u001b[91mData point [2.] is not unique. 17 duplicates registered. Continuing ...\u001b[0m\n",
      "\u001b[91mData point [2.] is not unique. 18 duplicates registered. Continuing ...\u001b[0m\n",
      "\u001b[91mData point [2.] is not unique. 19 duplicates registered. Continuing ...\u001b[0m\n",
      "\u001b[91mData point [2.] is not unique. 20 duplicates registered. Continuing ...\u001b[0m\n",
      "\u001b[91mData point [2.] is not unique. 21 duplicates registered. Continuing ...\u001b[0m\n",
      "\u001b[91mData point [2.] is not unique. 22 duplicates registered. Continuing ...\u001b[0m\n",
      "\u001b[91mData point [2.] is not unique. 23 duplicates registered. Continuing ...\u001b[0m\n",
      "\u001b[91mData point [2.] is not unique. 24 duplicates registered. Continuing ...\u001b[0m\n",
      "\u001b[91mData point [2.] is not unique. 25 duplicates registered. Continuing ...\u001b[0m\n",
      "\u001b[91mData point [2.] is not unique. 26 duplicates registered. Continuing ...\u001b[0m\n",
      "\u001b[91mData point [2.] is not unique. 27 duplicates registered. Continuing ...\u001b[0m\n",
      "\u001b[91mData point [2.] is not unique. 28 duplicates registered. Continuing ...\u001b[0m\n",
      "\u001b[91mData point [2.] is not unique. 29 duplicates registered. Continuing ...\u001b[0m\n",
      "\u001b[91mData point [2.] is not unique. 30 duplicates registered. Continuing ...\u001b[0m\n",
      "\u001b[91mData point [2.] is not unique. 31 duplicates registered. Continuing ...\u001b[0m\n",
      "\u001b[91mData point [2.] is not unique. 32 duplicates registered. Continuing ...\u001b[0m\n",
      "\u001b[91mData point [2.] is not unique. 33 duplicates registered. Continuing ...\u001b[0m\n",
      "\u001b[91mData point [2.] is not unique. 34 duplicates registered. Continuing ...\u001b[0m\n",
      "\u001b[91mData point [2.] is not unique. 35 duplicates registered. Continuing ...\u001b[0m\n",
      "\u001b[91mData point [2.] is not unique. 36 duplicates registered. Continuing ...\u001b[0m\n",
      "\u001b[91mData point [2.] is not unique. 37 duplicates registered. Continuing ...\u001b[0m\n",
      "\u001b[91mData point [2.] is not unique. 38 duplicates registered. Continuing ...\u001b[0m\n",
      "\u001b[91mData point [2.] is not unique. 39 duplicates registered. Continuing ...\u001b[0m\n",
      "\u001b[91mData point [2.] is not unique. 40 duplicates registered. Continuing ...\u001b[0m\n",
      "\u001b[91mData point [2.] is not unique. 41 duplicates registered. Continuing ...\u001b[0m\n",
      "\u001b[91mData point [2.] is not unique. 42 duplicates registered. Continuing ...\u001b[0m\n",
      "\u001b[91mData point [2.] is not unique. 43 duplicates registered. Continuing ...\u001b[0m\n",
      "\u001b[91mData point [2.] is not unique. 44 duplicates registered. Continuing ...\u001b[0m\n",
      "\u001b[91mData point [2.] is not unique. 45 duplicates registered. Continuing ...\u001b[0m\n",
      "\u001b[91mData point [2.] is not unique. 46 duplicates registered. Continuing ...\u001b[0m\n",
      "\u001b[91mData point [2.] is not unique. 47 duplicates registered. Continuing ...\u001b[0m\n",
      "\u001b[91mData point [2.] is not unique. 48 duplicates registered. Continuing ...\u001b[0m\n",
      "\u001b[91mData point [2.] is not unique. 49 duplicates registered. Continuing ...\u001b[0m\n",
      "\u001b[91mData point [2.] is not unique. 50 duplicates registered. Continuing ...\u001b[0m\n",
      "\u001b[91mData point [2.] is not unique. 51 duplicates registered. Continuing ...\u001b[0m\n",
      "\u001b[91mData point [2.] is not unique. 52 duplicates registered. Continuing ...\u001b[0m\n",
      "\u001b[91mData point [2.] is not unique. 53 duplicates registered. Continuing ...\u001b[0m\n",
      "\u001b[91mData point [2.] is not unique. 54 duplicates registered. Continuing ...\u001b[0m\n",
      "\u001b[91mData point [2.] is not unique. 55 duplicates registered. Continuing ...\u001b[0m\n",
      "\u001b[91mData point [2.] is not unique. 56 duplicates registered. Continuing ...\u001b[0m\n",
      "\u001b[91mData point [2.] is not unique. 57 duplicates registered. Continuing ...\u001b[0m\n",
      "\u001b[91mData point [2.] is not unique. 58 duplicates registered. Continuing ...\u001b[0m\n",
      "\u001b[91mData point [2.] is not unique. 59 duplicates registered. Continuing ...\u001b[0m\n",
      "\u001b[91mData point [2.] is not unique. 60 duplicates registered. Continuing ...\u001b[0m\n",
      "\u001b[91mData point [2.] is not unique. 61 duplicates registered. Continuing ...\u001b[0m\n",
      "\u001b[91mData point [2.] is not unique. 62 duplicates registered. Continuing ...\u001b[0m\n",
      "\u001b[91mData point [2.] is not unique. 63 duplicates registered. Continuing ...\u001b[0m\n",
      "\u001b[91mData point [2.] is not unique. 64 duplicates registered. Continuing ...\u001b[0m\n",
      "\u001b[91mData point [2.] is not unique. 65 duplicates registered. Continuing ...\u001b[0m\n",
      "\u001b[91mData point [2.] is not unique. 66 duplicates registered. Continuing ...\u001b[0m\n",
      "\u001b[91mData point [2.] is not unique. 67 duplicates registered. Continuing ...\u001b[0m\n",
      "\u001b[91mData point [2.] is not unique. 68 duplicates registered. Continuing ...\u001b[0m\n",
      "\u001b[91mData point [2.] is not unique. 69 duplicates registered. Continuing ...\u001b[0m\n",
      "\u001b[91mData point [2.] is not unique. 70 duplicates registered. Continuing ...\u001b[0m\n",
      "\u001b[91mData point [2.] is not unique. 71 duplicates registered. Continuing ...\u001b[0m\n",
      "\u001b[91mData point [2.] is not unique. 72 duplicates registered. Continuing ...\u001b[0m\n",
      "\u001b[91mData point [2.] is not unique. 73 duplicates registered. Continuing ...\u001b[0m\n",
      "\u001b[91mData point [2.] is not unique. 74 duplicates registered. Continuing ...\u001b[0m\n",
      "\u001b[91mData point [2.] is not unique. 75 duplicates registered. Continuing ...\u001b[0m\n",
      "\u001b[91mData point [2.] is not unique. 76 duplicates registered. Continuing ...\u001b[0m\n",
      "\u001b[91mData point [2.] is not unique. 77 duplicates registered. Continuing ...\u001b[0m\n",
      "\u001b[91mData point [2.] is not unique. 78 duplicates registered. Continuing ...\u001b[0m\n",
      "\u001b[91mData point [2.] is not unique. 79 duplicates registered. Continuing ...\u001b[0m\n",
      "\u001b[91mData point [2.] is not unique. 80 duplicates registered. Continuing ...\u001b[0m\n",
      "\u001b[91mData point [2.] is not unique. 81 duplicates registered. Continuing ...\u001b[0m\n",
      "\u001b[91mData point [2.] is not unique. 82 duplicates registered. Continuing ...\u001b[0m\n",
      "\u001b[91mData point [2.] is not unique. 83 duplicates registered. Continuing ...\u001b[0m\n",
      "\u001b[91mData point [2.] is not unique. 84 duplicates registered. Continuing ...\u001b[0m\n",
      "\u001b[91mData point [2.] is not unique. 85 duplicates registered. Continuing ...\u001b[0m\n",
      "\u001b[91mData point [2.] is not unique. 86 duplicates registered. Continuing ...\u001b[0m\n",
      "\u001b[91mData point [2.] is not unique. 87 duplicates registered. Continuing ...\u001b[0m\n",
      "\u001b[91mData point [2.] is not unique. 88 duplicates registered. Continuing ...\u001b[0m\n",
      "\u001b[91mData point [2.] is not unique. 89 duplicates registered. Continuing ...\u001b[0m\n",
      "\u001b[91mData point [2.] is not unique. 90 duplicates registered. Continuing ...\u001b[0m\n",
      "\u001b[91mData point [2.] is not unique. 91 duplicates registered. Continuing ...\u001b[0m\n",
      "\u001b[91mData point [2.] is not unique. 92 duplicates registered. Continuing ...\u001b[0m\n",
      "\u001b[91mData point [2.] is not unique. 93 duplicates registered. Continuing ...\u001b[0m\n",
      "\u001b[91mData point [2.] is not unique. 94 duplicates registered. Continuing ...\u001b[0m\n",
      "\u001b[91mData point [2.] is not unique. 95 duplicates registered. Continuing ...\u001b[0m\n",
      "Max values: {'target': -4.0, 'params': {'x': 2.0}}\n",
      "Processing Time: 0:00:50.308580\n"
     ]
    }
   ],
   "source": [
    "def surrogate_func(x):\n",
    "    return black_box_no_constraints(x, 4-x)\n",
    "\n",
    "pbounds = {'x': (2, 4)}\n",
    "\n",
    "_dt_start = dt.now()\n",
    "\n",
    "nc2_optimizer = bo.BayesianOptimization(\n",
    "    f=surrogate_func,\n",
    "    pbounds=pbounds,\n",
    "    allow_duplicate_points=True,\n",
    "    verbose=0,\n",
    "    random_state=SEED\n",
    ")\n",
    "\n",
    "nc2_optimizer.maximize(init_points=2, n_iter=100)\n",
    "\n",
    "print(f'Max values: {nc2_optimizer.max}')\n",
    "print(f'Processing Time: {dt.now()-_dt_start}')"
   ]
  },
  {
   "cell_type": "markdown",
   "metadata": {},
   "source": [
    "#### 고급 제약조건을 포함한 최적화\n",
    "* 가우시안 프로세스로 모델링하여 최적화를 구성"
   ]
  },
  {
   "cell_type": "markdown",
   "metadata": {},
   "source": [
    "##### 간단한 하나의 제약조건"
   ]
  },
  {
   "cell_type": "code",
   "execution_count": 17,
   "metadata": {},
   "outputs": [],
   "source": [
    "def target_function(x, y):\n",
    "    return np.cos(2*x) * np.cos(y) + np.sin(x)\n",
    "\n",
    "def constraint_function(x, y):\n",
    "    return np.cos(x) * np.cos(y) - np.sin(x) * np.sin(y)\n",
    "\n",
    "constraint_limit = 0.5"
   ]
  },
  {
   "cell_type": "code",
   "execution_count": 18,
   "metadata": {},
   "outputs": [],
   "source": [
    "# 여기서부터는 잘 이해가 안되네;;;"
   ]
  },
  {
   "cell_type": "code",
   "execution_count": null,
   "metadata": {},
   "outputs": [],
   "source": []
  }
 ],
 "metadata": {
  "kernelspec": {
   "display_name": "libp310",
   "language": "python",
   "name": "python3"
  },
  "language_info": {
   "codemirror_mode": {
    "name": "ipython",
    "version": 3
   },
   "file_extension": ".py",
   "mimetype": "text/x-python",
   "name": "python",
   "nbconvert_exporter": "python",
   "pygments_lexer": "ipython3",
   "version": "3.10.12"
  },
  "orig_nbformat": 4
 },
 "nbformat": 4,
 "nbformat_minor": 2
}
