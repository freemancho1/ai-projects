{
 "cells": [
  {
   "cell_type": "markdown",
   "metadata": {},
   "source": [
    "#### 라이브러리 불러오기"
   ]
  },
  {
   "cell_type": "code",
   "execution_count": 14,
   "metadata": {},
   "outputs": [],
   "source": [
    "import os\n",
    "import bayes_opt as bo"
   ]
  },
  {
   "cell_type": "markdown",
   "metadata": {},
   "source": [
    "#### 최적화 대상 함수 생성"
   ]
  },
  {
   "cell_type": "code",
   "execution_count": 2,
   "metadata": {},
   "outputs": [],
   "source": [
    "def black_box_func(x, y):\n",
    "    return -x ** 2 - (y - 1) ** 2 + 1"
   ]
  },
  {
   "cell_type": "markdown",
   "metadata": {},
   "source": [
    "#### 최적화\n",
    "\n",
    "##### 준비물\n",
    "* 최적화 대상 함수\n",
    "* 해당 함수의 매개변수 및 매개변수의 min/max값(경계)"
   ]
  },
  {
   "cell_type": "code",
   "execution_count": 3,
   "metadata": {},
   "outputs": [],
   "source": [
    "SEED = 1"
   ]
  },
  {
   "cell_type": "code",
   "execution_count": 4,
   "metadata": {},
   "outputs": [],
   "source": [
    "# 매개변수 경계(min/max) 설정\n",
    "pbounds = {\n",
    "    'x': (-2, 4), \n",
    "    'y': (-3, 3)\n",
    "}"
   ]
  },
  {
   "cell_type": "markdown",
   "metadata": {},
   "source": [
    "##### 최적화 객체 생성"
   ]
  },
  {
   "cell_type": "code",
   "execution_count": 5,
   "metadata": {},
   "outputs": [],
   "source": [
    "optimizer = bo.BayesianOptimization(\n",
    "    f=black_box_func,       # 최적화 대상 함수\n",
    "    pbounds=pbounds,        # parameters bounds\n",
    "    verbose=2,              # 0: 아무것도 출력 안함, \n",
    "                            # 1: 최대값이 관찰된 경우만 출력\n",
    "                            # 2: 모두 출력\n",
    "    random_state=SEED\n",
    ")"
   ]
  },
  {
   "cell_type": "markdown",
   "metadata": {},
   "source": [
    "##### 최적화 실행\n",
    "* maximize()함수는 최대값을 찾는 최적화 함수이며, \n",
    "* 최소값을 찾기 위해서는 대상 함수의 리턴값을 '-'처리해 사용한는 방식으로 처리됨\n",
    "* (대상함수의 값을 변경할 수 없는 경우에는 어떻게 해야 할지는 나중에 검토)\n",
    "\n",
    "###### 주요 인자\n",
    "* n_iter: 몇 단계의 최적화를 수행할 지 결정(단계가 많을 수록 성능이 좋아짐)\n",
    "* init_points: 무작위 탐사 지점 설정(탐사 공간을 다양화 해줌, 성능 좋아짐)"
   ]
  },
  {
   "cell_type": "code",
   "execution_count": 6,
   "metadata": {},
   "outputs": [
    {
     "name": "stdout",
     "output_type": "stream",
     "text": [
      "|   iter    |  target   |     x     |     y     |\n",
      "-------------------------------------------------\n",
      "| \u001b[0m1        \u001b[0m | \u001b[0m0.6442   \u001b[0m | \u001b[0m0.5021   \u001b[0m | \u001b[0m1.322    \u001b[0m |\n",
      "| \u001b[0m2        \u001b[0m | \u001b[0m-7.776   \u001b[0m | \u001b[0m-1.999   \u001b[0m | \u001b[0m-1.186   \u001b[0m |\n",
      "| \u001b[0m3        \u001b[0m | \u001b[0m0.5467   \u001b[0m | \u001b[0m0.4431   \u001b[0m | \u001b[0m1.507    \u001b[0m |\n",
      "| \u001b[0m4        \u001b[0m | \u001b[0m-10.83   \u001b[0m | \u001b[0m3.392    \u001b[0m | \u001b[0m1.571    \u001b[0m |\n",
      "| \u001b[0m5        \u001b[0m | \u001b[0m-4.254   \u001b[0m | \u001b[0m-1.697   \u001b[0m | \u001b[0m2.541    \u001b[0m |\n",
      "=================================================\n"
     ]
    }
   ],
   "source": [
    "optimizer.maximize(init_points=2, n_iter=3)"
   ]
  },
  {
   "cell_type": "markdown",
   "metadata": {},
   "source": [
    "##### 최적화 결과 확인"
   ]
  },
  {
   "cell_type": "markdown",
   "metadata": {},
   "source": [
    "* 최적화 값 확인"
   ]
  },
  {
   "cell_type": "code",
   "execution_count": 7,
   "metadata": {},
   "outputs": [
    {
     "name": "stdout",
     "output_type": "stream",
     "text": [
      "{'target': 0.6442135807665734, 'params': {'x': 0.5021320282154438, 'y': 1.3219469606529488}}\n"
     ]
    }
   ],
   "source": [
    "print(optimizer.max)"
   ]
  },
  {
   "cell_type": "markdown",
   "metadata": {},
   "source": [
    "* 최적화 작업중 검색된 모든 매개변수 목록 조회"
   ]
  },
  {
   "cell_type": "code",
   "execution_count": 8,
   "metadata": {},
   "outputs": [
    {
     "name": "stdout",
     "output_type": "stream",
     "text": [
      "Iter 0: {'target': 0.6442135807665734, 'params': {'x': 0.5021320282154438, 'y': 1.3219469606529488}}\n",
      "Iter 1: {'target': -7.775871430063692, 'params': {'x': -1.9993137510959307, 'y': -1.1860045642089614}}\n",
      "Iter 2: {'target': 0.5467184507933587, 'params': {'x': 0.4430853409709734, 'y': 1.506909192877065}}\n",
      "Iter 3: {'target': -10.832958608004521, 'params': {'x': 3.39212390625311, 'y': 1.571361542834887}}\n",
      "Iter 4: {'target': -4.253669151873698, 'params': {'x': -1.696700151823901, 'y': 2.5410638360153834}}\n"
     ]
    }
   ],
   "source": [
    "for idx, res in enumerate(optimizer.res):\n",
    "    print(f'Iter {idx}: {res}')"
   ]
  },
  {
   "cell_type": "markdown",
   "metadata": {},
   "source": [
    "#### 최적화 파라메터 값 변경"
   ]
  },
  {
   "cell_type": "code",
   "execution_count": 9,
   "metadata": {},
   "outputs": [
    {
     "name": "stdout",
     "output_type": "stream",
     "text": [
      "|   iter    |  target   |     x     |     y     |\n",
      "-------------------------------------------------\n",
      "| \u001b[0m6        \u001b[0m | \u001b[0m-4.269   \u001b[0m | \u001b[0m1.118    \u001b[0m | \u001b[0m-1.005   \u001b[0m |\n",
      "| \u001b[95m7        \u001b[0m | \u001b[95m0.6502   \u001b[0m | \u001b[95m-0.5735  \u001b[0m | \u001b[95m0.8556   \u001b[0m |\n",
      "| \u001b[0m8        \u001b[0m | \u001b[0m-24.0    \u001b[0m | \u001b[0m3.0      \u001b[0m | \u001b[0m-3.0     \u001b[0m |\n"
     ]
    },
    {
     "name": "stdout",
     "output_type": "stream",
     "text": [
      "| \u001b[0m9        \u001b[0m | \u001b[0m-4.563   \u001b[0m | \u001b[0m1.25     \u001b[0m | \u001b[0m3.0      \u001b[0m |\n",
      "| \u001b[0m10       \u001b[0m | \u001b[0m-0.2753  \u001b[0m | \u001b[0m-0.01698 \u001b[0m | \u001b[0m-0.1291  \u001b[0m |\n",
      "=================================================\n"
     ]
    }
   ],
   "source": [
    "# 파레메터 값 변경\n",
    "optimizer.set_bounds(new_bounds={'x': (-2, 3)})\n",
    "# 최적화 수행 방법 변경\n",
    "optimizer.maximize(init_points=0, n_iter=5)"
   ]
  },
  {
   "cell_type": "markdown",
   "metadata": {},
   "source": [
    "#### 유추 가능한 파라메터 적용\n",
    "* 이 부분이 오류가 있어 잠시 주석처리\n",
    "* 대상 함수의 최댓값이 있는 매개변수 공간(범위)에 대한 예측이 가능한 경우, 옵티마이져가 특정 지점을 조사하도록 지정 가능"
   ]
  },
  {
   "cell_type": "code",
   "execution_count": 10,
   "metadata": {},
   "outputs": [],
   "source": [
    "# optimizer.probe(\n",
    "#     params={'x': 0.5, 'y': 0.7},\n",
    "#     # 바로 실행되지 않고 다음 maximize()가 실행될 때 실행됨\n",
    "#     lazy=True,          \n",
    "# )"
   ]
  },
  {
   "cell_type": "markdown",
   "metadata": {},
   "source": [
    "* 또는 변수없이 바로 사용 가능"
   ]
  },
  {
   "cell_type": "code",
   "execution_count": 11,
   "metadata": {},
   "outputs": [],
   "source": [
    "# 변수 확인\n",
    "# optimizer.space.keys"
   ]
  },
  {
   "cell_type": "code",
   "execution_count": 12,
   "metadata": {},
   "outputs": [],
   "source": [
    "# 위 Key 순서대로 입력\n",
    "# optimizer.probe(params=[0.5, 0.7], lazy=True)"
   ]
  },
  {
   "cell_type": "markdown",
   "metadata": {},
   "source": [
    "* 최적화 실행"
   ]
  },
  {
   "cell_type": "code",
   "execution_count": 13,
   "metadata": {},
   "outputs": [],
   "source": [
    "# optimizer.maximize(int_points=0, n_iter=0)"
   ]
  },
  {
   "cell_type": "markdown",
   "metadata": {},
   "source": [
    "#### 로그 저장\n",
    "일반적으로 객체 선언시 `verbose>0`으로 하여 진행사항을 확인할 수 있지만, 로깅 및 알림에 대한 더 많은 제어가 필요한 경우 `옵저버`를 사용할 수 있음(자세한 사항은 고급편에서 다름).<br/>\n",
    "여기서는, 간단하게 파일에 진행사항을 저장하고 로드하는 `JSONLogger 객체 사용법`만 설명함.\n",
    "\n",
    "> 로깅을 위한 `옵저버`의 동작원리:\n",
    "* 옵저버 인스턴스 생성\n",
    "* 옵티마이저는 특정 상황을 이벤트로 발송하면 옵저버가 수신함"
   ]
  },
  {
   "cell_type": "code",
   "execution_count": 15,
   "metadata": {},
   "outputs": [],
   "source": [
    "LOG_FILE_PATH = os.path.join(os.getcwd(), 'logs', '01_basic_ture.log.json')\n",
    "logger = bo.logger.JSONLogger(path=LOG_FILE_PATH)"
   ]
  },
  {
   "cell_type": "code",
   "execution_count": 18,
   "metadata": {},
   "outputs": [],
   "source": [
    "# 옵티마이저는 새 매개변수-타겟 조합을 얻을 때 마다 \n",
    "# 'Events.OPTIMIZATION_STEP' 이벤트를 발생\n",
    "# 일반적인 로그는 이 정도면 됨.\n",
    "\n",
    "# 즉 로그저장 객체를 만들고, 옵티마이져에 등록하면, \n",
    "# 이후 수행되는 optimizer에서 해당 이벤트가 발생하면 로그에 저장됨\n",
    "optimizer.subscribe(bo.event.Events.OPTIMIZATION_STEP, logger)"
   ]
  },
  {
   "cell_type": "code",
   "execution_count": 19,
   "metadata": {},
   "outputs": [
    {
     "name": "stdout",
     "output_type": "stream",
     "text": [
      "|   iter    |  target   |     x     |     y     |\n",
      "-------------------------------------------------\n",
      "| \u001b[0m11       \u001b[0m | \u001b[0m-12.48   \u001b[0m | \u001b[0m-1.266   \u001b[0m | \u001b[0m-2.446   \u001b[0m |\n",
      "| \u001b[0m12       \u001b[0m | \u001b[0m-3.854   \u001b[0m | \u001b[0m-1.069   \u001b[0m | \u001b[0m-0.9266  \u001b[0m |\n",
      "| \u001b[95m13       \u001b[0m | \u001b[95m0.9851   \u001b[0m | \u001b[95m-0.03702 \u001b[0m | \u001b[95m1.116    \u001b[0m |\n",
      "| \u001b[0m14       \u001b[0m | \u001b[0m0.5063   \u001b[0m | \u001b[0m-0.4385  \u001b[0m | \u001b[0m1.549    \u001b[0m |\n",
      "| \u001b[0m15       \u001b[0m | \u001b[0m0.7965   \u001b[0m | \u001b[0m0.3043   \u001b[0m | \u001b[0m0.6669   \u001b[0m |\n",
      "=================================================\n"
     ]
    }
   ],
   "source": [
    "# 로그 저장을 위해 optimizer 실행\n",
    "optimizer.maximize(init_points=2, n_iter=3)"
   ]
  },
  {
   "cell_type": "markdown",
   "metadata": {},
   "source": [
    "#### 로그 불러오기\n",
    "로그를 불러올 때는 새로운 옵티마이저로 불러오며, 옵티마이저를 정의할 때 기존 옵티마이저와 동일하게 작성하지 않아도 됨"
   ]
  },
  {
   "cell_type": "code",
   "execution_count": 21,
   "metadata": {},
   "outputs": [],
   "source": [
    "new_optimizer = bo.BayesianOptimization(\n",
    "    f=black_box_func,\n",
    "    pbounds={'x': (-2, 2), 'y': (-2, 2)},\n",
    "    verbose=2,\n",
    "    random_state=SEED\n",
    ")"
   ]
  },
  {
   "cell_type": "code",
   "execution_count": 22,
   "metadata": {},
   "outputs": [
    {
     "data": {
      "text/plain": [
       "<bayes_opt.bayesian_optimization.BayesianOptimization at 0x7f26bc646b20>"
      ]
     },
     "execution_count": 22,
     "metadata": {},
     "output_type": "execute_result"
    }
   ],
   "source": [
    "bo.util.load_logs(new_optimizer, logs=[LOG_FILE_PATH])"
   ]
  },
  {
   "cell_type": "code",
   "execution_count": 23,
   "metadata": {},
   "outputs": [
    {
     "data": {
      "text/plain": [
       "{'target': 0.9850967277901611,\n",
       " 'params': {'x': -0.037021323864450194, 'y': 1.1163301069764935}}"
      ]
     },
     "execution_count": 23,
     "metadata": {},
     "output_type": "execute_result"
    }
   ],
   "source": [
    "new_optimizer.max"
   ]
  },
  {
   "cell_type": "code",
   "execution_count": 24,
   "metadata": {},
   "outputs": [
    {
     "name": "stdout",
     "output_type": "stream",
     "text": [
      "Iteration 0: {'target': -12.4780129010131, 'params': {'x': -1.2662205459144347, 'y': -2.445968431387213}}\n",
      "Iteration 1: {'target': -3.8540423116243687, 'params': {'x': -1.0686989431116456, 'y': -0.9266356377417138}}\n",
      "Iteration 2: {'target': 0.9850967277901611, 'params': {'x': -0.037021323864450194, 'y': 1.1163301069764935}}\n",
      "Iteration 3: {'target': 0.5062783386618208, 'params': {'x': -0.4384536935569158, 'y': 1.54907196244616}}\n",
      "Iteration 4: {'target': 0.7964929710439073, 'params': {'x': 0.30425930287176284, 'y': 0.6669334817606525}}\n"
     ]
    }
   ],
   "source": [
    "for idx, res in enumerate(new_optimizer.res):\n",
    "    print(f'Iteration {idx}: {res}')"
   ]
  },
  {
   "cell_type": "code",
   "execution_count": null,
   "metadata": {},
   "outputs": [],
   "source": []
  }
 ],
 "metadata": {
  "kernelspec": {
   "display_name": "bop38",
   "language": "python",
   "name": "python3"
  },
  "language_info": {
   "codemirror_mode": {
    "name": "ipython",
    "version": 3
   },
   "file_extension": ".py",
   "mimetype": "text/x-python",
   "name": "python",
   "nbconvert_exporter": "python",
   "pygments_lexer": "ipython3",
   "version": "3.8.17"
  },
  "orig_nbformat": 4
 },
 "nbformat": 4,
 "nbformat_minor": 2
}
