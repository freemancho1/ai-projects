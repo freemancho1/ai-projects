{
 "cells": [
  {
   "cell_type": "markdown",
   "metadata": {},
   "source": [
    "#### BayesianOptimizer를 이용한 CNN모델 하이퍼파라메터 튜닝\n",
    "* tensorflow를 사용하기 때문에 `t212p39` anaconda env 사용"
   ]
  },
  {
   "cell_type": "markdown",
   "metadata": {},
   "source": [
    "#### 라이브러리 불러오기"
   ]
  },
  {
   "cell_type": "code",
   "execution_count": 34,
   "metadata": {},
   "outputs": [],
   "source": [
    "from bayes_opt import BayesianOptimization\n",
    "from bayes_opt import UtilityFunction\n",
    "\n",
    "import tensorflow as tf\n",
    "from tensorflow.keras.datasets import mnist\n",
    "from tensorflow.keras.models import Sequential\n",
    "from tensorflow.keras.layers import Conv2D, MaxPooling2D, Flatten, Dense\n",
    "from tensorflow.keras.utils import to_categorical\n",
    "\n",
    "from datetime import datetime as dt, timedelta as td"
   ]
  },
  {
   "cell_type": "code",
   "execution_count": 3,
   "metadata": {},
   "outputs": [],
   "source": [
    "(train_x, train_y), (test_x, test_y) = mnist.load_data()"
   ]
  },
  {
   "cell_type": "code",
   "execution_count": 4,
   "metadata": {},
   "outputs": [],
   "source": [
    "train_x, test_x = train_x/255.0, test_x/255.0"
   ]
  },
  {
   "cell_type": "code",
   "execution_count": 5,
   "metadata": {},
   "outputs": [
    {
     "name": "stderr",
     "output_type": "stream",
     "text": [
      "2023-08-22 08:52:34.312652: I tensorflow/core/common_runtime/gpu/gpu_device.cc:1635] Created device /job:localhost/replica:0/task:0/device:GPU:0 with 22787 MB memory:  -> device: 0, name: NVIDIA TITAN RTX, pci bus id: 0000:5e:00.0, compute capability: 7.5\n",
      "2023-08-22 08:52:34.314889: I tensorflow/core/common_runtime/gpu/gpu_device.cc:1635] Created device /job:localhost/replica:0/task:0/device:GPU:1 with 22338 MB memory:  -> device: 1, name: NVIDIA TITAN RTX, pci bus id: 0000:af:00.0, compute capability: 7.5\n"
     ]
    }
   ],
   "source": [
    "train_x, test_x = tf.expand_dims(train_x, -1), tf.expand_dims(test_x, -1)"
   ]
  },
  {
   "cell_type": "code",
   "execution_count": 6,
   "metadata": {},
   "outputs": [],
   "source": [
    "train_y, test_y = to_categorical(train_y, 10), to_categorical(test_y, 10)"
   ]
  },
  {
   "cell_type": "code",
   "execution_count": 7,
   "metadata": {},
   "outputs": [],
   "source": [
    "def create_cnn_model(filters, kernel_size, pool_size, dense_units):\n",
    "    model = Sequential([\n",
    "        Conv2D(\n",
    "            filters, kernel_size, activation='relu', \n",
    "            input_shape=(train_x.shape[1:])\n",
    "        ),\n",
    "        MaxPooling2D(pool_size),\n",
    "        Flatten(),\n",
    "        Dense(dense_units, activation='relu'),\n",
    "        Dense(10, activation='softmax')\n",
    "    ])\n",
    "    model.compile(\n",
    "        optimizer='adam',\n",
    "        loss='categorical_crossentropy',\n",
    "        metrics=['accuracy']\n",
    "    )\n",
    "    return model"
   ]
  },
  {
   "cell_type": "code",
   "execution_count": 8,
   "metadata": {},
   "outputs": [
    {
     "name": "stderr",
     "output_type": "stream",
     "text": [
      "2023-08-22 08:55:10.145531: I tensorflow/compiler/xla/stream_executor/cuda/cuda_dnn.cc:424] Loaded cuDNN version 8600\n",
      "2023-08-22 08:55:11.712450: I tensorflow/tsl/platform/default/subprocess.cc:304] Start cannot spawn child process: No such file or directory\n",
      "2023-08-22 08:55:11.852176: I tensorflow/compiler/xla/service/service.cc:169] XLA service 0x7f2665ac6050 initialized for platform CUDA (this does not guarantee that XLA will be used). Devices:\n",
      "2023-08-22 08:55:11.852246: I tensorflow/compiler/xla/service/service.cc:177]   StreamExecutor device (0): NVIDIA TITAN RTX, Compute Capability 7.5\n",
      "2023-08-22 08:55:11.852272: I tensorflow/compiler/xla/service/service.cc:177]   StreamExecutor device (1): NVIDIA TITAN RTX, Compute Capability 7.5\n",
      "2023-08-22 08:55:11.888516: I tensorflow/compiler/mlir/tensorflow/utils/dump_mlir_util.cc:269] disabling MLIR crash reproducer, set env var `MLIR_CRASH_REPRODUCER_DIRECTORY` to enable.\n",
      "2023-08-22 08:55:12.049818: I tensorflow/tsl/platform/default/subprocess.cc:304] Start cannot spawn child process: No such file or directory\n",
      "2023-08-22 08:55:12.151817: I ./tensorflow/compiler/jit/device_compiler.h:180] Compiled cluster using XLA!  This line is logged at most once for the lifetime of the process.\n"
     ]
    },
    {
     "name": "stdout",
     "output_type": "stream",
     "text": [
      "정확도: 0.987500011920929\n",
      "처리시간: 0:02:00.534160\n"
     ]
    }
   ],
   "source": [
    "# 임의 실행\n",
    "_start = dt.now()\n",
    "model = create_cnn_model(256, 3, 2, 64)\n",
    "model.fit(train_x, train_y, epochs=10, verbose=0)\n",
    "_, accuracy = model.evaluate(test_x, test_y, verbose=0)\n",
    "print(f'정확도: {accuracy}')\n",
    "print(f'처리시간: {dt.now()-_start}')"
   ]
  },
  {
   "cell_type": "code",
   "execution_count": 9,
   "metadata": {},
   "outputs": [],
   "source": [
    "pbounds = {\n",
    "    'filters': (16, 256),\n",
    "    'kernel_size': (3, 5),\n",
    "    'pool_size': (2, 3),\n",
    "    'dense_units': (32, 512),\n",
    "    'epochs': (5, 20)\n",
    "}"
   ]
  },
  {
   "cell_type": "code",
   "execution_count": 10,
   "metadata": {},
   "outputs": [],
   "source": [
    "def target_func(filters, kernel_size, pool_size, dense_units, epochs):\n",
    "    model = create_cnn_model(\n",
    "        int(filters), int(kernel_size), int(pool_size), int(dense_units)\n",
    "    )\n",
    "    model.fit(train_x, train_y, epochs=int(epochs), verbose=0)\n",
    "    _, accuracy = model.evaluate(test_x, test_y, verbose=0)\n",
    "    return accuracy"
   ]
  },
  {
   "cell_type": "code",
   "execution_count": 11,
   "metadata": {},
   "outputs": [],
   "source": [
    "optimizer = BayesianOptimization(\n",
    "    f=target_func,\n",
    "    pbounds=pbounds,\n",
    "    verbose=2,\n",
    "    random_state=123\n",
    ")"
   ]
  },
  {
   "cell_type": "code",
   "execution_count": 12,
   "metadata": {},
   "outputs": [
    {
     "name": "stdout",
     "output_type": "stream",
     "text": [
      "|   iter    |  target   | dense_... |  epochs   |  filters  | kernel... | pool_size |\n",
      "-------------------------------------------------------------------------------------\n",
      "| \u001b[0m1        \u001b[0m | \u001b[0m0.9879   \u001b[0m | \u001b[0m366.3    \u001b[0m | \u001b[0m9.292    \u001b[0m | \u001b[0m70.44    \u001b[0m | \u001b[0m4.103    \u001b[0m | \u001b[0m2.719    \u001b[0m |\n",
      "| \u001b[0m2        \u001b[0m | \u001b[0m0.985    \u001b[0m | \u001b[0m235.1    \u001b[0m | \u001b[0m19.71    \u001b[0m | \u001b[0m180.4    \u001b[0m | \u001b[0m3.962    \u001b[0m | \u001b[0m2.392    \u001b[0m |\n",
      "| \u001b[0m3        \u001b[0m | \u001b[0m0.9866   \u001b[0m | \u001b[0m366.1    \u001b[0m | \u001b[0m10.53    \u001b[0m | \u001b[0m71.74    \u001b[0m | \u001b[0m3.38     \u001b[0m | \u001b[0m2.321    \u001b[0m |\n",
      "| \u001b[0m4        \u001b[0m | \u001b[0m0.9857   \u001b[0m | \u001b[0m368.6    \u001b[0m | \u001b[0m9.899    \u001b[0m | \u001b[0m72.95    \u001b[0m | \u001b[0m3.186    \u001b[0m | \u001b[0m2.804    \u001b[0m |\n",
      "| \u001b[0m5        \u001b[0m | \u001b[0m0.9876   \u001b[0m | \u001b[0m364.5    \u001b[0m | \u001b[0m13.81    \u001b[0m | \u001b[0m69.45    \u001b[0m | \u001b[0m4.861    \u001b[0m | \u001b[0m2.237    \u001b[0m |\n",
      "| \u001b[0m6        \u001b[0m | \u001b[0m0.9879   \u001b[0m | \u001b[0m362.8    \u001b[0m | \u001b[0m11.41    \u001b[0m | \u001b[0m72.16    \u001b[0m | \u001b[0m3.345    \u001b[0m | \u001b[0m2.52     \u001b[0m |\n",
      "| \u001b[0m7        \u001b[0m | \u001b[0m0.9867   \u001b[0m | \u001b[0m199.4    \u001b[0m | \u001b[0m16.22    \u001b[0m | \u001b[0m149.1    \u001b[0m | \u001b[0m3.158    \u001b[0m | \u001b[0m2.679    \u001b[0m |\n",
      "| \u001b[0m8        \u001b[0m | \u001b[0m0.9865   \u001b[0m | \u001b[0m98.36    \u001b[0m | \u001b[0m5.196    \u001b[0m | \u001b[0m119.2    \u001b[0m | \u001b[0m4.18     \u001b[0m | \u001b[0m2.889    \u001b[0m |\n",
      "| \u001b[0m9        \u001b[0m | \u001b[0m0.9833   \u001b[0m | \u001b[0m76.6     \u001b[0m | \u001b[0m12.45    \u001b[0m | \u001b[0m38.04    \u001b[0m | \u001b[0m3.427    \u001b[0m | \u001b[0m2.449    \u001b[0m |\n",
      "| \u001b[95m10       \u001b[0m | \u001b[95m0.9883   \u001b[0m | \u001b[95m365.4    \u001b[0m | \u001b[95m11.15    \u001b[0m | \u001b[95m66.75    \u001b[0m | \u001b[95m4.224    \u001b[0m | \u001b[95m2.525    \u001b[0m |\n",
      "| \u001b[0m11       \u001b[0m | \u001b[0m0.9879   \u001b[0m | \u001b[0m362.4    \u001b[0m | \u001b[0m5.115    \u001b[0m | \u001b[0m67.66    \u001b[0m | \u001b[0m4.84     \u001b[0m | \u001b[0m2.116    \u001b[0m |\n",
      "| \u001b[0m12       \u001b[0m | \u001b[0m0.9877   \u001b[0m | \u001b[0m359.0    \u001b[0m | \u001b[0m11.93    \u001b[0m | \u001b[0m70.63    \u001b[0m | \u001b[0m4.603    \u001b[0m | \u001b[0m2.695    \u001b[0m |\n",
      "=====================================================================================\n",
      "처리시간: 0:24:33.503674\n"
     ]
    }
   ],
   "source": [
    "_start = dt.now()\n",
    "optimizer.maximize(init_points=2, n_iter=10)\n",
    "print(f'처리시간: {dt.now()-_start}')"
   ]
  },
  {
   "cell_type": "code",
   "execution_count": 46,
   "metadata": {},
   "outputs": [
    {
     "name": "stdout",
     "output_type": "stream",
     "text": [
      "Best parameters: {'dense_units': 92.0243546296183, 'epochs': 8.738983549393662, 'filters': 69.83388714960446, 'kernel_size': 5.359160271287903, 'pool_size': 4.569730940341101}\n",
      "Best validation accuracy: 0.9909999966621399\n"
     ]
    }
   ],
   "source": [
    "print(f'Best parameters: {optimizer.max[\"params\"]}')\n",
    "print(f'Best validation accuracy: {optimizer.max[\"target\"]}')"
   ]
  },
  {
   "cell_type": "markdown",
   "metadata": {},
   "source": [
    "#### 제안-평가-등록"
   ]
  },
  {
   "cell_type": "code",
   "execution_count": 18,
   "metadata": {},
   "outputs": [],
   "source": [
    "pbounds = {\n",
    "    'filters': (16, 256),\n",
    "    'kernel_size': (3, 10),\n",
    "    'pool_size': (2, 10),\n",
    "    'dense_units': (32, 128),\n",
    "    'epochs': (5, 15)\n",
    "}"
   ]
  },
  {
   "cell_type": "code",
   "execution_count": 19,
   "metadata": {},
   "outputs": [],
   "source": [
    "optimizer = BayesianOptimization(\n",
    "    f=None,\n",
    "    pbounds=pbounds,\n",
    "    verbose=2,\n",
    "    random_state=123\n",
    ") "
   ]
  },
  {
   "cell_type": "code",
   "execution_count": 20,
   "metadata": {},
   "outputs": [],
   "source": [
    "utility = UtilityFunction(\n",
    "    kind='ucb', # 탐색과 활용 사이의 균형 유지, 불확실한 지점을 더 많이 탐색\n",
    "    kappa=2.5,  # UCB전략에서 얼마의 불확실성을 고려할지 지정\n",
    "                # 값이 높으면 탐색을, 값이 낮으면 활용을 강조함\n",
    "    xi=0.0      # 탐색전략에서 사용되는 파라미터로 얼마나 큰 개선을 고려할지 조정\n",
    "                # 값이 높으면 큰 개선을 값이 낮으면 작은 개선을 탐색함\n",
    ")"
   ]
  },
  {
   "cell_type": "code",
   "execution_count": 21,
   "metadata": {},
   "outputs": [
    {
     "name": "stdout",
     "output_type": "stream",
     "text": [
      "{'dense_units': 98.86104181739472, 'epochs': 7.861393349503794, 'filters': 70.44434885540875, 'kernel_size': 6.859203383580239, 'pool_size': 7.755751758284505}\n"
     ]
    }
   ],
   "source": [
    "next_point = optimizer.suggest(utility)\n",
    "print(next_point)"
   ]
  },
  {
   "cell_type": "code",
   "execution_count": 22,
   "metadata": {},
   "outputs": [
    {
     "name": "stdout",
     "output_type": "stream",
     "text": [
      "0.9896000027656555\n",
      "처리시간: 0:01:19.731189\n"
     ]
    }
   ],
   "source": [
    "_start = dt.now()\n",
    "target = target_func(**next_point)\n",
    "print(target)\n",
    "print(f'처리시간: {dt.now()-_start}')"
   ]
  },
  {
   "cell_type": "code",
   "execution_count": 24,
   "metadata": {},
   "outputs": [],
   "source": [
    "optimizer.register(\n",
    "    params=next_point,\n",
    "    target=target\n",
    ")"
   ]
  },
  {
   "cell_type": "code",
   "execution_count": 39,
   "metadata": {},
   "outputs": [
    {
     "name": "stdout",
     "output_type": "stream",
     "text": [
      "|  Index |  Target | Epochs | Filter | Kernel |  Pool  |  Dense |     Time     |\n",
      "|------------------------------------------------------------------------------|\n",
      "|      1 | 0.98980 |     14 |     73 |      7 |      2 |     94 |  0:02:39.573 |\n",
      "|      2 | 0.98910 |     13 |     77 |      5 |      7 |     91 |  0:02:26.309 |\n",
      "|      3 | 0.99100 |      8 |     69 |      5 |      4 |     92 |  0:01:32.250 |\n",
      "|      4 | 0.99100 |     13 |     74 |      9 |      3 |     94 |  0:02:27.965 |\n",
      "|      5 | 0.99020 |     10 |     71 |      9 |      5 |     89 |  0:01:54.508 |\n",
      "|      6 | 0.98810 |     10 |     67 |      3 |      3 |     89 |  0:01:54.046 |\n",
      "|      7 | 0.98890 |      9 |     71 |      7 |      5 |     93 |  0:01:43.162 |\n",
      "|      8 | 0.99090 |     10 |     74 |      7 |      2 |     94 |  0:01:54.560 |\n",
      "|      9 | 0.98380 |      6 |     70 |      6 |      4 |     91 |  0:01:09.665 |\n",
      "|     10 | 0.96650 |      6 |     20 |      7 |      8 |     83 |  0:01:10.798 |\n",
      "|------------------------------------------------------------------------------|\n",
      "{'target': 0.9909999966621399, 'params': {'dense_units': 92.0243546296183, 'epochs': 8.738983549393662, 'filters': 69.83388714960446, 'kernel_size': 5.359160271287903, 'pool_size': 4.569730940341101}}\n",
      "처리시간: 0:18:52.849056\n"
     ]
    }
   ],
   "source": [
    "_start = dt.now()\n",
    "print('|  Index |  Target | Epochs | Filter | Kernel |  Pool  |  Dense |     Time     |')\n",
    "print('|------------------------------------------------------------------------------|')\n",
    "for epoch in range(10):\n",
    "    __start = dt.now()\n",
    "    next_point = optimizer.suggest(utility)\n",
    "    target = target_func(**next_point)\n",
    "    optimizer.register(params=next_point, target=target)\n",
    "    print(\n",
    "        f'|{(epoch+1):>7} |{target:8.5f} |{int(next_point[\"epochs\"]):>7} ' \n",
    "        f'|{int(next_point[\"filters\"]):>7} |{int(next_point[\"kernel_size\"]):>7} '\n",
    "        f'|{int(next_point[\"pool_size\"]):>7} |{int(next_point[\"dense_units\"]):>7} '\n",
    "        f'|  {str(dt.now()-__start)[:-3]} |' \n",
    "    )\n",
    "    \n",
    "print('|------------------------------------------------------------------------------|')\n",
    "print(optimizer.max)\n",
    "print(f'처리시간: {dt.now()-_start}')"
   ]
  },
  {
   "cell_type": "code",
   "execution_count": 44,
   "metadata": {},
   "outputs": [
    {
     "name": "stdout",
     "output_type": "stream",
     "text": [
      "정확도: 0.9898999929428101\n",
      "처리시간: 0:01:32.072386\n"
     ]
    }
   ],
   "source": [
    "_start = dt.now()\n",
    "# 최고 하이퍼파라메터 적용\n",
    "model = create_cnn_model(69, 5, 4, 92)\n",
    "model.fit(train_x, train_y, epochs=8, verbose=0)\n",
    "_, accuracy = model.evaluate(test_x, test_y, verbose=0)\n",
    "print(f'정확도: {accuracy}')\n",
    "print(f'처리시간: {dt.now()-_start}')\n",
    "# 최고 정확도가 나오는 것은 아니네..."
   ]
  },
  {
   "cell_type": "code",
   "execution_count": 43,
   "metadata": {},
   "outputs": [
    {
     "data": {
      "text/plain": [
       "(10000, 90.00003337860107)"
      ]
     },
     "execution_count": 43,
     "metadata": {},
     "output_type": "execute_result"
    }
   ],
   "source": [
    "test_x.shape[0], test_x.shape[0] * (1-0.9909999966621399)"
   ]
  },
  {
   "cell_type": "code",
   "execution_count": null,
   "metadata": {},
   "outputs": [],
   "source": []
  }
 ],
 "metadata": {
  "kernelspec": {
   "display_name": "t212p39",
   "language": "python",
   "name": "python3"
  },
  "language_info": {
   "codemirror_mode": {
    "name": "ipython",
    "version": 3
   },
   "file_extension": ".py",
   "mimetype": "text/x-python",
   "name": "python",
   "nbconvert_exporter": "python",
   "pygments_lexer": "ipython3",
   "version": "3.8.17"
  },
  "orig_nbformat": 4
 },
 "nbformat": 4,
 "nbformat_minor": 2
}
