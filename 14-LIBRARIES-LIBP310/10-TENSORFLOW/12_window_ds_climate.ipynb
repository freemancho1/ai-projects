{
 "cells": [
  {
   "cell_type": "code",
   "execution_count": 35,
   "metadata": {},
   "outputs": [],
   "source": [
    "import os\n",
    "import numpy as np\n",
    "import pandas as pd\n",
    "import tensorflow as tf\n",
    "\n",
    "from freeman.tensor import MakeWindow\n",
    "from freeman.tensor import make_window_from_array, dataset_spec"
   ]
  },
  {
   "cell_type": "code",
   "execution_count": 36,
   "metadata": {},
   "outputs": [],
   "source": [
    "_PATH_DATA = os.path.join(\n",
    "    os.path.expanduser('~'),\n",
    "    'projects', 'ai-projects', '61-WIND-TURBIN', 'data',\n",
    "    'climate_test.csv'\n",
    ")\n",
    "\n",
    "df_data = pd.read_csv(_PATH_DATA)"
   ]
  },
  {
   "cell_type": "code",
   "execution_count": 37,
   "metadata": {},
   "outputs": [
    {
     "name": "stdout",
     "output_type": "stream",
     "text": [
      "<class 'pandas.core.frame.DataFrame'>\n",
      "RangeIndex: 7013 entries, 0 to 7012\n",
      "Data columns (total 19 columns):\n",
      " #   Column           Non-Null Count  Dtype  \n",
      "---  ------           --------------  -----  \n",
      " 0   p (mbar)         6940 non-null   float64\n",
      " 1   T (degC)         6940 non-null   float64\n",
      " 2   Tpot (K)         6940 non-null   float64\n",
      " 3   Tdew (degC)      6940 non-null   float64\n",
      " 4   rh (%)           6940 non-null   float64\n",
      " 5   VPmax (mbar)     6940 non-null   float64\n",
      " 6   VPact (mbar)     6940 non-null   float64\n",
      " 7   VPdef (mbar)     6940 non-null   float64\n",
      " 8   sh (g/kg)        6940 non-null   float64\n",
      " 9   H2OC (mmol/mol)  6940 non-null   float64\n",
      " 10  rho (g/m**3)     6940 non-null   float64\n",
      " 11  Vwv_X            6940 non-null   float64\n",
      " 12  Vwv_Y            6940 non-null   float64\n",
      " 13  Vmwv_X           6940 non-null   float64\n",
      " 14  Vmwv_Y           6940 non-null   float64\n",
      " 15  day_sin          7013 non-null   float64\n",
      " 16  day_cos          7013 non-null   float64\n",
      " 17  year_sin         7013 non-null   float64\n",
      " 18  year_cos         7013 non-null   float64\n",
      "dtypes: float64(19)\n",
      "memory usage: 1.0 MB\n"
     ]
    }
   ],
   "source": [
    "df_data.info()"
   ]
  },
  {
   "cell_type": "code",
   "execution_count": 38,
   "metadata": {},
   "outputs": [],
   "source": [
    "df_data.fillna(0.0, inplace=True)\n",
    "\n",
    "# 전체 컬럼 인덱싱\n",
    "column_indices = {name: i for i, name in enumerate(df_data.columns)}\n",
    "\n",
    "# 목표 컬럼 인덱스 구하기\n",
    "target_col = 'T (degC)'\n",
    "target_idx = column_indices[target_col]"
   ]
  },
  {
   "cell_type": "code",
   "execution_count": 39,
   "metadata": {},
   "outputs": [
    {
     "data": {
      "text/plain": [
       "p (mbar)           0\n",
       "T (degC)           0\n",
       "Tpot (K)           0\n",
       "Tdew (degC)        0\n",
       "rh (%)             0\n",
       "VPmax (mbar)       0\n",
       "VPact (mbar)       0\n",
       "VPdef (mbar)       0\n",
       "sh (g/kg)          0\n",
       "H2OC (mmol/mol)    0\n",
       "rho (g/m**3)       0\n",
       "Vwv_X              0\n",
       "Vwv_Y              0\n",
       "Vmwv_X             0\n",
       "Vmwv_Y             0\n",
       "day_sin            0\n",
       "day_cos            0\n",
       "year_sin           0\n",
       "year_cos           0\n",
       "dtype: int64"
      ]
     },
     "execution_count": 39,
     "metadata": {},
     "output_type": "execute_result"
    }
   ],
   "source": [
    "df_data.isna().sum()"
   ]
  },
  {
   "cell_type": "code",
   "execution_count": 40,
   "metadata": {},
   "outputs": [],
   "source": [
    "WINDOW_SIZE = 24\n",
    "BATCH_SIZE = 32"
   ]
  },
  {
   "cell_type": "code",
   "execution_count": 41,
   "metadata": {},
   "outputs": [],
   "source": [
    "nd_data = df_data.values"
   ]
  },
  {
   "cell_type": "code",
   "execution_count": 42,
   "metadata": {},
   "outputs": [
    {
     "name": "stdout",
     "output_type": "stream",
     "text": [
      "Batch dataset shape: features(32, 24, 19), label(32,), Last batch dataset shape: features(13, 24, 19), label(13,)\n",
      "Batch dataset size: 219\n",
      "Total dataset row size: 6989 = 32 * (219 - 1) + 13\n"
     ]
    }
   ],
   "source": [
    "try:\n",
    "    df_win_data = MakeWindow(\n",
    "        df_data, \n",
    "        WINDOW_SIZE, BATCH_SIZE,\n",
    "        label_col=target_col\n",
    "    )\n",
    "except ValueError as ve:\n",
    "    print(f'Program Error:\\n{ve}')\n",
    "except Exception as e:\n",
    "    print(f'System Error:\\n{e}')"
   ]
  },
  {
   "cell_type": "code",
   "execution_count": 43,
   "metadata": {},
   "outputs": [
    {
     "name": "stdout",
     "output_type": "stream",
     "text": [
      "Batch dataset shape: features(32, 24, 18), label(32,), Last batch dataset shape: features(13, 24, 18), label(13,)\n",
      "Batch dataset size: 219\n",
      "Total dataset row size: 6989 = 32 * (219 - 1) + 13\n"
     ]
    }
   ],
   "source": [
    "try:\n",
    "    nd_win_data = MakeWindow(\n",
    "        nd_data, \n",
    "        WINDOW_SIZE, BATCH_SIZE,\n",
    "        label_idx=target_idx,\n",
    "        drop_col_label=True\n",
    "    )\n",
    "except ValueError as ve:\n",
    "    print(f'Program Error:\\n{ve}')\n",
    "except Exception as e:\n",
    "    print(f'System Error:\\n{e}')"
   ]
  },
  {
   "cell_type": "code",
   "execution_count": 44,
   "metadata": {},
   "outputs": [],
   "source": [
    "df_X = df_data.copy()"
   ]
  },
  {
   "cell_type": "code",
   "execution_count": 45,
   "metadata": {},
   "outputs": [],
   "source": [
    "df_y = df_X.pop(target_col)"
   ]
  },
  {
   "cell_type": "code",
   "execution_count": 46,
   "metadata": {},
   "outputs": [
    {
     "name": "stdout",
     "output_type": "stream",
     "text": [
      "Batch dataset shape: features(32, 24, 18), label(32,), Last batch dataset shape: features(14, 24, 18), label(14,)\n",
      "Batch dataset size: 219\n",
      "Total dataset row size: 6990 = 32 * (219 - 1) + 14\n"
     ]
    }
   ],
   "source": [
    "try:\n",
    "    tuple_win_data = MakeWindow(\n",
    "        (df_X.values, df_y), \n",
    "        WINDOW_SIZE, BATCH_SIZE,\n",
    "        last_idx_label=True\n",
    "    )\n",
    "except ValueError as ve:\n",
    "    print(f'Program Error:\\n{ve}')\n",
    "except Exception as e:\n",
    "    print(f'System Error:\\n{e}')"
   ]
  },
  {
   "cell_type": "code",
   "execution_count": 47,
   "metadata": {},
   "outputs": [],
   "source": [
    "# wd: window data\n",
    "# sd: source data\n",
    "# ws: window size\n",
    "# bs: batch size\n",
    "# tidx: target column index\n",
    "# dcol: drop target column (bool)\n",
    "# lidx: get target in window last row (bool)\n",
    "def check_window_data(wd, sd, ws, bs, tidx, dcol, lidx):\n",
    "    is_match = True\n",
    "    idx = 0\n",
    "    X_data = np.delete(sd, tidx, axis=1) if dcol else sd \n",
    "    y_data = sd[ws-1 if lidx else ws:, tidx]\n",
    "    \n",
    "    for x, y in wd.take(-1):\n",
    "        idxx1 = 0\n",
    "        for xe in x:\n",
    "            idxx2 = 0\n",
    "            for xee in xe.numpy():\n",
    "                if np.all(X_data[idx*bs+idxx1+idxx2] != xee):\n",
    "                    print(f'Not match X({idx}, {idxx1}, {idxx2}): \\n{X_data[idx*bs+idxx1+idxx2]}\\n{xee}')\n",
    "                    is_match = False\n",
    "                idxx2 += 1\n",
    "            idxx1 += 1\n",
    "        idxy = 0\n",
    "        for ye in y:\n",
    "            if np.all(y_data[idx*bs+idxy]!=ye):\n",
    "                print(f'Not match y({idx}, {idxy}): {y_data[idx*bs+idxy]}, {ye}')    \n",
    "                is_match = False\n",
    "            idxy += 1   \n",
    "        idx += 1     \n",
    "        if not is_match:\n",
    "            print('Not Match')\n",
    "            break\n",
    "        \n",
    "    if is_match:\n",
    "        print('Match')"
   ]
  },
  {
   "cell_type": "code",
   "execution_count": 48,
   "metadata": {},
   "outputs": [
    {
     "name": "stdout",
     "output_type": "stream",
     "text": [
      "\n"
     ]
    }
   ],
   "source": [
    "df_win_data_data = df_win_data.win_data\n",
    "for X, y in df_win_data_data.take(1):\n",
    "    print()"
   ]
  },
  {
   "cell_type": "code",
   "execution_count": 49,
   "metadata": {},
   "outputs": [
    {
     "name": "stdout",
     "output_type": "stream",
     "text": [
      "Match\n"
     ]
    }
   ],
   "source": [
    "check_window_data(\n",
    "    df_win_data.win_data, nd_data, WINDOW_SIZE, BATCH_SIZE, target_idx, False, False\n",
    ")"
   ]
  },
  {
   "cell_type": "code",
   "execution_count": 53,
   "metadata": {},
   "outputs": [
    {
     "name": "stdout",
     "output_type": "stream",
     "text": [
      "Match\n"
     ]
    }
   ],
   "source": [
    "check_window_data(\n",
    "    nd_win_data.win_data, nd_data, WINDOW_SIZE, BATCH_SIZE, target_idx, True, False\n",
    ")"
   ]
  },
  {
   "cell_type": "code",
   "execution_count": 56,
   "metadata": {},
   "outputs": [
    {
     "name": "stdout",
     "output_type": "stream",
     "text": [
      "Match\n"
     ]
    }
   ],
   "source": [
    "check_window_data(\n",
    "    tuple_win_data.win_data, nd_data, WINDOW_SIZE, BATCH_SIZE, target_idx, True, True\n",
    ")"
   ]
  },
  {
   "cell_type": "code",
   "execution_count": null,
   "metadata": {},
   "outputs": [],
   "source": []
  }
 ],
 "metadata": {
  "kernelspec": {
   "display_name": "t213p310",
   "language": "python",
   "name": "python3"
  },
  "language_info": {
   "codemirror_mode": {
    "name": "ipython",
    "version": 3
   },
   "file_extension": ".py",
   "mimetype": "text/x-python",
   "name": "python",
   "nbconvert_exporter": "python",
   "pygments_lexer": "ipython3",
   "version": "3.10.12"
  },
  "orig_nbformat": 4
 },
 "nbformat": 4,
 "nbformat_minor": 2
}
