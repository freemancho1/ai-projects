{
 "cells": [
  {
   "cell_type": "markdown",
   "metadata": {},
   "source": [
    "#### Import Libraries"
   ]
  },
  {
   "cell_type": "code",
   "execution_count": 10,
   "metadata": {},
   "outputs": [],
   "source": [
    "import os\n",
    "import numpy as np\n",
    "import pandas as pd\n",
    "\n",
    "from copy import copy"
   ]
  },
  {
   "cell_type": "markdown",
   "metadata": {},
   "source": [
    "#### Fetching Data"
   ]
  },
  {
   "cell_type": "code",
   "execution_count": 8,
   "metadata": {},
   "outputs": [
    {
     "name": "stdout",
     "output_type": "stream",
     "text": [
      "<class 'pandas.core.frame.DataFrame'>\n",
      "RangeIndex: 50000 entries, 0 to 49999\n",
      "Data columns (total 15 columns):\n",
      " #   Column      Non-Null Count  Dtype  \n",
      "---  ------      --------------  -----  \n",
      " 0   org_name    50000 non-null  object \n",
      " 1   r_addr      30380 non-null  object \n",
      " 2   l_addr      44295 non-null  object \n",
      " 3   purp_type   50000 non-null  object \n",
      " 4   n_camera    50000 non-null  object \n",
      " 5   r_camera    44968 non-null  float64\n",
      " 6   sd_info     35413 non-null  object \n",
      " 7   r_period    48250 non-null  float64\n",
      " 8   install_ym  37622 non-null  object \n",
      " 9   org_phone   50000 non-null  object \n",
      " 10  lat         49580 non-null  float64\n",
      " 11  lon         49585 non-null  float64\n",
      " 12  ref_date    50000 non-null  object \n",
      " 13  porg_cd     50000 non-null  object \n",
      " 14  porg_name   50000 non-null  object \n",
      "dtypes: float64(4), object(11)\n",
      "memory usage: 5.7+ MB\n"
     ]
    }
   ],
   "source": [
    "CCTV_CSV_PATH = os.path.join(\n",
    "    os.getcwd(), '..', '60-GEOAI-GEOAIP39', '89_data', 'csv', 'road_cctv_info.csv'\n",
    ")\n",
    "\n",
    "COLUMNS = [\n",
    "    'org_name',         # 관리기관명, Management Organization Name\n",
    "    'r_addr',           # 소재지 도로명 주소, Road Address\n",
    "    'l_addr',           # 소재지 지번 주소, Land Parcel Address\n",
    "    'purp_type',         # 설치목적 구분, Purpose of Installation\n",
    "    'n_camera',         # 카메라 대수, Number of Cameras\n",
    "    'r_camera',         # 카메라 화소수, Camera Resolution\n",
    "    'sd_info',          # 촬영방면정보, Shooting Direction Infomation\n",
    "    'r_period',         # 보관일수, Retention Period\n",
    "    'install_ym',       # 설치년월, Installation Year and Month\n",
    "    'org_phone',        # 관리기관 전화번호, Management Organization Phone Number\n",
    "    'lat',              # 위도, Latitude\n",
    "    'lon',              # 경도, Longitude\n",
    "    'ref_date',         # 데이터기준일자, Data Reference Date\n",
    "    'porg_cd',          # 제공기관 코드, Providing Organization Code\n",
    "    'porg_name'         # 제공기관 이름, Providing Organization Name\n",
    "]\n",
    "\n",
    "cctv_df = pd.read_csv(CCTV_CSV_PATH, encoding='cp949')\n",
    "cctv_df.columns = COLUMNS\n",
    "cctv_df.info()"
   ]
  },
  {
   "cell_type": "code",
   "execution_count": 9,
   "metadata": {},
   "outputs": [
    {
     "data": {
      "text/html": [
       "<div>\n",
       "<style scoped>\n",
       "    .dataframe tbody tr th:only-of-type {\n",
       "        vertical-align: middle;\n",
       "    }\n",
       "\n",
       "    .dataframe tbody tr th {\n",
       "        vertical-align: top;\n",
       "    }\n",
       "\n",
       "    .dataframe thead th {\n",
       "        text-align: right;\n",
       "    }\n",
       "</style>\n",
       "<table border=\"1\" class=\"dataframe\">\n",
       "  <thead>\n",
       "    <tr style=\"text-align: right;\">\n",
       "      <th></th>\n",
       "      <th>org_name</th>\n",
       "      <th>r_addr</th>\n",
       "      <th>l_addr</th>\n",
       "      <th>purp_type</th>\n",
       "      <th>n_camera</th>\n",
       "      <th>r_camera</th>\n",
       "      <th>sd_info</th>\n",
       "      <th>r_period</th>\n",
       "      <th>install_ym</th>\n",
       "      <th>org_phone</th>\n",
       "      <th>lat</th>\n",
       "      <th>lon</th>\n",
       "      <th>ref_date</th>\n",
       "      <th>porg_cd</th>\n",
       "      <th>porg_name</th>\n",
       "    </tr>\n",
       "  </thead>\n",
       "  <tbody>\n",
       "    <tr>\n",
       "      <th>0</th>\n",
       "      <td>경상남도 김해시청</td>\n",
       "      <td>NaN</td>\n",
       "      <td>경상남도 김해시 구산동 1072-19</td>\n",
       "      <td>생활방범</td>\n",
       "      <td>3</td>\n",
       "      <td>200.0</td>\n",
       "      <td>현대병원뒤</td>\n",
       "      <td>30.0</td>\n",
       "      <td>2019-11</td>\n",
       "      <td>055-330-4741</td>\n",
       "      <td>35.249247</td>\n",
       "      <td>128.871639</td>\n",
       "      <td>2019-06-26</td>\n",
       "      <td>5350000</td>\n",
       "      <td>경상남도 김해시</td>\n",
       "    </tr>\n",
       "    <tr>\n",
       "      <th>1</th>\n",
       "      <td>경상남도 김해시청</td>\n",
       "      <td>NaN</td>\n",
       "      <td>경상남도 김해시 구산동 305-15</td>\n",
       "      <td>생활방범</td>\n",
       "      <td>2</td>\n",
       "      <td>200.0</td>\n",
       "      <td>목화골공원</td>\n",
       "      <td>30.0</td>\n",
       "      <td>2019-12</td>\n",
       "      <td>055-330-4741</td>\n",
       "      <td>35.247411</td>\n",
       "      <td>128.873605</td>\n",
       "      <td>2019-06-26</td>\n",
       "      <td>5350000</td>\n",
       "      <td>경상남도 김해시</td>\n",
       "    </tr>\n",
       "    <tr>\n",
       "      <th>2</th>\n",
       "      <td>경상남도 김해시청</td>\n",
       "      <td>NaN</td>\n",
       "      <td>경상남도 김해시 삼계동 1484-14</td>\n",
       "      <td>생활방범</td>\n",
       "      <td>2</td>\n",
       "      <td>200.0</td>\n",
       "      <td>정원빌라</td>\n",
       "      <td>30.0</td>\n",
       "      <td>2019-06</td>\n",
       "      <td>055-330-4741</td>\n",
       "      <td>35.261728</td>\n",
       "      <td>128.874144</td>\n",
       "      <td>2019-06-26</td>\n",
       "      <td>5350000</td>\n",
       "      <td>경상남도 김해시</td>\n",
       "    </tr>\n",
       "    <tr>\n",
       "      <th>3</th>\n",
       "      <td>경상남도 김해시청</td>\n",
       "      <td>NaN</td>\n",
       "      <td>경상남도 김해시 구산동 1043</td>\n",
       "      <td>생활방범</td>\n",
       "      <td>4</td>\n",
       "      <td>200.0</td>\n",
       "      <td>최가아구찜</td>\n",
       "      <td>30.0</td>\n",
       "      <td>2019-05</td>\n",
       "      <td>055-330-4741</td>\n",
       "      <td>35.247076</td>\n",
       "      <td>128.872461</td>\n",
       "      <td>2019-06-26</td>\n",
       "      <td>5350000</td>\n",
       "      <td>경상남도 김해시</td>\n",
       "    </tr>\n",
       "    <tr>\n",
       "      <th>4</th>\n",
       "      <td>경상남도 김해시청</td>\n",
       "      <td>NaN</td>\n",
       "      <td>경상남도 김해시 구산동 175-10</td>\n",
       "      <td>생활방범</td>\n",
       "      <td>2</td>\n",
       "      <td>200.0</td>\n",
       "      <td>동호맨션</td>\n",
       "      <td>30.0</td>\n",
       "      <td>2019-12</td>\n",
       "      <td>055-330-4741</td>\n",
       "      <td>35.241185</td>\n",
       "      <td>128.877334</td>\n",
       "      <td>2019-06-26</td>\n",
       "      <td>5350000</td>\n",
       "      <td>경상남도 김해시</td>\n",
       "    </tr>\n",
       "  </tbody>\n",
       "</table>\n",
       "</div>"
      ],
      "text/plain": [
       "    org_name r_addr                l_addr purp_type n_camera  r_camera  \\\n",
       "0  경상남도 김해시청    NaN  경상남도 김해시 구산동 1072-19      생활방범        3     200.0   \n",
       "1  경상남도 김해시청    NaN   경상남도 김해시 구산동 305-15      생활방범        2     200.0   \n",
       "2  경상남도 김해시청    NaN  경상남도 김해시 삼계동 1484-14      생활방범        2     200.0   \n",
       "3  경상남도 김해시청    NaN     경상남도 김해시 구산동 1043      생활방범        4     200.0   \n",
       "4  경상남도 김해시청    NaN   경상남도 김해시 구산동 175-10      생활방범        2     200.0   \n",
       "\n",
       "  sd_info  r_period install_ym     org_phone        lat         lon  \\\n",
       "0   현대병원뒤      30.0    2019-11  055-330-4741  35.249247  128.871639   \n",
       "1   목화골공원      30.0    2019-12  055-330-4741  35.247411  128.873605   \n",
       "2    정원빌라      30.0    2019-06  055-330-4741  35.261728  128.874144   \n",
       "3   최가아구찜      30.0    2019-05  055-330-4741  35.247076  128.872461   \n",
       "4    동호맨션      30.0    2019-12  055-330-4741  35.241185  128.877334   \n",
       "\n",
       "     ref_date  porg_cd porg_name  \n",
       "0  2019-06-26  5350000  경상남도 김해시  \n",
       "1  2019-06-26  5350000  경상남도 김해시  \n",
       "2  2019-06-26  5350000  경상남도 김해시  \n",
       "3  2019-06-26  5350000  경상남도 김해시  \n",
       "4  2019-06-26  5350000  경상남도 김해시  "
      ]
     },
     "execution_count": 9,
     "metadata": {},
     "output_type": "execute_result"
    }
   ],
   "source": [
    "cctv_df.head()"
   ]
  },
  {
   "cell_type": "markdown",
   "metadata": {},
   "source": [
    "#### Preprocessing Data"
   ]
  },
  {
   "cell_type": "markdown",
   "metadata": {},
   "source": [
    "##### Deep Copy"
   ]
  },
  {
   "cell_type": "code",
   "execution_count": 11,
   "metadata": {},
   "outputs": [],
   "source": [
    "# deep copy: default\n",
    "cctv_df_original = cctv_df.copy()"
   ]
  },
  {
   "cell_type": "markdown",
   "metadata": {},
   "source": [
    "##### 나주시 데이터 추출"
   ]
  },
  {
   "cell_type": "code",
   "execution_count": 17,
   "metadata": {},
   "outputs": [],
   "source": [
    "cctv_df = cctv_df_original.copy()"
   ]
  },
  {
   "cell_type": "code",
   "execution_count": 18,
   "metadata": {},
   "outputs": [],
   "source": [
    "cctv_df = cctv_df[cctv_df.org_name.str.contains('김해시청')]"
   ]
  },
  {
   "cell_type": "code",
   "execution_count": 19,
   "metadata": {},
   "outputs": [
    {
     "name": "stdout",
     "output_type": "stream",
     "text": [
      "<class 'pandas.core.frame.DataFrame'>\n",
      "Index: 942 entries, 0 to 31517\n",
      "Data columns (total 15 columns):\n",
      " #   Column      Non-Null Count  Dtype  \n",
      "---  ------      --------------  -----  \n",
      " 0   org_name    942 non-null    object \n",
      " 1   r_addr      0 non-null      object \n",
      " 2   l_addr      942 non-null    object \n",
      " 3   purp_type   942 non-null    object \n",
      " 4   n_camera    942 non-null    object \n",
      " 5   r_camera    942 non-null    float64\n",
      " 6   sd_info     942 non-null    object \n",
      " 7   r_period    942 non-null    float64\n",
      " 8   install_ym  942 non-null    object \n",
      " 9   org_phone   942 non-null    object \n",
      " 10  lat         942 non-null    float64\n",
      " 11  lon         942 non-null    float64\n",
      " 12  ref_date    942 non-null    object \n",
      " 13  porg_cd     942 non-null    object \n",
      " 14  porg_name   942 non-null    object \n",
      "dtypes: float64(4), object(11)\n",
      "memory usage: 117.8+ KB\n"
     ]
    }
   ],
   "source": [
    "cctv_df.info()"
   ]
  },
  {
   "cell_type": "code",
   "execution_count": 21,
   "metadata": {},
   "outputs": [],
   "source": [
    "cctv_df.n_camera = cctv_df.n_camera.astype(int)"
   ]
  },
  {
   "cell_type": "code",
   "execution_count": 22,
   "metadata": {},
   "outputs": [
    {
     "name": "stdout",
     "output_type": "stream",
     "text": [
      "<class 'pandas.core.frame.DataFrame'>\n",
      "Index: 942 entries, 0 to 31517\n",
      "Data columns (total 15 columns):\n",
      " #   Column      Non-Null Count  Dtype  \n",
      "---  ------      --------------  -----  \n",
      " 0   org_name    942 non-null    object \n",
      " 1   r_addr      0 non-null      object \n",
      " 2   l_addr      942 non-null    object \n",
      " 3   purp_type   942 non-null    object \n",
      " 4   n_camera    942 non-null    int32  \n",
      " 5   r_camera    942 non-null    float64\n",
      " 6   sd_info     942 non-null    object \n",
      " 7   r_period    942 non-null    float64\n",
      " 8   install_ym  942 non-null    object \n",
      " 9   org_phone   942 non-null    object \n",
      " 10  lat         942 non-null    float64\n",
      " 11  lon         942 non-null    float64\n",
      " 12  ref_date    942 non-null    object \n",
      " 13  porg_cd     942 non-null    object \n",
      " 14  porg_name   942 non-null    object \n",
      "dtypes: float64(4), int32(1), object(10)\n",
      "memory usage: 114.1+ KB\n"
     ]
    }
   ],
   "source": [
    "cctv_df.info()"
   ]
  },
  {
   "cell_type": "code",
   "execution_count": 23,
   "metadata": {},
   "outputs": [
    {
     "data": {
      "text/plain": [
       "(1, 10)"
      ]
     },
     "execution_count": 23,
     "metadata": {},
     "output_type": "execute_result"
    }
   ],
   "source": [
    "cctv_df.n_camera.min(), cctv_df.n_camera.max()"
   ]
  },
  {
   "cell_type": "code",
   "execution_count": null,
   "metadata": {},
   "outputs": [],
   "source": []
  }
 ],
 "metadata": {
  "kernelspec": {
   "display_name": "base",
   "language": "python",
   "name": "python3"
  },
  "language_info": {
   "codemirror_mode": {
    "name": "ipython",
    "version": 3
   },
   "file_extension": ".py",
   "mimetype": "text/x-python",
   "name": "python",
   "nbconvert_exporter": "python",
   "pygments_lexer": "ipython3",
   "version": "3.10.12"
  },
  "orig_nbformat": 4
 },
 "nbformat": 4,
 "nbformat_minor": 2
}
