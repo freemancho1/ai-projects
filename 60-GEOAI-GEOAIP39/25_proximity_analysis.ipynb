{
 "cells": [
  {
   "cell_type": "markdown",
   "metadata": {},
   "source": [
    "#### Overview\n",
    "* 공간 데이터간 거리 계산\n",
    "* 예) 특정 공간과 가장 가까운 다른 공간 검색(행사장과 가장 가까운 전철역 등)"
   ]
  },
  {
   "cell_type": "markdown",
   "metadata": {},
   "source": [
    "#### Import Libraries"
   ]
  },
  {
   "cell_type": "code",
   "execution_count": 2,
   "metadata": {},
   "outputs": [],
   "source": [
    "import os\n",
    "import numpy as np\n",
    "import pandas as pd\n",
    "import geopandas as gpd\n",
    "\n",
    "# scipy: 과학 및 엔지니어링 분야 기능 제공 라이브러\n",
    "# KDTree: K-차원트리로 가장 가까운 이웃을 검색하며, cKDTree는 c로 구현되 더 빠름\n",
    "from scipy.spatial import cKDTree, KDTree\n",
    "# shapely: 공간데이터 처리 라이브러리, 공간데이터의 형상(shape)과 관계를 다루는데 사용\n",
    "# Point: 관계를 표현하기 위해 각 노드를 정의할때 사용(2,3차원으로 지점 표시)\n",
    "from shapely.geometry import Point"
   ]
  },
  {
   "cell_type": "markdown",
   "metadata": {},
   "source": [
    "#### Fetching Data"
   ]
  },
  {
   "cell_type": "markdown",
   "metadata": {},
   "source": [
    "##### Festival Data"
   ]
  },
  {
   "cell_type": "code",
   "execution_count": 4,
   "metadata": {},
   "outputs": [],
   "source": [
    "FESTIVAL_SHP_PATH = os.path.join(os.getcwd(), '89_data', 'shp', 'festival_pt.shp')\n",
    "festival_gdf = gpd.read_file(FESTIVAL_SHP_PATH)"
   ]
  },
  {
   "cell_type": "code",
   "execution_count": 5,
   "metadata": {},
   "outputs": [
    {
     "name": "stdout",
     "output_type": "stream",
     "text": [
      "<class 'geopandas.geodataframe.GeoDataFrame'>\n",
      "RangeIndex: 47 entries, 0 to 46\n",
      "Data columns (total 3 columns):\n",
      " #   Column      Non-Null Count  Dtype   \n",
      "---  ------      --------------  -----   \n",
      " 0   name        47 non-null     object  \n",
      " 1   organizati  47 non-null     object  \n",
      " 2   geometry    47 non-null     geometry\n",
      "dtypes: geometry(1), object(2)\n",
      "memory usage: 1.2+ KB\n"
     ]
    }
   ],
   "source": [
    "festival_gdf.info()"
   ]
  },
  {
   "cell_type": "code",
   "execution_count": 6,
   "metadata": {},
   "outputs": [
    {
     "data": {
      "text/html": [
       "<div>\n",
       "<style scoped>\n",
       "    .dataframe tbody tr th:only-of-type {\n",
       "        vertical-align: middle;\n",
       "    }\n",
       "\n",
       "    .dataframe tbody tr th {\n",
       "        vertical-align: top;\n",
       "    }\n",
       "\n",
       "    .dataframe thead th {\n",
       "        text-align: right;\n",
       "    }\n",
       "</style>\n",
       "<table border=\"1\" class=\"dataframe\">\n",
       "  <thead>\n",
       "    <tr style=\"text-align: right;\">\n",
       "      <th></th>\n",
       "      <th>name</th>\n",
       "      <th>organizati</th>\n",
       "      <th>geometry</th>\n",
       "    </tr>\n",
       "  </thead>\n",
       "  <tbody>\n",
       "    <tr>\n",
       "      <th>0</th>\n",
       "      <td>구로G페스티벌</td>\n",
       "      <td>서울특별시 구로구</td>\n",
       "      <td>POINT (945927.323 1944204.031)</td>\n",
       "    </tr>\n",
       "    <tr>\n",
       "      <th>1</th>\n",
       "      <td>코로나로 인해 전체 일정 취소</td>\n",
       "      <td>서울특별시 강서구</td>\n",
       "      <td>POINT (942927.290 1952222.192)</td>\n",
       "    </tr>\n",
       "    <tr>\n",
       "      <th>2</th>\n",
       "      <td>강동선사문화축제</td>\n",
       "      <td>서울특별시 강동구</td>\n",
       "      <td>POINT (967395.183 1951230.727)</td>\n",
       "    </tr>\n",
       "    <tr>\n",
       "      <th>3</th>\n",
       "      <td>2022 소원 희망의 빛 거리</td>\n",
       "      <td>서울특별시 광진구</td>\n",
       "      <td>POINT (965465.452 1949694.336)</td>\n",
       "    </tr>\n",
       "    <tr>\n",
       "      <th>4</th>\n",
       "      <td>2022 소원 희망의 빛 거리</td>\n",
       "      <td>서울특별시 광진구</td>\n",
       "      <td>POINT (964472.438 1949878.657)</td>\n",
       "    </tr>\n",
       "  </tbody>\n",
       "</table>\n",
       "</div>"
      ],
      "text/plain": [
       "               name organizati                        geometry\n",
       "0           구로G페스티벌  서울특별시 구로구  POINT (945927.323 1944204.031)\n",
       "1  코로나로 인해 전체 일정 취소  서울특별시 강서구  POINT (942927.290 1952222.192)\n",
       "2          강동선사문화축제  서울특별시 강동구  POINT (967395.183 1951230.727)\n",
       "3  2022 소원 희망의 빛 거리  서울특별시 광진구  POINT (965465.452 1949694.336)\n",
       "4  2022 소원 희망의 빛 거리  서울특별시 광진구  POINT (964472.438 1949878.657)"
      ]
     },
     "execution_count": 6,
     "metadata": {},
     "output_type": "execute_result"
    }
   ],
   "source": [
    "festival_gdf.head()"
   ]
  },
  {
   "cell_type": "markdown",
   "metadata": {},
   "source": [
    "##### Subway Data"
   ]
  },
  {
   "cell_type": "code",
   "execution_count": 7,
   "metadata": {},
   "outputs": [
    {
     "name": "stdout",
     "output_type": "stream",
     "text": [
      "<class 'geopandas.geodataframe.GeoDataFrame'>\n",
      "RangeIndex: 385 entries, 0 to 384\n",
      "Data columns (total 8 columns):\n",
      " #   Column      Non-Null Count  Dtype   \n",
      "---  ------      --------------  -----   \n",
      " 0   LINE_NM     385 non-null    object  \n",
      " 1   YRMN        381 non-null    object  \n",
      " 2   STATION_NM  385 non-null    object  \n",
      " 3   IN_CNT      385 non-null    float64 \n",
      " 4   OUT_CNT     385 non-null    float64 \n",
      " 5   IN_OUT      385 non-null    float64 \n",
      " 6   IN_OUT_SCA  385 non-null    float64 \n",
      " 7   geometry    385 non-null    geometry\n",
      "dtypes: float64(4), geometry(1), object(3)\n",
      "memory usage: 24.2+ KB\n"
     ]
    }
   ],
   "source": [
    "SUBWAY_SHP_PATH = os.path.join(os.getcwd(), '89_data', 'shp', 'subway_pt.shp')\n",
    "subway_gdf = gpd.read_file(SUBWAY_SHP_PATH)\n",
    "subway_gdf.info()"
   ]
  },
  {
   "cell_type": "code",
   "execution_count": 8,
   "metadata": {},
   "outputs": [
    {
     "data": {
      "text/html": [
       "<div>\n",
       "<style scoped>\n",
       "    .dataframe tbody tr th:only-of-type {\n",
       "        vertical-align: middle;\n",
       "    }\n",
       "\n",
       "    .dataframe tbody tr th {\n",
       "        vertical-align: top;\n",
       "    }\n",
       "\n",
       "    .dataframe thead th {\n",
       "        text-align: right;\n",
       "    }\n",
       "</style>\n",
       "<table border=\"1\" class=\"dataframe\">\n",
       "  <thead>\n",
       "    <tr style=\"text-align: right;\">\n",
       "      <th></th>\n",
       "      <th>LINE_NM</th>\n",
       "      <th>YRMN</th>\n",
       "      <th>STATION_NM</th>\n",
       "      <th>IN_CNT</th>\n",
       "      <th>OUT_CNT</th>\n",
       "      <th>IN_OUT</th>\n",
       "      <th>IN_OUT_SCA</th>\n",
       "      <th>geometry</th>\n",
       "    </tr>\n",
       "  </thead>\n",
       "  <tbody>\n",
       "    <tr>\n",
       "      <th>0</th>\n",
       "      <td>우이신설선</td>\n",
       "      <td>202112</td>\n",
       "      <td>신설동</td>\n",
       "      <td>55769.0</td>\n",
       "      <td>54272.0</td>\n",
       "      <td>110041.0</td>\n",
       "      <td>0.024565</td>\n",
       "      <td>POINT (957902.000 1953075.366)</td>\n",
       "    </tr>\n",
       "    <tr>\n",
       "      <th>1</th>\n",
       "      <td>우이신설선</td>\n",
       "      <td>202112</td>\n",
       "      <td>보문</td>\n",
       "      <td>41012.0</td>\n",
       "      <td>41211.0</td>\n",
       "      <td>82223.0</td>\n",
       "      <td>0.018187</td>\n",
       "      <td>POINT (957566.287 1954096.800)</td>\n",
       "    </tr>\n",
       "    <tr>\n",
       "      <th>2</th>\n",
       "      <td>우이신설선</td>\n",
       "      <td>202112</td>\n",
       "      <td>성신여대입구(돈암)</td>\n",
       "      <td>91571.0</td>\n",
       "      <td>101326.0</td>\n",
       "      <td>192897.0</td>\n",
       "      <td>0.043562</td>\n",
       "      <td>POINT (957317.436 1954894.797)</td>\n",
       "    </tr>\n",
       "    <tr>\n",
       "      <th>3</th>\n",
       "      <td>우이신설선</td>\n",
       "      <td>202112</td>\n",
       "      <td>정릉</td>\n",
       "      <td>124880.0</td>\n",
       "      <td>113381.0</td>\n",
       "      <td>238261.0</td>\n",
       "      <td>0.053963</td>\n",
       "      <td>POINT (957048.129 1956079.564)</td>\n",
       "    </tr>\n",
       "    <tr>\n",
       "      <th>4</th>\n",
       "      <td>우이신설선</td>\n",
       "      <td>202112</td>\n",
       "      <td>북한산보국문</td>\n",
       "      <td>162606.0</td>\n",
       "      <td>153956.0</td>\n",
       "      <td>316562.0</td>\n",
       "      <td>0.071915</td>\n",
       "      <td>POINT (956599.178 1957073.674)</td>\n",
       "    </tr>\n",
       "  </tbody>\n",
       "</table>\n",
       "</div>"
      ],
      "text/plain": [
       "  LINE_NM    YRMN  STATION_NM    IN_CNT   OUT_CNT    IN_OUT  IN_OUT_SCA  \\\n",
       "0   우이신설선  202112         신설동   55769.0   54272.0  110041.0    0.024565   \n",
       "1   우이신설선  202112          보문   41012.0   41211.0   82223.0    0.018187   \n",
       "2   우이신설선  202112  성신여대입구(돈암)   91571.0  101326.0  192897.0    0.043562   \n",
       "3   우이신설선  202112          정릉  124880.0  113381.0  238261.0    0.053963   \n",
       "4   우이신설선  202112      북한산보국문  162606.0  153956.0  316562.0    0.071915   \n",
       "\n",
       "                         geometry  \n",
       "0  POINT (957902.000 1953075.366)  \n",
       "1  POINT (957566.287 1954096.800)  \n",
       "2  POINT (957317.436 1954894.797)  \n",
       "3  POINT (957048.129 1956079.564)  \n",
       "4  POINT (956599.178 1957073.674)  "
      ]
     },
     "execution_count": 8,
     "metadata": {},
     "output_type": "execute_result"
    }
   ],
   "source": [
    "subway_gdf.head()"
   ]
  },
  {
   "cell_type": "markdown",
   "metadata": {},
   "source": [
    "#### Check CRS"
   ]
  },
  {
   "cell_type": "code",
   "execution_count": 9,
   "metadata": {},
   "outputs": [
    {
     "data": {
      "text/plain": [
       "<Projected CRS: EPSG:5179>\n",
       "Name: Korea 2000 / Unified CS\n",
       "Axis Info [cartesian]:\n",
       "- X[north]: Northing (metre)\n",
       "- Y[east]: Easting (metre)\n",
       "Area of Use:\n",
       "- name: Republic of Korea (South Korea) - onshore and offshore.\n",
       "- bounds: (122.71, 28.6, 134.28, 40.27)\n",
       "Coordinate Operation:\n",
       "- name: Korea Unified Belt\n",
       "- method: Transverse Mercator\n",
       "Datum: Geocentric datum of Korea\n",
       "- Ellipsoid: GRS 1980\n",
       "- Prime Meridian: Greenwich"
      ]
     },
     "execution_count": 9,
     "metadata": {},
     "output_type": "execute_result"
    }
   ],
   "source": [
    "festival_gdf.crs"
   ]
  },
  {
   "cell_type": "code",
   "execution_count": 10,
   "metadata": {},
   "outputs": [
    {
     "data": {
      "text/plain": [
       "<Projected CRS: EPSG:5179>\n",
       "Name: Korea 2000 / Unified CS\n",
       "Axis Info [cartesian]:\n",
       "- X[north]: Northing (metre)\n",
       "- Y[east]: Easting (metre)\n",
       "Area of Use:\n",
       "- name: Republic of Korea (South Korea) - onshore and offshore.\n",
       "- bounds: (122.71, 28.6, 134.28, 40.27)\n",
       "Coordinate Operation:\n",
       "- name: Korea Unified Belt\n",
       "- method: Transverse Mercator\n",
       "Datum: Geocentric datum of Korea\n",
       "- Ellipsoid: GRS 1980\n",
       "- Prime Meridian: Greenwich"
      ]
     },
     "execution_count": 10,
     "metadata": {},
     "output_type": "execute_result"
    }
   ],
   "source": [
    "subway_gdf.crs"
   ]
  },
  {
   "cell_type": "markdown",
   "metadata": {},
   "source": [
    "#### Distance Calculation\n",
    "* 거리계산을 할때는 `평면직각좌표계(5179, 5186등)`로 변환 후 진행해야 함."
   ]
  },
  {
   "cell_type": "code",
   "execution_count": 11,
   "metadata": {},
   "outputs": [],
   "source": [
    "def check_distance_nearest(a_gdf, b_gdf):\n",
    "    _a_nodes = np.array(list(a_gdf.geometry.apply(lambda node: (node.centroid.x, node.centroid.y))))\n",
    "    _b_nodes = np.array(list(b_gdf.geometry.apply(lambda node: (node.centroid.x, node.centroid.y))))\n",
    "    _b_tree = cKDTree(_b_nodes)\n",
    "    dist, idx = _b_tree.query(_a_nodes, k=1)\n",
    "    _b_nearest_gdf = b_gdf.iloc[idx].drop(columns='geometry').reset_index(drop=True)\n",
    "    _gdf = pd.concat([a_gdf.reset_index(drop=True), _b_nearest_gdf, pd.Series(dist, name='dist')], axis=1)\n",
    "    return _gdf"
   ]
  },
  {
   "cell_type": "markdown",
   "metadata": {},
   "source": [
    "##### Extracting Nearest Subway for a Festival"
   ]
  },
  {
   "cell_type": "code",
   "execution_count": 13,
   "metadata": {},
   "outputs": [],
   "source": [
    "CHK_FESTIVAL_NAME = '구로G페스티벌'\n",
    "special_festival_gdf = festival_gdf[festival_gdf.name == CHK_FESTIVAL_NAME]"
   ]
  },
  {
   "cell_type": "code",
   "execution_count": 17,
   "metadata": {},
   "outputs": [],
   "source": [
    "nearest_gdf = check_distance_nearest(special_festival_gdf, subway_gdf)"
   ]
  },
  {
   "cell_type": "code",
   "execution_count": 18,
   "metadata": {},
   "outputs": [
    {
     "data": {
      "text/html": [
       "<div>\n",
       "<style scoped>\n",
       "    .dataframe tbody tr th:only-of-type {\n",
       "        vertical-align: middle;\n",
       "    }\n",
       "\n",
       "    .dataframe tbody tr th {\n",
       "        vertical-align: top;\n",
       "    }\n",
       "\n",
       "    .dataframe thead th {\n",
       "        text-align: right;\n",
       "    }\n",
       "</style>\n",
       "<table border=\"1\" class=\"dataframe\">\n",
       "  <thead>\n",
       "    <tr style=\"text-align: right;\">\n",
       "      <th></th>\n",
       "      <th>name</th>\n",
       "      <th>organizati</th>\n",
       "      <th>geometry</th>\n",
       "      <th>LINE_NM</th>\n",
       "      <th>YRMN</th>\n",
       "      <th>STATION_NM</th>\n",
       "      <th>IN_CNT</th>\n",
       "      <th>OUT_CNT</th>\n",
       "      <th>IN_OUT</th>\n",
       "      <th>IN_OUT_SCA</th>\n",
       "      <th>dist</th>\n",
       "    </tr>\n",
       "  </thead>\n",
       "  <tbody>\n",
       "    <tr>\n",
       "      <th>0</th>\n",
       "      <td>구로G페스티벌</td>\n",
       "      <td>서울특별시 구로구</td>\n",
       "      <td>POINT (945927.323 1944204.031)</td>\n",
       "      <td>2호선</td>\n",
       "      <td>202112</td>\n",
       "      <td>대림(구로구청)</td>\n",
       "      <td>645828.0</td>\n",
       "      <td>660728.0</td>\n",
       "      <td>1306556.0</td>\n",
       "      <td>0.298898</td>\n",
       "      <td>638.881443</td>\n",
       "    </tr>\n",
       "  </tbody>\n",
       "</table>\n",
       "</div>"
      ],
      "text/plain": [
       "      name organizati                        geometry LINE_NM    YRMN  \\\n",
       "0  구로G페스티벌  서울특별시 구로구  POINT (945927.323 1944204.031)     2호선  202112   \n",
       "\n",
       "  STATION_NM    IN_CNT   OUT_CNT     IN_OUT  IN_OUT_SCA        dist  \n",
       "0   대림(구로구청)  645828.0  660728.0  1306556.0    0.298898  638.881443  "
      ]
     },
     "execution_count": 18,
     "metadata": {},
     "output_type": "execute_result"
    }
   ],
   "source": [
    "nearest_gdf"
   ]
  },
  {
   "cell_type": "markdown",
   "metadata": {},
   "source": [
    "##### Extracting Nearest Subway for all Festival"
   ]
  },
  {
   "cell_type": "code",
   "execution_count": 19,
   "metadata": {},
   "outputs": [],
   "source": [
    "all_nearest_gdf = check_distance_nearest(festival_gdf, subway_gdf)"
   ]
  },
  {
   "cell_type": "code",
   "execution_count": 20,
   "metadata": {},
   "outputs": [
    {
     "data": {
      "text/html": [
       "<div>\n",
       "<style scoped>\n",
       "    .dataframe tbody tr th:only-of-type {\n",
       "        vertical-align: middle;\n",
       "    }\n",
       "\n",
       "    .dataframe tbody tr th {\n",
       "        vertical-align: top;\n",
       "    }\n",
       "\n",
       "    .dataframe thead th {\n",
       "        text-align: right;\n",
       "    }\n",
       "</style>\n",
       "<table border=\"1\" class=\"dataframe\">\n",
       "  <thead>\n",
       "    <tr style=\"text-align: right;\">\n",
       "      <th></th>\n",
       "      <th>name</th>\n",
       "      <th>organizati</th>\n",
       "      <th>geometry</th>\n",
       "      <th>LINE_NM</th>\n",
       "      <th>YRMN</th>\n",
       "      <th>STATION_NM</th>\n",
       "      <th>IN_CNT</th>\n",
       "      <th>OUT_CNT</th>\n",
       "      <th>IN_OUT</th>\n",
       "      <th>IN_OUT_SCA</th>\n",
       "      <th>dist</th>\n",
       "    </tr>\n",
       "  </thead>\n",
       "  <tbody>\n",
       "    <tr>\n",
       "      <th>0</th>\n",
       "      <td>구로G페스티벌</td>\n",
       "      <td>서울특별시 구로구</td>\n",
       "      <td>POINT (945927.323 1944204.031)</td>\n",
       "      <td>2호선</td>\n",
       "      <td>202112</td>\n",
       "      <td>대림(구로구청)</td>\n",
       "      <td>645828.0</td>\n",
       "      <td>660728.0</td>\n",
       "      <td>1306556.0</td>\n",
       "      <td>0.298898</td>\n",
       "      <td>638.881443</td>\n",
       "    </tr>\n",
       "    <tr>\n",
       "      <th>1</th>\n",
       "      <td>코로나로 인해 전체 일정 취소</td>\n",
       "      <td>서울특별시 강서구</td>\n",
       "      <td>POINT (942927.290 1952222.192)</td>\n",
       "      <td>9호선</td>\n",
       "      <td>202112</td>\n",
       "      <td>가양</td>\n",
       "      <td>544552.0</td>\n",
       "      <td>527052.0</td>\n",
       "      <td>1071604.0</td>\n",
       "      <td>0.245029</td>\n",
       "      <td>691.716009</td>\n",
       "    </tr>\n",
       "    <tr>\n",
       "      <th>2</th>\n",
       "      <td>강동선사문화축제</td>\n",
       "      <td>서울특별시 강동구</td>\n",
       "      <td>POINT (967395.183 1951230.727)</td>\n",
       "      <td>8호선</td>\n",
       "      <td>202112</td>\n",
       "      <td>암사</td>\n",
       "      <td>506279.0</td>\n",
       "      <td>449361.0</td>\n",
       "      <td>955640.0</td>\n",
       "      <td>0.218441</td>\n",
       "      <td>1108.223457</td>\n",
       "    </tr>\n",
       "    <tr>\n",
       "      <th>3</th>\n",
       "      <td>2022 소원 희망의 빛 거리</td>\n",
       "      <td>서울특별시 광진구</td>\n",
       "      <td>POINT (965465.452 1949694.336)</td>\n",
       "      <td>5호선</td>\n",
       "      <td>202112</td>\n",
       "      <td>광나루(장신대)</td>\n",
       "      <td>357309.0</td>\n",
       "      <td>331390.0</td>\n",
       "      <td>688699.0</td>\n",
       "      <td>0.157238</td>\n",
       "      <td>489.585139</td>\n",
       "    </tr>\n",
       "    <tr>\n",
       "      <th>4</th>\n",
       "      <td>2022 소원 희망의 빛 거리</td>\n",
       "      <td>서울특별시 광진구</td>\n",
       "      <td>POINT (964472.438 1949878.657)</td>\n",
       "      <td>5호선</td>\n",
       "      <td>202112</td>\n",
       "      <td>광나루(장신대)</td>\n",
       "      <td>357309.0</td>\n",
       "      <td>331390.0</td>\n",
       "      <td>688699.0</td>\n",
       "      <td>0.157238</td>\n",
       "      <td>567.444225</td>\n",
       "    </tr>\n",
       "  </tbody>\n",
       "</table>\n",
       "</div>"
      ],
      "text/plain": [
       "               name organizati                        geometry LINE_NM  \\\n",
       "0           구로G페스티벌  서울특별시 구로구  POINT (945927.323 1944204.031)     2호선   \n",
       "1  코로나로 인해 전체 일정 취소  서울특별시 강서구  POINT (942927.290 1952222.192)     9호선   \n",
       "2          강동선사문화축제  서울특별시 강동구  POINT (967395.183 1951230.727)     8호선   \n",
       "3  2022 소원 희망의 빛 거리  서울특별시 광진구  POINT (965465.452 1949694.336)     5호선   \n",
       "4  2022 소원 희망의 빛 거리  서울특별시 광진구  POINT (964472.438 1949878.657)     5호선   \n",
       "\n",
       "     YRMN STATION_NM    IN_CNT   OUT_CNT     IN_OUT  IN_OUT_SCA         dist  \n",
       "0  202112   대림(구로구청)  645828.0  660728.0  1306556.0    0.298898   638.881443  \n",
       "1  202112         가양  544552.0  527052.0  1071604.0    0.245029   691.716009  \n",
       "2  202112         암사  506279.0  449361.0   955640.0    0.218441  1108.223457  \n",
       "3  202112   광나루(장신대)  357309.0  331390.0   688699.0    0.157238   489.585139  \n",
       "4  202112   광나루(장신대)  357309.0  331390.0   688699.0    0.157238   567.444225  "
      ]
     },
     "execution_count": 20,
     "metadata": {},
     "output_type": "execute_result"
    }
   ],
   "source": [
    "all_nearest_gdf.head()"
   ]
  },
  {
   "cell_type": "markdown",
   "metadata": {},
   "source": [
    "#### Distance Calculation with GeoPandas"
   ]
  },
  {
   "cell_type": "code",
   "execution_count": 21,
   "metadata": {},
   "outputs": [
    {
     "data": {
      "text/html": [
       "<div>\n",
       "<style scoped>\n",
       "    .dataframe tbody tr th:only-of-type {\n",
       "        vertical-align: middle;\n",
       "    }\n",
       "\n",
       "    .dataframe tbody tr th {\n",
       "        vertical-align: top;\n",
       "    }\n",
       "\n",
       "    .dataframe thead th {\n",
       "        text-align: right;\n",
       "    }\n",
       "</style>\n",
       "<table border=\"1\" class=\"dataframe\">\n",
       "  <thead>\n",
       "    <tr style=\"text-align: right;\">\n",
       "      <th></th>\n",
       "      <th>name</th>\n",
       "      <th>organizati</th>\n",
       "      <th>geometry</th>\n",
       "      <th>index_right</th>\n",
       "      <th>LINE_NM</th>\n",
       "      <th>YRMN</th>\n",
       "      <th>STATION_NM</th>\n",
       "      <th>IN_CNT</th>\n",
       "      <th>OUT_CNT</th>\n",
       "      <th>IN_OUT</th>\n",
       "      <th>IN_OUT_SCA</th>\n",
       "      <th>distances</th>\n",
       "    </tr>\n",
       "  </thead>\n",
       "  <tbody>\n",
       "    <tr>\n",
       "      <th>0</th>\n",
       "      <td>구로G페스티벌</td>\n",
       "      <td>서울특별시 구로구</td>\n",
       "      <td>POINT (945927.323 1944204.031)</td>\n",
       "      <td>342</td>\n",
       "      <td>2호선</td>\n",
       "      <td>202112</td>\n",
       "      <td>대림(구로구청)</td>\n",
       "      <td>645828.0</td>\n",
       "      <td>660728.0</td>\n",
       "      <td>1306556.0</td>\n",
       "      <td>0.298898</td>\n",
       "      <td>638.881443</td>\n",
       "    </tr>\n",
       "    <tr>\n",
       "      <th>1</th>\n",
       "      <td>코로나로 인해 전체 일정 취소</td>\n",
       "      <td>서울특별시 강서구</td>\n",
       "      <td>POINT (942927.290 1952222.192)</td>\n",
       "      <td>53</td>\n",
       "      <td>9호선</td>\n",
       "      <td>202112</td>\n",
       "      <td>가양</td>\n",
       "      <td>544552.0</td>\n",
       "      <td>527052.0</td>\n",
       "      <td>1071604.0</td>\n",
       "      <td>0.245029</td>\n",
       "      <td>691.716009</td>\n",
       "    </tr>\n",
       "    <tr>\n",
       "      <th>2</th>\n",
       "      <td>강동선사문화축제</td>\n",
       "      <td>서울특별시 강동구</td>\n",
       "      <td>POINT (967395.183 1951230.727)</td>\n",
       "      <td>66</td>\n",
       "      <td>8호선</td>\n",
       "      <td>202112</td>\n",
       "      <td>암사</td>\n",
       "      <td>506279.0</td>\n",
       "      <td>449361.0</td>\n",
       "      <td>955640.0</td>\n",
       "      <td>0.218441</td>\n",
       "      <td>1108.223457</td>\n",
       "    </tr>\n",
       "    <tr>\n",
       "      <th>13</th>\n",
       "      <td>제15회 구리한강 유채꽃 축제</td>\n",
       "      <td>경기도 구리시</td>\n",
       "      <td>POINT (967580.935 1952852.498)</td>\n",
       "      <td>66</td>\n",
       "      <td>8호선</td>\n",
       "      <td>202112</td>\n",
       "      <td>암사</td>\n",
       "      <td>506279.0</td>\n",
       "      <td>449361.0</td>\n",
       "      <td>955640.0</td>\n",
       "      <td>0.218441</td>\n",
       "      <td>2732.820904</td>\n",
       "    </tr>\n",
       "    <tr>\n",
       "      <th>14</th>\n",
       "      <td>제15회 구리 코스모스 축제</td>\n",
       "      <td>경기도 구리시</td>\n",
       "      <td>POINT (967580.935 1952852.498)</td>\n",
       "      <td>66</td>\n",
       "      <td>8호선</td>\n",
       "      <td>202112</td>\n",
       "      <td>암사</td>\n",
       "      <td>506279.0</td>\n",
       "      <td>449361.0</td>\n",
       "      <td>955640.0</td>\n",
       "      <td>0.218441</td>\n",
       "      <td>2732.820904</td>\n",
       "    </tr>\n",
       "  </tbody>\n",
       "</table>\n",
       "</div>"
      ],
      "text/plain": [
       "                name organizati                        geometry  index_right  \\\n",
       "0            구로G페스티벌  서울특별시 구로구  POINT (945927.323 1944204.031)          342   \n",
       "1   코로나로 인해 전체 일정 취소  서울특별시 강서구  POINT (942927.290 1952222.192)           53   \n",
       "2           강동선사문화축제  서울특별시 강동구  POINT (967395.183 1951230.727)           66   \n",
       "13  제15회 구리한강 유채꽃 축제    경기도 구리시  POINT (967580.935 1952852.498)           66   \n",
       "14   제15회 구리 코스모스 축제    경기도 구리시  POINT (967580.935 1952852.498)           66   \n",
       "\n",
       "   LINE_NM    YRMN STATION_NM    IN_CNT   OUT_CNT     IN_OUT  IN_OUT_SCA  \\\n",
       "0      2호선  202112   대림(구로구청)  645828.0  660728.0  1306556.0    0.298898   \n",
       "1      9호선  202112         가양  544552.0  527052.0  1071604.0    0.245029   \n",
       "2      8호선  202112         암사  506279.0  449361.0   955640.0    0.218441   \n",
       "13     8호선  202112         암사  506279.0  449361.0   955640.0    0.218441   \n",
       "14     8호선  202112         암사  506279.0  449361.0   955640.0    0.218441   \n",
       "\n",
       "      distances  \n",
       "0    638.881443  \n",
       "1    691.716009  \n",
       "2   1108.223457  \n",
       "13  2732.820904  \n",
       "14  2732.820904  "
      ]
     },
     "execution_count": 21,
     "metadata": {},
     "output_type": "execute_result"
    }
   ],
   "source": [
    "all_nearest_gpd_gdf = gpd.sjoin_nearest(festival_gdf, subway_gdf, distance_col='distances')\n",
    "all_nearest_gpd_gdf.head()"
   ]
  },
  {
   "cell_type": "code",
   "execution_count": 22,
   "metadata": {},
   "outputs": [
    {
     "data": {
      "text/plain": [
       "((47, 3), (47, 12))"
      ]
     },
     "execution_count": 22,
     "metadata": {},
     "output_type": "execute_result"
    }
   ],
   "source": [
    "festival_gdf.shape, all_nearest_gpd_gdf.shape"
   ]
  },
  {
   "cell_type": "markdown",
   "metadata": {},
   "source": [
    "#### Extracting Radius Distance"
   ]
  },
  {
   "cell_type": "markdown",
   "metadata": {},
   "source": [
    "##### Specifying a Radius with Buffer"
   ]
  },
  {
   "cell_type": "code",
   "execution_count": 24,
   "metadata": {},
   "outputs": [
    {
     "data": {
      "text/plain": [
       "0    POLYGON ((946627.323 1944204.031, 946623.952 1...\n",
       "dtype: geometry"
      ]
     },
     "execution_count": 24,
     "metadata": {},
     "output_type": "execute_result"
    }
   ],
   "source": [
    "# 700m\n",
    "special_festival_radius = special_festival_gdf.geometry.buffer(700)\n",
    "special_festival_radius"
   ]
  },
  {
   "cell_type": "code",
   "execution_count": 32,
   "metadata": {},
   "outputs": [
    {
     "name": "stdout",
     "output_type": "stream",
     "text": [
      "<class 'geopandas.geodataframe.GeoDataFrame'>\n",
      "Index: 1 entries, 0 to 0\n",
      "Data columns (total 2 columns):\n",
      " #   Column    Non-Null Count  Dtype   \n",
      "---  ------    --------------  -----   \n",
      " 0   name      1 non-null      object  \n",
      " 1   geometry  1 non-null      geometry\n",
      "dtypes: geometry(1), object(1)\n",
      "memory usage: 24.0+ bytes\n"
     ]
    }
   ],
   "source": [
    "special_festival_radius_gdf = gpd.GeoDataFrame(\n",
    "    special_festival_gdf[['name']],         # special_festival_gdf.name과 ['name']과 다름\n",
    "    geometry=special_festival_radius,\n",
    "    crs='epsg:5179'\n",
    ")\n",
    "special_festival_radius_gdf.info()"
   ]
  },
  {
   "cell_type": "code",
   "execution_count": 33,
   "metadata": {},
   "outputs": [
    {
     "data": {
      "text/html": [
       "<div style=\"width:100%;\"><div style=\"position:relative;width:100%;height:0;padding-bottom:60%;\"><span style=\"color:#565656\">Make this Notebook Trusted to load map: File -> Trust Notebook</span><iframe srcdoc=\"&lt;!DOCTYPE html&gt;\n",
       "&lt;html&gt;\n",
       "&lt;head&gt;\n",
       "    \n",
       "    &lt;meta http-equiv=&quot;content-type&quot; content=&quot;text/html; charset=UTF-8&quot; /&gt;\n",
       "    \n",
       "        &lt;script&gt;\n",
       "            L_NO_TOUCH = false;\n",
       "            L_DISABLE_3D = false;\n",
       "        &lt;/script&gt;\n",
       "    \n",
       "    &lt;style&gt;html, body {width: 100%;height: 100%;margin: 0;padding: 0;}&lt;/style&gt;\n",
       "    &lt;style&gt;#map {position:absolute;top:0;bottom:0;right:0;left:0;}&lt;/style&gt;\n",
       "    &lt;script src=&quot;https://cdn.jsdelivr.net/npm/leaflet@1.9.3/dist/leaflet.js&quot;&gt;&lt;/script&gt;\n",
       "    &lt;script src=&quot;https://code.jquery.com/jquery-1.12.4.min.js&quot;&gt;&lt;/script&gt;\n",
       "    &lt;script src=&quot;https://cdn.jsdelivr.net/npm/bootstrap@5.2.2/dist/js/bootstrap.bundle.min.js&quot;&gt;&lt;/script&gt;\n",
       "    &lt;script src=&quot;https://cdnjs.cloudflare.com/ajax/libs/Leaflet.awesome-markers/2.0.2/leaflet.awesome-markers.js&quot;&gt;&lt;/script&gt;\n",
       "    &lt;link rel=&quot;stylesheet&quot; href=&quot;https://cdn.jsdelivr.net/npm/leaflet@1.9.3/dist/leaflet.css&quot;/&gt;\n",
       "    &lt;link rel=&quot;stylesheet&quot; href=&quot;https://cdn.jsdelivr.net/npm/bootstrap@5.2.2/dist/css/bootstrap.min.css&quot;/&gt;\n",
       "    &lt;link rel=&quot;stylesheet&quot; href=&quot;https://netdna.bootstrapcdn.com/bootstrap/3.0.0/css/bootstrap.min.css&quot;/&gt;\n",
       "    &lt;link rel=&quot;stylesheet&quot; href=&quot;https://cdn.jsdelivr.net/npm/@fortawesome/fontawesome-free@6.2.0/css/all.min.css&quot;/&gt;\n",
       "    &lt;link rel=&quot;stylesheet&quot; href=&quot;https://cdnjs.cloudflare.com/ajax/libs/Leaflet.awesome-markers/2.0.2/leaflet.awesome-markers.css&quot;/&gt;\n",
       "    &lt;link rel=&quot;stylesheet&quot; href=&quot;https://cdn.jsdelivr.net/gh/python-visualization/folium/folium/templates/leaflet.awesome.rotate.min.css&quot;/&gt;\n",
       "    \n",
       "            &lt;meta name=&quot;viewport&quot; content=&quot;width=device-width,\n",
       "                initial-scale=1.0, maximum-scale=1.0, user-scalable=no&quot; /&gt;\n",
       "            &lt;style&gt;\n",
       "                #map_b784af959640fe588693e3b98a2be467 {\n",
       "                    position: relative;\n",
       "                    width: 100.0%;\n",
       "                    height: 100.0%;\n",
       "                    left: 0.0%;\n",
       "                    top: 0.0%;\n",
       "                }\n",
       "                .leaflet-container { font-size: 1rem; }\n",
       "            &lt;/style&gt;\n",
       "        \n",
       "    \n",
       "                    &lt;style&gt;\n",
       "                        .foliumtooltip {\n",
       "                            \n",
       "                        }\n",
       "                       .foliumtooltip table{\n",
       "                            margin: auto;\n",
       "                        }\n",
       "                        .foliumtooltip tr{\n",
       "                            text-align: left;\n",
       "                        }\n",
       "                        .foliumtooltip th{\n",
       "                            padding: 2px; padding-right: 8px;\n",
       "                        }\n",
       "                    &lt;/style&gt;\n",
       "            \n",
       "&lt;/head&gt;\n",
       "&lt;body&gt;\n",
       "    \n",
       "    \n",
       "            &lt;div class=&quot;folium-map&quot; id=&quot;map_b784af959640fe588693e3b98a2be467&quot; &gt;&lt;/div&gt;\n",
       "        \n",
       "&lt;/body&gt;\n",
       "&lt;script&gt;\n",
       "    \n",
       "    \n",
       "            var map_b784af959640fe588693e3b98a2be467 = L.map(\n",
       "                &quot;map_b784af959640fe588693e3b98a2be467&quot;,\n",
       "                {\n",
       "                    center: [37.49551122659227, 126.8882891080224],\n",
       "                    crs: L.CRS.EPSG3857,\n",
       "                    zoom: 10,\n",
       "                    zoomControl: true,\n",
       "                    preferCanvas: false,\n",
       "                }\n",
       "            );\n",
       "            L.control.scale().addTo(map_b784af959640fe588693e3b98a2be467);\n",
       "\n",
       "            \n",
       "\n",
       "        \n",
       "    \n",
       "            var tile_layer_18e796c729274c479f6aa63daa8c3298 = L.tileLayer(\n",
       "                &quot;http://mt0.google.com/vt/lyrs=y\\u0026hl=en\\u0026x={x}\\u0026y={y}\\u0026z={z}\\u0026s=Ga&quot;,\n",
       "                {&quot;attribution&quot;: &quot;google&quot;, &quot;detectRetina&quot;: false, &quot;maxNativeZoom&quot;: 18, &quot;maxZoom&quot;: 18, &quot;minZoom&quot;: 0, &quot;noWrap&quot;: false, &quot;opacity&quot;: 1, &quot;subdomains&quot;: &quot;abc&quot;, &quot;tms&quot;: false}\n",
       "            ).addTo(map_b784af959640fe588693e3b98a2be467);\n",
       "        \n",
       "    \n",
       "            map_b784af959640fe588693e3b98a2be467.fitBounds(\n",
       "                [[37.48920201563294, 126.88037059332103], [37.50182043755161, 126.89620762272376]],\n",
       "                {}\n",
       "            );\n",
       "        \n",
       "    \n",
       "        function geo_json_036e5ce1754831d65e3db09f4afda30c_styler(feature) {\n",
       "            switch(feature.id) {\n",
       "                default:\n",
       "                    return {&quot;fillOpacity&quot;: 0.5, &quot;weight&quot;: 2};\n",
       "            }\n",
       "        }\n",
       "        function geo_json_036e5ce1754831d65e3db09f4afda30c_highlighter(feature) {\n",
       "            switch(feature.id) {\n",
       "                default:\n",
       "                    return {&quot;fillOpacity&quot;: 0.75};\n",
       "            }\n",
       "        }\n",
       "        function geo_json_036e5ce1754831d65e3db09f4afda30c_pointToLayer(feature, latlng) {\n",
       "            var opts = {&quot;bubblingMouseEvents&quot;: true, &quot;color&quot;: &quot;#3388ff&quot;, &quot;dashArray&quot;: null, &quot;dashOffset&quot;: null, &quot;fill&quot;: true, &quot;fillColor&quot;: &quot;#3388ff&quot;, &quot;fillOpacity&quot;: 0.2, &quot;fillRule&quot;: &quot;evenodd&quot;, &quot;lineCap&quot;: &quot;round&quot;, &quot;lineJoin&quot;: &quot;round&quot;, &quot;opacity&quot;: 1.0, &quot;radius&quot;: 2, &quot;stroke&quot;: true, &quot;weight&quot;: 3};\n",
       "            \n",
       "            let style = geo_json_036e5ce1754831d65e3db09f4afda30c_styler(feature)\n",
       "            Object.assign(opts, style)\n",
       "            \n",
       "            return new L.CircleMarker(latlng, opts)\n",
       "        }\n",
       "\n",
       "        function geo_json_036e5ce1754831d65e3db09f4afda30c_onEachFeature(feature, layer) {\n",
       "            layer.on({\n",
       "                mouseout: function(e) {\n",
       "                    if(typeof e.target.setStyle === &quot;function&quot;){\n",
       "                        geo_json_036e5ce1754831d65e3db09f4afda30c.resetStyle(e.target);\n",
       "                    }\n",
       "                },\n",
       "                mouseover: function(e) {\n",
       "                    if(typeof e.target.setStyle === &quot;function&quot;){\n",
       "                        const highlightStyle = geo_json_036e5ce1754831d65e3db09f4afda30c_highlighter(e.target.feature)\n",
       "                        e.target.setStyle(highlightStyle);\n",
       "                    }\n",
       "                },\n",
       "            });\n",
       "        };\n",
       "        var geo_json_036e5ce1754831d65e3db09f4afda30c = L.geoJson(null, {\n",
       "                onEachFeature: geo_json_036e5ce1754831d65e3db09f4afda30c_onEachFeature,\n",
       "            \n",
       "                style: geo_json_036e5ce1754831d65e3db09f4afda30c_styler,\n",
       "                pointToLayer: geo_json_036e5ce1754831d65e3db09f4afda30c_pointToLayer\n",
       "        });\n",
       "\n",
       "        function geo_json_036e5ce1754831d65e3db09f4afda30c_add (data) {\n",
       "            geo_json_036e5ce1754831d65e3db09f4afda30c\n",
       "                .addData(data)\n",
       "                .addTo(map_b784af959640fe588693e3b98a2be467);\n",
       "        }\n",
       "            geo_json_036e5ce1754831d65e3db09f4afda30c_add({&quot;bbox&quot;: [126.88037059332103, 37.48920201563294, 126.89620762272376, 37.50182043755161], &quot;features&quot;: [{&quot;bbox&quot;: [126.88037059332103, 37.48920201563294, 126.89620762272376, 37.50182043755161], &quot;geometry&quot;: {&quot;coordinates&quot;: [[[126.89620762272376, 37.495551967866255], [126.89617447194529, 37.4949333612248], [126.89606538237148, 37.49432032220665], [126.89588140640662, 37.49371875452282], [126.89562431751877, 37.49313445127326], [126.89529659309594, 37.49257303916864], [126.89490139053049, 37.492039924359425], [126.8944425167647, 37.49154024039288], [126.8939243915921, 37.49107879879888], [126.89335200507006, 37.49066004277912], [126.89273086945404, 37.490288004444785], [126.89206696611681, 37.48996626601353], [126.89136668796402, 37.48969792533817], [126.89063677789954, 37.489485566098196], [126.88988426393199, 37.489331232940096], [126.88911639154601, 37.48923641180508], [126.88834055398708, 37.48920201563294], [126.88756422112908, 37.48922837557905], [126.88679486760707, 37.48931523782912], [126.88603990090438, 37.48946176604156], [126.88530659008414, 37.48966654939483], [126.88460199584871, 37.48992761616183], [126.8839329025982, 37.49024245268149], [126.88330575314009, 37.490608027545484], [126.88272658667717, 37.49102082076764], [126.88220098066923, 37.491476857656664], [126.88173399712804, 37.49197174706622], [126.88133013386215, 37.49250072365589], [126.88099328114116, 37.49305869375638], [126.88072668419788, 37.493640284398914], [126.88053291193063, 37.494239895037225], [126.88041383210852, 37.49485175146503], [126.88037059332103, 37.495469961410485], [126.88040361384788, 37.496088571272786], [126.88051257755897, 37.49670162345475], [126.8806964368869, 37.497303213739485], [126.88095342284579, 37.497887548158516], [126.88128106200321, 37.49844899880329], [126.88167620024346, 37.498982158042324], [126.8821350330963, 37.49948189062092], [126.88265314234043, 37.499943383141094], [126.88322553853055, 37.50036219044404], [126.88384670903977, 37.50073427844781], [126.8845106711543, 37.501056063025985], [126.88521102970972, 37.50132444455235], [126.88594103871242, 37.50153683777753], [126.88669366635155, 37.501691196749015], [126.88746166277417, 37.501786034533566], [126.88823762996812, 37.50182043755161], [126.88901409307772, 37.50179407438464], [126.88978357246246, 37.50170719897076], [126.89053865580212, 37.5015606481574], [126.89127206955132, 37.50135583363469], [126.89197674905215, 37.50109472832752], [126.89264590662782, 37.500779847378034], [126.89327309699888, 37.500414223902], [126.89385227939032, 37.50000137975368], [126.89437787573013, 37.49954529158146], [126.89484482437814, 37.49905035250246], [126.89524862886671, 37.49852132976588], [126.89558540118503, 37.497963318814385], [126.8958518991901, 37.49738169418664], [126.89604555778581, 37.49678205773496], [126.89616451357128, 37.4961701846576], [126.89620762272376, 37.495551967866255]]], &quot;type&quot;: &quot;Polygon&quot;}, &quot;id&quot;: &quot;0&quot;, &quot;properties&quot;: {&quot;name&quot;: &quot;\\uad6c\\ub85cG\\ud398\\uc2a4\\ud2f0\\ubc8c&quot;}, &quot;type&quot;: &quot;Feature&quot;}], &quot;type&quot;: &quot;FeatureCollection&quot;});\n",
       "\n",
       "        \n",
       "    \n",
       "    geo_json_036e5ce1754831d65e3db09f4afda30c.bindTooltip(\n",
       "    function(layer){\n",
       "    let div = L.DomUtil.create(&#x27;div&#x27;);\n",
       "    \n",
       "    let handleObject = feature=&gt;typeof(feature)==&#x27;object&#x27; ? JSON.stringify(feature) : feature;\n",
       "    let fields = [&quot;name&quot;];\n",
       "    let aliases = [&quot;name&quot;];\n",
       "    let table = &#x27;&lt;table&gt;&#x27; +\n",
       "        String(\n",
       "        fields.map(\n",
       "        (v,i)=&gt;\n",
       "        `&lt;tr&gt;\n",
       "            &lt;th&gt;${aliases[i]}&lt;/th&gt;\n",
       "            \n",
       "            &lt;td&gt;${handleObject(layer.feature.properties[v])}&lt;/td&gt;\n",
       "        &lt;/tr&gt;`).join(&#x27;&#x27;))\n",
       "    +&#x27;&lt;/table&gt;&#x27;;\n",
       "    div.innerHTML=table;\n",
       "    \n",
       "    return div\n",
       "    }\n",
       "    ,{&quot;className&quot;: &quot;foliumtooltip&quot;, &quot;sticky&quot;: true});\n",
       "                     \n",
       "&lt;/script&gt;\n",
       "&lt;/html&gt;\" style=\"position:absolute;width:100%;height:100%;left:0;top:0;border:none !important;\" allowfullscreen webkitallowfullscreen mozallowfullscreen></iframe></div></div>"
      ],
      "text/plain": [
       "<folium.folium.Map at 0x1e3e2abb3a0>"
      ]
     },
     "execution_count": 33,
     "metadata": {},
     "output_type": "execute_result"
    }
   ],
   "source": [
    "special_festival_radius_gdf.explore(\n",
    "    tiles='http://mt0.google.com/vt/lyrs=y&hl=en&x={x}&y={y}&z={z}&s=Ga', \n",
    "    attr='google',\n",
    ")"
   ]
  },
  {
   "cell_type": "code",
   "execution_count": null,
   "metadata": {},
   "outputs": [],
   "source": []
  }
 ],
 "metadata": {
  "kernelspec": {
   "display_name": "geoaip39",
   "language": "python",
   "name": "python3"
  },
  "language_info": {
   "codemirror_mode": {
    "name": "ipython",
    "version": 3
   },
   "file_extension": ".py",
   "mimetype": "text/x-python",
   "name": "python",
   "nbconvert_exporter": "python",
   "pygments_lexer": "ipython3",
   "version": "3.9.17"
  },
  "orig_nbformat": 4
 },
 "nbformat": 4,
 "nbformat_minor": 2
}
