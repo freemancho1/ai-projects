{
 "cells": [
  {
   "cell_type": "markdown",
   "metadata": {},
   "source": [
    "#### Import Libraries"
   ]
  },
  {
   "cell_type": "code",
   "execution_count": 1,
   "metadata": {},
   "outputs": [],
   "source": [
    "import os\n",
    "import pandas as pd\n",
    "import geopandas as gpd\n",
    "\n",
    "import requests\n",
    "import json"
   ]
  },
  {
   "cell_type": "markdown",
   "metadata": {},
   "source": [
    "#### GeoJSON file\n",
    "* VW-LAB GeoJSON file"
   ]
  },
  {
   "cell_type": "code",
   "execution_count": 2,
   "metadata": {},
   "outputs": [
    {
     "name": "stdout",
     "output_type": "stream",
     "text": [
      "<class 'geopandas.geodataframe.GeoDataFrame'>\n",
      "RangeIndex: 3513 entries, 0 to 3512\n",
      "Data columns (total 10 columns):\n",
      " #   Column    Non-Null Count  Dtype   \n",
      "---  ------    --------------  -----   \n",
      " 0   OBJECTID  3513 non-null   int64   \n",
      " 1   adm_nm    3513 non-null   object  \n",
      " 2   adm_cd    3513 non-null   object  \n",
      " 3   adm_cd2   3513 non-null   object  \n",
      " 4   sgg       3513 non-null   object  \n",
      " 5   sido      3513 non-null   object  \n",
      " 6   sidonm    3513 non-null   object  \n",
      " 7   sggnm     3513 non-null   object  \n",
      " 8   adm_cd8   3513 non-null   object  \n",
      " 9   geometry  3513 non-null   geometry\n",
      "dtypes: geometry(1), int64(1), object(8)\n",
      "memory usage: 274.6+ KB\n"
     ]
    }
   ],
   "source": [
    "WEB_URI = 'https://github.com/vuski/admdongkor/raw/master/ver20220701/HangJeongDong_ver20220701.geojson'\n",
    "\n",
    "dong_gdf = gpd.read_file(WEB_URI)\n",
    "dong_gdf.info()"
   ]
  },
  {
   "cell_type": "code",
   "execution_count": null,
   "metadata": {},
   "outputs": [],
   "source": [
    "OUT_FILE_PATH = os.path.join(os.getcwd(), '89_data', 'vw-lab.HangJeongDong_ver20220701.geojson')\n",
    "dong_gdf.to_file(OUT_FILE_PATH, driver='GeoJSON')"
   ]
  },
  {
   "cell_type": "markdown",
   "metadata": {},
   "source": [
    "#### CSV to pd.DataFrame\n",
    "* 전국도서관표준데이터 with 공공데이터포털"
   ]
  },
  {
   "cell_type": "code",
   "execution_count": 7,
   "metadata": {},
   "outputs": [
    {
     "name": "stdout",
     "output_type": "stream",
     "text": [
      "<class 'pandas.core.frame.DataFrame'>\n",
      "RangeIndex: 3629 entries, 0 to 3628\n",
      "Data columns (total 28 columns):\n",
      " #   Column      Non-Null Count  Dtype  \n",
      "---  ------      --------------  -----  \n",
      " 0   도서관명        3629 non-null   object \n",
      " 1   시도명         3629 non-null   object \n",
      " 2   시군구명        3629 non-null   object \n",
      " 3   도서관유형       3629 non-null   object \n",
      " 4   휴관일         3629 non-null   object \n",
      " 5   평일운영시작시각    3629 non-null   object \n",
      " 6   평일운영종료시각    3629 non-null   object \n",
      " 7   토요일운영시작시각   3629 non-null   object \n",
      " 8   토요일운영종료시각   3629 non-null   object \n",
      " 9   공휴일운영시작시각   3629 non-null   object \n",
      " 10  공휴일운영종료시각   3629 non-null   object \n",
      " 11  열람좌석수       3629 non-null   int64  \n",
      " 12  자료수(도서)     3629 non-null   int64  \n",
      " 13  자료수(연속간행물)  3629 non-null   int64  \n",
      " 14  자료수(비도서)    3629 non-null   int64  \n",
      " 15  대출가능권수      3629 non-null   int64  \n",
      " 16  대출가능일수      3629 non-null   int64  \n",
      " 17  소재지도로명주소    3629 non-null   object \n",
      " 18  운영기관명       2961 non-null   object \n",
      " 19  도서관전화번호     3396 non-null   object \n",
      " 20  부지면적        2019 non-null   float64\n",
      " 21  건물면적        3148 non-null   float64\n",
      " 22  홈페이지주소      2207 non-null   object \n",
      " 23  위도          3371 non-null   float64\n",
      " 24  경도          3382 non-null   float64\n",
      " 25  데이터기준일자     3629 non-null   object \n",
      " 26  제공기관코드      3629 non-null   object \n",
      " 27  제공기관명       3629 non-null   object \n",
      "dtypes: float64(4), int64(6), object(18)\n",
      "memory usage: 794.0+ KB\n"
     ]
    }
   ],
   "source": [
    "CSV_WEB_URI = 'https://www.data.go.kr/download/15013109/standard.do?dataType=csv'\n",
    "lib_df = pd.read_csv(CSV_WEB_URI, encoding='cp949')\n",
    "lib_df.info()\n",
    "# 23, 24 컬럼이 위경도 정보임"
   ]
  },
  {
   "cell_type": "code",
   "execution_count": 8,
   "metadata": {},
   "outputs": [],
   "source": [
    "OUT_FILE_PATH = os.path.join(os.getcwd(), '89_data', 'standard-libraries.csv')\n",
    "lib_df.to_csv(OUT_FILE_PATH, index=False)"
   ]
  },
  {
   "cell_type": "code",
   "execution_count": 9,
   "metadata": {},
   "outputs": [
    {
     "name": "stdout",
     "output_type": "stream",
     "text": [
      "<class 'pandas.core.frame.DataFrame'>\n",
      "RangeIndex: 3629 entries, 0 to 3628\n",
      "Data columns (total 28 columns):\n",
      " #   Column      Non-Null Count  Dtype  \n",
      "---  ------      --------------  -----  \n",
      " 0   도서관명        3629 non-null   object \n",
      " 1   시도명         3629 non-null   object \n",
      " 2   시군구명        3629 non-null   object \n",
      " 3   도서관유형       3629 non-null   object \n",
      " 4   휴관일         3629 non-null   object \n",
      " 5   평일운영시작시각    3629 non-null   object \n",
      " 6   평일운영종료시각    3629 non-null   object \n",
      " 7   토요일운영시작시각   3629 non-null   object \n",
      " 8   토요일운영종료시각   3629 non-null   object \n",
      " 9   공휴일운영시작시각   3629 non-null   object \n",
      " 10  공휴일운영종료시각   3629 non-null   object \n",
      " 11  열람좌석수       3629 non-null   int64  \n",
      " 12  자료수(도서)     3629 non-null   int64  \n",
      " 13  자료수(연속간행물)  3629 non-null   int64  \n",
      " 14  자료수(비도서)    3629 non-null   int64  \n",
      " 15  대출가능권수      3629 non-null   int64  \n",
      " 16  대출가능일수      3629 non-null   int64  \n",
      " 17  소재지도로명주소    3629 non-null   object \n",
      " 18  운영기관명       2961 non-null   object \n",
      " 19  도서관전화번호     3396 non-null   object \n",
      " 20  부지면적        2019 non-null   float64\n",
      " 21  건물면적        3148 non-null   float64\n",
      " 22  홈페이지주소      2207 non-null   object \n",
      " 23  위도          3371 non-null   float64\n",
      " 24  경도          3382 non-null   float64\n",
      " 25  데이터기준일자     3629 non-null   object \n",
      " 26  제공기관코드      3629 non-null   object \n",
      " 27  제공기관명       3629 non-null   object \n",
      "dtypes: float64(4), int64(6), object(18)\n",
      "memory usage: 794.0+ KB\n"
     ]
    }
   ],
   "source": [
    "_lib_df = pd.read_csv(OUT_FILE_PATH)\n",
    "_lib_df.info()"
   ]
  },
  {
   "cell_type": "markdown",
   "metadata": {},
   "source": [
    "#### JSON\n",
    "* `전국문화축제표준데이터` in 공공데이터포털"
   ]
  },
  {
   "cell_type": "code",
   "execution_count": 12,
   "metadata": {},
   "outputs": [],
   "source": [
    "# 인터넷상의 데이터를 가져올때 사용\n",
    "# pandas와 같이 대형 라이브러리들은 자체 통신 라이브러리가 있지만,\n",
    "# json은 통신 라이브러리가 없어, (거의) 표준인 requests를 이용해 인터넷 자료를 가져옴\n",
    "import requests\n",
    "import json"
   ]
  },
  {
   "cell_type": "code",
   "execution_count": 13,
   "metadata": {},
   "outputs": [],
   "source": [
    "JSON_URI = 'https://www.data.go.kr/download/15013104/standard.do?dataType=json'\n",
    "json_data = json.loads(str(requests.get(JSON_URI).text))"
   ]
  },
  {
   "cell_type": "markdown",
   "metadata": {},
   "source": [
    "* JSON 파일 둘러보기"
   ]
  },
  {
   "cell_type": "code",
   "execution_count": 14,
   "metadata": {},
   "outputs": [
    {
     "data": {
      "text/plain": [
       "2"
      ]
     },
     "execution_count": 14,
     "metadata": {},
     "output_type": "execute_result"
    }
   ],
   "source": [
    "len(json_data)"
   ]
  },
  {
   "cell_type": "code",
   "execution_count": 11,
   "metadata": {},
   "outputs": [
    {
     "name": "stdout",
     "output_type": "stream",
     "text": [
      "fields\n",
      "records\n"
     ]
    }
   ],
   "source": [
    "for key in json_data.keys():\n",
    "    print(key)"
   ]
  },
  {
   "cell_type": "code",
   "execution_count": 8,
   "metadata": {},
   "outputs": [
    {
     "data": {
      "text/plain": [
       "[{'id': '축제명'},\n",
       " {'id': '개최장소'},\n",
       " {'id': '축제시작일자'},\n",
       " {'id': '축제종료일자'},\n",
       " {'id': '축제내용'},\n",
       " {'id': '주관기관'},\n",
       " {'id': '주최기관'},\n",
       " {'id': '후원기관'},\n",
       " {'id': '전화번호'},\n",
       " {'id': '홈페이지주소'},\n",
       " {'id': '관련정보'},\n",
       " {'id': '소재지도로명주소'},\n",
       " {'id': '소재지지번주소'},\n",
       " {'id': '위도'},\n",
       " {'id': '경도'},\n",
       " {'id': '데이터기준일자'},\n",
       " {'id': '제공기관코드'},\n",
       " {'id': '제공기관명'}]"
      ]
     },
     "execution_count": 8,
     "metadata": {},
     "output_type": "execute_result"
    }
   ],
   "source": [
    "json_data.get('fields', [])"
   ]
  },
  {
   "cell_type": "code",
   "execution_count": 17,
   "metadata": {},
   "outputs": [
    {
     "data": {
      "text/plain": [
       "1707"
      ]
     },
     "execution_count": 17,
     "metadata": {},
     "output_type": "execute_result"
    }
   ],
   "source": [
    "len(json_data.get('records', []))"
   ]
  },
  {
   "cell_type": "code",
   "execution_count": 19,
   "metadata": {},
   "outputs": [
    {
     "data": {
      "text/plain": [
       "[{'축제명': '춘천마임축제 봄시즌',\n",
       "  '개최장소': '춘천시내 다수지역',\n",
       "  '축제시작일자': '2021-05-23',\n",
       "  '축제종료일자': '2021-05-29',\n",
       "  '축제내용': '2021년 우리의 잃어버린 봄을 찾기위한 무언의 몸짓으로 시민과 예술가의 봄을 찾는 공연',\n",
       "  '주관기관': '(사)춘천마임축제',\n",
       "  '주최기관': '(사)춘천마임축제+KBS방송총국+춘천MBC',\n",
       "  '후원기관': '문화체육관광부+강원도청+강원도 춘천시청+한국관광공사+남이섬교육문화그룹+나미나라공화국남이섬+한림대학교춘천성심병원+한국문화예술위원회+한국메세나협회',\n",
       "  '전화번호': '033-242-0585',\n",
       "  '홈페이지주소': 'https://www.cccf.or.kr/Home/H40000/H40400/boardView?board_key=7642&search_type=1&search_keyword=ECB698ECB29CEBA788EC9E84ECB695ECA09C+EBB484EC8B9CECA68C',\n",
       "  '관련정보': '전시관람',\n",
       "  '소재지도로명주소': '강원도 춘천시 춘천로 112 축제극장몸짓',\n",
       "  '소재지지번주소': '강원도 춘천시 효자동 531',\n",
       "  '위도': '37.87308900',\n",
       "  '경도': '127.72784500',\n",
       "  '데이터기준일자': '2023-01-12',\n",
       "  '제공기관코드': '4181000',\n",
       "  '제공기관명': '강원특별자치도 춘천시'},\n",
       " {'축제명': '춘천인형극제 코코바우 놀이터 자연아 놀러와',\n",
       "  '개최장소': '춘천인형극장',\n",
       "  '축제시작일자': '2021-04-24',\n",
       "  '축제종료일자': '2021-07-24',\n",
       "  '축제내용': '자연의 흐름을 주제로 모두 함께 인형극, 만들기를 즐기며 자연을 느낄 수 있다.',\n",
       "  '주관기관': '춘천인형극제',\n",
       "  '주최기관': '춘천인형극제',\n",
       "  '후원기관': '강원도 춘천시청',\n",
       "  '전화번호': '033-242-8452',\n",
       "  '홈페이지주소': 'https://www.cccf.or.kr/Home/H40000/H40400/boardView?board_key=7629&search_type=1&search_keyword=ECB698ECB29CEC9DB8ED9895EAB7B9ECA09C5D+ECBD94ECBD94EBB094EC9AB0+EB8680EC9DB4ED84B0+3A+EC9E90EC97B0EC9584+EB8680EB9FACEC998021',\n",
       "  '관련정보': '전시관람',\n",
       "  '소재지도로명주소': '강원도 춘천시 영서로 3017',\n",
       "  '소재지지번주소': '강원도 춘천시 사농동 277-3 춘천인형극장',\n",
       "  '위도': '37.92101625',\n",
       "  '경도': '127.72019700',\n",
       "  '데이터기준일자': '2023-01-12',\n",
       "  '제공기관코드': '4181000',\n",
       "  '제공기관명': '강원특별자치도 춘천시'},\n",
       " {'축제명': '춘천마임축제 걷다 보는 마임',\n",
       "  '개최장소': '효자교~공지교',\n",
       "  '축제시작일자': '2021-04-21',\n",
       "  '축제종료일자': '2021-06-23',\n",
       "  '축제내용': '일시적, 일회적 축제방식이 아닌, 소소하더라도 시민들과 깊이 있는 교감을 이뤄낼 수 있는 다양하고 지속적인 콘텐츠로 웃음을 선사하는 축제이다.',\n",
       "  '주관기관': '춘천마임축제',\n",
       "  '주최기관': '춘천마임축제',\n",
       "  '후원기관': '강원도 춘천시청+춘천시문화재단',\n",
       "  '전화번호': '033-242-0582',\n",
       "  '홈페이지주소': 'https://www.cccf.or.kr/Home/H40000/H40400/boardView?board_key=7627&search_type=1&search_keyword=ECB698ECB29CEBA788EC9E84ECB695ECA09C5D+EAB1B7EB8BA4+EBB3B4EB8A94+EBA788EC9E84',\n",
       "  '관련정보': '행사축제',\n",
       "  '소재지도로명주소': '강원도 춘천시 춘천로 112 축제극장몸짓',\n",
       "  '소재지지번주소': '강원도 춘천시 효자동 531',\n",
       "  '위도': '37.87308900',\n",
       "  '경도': '127.72784500',\n",
       "  '데이터기준일자': '2023-01-12',\n",
       "  '제공기관코드': '4181000',\n",
       "  '제공기관명': '강원특별자치도 춘천시'},\n",
       " {'축제명': '춘천마임축제 대학로 문화의 거리',\n",
       "  '개최장소': '강원대학교 후문거리 일대',\n",
       "  '축제시작일자': '2021-04-26',\n",
       "  '축제종료일자': '2021-05-08',\n",
       "  '축제내용': '거리의 공간을 이용한 축제로, 거리전시와 중고장터, 데일리 체험프로그램을 진행한다.',\n",
       "  '주관기관': '춘천마임축제',\n",
       "  '주최기관': '춘천마임축제',\n",
       "  '후원기관': '강원도 춘천시청+춘천시문화재단',\n",
       "  '전화번호': '033-242-0582',\n",
       "  '홈페이지주소': 'https://www.cccf.or.kr/Home/H40000/H40400/boardView?board_key=7626&search_type=1&search_keyword=ECB698ECB29CEBA788EC9E84ECB695ECA09C5D+EB8C80ED9599EBA19C+EBACB8ED9994EC9D98+EAB1B0EBA6AC',\n",
       "  '관련정보': '행사축제',\n",
       "  '소재지도로명주소': '강원도 춘천시 춘천로 112 축제극장몸짓',\n",
       "  '소재지지번주소': '강원도 춘천시 효자동 531',\n",
       "  '위도': '37.87308900',\n",
       "  '경도': '127.72784500',\n",
       "  '데이터기준일자': '2023-01-12',\n",
       "  '제공기관코드': '4181000',\n",
       "  '제공기관명': '강원특별자치도 춘천시'},\n",
       " {'축제명': '제33회 춘천인형극제 국내 참가작 공모',\n",
       "  '개최장소': '춘천인형극장 및 춘천시 일대',\n",
       "  '축제시작일자': '2021-02-22',\n",
       "  '축제종료일자': '2021-03-21',\n",
       "  '축제내용': '1989년 9월 처음 개최하여 33회를 맞이하는 아시아 최대 인형극축제 춘천인형극제이다.',\n",
       "  '주관기관': '춘천인형극제',\n",
       "  '주최기관': '춘천인형극제',\n",
       "  '후원기관': '문화체육관광부+한국문화예술위원회+강원도청+강원도 춘천시청+춘천시문화재단+DOUZONE',\n",
       "  '전화번호': '033-242-8452',\n",
       "  '홈페이지주소': 'https://www.cccf.or.kr/Home/H40000/H40400/boardView?board_key=7617&search_type=1&search_keyword=ECA09C33ED9A8C+ECB698ECB29CEC9DB8ED9895EAB7B9ECA09C+EAB5ADEB82B4+ECB0B8EAB080EC9E91+EAB3B5EBAAA8',\n",
       "  '관련정보': '행사축제',\n",
       "  '소재지도로명주소': '강원도 춘천시 영서로 3017',\n",
       "  '소재지지번주소': '강원도 춘천시 사농동 277-3 춘천인형극장',\n",
       "  '위도': '37.92101625',\n",
       "  '경도': '127.72019700',\n",
       "  '데이터기준일자': '2023-01-12',\n",
       "  '제공기관코드': '4181000',\n",
       "  '제공기관명': '강원특별자치도 춘천시'}]"
      ]
     },
     "execution_count": 19,
     "metadata": {},
     "output_type": "execute_result"
    }
   ],
   "source": [
    "sample_data = json_data.get('records', [])[:5]\n",
    "sample_data"
   ]
  },
  {
   "cell_type": "markdown",
   "metadata": {},
   "source": [
    "* Save JSON file"
   ]
  },
  {
   "cell_type": "code",
   "execution_count": 20,
   "metadata": {},
   "outputs": [],
   "source": [
    "OUT_JSON_PATH = os.path.join(os.getcwd(), '89_data', 'cultural-festival.json')\n",
    "with open(OUT_JSON_PATH, 'w', encoding='utf-8') as json_file:\n",
    "    json.dump(json_data, json_file, ensure_ascii=False, indent=4)"
   ]
  },
  {
   "cell_type": "markdown",
   "metadata": {},
   "source": [
    "* Read JSON file"
   ]
  },
  {
   "cell_type": "code",
   "execution_count": 21,
   "metadata": {},
   "outputs": [],
   "source": [
    "with open(OUT_JSON_PATH, 'r', encoding='utf-8') as json_file:\n",
    "    _json_data = json.load(json_file)"
   ]
  },
  {
   "cell_type": "code",
   "execution_count": 22,
   "metadata": {},
   "outputs": [
    {
     "data": {
      "text/plain": [
       "[{'축제명': '춘천마임축제 봄시즌',\n",
       "  '개최장소': '춘천시내 다수지역',\n",
       "  '축제시작일자': '2021-05-23',\n",
       "  '축제종료일자': '2021-05-29',\n",
       "  '축제내용': '2021년 우리의 잃어버린 봄을 찾기위한 무언의 몸짓으로 시민과 예술가의 봄을 찾는 공연',\n",
       "  '주관기관': '(사)춘천마임축제',\n",
       "  '주최기관': '(사)춘천마임축제+KBS방송총국+춘천MBC',\n",
       "  '후원기관': '문화체육관광부+강원도청+강원도 춘천시청+한국관광공사+남이섬교육문화그룹+나미나라공화국남이섬+한림대학교춘천성심병원+한국문화예술위원회+한국메세나협회',\n",
       "  '전화번호': '033-242-0585',\n",
       "  '홈페이지주소': 'https://www.cccf.or.kr/Home/H40000/H40400/boardView?board_key=7642&search_type=1&search_keyword=ECB698ECB29CEBA788EC9E84ECB695ECA09C+EBB484EC8B9CECA68C',\n",
       "  '관련정보': '전시관람',\n",
       "  '소재지도로명주소': '강원도 춘천시 춘천로 112 축제극장몸짓',\n",
       "  '소재지지번주소': '강원도 춘천시 효자동 531',\n",
       "  '위도': '37.87308900',\n",
       "  '경도': '127.72784500',\n",
       "  '데이터기준일자': '2023-01-12',\n",
       "  '제공기관코드': '4181000',\n",
       "  '제공기관명': '강원특별자치도 춘천시'},\n",
       " {'축제명': '춘천인형극제 코코바우 놀이터 자연아 놀러와',\n",
       "  '개최장소': '춘천인형극장',\n",
       "  '축제시작일자': '2021-04-24',\n",
       "  '축제종료일자': '2021-07-24',\n",
       "  '축제내용': '자연의 흐름을 주제로 모두 함께 인형극, 만들기를 즐기며 자연을 느낄 수 있다.',\n",
       "  '주관기관': '춘천인형극제',\n",
       "  '주최기관': '춘천인형극제',\n",
       "  '후원기관': '강원도 춘천시청',\n",
       "  '전화번호': '033-242-8452',\n",
       "  '홈페이지주소': 'https://www.cccf.or.kr/Home/H40000/H40400/boardView?board_key=7629&search_type=1&search_keyword=ECB698ECB29CEC9DB8ED9895EAB7B9ECA09C5D+ECBD94ECBD94EBB094EC9AB0+EB8680EC9DB4ED84B0+3A+EC9E90EC97B0EC9584+EB8680EB9FACEC998021',\n",
       "  '관련정보': '전시관람',\n",
       "  '소재지도로명주소': '강원도 춘천시 영서로 3017',\n",
       "  '소재지지번주소': '강원도 춘천시 사농동 277-3 춘천인형극장',\n",
       "  '위도': '37.92101625',\n",
       "  '경도': '127.72019700',\n",
       "  '데이터기준일자': '2023-01-12',\n",
       "  '제공기관코드': '4181000',\n",
       "  '제공기관명': '강원특별자치도 춘천시'},\n",
       " {'축제명': '춘천마임축제 걷다 보는 마임',\n",
       "  '개최장소': '효자교~공지교',\n",
       "  '축제시작일자': '2021-04-21',\n",
       "  '축제종료일자': '2021-06-23',\n",
       "  '축제내용': '일시적, 일회적 축제방식이 아닌, 소소하더라도 시민들과 깊이 있는 교감을 이뤄낼 수 있는 다양하고 지속적인 콘텐츠로 웃음을 선사하는 축제이다.',\n",
       "  '주관기관': '춘천마임축제',\n",
       "  '주최기관': '춘천마임축제',\n",
       "  '후원기관': '강원도 춘천시청+춘천시문화재단',\n",
       "  '전화번호': '033-242-0582',\n",
       "  '홈페이지주소': 'https://www.cccf.or.kr/Home/H40000/H40400/boardView?board_key=7627&search_type=1&search_keyword=ECB698ECB29CEBA788EC9E84ECB695ECA09C5D+EAB1B7EB8BA4+EBB3B4EB8A94+EBA788EC9E84',\n",
       "  '관련정보': '행사축제',\n",
       "  '소재지도로명주소': '강원도 춘천시 춘천로 112 축제극장몸짓',\n",
       "  '소재지지번주소': '강원도 춘천시 효자동 531',\n",
       "  '위도': '37.87308900',\n",
       "  '경도': '127.72784500',\n",
       "  '데이터기준일자': '2023-01-12',\n",
       "  '제공기관코드': '4181000',\n",
       "  '제공기관명': '강원특별자치도 춘천시'},\n",
       " {'축제명': '춘천마임축제 대학로 문화의 거리',\n",
       "  '개최장소': '강원대학교 후문거리 일대',\n",
       "  '축제시작일자': '2021-04-26',\n",
       "  '축제종료일자': '2021-05-08',\n",
       "  '축제내용': '거리의 공간을 이용한 축제로, 거리전시와 중고장터, 데일리 체험프로그램을 진행한다.',\n",
       "  '주관기관': '춘천마임축제',\n",
       "  '주최기관': '춘천마임축제',\n",
       "  '후원기관': '강원도 춘천시청+춘천시문화재단',\n",
       "  '전화번호': '033-242-0582',\n",
       "  '홈페이지주소': 'https://www.cccf.or.kr/Home/H40000/H40400/boardView?board_key=7626&search_type=1&search_keyword=ECB698ECB29CEBA788EC9E84ECB695ECA09C5D+EB8C80ED9599EBA19C+EBACB8ED9994EC9D98+EAB1B0EBA6AC',\n",
       "  '관련정보': '행사축제',\n",
       "  '소재지도로명주소': '강원도 춘천시 춘천로 112 축제극장몸짓',\n",
       "  '소재지지번주소': '강원도 춘천시 효자동 531',\n",
       "  '위도': '37.87308900',\n",
       "  '경도': '127.72784500',\n",
       "  '데이터기준일자': '2023-01-12',\n",
       "  '제공기관코드': '4181000',\n",
       "  '제공기관명': '강원특별자치도 춘천시'},\n",
       " {'축제명': '제33회 춘천인형극제 국내 참가작 공모',\n",
       "  '개최장소': '춘천인형극장 및 춘천시 일대',\n",
       "  '축제시작일자': '2021-02-22',\n",
       "  '축제종료일자': '2021-03-21',\n",
       "  '축제내용': '1989년 9월 처음 개최하여 33회를 맞이하는 아시아 최대 인형극축제 춘천인형극제이다.',\n",
       "  '주관기관': '춘천인형극제',\n",
       "  '주최기관': '춘천인형극제',\n",
       "  '후원기관': '문화체육관광부+한국문화예술위원회+강원도청+강원도 춘천시청+춘천시문화재단+DOUZONE',\n",
       "  '전화번호': '033-242-8452',\n",
       "  '홈페이지주소': 'https://www.cccf.or.kr/Home/H40000/H40400/boardView?board_key=7617&search_type=1&search_keyword=ECA09C33ED9A8C+ECB698ECB29CEC9DB8ED9895EAB7B9ECA09C+EAB5ADEB82B4+ECB0B8EAB080EC9E91+EAB3B5EBAAA8',\n",
       "  '관련정보': '행사축제',\n",
       "  '소재지도로명주소': '강원도 춘천시 영서로 3017',\n",
       "  '소재지지번주소': '강원도 춘천시 사농동 277-3 춘천인형극장',\n",
       "  '위도': '37.92101625',\n",
       "  '경도': '127.72019700',\n",
       "  '데이터기준일자': '2023-01-12',\n",
       "  '제공기관코드': '4181000',\n",
       "  '제공기관명': '강원특별자치도 춘천시'}]"
      ]
     },
     "execution_count": 22,
     "metadata": {},
     "output_type": "execute_result"
    }
   ],
   "source": [
    "sample_data = _json_data.get('records', [])[:5]\n",
    "sample_data"
   ]
  },
  {
   "cell_type": "code",
   "execution_count": null,
   "metadata": {},
   "outputs": [],
   "source": []
  }
 ],
 "metadata": {
  "kernelspec": {
   "display_name": "geoaip39",
   "language": "python",
   "name": "python3"
  },
  "language_info": {
   "codemirror_mode": {
    "name": "ipython",
    "version": 3
   },
   "file_extension": ".py",
   "mimetype": "text/x-python",
   "name": "python",
   "nbconvert_exporter": "python",
   "pygments_lexer": "ipython3",
   "version": "3.9.17"
  },
  "orig_nbformat": 4
 },
 "nbformat": 4,
 "nbformat_minor": 2
}
