{
 "cells": [
  {
   "cell_type": "markdown",
   "metadata": {},
   "source": [
    "#### Overview\n",
    "\n",
    "위경도 정보가 포함된 CSV파일을 geometry의 하나인 Point 공간데이터로 변경"
   ]
  },
  {
   "cell_type": "markdown",
   "metadata": {},
   "source": [
    "#### Import Libraries"
   ]
  },
  {
   "cell_type": "code",
   "execution_count": 3,
   "metadata": {},
   "outputs": [],
   "source": [
    "import os\n",
    "import pandas as pd\n",
    "import geopandas as gpd\n",
    "import matplotlib.pyplot as plt\n",
    "\n",
    "# High-Resolution Graph Output option for Retina Displays\n",
    "%config InlineBackend.figure_format = 'retina'"
   ]
  },
  {
   "cell_type": "markdown",
   "metadata": {},
   "source": [
    "#### Fetching Data\n",
    "* 공공데이터포털에 있는 `전국도서관표준데이터`"
   ]
  },
  {
   "cell_type": "code",
   "execution_count": 5,
   "metadata": {},
   "outputs": [
    {
     "name": "stdout",
     "output_type": "stream",
     "text": [
      "<class 'pandas.core.frame.DataFrame'>\n",
      "RangeIndex: 3629 entries, 0 to 3628\n",
      "Data columns (total 28 columns):\n",
      " #   Column      Non-Null Count  Dtype  \n",
      "---  ------      --------------  -----  \n",
      " 0   도서관명        3629 non-null   object \n",
      " 1   시도명         3629 non-null   object \n",
      " 2   시군구명        3629 non-null   object \n",
      " 3   도서관유형       3629 non-null   object \n",
      " 4   휴관일         3629 non-null   object \n",
      " 5   평일운영시작시각    3629 non-null   object \n",
      " 6   평일운영종료시각    3629 non-null   object \n",
      " 7   토요일운영시작시각   3629 non-null   object \n",
      " 8   토요일운영종료시각   3629 non-null   object \n",
      " 9   공휴일운영시작시각   3629 non-null   object \n",
      " 10  공휴일운영종료시각   3629 non-null   object \n",
      " 11  열람좌석수       3629 non-null   int64  \n",
      " 12  자료수(도서)     3629 non-null   int64  \n",
      " 13  자료수(연속간행물)  3629 non-null   int64  \n",
      " 14  자료수(비도서)    3629 non-null   int64  \n",
      " 15  대출가능권수      3629 non-null   int64  \n",
      " 16  대출가능일수      3629 non-null   int64  \n",
      " 17  소재지도로명주소    3629 non-null   object \n",
      " 18  운영기관명       2961 non-null   object \n",
      " 19  도서관전화번호     3396 non-null   object \n",
      " 20  부지면적        2019 non-null   float64\n",
      " 21  건물면적        3148 non-null   float64\n",
      " 22  홈페이지주소      2207 non-null   object \n",
      " 23  위도          3371 non-null   float64\n",
      " 24  경도          3382 non-null   float64\n",
      " 25  데이터기준일자     3629 non-null   object \n",
      " 26  제공기관코드      3629 non-null   object \n",
      " 27  제공기관명       3629 non-null   object \n",
      "dtypes: float64(4), int64(6), object(18)\n",
      "memory usage: 794.0+ KB\n"
     ]
    }
   ],
   "source": [
    "FILE_PATH = os.path.join(os.getcwd(), '89_data', 'standard-libraries.csv')\n",
    "lib_df = pd.read_csv(FILE_PATH)\n",
    "lib_df.info()"
   ]
  },
  {
   "cell_type": "markdown",
   "metadata": {},
   "source": [
    "#### Extracting Specific District Names"
   ]
  },
  {
   "cell_type": "code",
   "execution_count": 6,
   "metadata": {},
   "outputs": [],
   "source": [
    "DISTRICT_NAME = '고흥군'"
   ]
  },
  {
   "cell_type": "code",
   "execution_count": null,
   "metadata": {},
   "outputs": [],
   "source": []
  }
 ],
 "metadata": {
  "kernelspec": {
   "display_name": "geoaip39",
   "language": "python",
   "name": "python3"
  },
  "language_info": {
   "codemirror_mode": {
    "name": "ipython",
    "version": 3
   },
   "file_extension": ".py",
   "mimetype": "text/x-python",
   "name": "python",
   "nbconvert_exporter": "python",
   "pygments_lexer": "ipython3",
   "version": "3.9.17"
  },
  "orig_nbformat": 4
 },
 "nbformat": 4,
 "nbformat_minor": 2
}
