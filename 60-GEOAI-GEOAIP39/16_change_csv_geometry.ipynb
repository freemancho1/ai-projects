{
 "cells": [
  {
   "cell_type": "markdown",
   "metadata": {},
   "source": [
    "#### Overview\n",
    "\n",
    "위경도 정보가 포함된 CSV파일을 geometry의 하나인 Point 공간데이터로 변경"
   ]
  },
  {
   "cell_type": "markdown",
   "metadata": {},
   "source": [
    "#### Import Libraries"
   ]
  },
  {
   "cell_type": "code",
   "execution_count": 3,
   "metadata": {},
   "outputs": [],
   "source": [
    "import os\n",
    "import pandas as pd\n",
    "import geopandas as gpd\n",
    "import matplotlib.pyplot as plt\n",
    "\n",
    "# High-Resolution Graph Output option for Retina Displays\n",
    "%config InlineBackend.figure_format = 'retina'"
   ]
  },
  {
   "cell_type": "markdown",
   "metadata": {},
   "source": [
    "#### Fetching Data\n",
    "* 공공데이터포털에 있는 `전국도서관표준데이터`"
   ]
  },
  {
   "cell_type": "code",
   "execution_count": 5,
   "metadata": {},
   "outputs": [
    {
     "name": "stdout",
     "output_type": "stream",
     "text": [
      "<class 'pandas.core.frame.DataFrame'>\n",
      "RangeIndex: 3629 entries, 0 to 3628\n",
      "Data columns (total 28 columns):\n",
      " #   Column      Non-Null Count  Dtype  \n",
      "---  ------      --------------  -----  \n",
      " 0   도서관명        3629 non-null   object \n",
      " 1   시도명         3629 non-null   object \n",
      " 2   시군구명        3629 non-null   object \n",
      " 3   도서관유형       3629 non-null   object \n",
      " 4   휴관일         3629 non-null   object \n",
      " 5   평일운영시작시각    3629 non-null   object \n",
      " 6   평일운영종료시각    3629 non-null   object \n",
      " 7   토요일운영시작시각   3629 non-null   object \n",
      " 8   토요일운영종료시각   3629 non-null   object \n",
      " 9   공휴일운영시작시각   3629 non-null   object \n",
      " 10  공휴일운영종료시각   3629 non-null   object \n",
      " 11  열람좌석수       3629 non-null   int64  \n",
      " 12  자료수(도서)     3629 non-null   int64  \n",
      " 13  자료수(연속간행물)  3629 non-null   int64  \n",
      " 14  자료수(비도서)    3629 non-null   int64  \n",
      " 15  대출가능권수      3629 non-null   int64  \n",
      " 16  대출가능일수      3629 non-null   int64  \n",
      " 17  소재지도로명주소    3629 non-null   object \n",
      " 18  운영기관명       2961 non-null   object \n",
      " 19  도서관전화번호     3396 non-null   object \n",
      " 20  부지면적        2019 non-null   float64\n",
      " 21  건물면적        3148 non-null   float64\n",
      " 22  홈페이지주소      2207 non-null   object \n",
      " 23  위도          3371 non-null   float64\n",
      " 24  경도          3382 non-null   float64\n",
      " 25  데이터기준일자     3629 non-null   object \n",
      " 26  제공기관코드      3629 non-null   object \n",
      " 27  제공기관명       3629 non-null   object \n",
      "dtypes: float64(4), int64(6), object(18)\n",
      "memory usage: 794.0+ KB\n"
     ]
    }
   ],
   "source": [
    "FILE_PATH = os.path.join(os.getcwd(), '89_data', 'standard-libraries.csv')\n",
    "lib_df = pd.read_csv(FILE_PATH)\n",
    "lib_df.info()"
   ]
  },
  {
   "cell_type": "markdown",
   "metadata": {},
   "source": [
    "#### Extracting Specific District Names"
   ]
  },
  {
   "cell_type": "code",
   "execution_count": 11,
   "metadata": {},
   "outputs": [],
   "source": [
    "DISTRICT_NAME = '남양주시'"
   ]
  },
  {
   "cell_type": "code",
   "execution_count": 12,
   "metadata": {},
   "outputs": [
    {
     "name": "stdout",
     "output_type": "stream",
     "text": [
      "<class 'pandas.core.frame.DataFrame'>\n",
      "Index: 13 entries, 0 to 32\n",
      "Data columns (total 28 columns):\n",
      " #   Column      Non-Null Count  Dtype  \n",
      "---  ------      --------------  -----  \n",
      " 0   도서관명        13 non-null     object \n",
      " 1   시도명         13 non-null     object \n",
      " 2   시군구명        13 non-null     object \n",
      " 3   도서관유형       13 non-null     object \n",
      " 4   휴관일         13 non-null     object \n",
      " 5   평일운영시작시각    13 non-null     object \n",
      " 6   평일운영종료시각    13 non-null     object \n",
      " 7   토요일운영시작시각   13 non-null     object \n",
      " 8   토요일운영종료시각   13 non-null     object \n",
      " 9   공휴일운영시작시각   13 non-null     object \n",
      " 10  공휴일운영종료시각   13 non-null     object \n",
      " 11  열람좌석수       13 non-null     int64  \n",
      " 12  자료수(도서)     13 non-null     int64  \n",
      " 13  자료수(연속간행물)  13 non-null     int64  \n",
      " 14  자료수(비도서)    13 non-null     int64  \n",
      " 15  대출가능권수      13 non-null     int64  \n",
      " 16  대출가능일수      13 non-null     int64  \n",
      " 17  소재지도로명주소    13 non-null     object \n",
      " 18  운영기관명       13 non-null     object \n",
      " 19  도서관전화번호     13 non-null     object \n",
      " 20  부지면적        13 non-null     float64\n",
      " 21  건물면적        13 non-null     float64\n",
      " 22  홈페이지주소      13 non-null     object \n",
      " 23  위도          13 non-null     float64\n",
      " 24  경도          13 non-null     float64\n",
      " 25  데이터기준일자     13 non-null     object \n",
      " 26  제공기관코드      13 non-null     object \n",
      " 27  제공기관명       13 non-null     object \n",
      "dtypes: float64(4), int64(6), object(18)\n",
      "memory usage: 2.9+ KB\n"
     ]
    }
   ],
   "source": [
    "lib_df_nam = lib_df[lib_df.시군구명==DISTRICT_NAME]\n",
    "lib_df_nam.info()"
   ]
  },
  {
   "cell_type": "code",
   "execution_count": 13,
   "metadata": {},
   "outputs": [
    {
     "data": {
      "text/html": [
       "<div>\n",
       "<style scoped>\n",
       "    .dataframe tbody tr th:only-of-type {\n",
       "        vertical-align: middle;\n",
       "    }\n",
       "\n",
       "    .dataframe tbody tr th {\n",
       "        vertical-align: top;\n",
       "    }\n",
       "\n",
       "    .dataframe thead th {\n",
       "        text-align: right;\n",
       "    }\n",
       "</style>\n",
       "<table border=\"1\" class=\"dataframe\">\n",
       "  <thead>\n",
       "    <tr style=\"text-align: right;\">\n",
       "      <th></th>\n",
       "      <th>도서관명</th>\n",
       "      <th>시도명</th>\n",
       "      <th>시군구명</th>\n",
       "      <th>도서관유형</th>\n",
       "      <th>휴관일</th>\n",
       "      <th>평일운영시작시각</th>\n",
       "      <th>평일운영종료시각</th>\n",
       "      <th>토요일운영시작시각</th>\n",
       "      <th>토요일운영종료시각</th>\n",
       "      <th>공휴일운영시작시각</th>\n",
       "      <th>...</th>\n",
       "      <th>운영기관명</th>\n",
       "      <th>도서관전화번호</th>\n",
       "      <th>부지면적</th>\n",
       "      <th>건물면적</th>\n",
       "      <th>홈페이지주소</th>\n",
       "      <th>위도</th>\n",
       "      <th>경도</th>\n",
       "      <th>데이터기준일자</th>\n",
       "      <th>제공기관코드</th>\n",
       "      <th>제공기관명</th>\n",
       "    </tr>\n",
       "  </thead>\n",
       "  <tbody>\n",
       "    <tr>\n",
       "      <th>0</th>\n",
       "      <td>이석영뉴미디어도서관</td>\n",
       "      <td>경기도</td>\n",
       "      <td>남양주시</td>\n",
       "      <td>공공도서관</td>\n",
       "      <td>둘째·넷째 금요일+1월 1일+설날·추석 연휴(대체공휴일 포함)</td>\n",
       "      <td>09:00</td>\n",
       "      <td>22:00</td>\n",
       "      <td>09:00</td>\n",
       "      <td>18:00</td>\n",
       "      <td>09:00</td>\n",
       "      <td>...</td>\n",
       "      <td>사단법인 문화현상</td>\n",
       "      <td>031-595-8390</td>\n",
       "      <td>1843.0</td>\n",
       "      <td>4877.0</td>\n",
       "      <td>http://lib.nyj.go.kr/lsy</td>\n",
       "      <td>37.658160</td>\n",
       "      <td>127.299532</td>\n",
       "      <td>2023-04-30</td>\n",
       "      <td>3990000</td>\n",
       "      <td>경기도 남양주시</td>\n",
       "    </tr>\n",
       "    <tr>\n",
       "      <th>20</th>\n",
       "      <td>정약용도서관</td>\n",
       "      <td>경기도</td>\n",
       "      <td>남양주시</td>\n",
       "      <td>공공도서관</td>\n",
       "      <td>첫째·셋째 금요일+1월 1일+설날·추석 연휴(대체공휴일 포함)</td>\n",
       "      <td>09:00</td>\n",
       "      <td>22:00</td>\n",
       "      <td>09:00</td>\n",
       "      <td>18:00</td>\n",
       "      <td>09:00</td>\n",
       "      <td>...</td>\n",
       "      <td>경기도 남양주시청</td>\n",
       "      <td>031-590-2587</td>\n",
       "      <td>21501.0</td>\n",
       "      <td>12807.0</td>\n",
       "      <td>http://lib.nyj.go.kr/jyy</td>\n",
       "      <td>37.612158</td>\n",
       "      <td>127.167357</td>\n",
       "      <td>2023-04-30</td>\n",
       "      <td>3990000</td>\n",
       "      <td>경기도 남양주시</td>\n",
       "    </tr>\n",
       "    <tr>\n",
       "      <th>21</th>\n",
       "      <td>와부도서관</td>\n",
       "      <td>경기도</td>\n",
       "      <td>남양주시</td>\n",
       "      <td>공공도서관</td>\n",
       "      <td>둘째·넷째 금요일+1월 1일+설날·추석 연휴(대체공휴일 포함)</td>\n",
       "      <td>09:00</td>\n",
       "      <td>22:00</td>\n",
       "      <td>09:00</td>\n",
       "      <td>22:00</td>\n",
       "      <td>09:00</td>\n",
       "      <td>...</td>\n",
       "      <td>경기도 남양주시청</td>\n",
       "      <td>031-590-8920</td>\n",
       "      <td>3920.0</td>\n",
       "      <td>4010.0</td>\n",
       "      <td>http://lib.nyj.go.kr/waboo</td>\n",
       "      <td>37.585685</td>\n",
       "      <td>127.217498</td>\n",
       "      <td>2023-04-30</td>\n",
       "      <td>3990000</td>\n",
       "      <td>경기도 남양주시</td>\n",
       "    </tr>\n",
       "    <tr>\n",
       "      <th>22</th>\n",
       "      <td>화도도서관</td>\n",
       "      <td>경기도</td>\n",
       "      <td>남양주시</td>\n",
       "      <td>공공도서관</td>\n",
       "      <td>첫째·셋째 금요일+1월 1일+설날·추석 연휴(대체공휴일 포함)</td>\n",
       "      <td>09:00</td>\n",
       "      <td>22:00</td>\n",
       "      <td>09:00</td>\n",
       "      <td>22:00</td>\n",
       "      <td>09:00</td>\n",
       "      <td>...</td>\n",
       "      <td>경기도 남양주시청</td>\n",
       "      <td>031-590-4587</td>\n",
       "      <td>596.0</td>\n",
       "      <td>2667.0</td>\n",
       "      <td>http://lib.nyj.go.kr/hwado</td>\n",
       "      <td>37.650137</td>\n",
       "      <td>127.305815</td>\n",
       "      <td>2023-04-30</td>\n",
       "      <td>3990000</td>\n",
       "      <td>경기도 남양주시</td>\n",
       "    </tr>\n",
       "    <tr>\n",
       "      <th>23</th>\n",
       "      <td>진건도서관</td>\n",
       "      <td>경기도</td>\n",
       "      <td>남양주시</td>\n",
       "      <td>공공도서관</td>\n",
       "      <td>둘째·넷째 금요일+1월 1일+설날·추석 연휴(대체공휴일 포함)</td>\n",
       "      <td>09:00</td>\n",
       "      <td>22:00</td>\n",
       "      <td>09:00</td>\n",
       "      <td>22:00</td>\n",
       "      <td>09:00</td>\n",
       "      <td>...</td>\n",
       "      <td>경기도 남양주시청</td>\n",
       "      <td>031-590-8260</td>\n",
       "      <td>1322.0</td>\n",
       "      <td>2848.0</td>\n",
       "      <td>http://lib.nyj.go.kr/jingeon</td>\n",
       "      <td>37.655136</td>\n",
       "      <td>127.177439</td>\n",
       "      <td>2023-04-30</td>\n",
       "      <td>3990000</td>\n",
       "      <td>경기도 남양주시</td>\n",
       "    </tr>\n",
       "  </tbody>\n",
       "</table>\n",
       "<p>5 rows × 28 columns</p>\n",
       "</div>"
      ],
      "text/plain": [
       "          도서관명  시도명  시군구명  도서관유형                                 휴관일 평일운영시작시각  \\\n",
       "0   이석영뉴미디어도서관  경기도  남양주시  공공도서관  둘째·넷째 금요일+1월 1일+설날·추석 연휴(대체공휴일 포함)    09:00   \n",
       "20      정약용도서관  경기도  남양주시  공공도서관  첫째·셋째 금요일+1월 1일+설날·추석 연휴(대체공휴일 포함)    09:00   \n",
       "21       와부도서관  경기도  남양주시  공공도서관  둘째·넷째 금요일+1월 1일+설날·추석 연휴(대체공휴일 포함)    09:00   \n",
       "22       화도도서관  경기도  남양주시  공공도서관  첫째·셋째 금요일+1월 1일+설날·추석 연휴(대체공휴일 포함)    09:00   \n",
       "23       진건도서관  경기도  남양주시  공공도서관  둘째·넷째 금요일+1월 1일+설날·추석 연휴(대체공휴일 포함)    09:00   \n",
       "\n",
       "   평일운영종료시각 토요일운영시작시각 토요일운영종료시각 공휴일운영시작시각  ...      운영기관명       도서관전화번호  \\\n",
       "0     22:00     09:00     18:00     09:00  ...  사단법인 문화현상  031-595-8390   \n",
       "20    22:00     09:00     18:00     09:00  ...  경기도 남양주시청  031-590-2587   \n",
       "21    22:00     09:00     22:00     09:00  ...  경기도 남양주시청  031-590-8920   \n",
       "22    22:00     09:00     22:00     09:00  ...  경기도 남양주시청  031-590-4587   \n",
       "23    22:00     09:00     22:00     09:00  ...  경기도 남양주시청  031-590-8260   \n",
       "\n",
       "       부지면적     건물면적                        홈페이지주소         위도          경도  \\\n",
       "0    1843.0   4877.0      http://lib.nyj.go.kr/lsy  37.658160  127.299532   \n",
       "20  21501.0  12807.0      http://lib.nyj.go.kr/jyy  37.612158  127.167357   \n",
       "21   3920.0   4010.0    http://lib.nyj.go.kr/waboo  37.585685  127.217498   \n",
       "22    596.0   2667.0    http://lib.nyj.go.kr/hwado  37.650137  127.305815   \n",
       "23   1322.0   2848.0  http://lib.nyj.go.kr/jingeon  37.655136  127.177439   \n",
       "\n",
       "       데이터기준일자   제공기관코드     제공기관명  \n",
       "0   2023-04-30  3990000  경기도 남양주시  \n",
       "20  2023-04-30  3990000  경기도 남양주시  \n",
       "21  2023-04-30  3990000  경기도 남양주시  \n",
       "22  2023-04-30  3990000  경기도 남양주시  \n",
       "23  2023-04-30  3990000  경기도 남양주시  \n",
       "\n",
       "[5 rows x 28 columns]"
      ]
     },
     "execution_count": 13,
     "metadata": {},
     "output_type": "execute_result"
    }
   ],
   "source": [
    "lib_df_nam.head()"
   ]
  },
  {
   "cell_type": "code",
   "execution_count": 14,
   "metadata": {},
   "outputs": [
    {
     "data": {
      "text/plain": [
       "13"
      ]
     },
     "execution_count": 14,
     "metadata": {},
     "output_type": "execute_result"
    }
   ],
   "source": [
    "lib_df_nam['위도'].unique().size"
   ]
  },
  {
   "cell_type": "markdown",
   "metadata": {},
   "source": [
    "#### (x,y):CSV to Geometry info"
   ]
  },
  {
   "cell_type": "code",
   "execution_count": 15,
   "metadata": {},
   "outputs": [],
   "source": [
    "geometry = gpd.points_from_xy(lib_df_nam.경도, lib_df_nam.위도)"
   ]
  },
  {
   "cell_type": "code",
   "execution_count": 16,
   "metadata": {},
   "outputs": [
    {
     "data": {
      "text/plain": [
       "<GeometryArray>\n",
       "[  <POINT (127.3 37.658)>, <POINT (127.167 37.612)>, <POINT (127.217 37.586)>,\n",
       "  <POINT (127.306 37.65)>, <POINT (127.177 37.655)>, <POINT (127.239 37.642)>,\n",
       " <POINT (127.248 37.668)>, <POINT (127.118 37.708)>,  <POINT (127.194 37.73)>,\n",
       " <POINT (127.193 37.716)>, <POINT (127.198 37.698)>, <POINT (127.145 37.649)>,\n",
       "  <POINT (127.12 37.651)>]\n",
       "Length: 13, dtype: geometry"
      ]
     },
     "execution_count": 16,
     "metadata": {},
     "output_type": "execute_result"
    }
   ],
   "source": [
    "geometry"
   ]
  },
  {
   "cell_type": "code",
   "execution_count": 17,
   "metadata": {},
   "outputs": [
    {
     "name": "stdout",
     "output_type": "stream",
     "text": [
      "<class 'geopandas.geodataframe.GeoDataFrame'>\n",
      "Index: 13 entries, 0 to 32\n",
      "Data columns (total 29 columns):\n",
      " #   Column      Non-Null Count  Dtype   \n",
      "---  ------      --------------  -----   \n",
      " 0   도서관명        13 non-null     object  \n",
      " 1   시도명         13 non-null     object  \n",
      " 2   시군구명        13 non-null     object  \n",
      " 3   도서관유형       13 non-null     object  \n",
      " 4   휴관일         13 non-null     object  \n",
      " 5   평일운영시작시각    13 non-null     object  \n",
      " 6   평일운영종료시각    13 non-null     object  \n",
      " 7   토요일운영시작시각   13 non-null     object  \n",
      " 8   토요일운영종료시각   13 non-null     object  \n",
      " 9   공휴일운영시작시각   13 non-null     object  \n",
      " 10  공휴일운영종료시각   13 non-null     object  \n",
      " 11  열람좌석수       13 non-null     int64   \n",
      " 12  자료수(도서)     13 non-null     int64   \n",
      " 13  자료수(연속간행물)  13 non-null     int64   \n",
      " 14  자료수(비도서)    13 non-null     int64   \n",
      " 15  대출가능권수      13 non-null     int64   \n",
      " 16  대출가능일수      13 non-null     int64   \n",
      " 17  소재지도로명주소    13 non-null     object  \n",
      " 18  운영기관명       13 non-null     object  \n",
      " 19  도서관전화번호     13 non-null     object  \n",
      " 20  부지면적        13 non-null     float64 \n",
      " 21  건물면적        13 non-null     float64 \n",
      " 22  홈페이지주소      13 non-null     object  \n",
      " 23  위도          13 non-null     float64 \n",
      " 24  경도          13 non-null     float64 \n",
      " 25  데이터기준일자     13 non-null     object  \n",
      " 26  제공기관코드      13 non-null     object  \n",
      " 27  제공기관명       13 non-null     object  \n",
      " 28  geometry    13 non-null     geometry\n",
      "dtypes: float64(4), geometry(1), int64(6), object(18)\n",
      "memory usage: 3.0+ KB\n"
     ]
    }
   ],
   "source": [
    "lib_gdf = gpd.GeoDataFrame(lib_df_nam, geometry=geometry, crs='epsg:4326')\n",
    "lib_gdf.info()\n",
    "# 마지막에 `geometry` 컬럼 추가"
   ]
  },
  {
   "cell_type": "code",
   "execution_count": 18,
   "metadata": {},
   "outputs": [
    {
     "data": {
      "text/html": [
       "<div>\n",
       "<style scoped>\n",
       "    .dataframe tbody tr th:only-of-type {\n",
       "        vertical-align: middle;\n",
       "    }\n",
       "\n",
       "    .dataframe tbody tr th {\n",
       "        vertical-align: top;\n",
       "    }\n",
       "\n",
       "    .dataframe thead th {\n",
       "        text-align: right;\n",
       "    }\n",
       "</style>\n",
       "<table border=\"1\" class=\"dataframe\">\n",
       "  <thead>\n",
       "    <tr style=\"text-align: right;\">\n",
       "      <th></th>\n",
       "      <th>도서관명</th>\n",
       "      <th>도서관유형</th>\n",
       "      <th>열람좌석수</th>\n",
       "      <th>건물면적</th>\n",
       "      <th>geometry</th>\n",
       "    </tr>\n",
       "  </thead>\n",
       "  <tbody>\n",
       "    <tr>\n",
       "      <th>0</th>\n",
       "      <td>이석영뉴미디어도서관</td>\n",
       "      <td>공공도서관</td>\n",
       "      <td>615</td>\n",
       "      <td>4877.0</td>\n",
       "      <td>POINT (127.29953 37.65816)</td>\n",
       "    </tr>\n",
       "    <tr>\n",
       "      <th>20</th>\n",
       "      <td>정약용도서관</td>\n",
       "      <td>공공도서관</td>\n",
       "      <td>560</td>\n",
       "      <td>12807.0</td>\n",
       "      <td>POINT (127.16736 37.61216)</td>\n",
       "    </tr>\n",
       "    <tr>\n",
       "      <th>21</th>\n",
       "      <td>와부도서관</td>\n",
       "      <td>공공도서관</td>\n",
       "      <td>430</td>\n",
       "      <td>4010.0</td>\n",
       "      <td>POINT (127.21750 37.58569)</td>\n",
       "    </tr>\n",
       "    <tr>\n",
       "      <th>22</th>\n",
       "      <td>화도도서관</td>\n",
       "      <td>공공도서관</td>\n",
       "      <td>328</td>\n",
       "      <td>2667.0</td>\n",
       "      <td>POINT (127.30581 37.65014)</td>\n",
       "    </tr>\n",
       "    <tr>\n",
       "      <th>23</th>\n",
       "      <td>진건도서관</td>\n",
       "      <td>공공도서관</td>\n",
       "      <td>263</td>\n",
       "      <td>2848.0</td>\n",
       "      <td>POINT (127.17744 37.65514)</td>\n",
       "    </tr>\n",
       "  </tbody>\n",
       "</table>\n",
       "</div>"
      ],
      "text/plain": [
       "          도서관명  도서관유형  열람좌석수     건물면적                    geometry\n",
       "0   이석영뉴미디어도서관  공공도서관    615   4877.0  POINT (127.29953 37.65816)\n",
       "20      정약용도서관  공공도서관    560  12807.0  POINT (127.16736 37.61216)\n",
       "21       와부도서관  공공도서관    430   4010.0  POINT (127.21750 37.58569)\n",
       "22       화도도서관  공공도서관    328   2667.0  POINT (127.30581 37.65014)\n",
       "23       진건도서관  공공도서관    263   2848.0  POINT (127.17744 37.65514)"
      ]
     },
     "execution_count": 18,
     "metadata": {},
     "output_type": "execute_result"
    }
   ],
   "source": [
    "lib_gdf_small = lib_gdf[['도서관명', '도서관유형', '열람좌석수', '건물면적', 'geometry']]\n",
    "lib_gdf_small.head()"
   ]
  },
  {
   "cell_type": "code",
   "execution_count": 19,
   "metadata": {},
   "outputs": [
    {
     "data": {
      "text/html": [
       "<div>\n",
       "<style scoped>\n",
       "    .dataframe tbody tr th:only-of-type {\n",
       "        vertical-align: middle;\n",
       "    }\n",
       "\n",
       "    .dataframe tbody tr th {\n",
       "        vertical-align: top;\n",
       "    }\n",
       "\n",
       "    .dataframe thead th {\n",
       "        text-align: right;\n",
       "    }\n",
       "</style>\n",
       "<table border=\"1\" class=\"dataframe\">\n",
       "  <thead>\n",
       "    <tr style=\"text-align: right;\">\n",
       "      <th></th>\n",
       "      <th>name</th>\n",
       "      <th>type</th>\n",
       "      <th>chair_cnt</th>\n",
       "      <th>bd_area</th>\n",
       "      <th>geometry</th>\n",
       "    </tr>\n",
       "  </thead>\n",
       "  <tbody>\n",
       "    <tr>\n",
       "      <th>0</th>\n",
       "      <td>이석영뉴미디어도서관</td>\n",
       "      <td>공공도서관</td>\n",
       "      <td>615</td>\n",
       "      <td>4877.0</td>\n",
       "      <td>POINT (127.29953 37.65816)</td>\n",
       "    </tr>\n",
       "    <tr>\n",
       "      <th>20</th>\n",
       "      <td>정약용도서관</td>\n",
       "      <td>공공도서관</td>\n",
       "      <td>560</td>\n",
       "      <td>12807.0</td>\n",
       "      <td>POINT (127.16736 37.61216)</td>\n",
       "    </tr>\n",
       "    <tr>\n",
       "      <th>21</th>\n",
       "      <td>와부도서관</td>\n",
       "      <td>공공도서관</td>\n",
       "      <td>430</td>\n",
       "      <td>4010.0</td>\n",
       "      <td>POINT (127.21750 37.58569)</td>\n",
       "    </tr>\n",
       "    <tr>\n",
       "      <th>22</th>\n",
       "      <td>화도도서관</td>\n",
       "      <td>공공도서관</td>\n",
       "      <td>328</td>\n",
       "      <td>2667.0</td>\n",
       "      <td>POINT (127.30581 37.65014)</td>\n",
       "    </tr>\n",
       "    <tr>\n",
       "      <th>23</th>\n",
       "      <td>진건도서관</td>\n",
       "      <td>공공도서관</td>\n",
       "      <td>263</td>\n",
       "      <td>2848.0</td>\n",
       "      <td>POINT (127.17744 37.65514)</td>\n",
       "    </tr>\n",
       "  </tbody>\n",
       "</table>\n",
       "</div>"
      ],
      "text/plain": [
       "          name   type  chair_cnt  bd_area                    geometry\n",
       "0   이석영뉴미디어도서관  공공도서관        615   4877.0  POINT (127.29953 37.65816)\n",
       "20      정약용도서관  공공도서관        560  12807.0  POINT (127.16736 37.61216)\n",
       "21       와부도서관  공공도서관        430   4010.0  POINT (127.21750 37.58569)\n",
       "22       화도도서관  공공도서관        328   2667.0  POINT (127.30581 37.65014)\n",
       "23       진건도서관  공공도서관        263   2848.0  POINT (127.17744 37.65514)"
      ]
     },
     "execution_count": 19,
     "metadata": {},
     "output_type": "execute_result"
    }
   ],
   "source": [
    "lib_gdf_small.columns = ['name', 'type', 'chair_cnt', 'bd_area', 'geometry']\n",
    "lib_gdf_small.head()"
   ]
  },
  {
   "cell_type": "code",
   "execution_count": 20,
   "metadata": {},
   "outputs": [
    {
     "data": {
      "image/png": "[encoded data removed]",
      "text/plain": [
       "<Figure size 1000x1000 with 1 Axes>"
      ]
     },
     "metadata": {
      "image/png": {
       "height": 793,
       "width": 844
      }
     },
     "output_type": "display_data"
    }
   ],
   "source": [
    "lib_gdf_small.plot(figsize=(10,10))\n",
    "plt.show()"
   ]
  },
  {
   "cell_type": "code",
   "execution_count": null,
   "metadata": {},
   "outputs": [],
   "source": []
  }
 ],
 "metadata": {
  "kernelspec": {
   "display_name": "geoaip39",
   "language": "python",
   "name": "python3"
  },
  "language_info": {
   "codemirror_mode": {
    "name": "ipython",
    "version": 3
   },
   "file_extension": ".py",
   "mimetype": "text/x-python",
   "name": "python",
   "nbconvert_exporter": "python",
   "pygments_lexer": "ipython3",
   "version": "3.9.17"
  },
  "orig_nbformat": 4
 },
 "nbformat": 4,
 "nbformat_minor": 2
}
