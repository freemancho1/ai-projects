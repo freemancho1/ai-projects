{
 "cells": [
  {
   "cell_type": "markdown",
   "metadata": {},
   "source": [
    "#### Overview\n",
    "* GeoCoding: 주소정보를 좌표정보로 치환하는 방법\n",
    "* 구글, 네이버, 카카오 등에서 변경하는 API를 제공하며 여기서는 `네이버API` 활용"
   ]
  },
  {
   "cell_type": "markdown",
   "metadata": {},
   "source": [
    "#### Import Libraries"
   ]
  },
  {
   "cell_type": "code",
   "execution_count": 62,
   "metadata": {},
   "outputs": [],
   "source": [
    "import os\n",
    "import pandas as pd\n",
    "import geopandas as gpd\n",
    "\n",
    "import geo_coding_31 as gc"
   ]
  },
  {
   "cell_type": "markdown",
   "metadata": {},
   "source": [
    "#### Simple Test"
   ]
  },
  {
   "cell_type": "code",
   "execution_count": 56,
   "metadata": {},
   "outputs": [
    {
     "data": {
      "text/plain": [
       "{'status': 'OK',\n",
       " 'meta': {'totalCount': 1, 'page': 1, 'count': 1},\n",
       " 'addresses': [{'roadAddress': '전라남도 나주시 중야1길 15 대방엘리움 2차 아파트',\n",
       "   'jibunAddress': '전라남도 나주시 빛가람동 374 대방엘리움 2차 아파트',\n",
       "   'englishAddress': '15, Jungya 1-gil, Naju-si, Jeollanam-do, Republic of Korea',\n",
       "   'addressElements': [{'types': ['SIDO'],\n",
       "     'longName': '전라남도',\n",
       "     'shortName': '전라남도',\n",
       "     'code': ''},\n",
       "    {'types': ['SIGUGUN'], 'longName': '나주시', 'shortName': '나주시', 'code': ''},\n",
       "    {'types': ['DONGMYUN'],\n",
       "     'longName': '빛가람동',\n",
       "     'shortName': '빛가람동',\n",
       "     'code': ''},\n",
       "    {'types': ['RI'], 'longName': '', 'shortName': '', 'code': ''},\n",
       "    {'types': ['ROAD_NAME'],\n",
       "     'longName': '중야1길',\n",
       "     'shortName': '중야1길',\n",
       "     'code': ''},\n",
       "    {'types': ['BUILDING_NUMBER'],\n",
       "     'longName': '15',\n",
       "     'shortName': '15',\n",
       "     'code': ''},\n",
       "    {'types': ['BUILDING_NAME'],\n",
       "     'longName': '대방엘리움 2차 아파트',\n",
       "     'shortName': '대방엘리움 2차 아파트',\n",
       "     'code': ''},\n",
       "    {'types': ['LAND_NUMBER'],\n",
       "     'longName': '374',\n",
       "     'shortName': '374',\n",
       "     'code': ''},\n",
       "    {'types': ['POSTAL_CODE'],\n",
       "     'longName': '58326',\n",
       "     'shortName': '58326',\n",
       "     'code': ''}],\n",
       "   'x': '126.7789937',\n",
       "   'y': '35.0175096',\n",
       "   'distance': 0.0}],\n",
       " 'errorMessage': ''}"
      ]
     },
     "execution_count": 56,
     "metadata": {},
     "output_type": "execute_result"
    }
   ],
   "source": [
    "address_name = '전남 나주시 중야1길 15'\n",
    "geo_coding = gc.get_geocoding(address_name)\n",
    "geo_coding"
   ]
  },
  {
   "cell_type": "code",
   "execution_count": 61,
   "metadata": {},
   "outputs": [
    {
     "data": {
      "text/plain": [
       "('126.7789937', '35.0175096')"
      ]
     },
     "execution_count": 61,
     "metadata": {},
     "output_type": "execute_result"
    }
   ],
   "source": [
    "geo_coding['addresses'][0]['x'], geo_coding['addresses'][0]['y']"
   ]
  },
  {
   "cell_type": "markdown",
   "metadata": {},
   "source": [
    "#### Fetching Data"
   ]
  },
  {
   "cell_type": "code",
   "execution_count": 63,
   "metadata": {},
   "outputs": [],
   "source": [
    "CCTV_CSV_PATH = os.path.join(\n",
    "    os.getcwd(), '89_data', 'csv', 'road_cctv_info.csv'\n",
    ")\n",
    "cctv_df = pd.read_csv(\n",
    "    CCTV_CSV_PATH, encoding='EUC-KR', header=0, index_col=None,\n",
    "    names=[\n",
    "        'admin_nm', 'addr_rd', 'addr_jb', 'purpose', 'cctv_cnt', \n",
    "        'pixel', 'direction', 'period', 'date_install', 'tel', \n",
    "        'lat', 'lon', 'date_make', 'offer_admin_cd', 'offer_admin_nm'\n",
    "    ],\n",
    "    dtype={\n",
    "        'cctv_cnt':object, 'pixel':object, 'period':object, \n",
    "        'lat':float, 'lon':float, 'offer_admin_cd':object\n",
    "    }, \n",
    "    thousands=',', # 천단위 쉼표 제거(?)\n",
    "    nrows=100, # 100건\n",
    ")"
   ]
  },
  {
   "cell_type": "code",
   "execution_count": 67,
   "metadata": {},
   "outputs": [
    {
     "data": {
      "text/plain": [
       "(100, 15)"
      ]
     },
     "execution_count": 67,
     "metadata": {},
     "output_type": "execute_result"
    }
   ],
   "source": [
    "cctv_df.shape"
   ]
  },
  {
   "cell_type": "code",
   "execution_count": 64,
   "metadata": {},
   "outputs": [
    {
     "name": "stdout",
     "output_type": "stream",
     "text": [
      "<class 'pandas.core.frame.DataFrame'>\n",
      "RangeIndex: 100 entries, 0 to 99\n",
      "Data columns (total 15 columns):\n",
      " #   Column          Non-Null Count  Dtype  \n",
      "---  ------          --------------  -----  \n",
      " 0   admin_nm        100 non-null    object \n",
      " 1   addr_rd         29 non-null     object \n",
      " 2   addr_jb         100 non-null    object \n",
      " 3   purpose         100 non-null    object \n",
      " 4   cctv_cnt        100 non-null    object \n",
      " 5   pixel           86 non-null     object \n",
      " 6   direction       100 non-null    object \n",
      " 7   period          100 non-null    object \n",
      " 8   date_install    98 non-null     object \n",
      " 9   tel             100 non-null    object \n",
      " 10  lat             100 non-null    float64\n",
      " 11  lon             100 non-null    float64\n",
      " 12  date_make       100 non-null    object \n",
      " 13  offer_admin_cd  100 non-null    object \n",
      " 14  offer_admin_nm  100 non-null    object \n",
      "dtypes: float64(2), object(13)\n",
      "memory usage: 11.8+ KB\n"
     ]
    }
   ],
   "source": [
    "cctv_df.info()"
   ]
  },
  {
   "cell_type": "code",
   "execution_count": 65,
   "metadata": {},
   "outputs": [
    {
     "data": {
      "text/html": [
       "<div>\n",
       "<style scoped>\n",
       "    .dataframe tbody tr th:only-of-type {\n",
       "        vertical-align: middle;\n",
       "    }\n",
       "\n",
       "    .dataframe tbody tr th {\n",
       "        vertical-align: top;\n",
       "    }\n",
       "\n",
       "    .dataframe thead th {\n",
       "        text-align: right;\n",
       "    }\n",
       "</style>\n",
       "<table border=\"1\" class=\"dataframe\">\n",
       "  <thead>\n",
       "    <tr style=\"text-align: right;\">\n",
       "      <th></th>\n",
       "      <th>admin_nm</th>\n",
       "      <th>addr_rd</th>\n",
       "      <th>addr_jb</th>\n",
       "      <th>purpose</th>\n",
       "      <th>cctv_cnt</th>\n",
       "      <th>pixel</th>\n",
       "      <th>direction</th>\n",
       "      <th>period</th>\n",
       "      <th>date_install</th>\n",
       "      <th>tel</th>\n",
       "      <th>lat</th>\n",
       "      <th>lon</th>\n",
       "      <th>date_make</th>\n",
       "      <th>offer_admin_cd</th>\n",
       "      <th>offer_admin_nm</th>\n",
       "    </tr>\n",
       "  </thead>\n",
       "  <tbody>\n",
       "    <tr>\n",
       "      <th>0</th>\n",
       "      <td>경상남도 김해시청</td>\n",
       "      <td>NaN</td>\n",
       "      <td>경상남도 김해시 구산동 1072-19</td>\n",
       "      <td>생활방범</td>\n",
       "      <td>3</td>\n",
       "      <td>200</td>\n",
       "      <td>현대병원뒤</td>\n",
       "      <td>30</td>\n",
       "      <td>2019-11</td>\n",
       "      <td>055-330-4741</td>\n",
       "      <td>35.249247</td>\n",
       "      <td>128.871639</td>\n",
       "      <td>2019-06-26</td>\n",
       "      <td>5350000</td>\n",
       "      <td>경상남도 김해시</td>\n",
       "    </tr>\n",
       "    <tr>\n",
       "      <th>1</th>\n",
       "      <td>경상남도 김해시청</td>\n",
       "      <td>NaN</td>\n",
       "      <td>경상남도 김해시 구산동 305-15</td>\n",
       "      <td>생활방범</td>\n",
       "      <td>2</td>\n",
       "      <td>200</td>\n",
       "      <td>목화골공원</td>\n",
       "      <td>30</td>\n",
       "      <td>2019-12</td>\n",
       "      <td>055-330-4741</td>\n",
       "      <td>35.247411</td>\n",
       "      <td>128.873605</td>\n",
       "      <td>2019-06-26</td>\n",
       "      <td>5350000</td>\n",
       "      <td>경상남도 김해시</td>\n",
       "    </tr>\n",
       "    <tr>\n",
       "      <th>2</th>\n",
       "      <td>경상남도 김해시청</td>\n",
       "      <td>NaN</td>\n",
       "      <td>경상남도 김해시 삼계동 1484-14</td>\n",
       "      <td>생활방범</td>\n",
       "      <td>2</td>\n",
       "      <td>200</td>\n",
       "      <td>정원빌라</td>\n",
       "      <td>30</td>\n",
       "      <td>2019-06</td>\n",
       "      <td>055-330-4741</td>\n",
       "      <td>35.261728</td>\n",
       "      <td>128.874144</td>\n",
       "      <td>2019-06-26</td>\n",
       "      <td>5350000</td>\n",
       "      <td>경상남도 김해시</td>\n",
       "    </tr>\n",
       "    <tr>\n",
       "      <th>3</th>\n",
       "      <td>경상남도 김해시청</td>\n",
       "      <td>NaN</td>\n",
       "      <td>경상남도 김해시 구산동 1043</td>\n",
       "      <td>생활방범</td>\n",
       "      <td>4</td>\n",
       "      <td>200</td>\n",
       "      <td>최가아구찜</td>\n",
       "      <td>30</td>\n",
       "      <td>2019-05</td>\n",
       "      <td>055-330-4741</td>\n",
       "      <td>35.247076</td>\n",
       "      <td>128.872461</td>\n",
       "      <td>2019-06-26</td>\n",
       "      <td>5350000</td>\n",
       "      <td>경상남도 김해시</td>\n",
       "    </tr>\n",
       "    <tr>\n",
       "      <th>4</th>\n",
       "      <td>경상남도 김해시청</td>\n",
       "      <td>NaN</td>\n",
       "      <td>경상남도 김해시 구산동 175-10</td>\n",
       "      <td>생활방범</td>\n",
       "      <td>2</td>\n",
       "      <td>200</td>\n",
       "      <td>동호맨션</td>\n",
       "      <td>30</td>\n",
       "      <td>2019-12</td>\n",
       "      <td>055-330-4741</td>\n",
       "      <td>35.241185</td>\n",
       "      <td>128.877334</td>\n",
       "      <td>2019-06-26</td>\n",
       "      <td>5350000</td>\n",
       "      <td>경상남도 김해시</td>\n",
       "    </tr>\n",
       "  </tbody>\n",
       "</table>\n",
       "</div>"
      ],
      "text/plain": [
       "    admin_nm addr_rd               addr_jb purpose cctv_cnt pixel direction  \\\n",
       "0  경상남도 김해시청     NaN  경상남도 김해시 구산동 1072-19    생활방범        3   200     현대병원뒤   \n",
       "1  경상남도 김해시청     NaN   경상남도 김해시 구산동 305-15    생활방범        2   200     목화골공원   \n",
       "2  경상남도 김해시청     NaN  경상남도 김해시 삼계동 1484-14    생활방범        2   200      정원빌라   \n",
       "3  경상남도 김해시청     NaN     경상남도 김해시 구산동 1043    생활방범        4   200     최가아구찜   \n",
       "4  경상남도 김해시청     NaN   경상남도 김해시 구산동 175-10    생활방범        2   200      동호맨션   \n",
       "\n",
       "  period date_install           tel        lat         lon   date_make  \\\n",
       "0     30      2019-11  055-330-4741  35.249247  128.871639  2019-06-26   \n",
       "1     30      2019-12  055-330-4741  35.247411  128.873605  2019-06-26   \n",
       "2     30      2019-06  055-330-4741  35.261728  128.874144  2019-06-26   \n",
       "3     30      2019-05  055-330-4741  35.247076  128.872461  2019-06-26   \n",
       "4     30      2019-12  055-330-4741  35.241185  128.877334  2019-06-26   \n",
       "\n",
       "  offer_admin_cd offer_admin_nm  \n",
       "0        5350000       경상남도 김해시  \n",
       "1        5350000       경상남도 김해시  \n",
       "2        5350000       경상남도 김해시  \n",
       "3        5350000       경상남도 김해시  \n",
       "4        5350000       경상남도 김해시  "
      ]
     },
     "execution_count": 65,
     "metadata": {},
     "output_type": "execute_result"
    }
   ],
   "source": [
    "cctv_df.head()"
   ]
  },
  {
   "cell_type": "code",
   "execution_count": 66,
   "metadata": {},
   "outputs": [
    {
     "data": {
      "text/plain": [
       "admin_nm           0\n",
       "addr_rd           71\n",
       "addr_jb            0\n",
       "purpose            0\n",
       "cctv_cnt           0\n",
       "pixel             14\n",
       "direction          0\n",
       "period             0\n",
       "date_install       2\n",
       "tel                0\n",
       "lat                0\n",
       "lon                0\n",
       "date_make          0\n",
       "offer_admin_cd     0\n",
       "offer_admin_nm     0\n",
       "dtype: int64"
      ]
     },
     "execution_count": 66,
     "metadata": {},
     "output_type": "execute_result"
    }
   ],
   "source": [
    "cctv_df.isnull().sum()"
   ]
  },
  {
   "cell_type": "code",
   "execution_count": 68,
   "metadata": {},
   "outputs": [
    {
     "data": {
      "text/plain": [
       "(100, 15)"
      ]
     },
     "execution_count": 68,
     "metadata": {},
     "output_type": "execute_result"
    }
   ],
   "source": [
    "cctv_df.dropna(subset=['addr_jb'], axis=0, inplace=True)\n",
    "cctv_df.shape\n",
    "# 삭제된 row는 없음"
   ]
  },
  {
   "cell_type": "code",
   "execution_count": null,
   "metadata": {},
   "outputs": [],
   "source": []
  }
 ],
 "metadata": {
  "kernelspec": {
   "display_name": "geoaip39",
   "language": "python",
   "name": "python3"
  },
  "language_info": {
   "codemirror_mode": {
    "name": "ipython",
    "version": 3
   },
   "file_extension": ".py",
   "mimetype": "text/x-python",
   "name": "python",
   "nbconvert_exporter": "python",
   "pygments_lexer": "ipython3",
   "version": "3.9.17"
  },
  "orig_nbformat": 4
 },
 "nbformat": 4,
 "nbformat_minor": 2
}
