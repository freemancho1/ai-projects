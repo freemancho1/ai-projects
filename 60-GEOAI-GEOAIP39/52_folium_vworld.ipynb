{
 "cells": [
  {
   "cell_type": "markdown",
   "metadata": {},
   "source": [
    "#### Import Libraries"
   ]
  },
  {
   "cell_type": "code",
   "execution_count": 1,
   "metadata": {},
   "outputs": [
    {
     "name": "stdout",
     "output_type": "stream",
     "text": [
      "Folium Version: 0.14.0\n"
     ]
    }
   ],
   "source": [
    "import os\n",
    "import folium\n",
    "import numpy as np\n",
    "import pandas as pd\n",
    "import geopandas as gpd\n",
    "import requests\n",
    "print(f'Folium Version: {folium.__version__}')"
   ]
  },
  {
   "cell_type": "markdown",
   "metadata": {},
   "source": [
    "#### Get VWorld Tiles"
   ]
  },
  {
   "cell_type": "markdown",
   "metadata": {},
   "source": [
    "##### Base Settings"
   ]
  },
  {
   "cell_type": "code",
   "execution_count": 2,
   "metadata": {},
   "outputs": [],
   "source": [
    "BASE_KEY_FILE_PATH = os.path.join(\n",
    "    os.path.expanduser('~'),\n",
    "    'projects' if os.name == 'posix' else 'python_projects'\n",
    ")\n",
    "\n",
    "VWORLD_KEY_FILE_PATH = os.path.join(BASE_KEY_FILE_PATH, 'vworld_key.txt')\n",
    "with open(VWORLD_KEY_FILE_PATH, 'r') as vkf:\n",
    "    vk_lines = vkf.readlines()\n",
    "VWORLD_KEY = vk_lines[0].replace('\\n', '')"
   ]
  },
  {
   "cell_type": "code",
   "execution_count": 3,
   "metadata": {},
   "outputs": [],
   "source": [
    "VWORLD_TILE_TYPE='png'\n",
    "VWORLD_ATTR = 'Vworld'"
   ]
  },
  {
   "cell_type": "markdown",
   "metadata": {},
   "source": [
    "##### Tile: Base(기본도)"
   ]
  },
  {
   "cell_type": "code",
   "execution_count": 4,
   "metadata": {},
   "outputs": [
    {
     "data": {
      "text/html": [
       "<div style=\"width:100%;\"><div style=\"position:relative;width:100%;height:0;padding-bottom:60%;\"><span style=\"color:#565656\">Make this Notebook Trusted to load map: File -> Trust Notebook</span><iframe srcdoc=\"&lt;!DOCTYPE html&gt;\n",
       "&lt;html&gt;\n",
       "&lt;head&gt;\n",
       "    \n",
       "    &lt;meta http-equiv=&quot;content-type&quot; content=&quot;text/html; charset=UTF-8&quot; /&gt;\n",
       "    \n",
       "        &lt;script&gt;\n",
       "            L_NO_TOUCH = false;\n",
       "            L_DISABLE_3D = false;\n",
       "        &lt;/script&gt;\n",
       "    \n",
       "    &lt;style&gt;html, body {width: 100%;height: 100%;margin: 0;padding: 0;}&lt;/style&gt;\n",
       "    &lt;style&gt;#map {position:absolute;top:0;bottom:0;right:0;left:0;}&lt;/style&gt;\n",
       "    &lt;script src=&quot;https://cdn.jsdelivr.net/npm/leaflet@1.9.3/dist/leaflet.js&quot;&gt;&lt;/script&gt;\n",
       "    &lt;script src=&quot;https://code.jquery.com/jquery-1.12.4.min.js&quot;&gt;&lt;/script&gt;\n",
       "    &lt;script src=&quot;https://cdn.jsdelivr.net/npm/bootstrap@5.2.2/dist/js/bootstrap.bundle.min.js&quot;&gt;&lt;/script&gt;\n",
       "    &lt;script src=&quot;https://cdnjs.cloudflare.com/ajax/libs/Leaflet.awesome-markers/2.0.2/leaflet.awesome-markers.js&quot;&gt;&lt;/script&gt;\n",
       "    &lt;link rel=&quot;stylesheet&quot; href=&quot;https://cdn.jsdelivr.net/npm/leaflet@1.9.3/dist/leaflet.css&quot;/&gt;\n",
       "    &lt;link rel=&quot;stylesheet&quot; href=&quot;https://cdn.jsdelivr.net/npm/bootstrap@5.2.2/dist/css/bootstrap.min.css&quot;/&gt;\n",
       "    &lt;link rel=&quot;stylesheet&quot; href=&quot;https://netdna.bootstrapcdn.com/bootstrap/3.0.0/css/bootstrap.min.css&quot;/&gt;\n",
       "    &lt;link rel=&quot;stylesheet&quot; href=&quot;https://cdn.jsdelivr.net/npm/@fortawesome/fontawesome-free@6.2.0/css/all.min.css&quot;/&gt;\n",
       "    &lt;link rel=&quot;stylesheet&quot; href=&quot;https://cdnjs.cloudflare.com/ajax/libs/Leaflet.awesome-markers/2.0.2/leaflet.awesome-markers.css&quot;/&gt;\n",
       "    &lt;link rel=&quot;stylesheet&quot; href=&quot;https://cdn.jsdelivr.net/gh/python-visualization/folium/folium/templates/leaflet.awesome.rotate.min.css&quot;/&gt;\n",
       "    \n",
       "            &lt;meta name=&quot;viewport&quot; content=&quot;width=device-width,\n",
       "                initial-scale=1.0, maximum-scale=1.0, user-scalable=no&quot; /&gt;\n",
       "            &lt;style&gt;\n",
       "                #map_495ddeffc9c8a7c348ff67354b882706 {\n",
       "                    position: relative;\n",
       "                    width: 100.0%;\n",
       "                    height: 100.0%;\n",
       "                    left: 0.0%;\n",
       "                    top: 0.0%;\n",
       "                }\n",
       "                .leaflet-container { font-size: 1rem; }\n",
       "            &lt;/style&gt;\n",
       "        \n",
       "&lt;/head&gt;\n",
       "&lt;body&gt;\n",
       "    \n",
       "    \n",
       "            &lt;div class=&quot;folium-map&quot; id=&quot;map_495ddeffc9c8a7c348ff67354b882706&quot; &gt;&lt;/div&gt;\n",
       "        \n",
       "&lt;/body&gt;\n",
       "&lt;script&gt;\n",
       "    \n",
       "    \n",
       "            var map_495ddeffc9c8a7c348ff67354b882706 = L.map(\n",
       "                &quot;map_495ddeffc9c8a7c348ff67354b882706&quot;,\n",
       "                {\n",
       "                    center: [37.5665, 126.978],\n",
       "                    crs: L.CRS.EPSG3857,\n",
       "                    zoom: 13,\n",
       "                    zoomControl: true,\n",
       "                    preferCanvas: false,\n",
       "                }\n",
       "            );\n",
       "\n",
       "            \n",
       "\n",
       "        \n",
       "    \n",
       "            var tile_layer_12dd31409af4301542d6fe0e7e069b7e = L.tileLayer(\n",
       "                &quot;http://api.vworld.kr/req/wmts/1.0.0/AC38C527-013B-3078-A053-6DD7FB7DF661/Base/{z}/{y}/{x}.png&quot;,\n",
       "                {&quot;attribution&quot;: &quot;Vworld&quot;, &quot;detectRetina&quot;: false, &quot;maxNativeZoom&quot;: 18, &quot;maxZoom&quot;: 18, &quot;minZoom&quot;: 0, &quot;noWrap&quot;: false, &quot;opacity&quot;: 1, &quot;subdomains&quot;: &quot;abc&quot;, &quot;tms&quot;: false}\n",
       "            ).addTo(map_495ddeffc9c8a7c348ff67354b882706);\n",
       "        \n",
       "&lt;/script&gt;\n",
       "&lt;/html&gt;\" style=\"position:absolute;width:100%;height:100%;left:0;top:0;border:none !important;\" allowfullscreen webkitallowfullscreen mozallowfullscreen></iframe></div></div>"
      ],
      "text/plain": [
       "<folium.folium.Map at 0x7f2183122880>"
      ]
     },
     "execution_count": 4,
     "metadata": {},
     "output_type": "execute_result"
    }
   ],
   "source": [
    "VWORLD_LAYER = 'Base'\n",
    "VWORLD_TILES_URL = \\\n",
    "    f'http://api.vworld.kr/req/wmts/1.0.0/' \\\n",
    "    f'{VWORLD_KEY}/{VWORLD_LAYER}/{{z}}/{{y}}/{{x}}.{VWORLD_TILE_TYPE}'\n",
    "\n",
    "base_map = folium.Map(\n",
    "    location=[37.5665, 126.9780], zoom_start=13,\n",
    "    tiles=VWORLD_TILES_URL, attr=VWORLD_ATTR\n",
    ")\n",
    "base_map"
   ]
  },
  {
   "cell_type": "markdown",
   "metadata": {},
   "source": [
    "##### Tile: Hybrid(하이브리드지도)"
   ]
  },
  {
   "cell_type": "code",
   "execution_count": 7,
   "metadata": {},
   "outputs": [
    {
     "data": {
      "text/html": [
       "<div style=\"width:100%;\"><div style=\"position:relative;width:100%;height:0;padding-bottom:60%;\"><span style=\"color:#565656\">Make this Notebook Trusted to load map: File -> Trust Notebook</span><iframe srcdoc=\"&lt;!DOCTYPE html&gt;\n",
       "&lt;html&gt;\n",
       "&lt;head&gt;\n",
       "    \n",
       "    &lt;meta http-equiv=&quot;content-type&quot; content=&quot;text/html; charset=UTF-8&quot; /&gt;\n",
       "    \n",
       "        &lt;script&gt;\n",
       "            L_NO_TOUCH = false;\n",
       "            L_DISABLE_3D = false;\n",
       "        &lt;/script&gt;\n",
       "    \n",
       "    &lt;style&gt;html, body {width: 100%;height: 100%;margin: 0;padding: 0;}&lt;/style&gt;\n",
       "    &lt;style&gt;#map {position:absolute;top:0;bottom:0;right:0;left:0;}&lt;/style&gt;\n",
       "    &lt;script src=&quot;https://cdn.jsdelivr.net/npm/leaflet@1.9.3/dist/leaflet.js&quot;&gt;&lt;/script&gt;\n",
       "    &lt;script src=&quot;https://code.jquery.com/jquery-1.12.4.min.js&quot;&gt;&lt;/script&gt;\n",
       "    &lt;script src=&quot;https://cdn.jsdelivr.net/npm/bootstrap@5.2.2/dist/js/bootstrap.bundle.min.js&quot;&gt;&lt;/script&gt;\n",
       "    &lt;script src=&quot;https://cdnjs.cloudflare.com/ajax/libs/Leaflet.awesome-markers/2.0.2/leaflet.awesome-markers.js&quot;&gt;&lt;/script&gt;\n",
       "    &lt;link rel=&quot;stylesheet&quot; href=&quot;https://cdn.jsdelivr.net/npm/leaflet@1.9.3/dist/leaflet.css&quot;/&gt;\n",
       "    &lt;link rel=&quot;stylesheet&quot; href=&quot;https://cdn.jsdelivr.net/npm/bootstrap@5.2.2/dist/css/bootstrap.min.css&quot;/&gt;\n",
       "    &lt;link rel=&quot;stylesheet&quot; href=&quot;https://netdna.bootstrapcdn.com/bootstrap/3.0.0/css/bootstrap.min.css&quot;/&gt;\n",
       "    &lt;link rel=&quot;stylesheet&quot; href=&quot;https://cdn.jsdelivr.net/npm/@fortawesome/fontawesome-free@6.2.0/css/all.min.css&quot;/&gt;\n",
       "    &lt;link rel=&quot;stylesheet&quot; href=&quot;https://cdnjs.cloudflare.com/ajax/libs/Leaflet.awesome-markers/2.0.2/leaflet.awesome-markers.css&quot;/&gt;\n",
       "    &lt;link rel=&quot;stylesheet&quot; href=&quot;https://cdn.jsdelivr.net/gh/python-visualization/folium/folium/templates/leaflet.awesome.rotate.min.css&quot;/&gt;\n",
       "    \n",
       "            &lt;meta name=&quot;viewport&quot; content=&quot;width=device-width,\n",
       "                initial-scale=1.0, maximum-scale=1.0, user-scalable=no&quot; /&gt;\n",
       "            &lt;style&gt;\n",
       "                #map_f70f0df66b8ced5b8cdc9ad36d0178c1 {\n",
       "                    position: relative;\n",
       "                    width: 100.0%;\n",
       "                    height: 100.0%;\n",
       "                    left: 0.0%;\n",
       "                    top: 0.0%;\n",
       "                }\n",
       "                .leaflet-container { font-size: 1rem; }\n",
       "            &lt;/style&gt;\n",
       "        \n",
       "&lt;/head&gt;\n",
       "&lt;body&gt;\n",
       "    \n",
       "    \n",
       "            &lt;div class=&quot;folium-map&quot; id=&quot;map_f70f0df66b8ced5b8cdc9ad36d0178c1&quot; &gt;&lt;/div&gt;\n",
       "        \n",
       "&lt;/body&gt;\n",
       "&lt;script&gt;\n",
       "    \n",
       "    \n",
       "            var map_f70f0df66b8ced5b8cdc9ad36d0178c1 = L.map(\n",
       "                &quot;map_f70f0df66b8ced5b8cdc9ad36d0178c1&quot;,\n",
       "                {\n",
       "                    center: [37.5665, 126.978],\n",
       "                    crs: L.CRS.EPSG3857,\n",
       "                    zoom: 13,\n",
       "                    zoomControl: true,\n",
       "                    preferCanvas: false,\n",
       "                }\n",
       "            );\n",
       "\n",
       "            \n",
       "\n",
       "        \n",
       "    \n",
       "            var tile_layer_70b6afc6f4bd2bcf1dcd477027615df0 = L.tileLayer(\n",
       "                &quot;http://api.vworld.kr/req/wmts/1.0.0/AC38C527-013B-3078-A053-6DD7FB7DF661/Hybrid/{z}/{y}/{x}.png&quot;,\n",
       "                {&quot;attribution&quot;: &quot;Vworld&quot;, &quot;detectRetina&quot;: false, &quot;maxNativeZoom&quot;: 18, &quot;maxZoom&quot;: 18, &quot;minZoom&quot;: 0, &quot;noWrap&quot;: false, &quot;opacity&quot;: 1, &quot;subdomains&quot;: &quot;abc&quot;, &quot;tms&quot;: false}\n",
       "            ).addTo(map_f70f0df66b8ced5b8cdc9ad36d0178c1);\n",
       "        \n",
       "&lt;/script&gt;\n",
       "&lt;/html&gt;\" style=\"position:absolute;width:100%;height:100%;left:0;top:0;border:none !important;\" allowfullscreen webkitallowfullscreen mozallowfullscreen></iframe></div></div>"
      ],
      "text/plain": [
       "<folium.folium.Map at 0x29fd0e4e340>"
      ]
     },
     "execution_count": 7,
     "metadata": {},
     "output_type": "execute_result"
    }
   ],
   "source": [
    "VWORLD_LAYER = 'Hybrid'\n",
    "VWORLD_TILES_URL = \\\n",
    "    f'http://api.vworld.kr/req/wmts/1.0.0/' \\\n",
    "    f'{VWORLD_KEY}/{VWORLD_LAYER}/{{z}}/{{y}}/{{x}}.{VWORLD_TILE_TYPE}'\n",
    "\n",
    "base_map = folium.Map(\n",
    "    location=[37.5665, 126.9780], zoom_start=13,\n",
    "    tiles=VWORLD_TILES_URL, attr=VWORLD_ATTR\n",
    ")\n",
    "base_map"
   ]
  },
  {
   "cell_type": "markdown",
   "metadata": {},
   "source": [
    "##### Tiles: midnight(어두운 배경)"
   ]
  },
  {
   "cell_type": "code",
   "execution_count": 8,
   "metadata": {},
   "outputs": [
    {
     "data": {
      "text/html": [
       "<div style=\"width:100%;\"><div style=\"position:relative;width:100%;height:0;padding-bottom:60%;\"><span style=\"color:#565656\">Make this Notebook Trusted to load map: File -> Trust Notebook</span><iframe srcdoc=\"&lt;!DOCTYPE html&gt;\n",
       "&lt;html&gt;\n",
       "&lt;head&gt;\n",
       "    \n",
       "    &lt;meta http-equiv=&quot;content-type&quot; content=&quot;text/html; charset=UTF-8&quot; /&gt;\n",
       "    \n",
       "        &lt;script&gt;\n",
       "            L_NO_TOUCH = false;\n",
       "            L_DISABLE_3D = false;\n",
       "        &lt;/script&gt;\n",
       "    \n",
       "    &lt;style&gt;html, body {width: 100%;height: 100%;margin: 0;padding: 0;}&lt;/style&gt;\n",
       "    &lt;style&gt;#map {position:absolute;top:0;bottom:0;right:0;left:0;}&lt;/style&gt;\n",
       "    &lt;script src=&quot;https://cdn.jsdelivr.net/npm/leaflet@1.9.3/dist/leaflet.js&quot;&gt;&lt;/script&gt;\n",
       "    &lt;script src=&quot;https://code.jquery.com/jquery-1.12.4.min.js&quot;&gt;&lt;/script&gt;\n",
       "    &lt;script src=&quot;https://cdn.jsdelivr.net/npm/bootstrap@5.2.2/dist/js/bootstrap.bundle.min.js&quot;&gt;&lt;/script&gt;\n",
       "    &lt;script src=&quot;https://cdnjs.cloudflare.com/ajax/libs/Leaflet.awesome-markers/2.0.2/leaflet.awesome-markers.js&quot;&gt;&lt;/script&gt;\n",
       "    &lt;link rel=&quot;stylesheet&quot; href=&quot;https://cdn.jsdelivr.net/npm/leaflet@1.9.3/dist/leaflet.css&quot;/&gt;\n",
       "    &lt;link rel=&quot;stylesheet&quot; href=&quot;https://cdn.jsdelivr.net/npm/bootstrap@5.2.2/dist/css/bootstrap.min.css&quot;/&gt;\n",
       "    &lt;link rel=&quot;stylesheet&quot; href=&quot;https://netdna.bootstrapcdn.com/bootstrap/3.0.0/css/bootstrap.min.css&quot;/&gt;\n",
       "    &lt;link rel=&quot;stylesheet&quot; href=&quot;https://cdn.jsdelivr.net/npm/@fortawesome/fontawesome-free@6.2.0/css/all.min.css&quot;/&gt;\n",
       "    &lt;link rel=&quot;stylesheet&quot; href=&quot;https://cdnjs.cloudflare.com/ajax/libs/Leaflet.awesome-markers/2.0.2/leaflet.awesome-markers.css&quot;/&gt;\n",
       "    &lt;link rel=&quot;stylesheet&quot; href=&quot;https://cdn.jsdelivr.net/gh/python-visualization/folium/folium/templates/leaflet.awesome.rotate.min.css&quot;/&gt;\n",
       "    \n",
       "            &lt;meta name=&quot;viewport&quot; content=&quot;width=device-width,\n",
       "                initial-scale=1.0, maximum-scale=1.0, user-scalable=no&quot; /&gt;\n",
       "            &lt;style&gt;\n",
       "                #map_ba1c689873140d1c06cd9e8b8821a02d {\n",
       "                    position: relative;\n",
       "                    width: 100.0%;\n",
       "                    height: 100.0%;\n",
       "                    left: 0.0%;\n",
       "                    top: 0.0%;\n",
       "                }\n",
       "                .leaflet-container { font-size: 1rem; }\n",
       "            &lt;/style&gt;\n",
       "        \n",
       "&lt;/head&gt;\n",
       "&lt;body&gt;\n",
       "    \n",
       "    \n",
       "            &lt;div class=&quot;folium-map&quot; id=&quot;map_ba1c689873140d1c06cd9e8b8821a02d&quot; &gt;&lt;/div&gt;\n",
       "        \n",
       "&lt;/body&gt;\n",
       "&lt;script&gt;\n",
       "    \n",
       "    \n",
       "            var map_ba1c689873140d1c06cd9e8b8821a02d = L.map(\n",
       "                &quot;map_ba1c689873140d1c06cd9e8b8821a02d&quot;,\n",
       "                {\n",
       "                    center: [37.5665, 126.978],\n",
       "                    crs: L.CRS.EPSG3857,\n",
       "                    zoom: 13,\n",
       "                    zoomControl: true,\n",
       "                    preferCanvas: false,\n",
       "                }\n",
       "            );\n",
       "\n",
       "            \n",
       "\n",
       "        \n",
       "    \n",
       "            var tile_layer_a5d550e3ebced37a2b988845a41ade41 = L.tileLayer(\n",
       "                &quot;http://api.vworld.kr/req/wmts/1.0.0/AC38C527-013B-3078-A053-6DD7FB7DF661/midnight/{z}/{y}/{x}.png&quot;,\n",
       "                {&quot;attribution&quot;: &quot;Vworld&quot;, &quot;detectRetina&quot;: false, &quot;maxNativeZoom&quot;: 18, &quot;maxZoom&quot;: 18, &quot;minZoom&quot;: 0, &quot;noWrap&quot;: false, &quot;opacity&quot;: 1, &quot;subdomains&quot;: &quot;abc&quot;, &quot;tms&quot;: false}\n",
       "            ).addTo(map_ba1c689873140d1c06cd9e8b8821a02d);\n",
       "        \n",
       "&lt;/script&gt;\n",
       "&lt;/html&gt;\" style=\"position:absolute;width:100%;height:100%;left:0;top:0;border:none !important;\" allowfullscreen webkitallowfullscreen mozallowfullscreen></iframe></div></div>"
      ],
      "text/plain": [
       "<folium.folium.Map at 0x29fd0e59d90>"
      ]
     },
     "execution_count": 8,
     "metadata": {},
     "output_type": "execute_result"
    }
   ],
   "source": [
    "VWORLD_LAYER = 'midnight'\n",
    "VWORLD_TILES_URL = \\\n",
    "    f'http://api.vworld.kr/req/wmts/1.0.0/' \\\n",
    "    f'{VWORLD_KEY}/{VWORLD_LAYER}/{{z}}/{{y}}/{{x}}.{VWORLD_TILE_TYPE}'\n",
    "\n",
    "base_map = folium.Map(\n",
    "    location=[37.5665, 126.9780], zoom_start=13,\n",
    "    tiles=VWORLD_TILES_URL, attr=VWORLD_ATTR\n",
    ")\n",
    "base_map"
   ]
  },
  {
   "cell_type": "markdown",
   "metadata": {},
   "source": [
    "##### Tile: white(밝은 배경)"
   ]
  },
  {
   "cell_type": "code",
   "execution_count": 9,
   "metadata": {},
   "outputs": [
    {
     "data": {
      "text/html": [
       "<div style=\"width:100%;\"><div style=\"position:relative;width:100%;height:0;padding-bottom:60%;\"><span style=\"color:#565656\">Make this Notebook Trusted to load map: File -> Trust Notebook</span><iframe srcdoc=\"&lt;!DOCTYPE html&gt;\n",
       "&lt;html&gt;\n",
       "&lt;head&gt;\n",
       "    \n",
       "    &lt;meta http-equiv=&quot;content-type&quot; content=&quot;text/html; charset=UTF-8&quot; /&gt;\n",
       "    \n",
       "        &lt;script&gt;\n",
       "            L_NO_TOUCH = false;\n",
       "            L_DISABLE_3D = false;\n",
       "        &lt;/script&gt;\n",
       "    \n",
       "    &lt;style&gt;html, body {width: 100%;height: 100%;margin: 0;padding: 0;}&lt;/style&gt;\n",
       "    &lt;style&gt;#map {position:absolute;top:0;bottom:0;right:0;left:0;}&lt;/style&gt;\n",
       "    &lt;script src=&quot;https://cdn.jsdelivr.net/npm/leaflet@1.9.3/dist/leaflet.js&quot;&gt;&lt;/script&gt;\n",
       "    &lt;script src=&quot;https://code.jquery.com/jquery-1.12.4.min.js&quot;&gt;&lt;/script&gt;\n",
       "    &lt;script src=&quot;https://cdn.jsdelivr.net/npm/bootstrap@5.2.2/dist/js/bootstrap.bundle.min.js&quot;&gt;&lt;/script&gt;\n",
       "    &lt;script src=&quot;https://cdnjs.cloudflare.com/ajax/libs/Leaflet.awesome-markers/2.0.2/leaflet.awesome-markers.js&quot;&gt;&lt;/script&gt;\n",
       "    &lt;link rel=&quot;stylesheet&quot; href=&quot;https://cdn.jsdelivr.net/npm/leaflet@1.9.3/dist/leaflet.css&quot;/&gt;\n",
       "    &lt;link rel=&quot;stylesheet&quot; href=&quot;https://cdn.jsdelivr.net/npm/bootstrap@5.2.2/dist/css/bootstrap.min.css&quot;/&gt;\n",
       "    &lt;link rel=&quot;stylesheet&quot; href=&quot;https://netdna.bootstrapcdn.com/bootstrap/3.0.0/css/bootstrap.min.css&quot;/&gt;\n",
       "    &lt;link rel=&quot;stylesheet&quot; href=&quot;https://cdn.jsdelivr.net/npm/@fortawesome/fontawesome-free@6.2.0/css/all.min.css&quot;/&gt;\n",
       "    &lt;link rel=&quot;stylesheet&quot; href=&quot;https://cdnjs.cloudflare.com/ajax/libs/Leaflet.awesome-markers/2.0.2/leaflet.awesome-markers.css&quot;/&gt;\n",
       "    &lt;link rel=&quot;stylesheet&quot; href=&quot;https://cdn.jsdelivr.net/gh/python-visualization/folium/folium/templates/leaflet.awesome.rotate.min.css&quot;/&gt;\n",
       "    \n",
       "            &lt;meta name=&quot;viewport&quot; content=&quot;width=device-width,\n",
       "                initial-scale=1.0, maximum-scale=1.0, user-scalable=no&quot; /&gt;\n",
       "            &lt;style&gt;\n",
       "                #map_64d5de04bd5b636cfa46e86b84db61ce {\n",
       "                    position: relative;\n",
       "                    width: 100.0%;\n",
       "                    height: 100.0%;\n",
       "                    left: 0.0%;\n",
       "                    top: 0.0%;\n",
       "                }\n",
       "                .leaflet-container { font-size: 1rem; }\n",
       "            &lt;/style&gt;\n",
       "        \n",
       "&lt;/head&gt;\n",
       "&lt;body&gt;\n",
       "    \n",
       "    \n",
       "            &lt;div class=&quot;folium-map&quot; id=&quot;map_64d5de04bd5b636cfa46e86b84db61ce&quot; &gt;&lt;/div&gt;\n",
       "        \n",
       "&lt;/body&gt;\n",
       "&lt;script&gt;\n",
       "    \n",
       "    \n",
       "            var map_64d5de04bd5b636cfa46e86b84db61ce = L.map(\n",
       "                &quot;map_64d5de04bd5b636cfa46e86b84db61ce&quot;,\n",
       "                {\n",
       "                    center: [37.5665, 126.978],\n",
       "                    crs: L.CRS.EPSG3857,\n",
       "                    zoom: 13,\n",
       "                    zoomControl: true,\n",
       "                    preferCanvas: false,\n",
       "                }\n",
       "            );\n",
       "\n",
       "            \n",
       "\n",
       "        \n",
       "    \n",
       "            var tile_layer_7268756aeadf1c423fbd5da709a0e522 = L.tileLayer(\n",
       "                &quot;http://api.vworld.kr/req/wmts/1.0.0/AC38C527-013B-3078-A053-6DD7FB7DF661/white/{z}/{y}/{x}.png&quot;,\n",
       "                {&quot;attribution&quot;: &quot;Vworld&quot;, &quot;detectRetina&quot;: false, &quot;maxNativeZoom&quot;: 18, &quot;maxZoom&quot;: 18, &quot;minZoom&quot;: 0, &quot;noWrap&quot;: false, &quot;opacity&quot;: 1, &quot;subdomains&quot;: &quot;abc&quot;, &quot;tms&quot;: false}\n",
       "            ).addTo(map_64d5de04bd5b636cfa46e86b84db61ce);\n",
       "        \n",
       "&lt;/script&gt;\n",
       "&lt;/html&gt;\" style=\"position:absolute;width:100%;height:100%;left:0;top:0;border:none !important;\" allowfullscreen webkitallowfullscreen mozallowfullscreen></iframe></div></div>"
      ],
      "text/plain": [
       "<folium.folium.Map at 0x29fd0e59e20>"
      ]
     },
     "execution_count": 9,
     "metadata": {},
     "output_type": "execute_result"
    }
   ],
   "source": [
    "VWORLD_LAYER = 'white'\n",
    "VWORLD_TILES_URL = \\\n",
    "    f'http://api.vworld.kr/req/wmts/1.0.0/' \\\n",
    "    f'{VWORLD_KEY}/{VWORLD_LAYER}/{{z}}/{{y}}/{{x}}.{VWORLD_TILE_TYPE}'\n",
    "\n",
    "base_map = folium.Map(\n",
    "    location=[37.5665, 126.9780], zoom_start=13,\n",
    "    tiles=VWORLD_TILES_URL, attr=VWORLD_ATTR\n",
    ")\n",
    "base_map"
   ]
  },
  {
   "cell_type": "markdown",
   "metadata": {},
   "source": [
    "#### 행정구역별 구분"
   ]
  },
  {
   "cell_type": "code",
   "execution_count": 10,
   "metadata": {},
   "outputs": [
    {
     "name": "stdout",
     "output_type": "stream",
     "text": [
      "<class 'geopandas.geodataframe.GeoDataFrame'>\n",
      "RangeIndex: 3513 entries, 0 to 3512\n",
      "Data columns (total 10 columns):\n",
      " #   Column    Non-Null Count  Dtype   \n",
      "---  ------    --------------  -----   \n",
      " 0   OBJECTID  3513 non-null   int64   \n",
      " 1   adm_nm    3513 non-null   object  \n",
      " 2   adm_cd    3513 non-null   object  \n",
      " 3   adm_cd2   3513 non-null   object  \n",
      " 4   sgg       3513 non-null   object  \n",
      " 5   sido      3513 non-null   object  \n",
      " 6   sidonm    3513 non-null   object  \n",
      " 7   sggnm     3513 non-null   object  \n",
      " 8   adm_cd8   3513 non-null   object  \n",
      " 9   geometry  3513 non-null   geometry\n",
      "dtypes: geometry(1), int64(1), object(8)\n",
      "memory usage: 274.6+ KB\n"
     ]
    }
   ],
   "source": [
    "# SHP PATH\n",
    "VW_SIGNGU_PATH = os.path.join(\n",
    "    os.getcwd(), '89_data', 'vw-lab.HangJeongDong_ver20220701.geojson'\n",
    ")\n",
    "\n",
    "# 파일읽는 동안 \n",
    "# DriverError: .. supported file format\n",
    "# 관련 오류가 발생하면 gdal이 시스템에 설치 안되 그런것이지 아래와 같이 설치\n",
    "# > sudo apt install gdal-bin python3-gdal\n",
    "signgu_gdf = gpd.read_file(VW_SIGNGU_PATH)\n",
    "signgu_gdf.info()"
   ]
  },
  {
   "cell_type": "code",
   "execution_count": 11,
   "metadata": {},
   "outputs": [
    {
     "data": {
      "text/html": [
       "<div>\n",
       "<style scoped>\n",
       "    .dataframe tbody tr th:only-of-type {\n",
       "        vertical-align: middle;\n",
       "    }\n",
       "\n",
       "    .dataframe tbody tr th {\n",
       "        vertical-align: top;\n",
       "    }\n",
       "\n",
       "    .dataframe thead th {\n",
       "        text-align: right;\n",
       "    }\n",
       "</style>\n",
       "<table border=\"1\" class=\"dataframe\">\n",
       "  <thead>\n",
       "    <tr style=\"text-align: right;\">\n",
       "      <th></th>\n",
       "      <th>OBJECTID</th>\n",
       "      <th>adm_nm</th>\n",
       "      <th>adm_cd</th>\n",
       "      <th>adm_cd2</th>\n",
       "      <th>sgg</th>\n",
       "      <th>sido</th>\n",
       "      <th>sidonm</th>\n",
       "      <th>sggnm</th>\n",
       "      <th>adm_cd8</th>\n",
       "      <th>geometry</th>\n",
       "    </tr>\n",
       "  </thead>\n",
       "  <tbody>\n",
       "    <tr>\n",
       "      <th>0</th>\n",
       "      <td>1</td>\n",
       "      <td>서울특별시 종로구 사직동</td>\n",
       "      <td>1101053</td>\n",
       "      <td>1111053000</td>\n",
       "      <td>11110</td>\n",
       "      <td>11</td>\n",
       "      <td>서울특별시</td>\n",
       "      <td>종로구</td>\n",
       "      <td>11010530</td>\n",
       "      <td>MULTIPOLYGON (((126.97689 37.57565, 126.97703 ...</td>\n",
       "    </tr>\n",
       "    <tr>\n",
       "      <th>1</th>\n",
       "      <td>2</td>\n",
       "      <td>서울특별시 종로구 삼청동</td>\n",
       "      <td>1101054</td>\n",
       "      <td>1111054000</td>\n",
       "      <td>11110</td>\n",
       "      <td>11</td>\n",
       "      <td>서울특별시</td>\n",
       "      <td>종로구</td>\n",
       "      <td>11010540</td>\n",
       "      <td>MULTIPOLYGON (((126.98269 37.59507, 126.98337 ...</td>\n",
       "    </tr>\n",
       "    <tr>\n",
       "      <th>2</th>\n",
       "      <td>3</td>\n",
       "      <td>서울특별시 종로구 부암동</td>\n",
       "      <td>1101055</td>\n",
       "      <td>1111055000</td>\n",
       "      <td>11110</td>\n",
       "      <td>11</td>\n",
       "      <td>서울특별시</td>\n",
       "      <td>종로구</td>\n",
       "      <td>11010550</td>\n",
       "      <td>MULTIPOLYGON (((126.97585 37.59656, 126.97359 ...</td>\n",
       "    </tr>\n",
       "    <tr>\n",
       "      <th>3</th>\n",
       "      <td>4</td>\n",
       "      <td>서울특별시 종로구 평창동</td>\n",
       "      <td>1101056</td>\n",
       "      <td>1111056000</td>\n",
       "      <td>11110</td>\n",
       "      <td>11</td>\n",
       "      <td>서울특별시</td>\n",
       "      <td>종로구</td>\n",
       "      <td>11010560</td>\n",
       "      <td>MULTIPOLYGON (((126.97507 37.63139, 126.97649 ...</td>\n",
       "    </tr>\n",
       "    <tr>\n",
       "      <th>4</th>\n",
       "      <td>5</td>\n",
       "      <td>서울특별시 종로구 무악동</td>\n",
       "      <td>1101057</td>\n",
       "      <td>1111057000</td>\n",
       "      <td>11110</td>\n",
       "      <td>11</td>\n",
       "      <td>서울특별시</td>\n",
       "      <td>종로구</td>\n",
       "      <td>11010570</td>\n",
       "      <td>MULTIPOLYGON (((126.96067 37.58080, 126.96281 ...</td>\n",
       "    </tr>\n",
       "  </tbody>\n",
       "</table>\n",
       "</div>"
      ],
      "text/plain": [
       "   OBJECTID         adm_nm   adm_cd     adm_cd2    sgg sido sidonm sggnm  \\\n",
       "0         1  서울특별시 종로구 사직동  1101053  1111053000  11110   11  서울특별시   종로구   \n",
       "1         2  서울특별시 종로구 삼청동  1101054  1111054000  11110   11  서울특별시   종로구   \n",
       "2         3  서울특별시 종로구 부암동  1101055  1111055000  11110   11  서울특별시   종로구   \n",
       "3         4  서울특별시 종로구 평창동  1101056  1111056000  11110   11  서울특별시   종로구   \n",
       "4         5  서울특별시 종로구 무악동  1101057  1111057000  11110   11  서울특별시   종로구   \n",
       "\n",
       "    adm_cd8                                           geometry  \n",
       "0  11010530  MULTIPOLYGON (((126.97689 37.57565, 126.97703 ...  \n",
       "1  11010540  MULTIPOLYGON (((126.98269 37.59507, 126.98337 ...  \n",
       "2  11010550  MULTIPOLYGON (((126.97585 37.59656, 126.97359 ...  \n",
       "3  11010560  MULTIPOLYGON (((126.97507 37.63139, 126.97649 ...  \n",
       "4  11010570  MULTIPOLYGON (((126.96067 37.58080, 126.96281 ...  "
      ]
     },
     "execution_count": 11,
     "metadata": {},
     "output_type": "execute_result"
    }
   ],
   "source": [
    "signgu_gdf.head()"
   ]
  },
  {
   "cell_type": "code",
   "execution_count": 12,
   "metadata": {},
   "outputs": [],
   "source": [
    "# working_signgu_gdf\n",
    "ws_gdf = signgu_gdf.copy()"
   ]
  },
  {
   "cell_type": "code",
   "execution_count": 13,
   "metadata": {},
   "outputs": [],
   "source": [
    "# 중앙값 계산이 용이한 좌표계(4326->5179)로 변환\n",
    "ws_gdf = ws_gdf.to_crs(epsg=5179)\n",
    "\n",
    "ws_gdf['center'] = ws_gdf.centroid"
   ]
  },
  {
   "cell_type": "markdown",
   "metadata": {},
   "source": [
    "##### 나주시 추출"
   ]
  },
  {
   "cell_type": "code",
   "execution_count": 14,
   "metadata": {},
   "outputs": [],
   "source": [
    "naju_gdf = ws_gdf[signgu_gdf.adm_nm.str.contains('빛가람')]"
   ]
  },
  {
   "cell_type": "code",
   "execution_count": 15,
   "metadata": {},
   "outputs": [],
   "source": [
    "naju_gdf = naju_gdf.drop(columns=['geometry'])"
   ]
  },
  {
   "cell_type": "code",
   "execution_count": 16,
   "metadata": {},
   "outputs": [],
   "source": [
    "naju_gdf = naju_gdf.rename(columns={'center': 'geometry'})"
   ]
  },
  {
   "cell_type": "code",
   "execution_count": 17,
   "metadata": {},
   "outputs": [
    {
     "data": {
      "text/html": [
       "<div>\n",
       "<style scoped>\n",
       "    .dataframe tbody tr th:only-of-type {\n",
       "        vertical-align: middle;\n",
       "    }\n",
       "\n",
       "    .dataframe tbody tr th {\n",
       "        vertical-align: top;\n",
       "    }\n",
       "\n",
       "    .dataframe thead th {\n",
       "        text-align: right;\n",
       "    }\n",
       "</style>\n",
       "<table border=\"1\" class=\"dataframe\">\n",
       "  <thead>\n",
       "    <tr style=\"text-align: right;\">\n",
       "      <th></th>\n",
       "      <th>OBJECTID</th>\n",
       "      <th>adm_nm</th>\n",
       "      <th>adm_cd</th>\n",
       "      <th>adm_cd2</th>\n",
       "      <th>sgg</th>\n",
       "      <th>sido</th>\n",
       "      <th>sidonm</th>\n",
       "      <th>sggnm</th>\n",
       "      <th>adm_cd8</th>\n",
       "      <th>geometry</th>\n",
       "    </tr>\n",
       "  </thead>\n",
       "  <tbody>\n",
       "    <tr>\n",
       "      <th>2531</th>\n",
       "      <td>2555</td>\n",
       "      <td>전라남도 나주시 빛가람동</td>\n",
       "      <td>3604061</td>\n",
       "      <td>4617062000</td>\n",
       "      <td>46170</td>\n",
       "      <td>46</td>\n",
       "      <td>전라남도</td>\n",
       "      <td>나주시</td>\n",
       "      <td>36040610</td>\n",
       "      <td>POINT (126.78909 35.01830)</td>\n",
       "    </tr>\n",
       "  </tbody>\n",
       "</table>\n",
       "</div>"
      ],
      "text/plain": [
       "      OBJECTID         adm_nm   adm_cd     adm_cd2    sgg sido sidonm sggnm  \\\n",
       "2531      2555  전라남도 나주시 빛가람동  3604061  4617062000  46170   46   전라남도   나주시   \n",
       "\n",
       "       adm_cd8                    geometry  \n",
       "2531  36040610  POINT (126.78909 35.01830)  "
      ]
     },
     "execution_count": 17,
     "metadata": {},
     "output_type": "execute_result"
    }
   ],
   "source": [
    "naju_gdf = naju_gdf.to_crs(epsg=4326)\n",
    "naju_gdf.head()"
   ]
  },
  {
   "cell_type": "code",
   "execution_count": 18,
   "metadata": {},
   "outputs": [],
   "source": [
    "center = [naju_gdf.iloc[0].geometry.y, naju_gdf.iloc[0].geometry.x]"
   ]
  },
  {
   "cell_type": "markdown",
   "metadata": {},
   "source": [
    "#### 빛가람동 기본맵 표시"
   ]
  },
  {
   "cell_type": "code",
   "execution_count": 19,
   "metadata": {},
   "outputs": [
    {
     "name": "stdout",
     "output_type": "stream",
     "text": [
      "[35.0098072457794, 126.79208767982794]\n"
     ]
    },
    {
     "data": {
      "text/html": [
       "<div style=\"width:100%;\"><div style=\"position:relative;width:100%;height:0;padding-bottom:60%;\"><span style=\"color:#565656\">Make this Notebook Trusted to load map: File -> Trust Notebook</span><iframe srcdoc=\"&lt;!DOCTYPE html&gt;\n",
       "&lt;html&gt;\n",
       "&lt;head&gt;\n",
       "    \n",
       "    &lt;meta http-equiv=&quot;content-type&quot; content=&quot;text/html; charset=UTF-8&quot; /&gt;\n",
       "    \n",
       "        &lt;script&gt;\n",
       "            L_NO_TOUCH = false;\n",
       "            L_DISABLE_3D = false;\n",
       "        &lt;/script&gt;\n",
       "    \n",
       "    &lt;style&gt;html, body {width: 100%;height: 100%;margin: 0;padding: 0;}&lt;/style&gt;\n",
       "    &lt;style&gt;#map {position:absolute;top:0;bottom:0;right:0;left:0;}&lt;/style&gt;\n",
       "    &lt;script src=&quot;https://cdn.jsdelivr.net/npm/leaflet@1.9.3/dist/leaflet.js&quot;&gt;&lt;/script&gt;\n",
       "    &lt;script src=&quot;https://code.jquery.com/jquery-1.12.4.min.js&quot;&gt;&lt;/script&gt;\n",
       "    &lt;script src=&quot;https://cdn.jsdelivr.net/npm/bootstrap@5.2.2/dist/js/bootstrap.bundle.min.js&quot;&gt;&lt;/script&gt;\n",
       "    &lt;script src=&quot;https://cdnjs.cloudflare.com/ajax/libs/Leaflet.awesome-markers/2.0.2/leaflet.awesome-markers.js&quot;&gt;&lt;/script&gt;\n",
       "    &lt;link rel=&quot;stylesheet&quot; href=&quot;https://cdn.jsdelivr.net/npm/leaflet@1.9.3/dist/leaflet.css&quot;/&gt;\n",
       "    &lt;link rel=&quot;stylesheet&quot; href=&quot;https://cdn.jsdelivr.net/npm/bootstrap@5.2.2/dist/css/bootstrap.min.css&quot;/&gt;\n",
       "    &lt;link rel=&quot;stylesheet&quot; href=&quot;https://netdna.bootstrapcdn.com/bootstrap/3.0.0/css/bootstrap.min.css&quot;/&gt;\n",
       "    &lt;link rel=&quot;stylesheet&quot; href=&quot;https://cdn.jsdelivr.net/npm/@fortawesome/fontawesome-free@6.2.0/css/all.min.css&quot;/&gt;\n",
       "    &lt;link rel=&quot;stylesheet&quot; href=&quot;https://cdnjs.cloudflare.com/ajax/libs/Leaflet.awesome-markers/2.0.2/leaflet.awesome-markers.css&quot;/&gt;\n",
       "    &lt;link rel=&quot;stylesheet&quot; href=&quot;https://cdn.jsdelivr.net/gh/python-visualization/folium/folium/templates/leaflet.awesome.rotate.min.css&quot;/&gt;\n",
       "    \n",
       "            &lt;meta name=&quot;viewport&quot; content=&quot;width=device-width,\n",
       "                initial-scale=1.0, maximum-scale=1.0, user-scalable=no&quot; /&gt;\n",
       "            &lt;style&gt;\n",
       "                #map_60d0424e7cd861b90fd224b74b08e80d {\n",
       "                    position: relative;\n",
       "                    width: 100.0%;\n",
       "                    height: 100.0%;\n",
       "                    left: 0.0%;\n",
       "                    top: 0.0%;\n",
       "                }\n",
       "                .leaflet-container { font-size: 1rem; }\n",
       "            &lt;/style&gt;\n",
       "        \n",
       "&lt;/head&gt;\n",
       "&lt;body&gt;\n",
       "    \n",
       "    \n",
       "            &lt;div class=&quot;folium-map&quot; id=&quot;map_60d0424e7cd861b90fd224b74b08e80d&quot; &gt;&lt;/div&gt;\n",
       "        \n",
       "&lt;/body&gt;\n",
       "&lt;script&gt;\n",
       "    \n",
       "    \n",
       "            var map_60d0424e7cd861b90fd224b74b08e80d = L.map(\n",
       "                &quot;map_60d0424e7cd861b90fd224b74b08e80d&quot;,\n",
       "                {\n",
       "                    center: [35.0098072457794, 126.79208767982794],\n",
       "                    crs: L.CRS.EPSG3857,\n",
       "                    zoom: 17,\n",
       "                    zoomControl: true,\n",
       "                    preferCanvas: false,\n",
       "                }\n",
       "            );\n",
       "\n",
       "            \n",
       "\n",
       "        \n",
       "    \n",
       "            var tile_layer_b53fc2bb3f6038a5c8773dcbfaf6158c = L.tileLayer(\n",
       "                &quot;http://api.vworld.kr/req/wmts/1.0.0/AC38C527-013B-3078-A053-6DD7FB7DF661/Base/{z}/{y}/{x}.png&quot;,\n",
       "                {&quot;attribution&quot;: &quot;Vworld&quot;, &quot;detectRetina&quot;: false, &quot;maxNativeZoom&quot;: 18, &quot;maxZoom&quot;: 18, &quot;minZoom&quot;: 0, &quot;noWrap&quot;: false, &quot;opacity&quot;: 1, &quot;subdomains&quot;: &quot;abc&quot;, &quot;tms&quot;: false}\n",
       "            ).addTo(map_60d0424e7cd861b90fd224b74b08e80d);\n",
       "        \n",
       "    \n",
       "            var marker_a9f3dfd40bac08a865f5ae0897868874 = L.marker(\n",
       "                [35.0098072457794, 126.79208767982794],\n",
       "                {}\n",
       "            ).addTo(map_60d0424e7cd861b90fd224b74b08e80d);\n",
       "        \n",
       "    \n",
       "            var icon_7239eb0287490b1470dde587bdff8e57 = L.AwesomeMarkers.icon(\n",
       "                {&quot;extraClasses&quot;: &quot;fa-rotate-0&quot;, &quot;icon&quot;: &quot;info-sign&quot;, &quot;iconColor&quot;: &quot;white&quot;, &quot;markerColor&quot;: &quot;blue&quot;, &quot;prefix&quot;: &quot;glyphicon&quot;}\n",
       "            );\n",
       "            marker_a9f3dfd40bac08a865f5ae0897868874.setIcon(icon_7239eb0287490b1470dde587bdff8e57);\n",
       "        \n",
       "    \n",
       "        var popup_de64ff9799a5f823b0d741ff0839992b = L.popup({&quot;maxWidth&quot;: &quot;100%&quot;});\n",
       "\n",
       "        \n",
       "            \n",
       "                var html_a76e5072a2eedf30bbff5fedef62269c = $(`&lt;div id=&quot;html_a76e5072a2eedf30bbff5fedef62269c&quot; style=&quot;width: 100.0%; height: 100.0%;&quot;&gt;Start&lt;/div&gt;`)[0];\n",
       "                popup_de64ff9799a5f823b0d741ff0839992b.setContent(html_a76e5072a2eedf30bbff5fedef62269c);\n",
       "            \n",
       "        \n",
       "\n",
       "        marker_a9f3dfd40bac08a865f5ae0897868874.bindPopup(popup_de64ff9799a5f823b0d741ff0839992b)\n",
       "        ;\n",
       "\n",
       "        \n",
       "    \n",
       "&lt;/script&gt;\n",
       "&lt;/html&gt;\" style=\"position:absolute;width:100%;height:100%;left:0;top:0;border:none !important;\" allowfullscreen webkitallowfullscreen mozallowfullscreen></iframe></div></div>"
      ],
      "text/plain": [
       "<folium.folium.Map at 0x29fd13ada90>"
      ]
     },
     "execution_count": 19,
     "metadata": {},
     "output_type": "execute_result"
    }
   ],
   "source": [
    "_center = [35.0098072457794, 126.79208767982794]\n",
    "VWORLD_LAYER = 'Base'\n",
    "VWORLD_TILES_URL = \\\n",
    "    f'http://api.vworld.kr/req/wmts/1.0.0/' \\\n",
    "    f'{VWORLD_KEY}/{VWORLD_LAYER}/{{z}}/{{y}}/{{x}}.{VWORLD_TILE_TYPE}'\n",
    "\n",
    "base_map = folium.Map(\n",
    "    location=_center, zoom_start=17,\n",
    "    tiles=VWORLD_TILES_URL, attr=VWORLD_ATTR\n",
    ")\n",
    "\n",
    "folium.Marker(\n",
    "    location=_center,\n",
    "    popup='Start',\n",
    "    icon=folium.Icon(color='blue')\n",
    ").add_to(base_map)\n",
    "\n",
    "print(_center)\n",
    "base_map"
   ]
  },
  {
   "cell_type": "markdown",
   "metadata": {},
   "source": [
    "#### 네이버 경로분석"
   ]
  },
  {
   "cell_type": "markdown",
   "metadata": {},
   "source": [
    "##### 네이버 길찿기 함수 생성"
   ]
  },
  {
   "cell_type": "code",
   "execution_count": 21,
   "metadata": {},
   "outputs": [],
   "source": [
    "NAVER_KEY_PATH = os.path.join(BASE_KEY_FILE_PATH, 'naver_application_key.txt')\n",
    "\n",
    "with open(NAVER_KEY_PATH, 'r') as nkf:\n",
    "    lines = nkf.readlines()\n",
    "\n",
    "NAVER_REQ_HEADER = {\n",
    "    \"X-NCP-APIGW-API-KEY-ID\": lines[0].replace('\\n', ''),\n",
    "    \"X-NCP-APIGW-API-KEY\": lines[1].replace('\\n', '')\n",
    "}"
   ]
  },
  {
   "cell_type": "code",
   "execution_count": 22,
   "metadata": {},
   "outputs": [],
   "source": [
    "def get_naver_path(start, end, way):\n",
    "    optimal_api_url = \\\n",
    "        f'https://naveropenapi.apigw.ntruss.com/map-direction/v1/driving?' \\\n",
    "        f'start={start[1]},{start[0]}&goal={end[1]},{end[0]}' \\\n",
    "        f'&waypoints={way[1]},{way[0]}&option=trafast&format=json'\n",
    "        \n",
    "    response = requests.get(optimal_api_url, headers=NAVER_REQ_HEADER)\n",
    "    return response.json() if response.status_code == 200 else {'status': 'error'}"
   ]
  },
  {
   "cell_type": "code",
   "execution_count": 34,
   "metadata": {},
   "outputs": [],
   "source": [
    "def get_geocoding(addr):\n",
    "    geocoding_url = f'https://naveropenapi.apigw.ntruss.com/map-geocode/v2/geocode?query={addr}'\n",
    "    response = requests.get(geocoding_url, headers=NAVER_REQ_HEADER)\n",
    "    \n",
    "    try:\n",
    "        latlon = response.json()['addresses'][0]\n",
    "        return [float(latlon['y']), float(latlon['x'])]\n",
    "    except IndexError:\n",
    "        print(f'Addr(\"{addr}\") not found.') "
   ]
  },
  {
   "cell_type": "markdown",
   "metadata": {},
   "source": [
    "##### 시작-경유지-종료지점 좌표 설정"
   ]
  },
  {
   "cell_type": "code",
   "execution_count": 20,
   "metadata": {},
   "outputs": [],
   "source": [
    "SP_ADDR = '전라남도 나주시 남고문로 104'\n",
    "M1_ADDR = '전라남도 나주시 학생운동길 21-1'\n",
    "M2_ADDR = '전라남도 나주시 남고문로 108-10'\n",
    "M3_ADDR = '전라남도 나주시 남고문로 118'\n",
    "EP_ADDR = '전라남도 나주시 학생운동길 36'\n",
    "# SP = [35.0289538, 126.7221748]          # 남고문로 104\n",
    "# M1 = [35.0282973, 126.7221589]          # 학생운동길 21-1\n",
    "# M2 = [35.0286806, 126.7230117]          # 남고문로 108-10\n",
    "# M3 = [35.0287562, 126.7236250]          # 남고문로 118\n",
    "# EP = [35.0276670, 126.7234553]          # 학생운동길 36"
   ]
  },
  {
   "cell_type": "code",
   "execution_count": 40,
   "metadata": {},
   "outputs": [],
   "source": [
    "SP = get_geocoding(SP_ADDR)\n",
    "EP = get_geocoding(EP_ADDR)\n",
    "M1 = get_geocoding(M1_ADDR)\n",
    "M2 = get_geocoding(M2_ADDR)\n",
    "M3 = get_geocoding(M3_ADDR)"
   ]
  },
  {
   "cell_type": "code",
   "execution_count": 41,
   "metadata": {},
   "outputs": [],
   "source": [
    "m1_path = get_naver_path(SP, EP, M1)['route']['trafast'][0]['path']\n",
    "m2_path = get_naver_path(SP, EP, M2)['route']['trafast'][0]['path']\n",
    "m3_path = get_naver_path(SP, EP, M3)['route']['trafast'][0]['path']"
   ]
  },
  {
   "cell_type": "markdown",
   "metadata": {},
   "source": [
    "##### 기본지도 생성"
   ]
  },
  {
   "cell_type": "code",
   "execution_count": 42,
   "metadata": {},
   "outputs": [
    {
     "data": {
      "text/html": [
       "<div style=\"width:100%;\"><div style=\"position:relative;width:100%;height:0;padding-bottom:60%;\"><span style=\"color:#565656\">Make this Notebook Trusted to load map: File -> Trust Notebook</span><iframe srcdoc=\"&lt;!DOCTYPE html&gt;\n",
       "&lt;html&gt;\n",
       "&lt;head&gt;\n",
       "    \n",
       "    &lt;meta http-equiv=&quot;content-type&quot; content=&quot;text/html; charset=UTF-8&quot; /&gt;\n",
       "    \n",
       "        &lt;script&gt;\n",
       "            L_NO_TOUCH = false;\n",
       "            L_DISABLE_3D = false;\n",
       "        &lt;/script&gt;\n",
       "    \n",
       "    &lt;style&gt;html, body {width: 100%;height: 100%;margin: 0;padding: 0;}&lt;/style&gt;\n",
       "    &lt;style&gt;#map {position:absolute;top:0;bottom:0;right:0;left:0;}&lt;/style&gt;\n",
       "    &lt;script src=&quot;https://cdn.jsdelivr.net/npm/leaflet@1.9.3/dist/leaflet.js&quot;&gt;&lt;/script&gt;\n",
       "    &lt;script src=&quot;https://code.jquery.com/jquery-1.12.4.min.js&quot;&gt;&lt;/script&gt;\n",
       "    &lt;script src=&quot;https://cdn.jsdelivr.net/npm/bootstrap@5.2.2/dist/js/bootstrap.bundle.min.js&quot;&gt;&lt;/script&gt;\n",
       "    &lt;script src=&quot;https://cdnjs.cloudflare.com/ajax/libs/Leaflet.awesome-markers/2.0.2/leaflet.awesome-markers.js&quot;&gt;&lt;/script&gt;\n",
       "    &lt;link rel=&quot;stylesheet&quot; href=&quot;https://cdn.jsdelivr.net/npm/leaflet@1.9.3/dist/leaflet.css&quot;/&gt;\n",
       "    &lt;link rel=&quot;stylesheet&quot; href=&quot;https://cdn.jsdelivr.net/npm/bootstrap@5.2.2/dist/css/bootstrap.min.css&quot;/&gt;\n",
       "    &lt;link rel=&quot;stylesheet&quot; href=&quot;https://netdna.bootstrapcdn.com/bootstrap/3.0.0/css/bootstrap.min.css&quot;/&gt;\n",
       "    &lt;link rel=&quot;stylesheet&quot; href=&quot;https://cdn.jsdelivr.net/npm/@fortawesome/fontawesome-free@6.2.0/css/all.min.css&quot;/&gt;\n",
       "    &lt;link rel=&quot;stylesheet&quot; href=&quot;https://cdnjs.cloudflare.com/ajax/libs/Leaflet.awesome-markers/2.0.2/leaflet.awesome-markers.css&quot;/&gt;\n",
       "    &lt;link rel=&quot;stylesheet&quot; href=&quot;https://cdn.jsdelivr.net/gh/python-visualization/folium/folium/templates/leaflet.awesome.rotate.min.css&quot;/&gt;\n",
       "    \n",
       "            &lt;meta name=&quot;viewport&quot; content=&quot;width=device-width,\n",
       "                initial-scale=1.0, maximum-scale=1.0, user-scalable=no&quot; /&gt;\n",
       "            &lt;style&gt;\n",
       "                #map_b62d2ac44d54aef6fafe562bbae8fbb4 {\n",
       "                    position: relative;\n",
       "                    width: 100.0%;\n",
       "                    height: 100.0%;\n",
       "                    left: 0.0%;\n",
       "                    top: 0.0%;\n",
       "                }\n",
       "                .leaflet-container { font-size: 1rem; }\n",
       "            &lt;/style&gt;\n",
       "        \n",
       "&lt;/head&gt;\n",
       "&lt;body&gt;\n",
       "    \n",
       "    \n",
       "            &lt;div class=&quot;folium-map&quot; id=&quot;map_b62d2ac44d54aef6fafe562bbae8fbb4&quot; &gt;&lt;/div&gt;\n",
       "        \n",
       "&lt;/body&gt;\n",
       "&lt;script&gt;\n",
       "    \n",
       "    \n",
       "            var map_b62d2ac44d54aef6fafe562bbae8fbb4 = L.map(\n",
       "                &quot;map_b62d2ac44d54aef6fafe562bbae8fbb4&quot;,\n",
       "                {\n",
       "                    center: [35.028310399999995, 126.72281505000001],\n",
       "                    crs: L.CRS.EPSG3857,\n",
       "                    zoom: 18,\n",
       "                    zoomControl: true,\n",
       "                    preferCanvas: false,\n",
       "                }\n",
       "            );\n",
       "\n",
       "            \n",
       "\n",
       "        \n",
       "    \n",
       "            var tile_layer_891b404c19671277217805f7599a4eef = L.tileLayer(\n",
       "                &quot;http://api.vworld.kr/req/wmts/1.0.0/AC38C527-013B-3078-A053-6DD7FB7DF661/Base/{z}/{y}/{x}.png&quot;,\n",
       "                {&quot;attribution&quot;: &quot;Vworld&quot;, &quot;detectRetina&quot;: false, &quot;maxNativeZoom&quot;: 18, &quot;maxZoom&quot;: 18, &quot;minZoom&quot;: 0, &quot;noWrap&quot;: false, &quot;opacity&quot;: 1, &quot;subdomains&quot;: &quot;abc&quot;, &quot;tms&quot;: false}\n",
       "            ).addTo(map_b62d2ac44d54aef6fafe562bbae8fbb4);\n",
       "        \n",
       "    \n",
       "            var poly_line_a42429be4a20d4207d1579ce9c636488 = L.polyline(\n",
       "                [[35.0289676, 126.7220319], [35.0290425, 126.7220432], [35.0291229, 126.7220787], [35.0290773, 126.7225603], [35.0290663, 126.7226679], [35.0289681, 126.7235206], [35.0288869, 126.7235104], [35.0285421, 126.7234676], [35.0284492, 126.7234564], [35.0283156, 126.7234412], [35.0282497, 126.7234331], [35.0278112, 126.7233802], [35.0277661, 126.7233741], [35.0278703, 126.7230431], [35.0279508, 126.7227957], [35.0280197, 126.7225769], [35.028033, 126.7225373], [35.0280957, 126.7223219], [35.0281407, 126.7221713], [35.028161, 126.7221009], [35.0282174, 126.7219085], [35.0286543, 126.7219822], [35.0290425, 126.7220432], [35.0291229, 126.7220787], [35.0290773, 126.7225603], [35.0290663, 126.7226679], [35.0289681, 126.7235206], [35.0288869, 126.7235104], [35.0285421, 126.7234676], [35.0284492, 126.7234564], [35.0283156, 126.7234412], [35.0282497, 126.7234331], [35.0278112, 126.7233802], [35.0277661, 126.7233741], [35.0277388, 126.7234818]],\n",
       "                {&quot;bubblingMouseEvents&quot;: true, &quot;color&quot;: &quot;green&quot;, &quot;dashArray&quot;: null, &quot;dashOffset&quot;: null, &quot;fill&quot;: false, &quot;fillColor&quot;: &quot;green&quot;, &quot;fillOpacity&quot;: 0.2, &quot;fillRule&quot;: &quot;evenodd&quot;, &quot;lineCap&quot;: &quot;round&quot;, &quot;lineJoin&quot;: &quot;round&quot;, &quot;noClip&quot;: false, &quot;opacity&quot;: 1.0, &quot;smoothFactor&quot;: 1.0, &quot;stroke&quot;: true, &quot;weight&quot;: 3}\n",
       "            ).addTo(map_b62d2ac44d54aef6fafe562bbae8fbb4);\n",
       "        \n",
       "    \n",
       "            var poly_line_398cb097d68786528d4518f5fa9f9e28 = L.polyline(\n",
       "                [[35.0289676, 126.7220319], [35.0290425, 126.7220432], [35.0291229, 126.7220787], [35.0290773, 126.7225603], [35.0290663, 126.7226679], [35.0289736, 126.7226961], [35.0289252, 126.722735], [35.0288992, 126.7227659], [35.0287842, 126.7229665], [35.0287361, 126.7230558], [35.0286808, 126.7231604], [35.0285875, 126.7233795], [35.0285421, 126.7234676], [35.0284492, 126.7234564], [35.0283156, 126.7234412], [35.0282497, 126.7234331], [35.0278112, 126.7233802], [35.0277661, 126.7233741], [35.0277388, 126.7234818]],\n",
       "                {&quot;bubblingMouseEvents&quot;: true, &quot;color&quot;: &quot;blue&quot;, &quot;dashArray&quot;: null, &quot;dashOffset&quot;: null, &quot;fill&quot;: false, &quot;fillColor&quot;: &quot;blue&quot;, &quot;fillOpacity&quot;: 0.2, &quot;fillRule&quot;: &quot;evenodd&quot;, &quot;lineCap&quot;: &quot;round&quot;, &quot;lineJoin&quot;: &quot;round&quot;, &quot;noClip&quot;: false, &quot;opacity&quot;: 1.0, &quot;smoothFactor&quot;: 1.0, &quot;stroke&quot;: true, &quot;weight&quot;: 3}\n",
       "            ).addTo(map_b62d2ac44d54aef6fafe562bbae8fbb4);\n",
       "        \n",
       "    \n",
       "            var poly_line_8d1e307d2da4b46ed2cdf5f38e6a2c1a = L.polyline(\n",
       "                [[35.0289676, 126.7220319], [35.0290425, 126.7220432], [35.0291229, 126.7220787], [35.0290773, 126.7225603], [35.0290663, 126.7226679], [35.0289681, 126.7235206], [35.0288869, 126.7235104], [35.028765, 126.7234951], [35.0285421, 126.7234676], [35.0284492, 126.7234564], [35.0283156, 126.7234412], [35.0282497, 126.7234331], [35.0278112, 126.7233802], [35.0277661, 126.7233741], [35.0277388, 126.7234818]],\n",
       "                {&quot;bubblingMouseEvents&quot;: true, &quot;color&quot;: &quot;red&quot;, &quot;dashArray&quot;: null, &quot;dashOffset&quot;: null, &quot;fill&quot;: false, &quot;fillColor&quot;: &quot;red&quot;, &quot;fillOpacity&quot;: 0.2, &quot;fillRule&quot;: &quot;evenodd&quot;, &quot;lineCap&quot;: &quot;round&quot;, &quot;lineJoin&quot;: &quot;round&quot;, &quot;noClip&quot;: false, &quot;opacity&quot;: 1.0, &quot;smoothFactor&quot;: 1.0, &quot;stroke&quot;: true, &quot;weight&quot;: 3}\n",
       "            ).addTo(map_b62d2ac44d54aef6fafe562bbae8fbb4);\n",
       "        \n",
       "    \n",
       "            var marker_12b6958fc2c9858ff21c05f716ee6119 = L.marker(\n",
       "                [35.0289538, 126.7221748],\n",
       "                {}\n",
       "            ).addTo(map_b62d2ac44d54aef6fafe562bbae8fbb4);\n",
       "        \n",
       "    \n",
       "            var icon_9fb2d87b1e871cadebf63b92d6b614e0 = L.AwesomeMarkers.icon(\n",
       "                {&quot;extraClasses&quot;: &quot;fa-rotate-0&quot;, &quot;icon&quot;: &quot;info-sign&quot;, &quot;iconColor&quot;: &quot;white&quot;, &quot;markerColor&quot;: &quot;blue&quot;, &quot;prefix&quot;: &quot;glyphicon&quot;}\n",
       "            );\n",
       "            marker_12b6958fc2c9858ff21c05f716ee6119.setIcon(icon_9fb2d87b1e871cadebf63b92d6b614e0);\n",
       "        \n",
       "    \n",
       "        var popup_198834872e2a00430ceeec8d6517eec6 = L.popup({&quot;maxWidth&quot;: &quot;100%&quot;});\n",
       "\n",
       "        \n",
       "            \n",
       "                var html_e103b06dd2fb683ed987f907931c5bc6 = $(`&lt;div id=&quot;html_e103b06dd2fb683ed987f907931c5bc6&quot; style=&quot;width: 100.0%; height: 100.0%;&quot;&gt;Start&lt;/div&gt;`)[0];\n",
       "                popup_198834872e2a00430ceeec8d6517eec6.setContent(html_e103b06dd2fb683ed987f907931c5bc6);\n",
       "            \n",
       "        \n",
       "\n",
       "        marker_12b6958fc2c9858ff21c05f716ee6119.bindPopup(popup_198834872e2a00430ceeec8d6517eec6)\n",
       "        ;\n",
       "\n",
       "        \n",
       "    \n",
       "    \n",
       "            var marker_ff6a2720cda952a7b03bcc2723cb47ce = L.marker(\n",
       "                [35.027667, 126.7234553],\n",
       "                {}\n",
       "            ).addTo(map_b62d2ac44d54aef6fafe562bbae8fbb4);\n",
       "        \n",
       "    \n",
       "            var icon_25e1528d5db27774f011cd907023f12b = L.AwesomeMarkers.icon(\n",
       "                {&quot;extraClasses&quot;: &quot;fa-rotate-0&quot;, &quot;icon&quot;: &quot;info-sign&quot;, &quot;iconColor&quot;: &quot;white&quot;, &quot;markerColor&quot;: &quot;red&quot;, &quot;prefix&quot;: &quot;glyphicon&quot;}\n",
       "            );\n",
       "            marker_ff6a2720cda952a7b03bcc2723cb47ce.setIcon(icon_25e1528d5db27774f011cd907023f12b);\n",
       "        \n",
       "    \n",
       "        var popup_5fe20b76b416c2ac68b8f903de2c2731 = L.popup({&quot;maxWidth&quot;: &quot;100%&quot;});\n",
       "\n",
       "        \n",
       "            \n",
       "                var html_edce7e58ffa059415b6e6baa5c83f333 = $(`&lt;div id=&quot;html_edce7e58ffa059415b6e6baa5c83f333&quot; style=&quot;width: 100.0%; height: 100.0%;&quot;&gt;End&lt;/div&gt;`)[0];\n",
       "                popup_5fe20b76b416c2ac68b8f903de2c2731.setContent(html_edce7e58ffa059415b6e6baa5c83f333);\n",
       "            \n",
       "        \n",
       "\n",
       "        marker_ff6a2720cda952a7b03bcc2723cb47ce.bindPopup(popup_5fe20b76b416c2ac68b8f903de2c2731)\n",
       "        ;\n",
       "\n",
       "        \n",
       "    \n",
       "&lt;/script&gt;\n",
       "&lt;/html&gt;\" style=\"position:absolute;width:100%;height:100%;left:0;top:0;border:none !important;\" allowfullscreen webkitallowfullscreen mozallowfullscreen></iframe></div></div>"
      ],
      "text/plain": [
       "<folium.folium.Map at 0x29fd13ad310>"
      ]
     },
     "execution_count": 42,
     "metadata": {},
     "output_type": "execute_result"
    }
   ],
   "source": [
    "VWORLD_LAYER = 'Base'\n",
    "\n",
    "_center = [(SP[0]+EP[0])/2, (SP[1]+EP[1])/2]\n",
    "VWORLD_TILES_URL = \\\n",
    "    f'http://api.vworld.kr/req/wmts/1.0.0/' \\\n",
    "    f'{VWORLD_KEY}/{VWORLD_LAYER}/{{z}}/{{y}}/{{x}}.{VWORLD_TILE_TYPE}'\n",
    "\n",
    "# 기본지도 생성\n",
    "base_map = folium.Map(\n",
    "    location=_center, tiles=VWORLD_TILES_URL, attr=VWORLD_ATTR, zoom_start=18\n",
    ")\n",
    "\n",
    "# 경로추가\n",
    "m11_path = [[y, x] for x, y in m1_path]\n",
    "folium.PolyLine(locations=m11_path, color='green').add_to(base_map)\n",
    "m22_path = [[y, x] for x, y in m2_path]\n",
    "folium.PolyLine(locations=m22_path, color='blue').add_to(base_map)\n",
    "m33_path = [[y, x] for x, y in m3_path]\n",
    "folium.PolyLine(locations=m33_path, color='red').add_to(base_map)\n",
    "\n",
    "# 시작/종점 추가\n",
    "folium.Marker(\n",
    "    location=SP,\n",
    "    popup='Start',\n",
    "    icon=folium.Icon(color='blue')\n",
    ").add_to(base_map)\n",
    "folium.Marker(\n",
    "    location=EP,\n",
    "    popup='End',\n",
    "    icon=folium.Icon(color='red')\n",
    ").add_to(base_map)\n",
    "\n",
    "# 지도표시\n",
    "base_map"
   ]
  },
  {
   "cell_type": "code",
   "execution_count": 28,
   "metadata": {},
   "outputs": [],
   "source": [
    "base_map.save('./89_data/result/52_naju.html')"
   ]
  },
  {
   "cell_type": "code",
   "execution_count": null,
   "metadata": {},
   "outputs": [],
   "source": []
  }
 ],
 "metadata": {
  "kernelspec": {
   "display_name": "geoaip39",
   "language": "python",
   "name": "python3"
  },
  "language_info": {
   "codemirror_mode": {
    "name": "ipython",
    "version": 3
   },
   "file_extension": ".py",
   "mimetype": "text/x-python",
   "name": "python",
   "nbconvert_exporter": "python",
   "pygments_lexer": "ipython3",
   "version": "3.9.17"
  },
  "orig_nbformat": 4
 },
 "nbformat": 4,
 "nbformat_minor": 2
}
