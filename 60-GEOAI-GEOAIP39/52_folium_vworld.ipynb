{
 "cells": [
  {
   "cell_type": "markdown",
   "metadata": {},
   "source": [
    "#### Import Libraries"
   ]
  },
  {
   "cell_type": "code",
   "execution_count": 1,
   "metadata": {},
   "outputs": [
    {
     "name": "stdout",
     "output_type": "stream",
     "text": [
      "Folium Version: 0.14.0\n"
     ]
    }
   ],
   "source": [
    "import os\n",
    "import folium\n",
    "import numpy as np\n",
    "import pandas as pd\n",
    "import geopandas as gpd\n",
    "import requests\n",
    "print(f'Folium Version: {folium.__version__}')"
   ]
  },
  {
   "cell_type": "markdown",
   "metadata": {},
   "source": [
    "#### Get VWorld Tiles"
   ]
  },
  {
   "cell_type": "markdown",
   "metadata": {},
   "source": [
    "##### Base Settings"
   ]
  },
  {
   "cell_type": "code",
   "execution_count": 2,
   "metadata": {},
   "outputs": [],
   "source": [
    "BASE_KEY_FILE_PATH = os.path.join(\n",
    "    os.path.expanduser('~'),\n",
    "    'projects' if os.name == 'posix' else 'python_projects'\n",
    ")\n",
    "\n",
    "VWORLD_KEY_FILE_PATH = os.path.join(BASE_KEY_FILE_PATH, 'vworld_key.txt')\n",
    "with open(VWORLD_KEY_FILE_PATH, 'r') as vkf:\n",
    "    vk_lines = vkf.readlines()\n",
    "VWORLD_KEY = vk_lines[0].replace('\\n', '')"
   ]
  },
  {
   "cell_type": "code",
   "execution_count": 3,
   "metadata": {},
   "outputs": [],
   "source": [
    "VWORLD_TILE_TYPE='png'\n",
    "VWORLD_ATTR = 'Vworld'"
   ]
  },
  {
   "cell_type": "markdown",
   "metadata": {},
   "source": [
    "##### Tile: Base(기본도)"
   ]
  },
  {
   "cell_type": "code",
   "execution_count": 4,
   "metadata": {},
   "outputs": [
    {
     "data": {
      "text/html": [
       "<div style=\"width:100%;\"><div style=\"position:relative;width:100%;height:0;padding-bottom:60%;\"><span style=\"color:#565656\">Make this Notebook Trusted to load map: File -> Trust Notebook</span><iframe srcdoc=\"&lt;!DOCTYPE html&gt;\n",
       "&lt;html&gt;\n",
       "&lt;head&gt;\n",
       "    \n",
       "    &lt;meta http-equiv=&quot;content-type&quot; content=&quot;text/html; charset=UTF-8&quot; /&gt;\n",
       "    \n",
       "        &lt;script&gt;\n",
       "            L_NO_TOUCH = false;\n",
       "            L_DISABLE_3D = false;\n",
       "        &lt;/script&gt;\n",
       "    \n",
       "    &lt;style&gt;html, body {width: 100%;height: 100%;margin: 0;padding: 0;}&lt;/style&gt;\n",
       "    &lt;style&gt;#map {position:absolute;top:0;bottom:0;right:0;left:0;}&lt;/style&gt;\n",
       "    &lt;script src=&quot;https://cdn.jsdelivr.net/npm/leaflet@1.9.3/dist/leaflet.js&quot;&gt;&lt;/script&gt;\n",
       "    &lt;script src=&quot;https://code.jquery.com/jquery-1.12.4.min.js&quot;&gt;&lt;/script&gt;\n",
       "    &lt;script src=&quot;https://cdn.jsdelivr.net/npm/bootstrap@5.2.2/dist/js/bootstrap.bundle.min.js&quot;&gt;&lt;/script&gt;\n",
       "    &lt;script src=&quot;https://cdnjs.cloudflare.com/ajax/libs/Leaflet.awesome-markers/2.0.2/leaflet.awesome-markers.js&quot;&gt;&lt;/script&gt;\n",
       "    &lt;link rel=&quot;stylesheet&quot; href=&quot;https://cdn.jsdelivr.net/npm/leaflet@1.9.3/dist/leaflet.css&quot;/&gt;\n",
       "    &lt;link rel=&quot;stylesheet&quot; href=&quot;https://cdn.jsdelivr.net/npm/bootstrap@5.2.2/dist/css/bootstrap.min.css&quot;/&gt;\n",
       "    &lt;link rel=&quot;stylesheet&quot; href=&quot;https://netdna.bootstrapcdn.com/bootstrap/3.0.0/css/bootstrap.min.css&quot;/&gt;\n",
       "    &lt;link rel=&quot;stylesheet&quot; href=&quot;https://cdn.jsdelivr.net/npm/@fortawesome/fontawesome-free@6.2.0/css/all.min.css&quot;/&gt;\n",
       "    &lt;link rel=&quot;stylesheet&quot; href=&quot;https://cdnjs.cloudflare.com/ajax/libs/Leaflet.awesome-markers/2.0.2/leaflet.awesome-markers.css&quot;/&gt;\n",
       "    &lt;link rel=&quot;stylesheet&quot; href=&quot;https://cdn.jsdelivr.net/gh/python-visualization/folium/folium/templates/leaflet.awesome.rotate.min.css&quot;/&gt;\n",
       "    \n",
       "            &lt;meta name=&quot;viewport&quot; content=&quot;width=device-width,\n",
       "                initial-scale=1.0, maximum-scale=1.0, user-scalable=no&quot; /&gt;\n",
       "            &lt;style&gt;\n",
       "                #map_bc554db1b900ccd97a47c24f24104fdc {\n",
       "                    position: relative;\n",
       "                    width: 100.0%;\n",
       "                    height: 100.0%;\n",
       "                    left: 0.0%;\n",
       "                    top: 0.0%;\n",
       "                }\n",
       "                .leaflet-container { font-size: 1rem; }\n",
       "            &lt;/style&gt;\n",
       "        \n",
       "&lt;/head&gt;\n",
       "&lt;body&gt;\n",
       "    \n",
       "    \n",
       "            &lt;div class=&quot;folium-map&quot; id=&quot;map_bc554db1b900ccd97a47c24f24104fdc&quot; &gt;&lt;/div&gt;\n",
       "        \n",
       "&lt;/body&gt;\n",
       "&lt;script&gt;\n",
       "    \n",
       "    \n",
       "            var map_bc554db1b900ccd97a47c24f24104fdc = L.map(\n",
       "                &quot;map_bc554db1b900ccd97a47c24f24104fdc&quot;,\n",
       "                {\n",
       "                    center: [37.5665, 126.978],\n",
       "                    crs: L.CRS.EPSG3857,\n",
       "                    zoom: 13,\n",
       "                    zoomControl: true,\n",
       "                    preferCanvas: false,\n",
       "                }\n",
       "            );\n",
       "\n",
       "            \n",
       "\n",
       "        \n",
       "    \n",
       "            var tile_layer_9dc9784f6f76d8ec5440bb886cb13185 = L.tileLayer(\n",
       "                &quot;http://api.vworld.kr/req/wmts/1.0.0/AC38C527-013B-3078-A053-6DD7FB7DF661/Base/{z}/{y}/{x}.png&quot;,\n",
       "                {&quot;attribution&quot;: &quot;Vworld&quot;, &quot;detectRetina&quot;: false, &quot;maxNativeZoom&quot;: 18, &quot;maxZoom&quot;: 18, &quot;minZoom&quot;: 0, &quot;noWrap&quot;: false, &quot;opacity&quot;: 1, &quot;subdomains&quot;: &quot;abc&quot;, &quot;tms&quot;: false}\n",
       "            ).addTo(map_bc554db1b900ccd97a47c24f24104fdc);\n",
       "        \n",
       "&lt;/script&gt;\n",
       "&lt;/html&gt;\" style=\"position:absolute;width:100%;height:100%;left:0;top:0;border:none !important;\" allowfullscreen webkitallowfullscreen mozallowfullscreen></iframe></div></div>"
      ],
      "text/plain": [
       "<folium.folium.Map at 0x7f2c927aebe0>"
      ]
     },
     "execution_count": 4,
     "metadata": {},
     "output_type": "execute_result"
    }
   ],
   "source": [
    "VWORLD_LAYER = 'Base'\n",
    "VWORLD_TILES_URL = \\\n",
    "    f'http://api.vworld.kr/req/wmts/1.0.0/' \\\n",
    "    f'{VWORLD_KEY}/{VWORLD_LAYER}/{{z}}/{{y}}/{{x}}.{VWORLD_TILE_TYPE}'\n",
    "\n",
    "base_map = folium.Map(\n",
    "    location=[37.5665, 126.9780], zoom_start=13,\n",
    "    tiles=VWORLD_TILES_URL, attr=VWORLD_ATTR\n",
    ")\n",
    "base_map"
   ]
  },
  {
   "cell_type": "markdown",
   "metadata": {},
   "source": [
    "##### Tile: Hybrid(하이브리드지도)"
   ]
  },
  {
   "cell_type": "code",
   "execution_count": 5,
   "metadata": {},
   "outputs": [
    {
     "data": {
      "text/html": [
       "<div style=\"width:100%;\"><div style=\"position:relative;width:100%;height:0;padding-bottom:60%;\"><span style=\"color:#565656\">Make this Notebook Trusted to load map: File -> Trust Notebook</span><iframe srcdoc=\"&lt;!DOCTYPE html&gt;\n",
       "&lt;html&gt;\n",
       "&lt;head&gt;\n",
       "    \n",
       "    &lt;meta http-equiv=&quot;content-type&quot; content=&quot;text/html; charset=UTF-8&quot; /&gt;\n",
       "    \n",
       "        &lt;script&gt;\n",
       "            L_NO_TOUCH = false;\n",
       "            L_DISABLE_3D = false;\n",
       "        &lt;/script&gt;\n",
       "    \n",
       "    &lt;style&gt;html, body {width: 100%;height: 100%;margin: 0;padding: 0;}&lt;/style&gt;\n",
       "    &lt;style&gt;#map {position:absolute;top:0;bottom:0;right:0;left:0;}&lt;/style&gt;\n",
       "    &lt;script src=&quot;https://cdn.jsdelivr.net/npm/leaflet@1.9.3/dist/leaflet.js&quot;&gt;&lt;/script&gt;\n",
       "    &lt;script src=&quot;https://code.jquery.com/jquery-1.12.4.min.js&quot;&gt;&lt;/script&gt;\n",
       "    &lt;script src=&quot;https://cdn.jsdelivr.net/npm/bootstrap@5.2.2/dist/js/bootstrap.bundle.min.js&quot;&gt;&lt;/script&gt;\n",
       "    &lt;script src=&quot;https://cdnjs.cloudflare.com/ajax/libs/Leaflet.awesome-markers/2.0.2/leaflet.awesome-markers.js&quot;&gt;&lt;/script&gt;\n",
       "    &lt;link rel=&quot;stylesheet&quot; href=&quot;https://cdn.jsdelivr.net/npm/leaflet@1.9.3/dist/leaflet.css&quot;/&gt;\n",
       "    &lt;link rel=&quot;stylesheet&quot; href=&quot;https://cdn.jsdelivr.net/npm/bootstrap@5.2.2/dist/css/bootstrap.min.css&quot;/&gt;\n",
       "    &lt;link rel=&quot;stylesheet&quot; href=&quot;https://netdna.bootstrapcdn.com/bootstrap/3.0.0/css/bootstrap.min.css&quot;/&gt;\n",
       "    &lt;link rel=&quot;stylesheet&quot; href=&quot;https://cdn.jsdelivr.net/npm/@fortawesome/fontawesome-free@6.2.0/css/all.min.css&quot;/&gt;\n",
       "    &lt;link rel=&quot;stylesheet&quot; href=&quot;https://cdnjs.cloudflare.com/ajax/libs/Leaflet.awesome-markers/2.0.2/leaflet.awesome-markers.css&quot;/&gt;\n",
       "    &lt;link rel=&quot;stylesheet&quot; href=&quot;https://cdn.jsdelivr.net/gh/python-visualization/folium/folium/templates/leaflet.awesome.rotate.min.css&quot;/&gt;\n",
       "    \n",
       "            &lt;meta name=&quot;viewport&quot; content=&quot;width=device-width,\n",
       "                initial-scale=1.0, maximum-scale=1.0, user-scalable=no&quot; /&gt;\n",
       "            &lt;style&gt;\n",
       "                #map_c35fe162643ce3c333adab362823a3b9 {\n",
       "                    position: relative;\n",
       "                    width: 100.0%;\n",
       "                    height: 100.0%;\n",
       "                    left: 0.0%;\n",
       "                    top: 0.0%;\n",
       "                }\n",
       "                .leaflet-container { font-size: 1rem; }\n",
       "            &lt;/style&gt;\n",
       "        \n",
       "&lt;/head&gt;\n",
       "&lt;body&gt;\n",
       "    \n",
       "    \n",
       "            &lt;div class=&quot;folium-map&quot; id=&quot;map_c35fe162643ce3c333adab362823a3b9&quot; &gt;&lt;/div&gt;\n",
       "        \n",
       "&lt;/body&gt;\n",
       "&lt;script&gt;\n",
       "    \n",
       "    \n",
       "            var map_c35fe162643ce3c333adab362823a3b9 = L.map(\n",
       "                &quot;map_c35fe162643ce3c333adab362823a3b9&quot;,\n",
       "                {\n",
       "                    center: [37.5665, 126.978],\n",
       "                    crs: L.CRS.EPSG3857,\n",
       "                    zoom: 13,\n",
       "                    zoomControl: true,\n",
       "                    preferCanvas: false,\n",
       "                }\n",
       "            );\n",
       "\n",
       "            \n",
       "\n",
       "        \n",
       "    \n",
       "            var tile_layer_ba6dd7aa1554ff510b4216a5f386effc = L.tileLayer(\n",
       "                &quot;http://api.vworld.kr/req/wmts/1.0.0/AC38C527-013B-3078-A053-6DD7FB7DF661/Hybrid/{z}/{y}/{x}.png&quot;,\n",
       "                {&quot;attribution&quot;: &quot;Vworld&quot;, &quot;detectRetina&quot;: false, &quot;maxNativeZoom&quot;: 18, &quot;maxZoom&quot;: 18, &quot;minZoom&quot;: 0, &quot;noWrap&quot;: false, &quot;opacity&quot;: 1, &quot;subdomains&quot;: &quot;abc&quot;, &quot;tms&quot;: false}\n",
       "            ).addTo(map_c35fe162643ce3c333adab362823a3b9);\n",
       "        \n",
       "&lt;/script&gt;\n",
       "&lt;/html&gt;\" style=\"position:absolute;width:100%;height:100%;left:0;top:0;border:none !important;\" allowfullscreen webkitallowfullscreen mozallowfullscreen></iframe></div></div>"
      ],
      "text/plain": [
       "<folium.folium.Map at 0x7f2c9273f700>"
      ]
     },
     "execution_count": 5,
     "metadata": {},
     "output_type": "execute_result"
    }
   ],
   "source": [
    "VWORLD_LAYER = 'Hybrid'\n",
    "VWORLD_TILES_URL = \\\n",
    "    f'http://api.vworld.kr/req/wmts/1.0.0/' \\\n",
    "    f'{VWORLD_KEY}/{VWORLD_LAYER}/{{z}}/{{y}}/{{x}}.{VWORLD_TILE_TYPE}'\n",
    "\n",
    "base_map = folium.Map(\n",
    "    location=[37.5665, 126.9780], zoom_start=13,\n",
    "    tiles=VWORLD_TILES_URL, attr=VWORLD_ATTR\n",
    ")\n",
    "base_map"
   ]
  },
  {
   "cell_type": "markdown",
   "metadata": {},
   "source": [
    "##### Tiles: midnight(어두운 배경)"
   ]
  },
  {
   "cell_type": "code",
   "execution_count": 6,
   "metadata": {},
   "outputs": [
    {
     "data": {
      "text/html": [
       "<div style=\"width:100%;\"><div style=\"position:relative;width:100%;height:0;padding-bottom:60%;\"><span style=\"color:#565656\">Make this Notebook Trusted to load map: File -> Trust Notebook</span><iframe srcdoc=\"&lt;!DOCTYPE html&gt;\n",
       "&lt;html&gt;\n",
       "&lt;head&gt;\n",
       "    \n",
       "    &lt;meta http-equiv=&quot;content-type&quot; content=&quot;text/html; charset=UTF-8&quot; /&gt;\n",
       "    \n",
       "        &lt;script&gt;\n",
       "            L_NO_TOUCH = false;\n",
       "            L_DISABLE_3D = false;\n",
       "        &lt;/script&gt;\n",
       "    \n",
       "    &lt;style&gt;html, body {width: 100%;height: 100%;margin: 0;padding: 0;}&lt;/style&gt;\n",
       "    &lt;style&gt;#map {position:absolute;top:0;bottom:0;right:0;left:0;}&lt;/style&gt;\n",
       "    &lt;script src=&quot;https://cdn.jsdelivr.net/npm/leaflet@1.9.3/dist/leaflet.js&quot;&gt;&lt;/script&gt;\n",
       "    &lt;script src=&quot;https://code.jquery.com/jquery-1.12.4.min.js&quot;&gt;&lt;/script&gt;\n",
       "    &lt;script src=&quot;https://cdn.jsdelivr.net/npm/bootstrap@5.2.2/dist/js/bootstrap.bundle.min.js&quot;&gt;&lt;/script&gt;\n",
       "    &lt;script src=&quot;https://cdnjs.cloudflare.com/ajax/libs/Leaflet.awesome-markers/2.0.2/leaflet.awesome-markers.js&quot;&gt;&lt;/script&gt;\n",
       "    &lt;link rel=&quot;stylesheet&quot; href=&quot;https://cdn.jsdelivr.net/npm/leaflet@1.9.3/dist/leaflet.css&quot;/&gt;\n",
       "    &lt;link rel=&quot;stylesheet&quot; href=&quot;https://cdn.jsdelivr.net/npm/bootstrap@5.2.2/dist/css/bootstrap.min.css&quot;/&gt;\n",
       "    &lt;link rel=&quot;stylesheet&quot; href=&quot;https://netdna.bootstrapcdn.com/bootstrap/3.0.0/css/bootstrap.min.css&quot;/&gt;\n",
       "    &lt;link rel=&quot;stylesheet&quot; href=&quot;https://cdn.jsdelivr.net/npm/@fortawesome/fontawesome-free@6.2.0/css/all.min.css&quot;/&gt;\n",
       "    &lt;link rel=&quot;stylesheet&quot; href=&quot;https://cdnjs.cloudflare.com/ajax/libs/Leaflet.awesome-markers/2.0.2/leaflet.awesome-markers.css&quot;/&gt;\n",
       "    &lt;link rel=&quot;stylesheet&quot; href=&quot;https://cdn.jsdelivr.net/gh/python-visualization/folium/folium/templates/leaflet.awesome.rotate.min.css&quot;/&gt;\n",
       "    \n",
       "            &lt;meta name=&quot;viewport&quot; content=&quot;width=device-width,\n",
       "                initial-scale=1.0, maximum-scale=1.0, user-scalable=no&quot; /&gt;\n",
       "            &lt;style&gt;\n",
       "                #map_a0baebc3aa8505da21ca66ff5443a21d {\n",
       "                    position: relative;\n",
       "                    width: 100.0%;\n",
       "                    height: 100.0%;\n",
       "                    left: 0.0%;\n",
       "                    top: 0.0%;\n",
       "                }\n",
       "                .leaflet-container { font-size: 1rem; }\n",
       "            &lt;/style&gt;\n",
       "        \n",
       "&lt;/head&gt;\n",
       "&lt;body&gt;\n",
       "    \n",
       "    \n",
       "            &lt;div class=&quot;folium-map&quot; id=&quot;map_a0baebc3aa8505da21ca66ff5443a21d&quot; &gt;&lt;/div&gt;\n",
       "        \n",
       "&lt;/body&gt;\n",
       "&lt;script&gt;\n",
       "    \n",
       "    \n",
       "            var map_a0baebc3aa8505da21ca66ff5443a21d = L.map(\n",
       "                &quot;map_a0baebc3aa8505da21ca66ff5443a21d&quot;,\n",
       "                {\n",
       "                    center: [37.5665, 126.978],\n",
       "                    crs: L.CRS.EPSG3857,\n",
       "                    zoom: 13,\n",
       "                    zoomControl: true,\n",
       "                    preferCanvas: false,\n",
       "                }\n",
       "            );\n",
       "\n",
       "            \n",
       "\n",
       "        \n",
       "    \n",
       "            var tile_layer_37bcc0facfd5fc9ada585a1b0684b536 = L.tileLayer(\n",
       "                &quot;http://api.vworld.kr/req/wmts/1.0.0/AC38C527-013B-3078-A053-6DD7FB7DF661/midnight/{z}/{y}/{x}.png&quot;,\n",
       "                {&quot;attribution&quot;: &quot;Vworld&quot;, &quot;detectRetina&quot;: false, &quot;maxNativeZoom&quot;: 18, &quot;maxZoom&quot;: 18, &quot;minZoom&quot;: 0, &quot;noWrap&quot;: false, &quot;opacity&quot;: 1, &quot;subdomains&quot;: &quot;abc&quot;, &quot;tms&quot;: false}\n",
       "            ).addTo(map_a0baebc3aa8505da21ca66ff5443a21d);\n",
       "        \n",
       "&lt;/script&gt;\n",
       "&lt;/html&gt;\" style=\"position:absolute;width:100%;height:100%;left:0;top:0;border:none !important;\" allowfullscreen webkitallowfullscreen mozallowfullscreen></iframe></div></div>"
      ],
      "text/plain": [
       "<folium.folium.Map at 0x7f2c927ae6a0>"
      ]
     },
     "execution_count": 6,
     "metadata": {},
     "output_type": "execute_result"
    }
   ],
   "source": [
    "VWORLD_LAYER = 'midnight'\n",
    "VWORLD_TILES_URL = \\\n",
    "    f'http://api.vworld.kr/req/wmts/1.0.0/' \\\n",
    "    f'{VWORLD_KEY}/{VWORLD_LAYER}/{{z}}/{{y}}/{{x}}.{VWORLD_TILE_TYPE}'\n",
    "\n",
    "base_map = folium.Map(\n",
    "    location=[37.5665, 126.9780], zoom_start=13,\n",
    "    tiles=VWORLD_TILES_URL, attr=VWORLD_ATTR\n",
    ")\n",
    "base_map"
   ]
  },
  {
   "cell_type": "markdown",
   "metadata": {},
   "source": [
    "##### Tile: white(밝은 배경)"
   ]
  },
  {
   "cell_type": "code",
   "execution_count": 7,
   "metadata": {},
   "outputs": [
    {
     "data": {
      "text/html": [
       "<div style=\"width:100%;\"><div style=\"position:relative;width:100%;height:0;padding-bottom:60%;\"><span style=\"color:#565656\">Make this Notebook Trusted to load map: File -> Trust Notebook</span><iframe srcdoc=\"&lt;!DOCTYPE html&gt;\n",
       "&lt;html&gt;\n",
       "&lt;head&gt;\n",
       "    \n",
       "    &lt;meta http-equiv=&quot;content-type&quot; content=&quot;text/html; charset=UTF-8&quot; /&gt;\n",
       "    \n",
       "        &lt;script&gt;\n",
       "            L_NO_TOUCH = false;\n",
       "            L_DISABLE_3D = false;\n",
       "        &lt;/script&gt;\n",
       "    \n",
       "    &lt;style&gt;html, body {width: 100%;height: 100%;margin: 0;padding: 0;}&lt;/style&gt;\n",
       "    &lt;style&gt;#map {position:absolute;top:0;bottom:0;right:0;left:0;}&lt;/style&gt;\n",
       "    &lt;script src=&quot;https://cdn.jsdelivr.net/npm/leaflet@1.9.3/dist/leaflet.js&quot;&gt;&lt;/script&gt;\n",
       "    &lt;script src=&quot;https://code.jquery.com/jquery-1.12.4.min.js&quot;&gt;&lt;/script&gt;\n",
       "    &lt;script src=&quot;https://cdn.jsdelivr.net/npm/bootstrap@5.2.2/dist/js/bootstrap.bundle.min.js&quot;&gt;&lt;/script&gt;\n",
       "    &lt;script src=&quot;https://cdnjs.cloudflare.com/ajax/libs/Leaflet.awesome-markers/2.0.2/leaflet.awesome-markers.js&quot;&gt;&lt;/script&gt;\n",
       "    &lt;link rel=&quot;stylesheet&quot; href=&quot;https://cdn.jsdelivr.net/npm/leaflet@1.9.3/dist/leaflet.css&quot;/&gt;\n",
       "    &lt;link rel=&quot;stylesheet&quot; href=&quot;https://cdn.jsdelivr.net/npm/bootstrap@5.2.2/dist/css/bootstrap.min.css&quot;/&gt;\n",
       "    &lt;link rel=&quot;stylesheet&quot; href=&quot;https://netdna.bootstrapcdn.com/bootstrap/3.0.0/css/bootstrap.min.css&quot;/&gt;\n",
       "    &lt;link rel=&quot;stylesheet&quot; href=&quot;https://cdn.jsdelivr.net/npm/@fortawesome/fontawesome-free@6.2.0/css/all.min.css&quot;/&gt;\n",
       "    &lt;link rel=&quot;stylesheet&quot; href=&quot;https://cdnjs.cloudflare.com/ajax/libs/Leaflet.awesome-markers/2.0.2/leaflet.awesome-markers.css&quot;/&gt;\n",
       "    &lt;link rel=&quot;stylesheet&quot; href=&quot;https://cdn.jsdelivr.net/gh/python-visualization/folium/folium/templates/leaflet.awesome.rotate.min.css&quot;/&gt;\n",
       "    \n",
       "            &lt;meta name=&quot;viewport&quot; content=&quot;width=device-width,\n",
       "                initial-scale=1.0, maximum-scale=1.0, user-scalable=no&quot; /&gt;\n",
       "            &lt;style&gt;\n",
       "                #map_69b94fb75d0e3ab42937bc96ed667e79 {\n",
       "                    position: relative;\n",
       "                    width: 100.0%;\n",
       "                    height: 100.0%;\n",
       "                    left: 0.0%;\n",
       "                    top: 0.0%;\n",
       "                }\n",
       "                .leaflet-container { font-size: 1rem; }\n",
       "            &lt;/style&gt;\n",
       "        \n",
       "&lt;/head&gt;\n",
       "&lt;body&gt;\n",
       "    \n",
       "    \n",
       "            &lt;div class=&quot;folium-map&quot; id=&quot;map_69b94fb75d0e3ab42937bc96ed667e79&quot; &gt;&lt;/div&gt;\n",
       "        \n",
       "&lt;/body&gt;\n",
       "&lt;script&gt;\n",
       "    \n",
       "    \n",
       "            var map_69b94fb75d0e3ab42937bc96ed667e79 = L.map(\n",
       "                &quot;map_69b94fb75d0e3ab42937bc96ed667e79&quot;,\n",
       "                {\n",
       "                    center: [37.5665, 126.978],\n",
       "                    crs: L.CRS.EPSG3857,\n",
       "                    zoom: 13,\n",
       "                    zoomControl: true,\n",
       "                    preferCanvas: false,\n",
       "                }\n",
       "            );\n",
       "\n",
       "            \n",
       "\n",
       "        \n",
       "    \n",
       "            var tile_layer_da4470a652bb160d48a596f399474917 = L.tileLayer(\n",
       "                &quot;http://api.vworld.kr/req/wmts/1.0.0/AC38C527-013B-3078-A053-6DD7FB7DF661/white/{z}/{y}/{x}.png&quot;,\n",
       "                {&quot;attribution&quot;: &quot;Vworld&quot;, &quot;detectRetina&quot;: false, &quot;maxNativeZoom&quot;: 18, &quot;maxZoom&quot;: 18, &quot;minZoom&quot;: 0, &quot;noWrap&quot;: false, &quot;opacity&quot;: 1, &quot;subdomains&quot;: &quot;abc&quot;, &quot;tms&quot;: false}\n",
       "            ).addTo(map_69b94fb75d0e3ab42937bc96ed667e79);\n",
       "        \n",
       "&lt;/script&gt;\n",
       "&lt;/html&gt;\" style=\"position:absolute;width:100%;height:100%;left:0;top:0;border:none !important;\" allowfullscreen webkitallowfullscreen mozallowfullscreen></iframe></div></div>"
      ],
      "text/plain": [
       "<folium.folium.Map at 0x7f2c9275c220>"
      ]
     },
     "execution_count": 7,
     "metadata": {},
     "output_type": "execute_result"
    }
   ],
   "source": [
    "VWORLD_LAYER = 'white'\n",
    "VWORLD_TILES_URL = \\\n",
    "    f'http://api.vworld.kr/req/wmts/1.0.0/' \\\n",
    "    f'{VWORLD_KEY}/{VWORLD_LAYER}/{{z}}/{{y}}/{{x}}.{VWORLD_TILE_TYPE}'\n",
    "\n",
    "base_map = folium.Map(\n",
    "    location=[37.5665, 126.9780], zoom_start=13,\n",
    "    tiles=VWORLD_TILES_URL, attr=VWORLD_ATTR\n",
    ")\n",
    "base_map"
   ]
  },
  {
   "cell_type": "markdown",
   "metadata": {},
   "source": [
    "#### 행정구역별 구분"
   ]
  },
  {
   "cell_type": "code",
   "execution_count": 8,
   "metadata": {},
   "outputs": [
    {
     "name": "stdout",
     "output_type": "stream",
     "text": [
      "<class 'geopandas.geodataframe.GeoDataFrame'>\n",
      "RangeIndex: 3513 entries, 0 to 3512\n",
      "Data columns (total 10 columns):\n",
      " #   Column    Non-Null Count  Dtype   \n",
      "---  ------    --------------  -----   \n",
      " 0   OBJECTID  3513 non-null   int64   \n",
      " 1   adm_nm    3513 non-null   object  \n",
      " 2   adm_cd    3513 non-null   object  \n",
      " 3   adm_cd2   3513 non-null   object  \n",
      " 4   sgg       3513 non-null   object  \n",
      " 5   sido      3513 non-null   object  \n",
      " 6   sidonm    3513 non-null   object  \n",
      " 7   sggnm     3513 non-null   object  \n",
      " 8   adm_cd8   3513 non-null   object  \n",
      " 9   geometry  3513 non-null   geometry\n",
      "dtypes: geometry(1), int64(1), object(8)\n",
      "memory usage: 274.6+ KB\n"
     ]
    }
   ],
   "source": [
    "# SHP PATH\n",
    "VW_SIGNGU_PATH = os.path.join(\n",
    "    os.getcwd(), '89_data', 'vw-lab.HangJeongDong_ver20220701.geojson'\n",
    ")\n",
    "\n",
    "# 파일읽는 동안 \n",
    "# DriverError: .. supported file format\n",
    "# 관련 오류가 발생하면 gdal이 시스템에 설치 안되 그런것이지 아래와 같이 설치\n",
    "# > sudo apt install gdal-bin python3-gdal\n",
    "signgu_gdf = gpd.read_file(VW_SIGNGU_PATH)\n",
    "signgu_gdf.info()"
   ]
  },
  {
   "cell_type": "code",
   "execution_count": 9,
   "metadata": {},
   "outputs": [
    {
     "data": {
      "text/html": [
       "<div>\n",
       "<style scoped>\n",
       "    .dataframe tbody tr th:only-of-type {\n",
       "        vertical-align: middle;\n",
       "    }\n",
       "\n",
       "    .dataframe tbody tr th {\n",
       "        vertical-align: top;\n",
       "    }\n",
       "\n",
       "    .dataframe thead th {\n",
       "        text-align: right;\n",
       "    }\n",
       "</style>\n",
       "<table border=\"1\" class=\"dataframe\">\n",
       "  <thead>\n",
       "    <tr style=\"text-align: right;\">\n",
       "      <th></th>\n",
       "      <th>OBJECTID</th>\n",
       "      <th>adm_nm</th>\n",
       "      <th>adm_cd</th>\n",
       "      <th>adm_cd2</th>\n",
       "      <th>sgg</th>\n",
       "      <th>sido</th>\n",
       "      <th>sidonm</th>\n",
       "      <th>sggnm</th>\n",
       "      <th>adm_cd8</th>\n",
       "      <th>geometry</th>\n",
       "    </tr>\n",
       "  </thead>\n",
       "  <tbody>\n",
       "    <tr>\n",
       "      <th>0</th>\n",
       "      <td>1</td>\n",
       "      <td>서울특별시 종로구 사직동</td>\n",
       "      <td>1101053</td>\n",
       "      <td>1111053000</td>\n",
       "      <td>11110</td>\n",
       "      <td>11</td>\n",
       "      <td>서울특별시</td>\n",
       "      <td>종로구</td>\n",
       "      <td>11010530</td>\n",
       "      <td>MULTIPOLYGON (((126.97689 37.57565, 126.97703 ...</td>\n",
       "    </tr>\n",
       "    <tr>\n",
       "      <th>1</th>\n",
       "      <td>2</td>\n",
       "      <td>서울특별시 종로구 삼청동</td>\n",
       "      <td>1101054</td>\n",
       "      <td>1111054000</td>\n",
       "      <td>11110</td>\n",
       "      <td>11</td>\n",
       "      <td>서울특별시</td>\n",
       "      <td>종로구</td>\n",
       "      <td>11010540</td>\n",
       "      <td>MULTIPOLYGON (((126.98269 37.59507, 126.98337 ...</td>\n",
       "    </tr>\n",
       "    <tr>\n",
       "      <th>2</th>\n",
       "      <td>3</td>\n",
       "      <td>서울특별시 종로구 부암동</td>\n",
       "      <td>1101055</td>\n",
       "      <td>1111055000</td>\n",
       "      <td>11110</td>\n",
       "      <td>11</td>\n",
       "      <td>서울특별시</td>\n",
       "      <td>종로구</td>\n",
       "      <td>11010550</td>\n",
       "      <td>MULTIPOLYGON (((126.97585 37.59656, 126.97359 ...</td>\n",
       "    </tr>\n",
       "    <tr>\n",
       "      <th>3</th>\n",
       "      <td>4</td>\n",
       "      <td>서울특별시 종로구 평창동</td>\n",
       "      <td>1101056</td>\n",
       "      <td>1111056000</td>\n",
       "      <td>11110</td>\n",
       "      <td>11</td>\n",
       "      <td>서울특별시</td>\n",
       "      <td>종로구</td>\n",
       "      <td>11010560</td>\n",
       "      <td>MULTIPOLYGON (((126.97507 37.63139, 126.97649 ...</td>\n",
       "    </tr>\n",
       "    <tr>\n",
       "      <th>4</th>\n",
       "      <td>5</td>\n",
       "      <td>서울특별시 종로구 무악동</td>\n",
       "      <td>1101057</td>\n",
       "      <td>1111057000</td>\n",
       "      <td>11110</td>\n",
       "      <td>11</td>\n",
       "      <td>서울특별시</td>\n",
       "      <td>종로구</td>\n",
       "      <td>11010570</td>\n",
       "      <td>MULTIPOLYGON (((126.96067 37.58080, 126.96281 ...</td>\n",
       "    </tr>\n",
       "  </tbody>\n",
       "</table>\n",
       "</div>"
      ],
      "text/plain": [
       "   OBJECTID         adm_nm   adm_cd     adm_cd2    sgg sido sidonm sggnm  \\\n",
       "0         1  서울특별시 종로구 사직동  1101053  1111053000  11110   11  서울특별시   종로구   \n",
       "1         2  서울특별시 종로구 삼청동  1101054  1111054000  11110   11  서울특별시   종로구   \n",
       "2         3  서울특별시 종로구 부암동  1101055  1111055000  11110   11  서울특별시   종로구   \n",
       "3         4  서울특별시 종로구 평창동  1101056  1111056000  11110   11  서울특별시   종로구   \n",
       "4         5  서울특별시 종로구 무악동  1101057  1111057000  11110   11  서울특별시   종로구   \n",
       "\n",
       "    adm_cd8                                           geometry  \n",
       "0  11010530  MULTIPOLYGON (((126.97689 37.57565, 126.97703 ...  \n",
       "1  11010540  MULTIPOLYGON (((126.98269 37.59507, 126.98337 ...  \n",
       "2  11010550  MULTIPOLYGON (((126.97585 37.59656, 126.97359 ...  \n",
       "3  11010560  MULTIPOLYGON (((126.97507 37.63139, 126.97649 ...  \n",
       "4  11010570  MULTIPOLYGON (((126.96067 37.58080, 126.96281 ...  "
      ]
     },
     "execution_count": 9,
     "metadata": {},
     "output_type": "execute_result"
    }
   ],
   "source": [
    "signgu_gdf.head()"
   ]
  },
  {
   "cell_type": "code",
   "execution_count": 10,
   "metadata": {},
   "outputs": [],
   "source": [
    "# working_signgu_gdf\n",
    "ws_gdf = signgu_gdf.copy()"
   ]
  },
  {
   "cell_type": "code",
   "execution_count": 11,
   "metadata": {},
   "outputs": [],
   "source": [
    "# 중앙값 계산이 용이한 좌표계(4326->5179)로 변환\n",
    "ws_gdf = ws_gdf.to_crs(epsg=5179)\n",
    "\n",
    "ws_gdf['center'] = ws_gdf.centroid"
   ]
  },
  {
   "cell_type": "markdown",
   "metadata": {},
   "source": [
    "##### 나주시 추출"
   ]
  },
  {
   "cell_type": "code",
   "execution_count": 12,
   "metadata": {},
   "outputs": [],
   "source": [
    "naju_gdf = ws_gdf[signgu_gdf.adm_nm.str.contains('빛가람')]"
   ]
  },
  {
   "cell_type": "code",
   "execution_count": 13,
   "metadata": {},
   "outputs": [],
   "source": [
    "naju_gdf = naju_gdf.drop(columns=['geometry'])"
   ]
  },
  {
   "cell_type": "code",
   "execution_count": 14,
   "metadata": {},
   "outputs": [],
   "source": [
    "naju_gdf = naju_gdf.rename(columns={'center': 'geometry'})"
   ]
  },
  {
   "cell_type": "code",
   "execution_count": 15,
   "metadata": {},
   "outputs": [
    {
     "data": {
      "text/html": [
       "<div>\n",
       "<style scoped>\n",
       "    .dataframe tbody tr th:only-of-type {\n",
       "        vertical-align: middle;\n",
       "    }\n",
       "\n",
       "    .dataframe tbody tr th {\n",
       "        vertical-align: top;\n",
       "    }\n",
       "\n",
       "    .dataframe thead th {\n",
       "        text-align: right;\n",
       "    }\n",
       "</style>\n",
       "<table border=\"1\" class=\"dataframe\">\n",
       "  <thead>\n",
       "    <tr style=\"text-align: right;\">\n",
       "      <th></th>\n",
       "      <th>OBJECTID</th>\n",
       "      <th>adm_nm</th>\n",
       "      <th>adm_cd</th>\n",
       "      <th>adm_cd2</th>\n",
       "      <th>sgg</th>\n",
       "      <th>sido</th>\n",
       "      <th>sidonm</th>\n",
       "      <th>sggnm</th>\n",
       "      <th>adm_cd8</th>\n",
       "      <th>geometry</th>\n",
       "    </tr>\n",
       "  </thead>\n",
       "  <tbody>\n",
       "    <tr>\n",
       "      <th>2531</th>\n",
       "      <td>2555</td>\n",
       "      <td>전라남도 나주시 빛가람동</td>\n",
       "      <td>3604061</td>\n",
       "      <td>4617062000</td>\n",
       "      <td>46170</td>\n",
       "      <td>46</td>\n",
       "      <td>전라남도</td>\n",
       "      <td>나주시</td>\n",
       "      <td>36040610</td>\n",
       "      <td>POINT (126.78909 35.01830)</td>\n",
       "    </tr>\n",
       "  </tbody>\n",
       "</table>\n",
       "</div>"
      ],
      "text/plain": [
       "      OBJECTID         adm_nm   adm_cd     adm_cd2    sgg sido sidonm sggnm  \\\n",
       "2531      2555  전라남도 나주시 빛가람동  3604061  4617062000  46170   46   전라남도   나주시   \n",
       "\n",
       "       adm_cd8                    geometry  \n",
       "2531  36040610  POINT (126.78909 35.01830)  "
      ]
     },
     "execution_count": 15,
     "metadata": {},
     "output_type": "execute_result"
    }
   ],
   "source": [
    "naju_gdf = naju_gdf.to_crs(epsg=4326)\n",
    "naju_gdf.head()"
   ]
  },
  {
   "cell_type": "code",
   "execution_count": 16,
   "metadata": {},
   "outputs": [],
   "source": [
    "center = [naju_gdf.iloc[0].geometry.y, naju_gdf.iloc[0].geometry.x]"
   ]
  },
  {
   "cell_type": "markdown",
   "metadata": {},
   "source": [
    "#### 빛가람동 기본맵 표시"
   ]
  },
  {
   "cell_type": "code",
   "execution_count": 17,
   "metadata": {},
   "outputs": [
    {
     "name": "stdout",
     "output_type": "stream",
     "text": [
      "[35.0098072457794, 126.79208767982794]\n"
     ]
    },
    {
     "data": {
      "text/html": [
       "<div style=\"width:100%;\"><div style=\"position:relative;width:100%;height:0;padding-bottom:60%;\"><span style=\"color:#565656\">Make this Notebook Trusted to load map: File -> Trust Notebook</span><iframe srcdoc=\"&lt;!DOCTYPE html&gt;\n",
       "&lt;html&gt;\n",
       "&lt;head&gt;\n",
       "    \n",
       "    &lt;meta http-equiv=&quot;content-type&quot; content=&quot;text/html; charset=UTF-8&quot; /&gt;\n",
       "    \n",
       "        &lt;script&gt;\n",
       "            L_NO_TOUCH = false;\n",
       "            L_DISABLE_3D = false;\n",
       "        &lt;/script&gt;\n",
       "    \n",
       "    &lt;style&gt;html, body {width: 100%;height: 100%;margin: 0;padding: 0;}&lt;/style&gt;\n",
       "    &lt;style&gt;#map {position:absolute;top:0;bottom:0;right:0;left:0;}&lt;/style&gt;\n",
       "    &lt;script src=&quot;https://cdn.jsdelivr.net/npm/leaflet@1.9.3/dist/leaflet.js&quot;&gt;&lt;/script&gt;\n",
       "    &lt;script src=&quot;https://code.jquery.com/jquery-1.12.4.min.js&quot;&gt;&lt;/script&gt;\n",
       "    &lt;script src=&quot;https://cdn.jsdelivr.net/npm/bootstrap@5.2.2/dist/js/bootstrap.bundle.min.js&quot;&gt;&lt;/script&gt;\n",
       "    &lt;script src=&quot;https://cdnjs.cloudflare.com/ajax/libs/Leaflet.awesome-markers/2.0.2/leaflet.awesome-markers.js&quot;&gt;&lt;/script&gt;\n",
       "    &lt;link rel=&quot;stylesheet&quot; href=&quot;https://cdn.jsdelivr.net/npm/leaflet@1.9.3/dist/leaflet.css&quot;/&gt;\n",
       "    &lt;link rel=&quot;stylesheet&quot; href=&quot;https://cdn.jsdelivr.net/npm/bootstrap@5.2.2/dist/css/bootstrap.min.css&quot;/&gt;\n",
       "    &lt;link rel=&quot;stylesheet&quot; href=&quot;https://netdna.bootstrapcdn.com/bootstrap/3.0.0/css/bootstrap.min.css&quot;/&gt;\n",
       "    &lt;link rel=&quot;stylesheet&quot; href=&quot;https://cdn.jsdelivr.net/npm/@fortawesome/fontawesome-free@6.2.0/css/all.min.css&quot;/&gt;\n",
       "    &lt;link rel=&quot;stylesheet&quot; href=&quot;https://cdnjs.cloudflare.com/ajax/libs/Leaflet.awesome-markers/2.0.2/leaflet.awesome-markers.css&quot;/&gt;\n",
       "    &lt;link rel=&quot;stylesheet&quot; href=&quot;https://cdn.jsdelivr.net/gh/python-visualization/folium/folium/templates/leaflet.awesome.rotate.min.css&quot;/&gt;\n",
       "    \n",
       "            &lt;meta name=&quot;viewport&quot; content=&quot;width=device-width,\n",
       "                initial-scale=1.0, maximum-scale=1.0, user-scalable=no&quot; /&gt;\n",
       "            &lt;style&gt;\n",
       "                #map_399e6bd9099eff8c37cea836b2d0d8d6 {\n",
       "                    position: relative;\n",
       "                    width: 100.0%;\n",
       "                    height: 100.0%;\n",
       "                    left: 0.0%;\n",
       "                    top: 0.0%;\n",
       "                }\n",
       "                .leaflet-container { font-size: 1rem; }\n",
       "            &lt;/style&gt;\n",
       "        \n",
       "&lt;/head&gt;\n",
       "&lt;body&gt;\n",
       "    \n",
       "    \n",
       "            &lt;div class=&quot;folium-map&quot; id=&quot;map_399e6bd9099eff8c37cea836b2d0d8d6&quot; &gt;&lt;/div&gt;\n",
       "        \n",
       "&lt;/body&gt;\n",
       "&lt;script&gt;\n",
       "    \n",
       "    \n",
       "            var map_399e6bd9099eff8c37cea836b2d0d8d6 = L.map(\n",
       "                &quot;map_399e6bd9099eff8c37cea836b2d0d8d6&quot;,\n",
       "                {\n",
       "                    center: [35.0098072457794, 126.79208767982794],\n",
       "                    crs: L.CRS.EPSG3857,\n",
       "                    zoom: 17,\n",
       "                    zoomControl: true,\n",
       "                    preferCanvas: false,\n",
       "                }\n",
       "            );\n",
       "\n",
       "            \n",
       "\n",
       "        \n",
       "    \n",
       "            var tile_layer_db53ecc8acfc3a12d1781bc9e5c80587 = L.tileLayer(\n",
       "                &quot;http://api.vworld.kr/req/wmts/1.0.0/AC38C527-013B-3078-A053-6DD7FB7DF661/Base/{z}/{y}/{x}.png&quot;,\n",
       "                {&quot;attribution&quot;: &quot;Vworld&quot;, &quot;detectRetina&quot;: false, &quot;maxNativeZoom&quot;: 18, &quot;maxZoom&quot;: 18, &quot;minZoom&quot;: 0, &quot;noWrap&quot;: false, &quot;opacity&quot;: 1, &quot;subdomains&quot;: &quot;abc&quot;, &quot;tms&quot;: false}\n",
       "            ).addTo(map_399e6bd9099eff8c37cea836b2d0d8d6);\n",
       "        \n",
       "    \n",
       "            var marker_18ded0be385d9a316d50e5d66c0c0fe0 = L.marker(\n",
       "                [35.0098072457794, 126.79208767982794],\n",
       "                {}\n",
       "            ).addTo(map_399e6bd9099eff8c37cea836b2d0d8d6);\n",
       "        \n",
       "    \n",
       "            var icon_30e209f0032a1f0476495ff2d5efe458 = L.AwesomeMarkers.icon(\n",
       "                {&quot;extraClasses&quot;: &quot;fa-rotate-0&quot;, &quot;icon&quot;: &quot;info-sign&quot;, &quot;iconColor&quot;: &quot;white&quot;, &quot;markerColor&quot;: &quot;blue&quot;, &quot;prefix&quot;: &quot;glyphicon&quot;}\n",
       "            );\n",
       "            marker_18ded0be385d9a316d50e5d66c0c0fe0.setIcon(icon_30e209f0032a1f0476495ff2d5efe458);\n",
       "        \n",
       "    \n",
       "        var popup_2e58de9bb88ca20610fd064c8ff8b642 = L.popup({&quot;maxWidth&quot;: &quot;100%&quot;});\n",
       "\n",
       "        \n",
       "            \n",
       "                var html_a5744d2e28830b7cf7c02ed2adbcbe5a = $(`&lt;div id=&quot;html_a5744d2e28830b7cf7c02ed2adbcbe5a&quot; style=&quot;width: 100.0%; height: 100.0%;&quot;&gt;Start&lt;/div&gt;`)[0];\n",
       "                popup_2e58de9bb88ca20610fd064c8ff8b642.setContent(html_a5744d2e28830b7cf7c02ed2adbcbe5a);\n",
       "            \n",
       "        \n",
       "\n",
       "        marker_18ded0be385d9a316d50e5d66c0c0fe0.bindPopup(popup_2e58de9bb88ca20610fd064c8ff8b642)\n",
       "        ;\n",
       "\n",
       "        \n",
       "    \n",
       "&lt;/script&gt;\n",
       "&lt;/html&gt;\" style=\"position:absolute;width:100%;height:100%;left:0;top:0;border:none !important;\" allowfullscreen webkitallowfullscreen mozallowfullscreen></iframe></div></div>"
      ],
      "text/plain": [
       "<folium.folium.Map at 0x7f2c8f9bf220>"
      ]
     },
     "execution_count": 17,
     "metadata": {},
     "output_type": "execute_result"
    }
   ],
   "source": [
    "_center = [35.0098072457794, 126.79208767982794]\n",
    "VWORLD_LAYER = 'Base'\n",
    "VWORLD_TILES_URL = \\\n",
    "    f'http://api.vworld.kr/req/wmts/1.0.0/' \\\n",
    "    f'{VWORLD_KEY}/{VWORLD_LAYER}/{{z}}/{{y}}/{{x}}.{VWORLD_TILE_TYPE}'\n",
    "\n",
    "base_map = folium.Map(\n",
    "    location=_center, zoom_start=17,\n",
    "    tiles=VWORLD_TILES_URL, attr=VWORLD_ATTR\n",
    ")\n",
    "\n",
    "folium.Marker(\n",
    "    location=_center,\n",
    "    popup='Start',\n",
    "    icon=folium.Icon(color='blue')\n",
    ").add_to(base_map)\n",
    "\n",
    "print(_center)\n",
    "base_map"
   ]
  },
  {
   "cell_type": "markdown",
   "metadata": {},
   "source": [
    "#### 네이버 경로분석"
   ]
  },
  {
   "cell_type": "markdown",
   "metadata": {},
   "source": [
    "##### 시작-경유지-종료지점 좌표 설정"
   ]
  },
  {
   "cell_type": "code",
   "execution_count": 18,
   "metadata": {},
   "outputs": [],
   "source": [
    "SP_ADDR = '전라남도 나주시 남고문로 104'\n",
    "M1_ADDR = '전라남도 나주시 학생운동길 21-1'\n",
    "M2_ADDR = '전라남도 나주시 남고문로 108-10'\n",
    "M3_ADDR = '전라남도 나주시 남고문로 118'\n",
    "EP_ADDR = '전라남도 나주시 학생운동길 36'\n",
    "# SP = [35.0289538, 126.7221748]          # 남고문로 104\n",
    "# M1 = [35.0282973, 126.7221589]          # 학생운동길 21-1\n",
    "# M2 = [35.0286806, 126.7230117]          # 남고문로 108-10\n",
    "# M3 = [35.0287562, 126.7236250]          # 남고문로 118\n",
    "# EP = [35.0276670, 126.7234553]          # 학생운동길 36"
   ]
  },
  {
   "cell_type": "markdown",
   "metadata": {},
   "source": [
    "##### 네이버 길찿기 함수 생성"
   ]
  },
  {
   "cell_type": "code",
   "execution_count": 19,
   "metadata": {},
   "outputs": [],
   "source": [
    "NAVER_KEY_PATH = os.path.join(BASE_KEY_FILE_PATH, 'naver_application_key.txt')\n",
    "\n",
    "with open(NAVER_KEY_PATH, 'r') as nkf:\n",
    "    lines = nkf.readlines()\n",
    "\n",
    "NAVER_REQ_HEADER = {\n",
    "    \"X-NCP-APIGW-API-KEY-ID\": lines[0].replace('\\n', ''),\n",
    "    \"X-NCP-APIGW-API-KEY\": lines[1].replace('\\n', '')\n",
    "}"
   ]
  },
  {
   "cell_type": "code",
   "execution_count": 20,
   "metadata": {},
   "outputs": [],
   "source": [
    "def get_naver_path(start, end, way):\n",
    "    optimal_api_url = \\\n",
    "        f'https://naveropenapi.apigw.ntruss.com/map-direction/v1/driving?' \\\n",
    "        f'start={start[1]},{start[0]}&goal={end[1]},{end[0]}' \\\n",
    "        f'&waypoints={way[1]},{way[0]}&option=trafast&format=json'\n",
    "        \n",
    "    response = requests.get(optimal_api_url, headers=NAVER_REQ_HEADER)\n",
    "    return response.json() if response.status_code == 200 else {'status': 'error'}"
   ]
  },
  {
   "cell_type": "code",
   "execution_count": 21,
   "metadata": {},
   "outputs": [],
   "source": [
    "def get_geocoding(addr):\n",
    "    geocoding_url = \\\n",
    "        f'https://naveropenapi.apigw.ntruss.com/map-geocode/v2/geocode?query={addr}'\n",
    "    response = requests.get(geocoding_url, headers=NAVER_REQ_HEADER)\n",
    "    return response.json() if response.status_code == 200 else {'status': 'error'}"
   ]
  },
  {
   "cell_type": "code",
   "execution_count": 22,
   "metadata": {},
   "outputs": [
    {
     "data": {
      "text/plain": [
       "{'roadAddress': '전라남도 나주시 남고문로 104',\n",
       " 'jibunAddress': '전라남도 나주시 남외동 21-7',\n",
       " 'englishAddress': '104, Namgomun-ro, Naju-si, Jeollanam-do, Republic of Korea',\n",
       " 'addressElements': [{'types': ['SIDO'],\n",
       "   'longName': '전라남도',\n",
       "   'shortName': '전라남도',\n",
       "   'code': ''},\n",
       "  {'types': ['SIGUGUN'], 'longName': '나주시', 'shortName': '나주시', 'code': ''},\n",
       "  {'types': ['DONGMYUN'], 'longName': '남외동', 'shortName': '남외동', 'code': ''},\n",
       "  {'types': ['RI'], 'longName': '', 'shortName': '', 'code': ''},\n",
       "  {'types': ['ROAD_NAME'],\n",
       "   'longName': '남고문로',\n",
       "   'shortName': '남고문로',\n",
       "   'code': ''},\n",
       "  {'types': ['BUILDING_NUMBER'],\n",
       "   'longName': '104',\n",
       "   'shortName': '104',\n",
       "   'code': ''},\n",
       "  {'types': ['BUILDING_NAME'], 'longName': '', 'shortName': '', 'code': ''},\n",
       "  {'types': ['LAND_NUMBER'],\n",
       "   'longName': '21-7',\n",
       "   'shortName': '21-7',\n",
       "   'code': ''},\n",
       "  {'types': ['POSTAL_CODE'],\n",
       "   'longName': '58260',\n",
       "   'shortName': '58260',\n",
       "   'code': ''}],\n",
       " 'x': '126.7221748',\n",
       " 'y': '35.0289538',\n",
       " 'distance': 0.0}"
      ]
     },
     "execution_count": 22,
     "metadata": {},
     "output_type": "execute_result"
    }
   ],
   "source": [
    "SP_JSON = get_geocoding(SP_ADDR)\n",
    "SP_JSON['addresses'][0]"
   ]
  },
  {
   "cell_type": "code",
   "execution_count": 23,
   "metadata": {},
   "outputs": [],
   "source": [
    "SP_JSON = get_geocoding(SP_ADDR)\n",
    "SP = [SP_JSON['addresses'][0]['y'], SP_JSON['addresses'][0]['x']]\n",
    "EP_JSON = get_geocoding(EP_ADDR)\n",
    "EP = [EP_JSON['addresses'][0]['y'], EP_JSON['addresses'][0]['x']]\n",
    "M1_JSON = get_geocoding(M1_ADDR)\n",
    "M1 = [M1_JSON['addresses'][0]['y'], M1_JSON['addresses'][0]['x']]\n",
    "M2_JSON = get_geocoding(M2_ADDR)\n",
    "M2 = [M2_JSON['addresses'][0]['y'], M2_JSON['addresses'][0]['x']]\n",
    "M3_JSON = get_geocoding(M1_ADDR)\n",
    "M3 = [M3_JSON['addresses'][0]['y'], M3_JSON['addresses'][0]['x']]"
   ]
  },
  {
   "cell_type": "code",
   "execution_count": 24,
   "metadata": {},
   "outputs": [],
   "source": [
    "m1_path = get_naver_path(SP, EP, M1)['route']['trafast'][0]['path']\n",
    "m2_path = get_naver_path(SP, EP, M2)['route']['trafast'][0]['path']\n",
    "m3_path = get_naver_path(SP, EP, M3)['route']['trafast'][0]['path']"
   ]
  },
  {
   "cell_type": "markdown",
   "metadata": {},
   "source": [
    "##### 기본지도 생성"
   ]
  },
  {
   "cell_type": "code",
   "execution_count": 27,
   "metadata": {},
   "outputs": [
    {
     "name": "stdout",
     "output_type": "stream",
     "text": [
      "35.028953835.0276670\n"
     ]
    },
    {
     "ename": "TypeError",
     "evalue": "unsupported operand type(s) for /: 'str' and 'int'",
     "output_type": "error",
     "traceback": [
      "\u001b[0;31m---------------------------------------------------------------------------\u001b[0m",
      "\u001b[0;31mTypeError\u001b[0m                                 Traceback (most recent call last)",
      "Cell \u001b[0;32mIn[27], line 3\u001b[0m\n\u001b[1;32m      1\u001b[0m VWORLD_LAYER \u001b[39m=\u001b[39m \u001b[39m'\u001b[39m\u001b[39mBase\u001b[39m\u001b[39m'\u001b[39m\n\u001b[1;32m      2\u001b[0m \u001b[39mprint\u001b[39m(SP[\u001b[39m0\u001b[39m]\u001b[39m+\u001b[39mEP[\u001b[39m0\u001b[39m],end\u001b[39m=\u001b[39m\u001b[39m'\u001b[39m\u001b[39m\\n\u001b[39;00m\u001b[39m'\u001b[39m)\n\u001b[0;32m----> 3\u001b[0m \u001b[39mprint\u001b[39m((SP[\u001b[39m0\u001b[39;49m]\u001b[39m+\u001b[39;49mEP[\u001b[39m0\u001b[39;49m])\u001b[39m/\u001b[39;49m\u001b[39m2\u001b[39;49m)\n\u001b[1;32m      4\u001b[0m _center \u001b[39m=\u001b[39m [(SP[\u001b[39m0\u001b[39m]\u001b[39m+\u001b[39mEP[\u001b[39m0\u001b[39m])\u001b[39m/\u001b[39m\u001b[39m2\u001b[39m, (SP[\u001b[39m1\u001b[39m]\u001b[39m+\u001b[39mEP[\u001b[39m1\u001b[39m])\u001b[39m/\u001b[39m\u001b[39m2\u001b[39m]\n\u001b[1;32m      5\u001b[0m VWORLD_TILES_URL \u001b[39m=\u001b[39m \\\n\u001b[1;32m      6\u001b[0m     \u001b[39mf\u001b[39m\u001b[39m'\u001b[39m\u001b[39mhttp://api.vworld.kr/req/wmts/1.0.0/\u001b[39m\u001b[39m'\u001b[39m \\\n\u001b[1;32m      7\u001b[0m     \u001b[39mf\u001b[39m\u001b[39m'\u001b[39m\u001b[39m{\u001b[39;00mVWORLD_KEY\u001b[39m}\u001b[39;00m\u001b[39m/\u001b[39m\u001b[39m{\u001b[39;00mVWORLD_LAYER\u001b[39m}\u001b[39;00m\u001b[39m/\u001b[39m\u001b[39m{{\u001b[39;00m\u001b[39mz\u001b[39m\u001b[39m}}\u001b[39;00m\u001b[39m/\u001b[39m\u001b[39m{{\u001b[39;00m\u001b[39my\u001b[39m\u001b[39m}}\u001b[39;00m\u001b[39m/\u001b[39m\u001b[39m{{\u001b[39;00m\u001b[39mx\u001b[39m\u001b[39m}}\u001b[39;00m\u001b[39m.\u001b[39m\u001b[39m{\u001b[39;00mVWORLD_TILE_TYPE\u001b[39m}\u001b[39;00m\u001b[39m'\u001b[39m\n",
      "\u001b[0;31mTypeError\u001b[0m: unsupported operand type(s) for /: 'str' and 'int'"
     ]
    }
   ],
   "source": [
    "VWORLD_LAYER = 'Base'\n",
    "\n",
    "print(SP[0]+EP[0],end='\\n')\n",
    "print((SP[0]+EP[0])/2)\n",
    "_center = [(SP[0]+EP[0])/2, (SP[1]+EP[1])/2]\n",
    "VWORLD_TILES_URL = \\\n",
    "    f'http://api.vworld.kr/req/wmts/1.0.0/' \\\n",
    "    f'{VWORLD_KEY}/{VWORLD_LAYER}/{{z}}/{{y}}/{{x}}.{VWORLD_TILE_TYPE}'\n",
    "\n",
    "# 기본지도 생성\n",
    "base_map = folium.Map(\n",
    "    location=_center, tiles=VWORLD_TILES_URL, attr=VWORLD_ATTR, zoom_start=18\n",
    ")\n",
    "\n",
    "# 경로추가\n",
    "m11_path = [[y, x] for x, y in m1_path]\n",
    "folium.PolyLine(locations=m11_path, color='green').add_to(base_map)\n",
    "m22_path = [[y, x] for x, y in m2_path]\n",
    "folium.PolyLine(locations=m22_path, color='blue').add_to(base_map)\n",
    "m33_path = [[y, x] for x, y in m3_path]\n",
    "folium.PolyLine(locations=m33_path, color='red').add_to(base_map)\n",
    "\n",
    "# 시작/종점 추가\n",
    "folium.Marker(\n",
    "    location=SP,\n",
    "    popup='Start',\n",
    "    icon=folium.Icon(color='blue')\n",
    ").add_to(base_map)\n",
    "folium.Marker(\n",
    "    location=EP,\n",
    "    popup='End',\n",
    "    icon=folium.Icon(color='red')\n",
    ").add_to(base_map)\n",
    "\n",
    "# 지도표시\n",
    "base_map"
   ]
  },
  {
   "cell_type": "code",
   "execution_count": null,
   "metadata": {},
   "outputs": [],
   "source": [
    "base_map.save('./89_data/result/52_naju.html')"
   ]
  },
  {
   "cell_type": "code",
   "execution_count": null,
   "metadata": {},
   "outputs": [],
   "source": []
  }
 ],
 "metadata": {
  "kernelspec": {
   "display_name": "geoaip39",
   "language": "python",
   "name": "python3"
  },
  "language_info": {
   "codemirror_mode": {
    "name": "ipython",
    "version": 3
   },
   "file_extension": ".py",
   "mimetype": "text/x-python",
   "name": "python",
   "nbconvert_exporter": "python",
   "pygments_lexer": "ipython3",
   "version": "3.9.17"
  },
  "orig_nbformat": 4
 },
 "nbformat": 4,
 "nbformat_minor": 2
}
