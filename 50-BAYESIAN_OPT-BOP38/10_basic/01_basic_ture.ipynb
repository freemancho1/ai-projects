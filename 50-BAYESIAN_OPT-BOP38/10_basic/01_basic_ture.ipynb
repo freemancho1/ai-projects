{
 "cells": [
  {
   "cell_type": "code",
   "execution_count": 14,
   "metadata": {},
   "outputs": [],
   "source": [
    "from bayes_opt import BayesianOptimization\n",
    "\n",
    "# Logging\n",
    "from bayes_opt.logger import JSONLogger\n",
    "from bayes_opt.event import Events\n",
    "\n",
    "# Loading\n",
    "from bayes_opt.util import load_logs"
   ]
  },
  {
   "cell_type": "markdown",
   "metadata": {},
   "source": [
    "##### Step 1: 최적화할 임의의 함수 정의"
   ]
  },
  {
   "cell_type": "code",
   "execution_count": 2,
   "metadata": {},
   "outputs": [],
   "source": [
    "def black_box(x, y):\n",
    "    return -x ** 2 - (y - 1) ** 2 + 1"
   ]
  },
  {
   "cell_type": "code",
   "execution_count": 3,
   "metadata": {},
   "outputs": [
    {
     "data": {
      "text/plain": [
       "-115"
      ]
     },
     "execution_count": 3,
     "metadata": {},
     "output_type": "execute_result"
    }
   ],
   "source": [
    "black_box(10, 5)"
   ]
  },
  {
   "cell_type": "markdown",
   "metadata": {},
   "source": [
    "##### Step 2: BayesianOptimization 객체 생성\n",
    "* 최적화할 함수 정의\n",
    "* 입력값의 최소값과 최대값 지정\n",
    "\n",
    "여기서는 두 변수의 범위를 받아서, 해당 범위 안에서 가장 큰 값(maximize)을 리턴하는 x, y값을 찾는다."
   ]
  },
  {
   "cell_type": "code",
   "execution_count": 4,
   "metadata": {},
   "outputs": [],
   "source": [
    "# 매개변수의 최소값과 최대값 정의\n",
    "pbounds = {'x': (2, 4), 'y': (-3, 3)}\n",
    "\n",
    "# BayesianOptimization 객체 생성\n",
    "optimizer = BayesianOptimization(\n",
    "    f=black_box,\n",
    "    pbounds=pbounds,\n",
    "    verbose=2,      # 2: 항상출력, 1: 최대값이 관찰된 경우만 출력, 0: 아무 출력없음\n",
    "    random_state=1,\n",
    ")"
   ]
  },
  {
   "cell_type": "markdown",
   "metadata": {},
   "source": [
    "##### Step 3: 옵티마이져로 할 역할 정의\n",
    "* n_iter: 베이지안 최적화 수행 횟 수(클수록 더 좋은 결과값을 찾음)\n",
    "* init_points: 무작위 탐색 지점 갯 수(클수록 탐색 공간을 다양화해 성능이 좋아짐)"
   ]
  },
  {
   "cell_type": "code",
   "execution_count": 5,
   "metadata": {},
   "outputs": [
    {
     "name": "stdout",
     "output_type": "stream",
     "text": [
      "|   iter    |  target   |     x     |     y     |\n",
      "-------------------------------------------------\n",
      "| \u001b[0m1        \u001b[0m | \u001b[0m-7.135   \u001b[0m | \u001b[0m2.834    \u001b[0m | \u001b[0m1.322    \u001b[0m |\n",
      "| \u001b[0m2        \u001b[0m | \u001b[0m-7.78    \u001b[0m | \u001b[0m2.0      \u001b[0m | \u001b[0m-1.186   \u001b[0m |\n",
      "| \u001b[95m3        \u001b[0m | \u001b[95m-7.11    \u001b[0m | \u001b[95m2.218    \u001b[0m | \u001b[95m-0.7867  \u001b[0m |\n",
      "| \u001b[0m4        \u001b[0m | \u001b[0m-12.4    \u001b[0m | \u001b[0m3.66     \u001b[0m | \u001b[0m0.9608   \u001b[0m |\n",
      "| \u001b[95m5        \u001b[0m | \u001b[95m-6.999   \u001b[0m | \u001b[95m2.23     \u001b[0m | \u001b[95m-0.7392  \u001b[0m |\n",
      "=================================================\n"
     ]
    }
   ],
   "source": [
    "optimizer.maximize(\n",
    "    n_iter=3,\n",
    "    init_points=2\n",
    ")"
   ]
  },
  {
   "cell_type": "markdown",
   "metadata": {},
   "source": [
    "* 최적값 확인"
   ]
  },
  {
   "cell_type": "code",
   "execution_count": 17,
   "metadata": {},
   "outputs": [
    {
     "data": {
      "text/plain": [
       "{'target': -6.999472814518675,\n",
       " 'params': {'x': 2.2303920156083024, 'y': -0.7392021938893159}}"
      ]
     },
     "execution_count": 17,
     "metadata": {},
     "output_type": "execute_result"
    }
   ],
   "source": [
    "optimizer.max"
   ]
  },
  {
   "cell_type": "markdown",
   "metadata": {},
   "source": [
    "* 처리결과 출력"
   ]
  },
  {
   "cell_type": "code",
   "execution_count": 18,
   "metadata": {},
   "outputs": [
    {
     "name": "stdout",
     "output_type": "stream",
     "text": [
      "Iteration 0: {'target': -7.135455292718879, 'params': {'x': 2.8340440094051482, 'y': 1.3219469606529488}}\n",
      "Iteration 1: {'target': -7.779531005607566, 'params': {'x': 2.0002287496346898, 'y': -1.1860045642089614}}\n",
      "Iteration 2: {'target': -7.109925819441113, 'params': {'x': 2.2175526295255183, 'y': -0.7867249801593896}}\n",
      "Iteration 3: {'target': -12.397162416009818, 'params': {'x': 3.660003815774634, 'y': 0.9608275029525108}}\n",
      "Iteration 4: {'target': -6.999472814518675, 'params': {'x': 2.2303920156083024, 'y': -0.7392021938893159}}\n"
     ]
    }
   ],
   "source": [
    "for i, res in enumerate(optimizer.res):\n",
    "    print(f'Iteration {i}: {res}')"
   ]
  },
  {
   "cell_type": "markdown",
   "metadata": {},
   "source": [
    "##### Step 4: 파라메타 값 최소/대값 변경"
   ]
  },
  {
   "cell_type": "markdown",
   "metadata": {},
   "source": [
    "* 특정 변수의 최소/대값 변경"
   ]
  },
  {
   "cell_type": "code",
   "execution_count": 6,
   "metadata": {},
   "outputs": [],
   "source": [
    "optimizer.set_bounds(new_bounds={'x': (-2, 3)})"
   ]
  },
  {
   "cell_type": "code",
   "execution_count": 7,
   "metadata": {},
   "outputs": [
    {
     "name": "stdout",
     "output_type": "stream",
     "text": [
      "|   iter    |  target   |     x     |     y     |\n",
      "-------------------------------------------------\n",
      "| \u001b[95m6        \u001b[0m | \u001b[95m-2.942   \u001b[0m | \u001b[95m1.98     \u001b[0m | \u001b[95m0.8567   \u001b[0m |\n",
      "| \u001b[95m7        \u001b[0m | \u001b[95m-0.4597  \u001b[0m | \u001b[95m1.096    \u001b[0m | \u001b[95m1.508    \u001b[0m |\n",
      "| \u001b[95m8        \u001b[0m | \u001b[95m0.5304   \u001b[0m | \u001b[95m-0.6807  \u001b[0m | \u001b[95m1.079    \u001b[0m |\n",
      "| \u001b[0m9        \u001b[0m | \u001b[0m-5.33    \u001b[0m | \u001b[0m-1.526   \u001b[0m | \u001b[0m3.0      \u001b[0m |\n",
      "| \u001b[0m10       \u001b[0m | \u001b[0m-5.419   \u001b[0m | \u001b[0m-2.0     \u001b[0m | \u001b[0m-0.5552  \u001b[0m |\n",
      "=================================================\n"
     ]
    }
   ],
   "source": [
    "optimizer.maximize(\n",
    "    n_iter=5,\n",
    "    init_points=0\n",
    ")"
   ]
  },
  {
   "cell_type": "markdown",
   "metadata": {},
   "source": [
    "* 변수를 특정 값으로 지정"
   ]
  },
  {
   "cell_type": "code",
   "execution_count": 8,
   "metadata": {},
   "outputs": [],
   "source": [
    "optimizer.probe(\n",
    "    params={'x': 0.5, 'y': 0.7},\n",
    "    # params=[0.5, 0.7],  # 이렇게 할 수도 있음\n",
    "    lazy=True\n",
    ")"
   ]
  },
  {
   "cell_type": "code",
   "execution_count": 9,
   "metadata": {},
   "outputs": [
    {
     "name": "stdout",
     "output_type": "stream",
     "text": [
      "|   iter    |  target   |     x     |     y     |\n",
      "-------------------------------------------------\n",
      "| \u001b[95m11       \u001b[0m | \u001b[95m0.66     \u001b[0m | \u001b[95m0.5      \u001b[0m | \u001b[95m0.7      \u001b[0m |\n",
      "=================================================\n"
     ]
    }
   ],
   "source": [
    "optimizer.maximize(init_points=0, n_iter=0)"
   ]
  },
  {
   "cell_type": "markdown",
   "metadata": {},
   "source": [
    "##### Step 5: 로그 저장\n",
    "일반적으로 객체 선언시 `verbose>0`으로 하여 진행사항을 확인할 수 있지만, 로깅 및 알림에 대한 더 많은 제어가 필요한 경우 `옵저버`를 사용할 수 있음(자세한 사항은 고급편에서 다름).<br/>\n",
    "여기서는, 간단하게 파일에 진행사항을 저장하고 로드하는 `JSONLogger 객체 사용법`만 설명함.\n",
    "\n",
    "> 로깅을 위한 `옵저버`의 동작원리:\n",
    "* 옵저버 인스턴스 생성\n",
    "* 옵티마이저는 특정 상황을 이벤트로 발송하면 옵저버가 수신함"
   ]
  },
  {
   "cell_type": "code",
   "execution_count": 12,
   "metadata": {},
   "outputs": [],
   "source": [
    "logger = JSONLogger(path='./logs/basic_logs.log')\n",
    "# 옵티마이저는 새 매개변수-타겟 조합을 얻을 때 마다 'Events.OPTIMIZATION_STEP' 이벤트를 발생\n",
    "# 일반적인 로그는 이 정도면 됨.\n",
    "optimizer.subscribe(Events.OPTIMIZATION_STEP, logger)"
   ]
  },
  {
   "cell_type": "markdown",
   "metadata": {},
   "source": [
    "* 로그에 저장"
   ]
  },
  {
   "cell_type": "code",
   "execution_count": 13,
   "metadata": {},
   "outputs": [
    {
     "name": "stdout",
     "output_type": "stream",
     "text": [
      "|   iter    |  target   |     x     |     y     |\n",
      "-------------------------------------------------\n",
      "| \u001b[0m12       \u001b[0m | \u001b[0m-12.48   \u001b[0m | \u001b[0m-1.266   \u001b[0m | \u001b[0m-2.446   \u001b[0m |\n",
      "| \u001b[0m13       \u001b[0m | \u001b[0m-3.854   \u001b[0m | \u001b[0m-1.069   \u001b[0m | \u001b[0m-0.9266  \u001b[0m |\n",
      "| \u001b[0m14       \u001b[0m | \u001b[0m-3.781   \u001b[0m | \u001b[0m0.8835   \u001b[0m | \u001b[0m3.0      \u001b[0m |\n",
      "| \u001b[0m15       \u001b[0m | \u001b[0m0.2623   \u001b[0m | \u001b[0m-0.3884  \u001b[0m | \u001b[0m0.2339   \u001b[0m |\n",
      "| \u001b[95m16       \u001b[0m | \u001b[95m0.8149   \u001b[0m | \u001b[95m0.0367   \u001b[0m | \u001b[95m1.429    \u001b[0m |\n",
      "=================================================\n"
     ]
    }
   ],
   "source": [
    "optimizer.maximize(\n",
    "    init_points=2,\n",
    "    n_iter=3,\n",
    ")"
   ]
  },
  {
   "cell_type": "markdown",
   "metadata": {},
   "source": [
    "##### Step 6: 로그 불러오기\n",
    "로그를 불러올 때는 새로운 옵티마이저로 불러오며, 옵티마이저를 정의할 때 기존 옵티마이저와 동일하게 작성하지 않아도 됨"
   ]
  },
  {
   "cell_type": "code",
   "execution_count": 15,
   "metadata": {},
   "outputs": [],
   "source": [
    "new_optimizer = BayesianOptimization(\n",
    "    f=black_box,\n",
    "    pbounds={'x': (-2, 2), 'y': (-2, 2)},\n",
    "    verbose=2,\n",
    "    random_state=7\n",
    ")"
   ]
  },
  {
   "cell_type": "code",
   "execution_count": 17,
   "metadata": {},
   "outputs": [
    {
     "data": {
      "text/plain": [
       "<bayes_opt.bayesian_optimization.BayesianOptimization at 0x15e46c85280>"
      ]
     },
     "execution_count": 17,
     "metadata": {},
     "output_type": "execute_result"
    }
   ],
   "source": [
    "load_logs(new_optimizer, logs=['./logs/basic_logs.log.json'])"
   ]
  },
  {
   "cell_type": "code",
   "execution_count": 18,
   "metadata": {},
   "outputs": [
    {
     "data": {
      "text/plain": [
       "{'target': 0.8148936986448472,\n",
       " 'params': {'x': 0.036701615946454255, 'y': 1.4286715441244868}}"
      ]
     },
     "execution_count": 18,
     "metadata": {},
     "output_type": "execute_result"
    }
   ],
   "source": [
    "new_optimizer.max"
   ]
  },
  {
   "cell_type": "code",
   "execution_count": 19,
   "metadata": {},
   "outputs": [
    {
     "name": "stdout",
     "output_type": "stream",
     "text": [
      "Iteration 0: {'target': -12.4780129010131, 'params': {'x': -1.2662205459144347, 'y': -2.445968431387213}}\n",
      "Iteration 1: {'target': -3.8540423116243687, 'params': {'x': -1.0686989431116456, 'y': -0.9266356377417138}}\n",
      "Iteration 2: {'target': -3.7806212120405664, 'params': {'x': 0.8835277086999404, 'y': 3.0}}\n",
      "Iteration 3: {'target': 0.26231220516598663, 'params': {'x': -0.3883834511552078, 'y': 0.23394119696802412}}\n",
      "Iteration 4: {'target': 0.8148936986448472, 'params': {'x': 0.036701615946454255, 'y': 1.4286715441244868}}\n"
     ]
    }
   ],
   "source": [
    "for i, res in enumerate(new_optimizer.res):\n",
    "    print(f'Iteration {i}: {res}')"
   ]
  },
  {
   "cell_type": "code",
   "execution_count": null,
   "metadata": {},
   "outputs": [],
   "source": []
  }
 ],
 "metadata": {
  "kernelspec": {
   "display_name": "t212p39",
   "language": "python",
   "name": "python3"
  },
  "language_info": {
   "codemirror_mode": {
    "name": "ipython",
    "version": 3
   },
   "file_extension": ".py",
   "mimetype": "text/x-python",
   "name": "python",
   "nbconvert_exporter": "python",
   "pygments_lexer": "ipython3",
   "version": "3.9.17"
  },
  "orig_nbformat": 4
 },
 "nbformat": 4,
 "nbformat_minor": 2
}
