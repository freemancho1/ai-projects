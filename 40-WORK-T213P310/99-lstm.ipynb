{
 "cells": [
  {
   "cell_type": "code",
   "execution_count": 1,
   "metadata": {},
   "outputs": [
    {
     "name": "stderr",
     "output_type": "stream",
     "text": [
      "2023-08-27 13:36:04.631033: I tensorflow/core/platform/cpu_feature_guard.cc:182] This TensorFlow binary is optimized to use available CPU instructions in performance-critical operations.\n",
      "To enable the following instructions: AVX2 FMA, in other operations, rebuild TensorFlow with the appropriate compiler flags.\n"
     ]
    }
   ],
   "source": [
    "import numpy as np\n",
    "import pandas as pd\n",
    "import tensorflow as tf \n",
    "from tensorflow.keras.layers import LSTM, Dense \n",
    "\n",
    "from sklearn.preprocessing import MinMaxScaler\n",
    "from sklearn.model_selection import train_test_split"
   ]
  },
  {
   "cell_type": "code",
   "execution_count": 2,
   "metadata": {},
   "outputs": [],
   "source": [
    "np.random.seed(0)"
   ]
  },
  {
   "cell_type": "code",
   "execution_count": 3,
   "metadata": {},
   "outputs": [],
   "source": [
    "num_samples = 365\n",
    "time_steps = 10"
   ]
  },
  {
   "cell_type": "code",
   "execution_count": 5,
   "metadata": {},
   "outputs": [],
   "source": [
    "data_21 = np.random.randn(num_samples, time_steps)\n",
    "df_21 = pd.DataFrame(data_21, columns=[f'feature_{i}' for i in range(time_steps)])\n",
    "df_21['target'] = np.sin(np.arange(0, 36.5, 0.1)) + np.random.randn(num_samples) * 0.1\n",
    "df_21.index = pd.date_range('2021-01-01', periods=num_samples)"
   ]
  },
  {
   "cell_type": "code",
   "execution_count": 6,
   "metadata": {},
   "outputs": [],
   "source": [
    "scaler = MinMaxScaler()\n",
    "scaled_data_21 = scaler.fit_transform(df_21.drop(columns='target'))\n",
    "df_21.iloc[:, :-1] = scaled_data_21"
   ]
  },
  {
   "cell_type": "code",
   "execution_count": 7,
   "metadata": {},
   "outputs": [],
   "source": [
    "X = df_21.drop(columns='target')\n",
    "y = df_21['target']"
   ]
  },
  {
   "cell_type": "code",
   "execution_count": 8,
   "metadata": {},
   "outputs": [],
   "source": [
    "X_3d = np.array([X.iloc[i:i+time_steps].values \n",
    "                 for i in range(len(X) - time_steps + 1)])\n",
    "y_train = y[time_steps-1:]"
   ]
  },
  {
   "cell_type": "code",
   "execution_count": 9,
   "metadata": {},
   "outputs": [
    {
     "name": "stderr",
     "output_type": "stream",
     "text": [
      "2023-08-27 13:41:20.667876: I tensorflow/compiler/xla/stream_executor/cuda/cuda_gpu_executor.cc:995] successful NUMA node read from SysFS had negative value (-1), but there must be at least one NUMA node, so returning NUMA node zero. See more at https://github.com/torvalds/linux/blob/v6.0/Documentation/ABI/testing/sysfs-bus-pci#L344-L355\n",
      "2023-08-27 13:41:20.672238: I tensorflow/compiler/xla/stream_executor/cuda/cuda_gpu_executor.cc:995] successful NUMA node read from SysFS had negative value (-1), but there must be at least one NUMA node, so returning NUMA node zero. See more at https://github.com/torvalds/linux/blob/v6.0/Documentation/ABI/testing/sysfs-bus-pci#L344-L355\n",
      "2023-08-27 13:41:20.672400: I tensorflow/compiler/xla/stream_executor/cuda/cuda_gpu_executor.cc:995] successful NUMA node read from SysFS had negative value (-1), but there must be at least one NUMA node, so returning NUMA node zero. See more at https://github.com/torvalds/linux/blob/v6.0/Documentation/ABI/testing/sysfs-bus-pci#L344-L355\n",
      "2023-08-27 13:41:20.673239: I tensorflow/compiler/xla/stream_executor/cuda/cuda_gpu_executor.cc:995] successful NUMA node read from SysFS had negative value (-1), but there must be at least one NUMA node, so returning NUMA node zero. See more at https://github.com/torvalds/linux/blob/v6.0/Documentation/ABI/testing/sysfs-bus-pci#L344-L355\n",
      "2023-08-27 13:41:20.673400: I tensorflow/compiler/xla/stream_executor/cuda/cuda_gpu_executor.cc:995] successful NUMA node read from SysFS had negative value (-1), but there must be at least one NUMA node, so returning NUMA node zero. See more at https://github.com/torvalds/linux/blob/v6.0/Documentation/ABI/testing/sysfs-bus-pci#L344-L355\n",
      "2023-08-27 13:41:20.673536: I tensorflow/compiler/xla/stream_executor/cuda/cuda_gpu_executor.cc:995] successful NUMA node read from SysFS had negative value (-1), but there must be at least one NUMA node, so returning NUMA node zero. See more at https://github.com/torvalds/linux/blob/v6.0/Documentation/ABI/testing/sysfs-bus-pci#L344-L355\n",
      "2023-08-27 13:41:21.150467: I tensorflow/compiler/xla/stream_executor/cuda/cuda_gpu_executor.cc:995] successful NUMA node read from SysFS had negative value (-1), but there must be at least one NUMA node, so returning NUMA node zero. See more at https://github.com/torvalds/linux/blob/v6.0/Documentation/ABI/testing/sysfs-bus-pci#L344-L355\n",
      "2023-08-27 13:41:21.150629: I tensorflow/compiler/xla/stream_executor/cuda/cuda_gpu_executor.cc:995] successful NUMA node read from SysFS had negative value (-1), but there must be at least one NUMA node, so returning NUMA node zero. See more at https://github.com/torvalds/linux/blob/v6.0/Documentation/ABI/testing/sysfs-bus-pci#L344-L355\n",
      "2023-08-27 13:41:21.150746: I tensorflow/compiler/xla/stream_executor/cuda/cuda_gpu_executor.cc:995] successful NUMA node read from SysFS had negative value (-1), but there must be at least one NUMA node, so returning NUMA node zero. See more at https://github.com/torvalds/linux/blob/v6.0/Documentation/ABI/testing/sysfs-bus-pci#L344-L355\n",
      "2023-08-27 13:41:21.150846: I tensorflow/core/common_runtime/gpu/gpu_device.cc:1639] Created device /job:localhost/replica:0/task:0/device:GPU:0 with 6873 MB memory:  -> device: 0, name: NVIDIA GeForce GTX 1070, pci bus id: 0000:01:00.0, compute capability: 6.1\n"
     ]
    }
   ],
   "source": [
    "model = tf.keras.Sequential([\n",
    "    tf.keras.layers.LSTM(64, return_sequences=True, input_shape=(time_steps, X.shape[1])),\n",
    "    tf.keras.layers.LSTM(32, return_sequences=True),\n",
    "    tf.keras.layers.LSTM(16),\n",
    "    tf.keras.layers.Dense(1)\n",
    "])"
   ]
  },
  {
   "cell_type": "code",
   "execution_count": 10,
   "metadata": {},
   "outputs": [
    {
     "name": "stdout",
     "output_type": "stream",
     "text": [
      "Epoch 1/50\n"
     ]
    },
    {
     "name": "stderr",
     "output_type": "stream",
     "text": [
      "2023-08-27 13:41:38.845575: I tensorflow/compiler/xla/stream_executor/cuda/cuda_dnn.cc:432] Loaded cuDNN version 8904\n",
      "2023-08-27 13:41:39.024668: I tensorflow/compiler/xla/service/service.cc:168] XLA service 0x7f0f54025b20 initialized for platform CUDA (this does not guarantee that XLA will be used). Devices:\n",
      "2023-08-27 13:41:39.024694: I tensorflow/compiler/xla/service/service.cc:176]   StreamExecutor device (0): NVIDIA GeForce GTX 1070, Compute Capability 6.1\n",
      "2023-08-27 13:41:39.028948: I tensorflow/compiler/mlir/tensorflow/utils/dump_mlir_util.cc:255] disabling MLIR crash reproducer, set env var `MLIR_CRASH_REPRODUCER_DIRECTORY` to enable.\n",
      "2023-08-27 13:41:39.087220: I tensorflow/tsl/platform/default/subprocess.cc:304] Start cannot spawn child process: No such file or directory\n",
      "2023-08-27 13:41:39.135647: I ./tensorflow/compiler/jit/device_compiler.h:186] Compiled cluster using XLA!  This line is logged at most once for the lifetime of the process.\n"
     ]
    },
    {
     "name": "stdout",
     "output_type": "stream",
     "text": [
      "23/23 - 3s - loss: 0.5171 - 3s/epoch - 149ms/step\n",
      "Epoch 2/50\n",
      "23/23 - 0s - loss: 0.5078 - 96ms/epoch - 4ms/step\n",
      "Epoch 3/50\n",
      "23/23 - 0s - loss: 0.5186 - 91ms/epoch - 4ms/step\n",
      "Epoch 4/50\n",
      "23/23 - 0s - loss: 0.5098 - 92ms/epoch - 4ms/step\n",
      "Epoch 5/50\n",
      "23/23 - 0s - loss: 0.5141 - 124ms/epoch - 5ms/step\n",
      "Epoch 6/50\n",
      "23/23 - 0s - loss: 0.4962 - 93ms/epoch - 4ms/step\n",
      "Epoch 7/50\n",
      "23/23 - 0s - loss: 0.4782 - 90ms/epoch - 4ms/step\n",
      "Epoch 8/50\n",
      "23/23 - 0s - loss: 0.4946 - 95ms/epoch - 4ms/step\n",
      "Epoch 9/50\n",
      "23/23 - 0s - loss: 0.4743 - 95ms/epoch - 4ms/step\n",
      "Epoch 10/50\n",
      "23/23 - 0s - loss: 0.4640 - 91ms/epoch - 4ms/step\n",
      "Epoch 11/50\n",
      "23/23 - 0s - loss: 0.4580 - 90ms/epoch - 4ms/step\n",
      "Epoch 12/50\n",
      "23/23 - 0s - loss: 0.4526 - 97ms/epoch - 4ms/step\n",
      "Epoch 13/50\n",
      "23/23 - 0s - loss: 0.4427 - 95ms/epoch - 4ms/step\n",
      "Epoch 14/50\n",
      "23/23 - 0s - loss: 0.4311 - 93ms/epoch - 4ms/step\n",
      "Epoch 15/50\n",
      "23/23 - 0s - loss: 0.4439 - 96ms/epoch - 4ms/step\n",
      "Epoch 16/50\n",
      "23/23 - 0s - loss: 0.4440 - 98ms/epoch - 4ms/step\n",
      "Epoch 17/50\n",
      "23/23 - 0s - loss: 0.4213 - 96ms/epoch - 4ms/step\n",
      "Epoch 18/50\n",
      "23/23 - 0s - loss: 0.4176 - 91ms/epoch - 4ms/step\n",
      "Epoch 19/50\n",
      "23/23 - 0s - loss: 0.4205 - 88ms/epoch - 4ms/step\n",
      "Epoch 20/50\n",
      "23/23 - 0s - loss: 0.4142 - 89ms/epoch - 4ms/step\n",
      "Epoch 21/50\n",
      "23/23 - 0s - loss: 0.4129 - 89ms/epoch - 4ms/step\n",
      "Epoch 22/50\n",
      "23/23 - 0s - loss: 0.3878 - 90ms/epoch - 4ms/step\n",
      "Epoch 23/50\n",
      "23/23 - 0s - loss: 0.3771 - 91ms/epoch - 4ms/step\n",
      "Epoch 24/50\n",
      "23/23 - 0s - loss: 0.3652 - 89ms/epoch - 4ms/step\n",
      "Epoch 25/50\n",
      "23/23 - 0s - loss: 0.3618 - 87ms/epoch - 4ms/step\n",
      "Epoch 26/50\n",
      "23/23 - 0s - loss: 0.3147 - 89ms/epoch - 4ms/step\n",
      "Epoch 27/50\n",
      "23/23 - 0s - loss: 0.4025 - 91ms/epoch - 4ms/step\n",
      "Epoch 28/50\n",
      "23/23 - 0s - loss: 0.3245 - 90ms/epoch - 4ms/step\n",
      "Epoch 29/50\n",
      "23/23 - 0s - loss: 0.2592 - 87ms/epoch - 4ms/step\n",
      "Epoch 30/50\n",
      "23/23 - 0s - loss: 0.2797 - 87ms/epoch - 4ms/step\n",
      "Epoch 31/50\n",
      "23/23 - 0s - loss: 0.2293 - 89ms/epoch - 4ms/step\n",
      "Epoch 32/50\n",
      "23/23 - 0s - loss: 0.2502 - 89ms/epoch - 4ms/step\n",
      "Epoch 33/50\n",
      "23/23 - 0s - loss: 0.2192 - 90ms/epoch - 4ms/step\n",
      "Epoch 34/50\n",
      "23/23 - 0s - loss: 0.2012 - 90ms/epoch - 4ms/step\n",
      "Epoch 35/50\n",
      "23/23 - 0s - loss: 0.1814 - 87ms/epoch - 4ms/step\n",
      "Epoch 36/50\n",
      "23/23 - 0s - loss: 0.1612 - 89ms/epoch - 4ms/step\n",
      "Epoch 37/50\n",
      "23/23 - 0s - loss: 0.1537 - 92ms/epoch - 4ms/step\n",
      "Epoch 38/50\n",
      "23/23 - 0s - loss: 0.1438 - 89ms/epoch - 4ms/step\n",
      "Epoch 39/50\n",
      "23/23 - 0s - loss: 0.1431 - 87ms/epoch - 4ms/step\n",
      "Epoch 40/50\n",
      "23/23 - 0s - loss: 0.1246 - 89ms/epoch - 4ms/step\n",
      "Epoch 41/50\n",
      "23/23 - 0s - loss: 0.1080 - 89ms/epoch - 4ms/step\n",
      "Epoch 42/50\n",
      "23/23 - 0s - loss: 0.1262 - 87ms/epoch - 4ms/step\n",
      "Epoch 43/50\n",
      "23/23 - 0s - loss: 0.0945 - 88ms/epoch - 4ms/step\n",
      "Epoch 44/50\n",
      "23/23 - 0s - loss: 0.0735 - 92ms/epoch - 4ms/step\n",
      "Epoch 45/50\n",
      "23/23 - 0s - loss: 0.0757 - 92ms/epoch - 4ms/step\n",
      "Epoch 46/50\n",
      "23/23 - 0s - loss: 0.0732 - 89ms/epoch - 4ms/step\n",
      "Epoch 47/50\n",
      "23/23 - 0s - loss: 0.0650 - 92ms/epoch - 4ms/step\n",
      "Epoch 48/50\n",
      "23/23 - 0s - loss: 0.0697 - 90ms/epoch - 4ms/step\n",
      "Epoch 49/50\n",
      "23/23 - 0s - loss: 0.0584 - 88ms/epoch - 4ms/step\n",
      "Epoch 50/50\n",
      "23/23 - 0s - loss: 0.0566 - 89ms/epoch - 4ms/step\n"
     ]
    },
    {
     "data": {
      "text/plain": [
       "<keras.src.callbacks.History at 0x7f1020254370>"
      ]
     },
     "execution_count": 10,
     "metadata": {},
     "output_type": "execute_result"
    }
   ],
   "source": [
    "# 모델 컴파일\n",
    "model.compile(optimizer='adam', loss='mean_squared_error')\n",
    "\n",
    "# 모델 훈련\n",
    "model.fit(X_3d, y_train, epochs=50, batch_size=16, verbose=2)"
   ]
  },
  {
   "cell_type": "code",
   "execution_count": 11,
   "metadata": {},
   "outputs": [],
   "source": [
    "num_future_days = 31\n",
    "future_data = np.random.randn(num_future_days, time_steps)\n",
    "future_df = pd.DataFrame(future_data, columns=[f'feature_{i}' for i in range(time_steps)])\n",
    "future_df.index = pd.date_range('2022-01-01', periods=num_future_days)"
   ]
  },
  {
   "cell_type": "code",
   "execution_count": 12,
   "metadata": {},
   "outputs": [],
   "source": [
    "scaled_future_data = scaler.transform(future_df)\n",
    "future_df.iloc[:, :] = scaled_future_data"
   ]
  },
  {
   "cell_type": "code",
   "execution_count": 14,
   "metadata": {},
   "outputs": [],
   "source": [
    "future_df = pd.concat([X.tail(time_steps-1), future_df])"
   ]
  },
  {
   "cell_type": "code",
   "execution_count": 17,
   "metadata": {},
   "outputs": [
    {
     "name": "stdout",
     "output_type": "stream",
     "text": [
      "1/1 [==============================] - 0s 19ms/step\n"
     ]
    },
    {
     "name": "stdout",
     "output_type": "stream",
     "text": [
      "            predicted_target\n",
      "2022-01-01         -1.249488\n",
      "2022-01-02         -1.595428\n",
      "2022-01-03          0.077462\n",
      "2022-01-04          0.674467\n",
      "2022-01-05         -0.777405\n",
      "2022-01-06         -1.635720\n",
      "2022-01-07         -0.307455\n",
      "2022-01-08          1.153783\n",
      "2022-01-09          0.638511\n",
      "2022-01-10          0.907252\n",
      "2022-01-11          1.203158\n",
      "2022-01-12          1.083635\n",
      "2022-01-13          1.160434\n",
      "2022-01-14          0.982527\n",
      "2022-01-15          1.264416\n",
      "2022-01-16          1.952493\n",
      "2022-01-17          1.470261\n",
      "2022-01-18         -0.067756\n",
      "2022-01-19         -0.732403\n",
      "2022-01-20         -2.000589\n",
      "2022-01-21         -0.959475\n",
      "2022-01-22          0.424397\n",
      "2022-01-23          1.062350\n",
      "2022-01-24         -0.366932\n",
      "2022-01-25         -1.292703\n",
      "2022-01-26         -1.911557\n",
      "2022-01-27         -2.603988\n",
      "2022-01-28         -0.081385\n",
      "2022-01-29          1.006905\n",
      "2022-01-30          1.427867\n",
      "2022-01-31          2.223300\n"
     ]
    },
    {
     "ename": "",
     "evalue": "",
     "output_type": "error",
     "traceback": [
      "\u001b[1;31mThe Kernel crashed while executing code in the the current cell or a previous cell. Please review the code in the cell(s) to identify a possible cause of the failure. Click <a href='https://aka.ms/vscodeJupyterKernelCrash'>here</a> for more info. View Jupyter <a href='command:jupyter.viewOutput'>log</a> for further details."
     ]
    }
   ],
   "source": [
    "# 입력 데이터 형식 변환 (3D 배열)\n",
    "X_future_3d = np.array([future_df.iloc[i:i+time_steps].values for i in range(len(future_df) - time_steps + 1)])\n",
    "\n",
    "# 모델을 사용하여 22년 1월의 타겟 예측\n",
    "predicted_targets = model.predict(X_future_3d)\n",
    "\n",
    "# 예측 결과를 역정규화하여 실제 값으로 변환\n",
    "predicted_targets = scaler.inverse_transform(np.concatenate([X_future_3d[:, -1, :-1], predicted_targets], axis=1))[:, -1]\n",
    "\n",
    "# 예측 결과 출력\n",
    "predicted_df = pd.DataFrame(predicted_targets, columns=['predicted_target'], index=future_df.index[(time_steps-1):])\n",
    "print(predicted_df)"
   ]
  },
  {
   "cell_type": "code",
   "execution_count": null,
   "metadata": {},
   "outputs": [],
   "source": []
  }
 ],
 "metadata": {
  "kernelspec": {
   "display_name": "t213p310",
   "language": "python",
   "name": "python3"
  },
  "language_info": {
   "codemirror_mode": {
    "name": "ipython",
    "version": 3
   },
   "file_extension": ".py",
   "mimetype": "text/x-python",
   "name": "python",
   "nbconvert_exporter": "python",
   "pygments_lexer": "ipython3",
   "version": "3.10.12"
  },
  "orig_nbformat": 4
 },
 "nbformat": 4,
 "nbformat_minor": 2
}
