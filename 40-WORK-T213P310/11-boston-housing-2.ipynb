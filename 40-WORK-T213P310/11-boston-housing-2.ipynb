{
 "cells": [
  {
   "cell_type": "markdown",
   "metadata": {},
   "source": [
    "#### 라이브러리 불러오기"
   ]
  },
  {
   "cell_type": "code",
   "execution_count": 9,
   "metadata": {},
   "outputs": [],
   "source": [
    "import os\n",
    "import re\n",
    "import platform\n",
    "\n",
    "import numpy as np\n",
    "import pandas as pd\n",
    "import tensorflow as tf\n",
    "\n",
    "from sklearn.linear_model import Lasso\n",
    "from sklearn.tree import DecisionTreeRegressor\n",
    "from tensorflow.keras.layers import Dense\n",
    "\n",
    "from sklearn.model_selection import train_test_split\n",
    "\n",
    "from sklearn.metrics import mean_absolute_error\n",
    "from sklearn.metrics import mean_squared_error\n",
    "from sklearn.metrics import mean_absolute_percentage_error\n",
    "from sklearn.metrics import r2_score\n",
    "\n",
    "import matplotlib.pyplot as plt"
   ]
  },
  {
   "cell_type": "markdown",
   "metadata": {},
   "source": [
    "#### 설정"
   ]
  },
  {
   "cell_type": "code",
   "execution_count": 10,
   "metadata": {},
   "outputs": [],
   "source": [
    "SEED = 1234"
   ]
  },
  {
   "cell_type": "markdown",
   "metadata": {},
   "source": [
    "#### 모델 평가함수 생성"
   ]
  },
  {
   "cell_type": "code",
   "execution_count": 11,
   "metadata": {},
   "outputs": [],
   "source": [
    "# 예측대상(test_y)값이 0인 경우를 대비해, \n",
    "# 0이 아닌 아주 작은수를 더해 MAPE값을 구함\n",
    "epsilon = 1e-10\n",
    "\n",
    "def user_mape(y_test, y_pred):\n",
    "    p_err = (1 - (np.abs(y_test-y_pred) / (y_test+epsilon))) * 100\n",
    "    return np.mean(p_err)\n",
    "\n",
    "def evaluation_func(y_test, y_pred, verbose=1):\n",
    "    mse, rmse, mae, r2score, mape, mape2 = 0, 0, 0, 0, 0, 0\n",
    "    mse = mean_squared_error(y_test, y_pred)\n",
    "    rmse = np.sqrt(mse)\n",
    "    mae = mean_absolute_error(y_test, y_pred)\n",
    "    r2score = r2_score(y_test, y_pred)\n",
    "    mape = mean_absolute_percentage_error(y_test, y_pred)\n",
    "    mape2 = user_mape(y_test, y_pred)\n",
    "    \n",
    "    if verbose != 0:\n",
    "        print(\n",
    "            f'MSE: {mse:.6f}, RMSE: {rmse:.6f}, '\n",
    "            f'MAE: {mae:.6f}, R2_SCORE: {r2score:.6f}, '\n",
    "            f'MAPE: {mape:.6f}, MAPE2: {mape2:.6f}'\n",
    "        )\n",
    "        \n",
    "    return mse, rmse, mae, mape, mape2"
   ]
  },
  {
   "cell_type": "markdown",
   "metadata": {},
   "source": [
    "#### 데이터 불러오기"
   ]
  },
  {
   "cell_type": "code",
   "execution_count": 12,
   "metadata": {},
   "outputs": [],
   "source": [
    "PATH_DATA = os.path.join(os.getcwd(), 'data')\n",
    "PATH_XLS = os.path.join(PATH_DATA, '11-boston-housing.xls')"
   ]
  },
  {
   "cell_type": "code",
   "execution_count": 13,
   "metadata": {},
   "outputs": [],
   "source": [
    "df_boston = pd.read_excel(PATH_XLS)"
   ]
  },
  {
   "cell_type": "markdown",
   "metadata": {},
   "source": [
    "#### 데이터 전처리"
   ]
  },
  {
   "cell_type": "code",
   "execution_count": 14,
   "metadata": {},
   "outputs": [
    {
     "data": {
      "text/plain": [
       "CRIM         0\n",
       "ZN           0\n",
       "INDUS        0\n",
       "CHAS         0\n",
       "NOX          0\n",
       "RM           0\n",
       "AGE          0\n",
       "DIS          0\n",
       "RAD          0\n",
       "TAX          0\n",
       "PTRATIO      0\n",
       "B            0\n",
       "LSTAT        0\n",
       "MEDV         0\n",
       "CAT. MEDV    0\n",
       "dtype: int64"
      ]
     },
     "execution_count": 14,
     "metadata": {},
     "output_type": "execute_result"
    }
   ],
   "source": [
    "df_boston.isna().sum()"
   ]
  },
  {
   "cell_type": "code",
   "execution_count": 15,
   "metadata": {},
   "outputs": [],
   "source": [
    "# 속성과 예측값 분류\n",
    "target_col = 'MEDV'\n",
    "df_X = df_boston.drop(target_col, axis=1)\n",
    "df_y = df_boston[target_col]\n",
    "\n",
    "X_train, X_test, y_train, y_test = \\\n",
    "    train_test_split(df_X, df_y, test_size=0.3, random_state=SEED)"
   ]
  },
  {
   "cell_type": "markdown",
   "metadata": {},
   "source": [
    "#### 모델링"
   ]
  },
  {
   "cell_type": "code",
   "execution_count": 16,
   "metadata": {},
   "outputs": [
    {
     "name": "stdout",
     "output_type": "stream",
     "text": [
      "MSE: 16.089737, RMSE: 4.011201, MAE: 2.903947, R2_SCORE: 0.825453, MAPE: 0.149169, MAPE2: 85.083054\n"
     ]
    }
   ],
   "source": [
    "# 특별한 처리없이 기본값으로 처리\n",
    "model_dtr = DecisionTreeRegressor().fit(X_train, y_train)\n",
    "pred_dtr = model_dtr.predict(X_test)\n",
    "_ = evaluation_func(y_test, pred_dtr)"
   ]
  },
  {
   "cell_type": "code",
   "execution_count": null,
   "metadata": {},
   "outputs": [],
   "source": []
  }
 ],
 "metadata": {
  "kernelspec": {
   "display_name": "t213p310",
   "language": "python",
   "name": "python3"
  },
  "language_info": {
   "codemirror_mode": {
    "name": "ipython",
    "version": 3
   },
   "file_extension": ".py",
   "mimetype": "text/x-python",
   "name": "python",
   "nbconvert_exporter": "python",
   "pygments_lexer": "ipython3",
   "version": "3.10.12"
  },
  "orig_nbformat": 4
 },
 "nbformat": 4,
 "nbformat_minor": 2
}
