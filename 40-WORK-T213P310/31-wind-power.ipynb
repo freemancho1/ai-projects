{
 "cells": [
  {
   "cell_type": "markdown",
   "metadata": {},
   "source": [
    "#### 라이브러리 불러오기"
   ]
  },
  {
   "cell_type": "code",
   "execution_count": 1,
   "metadata": {},
   "outputs": [
    {
     "name": "stderr",
     "output_type": "stream",
     "text": [
      "2023-08-25 15:34:08.527564: I tensorflow/core/platform/cpu_feature_guard.cc:182] This TensorFlow binary is optimized to use available CPU instructions in performance-critical operations.\n",
      "To enable the following instructions: AVX2 AVX512F FMA, in other operations, rebuild TensorFlow with the appropriate compiler flags.\n"
     ]
    }
   ],
   "source": [
    "import os\n",
    "import platform\n",
    "\n",
    "import numpy as np\n",
    "import pandas as pd\n",
    "import tensorflow as tf\n",
    "from tensorflow.keras.layers import Dense\n",
    "\n",
    "import matplotlib.pyplot as plt\n",
    "import matplotlib.font_manager as fm\n",
    "\n",
    "from sklearn.model_selection import train_test_split\n",
    "\n",
    "# 회귀모델 평가 지표\n",
    "from sklearn.metrics import mean_squared_error\n",
    "# RMSE(Root Mean Squared Error) = np.sqrt(mse)\n",
    "from sklearn.metrics import mean_absolute_error\n",
    "from sklearn.metrics import mean_absolute_percentage_error\n",
    "from sklearn.metrics import r2_score\n",
    "\n",
    "from sklearn.tree import DecisionTreeRegressor"
   ]
  },
  {
   "cell_type": "markdown",
   "metadata": {},
   "source": [
    "#### 설정"
   ]
  },
  {
   "cell_type": "code",
   "execution_count": 2,
   "metadata": {},
   "outputs": [],
   "source": [
    "# Check OS\n",
    "os_name = platform.system()\n",
    "\n",
    "# font_path는 사용할 폰트에 따라 변경하면 됨\n",
    "font_path = 'c:/Windows/Fonts/malgun.ttf' if os_name=='Windows' \\\n",
    "    else '/usr/share/fonts/truetype/nanum/NanumGothic.ttf'\n",
    "font_family = fm.FontProperties(fname=font_path).get_name()\n",
    "\n",
    "# font 설정\n",
    "plt.rcParams['font.family'] = font_family\n",
    "\n",
    "# 그래프의 x,y축 레이블에 마이너스 값이 있을 때,\n",
    "# 우리가 알아보기 쉽게 '-'로 표시되게 하는 옵션\n",
    "plt.rcParams['axes.unicode_minus'] = False "
   ]
  },
  {
   "cell_type": "code",
   "execution_count": 3,
   "metadata": {},
   "outputs": [],
   "source": [
    "# 폰트캐시까지 삭제 후 한글폰트가 사용될 수 있도록 캐시 삭제\n",
    "# --> 이렇게 해야 비로소 한글이 표현되는 경우가 많음\n",
    "plt.rcParams['font.family'] = 'sans-serif'\n",
    "plt.rcParams['font.sans-serif'] = [font_family]"
   ]
  },
  {
   "cell_type": "markdown",
   "metadata": {},
   "source": [
    "#### 평가함수 생성"
   ]
  },
  {
   "cell_type": "code",
   "execution_count": 4,
   "metadata": {},
   "outputs": [],
   "source": [
    "def evaluation_func(test_y, pred_y, verbose=1):\n",
    "    mse = mean_squared_error(test_y, pred_y)\n",
    "    rmse = np.sqrt(mse)\n",
    "    mae = mean_absolute_error(test_y, pred_y)\n",
    "    mape = mean_absolute_percentage_error(test_y, pred_y)\n",
    "    \n",
    "    # 예측값이 0인 경우 대비 아주 작은값 설정\n",
    "    epsilon = 1e-10\n",
    "    abs_errors = np.abs(test_y, pred_y)\n",
    "    percent_errors = (abs_errors / (test_y+epsilon)) * 100\n",
    "    mape2 = np.mean(percent_errors)\n",
    "    \n",
    "    if verbose != 0:\n",
    "        print(\n",
    "            f'MSE: {mse:.6f}, RMSE: {rmse:.6f}, '\n",
    "            f'MAE: {mae:.6f}, '\n",
    "            f'MAPE: {mape:.6f}, MAPE2: {mape2:.6f}'\n",
    "        )\n",
    "        \n",
    "    return mse, rmse, mae, mape, mape2"
   ]
  },
  {
   "cell_type": "code",
   "execution_count": 40,
   "metadata": {},
   "outputs": [],
   "source": [
    "epsilon = 1e-10\n",
    "test_y = test_y + epsilon"
   ]
  },
  {
   "cell_type": "code",
   "execution_count": 46,
   "metadata": {},
   "outputs": [],
   "source": [
    "abs_error = np.abs(test_y, pred_mlps)"
   ]
  },
  {
   "cell_type": "code",
   "execution_count": 48,
   "metadata": {},
   "outputs": [],
   "source": [
    "percent_error = (1 - (abs_error / test_y)) * 100"
   ]
  },
  {
   "cell_type": "code",
   "execution_count": 49,
   "metadata": {},
   "outputs": [
    {
     "data": {
      "text/plain": [
       "0.0"
      ]
     },
     "execution_count": 49,
     "metadata": {},
     "output_type": "execute_result"
    }
   ],
   "source": [
    "np.mean(percent_error)"
   ]
  },
  {
   "cell_type": "code",
   "execution_count": 35,
   "metadata": {},
   "outputs": [
    {
     "data": {
      "text/plain": [
       "tm\n",
       "2021-09-09    0.0\n",
       "2021-09-24    0.0\n",
       "Name: 발전량(kWh), dtype: float64"
      ]
     },
     "execution_count": 35,
     "metadata": {},
     "output_type": "execute_result"
    }
   ],
   "source": [
    "zero_idx = percent_error[percent_error==0].index\n",
    "test_y[zero_idx]"
   ]
  },
  {
   "cell_type": "code",
   "execution_count": 39,
   "metadata": {},
   "outputs": [
    {
     "data": {
      "text/plain": [
       "tm\n",
       "2021-09-09    0.0\n",
       "2021-09-24    0.0\n",
       "dtype: float64"
      ]
     },
     "execution_count": 39,
     "metadata": {},
     "output_type": "execute_result"
    }
   ],
   "source": [
    "pred_mlps[zero_idx]"
   ]
  },
  {
   "cell_type": "markdown",
   "metadata": {},
   "source": [
    "#### 데이터 불러오기"
   ]
  },
  {
   "cell_type": "code",
   "execution_count": 5,
   "metadata": {},
   "outputs": [],
   "source": [
    "DATA_PATH       = os.path.join(os.getcwd(), 'data', '31-wind-power')\n",
    "POWER_PATH      = os.path.join(DATA_PATH, 'train_energy.csv') \n",
    "WEATHER_PATH    = os.path.join(DATA_PATH, 'train_weather.csv')\n",
    "TEST_PATH       = os.path.join(DATA_PATH, 'test.csv')"
   ]
  },
  {
   "cell_type": "code",
   "execution_count": 6,
   "metadata": {},
   "outputs": [],
   "source": [
    "power_df = pd.read_csv(POWER_PATH, encoding='cp949')\n",
    "weather_df = pd.read_csv(WEATHER_PATH)\n",
    "test_df = pd.read_csv(TEST_PATH)"
   ]
  },
  {
   "cell_type": "markdown",
   "metadata": {},
   "source": [
    "#### 데이터 확인"
   ]
  },
  {
   "cell_type": "code",
   "execution_count": 7,
   "metadata": {},
   "outputs": [
    {
     "data": {
      "text/plain": [
       "('2019-01-01',\n",
       " '2021-09-24',\n",
       " '2019-01-01',\n",
       " '2021-09-24',\n",
       " '2021-06-17',\n",
       " '2021-09-24')"
      ]
     },
     "execution_count": 7,
     "metadata": {},
     "output_type": "execute_result"
    }
   ],
   "source": [
    "# merge할 power와 weather는 최소값과 최대값이 동일해 문제없는데,\n",
    "# test 데이터를 포함하고 있기 때문에, 전처리 과정에서 빼고 테스트를 해야할듯함.\n",
    "power_df.일자.min(), power_df.일자.max(), \\\n",
    "weather_df.tm.min(), weather_df.tm.max(), \\\n",
    "test_df.tm.min(), test_df.tm.max()"
   ]
  },
  {
   "cell_type": "markdown",
   "metadata": {},
   "source": [
    "#### 데이터 전처리"
   ]
  },
  {
   "cell_type": "markdown",
   "metadata": {},
   "source": [
    "##### 일자 데이터 타입 변경: object -> datetime\n",
    "key로 사용해야 하고, 또 다양한 일자정보를 활용하기 위해 변환"
   ]
  },
  {
   "cell_type": "code",
   "execution_count": 8,
   "metadata": {},
   "outputs": [],
   "source": [
    "power_df['일자'] = pd.to_datetime(power_df['일자'])\n",
    "weather_df['tm'] = pd.to_datetime(weather_df['tm'])\n",
    "test_df['tm'] = pd.to_datetime(test_df['tm'])"
   ]
  },
  {
   "cell_type": "markdown",
   "metadata": {},
   "source": [
    "##### Merge: weather <- power"
   ]
  },
  {
   "cell_type": "code",
   "execution_count": 9,
   "metadata": {},
   "outputs": [],
   "source": [
    "# inner: weather에 없는 power의 row는 삭제\n",
    "train_df = pd.merge(weather_df, power_df, left_on='tm', right_on='일자', how='inner')"
   ]
  },
  {
   "cell_type": "markdown",
   "metadata": {},
   "source": [
    "##### 중복 일자데이터 제거"
   ]
  },
  {
   "cell_type": "code",
   "execution_count": 10,
   "metadata": {},
   "outputs": [],
   "source": [
    "# 중복된 일자정보 제거\n",
    "# 아래와 같이 할 수 있지만 아직 object type로 남아있는 데이터가 있어 눈으로 확인\n",
    "# train_dt_cols = train_df.select_dtypes(include=['datetime64']) \n",
    "\n",
    "# train_dt_cols = ['tm', '일자']\n",
    "# test_dt_cols = ['tm', '일자_tm', '일자']\n",
    "\n",
    "# key로 사용할 'tm'을 제외하고 모두 삭제\n",
    "train_df.drop('일자', axis=1, inplace=True)\n",
    "test_df.drop(columns=['일자', '일자_tm'], axis=1, inplace=True)"
   ]
  },
  {
   "cell_type": "markdown",
   "metadata": {},
   "source": [
    "##### test에 있는 컬럼만 남기고 제거\n",
    "학습에 필요한 데이터는 테스트에서 입력으로 제공할 수 있는 데이터만 필요함"
   ]
  },
  {
   "cell_type": "code",
   "execution_count": 11,
   "metadata": {},
   "outputs": [],
   "source": [
    "train_df = train_df[test_df.columns]"
   ]
  },
  {
   "cell_type": "markdown",
   "metadata": {},
   "source": [
    "##### 컬럼의 고유값이 1개인 컬럼 제거"
   ]
  },
  {
   "cell_type": "code",
   "execution_count": 12,
   "metadata": {},
   "outputs": [],
   "source": [
    "# 이 경우 트레인에는 유니크한 값이 1개뿐이지만,\n",
    "# 테스트에서는 유니크한 값이 2개 이상인 컬럼도 제거,\n",
    "# --> 트레인 시 모델에 영향없음 = 테스트에도 영향없음\n",
    "\n",
    "train_n_unique_per_column = train_df.nunique()\n",
    "# 이건 그냥 확인차\n",
    "test_n_unique_per_column = test_df.nunique()"
   ]
  },
  {
   "cell_type": "code",
   "execution_count": 13,
   "metadata": {},
   "outputs": [
    {
     "data": {
      "text/plain": [
       "Index(['stnId', 'stnNm', '발전기명(WTG)', '발전기(Serial)', '발전용량(kW)', '위치'], dtype='object')"
      ]
     },
     "execution_count": 13,
     "metadata": {},
     "output_type": "execute_result"
    }
   ],
   "source": [
    "train_n_unique_per_column[train_n_unique_per_column == 1].index"
   ]
  },
  {
   "cell_type": "code",
   "execution_count": 14,
   "metadata": {},
   "outputs": [
    {
     "data": {
      "text/plain": [
       "Index(['stnId', 'stnNm', '발전기명(WTG)', '발전기(Serial)', '발전용량(kW)', '위치'], dtype='object')"
      ]
     },
     "execution_count": 14,
     "metadata": {},
     "output_type": "execute_result"
    }
   ],
   "source": [
    "test_n_unique_per_column[test_n_unique_per_column == 1].index"
   ]
  },
  {
   "cell_type": "code",
   "execution_count": 15,
   "metadata": {},
   "outputs": [],
   "source": [
    "# 제거\n",
    "unique_cols = train_df.columns[train_df.nunique() == 1]\n",
    "train_df.drop(columns=unique_cols, axis=1, inplace=True)\n",
    "test_df.drop(columns=unique_cols, axis=1, inplace=True)"
   ]
  },
  {
   "cell_type": "markdown",
   "metadata": {},
   "source": [
    "##### Profile Report"
   ]
  },
  {
   "cell_type": "code",
   "execution_count": 16,
   "metadata": {},
   "outputs": [],
   "source": [
    "# 이 셀 자체를 가급적 사용하지 말자\n",
    "\n",
    "# 시간이 많이 소요되기 때문에 가급적 한번만 하고,\n",
    "# profile.to_notebook_iframe() -> 이 명령은 사용 금지(ipynb파일 크기가 늘어남)\n",
    "# profile = ProfileReport(train_df)\n",
    "# profile.to_file(os.path.join(DATA_PATH, 'train_profile.html'))"
   ]
  },
  {
   "cell_type": "markdown",
   "metadata": {},
   "source": [
    "##### 인덱스 변경(날짜로)"
   ]
  },
  {
   "cell_type": "code",
   "execution_count": 17,
   "metadata": {},
   "outputs": [],
   "source": [
    "# 이미 위에서 했으면 더 편했을 수도\n",
    "train_df = train_df.set_index('tm')\n",
    "test_df = test_df.set_index('tm')"
   ]
  },
  {
   "cell_type": "markdown",
   "metadata": {},
   "source": [
    "##### 결측치 처리"
   ]
  },
  {
   "cell_type": "code",
   "execution_count": 18,
   "metadata": {},
   "outputs": [
    {
     "data": {
      "text/plain": [
       "avgLmac           25\n",
       "sumSmlEv          17\n",
       "sumLrgEv          17\n",
       "maxWd             12\n",
       "avgCm30Te         10\n",
       "avgCm20Te         10\n",
       "avgCm10Te         10\n",
       "avgCm5Te          10\n",
       "avgTa              5\n",
       "avgRhm             5\n",
       "sumGsr             5\n",
       "hr1MaxIcsr         5\n",
       "hr1MaxIcsrHrmt     5\n",
       "avgPa              5\n",
       "avgPv              5\n",
       "avgPs              5\n",
       "avgTd              5\n",
       "avgTca             3\n",
       "sumSsHr            2\n",
       "ssDur              1\n",
       "maxTa              1\n",
       "maxTaHrmt          0\n",
       "minTaHrmt          0\n",
       "발전량(kWh)           0\n",
       "최저풍속(m-s)          0\n",
       "minRhmHrmt         0\n",
       "maxInsWsWd         0\n",
       "평균풍속(m-s)          0\n",
       "최대풍속(m-s)          0\n",
       "최소발전량(kW)          0\n",
       "평균발전량(kW)          0\n",
       "최대발전량(kW)          0\n",
       "이용률(백분율)           0\n",
       "maxInsWs           0\n",
       "avgTs              0\n",
       "maxInsWsHrmt       0\n",
       "minTg              0\n",
       "minRhm             0\n",
       "maxWs              0\n",
       "maxWsWd            0\n",
       "maxWsHrmt          0\n",
       "avgWs              0\n",
       "minTa              0\n",
       "minPsHrmt          0\n",
       "minPs              0\n",
       "maxPsHrmt          0\n",
       "maxPs              0\n",
       "hr24SumRws         0\n",
       "가동율(백분율)           0\n",
       "dtype: int64"
      ]
     },
     "execution_count": 18,
     "metadata": {},
     "output_type": "execute_result"
    }
   ],
   "source": [
    "train_df.isna().sum().sort_values(ascending=False)"
   ]
  },
  {
   "cell_type": "code",
   "execution_count": 19,
   "metadata": {},
   "outputs": [],
   "source": [
    "# NaN 처리\n",
    "# 인덱스가 시계열 컬럼일 경우, 시계열성을 반영해 중간값 지정\n",
    "train_df = train_df.interpolate()"
   ]
  },
  {
   "cell_type": "code",
   "execution_count": 20,
   "metadata": {},
   "outputs": [
    {
     "data": {
      "text/plain": [
       "avgTa             0\n",
       "ssDur             0\n",
       "hr1MaxIcsrHrmt    0\n",
       "hr1MaxIcsr        0\n",
       "sumGsr            0\n",
       "avgTca            0\n",
       "avgLmac           0\n",
       "avgTs             0\n",
       "minTg             0\n",
       "avgCm5Te          0\n",
       "avgCm10Te         0\n",
       "avgCm20Te         0\n",
       "avgCm30Te         0\n",
       "sumLrgEv          0\n",
       "sumSmlEv          0\n",
       "발전량(kWh)          0\n",
       "최저풍속(m-s)         0\n",
       "평균풍속(m-s)         0\n",
       "최대풍속(m-s)         0\n",
       "최소발전량(kW)         0\n",
       "평균발전량(kW)         0\n",
       "최대발전량(kW)         0\n",
       "이용률(백분율)          0\n",
       "sumSsHr           0\n",
       "avgPs             0\n",
       "minTa             0\n",
       "minPsHrmt         0\n",
       "minTaHrmt         0\n",
       "maxTa             0\n",
       "maxTaHrmt         0\n",
       "maxInsWs          0\n",
       "maxInsWsWd        0\n",
       "maxInsWsHrmt      0\n",
       "maxWs             0\n",
       "maxWsWd           0\n",
       "maxWsHrmt         0\n",
       "avgWs             0\n",
       "hr24SumRws        0\n",
       "maxWd             0\n",
       "avgTd             0\n",
       "minRhm            0\n",
       "minRhmHrmt        0\n",
       "avgRhm            0\n",
       "avgPv             0\n",
       "avgPa             0\n",
       "maxPs             0\n",
       "maxPsHrmt         0\n",
       "minPs             0\n",
       "가동율(백분율)          0\n",
       "dtype: int64"
      ]
     },
     "execution_count": 20,
     "metadata": {},
     "output_type": "execute_result"
    }
   ],
   "source": [
    "train_df.isna().sum().sort_values(ascending=False)"
   ]
  },
  {
   "cell_type": "markdown",
   "metadata": {},
   "source": [
    "##### 타겟 컬럼 분류"
   ]
  },
  {
   "cell_type": "code",
   "execution_count": 21,
   "metadata": {},
   "outputs": [],
   "source": [
    "target_col = '발전량(kWh)'\n",
    "train_x = train_df.drop(target_col, axis=1)\n",
    "train_y = train_df[target_col]\n",
    "test_x = test_df.drop(target_col, axis=1)\n",
    "test_y = test_df[target_col]"
   ]
  },
  {
   "cell_type": "markdown",
   "metadata": {},
   "source": [
    "#### 기본 모델링\n",
    "NaN처리만 한 데이터(나중에 정규화 + 시계열 속성 추가해 다시 모델링함)"
   ]
  },
  {
   "cell_type": "code",
   "execution_count": 22,
   "metadata": {},
   "outputs": [
    {
     "name": "stdout",
     "output_type": "stream",
     "text": [
      "MSE: 0.000000, RMSE: 0.000000, MAE: 0.000000, MAPE: 0.000000, MAPE2: 98.000000\n"
     ]
    }
   ],
   "source": [
    "model_dtr = DecisionTreeRegressor().fit(train_x, train_y)\n",
    "pred_dtr = model_dtr.predict(test_x)\n",
    "_ = evaluation_func(test_y, pred_dtr)"
   ]
  },
  {
   "cell_type": "markdown",
   "metadata": {},
   "source": [
    "* CNN"
   ]
  },
  {
   "cell_type": "code",
   "execution_count": 23,
   "metadata": {},
   "outputs": [
    {
     "name": "stderr",
     "output_type": "stream",
     "text": [
      "2023-08-25 15:34:13.217605: I tensorflow/core/common_runtime/gpu/gpu_device.cc:1635] Created device /job:localhost/replica:0/task:0/device:GPU:0 with 22787 MB memory:  -> device: 0, name: NVIDIA TITAN RTX, pci bus id: 0000:5e:00.0, compute capability: 7.5\n",
      "2023-08-25 15:34:13.218421: I tensorflow/core/common_runtime/gpu/gpu_device.cc:1635] Created device /job:localhost/replica:0/task:0/device:GPU:1 with 22272 MB memory:  -> device: 1, name: NVIDIA TITAN RTX, pci bus id: 0000:af:00.0, compute capability: 7.5\n"
     ]
    },
    {
     "name": "stdout",
     "output_type": "stream",
     "text": [
      "Model: \"sequential\"\n",
      "_________________________________________________________________\n",
      " Layer (type)                Output Shape              Param #   \n",
      "=================================================================\n",
      " dense (Dense)               (None, 128)               6272      \n",
      "                                                                 \n",
      " dense_1 (Dense)             (None, 128)               16512     \n",
      "                                                                 \n",
      " dense_2 (Dense)             (None, 128)               16512     \n",
      "                                                                 \n",
      " dense_3 (Dense)             (None, 1)                 129       \n",
      "                                                                 \n",
      "=================================================================\n",
      "Total params: 39,425\n",
      "Trainable params: 39,425\n",
      "Non-trainable params: 0\n",
      "_________________________________________________________________\n"
     ]
    }
   ],
   "source": [
    "# 모델생성\n",
    "model_mlp = tf.keras.Sequential([\n",
    "    Dense(128, activation='relu', input_shape=(train_x.shape[1:])),\n",
    "    Dense(128, activation='relu'),\n",
    "    Dense(128, activation='relu'),\n",
    "    # 회귀모델에서는 출력층에 활성화함수를 사용하지 않음\n",
    "    Dense(1)\n",
    "])\n",
    "model_mlp.compile(\n",
    "    optimizer='adam',\n",
    "    loss='mean_squared_error',\n",
    "    metrics=['mae', 'mape']\n",
    ")\n",
    "model_mlp.summary()"
   ]
  },
  {
   "cell_type": "code",
   "execution_count": 24,
   "metadata": {},
   "outputs": [
    {
     "name": "stderr",
     "output_type": "stream",
     "text": [
      "2023-08-25 15:34:15.560594: I tensorflow/compiler/xla/service/service.cc:169] XLA service 0x7fc54801c1c0 initialized for platform CUDA (this does not guarantee that XLA will be used). Devices:\n",
      "2023-08-25 15:34:15.560670: I tensorflow/compiler/xla/service/service.cc:177]   StreamExecutor device (0): NVIDIA TITAN RTX, Compute Capability 7.5\n",
      "2023-08-25 15:34:15.560695: I tensorflow/compiler/xla/service/service.cc:177]   StreamExecutor device (1): NVIDIA TITAN RTX, Compute Capability 7.5\n",
      "2023-08-25 15:34:15.576954: I tensorflow/compiler/mlir/tensorflow/utils/dump_mlir_util.cc:269] disabling MLIR crash reproducer, set env var `MLIR_CRASH_REPRODUCER_DIRECTORY` to enable.\n",
      "2023-08-25 15:34:15.806072: I tensorflow/compiler/xla/stream_executor/cuda/cuda_dnn.cc:424] Loaded cuDNN version 8600\n",
      "2023-08-25 15:34:15.881654: I tensorflow/tsl/platform/default/subprocess.cc:304] Start cannot spawn child process: No such file or directory\n",
      "2023-08-25 15:34:15.996034: I ./tensorflow/compiler/jit/device_compiler.h:180] Compiled cluster using XLA!  This line is logged at most once for the lifetime of the process.\n"
     ]
    },
    {
     "data": {
      "text/plain": [
       "<keras.callbacks.History at 0x7fc7640ba820>"
      ]
     },
     "execution_count": 24,
     "metadata": {},
     "output_type": "execute_result"
    }
   ],
   "source": [
    "model_mlp.fit(\n",
    "    train_x, train_y, \n",
    "    epochs=100, verbose=0, validation_split=0.2\n",
    ")"
   ]
  },
  {
   "cell_type": "code",
   "execution_count": 25,
   "metadata": {},
   "outputs": [
    {
     "data": {
      "text/plain": [
       "[263745.6875, 442.40887451171875, 3448372480.0]"
      ]
     },
     "execution_count": 25,
     "metadata": {},
     "output_type": "execute_result"
    }
   ],
   "source": [
    "model_mlp.evaluate(test_x, test_y, verbose=0)"
   ]
  },
  {
   "cell_type": "code",
   "execution_count": 38,
   "metadata": {},
   "outputs": [
    {
     "name": "stdout",
     "output_type": "stream",
     "text": [
      "4/4 [==============================] - 0s 3ms/step\n",
      "MSE: 263745.725198, RMSE: 513.561803, MAE: 442.408887, MAPE: 15530090469429084.000000, MAPE2: 98.000000\n"
     ]
    }
   ],
   "source": [
    "pred_mlp = model_mlp.predict(test_x)\n",
    "pred_mlps = pd.Series(pred_mlp.flatten(), index=test_x.index)\n",
    "_ = evaluation_func(test_y, pred_mlps)"
   ]
  },
  {
   "cell_type": "code",
   "execution_count": null,
   "metadata": {},
   "outputs": [
    {
     "data": {
      "text/plain": [
       "0.9985056069716298"
      ]
     },
     "execution_count": 28,
     "metadata": {},
     "output_type": "execute_result"
    }
   ],
   "source": [
    "r2_score(test_y, pred_mlp)"
   ]
  },
  {
   "cell_type": "markdown",
   "metadata": {},
   "source": [
    "##### train에 있는 test데이터 삭제"
   ]
  },
  {
   "cell_type": "code",
   "execution_count": null,
   "metadata": {},
   "outputs": [],
   "source": [
    "# 같은 날짜의 target 컬럼이 같은지 비교\n",
    "temp_df = pd.DataFrame({'test': test_y, 'train': train_y})"
   ]
  },
  {
   "cell_type": "code",
   "execution_count": null,
   "metadata": {},
   "outputs": [
    {
     "name": "stdout",
     "output_type": "stream",
     "text": [
      "<class 'pandas.core.frame.DataFrame'>\n",
      "RangeIndex: 120 entries, 0 to 119\n",
      "Data columns (total 1 columns):\n",
      " #   Column    Non-Null Count  Dtype  \n",
      "---  ------    --------------  -----  \n",
      " 0   발전량(kWh)  120 non-null    float64\n",
      "dtypes: float64(1)\n",
      "memory usage: 1.1 KB\n"
     ]
    }
   ],
   "source": [
    "_temp_merge.info()"
   ]
  },
  {
   "cell_type": "code",
   "execution_count": null,
   "metadata": {},
   "outputs": [],
   "source": []
  }
 ],
 "metadata": {
  "kernelspec": {
   "display_name": "t212p38",
   "language": "python",
   "name": "python3"
  },
  "language_info": {
   "codemirror_mode": {
    "name": "ipython",
    "version": 3
   },
   "file_extension": ".py",
   "mimetype": "text/x-python",
   "name": "python",
   "nbconvert_exporter": "python",
   "pygments_lexer": "ipython3",
   "version": "3.8.17"
  },
  "orig_nbformat": 4
 },
 "nbformat": 4,
 "nbformat_minor": 2
}
