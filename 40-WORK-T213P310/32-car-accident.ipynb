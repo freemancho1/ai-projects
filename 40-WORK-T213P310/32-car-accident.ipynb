{
 "cells": [
  {
   "cell_type": "markdown",
   "metadata": {},
   "source": [
    "#### 라이브러리 불러오기"
   ]
  },
  {
   "cell_type": "code",
   "execution_count": 1,
   "metadata": {},
   "outputs": [
    {
     "name": "stderr",
     "output_type": "stream",
     "text": [
      "2023-08-26 22:46:14.094621: I tensorflow/core/platform/cpu_feature_guard.cc:182] This TensorFlow binary is optimized to use available CPU instructions in performance-critical operations.\n",
      "To enable the following instructions: AVX2 FMA, in other operations, rebuild TensorFlow with the appropriate compiler flags.\n"
     ]
    }
   ],
   "source": [
    "import os\n",
    "import re\n",
    "import platform\n",
    "\n",
    "import numpy as np\n",
    "import pandas as pd\n",
    "import tensorflow as tf\n",
    "from datetime import datetime\n",
    "\n",
    "from sklearn.linear_model import Lasso, Ridge, LinearRegression\n",
    "from sklearn.neighbors import KNeighborsRegressor\n",
    "from sklearn.tree import DecisionTreeRegressor\n",
    "from sklearn.ensemble import RandomForestRegressor\n",
    "from sklearn.ensemble import GradientBoostingRegressor\n",
    "from sklearn.linear_model import ElasticNet\n",
    "from xgboost import XGBRegressor\n",
    "import lightgbm as lgb\n",
    "\n",
    "from tensorflow.keras.layers import Dense, Conv2D, MaxPooling2D, Flatten\n",
    "\n",
    "from sklearn.model_selection import train_test_split\n",
    "from sklearn.preprocessing import StandardScaler\n",
    "\n",
    "from sklearn.metrics import mean_absolute_error\n",
    "from sklearn.metrics import mean_squared_error\n",
    "from sklearn.metrics import mean_absolute_percentage_error\n",
    "from sklearn.metrics import r2_score\n",
    "\n",
    "import matplotlib.pyplot as plt\n",
    "import matplotlib.font_manager as fm"
   ]
  },
  {
   "cell_type": "markdown",
   "metadata": {},
   "source": [
    "#### 설정"
   ]
  },
  {
   "cell_type": "code",
   "execution_count": 2,
   "metadata": {},
   "outputs": [],
   "source": [
    "SEED = 1234"
   ]
  },
  {
   "cell_type": "markdown",
   "metadata": {},
   "source": [
    "##### 차트 한글설정"
   ]
  },
  {
   "cell_type": "code",
   "execution_count": 3,
   "metadata": {},
   "outputs": [],
   "source": [
    "import matplotlib.font_manager as fm\n",
    "import platform\n",
    "\n",
    "os_name = platform.system()\n",
    "\n",
    "# font_path는 사용할 폰트에 따라 변경하면 됨\n",
    "font_path = 'c:/Windows/Fonts/malgun.ttf' if os_name=='Windows' \\\n",
    "    else '/usr/share/fonts/truetype/nanum/NanumGothic.ttf'\n",
    "font_family = fm.FontProperties(fname=font_path).get_name()\n",
    "\n",
    "# font 설정\n",
    "plt.rcParams['font.family'] = font_family"
   ]
  },
  {
   "cell_type": "code",
   "execution_count": 4,
   "metadata": {},
   "outputs": [],
   "source": [
    "# 폰트캐시까지 삭제 후 한글폰트가 사용될 수 있도록 캐시 삭제\n",
    "# --> 이렇게 해야 비로소 한글이 표현되는 경우가 많음\n",
    "plt.rcParams['font.family'] = 'sans-serif'\n",
    "plt.rcParams['font.sans-serif'] = [font_family]\n",
    "\n",
    "fe = fm.FontEntry(\n",
    "    fname='/usr/share/fonts/truetype/nanum/NanumGothic.ttf',\n",
    "    name='NanumGothic'\n",
    ")\n",
    "fm.fontManager.ttflist.insert(0, fe)"
   ]
  },
  {
   "cell_type": "markdown",
   "metadata": {},
   "source": [
    "#### 모델 평가함수 생성"
   ]
  },
  {
   "cell_type": "code",
   "execution_count": 5,
   "metadata": {},
   "outputs": [],
   "source": [
    "def user_mape(test_y, pred_y):\n",
    "    # 예측대상(test_y)값이 0인 경우를 대비해, \n",
    "    # 0이 아닌 아주 작은수를 더해 MAPE값을 구함\n",
    "    epsilon = 1e-10\n",
    "    \n",
    "    abs_err = np.abs(test_y - pred_y)\n",
    "    test_y = test_y + epsilon\n",
    "\n",
    "    p_err = np.where(abs_err==0, 0, abs_err / test_y * 100)\n",
    "    # 음수 값이면 양수로 변경\n",
    "    p_err = np.where(p_err<0, -p_err, p_err)\n",
    "    # 100보다 큰 값은 100으로 제한\n",
    "    p_err = np.minimum(p_err, 100)\n",
    "    # MAPE의 평균 반환\n",
    "    return np.mean(p_err)\n",
    "\n",
    "def evaluation_func(test_y, pred_y, verbose=1):\n",
    "    # 모든값을 소숫점 5자리에서 반올림\n",
    "    _test_y = np.round(test_y, decimals=5)\n",
    "    _pred_y = np.round(pred_y, decimals=5)\n",
    "    \n",
    "    mse = mean_squared_error(_test_y, _pred_y)\n",
    "    rmse = np.sqrt(mse)\n",
    "    mae = mean_absolute_error(_test_y, _pred_y)\n",
    "    r2score = r2_score(_test_y, _pred_y)\n",
    "    mape = mean_absolute_percentage_error(_test_y, _pred_y)\n",
    "    mape2 = user_mape(_test_y, _pred_y)\n",
    "    \n",
    "    if verbose != 0:\n",
    "        print(\n",
    "            f'R2_SCORE: {r2score:.6f}, MAPE2: {mape2:.6f}, '\n",
    "            f'MSE: {mse:.6f}, RMSE: {rmse:.6f}, '\n",
    "            f'MAPE: {mape:.6f}, MAE: {mae:.6f}'\n",
    "        )\n",
    "        \n",
    "    return mse, rmse, mae, mape, mape2"
   ]
  },
  {
   "cell_type": "markdown",
   "metadata": {},
   "source": [
    "#### 데이터 불러오기"
   ]
  },
  {
   "cell_type": "code",
   "execution_count": 6,
   "metadata": {},
   "outputs": [],
   "source": [
    "PATH_DATA = os.path.join(os.getcwd(), 'data', '32-car-accident')\n",
    "PATH_ACCIDENT = os.path.join(PATH_DATA, 'train_accident_2013_2017.csv') \n",
    "PATH_WEATHER = os.path.join(PATH_DATA, 'train_weather_2013_2017.csv')\n",
    "# 테스트데이터는 자전거대여 관련 데이터이기 때문에 제거\n",
    "# PATH_TEST = os.path.join(PATH_DATA, 'test.csv')\n",
    "\n",
    "df_a = pd.read_csv(PATH_ACCIDENT)\n",
    "df_w = pd.read_csv(PATH_WEATHER)\n",
    "# 테스트데이터는 자전거대여 관련 데이터이기 때문에 제거\n",
    "# df_test = pd.read_csv(PATH_TEST)"
   ]
  },
  {
   "cell_type": "code",
   "execution_count": 7,
   "metadata": {},
   "outputs": [
    {
     "name": "stdout",
     "output_type": "stream",
     "text": [
      "ACCIDENT: 2013년 10월 10일 목요일 ~ 2017년 9월 9일 토요일, cnt: 1143\n",
      " WEATHER: 2013-01-01 ~ 2017-12-31,      1826\n"
     ]
    }
   ],
   "source": [
    "print(\n",
    "    f'ACCIDENT: {df_a.발생날짜.min()} ~ {df_a.발생날짜.max()}, cnt: {df_a.shape[0]:>4}\\n'\n",
    "    f' WEATHER: {df_w.tm.min()} ~ {df_w.tm.max()}, {df_w.shape[0]:>9}'\n",
    "    # f'   test: {test_df.tm.min()} ~ {test_df.tm.max()}, {test_df.shape[0]:>9}'\n",
    ")\n",
    "# ACCIDENT 데이터가 실제 데이터와 차이가 있네?\n",
    "# 2013년 1월 3일 목요일 ~ 2017년 12월 29일 금요일"
   ]
  },
  {
   "cell_type": "markdown",
   "metadata": {},
   "source": [
    "#### 데이터전처리"
   ]
  },
  {
   "cell_type": "markdown",
   "metadata": {},
   "source": [
    "##### 날짜형 인덱스 생성"
   ]
  },
  {
   "cell_type": "code",
   "execution_count": 8,
   "metadata": {},
   "outputs": [],
   "source": [
    "# '2013년 1월 3일 목요일' 형식은 날짜형식의 정규식을 만들기 어렵기 때문에\n",
    "# 별도 변환 함수 생성\n",
    "def to_datetime_accident(row):\n",
    "    nums = re.findall(r'\\d+', row['발생날짜'])\n",
    "    dt_str = f'{nums[0]}-{int(nums[1]):02}-{int(nums[2]):02}'\n",
    "    return pd.to_datetime(dt_str)\n",
    "\n",
    "df_a['발생날짜'] = df_a.apply(to_datetime_accident, axis=1)\n",
    "df_w.tm = pd.to_datetime(df_w.tm)\n"
   ]
  },
  {
   "cell_type": "code",
   "execution_count": 9,
   "metadata": {},
   "outputs": [],
   "source": [
    "df_a = df_a.set_index('발생날짜')\n",
    "df_w = df_w.set_index('tm')"
   ]
  },
  {
   "cell_type": "markdown",
   "metadata": {},
   "source": [
    "##### 무사고 날자에 로우 추가(값은 0)"
   ]
  },
  {
   "cell_type": "code",
   "execution_count": 10,
   "metadata": {},
   "outputs": [],
   "source": [
    "# 사고발생 데이터에는 사고가 발생한 날자만 들어있기 때문에,\n",
    "# 사고가 발생하지 않는 날의 데이터 추가해 줘야함\n",
    "# 대상 기간의 기상 데이터의 시작과 끝 날짜로 함."
   ]
  },
  {
   "cell_type": "code",
   "execution_count": 11,
   "metadata": {},
   "outputs": [],
   "source": [
    "# 기상데이터의 시작일과 종료일을 기준으로 데이터 추가 구간 설정\n",
    "date_range = pd.date_range(start=df_w.index.min(), end=df_w.index.max())\n",
    "\n",
    "# 기존 데이터프레임에 있는 날자 제거\n",
    "missing_dates = set(date_range) - set(df_a.index)\n",
    "\n",
    "# 데이터(0) 추가\n",
    "for _date in missing_dates:\n",
    "    df_a.loc[_date] = 0\n",
    "    \n",
    "df_a = df_a.sort_index()"
   ]
  },
  {
   "cell_type": "markdown",
   "metadata": {},
   "source": [
    "##### 훈련용 데이터 결합"
   ]
  },
  {
   "cell_type": "code",
   "execution_count": 12,
   "metadata": {},
   "outputs": [],
   "source": [
    "# 사고데이터는 기상데이터의 시작과 끝 모든 데이터를 가지고 있기 때문에,\n",
    "# 사고데이터 >= 기상데이터가 되니 결합방향은 기상데이터쪽으로 진행\n",
    "df_train = pd.merge(df_w, df_a, left_index=True, right_index=True, how='inner')"
   ]
  },
  {
   "cell_type": "markdown",
   "metadata": {},
   "source": [
    "##### 고유값 갯 수가 1인 컬럼 제거"
   ]
  },
  {
   "cell_type": "code",
   "execution_count": 13,
   "metadata": {},
   "outputs": [
    {
     "name": "stdout",
     "output_type": "stream",
     "text": [
      "고유값 갯 수가 1인 컬럼: Index(['stnId', 'stnNm'], dtype='object')\n"
     ]
    }
   ],
   "source": [
    "# 고유값 갯 수가 1인 컬럼은 모델훈련에 영향을 주지 않음\n",
    "n_unique_values = df_train.nunique()\n",
    "print(f'고유값 갯 수가 1인 컬럼: {n_unique_values[n_unique_values==1].index}')"
   ]
  },
  {
   "cell_type": "code",
   "execution_count": 14,
   "metadata": {},
   "outputs": [],
   "source": [
    "# 고유값 갯 수 1인 컬럼과 기존 인덱스 컬럼 삭제\n",
    "drop_cols_uv1 = df_train.columns[n_unique_values==1]\n",
    "drop_cols_uv1 = drop_cols_uv1.union(['Unnamed: 0'])\n",
    "df_train.drop(columns=drop_cols_uv1, axis=1, inplace=True)"
   ]
  },
  {
   "cell_type": "markdown",
   "metadata": {},
   "source": [
    "##### 결측치 처리"
   ]
  },
  {
   "cell_type": "code",
   "execution_count": 15,
   "metadata": {},
   "outputs": [
    {
     "data": {
      "text/plain": [
       "sumFogDur         1799\n",
       "ddMefsHrmt        1764\n",
       "sumDpthFhsc       1762\n",
       "ddMefs            1762\n",
       "ddMes             1702\n",
       "ddMesHrmt         1702\n",
       "mi10MaxRnHrmt     1514\n",
       "hr1MaxRnHrmt      1510\n",
       "mi10MaxRn         1399\n",
       "hr1MaxRn          1399\n",
       "n99Rn             1127\n",
       "sumRn             1123\n",
       "sumRnDur          1123\n",
       "sumLrgEv           547\n",
       "iscs               501\n",
       "avgLmac             21\n",
       "avgCm30Te           21\n",
       "sumGsr              18\n",
       "hr1MaxIcsr          17\n",
       "hr1MaxIcsrHrmt      17\n",
       "dtype: int64"
      ]
     },
     "execution_count": 15,
     "metadata": {},
     "output_type": "execute_result"
    }
   ],
   "source": [
    "df_train.isna().sum().sort_values(ascending=False)[:20]"
   ]
  },
  {
   "cell_type": "markdown",
   "metadata": {},
   "source": [
    "> 사고발생 관점에서 다 중요한 데이터인데 NaN값이 99% 이상이네;;\n",
    "* sumFogDur: 안개 지속 시간의 합계\n",
    "* ddMefsHrmt: 안개 형태의 관측 시각\n",
    "* sumDpthFhsc: 안개의 깊이 누적 합계\n",
    "* ddMefs: 안개 형태\n",
    "* ddMes: 안개 종류\n",
    "* ddMesHrmt: 안개 종류의 관측 시각\n",
    "* mi10MaxRnHrmt: 10분 강수량 최대치의 관측 시각\n",
    "* hr1MaxRnHrmt: 1시간 강수량 최대치의 관측 시각\n",
    "* mi10MaxRn: 10분 강수량 최대치\n",
    "* hr1MaxRn: 1시간 강수량 최대치\n",
    "* n99Rn: 99분 동안 강수량\n",
    "* sumRn: 강수량 합계\n",
    "* sumRnDur: 강수 지속 시간 합계\n",
    "* sumLrgEv: 대형증발량 합계\n",
    "* iscs: 풍무 형태"
   ]
  },
  {
   "cell_type": "code",
   "execution_count": 16,
   "metadata": {},
   "outputs": [],
   "source": [
    "fill_0_cols = [\n",
    "    'sumFogDur', 'ddMefsHrmt', 'sumDpthFhsc', 'ddMefs', 'ddMes',\n",
    "    'ddMesHrmt', 'mi10MaxRnHrmt', 'hr1MaxRnHrmt', 'mi10MaxRn',\n",
    "    'hr1MaxRn', 'n99Rn', 'sumRn', 'sumRnDur', 'sumLrgEv'\n",
    "]\n",
    "def fill_nan(column):\n",
    "    # 문자열 컬럼\n",
    "    if column.name == 'iscs':\n",
    "        return column.fillna('')\n",
    "    # 너무 많은 결측치가 있는 데이터는 0으로\n",
    "    elif column.name in fill_0_cols:\n",
    "        return column.fillna(0)\n",
    "    # 적당하거나 적은 결측치는 시계열값을 반영한 중앙값으로\n",
    "    return column.interpolate()"
   ]
  },
  {
   "cell_type": "code",
   "execution_count": 17,
   "metadata": {},
   "outputs": [],
   "source": [
    "df_train = df_train.apply(fill_nan)"
   ]
  },
  {
   "cell_type": "code",
   "execution_count": 18,
   "metadata": {},
   "outputs": [
    {
     "data": {
      "text/plain": [
       "avgTa             0\n",
       "ssDur             0\n",
       "hr1MaxIcsrHrmt    0\n",
       "hr1MaxIcsr        0\n",
       "sumGsr            0\n",
       "                 ..\n",
       "avgPa             0\n",
       "maxPs             0\n",
       "maxPsHrmt         0\n",
       "minPs             0\n",
       "사망자수              0\n",
       "Length: 61, dtype: int64"
      ]
     },
     "execution_count": 18,
     "metadata": {},
     "output_type": "execute_result"
    }
   ],
   "source": [
    "df_train.isna().sum().sort_values(ascending=False)"
   ]
  },
  {
   "cell_type": "markdown",
   "metadata": {},
   "source": [
    "* '{박무}0210-{박무}{강도0}0300-{박무}{강도0}0600-{박무}{강도0}0900-{박무}{강도0}1200-1425.'\n",
    "* '-{비}-{비}{강도0}0300-{비}{강도0}0600-{안개비}0830-{안개비}{강도0}0900-0950.'\n",
    "* '{눈}0455-{눈}{강도0}0600-{시정(미만)}{1km}{눈}0620-{시정(이상)}{1km}{눈}0740-0820. {눈}1045-{눈}{강도0}1200-1210. {눈}1940-{시정(미만)}{1km}{눈}2050-{눈}{강도1}2100-{시정(이상)}{1km}{눈}2110-2346.'\n",
    "* 이런 식으로 저장된 `iscs`컬럼을 어떻게 사용할 지 고민(시간과 기상상태를 나타내는 중요한 정보인데;;)"
   ]
  },
  {
   "cell_type": "markdown",
   "metadata": {},
   "source": [
    "##### 속성과 예측값 분류"
   ]
  },
  {
   "cell_type": "code",
   "execution_count": 19,
   "metadata": {},
   "outputs": [],
   "source": [
    "def get_season(month):\n",
    "    return 0 if 3<=month<=5 else 1 if 6<=month<=8 else 2 if 9<=month<=11 else 3"
   ]
  },
  {
   "cell_type": "code",
   "execution_count": 20,
   "metadata": {},
   "outputs": [],
   "source": [
    "# 월/계절정보 추가\n",
    "df_train['month'] = df_train.index.month\n",
    "df_train['season'] = df_train.index.month.map(get_season)\n",
    "\n",
    "target_col = '사망자수'\n",
    "# `iscs`를 어떻게 써야할지 모르겠고, 문자니깐 일단 예외처리\n",
    "exception_cols = ['iscs']\n",
    "\n",
    "df_X = df_train.drop(columns=[target_col]+exception_cols, axis=1)\n",
    "df_y = df_train[target_col]\n",
    "\n",
    "X_train, X_test, y_train, y_test = \\\n",
    "    train_test_split(df_X, df_y, test_size=0.3, random_state=SEED)"
   ]
  },
  {
   "cell_type": "markdown",
   "metadata": {},
   "source": [
    "##### Scaling"
   ]
  },
  {
   "cell_type": "code",
   "execution_count": 21,
   "metadata": {},
   "outputs": [],
   "source": [
    "scaler = StandardScaler()\n",
    "X_train = scaler.fit_transform(X_train)\n",
    "X_test = scaler.transform(X_test)"
   ]
  },
  {
   "cell_type": "markdown",
   "metadata": {},
   "source": [
    "#### ML"
   ]
  },
  {
   "cell_type": "markdown",
   "metadata": {},
   "source": [
    "##### DecisionTreeRegressor"
   ]
  },
  {
   "cell_type": "code",
   "execution_count": 22,
   "metadata": {},
   "outputs": [
    {
     "name": "stdout",
     "output_type": "stream",
     "text": [
      "R2_SCORE: -1.039720, MAPE2: 61.967762, MSE: 2.370438, RMSE: 1.539623, MAPE: 1651867746535529.000000, MAE: 1.093066\n"
     ]
    }
   ],
   "source": [
    "# 특별한 처리없이 기본값으로 처리\n",
    "model_dtr = DecisionTreeRegressor().fit(X_train, y_train)\n",
    "pred_dtr = model_dtr.predict(X_test)\n",
    "_ = evaluation_func(y_test, pred_dtr)"
   ]
  },
  {
   "cell_type": "code",
   "execution_count": 23,
   "metadata": {},
   "outputs": [
    {
     "name": "stdout",
     "output_type": "stream",
     "text": [
      "Match Count: 181/Total Count: 548\n"
     ]
    }
   ],
   "source": [
    "print(f'Match Count: {np.sum(y_test.to_numpy()==pred_dtr)}/Total Count: {len(pred_dtr)}')"
   ]
  },
  {
   "cell_type": "markdown",
   "metadata": {},
   "source": [
    "* 영향도"
   ]
  },
  {
   "cell_type": "code",
   "execution_count": 24,
   "metadata": {},
   "outputs": [
    {
     "data": {
      "image/png": "[encoded data removed]",
      "text/plain": [
       "<Figure size 600x1200 with 1 Axes>"
      ]
     },
     "metadata": {},
     "output_type": "display_data"
    }
   ],
   "source": [
    "f_importances = model_dtr.feature_importances_\n",
    "\n",
    "plt.figure(figsize=(6,12))\n",
    "plt.barh(range(len(f_importances)), f_importances)\n",
    "plt.yticks(range(len(f_importances)), df_X.columns)\n",
    "plt.xlabel('중요도')\n",
    "plt.ylabel('속성')\n",
    "plt.title('DecisionTreeRegressor의 특성 중요도')\n",
    "plt.show()"
   ]
  },
  {
   "cell_type": "markdown",
   "metadata": {},
   "source": [
    "##### Lasso"
   ]
  },
  {
   "cell_type": "code",
   "execution_count": 25,
   "metadata": {},
   "outputs": [
    {
     "name": "stdout",
     "output_type": "stream",
     "text": [
      "R2_SCORE: -0.000064, MAPE2: 53.718882, MSE: 1.162213, RMSE: 1.078060, MAPE: 1739327980028963.500000, MAE: 0.786471\n"
     ]
    }
   ],
   "source": [
    "model_l = Lasso().fit(X_train, y_train)\n",
    "pred_l = model_l.predict(X_test)\n",
    "_ = evaluation_func(y_test, pred_l)"
   ]
  },
  {
   "cell_type": "markdown",
   "metadata": {},
   "source": [
    "##### Ridge"
   ]
  },
  {
   "cell_type": "code",
   "execution_count": 26,
   "metadata": {},
   "outputs": [
    {
     "name": "stdout",
     "output_type": "stream",
     "text": [
      "R2_SCORE: -0.001309, MAPE2: 58.542024, MSE: 1.163661, RMSE: 1.078731, MAPE: 1713771777975610.000000, MAE: 0.822763\n"
     ]
    }
   ],
   "source": [
    "model_r = Ridge().fit(X_train, y_train)\n",
    "pred_r = model_r.predict(X_test)\n",
    "_ = evaluation_func(y_test, pred_r)"
   ]
  },
  {
   "cell_type": "markdown",
   "metadata": {},
   "source": [
    "##### GradientBoostingRegressor"
   ]
  },
  {
   "cell_type": "code",
   "execution_count": 27,
   "metadata": {},
   "outputs": [
    {
     "name": "stdout",
     "output_type": "stream",
     "text": [
      "R2_SCORE: -0.062211, MAPE2: 60.348122, MSE: 1.234437, RMSE: 1.111052, MAPE: 1738386497595913.250000, MAE: 0.854063\n"
     ]
    }
   ],
   "source": [
    "model_gbr = GradientBoostingRegressor().fit(X_train, y_train)\n",
    "pred_gbr = model_gbr.predict(X_test)\n",
    "_ = evaluation_func(y_test, pred_gbr)"
   ]
  },
  {
   "cell_type": "markdown",
   "metadata": {},
   "source": [
    "##### XGBRegressor"
   ]
  },
  {
   "cell_type": "code",
   "execution_count": 28,
   "metadata": {},
   "outputs": [
    {
     "name": "stdout",
     "output_type": "stream",
     "text": [
      "R2_SCORE: -0.120503, MAPE2: 63.997610, MSE: 1.302181, RMSE: 1.141131, MAPE: 1772937323433117.000000, MAE: 0.899810\n"
     ]
    }
   ],
   "source": [
    "model_xgb = XGBRegressor(\n",
    "    objective=\"reg:squarederror\",\n",
    "    n_estimators=200,\n",
    "    n_jobs=-1,\n",
    "    max_depth=3,\n",
    "    learning_rate=0.11,\n",
    "    subsample=0.8,\n",
    "    colsample_bytree=0.8,\n",
    "    random_state=42\n",
    ").fit(X_train, y_train)\n",
    "pred_xgb = model_xgb.predict(X_test)\n",
    "_ = evaluation_func(y_test, pred_xgb)"
   ]
  },
  {
   "cell_type": "code",
   "execution_count": 29,
   "metadata": {},
   "outputs": [
    {
     "name": "stdout",
     "output_type": "stream",
     "text": [
      "Match Count: 170/Total Count: 548\n"
     ]
    }
   ],
   "source": [
    "print(f'Match Count: {np.sum(y_test.to_numpy()==np.round(pred_xgb))}'\n",
    "      f'/Total Count: {len(pred_xgb)}')"
   ]
  },
  {
   "cell_type": "markdown",
   "metadata": {},
   "source": [
    "#### DL"
   ]
  },
  {
   "cell_type": "markdown",
   "metadata": {},
   "source": [
    "##### CNN\n",
    "* 다행히 예측해야할 값이 0~6까지의 값으로 클래스와 유사하다.\n",
    "* 따라서 CNN을 이용해 클래스분류로 회귀가 아닌 방법으로 시도해본다."
   ]
  },
  {
   "cell_type": "code",
   "execution_count": 30,
   "metadata": {},
   "outputs": [
    {
     "data": {
      "text/plain": [
       "사망자수\n",
       "0    683\n",
       "1    653\n",
       "2    339\n",
       "3    106\n",
       "4     34\n",
       "5      6\n",
       "6      5\n",
       "Name: count, dtype: int64"
      ]
     },
     "execution_count": 30,
     "metadata": {},
     "output_type": "execute_result"
    }
   ],
   "source": [
    "df_a.사망자수.value_counts()"
   ]
  },
  {
   "cell_type": "code",
   "execution_count": 31,
   "metadata": {},
   "outputs": [],
   "source": [
    "EPOCHS = 100\n",
    "BATCH_SIZE = 32"
   ]
  },
  {
   "cell_type": "code",
   "execution_count": 57,
   "metadata": {},
   "outputs": [],
   "source": [
    "X_train, X_test, y_train, y_test = \\\n",
    "    train_test_split(df_X, df_y, test_size=0.3, random_state=SEED)"
   ]
  },
  {
   "cell_type": "code",
   "execution_count": 58,
   "metadata": {},
   "outputs": [],
   "source": [
    "_max_value = X_train.max()\n",
    "X_train, X_test = X_train/_max_value, X_test/_max_value"
   ]
  },
  {
   "cell_type": "code",
   "execution_count": 59,
   "metadata": {},
   "outputs": [],
   "source": [
    "X_train, X_test = X_train.values, X_test.values"
   ]
  },
  {
   "cell_type": "code",
   "execution_count": 61,
   "metadata": {},
   "outputs": [],
   "source": [
    "# 61이 소수라 1*61밖에 안되니 63=9*7로 변경\n",
    "X_train = np.concatenate([X_train, np.zeros((len(X_train), 2))], axis=1)\n",
    "X_test = np.concatenate([X_test, np.zeros((len(X_test), 2))], axis=1)"
   ]
  },
  {
   "cell_type": "code",
   "execution_count": 62,
   "metadata": {},
   "outputs": [],
   "source": [
    "X_train, X_test = X_train.reshape(-1, 9, 7, 1), X_test.reshape(-1, 9, 7, 1)"
   ]
  },
  {
   "cell_type": "code",
   "execution_count": 34,
   "metadata": {},
   "outputs": [],
   "source": [
    "out_classes = 7"
   ]
  },
  {
   "cell_type": "code",
   "execution_count": 35,
   "metadata": {},
   "outputs": [],
   "source": [
    "yc_train = tf.keras.utils.to_categorical(y_train, num_classes=out_classes)\n",
    "yc_test = tf.keras.utils.to_categorical(y_test, num_classes=out_classes)"
   ]
  },
  {
   "cell_type": "code",
   "execution_count": 69,
   "metadata": {},
   "outputs": [],
   "source": [
    "model_cnn = tf.keras.Sequential([\n",
    "    Conv2D(32, kernel_size=3, activation='relu', input_shape=(9,7,1)),\n",
    "    # MaxPooling2D(pool_size=(2, 2)),\n",
    "    Conv2D(64, kernel_size=3, activation='relu'),\n",
    "    # MaxPooling2D(pool_size=(2, 2)),\n",
    "    Conv2D(128, kernel_size=3, activation='relu'),\n",
    "    # MaxPooling2D(pool_size=(2, 2)),\n",
    "    Flatten(),\n",
    "    Dense(128, activation='relu'),\n",
    "    Dense(64, activation='relu'),\n",
    "    Dense(out_classes, activation='softmax')\n",
    "])"
   ]
  },
  {
   "cell_type": "code",
   "execution_count": 70,
   "metadata": {},
   "outputs": [],
   "source": [
    "model_cnn.compile(\n",
    "    optimizer='adam',\n",
    "    loss=tf.keras.losses.SparseCategoricalCrossentropy(),\n",
    "    metrics=['accuracy']\n",
    ")"
   ]
  },
  {
   "cell_type": "code",
   "execution_count": 71,
   "metadata": {},
   "outputs": [
    {
     "name": "stdout",
     "output_type": "stream",
     "text": [
      "Model: \"sequential_9\"\n",
      "_________________________________________________________________\n",
      " Layer (type)                Output Shape              Param #   \n",
      "=================================================================\n",
      " conv2d_25 (Conv2D)          (None, 7, 5, 32)          320       \n",
      "                                                                 \n",
      " conv2d_26 (Conv2D)          (None, 5, 3, 64)          18496     \n",
      "                                                                 \n",
      " conv2d_27 (Conv2D)          (None, 3, 1, 128)         73856     \n",
      "                                                                 \n",
      " flatten_9 (Flatten)         (None, 384)               0         \n",
      "                                                                 \n",
      " dense_19 (Dense)            (None, 128)               49280     \n",
      "                                                                 \n",
      " dense_20 (Dense)            (None, 64)                8256      \n",
      "                                                                 \n",
      " dense_21 (Dense)            (None, 7)                 455       \n",
      "                                                                 \n",
      "=================================================================\n",
      "Total params: 150663 (588.53 KB)\n",
      "Trainable params: 150663 (588.53 KB)\n",
      "Non-trainable params: 0 (0.00 Byte)\n",
      "_________________________________________________________________\n"
     ]
    }
   ],
   "source": [
    "model_cnn.summary()"
   ]
  },
  {
   "cell_type": "code",
   "execution_count": 72,
   "metadata": {},
   "outputs": [
    {
     "name": "stdout",
     "output_type": "stream",
     "text": [
      "Epoch 1/100\n"
     ]
    },
    {
     "name": "stdout",
     "output_type": "stream",
     "text": [
      "32/32 [==============================] - 2s 10ms/step - loss: 1.4675 - accuracy: 0.3591 - val_loss: 1.2973 - val_accuracy: 0.4141\n",
      "Epoch 2/100\n",
      "32/32 [==============================] - 0s 3ms/step - loss: 1.3476 - accuracy: 0.3523 - val_loss: 1.2663 - val_accuracy: 0.3633\n",
      "Epoch 3/100\n",
      "32/32 [==============================] - 0s 4ms/step - loss: 1.3340 - accuracy: 0.3796 - val_loss: 1.3051 - val_accuracy: 0.4141\n",
      "Epoch 4/100\n",
      "32/32 [==============================] - 0s 3ms/step - loss: 1.3442 - accuracy: 0.3552 - val_loss: 1.2943 - val_accuracy: 0.3672\n",
      "Epoch 5/100\n",
      "32/32 [==============================] - 0s 4ms/step - loss: 1.3391 - accuracy: 0.3689 - val_loss: 1.2779 - val_accuracy: 0.3633\n",
      "Epoch 6/100\n",
      "32/32 [==============================] - 0s 3ms/step - loss: 1.3365 - accuracy: 0.3708 - val_loss: 1.2853 - val_accuracy: 0.3398\n",
      "Epoch 7/100\n",
      "32/32 [==============================] - 0s 3ms/step - loss: 1.3390 - accuracy: 0.3679 - val_loss: 1.2788 - val_accuracy: 0.4141\n",
      "Epoch 8/100\n",
      "32/32 [==============================] - 0s 3ms/step - loss: 1.3353 - accuracy: 0.3640 - val_loss: 1.2729 - val_accuracy: 0.3477\n",
      "Epoch 9/100\n",
      "32/32 [==============================] - 0s 4ms/step - loss: 1.3391 - accuracy: 0.3659 - val_loss: 1.3043 - val_accuracy: 0.3359\n",
      "Epoch 10/100\n",
      "32/32 [==============================] - 0s 3ms/step - loss: 1.3284 - accuracy: 0.3806 - val_loss: 1.2974 - val_accuracy: 0.3477\n",
      "Epoch 11/100\n",
      "32/32 [==============================] - 0s 4ms/step - loss: 1.3305 - accuracy: 0.3669 - val_loss: 1.2676 - val_accuracy: 0.3711\n",
      "Epoch 12/100\n",
      "32/32 [==============================] - 0s 4ms/step - loss: 1.3247 - accuracy: 0.3748 - val_loss: 1.2866 - val_accuracy: 0.3594\n",
      "Epoch 13/100\n",
      "32/32 [==============================] - 0s 3ms/step - loss: 1.3307 - accuracy: 0.3611 - val_loss: 1.2817 - val_accuracy: 0.3398\n",
      "Epoch 14/100\n",
      "32/32 [==============================] - 0s 3ms/step - loss: 1.3201 - accuracy: 0.3679 - val_loss: 1.3163 - val_accuracy: 0.3711\n",
      "Epoch 15/100\n",
      "32/32 [==============================] - 0s 3ms/step - loss: 1.3169 - accuracy: 0.3748 - val_loss: 1.3020 - val_accuracy: 0.3438\n",
      "Epoch 16/100\n",
      "32/32 [==============================] - 0s 3ms/step - loss: 1.3190 - accuracy: 0.3728 - val_loss: 1.3097 - val_accuracy: 0.4219\n",
      "Epoch 17/100\n",
      "32/32 [==============================] - 0s 3ms/step - loss: 1.3232 - accuracy: 0.3875 - val_loss: 1.3303 - val_accuracy: 0.3477\n",
      "Epoch 18/100\n",
      "32/32 [==============================] - 0s 4ms/step - loss: 1.3193 - accuracy: 0.3806 - val_loss: 1.3156 - val_accuracy: 0.3477\n",
      "Epoch 19/100\n",
      "32/32 [==============================] - 0s 3ms/step - loss: 1.3214 - accuracy: 0.3796 - val_loss: 1.3017 - val_accuracy: 0.3555\n",
      "Epoch 20/100\n",
      "32/32 [==============================] - 0s 3ms/step - loss: 1.3116 - accuracy: 0.3865 - val_loss: 1.3165 - val_accuracy: 0.3516\n",
      "Epoch 21/100\n",
      "32/32 [==============================] - 0s 3ms/step - loss: 1.3151 - accuracy: 0.3767 - val_loss: 1.3204 - val_accuracy: 0.3516\n",
      "Epoch 22/100\n",
      "32/32 [==============================] - 0s 3ms/step - loss: 1.3040 - accuracy: 0.4002 - val_loss: 1.3032 - val_accuracy: 0.3359\n",
      "Epoch 23/100\n",
      "32/32 [==============================] - 0s 4ms/step - loss: 1.3003 - accuracy: 0.4022 - val_loss: 1.2985 - val_accuracy: 0.3359\n",
      "Epoch 24/100\n",
      "32/32 [==============================] - 0s 4ms/step - loss: 1.2957 - accuracy: 0.4178 - val_loss: 1.2891 - val_accuracy: 0.3672\n",
      "Epoch 25/100\n",
      "32/32 [==============================] - 0s 3ms/step - loss: 1.3046 - accuracy: 0.4159 - val_loss: 1.3022 - val_accuracy: 0.3789\n",
      "Epoch 26/100\n",
      "32/32 [==============================] - 0s 3ms/step - loss: 1.2888 - accuracy: 0.4178 - val_loss: 1.3190 - val_accuracy: 0.3125\n",
      "Epoch 27/100\n",
      "32/32 [==============================] - 0s 3ms/step - loss: 1.2802 - accuracy: 0.4237 - val_loss: 1.3318 - val_accuracy: 0.3867\n",
      "Epoch 28/100\n",
      "32/32 [==============================] - 0s 3ms/step - loss: 1.2824 - accuracy: 0.4256 - val_loss: 1.3198 - val_accuracy: 0.3555\n",
      "Epoch 29/100\n",
      "32/32 [==============================] - 0s 3ms/step - loss: 1.2758 - accuracy: 0.4188 - val_loss: 1.3369 - val_accuracy: 0.3359\n",
      "Epoch 30/100\n",
      "32/32 [==============================] - 0s 3ms/step - loss: 1.2630 - accuracy: 0.4511 - val_loss: 1.3506 - val_accuracy: 0.3359\n",
      "Epoch 31/100\n",
      "32/32 [==============================] - 0s 4ms/step - loss: 1.2558 - accuracy: 0.4276 - val_loss: 1.3073 - val_accuracy: 0.3438\n",
      "Epoch 32/100\n",
      "32/32 [==============================] - 0s 3ms/step - loss: 1.2650 - accuracy: 0.4305 - val_loss: 1.3508 - val_accuracy: 0.2969\n",
      "Epoch 33/100\n",
      "32/32 [==============================] - 0s 3ms/step - loss: 1.2510 - accuracy: 0.4511 - val_loss: 1.3513 - val_accuracy: 0.3203\n",
      "Epoch 34/100\n",
      "32/32 [==============================] - 0s 3ms/step - loss: 1.2418 - accuracy: 0.4716 - val_loss: 1.3737 - val_accuracy: 0.3086\n",
      "Epoch 35/100\n",
      "32/32 [==============================] - 0s 3ms/step - loss: 1.2217 - accuracy: 0.4726 - val_loss: 1.4427 - val_accuracy: 0.2852\n",
      "Epoch 36/100\n",
      "32/32 [==============================] - 0s 3ms/step - loss: 1.2252 - accuracy: 0.4795 - val_loss: 1.4081 - val_accuracy: 0.2930\n",
      "Epoch 37/100\n",
      "32/32 [==============================] - 0s 3ms/step - loss: 1.2123 - accuracy: 0.4853 - val_loss: 1.3824 - val_accuracy: 0.3633\n",
      "Epoch 38/100\n",
      "32/32 [==============================] - 0s 3ms/step - loss: 1.1889 - accuracy: 0.5010 - val_loss: 1.4220 - val_accuracy: 0.3242\n",
      "Epoch 39/100\n",
      "32/32 [==============================] - 0s 3ms/step - loss: 1.1807 - accuracy: 0.5000 - val_loss: 1.4438 - val_accuracy: 0.3203\n",
      "Epoch 40/100\n",
      "32/32 [==============================] - 0s 3ms/step - loss: 1.1680 - accuracy: 0.5059 - val_loss: 1.4062 - val_accuracy: 0.3438\n",
      "Epoch 41/100\n",
      "32/32 [==============================] - 0s 3ms/step - loss: 1.1622 - accuracy: 0.5225 - val_loss: 1.4587 - val_accuracy: 0.3242\n",
      "Epoch 42/100\n",
      "32/32 [==============================] - 0s 3ms/step - loss: 1.1342 - accuracy: 0.5264 - val_loss: 1.4736 - val_accuracy: 0.3125\n",
      "Epoch 43/100\n",
      "32/32 [==============================] - 0s 3ms/step - loss: 1.1263 - accuracy: 0.5303 - val_loss: 1.5317 - val_accuracy: 0.3164\n",
      "Epoch 44/100\n",
      "32/32 [==============================] - 0s 3ms/step - loss: 1.0947 - accuracy: 0.5548 - val_loss: 1.6066 - val_accuracy: 0.2852\n",
      "Epoch 45/100\n",
      "32/32 [==============================] - 0s 3ms/step - loss: 1.0937 - accuracy: 0.5450 - val_loss: 1.5526 - val_accuracy: 0.3438\n",
      "Epoch 46/100\n",
      "32/32 [==============================] - 0s 3ms/step - loss: 1.0705 - accuracy: 0.5597 - val_loss: 1.5765 - val_accuracy: 0.3047\n",
      "Epoch 47/100\n",
      "32/32 [==============================] - 0s 3ms/step - loss: 1.0344 - accuracy: 0.5734 - val_loss: 1.5786 - val_accuracy: 0.3477\n",
      "Epoch 48/100\n",
      "32/32 [==============================] - 0s 3ms/step - loss: 1.0283 - accuracy: 0.5734 - val_loss: 1.5941 - val_accuracy: 0.3398\n",
      "Epoch 49/100\n",
      "32/32 [==============================] - 0s 4ms/step - loss: 0.9910 - accuracy: 0.6057 - val_loss: 1.6701 - val_accuracy: 0.3438\n",
      "Epoch 50/100\n",
      "32/32 [==============================] - 0s 3ms/step - loss: 0.9906 - accuracy: 0.5978 - val_loss: 1.7077 - val_accuracy: 0.3555\n",
      "Epoch 51/100\n",
      "32/32 [==============================] - 0s 3ms/step - loss: 0.9434 - accuracy: 0.6086 - val_loss: 1.7617 - val_accuracy: 0.3164\n",
      "Epoch 52/100\n",
      "32/32 [==============================] - 0s 3ms/step - loss: 0.9133 - accuracy: 0.6174 - val_loss: 1.7654 - val_accuracy: 0.3125\n",
      "Epoch 53/100\n",
      "32/32 [==============================] - 0s 3ms/step - loss: 0.8752 - accuracy: 0.6487 - val_loss: 1.9969 - val_accuracy: 0.3047\n",
      "Epoch 54/100\n",
      "32/32 [==============================] - 0s 3ms/step - loss: 0.8723 - accuracy: 0.6487 - val_loss: 1.9351 - val_accuracy: 0.3047\n",
      "Epoch 55/100\n",
      "32/32 [==============================] - 0s 3ms/step - loss: 0.8427 - accuracy: 0.6546 - val_loss: 1.9751 - val_accuracy: 0.2891\n",
      "Epoch 56/100\n",
      "32/32 [==============================] - 0s 4ms/step - loss: 0.7946 - accuracy: 0.6791 - val_loss: 2.0056 - val_accuracy: 0.3008\n",
      "Epoch 57/100\n",
      "32/32 [==============================] - 0s 3ms/step - loss: 0.7488 - accuracy: 0.6957 - val_loss: 2.1555 - val_accuracy: 0.2891\n",
      "Epoch 58/100\n",
      "32/32 [==============================] - 0s 3ms/step - loss: 0.6880 - accuracy: 0.7270 - val_loss: 2.2100 - val_accuracy: 0.2969\n",
      "Epoch 59/100\n",
      "32/32 [==============================] - 0s 3ms/step - loss: 0.7027 - accuracy: 0.7309 - val_loss: 2.3327 - val_accuracy: 0.2852\n",
      "Epoch 60/100\n",
      "32/32 [==============================] - 0s 3ms/step - loss: 0.6801 - accuracy: 0.7358 - val_loss: 2.2533 - val_accuracy: 0.3164\n",
      "Epoch 61/100\n",
      "32/32 [==============================] - 0s 3ms/step - loss: 0.5986 - accuracy: 0.7838 - val_loss: 2.4315 - val_accuracy: 0.2695\n",
      "Epoch 62/100\n",
      "32/32 [==============================] - 0s 4ms/step - loss: 0.6150 - accuracy: 0.7495 - val_loss: 2.4879 - val_accuracy: 0.3086\n",
      "Epoch 63/100\n",
      "32/32 [==============================] - 0s 3ms/step - loss: 0.5953 - accuracy: 0.7456 - val_loss: 2.6357 - val_accuracy: 0.2852\n",
      "Epoch 64/100\n",
      "32/32 [==============================] - 0s 3ms/step - loss: 0.5492 - accuracy: 0.7896 - val_loss: 2.6448 - val_accuracy: 0.2891\n",
      "Epoch 65/100\n",
      "32/32 [==============================] - 0s 4ms/step - loss: 0.5016 - accuracy: 0.8200 - val_loss: 2.7989 - val_accuracy: 0.2891\n",
      "Epoch 66/100\n",
      "32/32 [==============================] - 0s 3ms/step - loss: 0.5093 - accuracy: 0.8072 - val_loss: 2.8369 - val_accuracy: 0.3086\n",
      "Epoch 67/100\n",
      "32/32 [==============================] - 0s 4ms/step - loss: 0.4228 - accuracy: 0.8425 - val_loss: 3.0648 - val_accuracy: 0.2930\n",
      "Epoch 68/100\n",
      "32/32 [==============================] - 0s 4ms/step - loss: 0.4196 - accuracy: 0.8454 - val_loss: 3.0172 - val_accuracy: 0.3008\n",
      "Epoch 69/100\n",
      "32/32 [==============================] - 0s 3ms/step - loss: 0.4232 - accuracy: 0.8356 - val_loss: 3.0744 - val_accuracy: 0.3359\n",
      "Epoch 70/100\n",
      "32/32 [==============================] - 0s 3ms/step - loss: 0.3420 - accuracy: 0.8738 - val_loss: 3.2828 - val_accuracy: 0.2812\n",
      "Epoch 71/100\n",
      "32/32 [==============================] - 0s 3ms/step - loss: 0.3587 - accuracy: 0.8748 - val_loss: 3.1958 - val_accuracy: 0.3203\n",
      "Epoch 72/100\n",
      "32/32 [==============================] - 0s 3ms/step - loss: 0.3031 - accuracy: 0.9002 - val_loss: 3.5647 - val_accuracy: 0.2891\n",
      "Epoch 73/100\n",
      "32/32 [==============================] - 0s 3ms/step - loss: 0.3113 - accuracy: 0.8728 - val_loss: 3.6254 - val_accuracy: 0.2852\n",
      "Epoch 74/100\n",
      "32/32 [==============================] - 0s 3ms/step - loss: 0.3095 - accuracy: 0.8924 - val_loss: 3.7051 - val_accuracy: 0.2891\n",
      "Epoch 75/100\n",
      "32/32 [==============================] - 0s 3ms/step - loss: 0.2614 - accuracy: 0.9178 - val_loss: 3.9637 - val_accuracy: 0.2617\n",
      "Epoch 76/100\n",
      "32/32 [==============================] - 0s 4ms/step - loss: 0.3205 - accuracy: 0.8865 - val_loss: 3.8087 - val_accuracy: 0.3164\n",
      "Epoch 77/100\n",
      "32/32 [==============================] - 0s 3ms/step - loss: 0.2420 - accuracy: 0.9237 - val_loss: 3.9590 - val_accuracy: 0.3203\n",
      "Epoch 78/100\n",
      "32/32 [==============================] - 0s 3ms/step - loss: 0.1758 - accuracy: 0.9481 - val_loss: 4.2322 - val_accuracy: 0.3164\n",
      "Epoch 79/100\n",
      "32/32 [==============================] - 0s 3ms/step - loss: 0.2032 - accuracy: 0.9295 - val_loss: 4.4540 - val_accuracy: 0.2812\n",
      "Epoch 80/100\n",
      "32/32 [==============================] - 0s 3ms/step - loss: 0.2256 - accuracy: 0.9227 - val_loss: 4.3191 - val_accuracy: 0.3008\n",
      "Epoch 81/100\n",
      "32/32 [==============================] - 0s 3ms/step - loss: 0.2735 - accuracy: 0.9041 - val_loss: 4.3466 - val_accuracy: 0.2930\n",
      "Epoch 82/100\n",
      "32/32 [==============================] - 0s 3ms/step - loss: 0.1840 - accuracy: 0.9423 - val_loss: 4.3437 - val_accuracy: 0.3008\n",
      "Epoch 83/100\n",
      "32/32 [==============================] - 0s 3ms/step - loss: 0.1353 - accuracy: 0.9579 - val_loss: 4.6256 - val_accuracy: 0.2969\n",
      "Epoch 84/100\n",
      "32/32 [==============================] - 0s 3ms/step - loss: 0.1428 - accuracy: 0.9560 - val_loss: 4.7846 - val_accuracy: 0.3008\n",
      "Epoch 85/100\n",
      "32/32 [==============================] - 0s 3ms/step - loss: 0.1115 - accuracy: 0.9726 - val_loss: 4.8947 - val_accuracy: 0.3047\n",
      "Epoch 86/100\n",
      "32/32 [==============================] - 0s 3ms/step - loss: 0.0701 - accuracy: 0.9853 - val_loss: 5.0973 - val_accuracy: 0.3008\n",
      "Epoch 87/100\n",
      "32/32 [==============================] - 0s 3ms/step - loss: 0.0684 - accuracy: 0.9883 - val_loss: 5.2406 - val_accuracy: 0.2930\n",
      "Epoch 88/100\n",
      "32/32 [==============================] - 0s 4ms/step - loss: 0.0548 - accuracy: 0.9863 - val_loss: 5.4999 - val_accuracy: 0.2852\n",
      "Epoch 89/100\n",
      "32/32 [==============================] - 0s 4ms/step - loss: 0.0493 - accuracy: 0.9883 - val_loss: 5.6386 - val_accuracy: 0.3086\n",
      "Epoch 90/100\n",
      "32/32 [==============================] - 0s 3ms/step - loss: 0.0961 - accuracy: 0.9677 - val_loss: 5.3688 - val_accuracy: 0.3164\n",
      "Epoch 91/100\n",
      "32/32 [==============================] - 0s 4ms/step - loss: 0.0863 - accuracy: 0.9765 - val_loss: 5.6247 - val_accuracy: 0.3125\n",
      "Epoch 92/100\n",
      "32/32 [==============================] - 0s 3ms/step - loss: 0.0937 - accuracy: 0.9706 - val_loss: 5.5049 - val_accuracy: 0.2891\n",
      "Epoch 93/100\n",
      "32/32 [==============================] - 0s 3ms/step - loss: 0.0572 - accuracy: 0.9883 - val_loss: 5.9231 - val_accuracy: 0.2773\n",
      "Epoch 94/100\n",
      "32/32 [==============================] - 0s 3ms/step - loss: 0.0374 - accuracy: 0.9922 - val_loss: 5.9639 - val_accuracy: 0.3125\n",
      "Epoch 95/100\n",
      "32/32 [==============================] - 0s 3ms/step - loss: 0.0222 - accuracy: 0.9971 - val_loss: 6.1054 - val_accuracy: 0.3203\n",
      "Epoch 96/100\n",
      "32/32 [==============================] - 0s 3ms/step - loss: 0.0174 - accuracy: 0.9980 - val_loss: 6.2753 - val_accuracy: 0.2969\n",
      "Epoch 97/100\n",
      "32/32 [==============================] - 0s 3ms/step - loss: 0.0169 - accuracy: 0.9990 - val_loss: 6.4664 - val_accuracy: 0.2930\n",
      "Epoch 98/100\n",
      "32/32 [==============================] - 0s 3ms/step - loss: 0.0141 - accuracy: 1.0000 - val_loss: 6.4890 - val_accuracy: 0.3125\n",
      "Epoch 99/100\n",
      "32/32 [==============================] - 0s 3ms/step - loss: 0.0080 - accuracy: 1.0000 - val_loss: 6.6868 - val_accuracy: 0.3203\n",
      "Epoch 100/100\n",
      "32/32 [==============================] - 0s 3ms/step - loss: 0.0062 - accuracy: 1.0000 - val_loss: 6.7429 - val_accuracy: 0.3125\n"
     ]
    }
   ],
   "source": [
    "history = model_cnn.fit(\n",
    "    X_train, y_train,\n",
    "    epochs=EPOCHS, batch_size=BATCH_SIZE, validation_split=0.2\n",
    ")"
   ]
  },
  {
   "cell_type": "code",
   "execution_count": 73,
   "metadata": {},
   "outputs": [
    {
     "name": "stdout",
     "output_type": "stream",
     "text": [
      "18/18 - 0s - loss: 6.6915 - accuracy: 0.3157 - 183ms/epoch - 10ms/step\n",
      "Test loss: 6.69147, accuracy: 0.31569\n"
     ]
    }
   ],
   "source": [
    "_test_loss, _test_accuracy = model_cnn.evaluate(X_test, y_test, verbose=2)\n",
    "print(f'Test loss: {_test_loss:.05f}, accuracy: {_test_accuracy:.05f}')"
   ]
  },
  {
   "cell_type": "code",
   "execution_count": null,
   "metadata": {},
   "outputs": [],
   "source": []
  }
 ],
 "metadata": {
  "kernelspec": {
   "display_name": "t213p310",
   "language": "python",
   "name": "python3"
  },
  "language_info": {
   "codemirror_mode": {
    "name": "ipython",
    "version": 3
   },
   "file_extension": ".py",
   "mimetype": "text/x-python",
   "name": "python",
   "nbconvert_exporter": "python",
   "pygments_lexer": "ipython3",
   "version": "3.10.12"
  },
  "orig_nbformat": 4
 },
 "nbformat": 4,
 "nbformat_minor": 2
}
