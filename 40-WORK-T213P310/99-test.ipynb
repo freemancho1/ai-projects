{
 "cells": [
  {
   "cell_type": "code",
   "execution_count": 1,
   "metadata": {},
   "outputs": [
    {
     "name": "stderr",
     "output_type": "stream",
     "text": [
      "/tmp/ipykernel_15531/1673349187.py:4: DeprecationWarning: `import pandas_profiling` is going to be deprecated by April 1st. Please use `import ydata_profiling` instead.\n",
      "  from pandas_profiling import ProfileReport\n"
     ]
    }
   ],
   "source": [
    "import os\n",
    "import numpy as np\n",
    "import pandas as pd\n",
    "from pandas_profiling import ProfileReport\n",
    "import matplotlib.pyplot as plt"
   ]
  },
  {
   "cell_type": "code",
   "execution_count": null,
   "metadata": {},
   "outputs": [],
   "source": [
    "data = pd.DataFrame({\n",
    "    'wind_speed': np.random.rand(1000),\n",
    "    'wind_direction': np.random.rand(1000),\n",
    "    'time_info': pd.date_range(start='2022-01-01', periods=1000, freq='H'),\n",
    "    'generation': np.random.rand(1000)\n",
    "})\n",
    "\n",
    "# 데이터 전처리\n",
    "scaler = MinMaxScaler()\n",
    "data_scaled = scaler.fit_transform(data[['wind_speed', 'wind_direction', 'generation']])\n",
    "\n",
    "# 시퀀스 데이터 생성\n",
    "sequence_length = 48\n",
    "X = []\n",
    "y = []\n",
    "for i in range(len(data_scaled) - sequence_length):\n",
    "    X.append(data_scaled[i:i+sequence_length, :-1])\n",
    "    y.append(data_scaled[i+sequence_length, -1])\n",
    "X = np.array(X)\n",
    "y = np.array(y)\n",
    "\n",
    "# 데이터 분할\n",
    "X_train, X_test, y_train, y_test = train_test_split(X, y, test_size=0.2, shuffle=False)\n",
    "\n",
    "# LSTM 모델 구축\n",
    "model = Sequential()\n",
    "model.add(LSTM(units=50, activation='relu', \n",
    "               input_shape=(sequence_length, 2)))\n",
    "model.add(Dense(1))\n",
    "model.compile(optimizer='adam', loss='mean_squared_error')\n",
    "\n",
    "# 모델 훈련\n",
    "model.fit(X_train, y_train, epochs=10, batch_size=32)\n",
    "\n",
    "# 테스트 데이터로 예측 수행\n",
    "predicted_scaled = model.predict(X_test)\n",
    "predicted = scaler.inverse_transform(np.concatenate((X_test[:, -1, :-1], predicted_scaled), axis=1))[:, -1]\n",
    "\n",
    "# 실제 발전량과 예측 발전량 비교\n",
    "actual_generation = scaler.inverse_transform(y_test.reshape(-1, 1))\n",
    "print(actual_generation)\n",
    "print(predicted)"
   ]
  }
 ],
 "metadata": {
  "kernelspec": {
   "display_name": "t213p310",
   "language": "python",
   "name": "python3"
  },
  "language_info": {
   "codemirror_mode": {
    "name": "ipython",
    "version": 3
   },
   "file_extension": ".py",
   "mimetype": "text/x-python",
   "name": "python",
   "nbconvert_exporter": "python",
   "pygments_lexer": "ipython3",
   "version": "3.8.17"
  },
  "orig_nbformat": 4
 },
 "nbformat": 4,
 "nbformat_minor": 2
}
