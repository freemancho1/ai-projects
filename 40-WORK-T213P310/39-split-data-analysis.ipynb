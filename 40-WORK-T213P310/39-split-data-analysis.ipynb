{
 "cells": [
  {
   "cell_type": "markdown",
   "metadata": {},
   "source": [
    "#### 라이브러리 불러오기"
   ]
  },
  {
   "cell_type": "code",
   "execution_count": 47,
   "metadata": {},
   "outputs": [],
   "source": [
    "import os\n",
    "import numpy as np\n",
    "import pandas as pd\n",
    "\n",
    "import matplotlib.pyplot as plt\n",
    "import matplotlib.font_manager as fm\n",
    "\n",
    "from sklearn.model_selection import train_test_split\n",
    "from sklearn.ensemble import RandomForestRegressor\n",
    "\n",
    "from xgboost import XGBRegressor\n",
    "from model_evaluation import regression_evaluation, f_importances"
   ]
  },
  {
   "cell_type": "code",
   "execution_count": 2,
   "metadata": {},
   "outputs": [],
   "source": [
    "_PATH_BASE = os.path.join(os.getcwd(), 'data')"
   ]
  },
  {
   "cell_type": "markdown",
   "metadata": {},
   "source": [
    "#### 자동차 사고데이터"
   ]
  },
  {
   "cell_type": "code",
   "execution_count": 3,
   "metadata": {},
   "outputs": [],
   "source": [
    "_PATH_CAR = os.path.join(_PATH_BASE, '32-car-accident', 'split-car')\n",
    "_PATH_CAR_TRAIN = os.path.join(_PATH_CAR, 'train.csv')\n",
    "_PATH_CAR_TEST = os.path.join(_PATH_CAR, 'test.csv')\n",
    "_PATH_CAR_VALID = os.path.join(_PATH_CAR, 'validation.csv')"
   ]
  },
  {
   "cell_type": "code",
   "execution_count": 4,
   "metadata": {},
   "outputs": [],
   "source": [
    "df_car_train = pd.read_csv(_PATH_CAR_TRAIN)\n",
    "df_car_valid = pd.read_csv(_PATH_CAR_VALID)\n",
    "df_car_test = pd.read_csv(_PATH_CAR_TEST)"
   ]
  },
  {
   "cell_type": "markdown",
   "metadata": {},
   "source": [
    "##### 날짜데이터 확인"
   ]
  },
  {
   "cell_type": "code",
   "execution_count": 5,
   "metadata": {},
   "outputs": [
    {
     "name": "stdout",
     "output_type": "stream",
     "text": [
      "     train: 2013-01-01 ~ 2016-12-30, cnt: 1460\n",
      "validation: 2016-12-31 ~ 2017-07-01,       183\n",
      "      test: 2017-07-02 ~ 2017-12-31,       183\n"
     ]
    }
   ],
   "source": [
    "print(\n",
    "    f'     train: {df_car_train.tm.min()} ~ {df_car_train.tm.max()}, cnt: {df_car_train.shape[0]:>4}\\n'\n",
    "    f'validation: {df_car_valid.tm.min()} ~ {df_car_valid.tm.max()}, {df_car_valid.shape[0]:>9}\\n'\n",
    "    f'      test: {df_car_test.tm.min()} ~ {df_car_test.tm.max()}, {df_car_test.shape[0]:>9}'\n",
    ")\n",
    "# Ok"
   ]
  },
  {
   "cell_type": "markdown",
   "metadata": {},
   "source": [
    "##### 컬럼 고유값 확인: train"
   ]
  },
  {
   "cell_type": "code",
   "execution_count": 8,
   "metadata": {},
   "outputs": [
    {
     "data": {
      "text/plain": [
       "Index(['stnId', 'stnNm'], dtype='object')"
      ]
     },
     "execution_count": 8,
     "metadata": {},
     "output_type": "execute_result"
    }
   ],
   "source": [
    "car_n_unique = df_car_train.nunique()\n",
    "car_n_unique[car_n_unique==1].index\n",
    "# Ignore"
   ]
  },
  {
   "cell_type": "markdown",
   "metadata": {},
   "source": [
    "##### 결측치 확인"
   ]
  },
  {
   "cell_type": "code",
   "execution_count": 9,
   "metadata": {},
   "outputs": [
    {
     "data": {
      "text/plain": [
       "Unnamed: 0        0\n",
       "avgCm20Te         0\n",
       "ssDur             0\n",
       "sumSsHr           0\n",
       "hr1MaxIcsrHrmt    0\n",
       "dtype: int64"
      ]
     },
     "execution_count": 9,
     "metadata": {},
     "output_type": "execute_result"
    }
   ],
   "source": [
    "df_car_train.isna().sum().sort_values(ascending=False)[:5]\n",
    "# Ok"
   ]
  },
  {
   "cell_type": "markdown",
   "metadata": {},
   "source": [
    "##### 시험데이터 사망자수 분포 확인"
   ]
  },
  {
   "cell_type": "code",
   "execution_count": 10,
   "metadata": {},
   "outputs": [
    {
     "data": {
      "text/plain": [
       "사망자수\n",
       "0.0    75\n",
       "1.0    65\n",
       "2.0    26\n",
       "3.0    10\n",
       "4.0     6\n",
       "6.0     1\n",
       "Name: count, dtype: int64"
      ]
     },
     "execution_count": 10,
     "metadata": {},
     "output_type": "execute_result"
    }
   ],
   "source": [
    "df_car_test.사망자수.value_counts()\n",
    "# Ok"
   ]
  },
  {
   "cell_type": "markdown",
   "metadata": {},
   "source": [
    "#### 풍력 발전데이터"
   ]
  },
  {
   "cell_type": "code",
   "execution_count": 11,
   "metadata": {},
   "outputs": [],
   "source": [
    "_PATH_WIND = os.path.join(_PATH_BASE, '31-wind-power', 'split-wind-power')\n",
    "_PATH_WIND_TRAIN = os.path.join(_PATH_WIND, 'train.csv')\n",
    "_PATH_WIND_TEST = os.path.join(_PATH_WIND, 'test.csv')\n",
    "_PATH_WIND_VALID = os.path.join(_PATH_WIND, 'validation.csv')"
   ]
  },
  {
   "cell_type": "code",
   "execution_count": 13,
   "metadata": {},
   "outputs": [],
   "source": [
    "df_wind_train = pd.read_csv(_PATH_WIND_TRAIN)\n",
    "df_wind_valid = pd.read_csv(_PATH_WIND_VALID)\n",
    "df_wind_test = pd.read_csv(_PATH_WIND_TEST)"
   ]
  },
  {
   "cell_type": "markdown",
   "metadata": {},
   "source": [
    "##### 날짜데이터 확인"
   ]
  },
  {
   "cell_type": "code",
   "execution_count": 14,
   "metadata": {},
   "outputs": [
    {
     "name": "stdout",
     "output_type": "stream",
     "text": [
      "     train: 2019-01-01 ~ 2021-03-08, cnt:  798\n",
      "validation: 2021-03-09 ~ 2021-06-16,       100\n",
      "      test: 2021-06-17 ~ 2021-09-24,       100\n"
     ]
    }
   ],
   "source": [
    "print(\n",
    "    f'     train: {df_wind_train.tm.min()} ~ {df_wind_train.tm.max()}, cnt: {df_wind_train.shape[0]:>4}\\n'\n",
    "    f'validation: {df_wind_valid.tm.min()} ~ {df_wind_valid.tm.max()}, {df_wind_valid.shape[0]:>9}\\n'\n",
    "    f'      test: {df_wind_test.tm.min()} ~ {df_wind_test.tm.max()}, {df_wind_test.shape[0]:>9}'\n",
    ")\n",
    "# Ok"
   ]
  },
  {
   "cell_type": "markdown",
   "metadata": {},
   "source": [
    "##### 훈련데이터 컬럼 고유값 확인"
   ]
  },
  {
   "cell_type": "code",
   "execution_count": 15,
   "metadata": {},
   "outputs": [
    {
     "data": {
      "text/plain": [
       "Index(['stnId', 'stnNm', '발전기명(WTG)', '발전기(Serial)', '발전용량(kW)', '위치'], dtype='object')"
      ]
     },
     "execution_count": 15,
     "metadata": {},
     "output_type": "execute_result"
    }
   ],
   "source": [
    "wind_n_unique = df_wind_train.nunique()\n",
    "wind_n_unique[wind_n_unique==1].index\n",
    "# Ignore"
   ]
  },
  {
   "cell_type": "markdown",
   "metadata": {},
   "source": [
    "##### 결측치 확인"
   ]
  },
  {
   "cell_type": "code",
   "execution_count": null,
   "metadata": {},
   "outputs": [],
   "source": [
    "df_wind_train = df_wind_train.fillna('')"
   ]
  },
  {
   "cell_type": "code",
   "execution_count": 34,
   "metadata": {},
   "outputs": [
    {
     "data": {
      "text/plain": [
       "stnId         0\n",
       "일자_tm         0\n",
       "hr1MaxIcsr    0\n",
       "sumGsr        0\n",
       "avgTca        0\n",
       "dtype: int64"
      ]
     },
     "execution_count": 34,
     "metadata": {},
     "output_type": "execute_result"
    }
   ],
   "source": [
    "df_wind_train.isna().sum().sort_values(ascending=False)[:5]\n",
    "# Ok"
   ]
  },
  {
   "cell_type": "markdown",
   "metadata": {},
   "source": [
    "#### 태양광 발전량데이터"
   ]
  },
  {
   "cell_type": "code",
   "execution_count": 17,
   "metadata": {},
   "outputs": [],
   "source": [
    "_PATH_SUN = os.path.join(_PATH_BASE, '33-sun-power', 'split-sun-power')\n",
    "_PATH_SUN_TRAIN = os.path.join(_PATH_SUN, 'train.csv')\n",
    "_PATH_SUN_TEST = os.path.join(_PATH_SUN, 'test.csv')\n",
    "_PATH_SUN_VALID = os.path.join(_PATH_SUN, 'validation.csv')"
   ]
  },
  {
   "cell_type": "code",
   "execution_count": 18,
   "metadata": {},
   "outputs": [],
   "source": [
    "df_sun_train = pd.read_csv(_PATH_SUN_TRAIN)\n",
    "df_sun_valid = pd.read_csv(_PATH_SUN_VALID)\n",
    "df_sun_test = pd.read_csv(_PATH_SUN_TEST)"
   ]
  },
  {
   "cell_type": "markdown",
   "metadata": {},
   "source": [
    "##### 날짜데이터 확인"
   ]
  },
  {
   "cell_type": "code",
   "execution_count": 19,
   "metadata": {},
   "outputs": [
    {
     "name": "stdout",
     "output_type": "stream",
     "text": [
      "     train: 2017-01-01 ~ 2022-01-13, cnt: 1839\n",
      "validation: 2022-01-14 ~ 2022-07-08,       176\n",
      "      test: 2022-07-09 ~ 2022-12-31,       176\n"
     ]
    }
   ],
   "source": [
    "print(\n",
    "    f'     train: {df_sun_train.tm.min()} ~ {df_sun_train.tm.max()}, cnt: {df_sun_train.shape[0]:>4}\\n'\n",
    "    f'validation: {df_sun_valid.tm.min()} ~ {df_sun_valid.tm.max()}, {df_sun_valid.shape[0]:>9}\\n'\n",
    "    f'      test: {df_sun_test.tm.min()} ~ {df_sun_test.tm.max()}, {df_sun_test.shape[0]:>9}'\n",
    ")"
   ]
  },
  {
   "cell_type": "code",
   "execution_count": 20,
   "metadata": {},
   "outputs": [
    {
     "data": {
      "text/plain": [
       "Index(['발전기명', '주소', '설비용량(MW)', 'stnId', 'stnNm'], dtype='object')"
      ]
     },
     "execution_count": 20,
     "metadata": {},
     "output_type": "execute_result"
    }
   ],
   "source": [
    "sun_n_unique = df_sun_train.nunique()\n",
    "sun_n_unique[sun_n_unique==1].index"
   ]
  },
  {
   "cell_type": "code",
   "execution_count": 21,
   "metadata": {},
   "outputs": [
    {
     "data": {
      "text/plain": [
       "날짜                0\n",
       "hr1MaxIcsrHrmt    0\n",
       "avgRhm            0\n",
       "avgPv             0\n",
       "avgPa             0\n",
       "dtype: int64"
      ]
     },
     "execution_count": 21,
     "metadata": {},
     "output_type": "execute_result"
    }
   ],
   "source": [
    "df_sun_train.isna().sum().sort_values(ascending=False)[:5]"
   ]
  },
  {
   "cell_type": "markdown",
   "metadata": {},
   "source": [
    "#### RandomForestRegressor 모델링"
   ]
  },
  {
   "cell_type": "code",
   "execution_count": 43,
   "metadata": {},
   "outputs": [],
   "source": [
    "df = {\n",
    "    'car': {\n",
    "        'train': df_car_train,\n",
    "        'test': df_car_test,\n",
    "        'valid': df_car_valid,\n",
    "        'target_col': '사망자수'\n",
    "    },\n",
    "    'sun': {\n",
    "        'train': df_sun_train,\n",
    "        'test': df_sun_test,\n",
    "        'valid': df_sun_valid, \n",
    "        'target_col': '일일발전량(Wh)'\n",
    "    },\n",
    "    'wind': {\n",
    "        'train': df_wind_train,\n",
    "        'test': df_wind_test,\n",
    "        'valid': df_wind_valid,\n",
    "        'target_col': '발전량(kWh)'\n",
    "    }\n",
    "}\n",
    "\n",
    "SEED = 1234"
   ]
  },
  {
   "cell_type": "code",
   "execution_count": 52,
   "metadata": {},
   "outputs": [],
   "source": [
    "def model_test(data_type):\n",
    "    ds = df[data_type]\n",
    "    _X_train = ds['train'].drop(ds['target_col'], axis=1)\n",
    "    y_train = ds['train'][ds['target_col']]\n",
    "    X_valid = ds['valid'].drop(ds['target_col'], axis=1)\n",
    "    y_valid = ds['valid'][ds['target_col']]\n",
    "    _X_test = ds['test'].drop(ds['target_col'], axis=1)\n",
    "    y_test = ds['test'][ds['target_col']]\n",
    "    \n",
    "    X_train = _X_train.select_dtypes(include=[np.number])\n",
    "    X_test = _X_test[X_train.columns]\n",
    "    \n",
    "    model = RandomForestRegressor(n_estimators=100, random_state=SEED)\n",
    "    model.fit(X_train, y_train)\n",
    "    \n",
    "    pred = model.predict(X_test)\n",
    "    _ = regression_evaluation(y_test, pred)"
   ]
  },
  {
   "cell_type": "code",
   "execution_count": 53,
   "metadata": {},
   "outputs": [
    {
     "name": "stdout",
     "output_type": "stream",
     "text": [
      "R2_SCORE: 0.878049, MAPE2: 13.306492, MSE: 919127245440.068237, RMSE: 958711.241949, MAPE: 0.133065, MAE: 619118.284091\n"
     ]
    }
   ],
   "source": [
    "model_test('sun')"
   ]
  },
  {
   "cell_type": "code",
   "execution_count": 54,
   "metadata": {},
   "outputs": [
    {
     "name": "stdout",
     "output_type": "stream",
     "text": [
      "R2_SCORE: -0.031212, MAPE2: 473989071059.351929, MSE: 1.238599, RMSE: 1.112924, MAPE: 2134657003705556.750000, MAE: 0.888033\n"
     ]
    }
   ],
   "source": [
    "model_test('car')"
   ]
  },
  {
   "cell_type": "code",
   "execution_count": 55,
   "metadata": {},
   "outputs": [
    {
     "name": "stdout",
     "output_type": "stream",
     "text": [
      "R2_SCORE: 0.999963, MAPE2: 96889100000.646973, MSE: 2283.458447, RMSE: 47.785546, MAPE: 436349714656262.750000, MAE: 28.194266\n"
     ]
    }
   ],
   "source": [
    "model_test('wind')"
   ]
  },
  {
   "cell_type": "code",
   "execution_count": null,
   "metadata": {},
   "outputs": [],
   "source": []
  }
 ],
 "metadata": {
  "kernelspec": {
   "display_name": "t213p310",
   "language": "python",
   "name": "python3"
  },
  "language_info": {
   "codemirror_mode": {
    "name": "ipython",
    "version": 3
   },
   "file_extension": ".py",
   "mimetype": "text/x-python",
   "name": "python",
   "nbconvert_exporter": "python",
   "pygments_lexer": "ipython3",
   "version": "3.10.12"
  },
  "orig_nbformat": 4
 },
 "nbformat": 4,
 "nbformat_minor": 2
}
