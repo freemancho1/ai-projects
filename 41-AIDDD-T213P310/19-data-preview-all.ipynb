{
 "cells": [
  {
   "cell_type": "markdown",
   "metadata": {},
   "source": [
    "#### 개요\n",
    "\n",
    "* 전체 데이터를 대상으로 공통 컬럼 확인"
   ]
  },
  {
   "cell_type": "markdown",
   "metadata": {},
   "source": [
    "#### 라이브러리 불러오기"
   ]
  },
  {
   "cell_type": "code",
   "execution_count": 68,
   "metadata": {},
   "outputs": [],
   "source": [
    "import os\n",
    "import warnings\n",
    "import numpy as np\n",
    "import pandas as pd\n",
    "\n",
    "# 사용자정의 함수: key를 입력하면 해당 데이터를 데이터프레임으로 읽어옴\n",
    "from aiddd.get_datas import get_data"
   ]
  },
  {
   "cell_type": "markdown",
   "metadata": {},
   "source": [
    "#### Jupyter 설정"
   ]
  },
  {
   "cell_type": "code",
   "execution_count": 2,
   "metadata": {},
   "outputs": [],
   "source": [
    "# 엑셀파일을 읽을 때, openpyxl라이브러리에서 스타일관련 오류를 출력하는데, \n",
    "# 일반적으로 이 경고는 무시해도 무방하기 때문에 설정을 변경함\n",
    "warnings.filterwarnings(\n",
    "    'ignore',\n",
    "    category=UserWarning,\n",
    "    module='openpyxl.styles.stylesheet'\n",
    ")"
   ]
  },
  {
   "cell_type": "markdown",
   "metadata": {},
   "source": [
    "#### 모든 데이터 불러오기"
   ]
  },
  {
   "cell_type": "code",
   "execution_count": 3,
   "metadata": {},
   "outputs": [],
   "source": [
    "df = {\n",
    "    'kbt': {\n",
    "        '고객': get_data('kbt 고객'),\n",
    "        '인입선': get_data('kbt 인입선'),\n",
    "        '장주애자': get_data('kbt 장주애자'),\n",
    "        '전선': get_data('kbt 전선'),\n",
    "        '전주': get_data('kbt 전주'),\n",
    "        '접지': get_data('kbt 접지'),\n",
    "        '지지선': get_data('kbt 지지선'),\n",
    "    },\n",
    "    '공사비': {\n",
    "        '공사비': get_data('공사비'),\n",
    "    },\n",
    "    '기별': {\n",
    "        '애자': get_data('기별 애자'),\n",
    "        '인입선': get_data('기별 인입선'),\n",
    "        '장주': get_data('기별 장주'),\n",
    "        '전선': get_data('기별 전선'),\n",
    "        '전주': get_data('기별 전주'),\n",
    "        '접지': get_data('기별 접지'),\n",
    "        '지지선': get_data('기별 지지선'),\n",
    "    },\n",
    "    '설계': {\n",
    "        '고객': get_data('설계 고객'),\n",
    "        '애자': get_data('설계 애자'),\n",
    "        '인입선': get_data('설계 인입선'),\n",
    "        '장주': get_data('설계 장주'),\n",
    "        '전선': get_data('설계 전선'),\n",
    "        '전주': get_data('설계 전주'),\n",
    "        '접지': get_data('설계 접지'),\n",
    "        '지지선': get_data('설계 지지선'),\n",
    "    },\n",
    "}"
   ]
  },
  {
   "cell_type": "markdown",
   "metadata": {},
   "source": [
    "#### 각 데이터셋별 공통 컬럼명 추출"
   ]
  },
  {
   "cell_type": "code",
   "execution_count": 20,
   "metadata": {},
   "outputs": [
    {
     "name": "stdout",
     "output_type": "stream",
     "text": [
      "kbt:\n",
      "['CMRM_CD', 'GID', 'FAC_STAT_CD', 'CSNTI_DT', 'LST_RVSE_DT', 'DESN_OBJ_GID']\n",
      "공사비:\n",
      "Index(['공사번호', '공사변경순번', '배전공사형태코드', '회사분공사비', '도급분공사비', '자본적금액', '수익적금액',\n",
      "       '본사분재료비', '외자분재료비', '내자분재료비',\n",
      "       ...\n",
      "       '최초등록일시', '최초등록자사번', '최종변경일시', '최종변경자사번', '사업소명', '접수종류코드', '접수종류명',\n",
      "       '공사형태코드', '공사형태명', '계약전력'],\n",
      "      dtype='object', length=143)\n",
      "기별:\n",
      "['공사단위', '공사번호', '공사변경순번', '전산화번호', '설계설비GID', '배전공사형태코드', '기단위공통순번', '자재번호', '기단위자재수량', '자재단가', '자재연관전개번호', '품번호', '공종코드', '공종규격코드1', '공종규격코드2', '기단위품수량', '기단위동시수량', '기단위전환수량', '직접노무비', '공구손료', '기계경비', '잡재료비', '품연관전개번호', '해설순번', '해설번호', '해설코드1', '해설코드2', '기단위해설값', '해설명', '해설구분코드', '기단위작업계수', '사업소명', '접수종류코드', '접수종류명', '공사형태코드', '공사형태명', '계약전력']\n",
      "설계:\n",
      "['공사번호', '공사변경순번', '전산화번호', '공사구분코드', 'GISID', '최초등록일시', '최초등록자사번', '최종변경일시', '최종변경자사번', '사업소명', '접수종류코드', '접수종류명', '공사형태코드', '공사형태명', '계약전력']\n"
     ]
    }
   ],
   "source": [
    "# 각 데이터셋별 공통 컬럼명 추출\n",
    "for key in df.keys():\n",
    "    print(f'{key}:')\n",
    "    common_cols = df[key][list(df[key].keys())[0]].columns\n",
    "    if len(df[key].keys()) != 1:\n",
    "        for key2 in list(df[key].keys())[1:]:\n",
    "            common_cols = [\n",
    "                col for col in common_cols if col in df[key][key2].columns\n",
    "            ]\n",
    "    print(common_cols)\n",
    "        "
   ]
  },
  {
   "cell_type": "markdown",
   "metadata": {},
   "source": [
    "#### 데이터셋 간 공통 컬럼명 추출"
   ]
  },
  {
   "cell_type": "code",
   "execution_count": 71,
   "metadata": {},
   "outputs": [],
   "source": [
    "def get_common_cols(*cols):\n",
    "    common_cols = df[cols[0]][list(df[cols[0]].keys())[0]].columns\n",
    "    for key in cols:\n",
    "        for key2 in list(df[key].keys()):\n",
    "            common_cols = [\n",
    "                col for col in common_cols if col in df[key][key2].columns\n",
    "            ]\n",
    "    \n",
    "    return common_cols"
   ]
  },
  {
   "cell_type": "code",
   "execution_count": 72,
   "metadata": {},
   "outputs": [
    {
     "data": {
      "text/plain": [
       "['공사번호',\n",
       " '공사변경순번',\n",
       " '배전공사형태코드',\n",
       " '잡재료비',\n",
       " '직접노무비',\n",
       " '기계경비',\n",
       " '공구손료',\n",
       " '사업소명',\n",
       " '접수종류코드',\n",
       " '접수종류명',\n",
       " '공사형태코드',\n",
       " '공사형태명',\n",
       " '계약전력']"
      ]
     },
     "execution_count": 72,
     "metadata": {},
     "output_type": "execute_result"
    }
   ],
   "source": [
    "get_common_cols('공사비', '기별')"
   ]
  },
  {
   "cell_type": "code",
   "execution_count": 73,
   "metadata": {},
   "outputs": [
    {
     "data": {
      "text/plain": [
       "['공사번호',\n",
       " '공사변경순번',\n",
       " '최초등록일시',\n",
       " '최초등록자사번',\n",
       " '최종변경일시',\n",
       " '최종변경자사번',\n",
       " '사업소명',\n",
       " '접수종류코드',\n",
       " '접수종류명',\n",
       " '공사형태코드',\n",
       " '공사형태명',\n",
       " '계약전력']"
      ]
     },
     "execution_count": 73,
     "metadata": {},
     "output_type": "execute_result"
    }
   ],
   "source": [
    "get_common_cols('공사비', '설계')"
   ]
  },
  {
   "cell_type": "code",
   "execution_count": 74,
   "metadata": {},
   "outputs": [
    {
     "data": {
      "text/plain": [
       "['공사번호',\n",
       " '공사변경순번',\n",
       " '전산화번호',\n",
       " '사업소명',\n",
       " '접수종류코드',\n",
       " '접수종류명',\n",
       " '공사형태코드',\n",
       " '공사형태명',\n",
       " '계약전력']"
      ]
     },
     "execution_count": 74,
     "metadata": {},
     "output_type": "execute_result"
    }
   ],
   "source": [
    "get_common_cols('설계', '기별')"
   ]
  },
  {
   "cell_type": "code",
   "execution_count": 75,
   "metadata": {},
   "outputs": [
    {
     "data": {
      "text/plain": [
       "['공사번호', '공사변경순번', '사업소명', '접수종류코드', '접수종류명', '공사형태코드', '공사형태명', '계약전력']"
      ]
     },
     "execution_count": 75,
     "metadata": {},
     "output_type": "execute_result"
    }
   ],
   "source": [
    "get_common_cols('공사비', '설계', '기별')"
   ]
  },
  {
   "cell_type": "markdown",
   "metadata": {},
   "source": [
    "#### 공통 컬럼별 유니크값 확인"
   ]
  },
  {
   "cell_type": "code",
   "execution_count": 93,
   "metadata": {},
   "outputs": [],
   "source": [
    "def get_common_cols_nunique(*cols):\n",
    "    common_cols = get_common_cols(*cols)\n",
    "    df_nunique = pd.DataFrame()\n",
    "    \n",
    "    for key1 in cols:\n",
    "        for key2 in df[key1].keys():\n",
    "            nunique = df[key1][key2][common_cols].nunique()\n",
    "            nunique.name = f'{key1}-{key2}'\n",
    "            df_nunique = pd.concat([df_nunique, nunique], axis=1)\n",
    "    return df_nunique.T"
   ]
  },
  {
   "cell_type": "code",
   "execution_count": 94,
   "metadata": {},
   "outputs": [
    {
     "data": {
      "text/html": [
       "<div>\n",
       "<style scoped>\n",
       "    .dataframe tbody tr th:only-of-type {\n",
       "        vertical-align: middle;\n",
       "    }\n",
       "\n",
       "    .dataframe tbody tr th {\n",
       "        vertical-align: top;\n",
       "    }\n",
       "\n",
       "    .dataframe thead th {\n",
       "        text-align: right;\n",
       "    }\n",
       "</style>\n",
       "<table border=\"1\" class=\"dataframe\">\n",
       "  <thead>\n",
       "    <tr style=\"text-align: right;\">\n",
       "      <th></th>\n",
       "      <th>공사번호</th>\n",
       "      <th>공사변경순번</th>\n",
       "      <th>사업소명</th>\n",
       "      <th>접수종류코드</th>\n",
       "      <th>접수종류명</th>\n",
       "      <th>공사형태코드</th>\n",
       "      <th>공사형태명</th>\n",
       "      <th>계약전력</th>\n",
       "    </tr>\n",
       "  </thead>\n",
       "  <tbody>\n",
       "    <tr>\n",
       "      <th>공사비-공사비</th>\n",
       "      <td>7097</td>\n",
       "      <td>1</td>\n",
       "      <td>1</td>\n",
       "      <td>14</td>\n",
       "      <td>14</td>\n",
       "      <td>3</td>\n",
       "      <td>3</td>\n",
       "      <td>261</td>\n",
       "    </tr>\n",
       "    <tr>\n",
       "      <th>설계-고객</th>\n",
       "      <td>3681</td>\n",
       "      <td>1</td>\n",
       "      <td>1</td>\n",
       "      <td>9</td>\n",
       "      <td>9</td>\n",
       "      <td>3</td>\n",
       "      <td>3</td>\n",
       "      <td>114</td>\n",
       "    </tr>\n",
       "    <tr>\n",
       "      <th>설계-애자</th>\n",
       "      <td>3941</td>\n",
       "      <td>1</td>\n",
       "      <td>1</td>\n",
       "      <td>12</td>\n",
       "      <td>12</td>\n",
       "      <td>3</td>\n",
       "      <td>3</td>\n",
       "      <td>184</td>\n",
       "    </tr>\n",
       "    <tr>\n",
       "      <th>설계-인입선</th>\n",
       "      <td>5181</td>\n",
       "      <td>1</td>\n",
       "      <td>1</td>\n",
       "      <td>11</td>\n",
       "      <td>11</td>\n",
       "      <td>3</td>\n",
       "      <td>3</td>\n",
       "      <td>172</td>\n",
       "    </tr>\n",
       "    <tr>\n",
       "      <th>설계-장주</th>\n",
       "      <td>3942</td>\n",
       "      <td>1</td>\n",
       "      <td>1</td>\n",
       "      <td>12</td>\n",
       "      <td>12</td>\n",
       "      <td>3</td>\n",
       "      <td>3</td>\n",
       "      <td>184</td>\n",
       "    </tr>\n",
       "    <tr>\n",
       "      <th>설계-전선</th>\n",
       "      <td>4289</td>\n",
       "      <td>1</td>\n",
       "      <td>1</td>\n",
       "      <td>13</td>\n",
       "      <td>13</td>\n",
       "      <td>3</td>\n",
       "      <td>3</td>\n",
       "      <td>177</td>\n",
       "    </tr>\n",
       "    <tr>\n",
       "      <th>설계-전주</th>\n",
       "      <td>3886</td>\n",
       "      <td>1</td>\n",
       "      <td>1</td>\n",
       "      <td>13</td>\n",
       "      <td>13</td>\n",
       "      <td>3</td>\n",
       "      <td>3</td>\n",
       "      <td>195</td>\n",
       "    </tr>\n",
       "    <tr>\n",
       "      <th>설계-접지</th>\n",
       "      <td>4769</td>\n",
       "      <td>1</td>\n",
       "      <td>1</td>\n",
       "      <td>13</td>\n",
       "      <td>13</td>\n",
       "      <td>3</td>\n",
       "      <td>3</td>\n",
       "      <td>223</td>\n",
       "    </tr>\n",
       "    <tr>\n",
       "      <th>설계-지지선</th>\n",
       "      <td>3502</td>\n",
       "      <td>1</td>\n",
       "      <td>1</td>\n",
       "      <td>12</td>\n",
       "      <td>12</td>\n",
       "      <td>3</td>\n",
       "      <td>3</td>\n",
       "      <td>186</td>\n",
       "    </tr>\n",
       "    <tr>\n",
       "      <th>기별-애자</th>\n",
       "      <td>3851</td>\n",
       "      <td>1</td>\n",
       "      <td>1</td>\n",
       "      <td>12</td>\n",
       "      <td>12</td>\n",
       "      <td>3</td>\n",
       "      <td>3</td>\n",
       "      <td>183</td>\n",
       "    </tr>\n",
       "    <tr>\n",
       "      <th>기별-인입선</th>\n",
       "      <td>8288</td>\n",
       "      <td>1</td>\n",
       "      <td>1</td>\n",
       "      <td>12</td>\n",
       "      <td>12</td>\n",
       "      <td>3</td>\n",
       "      <td>3</td>\n",
       "      <td>169</td>\n",
       "    </tr>\n",
       "    <tr>\n",
       "      <th>기별-장주</th>\n",
       "      <td>3878</td>\n",
       "      <td>1</td>\n",
       "      <td>1</td>\n",
       "      <td>12</td>\n",
       "      <td>12</td>\n",
       "      <td>3</td>\n",
       "      <td>3</td>\n",
       "      <td>183</td>\n",
       "    </tr>\n",
       "    <tr>\n",
       "      <th>기별-전선</th>\n",
       "      <td>1242</td>\n",
       "      <td>1</td>\n",
       "      <td>1</td>\n",
       "      <td>13</td>\n",
       "      <td>13</td>\n",
       "      <td>3</td>\n",
       "      <td>3</td>\n",
       "      <td>141</td>\n",
       "    </tr>\n",
       "    <tr>\n",
       "      <th>기별-전주</th>\n",
       "      <td>3749</td>\n",
       "      <td>1</td>\n",
       "      <td>1</td>\n",
       "      <td>13</td>\n",
       "      <td>13</td>\n",
       "      <td>3</td>\n",
       "      <td>3</td>\n",
       "      <td>192</td>\n",
       "    </tr>\n",
       "    <tr>\n",
       "      <th>기별-접지</th>\n",
       "      <td>3375</td>\n",
       "      <td>1</td>\n",
       "      <td>1</td>\n",
       "      <td>13</td>\n",
       "      <td>13</td>\n",
       "      <td>3</td>\n",
       "      <td>3</td>\n",
       "      <td>189</td>\n",
       "    </tr>\n",
       "    <tr>\n",
       "      <th>기별-지지선</th>\n",
       "      <td>3157</td>\n",
       "      <td>1</td>\n",
       "      <td>1</td>\n",
       "      <td>12</td>\n",
       "      <td>12</td>\n",
       "      <td>3</td>\n",
       "      <td>3</td>\n",
       "      <td>165</td>\n",
       "    </tr>\n",
       "  </tbody>\n",
       "</table>\n",
       "</div>"
      ],
      "text/plain": [
       "         공사번호  공사변경순번  사업소명  접수종류코드  접수종류명  공사형태코드  공사형태명  계약전력\n",
       "공사비-공사비  7097       1     1      14     14       3      3   261\n",
       "설계-고객    3681       1     1       9      9       3      3   114\n",
       "설계-애자    3941       1     1      12     12       3      3   184\n",
       "설계-인입선   5181       1     1      11     11       3      3   172\n",
       "설계-장주    3942       1     1      12     12       3      3   184\n",
       "설계-전선    4289       1     1      13     13       3      3   177\n",
       "설계-전주    3886       1     1      13     13       3      3   195\n",
       "설계-접지    4769       1     1      13     13       3      3   223\n",
       "설계-지지선   3502       1     1      12     12       3      3   186\n",
       "기별-애자    3851       1     1      12     12       3      3   183\n",
       "기별-인입선   8288       1     1      12     12       3      3   169\n",
       "기별-장주    3878       1     1      12     12       3      3   183\n",
       "기별-전선    1242       1     1      13     13       3      3   141\n",
       "기별-전주    3749       1     1      13     13       3      3   192\n",
       "기별-접지    3375       1     1      13     13       3      3   189\n",
       "기별-지지선   3157       1     1      12     12       3      3   165"
      ]
     },
     "execution_count": 94,
     "metadata": {},
     "output_type": "execute_result"
    }
   ],
   "source": [
    "get_common_cols_nunique('공사비', '설계', '기별')"
   ]
  },
  {
   "cell_type": "code",
   "execution_count": 95,
   "metadata": {},
   "outputs": [
    {
     "data": {
      "text/plain": [
       "공사변경순번\n",
       "99    7097\n",
       "Name: count, dtype: int64"
      ]
     },
     "execution_count": 95,
     "metadata": {},
     "output_type": "execute_result"
    }
   ],
   "source": [
    "df['공사비']['공사비']['공사변경순번'].value_counts()"
   ]
  },
  {
   "cell_type": "code",
   "execution_count": 96,
   "metadata": {},
   "outputs": [
    {
     "data": {
      "text/plain": [
       "사업소명\n",
       "동청주지사    7097\n",
       "Name: count, dtype: int64"
      ]
     },
     "execution_count": 96,
     "metadata": {},
     "output_type": "execute_result"
    }
   ],
   "source": [
    "df['공사비']['공사비']['사업소명'].value_counts()"
   ]
  },
  {
   "cell_type": "code",
   "execution_count": 97,
   "metadata": {},
   "outputs": [
    {
     "data": {
      "text/plain": [
       "접수종류명\n",
       "신설(상용/임시)     5810\n",
       "신설(발전기)        597\n",
       "증설             185\n",
       "공급방식변경증설       155\n",
       "계약종별변경증설       127\n",
       "단순공급방식변경        74\n",
       "해지후재사용(신규)      46\n",
       "공급지점변경          43\n",
       "일부해지(신규)        27\n",
       "계약단위합병          23\n",
       "신증설(예비전력)        6\n",
       "증설(발전기)          2\n",
       "계약변경(발전기)        1\n",
       "계약단위분할           1\n",
       "Name: count, dtype: int64"
      ]
     },
     "execution_count": 97,
     "metadata": {},
     "output_type": "execute_result"
    }
   ],
   "source": [
    "df['공사비']['공사비']['접수종류명'].value_counts()"
   ]
  },
  {
   "cell_type": "code",
   "execution_count": 98,
   "metadata": {},
   "outputs": [
    {
     "data": {
      "text/plain": [
       "공사형태명\n",
       "외선소요         7031\n",
       "외선소요(선공급)      55\n",
       "외선불요           11\n",
       "Name: count, dtype: int64"
      ]
     },
     "execution_count": 98,
     "metadata": {},
     "output_type": "execute_result"
    }
   ],
   "source": [
    "df['공사비']['공사비']['공사형태명'].value_counts()"
   ]
  },
  {
   "cell_type": "code",
   "execution_count": null,
   "metadata": {},
   "outputs": [],
   "source": []
  }
 ],
 "metadata": {
  "kernelspec": {
   "display_name": "t213p310",
   "language": "python",
   "name": "python3"
  },
  "language_info": {
   "codemirror_mode": {
    "name": "ipython",
    "version": 3
   },
   "file_extension": ".py",
   "mimetype": "text/x-python",
   "name": "python",
   "nbconvert_exporter": "python",
   "pygments_lexer": "ipython3",
   "version": "3.10.12"
  },
  "orig_nbformat": 4
 },
 "nbformat": 4,
 "nbformat_minor": 2
}
