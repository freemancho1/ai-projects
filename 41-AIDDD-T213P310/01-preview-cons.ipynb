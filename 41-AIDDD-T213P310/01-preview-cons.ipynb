{
 "cells": [
  {
   "cell_type": "markdown",
   "metadata": {},
   "source": [
    "#### 공사비 데이터셋"
   ]
  },
  {
   "cell_type": "markdown",
   "metadata": {},
   "source": [
    "#### 라이브러리 불러오기"
   ]
  },
  {
   "cell_type": "code",
   "execution_count": 1,
   "metadata": {},
   "outputs": [],
   "source": [
    "import copy\n",
    "import numpy as np\n",
    "import pandas as pd\n",
    "\n",
    "import matplotlib.pyplot as plt\n",
    "import seaborn as sns\n",
    "from datetime import datetime\n",
    "\n",
    "from aiddd.data_manager import read_data, write_data\n",
    "from freeman.plt_setting import plt_settings\n",
    "\n",
    "plt_settings()"
   ]
  },
  {
   "cell_type": "markdown",
   "metadata": {},
   "source": [
    "#### 데이터 읽어오기"
   ]
  },
  {
   "cell_type": "code",
   "execution_count": 2,
   "metadata": {},
   "outputs": [
    {
     "name": "stdout",
     "output_type": "stream",
     "text": [
      "Total elapsed time for data load: 0:00:19.170209, Shape: (19052, 143)\n"
     ]
    }
   ],
   "source": [
    "_start = datetime.now()\n",
    "df_data = read_data('2nd CONS')\n",
    "print(\n",
    "    f'Total elapsed time for data load: {datetime.now()-_start}, '\n",
    "    f'Shape: {df_data.shape}'\n",
    ")"
   ]
  },
  {
   "cell_type": "markdown",
   "metadata": {},
   "source": [
    "#### 데이터 확인"
   ]
  },
  {
   "cell_type": "code",
   "execution_count": 3,
   "metadata": {},
   "outputs": [],
   "source": [
    "col_uniq_cnts = df_data.nunique()\n",
    "col_names_1u = col_uniq_cnts[col_uniq_cnts <= 1].index\n",
    "df_data.drop(columns=col_names_1u, axis=1, inplace=True)"
   ]
  },
  {
   "cell_type": "code",
   "execution_count": 7,
   "metadata": {},
   "outputs": [
    {
     "data": {
      "text/plain": [
       "['사업소명']"
      ]
     },
     "execution_count": 7,
     "metadata": {},
     "output_type": "execute_result"
    }
   ],
   "source": [
    "col_office = [col for col in df_data.columns if '사업소' in col]\n",
    "col_office"
   ]
  },
  {
   "cell_type": "code",
   "execution_count": 8,
   "metadata": {},
   "outputs": [
    {
     "data": {
      "text/plain": [
       "사업소명\n",
       "증평괴산지사    2591\n",
       "동청주지사     2172\n",
       "충주지사      2057\n",
       "영동지사      1779\n",
       "음성지사      1728\n",
       "제천지사      1684\n",
       "보은지사      1668\n",
       "충북본부직할    1572\n",
       "진천지사      1447\n",
       "옥천지사      1419\n",
       "단양지사       935\n",
       "Name: count, dtype: int64"
      ]
     },
     "execution_count": 8,
     "metadata": {},
     "output_type": "execute_result"
    }
   ],
   "source": [
    "df_data['사업소명'].value_counts()"
   ]
  },
  {
   "cell_type": "code",
   "execution_count": null,
   "metadata": {},
   "outputs": [],
   "source": []
  }
 ],
 "metadata": {
  "kernelspec": {
   "display_name": "t213p310",
   "language": "python",
   "name": "python3"
  },
  "language_info": {
   "codemirror_mode": {
    "name": "ipython",
    "version": 3
   },
   "file_extension": ".py",
   "mimetype": "text/x-python",
   "name": "python",
   "nbconvert_exporter": "python",
   "pygments_lexer": "ipython3",
   "version": "3.10.12"
  },
  "orig_nbformat": 4
 },
 "nbformat": 4,
 "nbformat_minor": 2
}
