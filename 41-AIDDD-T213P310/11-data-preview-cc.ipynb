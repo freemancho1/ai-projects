{
 "cells": [
  {
   "cell_type": "markdown",
   "metadata": {},
   "source": [
    "#### Construction Cost: 공사비"
   ]
  },
  {
   "cell_type": "code",
   "execution_count": 1,
   "metadata": {},
   "outputs": [],
   "source": [
    "import os\n",
    "import warnings\n",
    "import numpy as np\n",
    "import pandas as pd\n",
    "\n",
    "from aiddd.get_datas import get_data"
   ]
  },
  {
   "cell_type": "code",
   "execution_count": 2,
   "metadata": {},
   "outputs": [],
   "source": [
    "# 엑셀파일을 읽을 때, openpyxl라이브러리에서 스타일관련 오류를 출력하는데, \n",
    "# 일반적으로 이 경고는 무시해도 무방하기 때문에 설정을 변경함\n",
    "warnings.filterwarnings(\n",
    "    'ignore',\n",
    "    category=UserWarning,\n",
    "    module='openpyxl.styles.stylesheet'\n",
    ")"
   ]
  },
  {
   "cell_type": "code",
   "execution_count": 3,
   "metadata": {},
   "outputs": [
    {
     "name": "stdout",
     "output_type": "stream",
     "text": [
      "<class 'pandas.core.frame.DataFrame'>\n",
      "RangeIndex: 7097 entries, 0 to 7096\n",
      "Columns: 143 entries, 공사번호 to 계약전력\n",
      "dtypes: float64(11), int64(123), object(9)\n",
      "memory usage: 7.7+ MB\n"
     ]
    }
   ],
   "source": [
    "df_cc = get_data('공사비')\n",
    "df_cc.info()"
   ]
  },
  {
   "cell_type": "code",
   "execution_count": 4,
   "metadata": {},
   "outputs": [
    {
     "data": {
      "text/plain": [
       "신기술공종규격코드    7097\n",
       "전선변압기코드번호    7097\n",
       "CUD상태코드      7097\n",
       "공사번호            0\n",
       "더블블레이드수익금       0\n",
       "             ... \n",
       "전선기술경비          0\n",
       "전선기술재료비         0\n",
       "전선기술노무비         0\n",
       "경비              0\n",
       "계약전력            0\n",
       "Length: 143, dtype: int64"
      ]
     },
     "execution_count": 4,
     "metadata": {},
     "output_type": "execute_result"
    }
   ],
   "source": [
    "df_cc.isna().sum().sort_values(ascending=False)"
   ]
  },
  {
   "cell_type": "code",
   "execution_count": 5,
   "metadata": {},
   "outputs": [],
   "source": [
    "# '신기술공종규격코드', '전선변압기코드번호', 'CUD상태코드'는 모두 NaN이기 때문에 제거\n",
    "df_cc.drop(columns=['신기술공종규격코드', '전선변압기코드번호', 'CUD상태코드'], axis=1, inplace=True)"
   ]
  },
  {
   "cell_type": "code",
   "execution_count": 14,
   "metadata": {},
   "outputs": [
    {
     "data": {
      "text/plain": [
       "83"
      ]
     },
     "execution_count": 14,
     "metadata": {},
     "output_type": "execute_result"
    }
   ],
   "source": [
    "# 하나의 값만 존재하는 컬럼 추출\n",
    "cols_with_unique = df_cc.columns[df_cc.nunique() == 1]\n",
    "len(cols_with_unique)"
   ]
  },
  {
   "cell_type": "code",
   "execution_count": 15,
   "metadata": {},
   "outputs": [
    {
     "data": {
      "text/plain": [
       "80"
      ]
     },
     "execution_count": 15,
     "metadata": {},
     "output_type": "execute_result"
    }
   ],
   "source": [
    "# 하나의 값만 존재하며 그 값이 0인 컬럼 추출\n",
    "cols_with_unique_zero = [\n",
    "    col for col in df_cc.columns if df_cc[col].nunique()==1 and df_cc[col][0]==0\n",
    "]\n",
    "len(cols_with_unique_zero)"
   ]
  },
  {
   "cell_type": "code",
   "execution_count": 17,
   "metadata": {},
   "outputs": [
    {
     "data": {
      "text/html": [
       "<div>\n",
       "<style scoped>\n",
       "    .dataframe tbody tr th:only-of-type {\n",
       "        vertical-align: middle;\n",
       "    }\n",
       "\n",
       "    .dataframe tbody tr th {\n",
       "        vertical-align: top;\n",
       "    }\n",
       "\n",
       "    .dataframe thead th {\n",
       "        text-align: right;\n",
       "    }\n",
       "</style>\n",
       "<table border=\"1\" class=\"dataframe\">\n",
       "  <thead>\n",
       "    <tr style=\"text-align: right;\">\n",
       "      <th></th>\n",
       "      <th>공사변경순번</th>\n",
       "      <th>배전공사형태코드</th>\n",
       "      <th>사업소명</th>\n",
       "    </tr>\n",
       "  </thead>\n",
       "  <tbody>\n",
       "    <tr>\n",
       "      <th>0</th>\n",
       "      <td>99</td>\n",
       "      <td></td>\n",
       "      <td>동청주지사</td>\n",
       "    </tr>\n",
       "  </tbody>\n",
       "</table>\n",
       "</div>"
      ],
      "text/plain": [
       "   공사변경순번 배전공사형태코드   사업소명\n",
       "0      99           동청주지사"
      ]
     },
     "execution_count": 17,
     "metadata": {},
     "output_type": "execute_result"
    }
   ],
   "source": [
    "# 하나의 값만 존재하며 그 값이 0이 아닌 컬럼\n",
    "cols_with_unique_not_zero = [\n",
    "    col for col in df_cc.columns if df_cc[col].nunique()==1 and df_cc[col][0]!=0\n",
    "]\n",
    "df_cc[cols_with_unique_not_zero].head()[:1]"
   ]
  },
  {
   "cell_type": "code",
   "execution_count": 18,
   "metadata": {},
   "outputs": [],
   "source": [
    "# 하나의 값만 존재하면 그 값이 0인 컬럼 제거\n",
    "df_cc.drop(columns=cols_with_unique_zero, axis=1, inplace=True)"
   ]
  },
  {
   "cell_type": "code",
   "execution_count": 19,
   "metadata": {},
   "outputs": [
    {
     "name": "stdout",
     "output_type": "stream",
     "text": [
      "<class 'pandas.core.frame.DataFrame'>\n",
      "RangeIndex: 7097 entries, 0 to 7096\n",
      "Data columns (total 60 columns):\n",
      " #   Column           Non-Null Count  Dtype  \n",
      "---  ------           --------------  -----  \n",
      " 0   공사번호             7097 non-null   int64  \n",
      " 1   공사변경순번           7097 non-null   int64  \n",
      " 2   배전공사형태코드         7097 non-null   object \n",
      " 3   회사분공사비           7097 non-null   int64  \n",
      " 4   도급분공사비           7097 non-null   int64  \n",
      " 5   자본적금액            7097 non-null   int64  \n",
      " 6   수익적금액            7097 non-null   int64  \n",
      " 7   본사분재료비           7097 non-null   int64  \n",
      " 8   내자분재료비           7097 non-null   int64  \n",
      " 9   내자분저장품재료비        7097 non-null   int64  \n",
      " 10  내자분비저장품재료비       7097 non-null   int64  \n",
      " 11  도급분재료비           7097 non-null   int64  \n",
      " 12  지입재료비            7097 non-null   int64  \n",
      " 13  잡재료비             7097 non-null   int64  \n",
      " 14  직접노무비            7097 non-null   int64  \n",
      " 15  간접노무비            7097 non-null   int64  \n",
      " 16  기계경비             7097 non-null   int64  \n",
      " 17  공구손료             7097 non-null   int64  \n",
      " 18  회사분경비            7097 non-null   int64  \n",
      " 19  도급분경비            7097 non-null   int64  \n",
      " 20  무정전기준비용          7097 non-null   int64  \n",
      " 21  신설기준비용           7097 non-null   int64  \n",
      " 22  철거기준비용           7097 non-null   int64  \n",
      " 23  일반관리비            7097 non-null   int64  \n",
      " 24  이윤               7097 non-null   int64  \n",
      " 25  총공사비             7097 non-null   int64  \n",
      " 26  재료비              7097 non-null   int64  \n",
      " 27  회사분재료비           7097 non-null   int64  \n",
      " 28  노무비              7097 non-null   int64  \n",
      " 29  경비               7097 non-null   int64  \n",
      " 30  운반비              7097 non-null   int64  \n",
      " 31  자본적비율            7097 non-null   float64\n",
      " 32  수익적비율            7097 non-null   float64\n",
      " 33  도급분자본적금액         7097 non-null   int64  \n",
      " 34  도급분수익적금액         7097 non-null   int64  \n",
      " 35  도급분자본적비율         7097 non-null   float64\n",
      " 36  도급분수익적비율         7097 non-null   float64\n",
      " 37  전주파쇄비            7097 non-null   int64  \n",
      " 38  기타자재파쇄비          7097 non-null   int64  \n",
      " 39  아치형전주버팀목공법자재비    7097 non-null   int64  \n",
      " 40  아치형전주버팀목공법노무비    7097 non-null   int64  \n",
      " 41  아치형전주버팀목공법경비     7097 non-null   int64  \n",
      " 42  고객부담일반관리비        7097 non-null   int64  \n",
      " 43  복리후생비율           7097 non-null   float64\n",
      " 44  소모품비율            7097 non-null   float64\n",
      " 45  여비통신비율           7097 non-null   float64\n",
      " 46  세금공과금비율          7097 non-null   float64\n",
      " 47  아치형전주버팀목공법일반관리비  7097 non-null   int64  \n",
      " 48  아치형전주버팀목공법이윤     7097 non-null   int64  \n",
      " 49  아치형전주버팀목공법기술료율   7097 non-null   int64  \n",
      " 50  최초등록일시           7097 non-null   object \n",
      " 51  최초등록자사번          7097 non-null   object \n",
      " 52  최종변경일시           7097 non-null   object \n",
      " 53  최종변경자사번          7097 non-null   object \n",
      " 54  사업소명             7097 non-null   object \n",
      " 55  접수종류코드           7097 non-null   object \n",
      " 56  접수종류명            7097 non-null   object \n",
      " 57  공사형태코드           7097 non-null   int64  \n",
      " 58  공사형태명            7097 non-null   object \n",
      " 59  계약전력             7097 non-null   int64  \n",
      "dtypes: float64(8), int64(43), object(9)\n",
      "memory usage: 3.2+ MB\n"
     ]
    }
   ],
   "source": [
    "df_cc.info()"
   ]
  },
  {
   "cell_type": "code",
   "execution_count": 20,
   "metadata": {},
   "outputs": [
    {
     "data": {
      "text/plain": [
       "접수종류명    14\n",
       "공사형태명     3\n",
       "dtype: int64"
      ]
     },
     "execution_count": 20,
     "metadata": {},
     "output_type": "execute_result"
    }
   ],
   "source": [
    "df_cc[['접수종류명', '공사형태명']].nunique()"
   ]
  },
  {
   "cell_type": "code",
   "execution_count": 21,
   "metadata": {},
   "outputs": [
    {
     "data": {
      "text/plain": [
       "접수종류명\n",
       "신설(상용/임시)     5810\n",
       "신설(발전기)        597\n",
       "증설             185\n",
       "공급방식변경증설       155\n",
       "계약종별변경증설       127\n",
       "단순공급방식변경        74\n",
       "해지후재사용(신규)      46\n",
       "공급지점변경          43\n",
       "일부해지(신규)        27\n",
       "계약단위합병          23\n",
       "신증설(예비전력)        6\n",
       "증설(발전기)          2\n",
       "계약변경(발전기)        1\n",
       "계약단위분할           1\n",
       "Name: count, dtype: int64"
      ]
     },
     "execution_count": 21,
     "metadata": {},
     "output_type": "execute_result"
    }
   ],
   "source": [
    "df_cc['접수종류명'].value_counts()"
   ]
  },
  {
   "cell_type": "code",
   "execution_count": 22,
   "metadata": {},
   "outputs": [
    {
     "data": {
      "text/plain": [
       "공사형태명\n",
       "외선소요         7031\n",
       "외선소요(선공급)      55\n",
       "외선불요           11\n",
       "Name: count, dtype: int64"
      ]
     },
     "execution_count": 22,
     "metadata": {},
     "output_type": "execute_result"
    }
   ],
   "source": [
    "df_cc['공사형태명'].value_counts()"
   ]
  },
  {
   "cell_type": "code",
   "execution_count": null,
   "metadata": {},
   "outputs": [],
   "source": []
  }
 ],
 "metadata": {
  "kernelspec": {
   "display_name": "t213p310",
   "language": "python",
   "name": "python3"
  },
  "language_info": {
   "codemirror_mode": {
    "name": "ipython",
    "version": 3
   },
   "file_extension": ".py",
   "mimetype": "text/x-python",
   "name": "python",
   "nbconvert_exporter": "python",
   "pygments_lexer": "ipython3",
   "version": "3.10.12"
  },
  "orig_nbformat": 4
 },
 "nbformat": 4,
 "nbformat_minor": 2
}
