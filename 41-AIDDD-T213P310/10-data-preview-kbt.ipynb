{
 "cells": [
  {
   "cell_type": "code",
   "execution_count": 1,
   "metadata": {},
   "outputs": [],
   "source": [
    "import os\n",
    "import numpy as np\n",
    "import pandas as pd"
   ]
  },
  {
   "cell_type": "code",
   "execution_count": 2,
   "metadata": {},
   "outputs": [],
   "source": [
    "PATH_BASE = os.path.join(os.path.expanduser('~'), 'projects', 'data', 'AIDDD')"
   ]
  },
  {
   "cell_type": "code",
   "execution_count": 3,
   "metadata": {},
   "outputs": [
    {
     "name": "stdout",
     "output_type": "stream",
     "text": [
      "<class 'pandas.core.frame.DataFrame'>\n",
      "RangeIndex: 4513 entries, 0 to 4512\n",
      "Data columns (total 13 columns):\n",
      " #   Column            Non-Null Count  Dtype  \n",
      "---  ------            --------------  -----  \n",
      " 0   CMRM_CD           4513 non-null   object \n",
      " 1   GID               4513 non-null   int64  \n",
      " 2   CNTR_NO           4513 non-null   int64  \n",
      " 3   FAC_STAT_CD       4513 non-null   object \n",
      " 4   OLD_NDIS_CNTR_NO  77 non-null     object \n",
      " 5   PH_CD             0 non-null      float64\n",
      " 6   ERRO_CONT         68 non-null     object \n",
      " 7   CONS_NO_SEQNO     3 non-null      float64\n",
      " 8   CSNTI_DT          0 non-null      float64\n",
      " 9   LST_RVSE_DT       0 non-null      float64\n",
      " 10  LV_LIWI_GID       4513 non-null   int64  \n",
      " 11  LVCA_GID          0 non-null      float64\n",
      " 12  DESN_OBJ_GID      0 non-null      float64\n",
      "dtypes: float64(6), int64(3), object(4)\n",
      "memory usage: 458.5+ KB\n"
     ]
    }
   ],
   "source": [
    "PATH_LVC_FILE = os.path.join(\n",
    "    PATH_BASE,\n",
    "    'KBT(설비)', 'KBT(설비) 추출내역', 'KBT 저압고객 추출내역.xlsx'\n",
    ")\n",
    "df_lvc = pd.read_excel(PATH_LVC_FILE)\n",
    "df_lvc.info()"
   ]
  },
  {
   "cell_type": "code",
   "execution_count": 4,
   "metadata": {},
   "outputs": [
    {
     "name": "stdout",
     "output_type": "stream",
     "text": [
      "<class 'pandas.core.frame.DataFrame'>\n",
      "RangeIndex: 8202 entries, 0 to 8201\n",
      "Data columns (total 60 columns):\n",
      " #   Column                        Non-Null Count  Dtype  \n",
      "---  ------                        --------------  -----  \n",
      " 0   CMRM_CD                       8202 non-null   object \n",
      " 1   GID                           8202 non-null   int64  \n",
      " 2   TS2_OFFICE_CD                 8202 non-null   int64  \n",
      " 3   NAT_ZONE_NO                   8202 non-null   int64  \n",
      " 4   MESH_NO                       8202 non-null   object \n",
      " 5   LINE_NO                       8202 non-null   object \n",
      " 6   POLE_FORM_CD                  8202 non-null   object \n",
      " 7   POLE_KND_CD                   8183 non-null   object \n",
      " 8   POLE_SPEC_CD                  8161 non-null   float64\n",
      " 9   PNTPL_YN                      8202 non-null   object \n",
      " 10  LINE_NM                       8202 non-null   object \n",
      " 11  RISE_YN                       8202 non-null   int64  \n",
      " 12  NEW_MESH_NO                   0 non-null      float64\n",
      " 13  FAC_STAT_CD                   8202 non-null   object \n",
      " 14  STL1_WGHT                     0 non-null      float64\n",
      " 15  MNFC_MATT_ID                  8146 non-null   float64\n",
      " 16  POLE_DTL_KND_CD               3 non-null      float64\n",
      " 17  CONS_NO                       0 non-null      float64\n",
      " 18  PERM_DOCU_CONS_NO             3879 non-null   object \n",
      " 19  LST_RVSE_DT                   0 non-null      float64\n",
      " 20  CSNTI_DT                      0 non-null      float64\n",
      " 21  ACCU_POSS_CLCD                8192 non-null   object \n",
      " 22  ACCU_LOC_CD                   8192 non-null   object \n",
      " 23  ACCU_CLCD                     2174 non-null   object \n",
      " 24  ACCU_MNGM_ORG_NM              3840 non-null   object \n",
      " 25  AREA_CLCD                     69 non-null     float64\n",
      " 26  DESN_OBJ_GID                  15 non-null     float64\n",
      " 27  WIVE                          8185 non-null   float64\n",
      " 28  BASIS_GRD_CD                  8202 non-null   object \n",
      " 29  POLE_DEPTH                    7990 non-null   float64\n",
      " 30  TRNPS_YN                      8202 non-null   int64  \n",
      " 31  DOCU_SERNO                    0 non-null      float64\n",
      " 32  INST_YM                       8093 non-null   float64\n",
      " 33  LV_LIWI_PRIM_TRPWR_YMD        0 non-null      float64\n",
      " 34  ACCU_LOC_COS_NM               0 non-null      float64\n",
      " 35  PERM_NO                       1 non-null      object \n",
      " 36  PERM_PERI_DESC                0 non-null      float64\n",
      " 37  ETC                           0 non-null      float64\n",
      " 38  ACCU_CHRG_PAY_ORG_CD          8188 non-null   object \n",
      " 39  ERP_OFFICE_CD                 8202 non-null   int64  \n",
      " 40  RWO_ID                        8202 non-null   int64  \n",
      " 41  GIS_DUCT_LOC                  51 non-null     object \n",
      " 42  GIS_SPEC_LOC                  8202 non-null   object \n",
      " 43  TEXT_GIS_SPEC_ANNXN           8179 non-null   object \n",
      " 44  GIS_LINE_NM_LOC               0 non-null      float64\n",
      " 45  TEXT_GIS_LINE_NM_ANNXN        0 non-null      float64\n",
      " 46  GIS_NO_LOC                    8202 non-null   object \n",
      " 47  TEXT_GIS_NO_ANNXN             8202 non-null   object \n",
      " 48  GIS_LOC                       8202 non-null   object \n",
      " 49  LWER_FAC_GID                  0 non-null      float64\n",
      " 50  TEXT_GIS_SPC_MATT_ANNXN       0 non-null      float64\n",
      " 51  TEXT_GIS_ACCU_LOC_ADDR_ANNXN  271 non-null    object \n",
      " 52  UPPO_FAC_GID                  0 non-null      float64\n",
      " 53  SYMB_SEQNO                    8202 non-null   int64  \n",
      " 54  LWER_FAC_DESC                 0 non-null      float64\n",
      " 55  NAT_BROFC_NO_DSBD_YN          0 non-null      float64\n",
      " 56  HINST_POLE_USE_YN             1024 non-null   object \n",
      " 57  SD_PLCLMB_MNPW_RSN_CD         0 non-null      float64\n",
      " 58  SD_NOPLT_STS_CD               0 non-null      float64\n",
      " 59  ESTM_PRDT_MTTR_GID            0 non-null      float64\n",
      "dtypes: float64(28), int64(8), object(24)\n",
      "memory usage: 3.8+ MB\n"
     ]
    }
   ],
   "source": [
    "PATH_LNODE_FILE = os.path.join(\n",
    "    PATH_BASE,\n",
    "    'KBT(설비)', 'KBT(설비) 추출내역', 'KBT 전주 추출내역.xlsx'\n",
    ")\n",
    "df_lnode = pd.read_excel(PATH_LNODE_FILE)\n",
    "df_lnode.info()"
   ]
  },
  {
   "cell_type": "code",
   "execution_count": 5,
   "metadata": {},
   "outputs": [
    {
     "data": {
      "text/plain": [
       "PERM_NO                         8201\n",
       "POLE_DTL_KND_CD                 8199\n",
       "DESN_OBJ_GID                    8187\n",
       "GIS_DUCT_LOC                    8151\n",
       "AREA_CLCD                       8133\n",
       "TEXT_GIS_ACCU_LOC_ADDR_ANNXN    7931\n",
       "HINST_POLE_USE_YN               7178\n",
       "ACCU_CLCD                       6028\n",
       "ACCU_MNGM_ORG_NM                4362\n",
       "PERM_DOCU_CONS_NO               4323\n",
       "POLE_DEPTH                       212\n",
       "INST_YM                          109\n",
       "MNFC_MATT_ID                      56\n",
       "POLE_SPEC_CD                      41\n",
       "TEXT_GIS_SPEC_ANNXN               23\n",
       "POLE_KND_CD                       19\n",
       "WIVE                              17\n",
       "ACCU_CHRG_PAY_ORG_CD              14\n",
       "ACCU_POSS_CLCD                    10\n",
       "ACCU_LOC_CD                       10\n",
       "dtype: int64"
      ]
     },
     "execution_count": 5,
     "metadata": {},
     "output_type": "execute_result"
    }
   ],
   "source": [
    "df_lnode.isna().sum().sort_values(ascending=False)[20:40]"
   ]
  },
  {
   "cell_type": "code",
   "execution_count": 6,
   "metadata": {},
   "outputs": [
    {
     "name": "stdout",
     "output_type": "stream",
     "text": [
      "<class 'pandas.core.frame.DataFrame'>\n",
      "RangeIndex: 9155 entries, 0 to 9154\n",
      "Data columns (total 36 columns):\n",
      " #   Column               Non-Null Count  Dtype  \n",
      "---  ------               --------------  -----  \n",
      " 0   CMRM_CD              9155 non-null   object \n",
      " 1   GID                  9155 non-null   int64  \n",
      " 2   INST_SEOR            0 non-null      float64\n",
      " 3   SPLY_MODE_CD         9155 non-null   int64  \n",
      " 4   REME_SPAN            9155 non-null   int64  \n",
      " 5   LICO_CD              9155 non-null   int64  \n",
      " 6   NEWI_KND_CD          9152 non-null   object \n",
      " 7   NEWI_SPEC_CD         9152 non-null   float64\n",
      " 8   NEWI_CMUS_CLCD       9155 non-null   object \n",
      " 9   STLI_JOIN_YN         9155 non-null   int64  \n",
      " 10  AFMO                 0 non-null      float64\n",
      " 11  VTDR_VAL             3 non-null      float64\n",
      " 12  FAC_STAT_CD          9155 non-null   object \n",
      " 13  INST_LOC_ROW_CD      9155 non-null   int64  \n",
      " 14  LVW_KND_CD2          9155 non-null   object \n",
      " 15  LVW_SPEC_CD2         9155 non-null   int64  \n",
      " 16  LICO_CD2             9155 non-null   int64  \n",
      " 17  LVW_KND_CD           9155 non-null   object \n",
      " 18  LVW_SPEC_CD          9155 non-null   float64\n",
      " 19  PHAR_CLCD            56 non-null     object \n",
      " 20  CONS_NO              0 non-null      float64\n",
      " 21  LST_RVSE_DT          0 non-null      float64\n",
      " 22  CSNTI_DT             0 non-null      float64\n",
      " 23  DESN_OBJ_GID         0 non-null      float64\n",
      " 24  GEN_CMUS_YN          9155 non-null   int64  \n",
      " 25  PRESZ_YN             9155 non-null   int64  \n",
      " 26  RWO_ID               9155 non-null   int64  \n",
      " 27  GIS_SPAN_ANNXN_LOC   6464 non-null   object \n",
      " 28  TEXT_GIS_SPAN_ANNXN  6464 non-null   float64\n",
      " 29  GIS_TRNSLN_PTH       9151 non-null   object \n",
      " 30  GIS_ANNXN_DESC_LOC   9151 non-null   object \n",
      " 31  TEXT_GIS_ANNXN       9151 non-null   object \n",
      " 32  GIS_PTH              9155 non-null   object \n",
      " 33  LWER_FAC_GID         0 non-null      float64\n",
      " 34  UPPO_FAC_GID         0 non-null      float64\n",
      " 35  SYMB_SEQNO           0 non-null      float64\n",
      "dtypes: float64(13), int64(11), object(12)\n",
      "memory usage: 2.5+ MB\n"
     ]
    }
   ],
   "source": [
    "PATH_LLINE_FILE = os.path.join(\n",
    "    PATH_BASE,\n",
    "    'KBT(설비)', 'KBT(설비) 추출내역', 'KBT 저압전선 추출내역.xlsx'\n",
    ")\n",
    "df_lline = pd.read_excel(PATH_LLINE_FILE)\n",
    "df_lline.info()"
   ]
  },
  {
   "cell_type": "code",
   "execution_count": 7,
   "metadata": {},
   "outputs": [
    {
     "data": {
      "text/plain": [
       "SYMB_SEQNO             9155\n",
       "AFMO                   9155\n",
       "CONS_NO                9155\n",
       "DESN_OBJ_GID           9155\n",
       "CSNTI_DT               9155\n",
       "LST_RVSE_DT            9155\n",
       "LWER_FAC_GID           9155\n",
       "UPPO_FAC_GID           9155\n",
       "INST_SEOR              9155\n",
       "VTDR_VAL               9152\n",
       "PHAR_CLCD              9099\n",
       "TEXT_GIS_SPAN_ANNXN    2691\n",
       "GIS_SPAN_ANNXN_LOC     2691\n",
       "TEXT_GIS_ANNXN            4\n",
       "GIS_ANNXN_DESC_LOC        4\n",
       "GIS_TRNSLN_PTH            4\n",
       "NEWI_KND_CD               3\n",
       "NEWI_SPEC_CD              3\n",
       "GIS_PTH                   0\n",
       "RWO_ID                    0\n",
       "PRESZ_YN                  0\n",
       "GEN_CMUS_YN               0\n",
       "CMRM_CD                   0\n",
       "GID                       0\n",
       "LVW_KND_CD                0\n",
       "LICO_CD2                  0\n",
       "LVW_SPEC_CD2              0\n",
       "LVW_KND_CD2               0\n",
       "INST_LOC_ROW_CD           0\n",
       "FAC_STAT_CD               0\n",
       "STLI_JOIN_YN              0\n",
       "NEWI_CMUS_CLCD            0\n",
       "LICO_CD                   0\n",
       "REME_SPAN                 0\n",
       "SPLY_MODE_CD              0\n",
       "LVW_SPEC_CD               0\n",
       "dtype: int64"
      ]
     },
     "execution_count": 7,
     "metadata": {},
     "output_type": "execute_result"
    }
   ],
   "source": [
    "df_lline.isna().sum().sort_values(ascending=False)"
   ]
  },
  {
   "cell_type": "code",
   "execution_count": 8,
   "metadata": {},
   "outputs": [
    {
     "name": "stdout",
     "output_type": "stream",
     "text": [
      "<class 'pandas.core.frame.DataFrame'>\n",
      "RangeIndex: 6124 entries, 0 to 6123\n",
      "Data columns (total 35 columns):\n",
      " #   Column               Non-Null Count  Dtype  \n",
      "---  ------               --------------  -----  \n",
      " 0   CMRM_CD              6124 non-null   object \n",
      " 1   GID                  6124 non-null   int64  \n",
      " 2   REME_SPAN            6089 non-null   float64\n",
      " 3   LV_LIWI_FORM_CD      6124 non-null   object \n",
      " 4   LV_LIWI_KND_CD       6124 non-null   object \n",
      " 5   LV_LIWI_SPEC_CD      6124 non-null   float64\n",
      " 6   LICO_CD              6124 non-null   int64  \n",
      " 7   SEQNO                514 non-null    object \n",
      " 8   VIRT_LIWI_YN         6124 non-null   int64  \n",
      " 9   SRSD_LEIN_FORM_CD    4147 non-null   object \n",
      " 10  SIDEH_LEIN_FORM_CD   4579 non-null   object \n",
      " 11  SIDEH_ASM_CD         2025 non-null   object \n",
      " 12  SIDEH_ARM_KND_CD     2927 non-null   object \n",
      " 13  SIDEH_ARM_SPEC_CD    2926 non-null   float64\n",
      " 14  FAC_STAT_CD          6124 non-null   object \n",
      " 15  POSS_CLCD            6124 non-null   object \n",
      " 16  MNFC_MATT_ID         0 non-null      float64\n",
      " 17  LV_LIWI_INTY_CD      6124 non-null   object \n",
      " 18  SIDEH_ARM_SPEC_CD2   404 non-null    float64\n",
      " 19  SIDEH_ARM_SPEC_CD3   397 non-null    float64\n",
      " 20  CONS_NO              0 non-null      float64\n",
      " 21  LST_RVSE_DT          0 non-null      float64\n",
      " 22  CSNTI_DT             0 non-null      float64\n",
      " 23  POLE_GID             6119 non-null   float64\n",
      " 24  DESN_OBJ_GID         0 non-null      float64\n",
      " 25  PRESZ_YN             6124 non-null   int64  \n",
      " 26  RWO_ID               6124 non-null   int64  \n",
      " 27  GIS_PTH              6124 non-null   object \n",
      " 28  GIS_SPAN_ANNXN_LOC   6118 non-null   object \n",
      " 29  TEXT_GIS_SPAN_ANNXN  6105 non-null   float64\n",
      " 30  GIS_CUNU_ANNXN_LOC   5788 non-null   object \n",
      " 31  TEXT_GIS_CUNU_ANNXN  5395 non-null   float64\n",
      " 32  LWER_FAC_GID         0 non-null      float64\n",
      " 33  UPPO_FAC_GID         0 non-null      float64\n",
      " 34  FAC_SEQNO            0 non-null      float64\n",
      "dtypes: float64(16), int64(5), object(14)\n",
      "memory usage: 1.6+ MB\n"
     ]
    }
   ],
   "source": [
    "PATH_LSL_FILE = os.path.join(\n",
    "    PATH_BASE,\n",
    "    'KBT(설비)', 'KBT(설비) 추출내역', 'KBT 저압인입선 추출내역.xlsx'\n",
    ")\n",
    "df_lsl = pd.read_excel(PATH_LSL_FILE)\n",
    "df_lsl.info()"
   ]
  },
  {
   "cell_type": "code",
   "execution_count": 9,
   "metadata": {},
   "outputs": [
    {
     "name": "stdout",
     "output_type": "stream",
     "text": [
      "<class 'pandas.core.frame.DataFrame'>\n",
      "RangeIndex: 7096 entries, 0 to 7095\n",
      "Columns: 137 entries, CONS_NO to LST_CHPE_EMPID\n",
      "dtypes: datetime64[ns](2), float64(11), int64(121), object(3)\n",
      "memory usage: 7.4+ MB\n"
     ]
    }
   ],
   "source": [
    "PATH_CC_FILE = os.path.join(\n",
    "    PATH_BASE,\n",
    "    '공사비예산서', '5개년 공사비 예산서 추출내역.xlsx'\n",
    ")\n",
    "df_cc = pd.read_excel(PATH_CC_FILE)\n",
    "df_cc.info()"
   ]
  },
  {
   "cell_type": "code",
   "execution_count": 12,
   "metadata": {},
   "outputs": [
    {
     "data": {
      "text/plain": [
       "(7096, 137)"
      ]
     },
     "execution_count": 12,
     "metadata": {},
     "output_type": "execute_result"
    }
   ],
   "source": [
    "df_cc.shape"
   ]
  },
  {
   "cell_type": "code",
   "execution_count": 11,
   "metadata": {},
   "outputs": [
    {
     "name": "stdout",
     "output_type": "stream",
     "text": [
      "<class 'pandas.core.frame.DataFrame'>\n",
      "RangeIndex: 7096 entries, 0 to 7095\n",
      "Columns: 137 entries, CONS_NO to LST_CHPE_EMPID\n",
      "dtypes: datetime64[ns](2), float64(11), int64(121), object(3)\n",
      "memory usage: 7.4+ MB\n"
     ]
    }
   ],
   "source": [
    "df_cc.info()"
   ]
  },
  {
   "cell_type": "code",
   "execution_count": 13,
   "metadata": {},
   "outputs": [
    {
     "name": "stderr",
     "output_type": "stream",
     "text": [
      "/home/freeman/anaconda3/envs/t213p310/lib/python3.10/site-packages/openpyxl/styles/stylesheet.py:226: UserWarning: Workbook contains no default style, apply openpyxl's default\n",
      "  warn(\"Workbook contains no default style, apply openpyxl's default\")\n"
     ]
    },
    {
     "name": "stdout",
     "output_type": "stream",
     "text": [
      "<class 'pandas.core.frame.DataFrame'>\n",
      "RangeIndex: 7097 entries, 0 to 7096\n",
      "Columns: 143 entries, 공사번호 to 계약전력\n",
      "dtypes: float64(11), int64(123), object(9)\n",
      "memory usage: 7.7+ MB\n"
     ]
    }
   ],
   "source": [
    "PATH_CC_D_FILE = os.path.join(\n",
    "    PATH_BASE,\n",
    "    '공사비예산서', '5개년 공사비 예산서 추출내역_계약전력등 추가.xlsx'\n",
    ")\n",
    "df_cc_d = pd.read_excel(PATH_CC_D_FILE)\n",
    "df_cc_d.info()"
   ]
  },
  {
   "cell_type": "code",
   "execution_count": 14,
   "metadata": {},
   "outputs": [
    {
     "data": {
      "text/html": [
       "<div>\n",
       "<style scoped>\n",
       "    .dataframe tbody tr th:only-of-type {\n",
       "        vertical-align: middle;\n",
       "    }\n",
       "\n",
       "    .dataframe tbody tr th {\n",
       "        vertical-align: top;\n",
       "    }\n",
       "\n",
       "    .dataframe thead th {\n",
       "        text-align: right;\n",
       "    }\n",
       "</style>\n",
       "<table border=\"1\" class=\"dataframe\">\n",
       "  <thead>\n",
       "    <tr style=\"text-align: right;\">\n",
       "      <th></th>\n",
       "      <th>공사번호</th>\n",
       "      <th>공사변경순번</th>\n",
       "      <th>배전공사형태코드</th>\n",
       "      <th>회사분공사비</th>\n",
       "      <th>도급분공사비</th>\n",
       "      <th>자본적금액</th>\n",
       "      <th>수익적금액</th>\n",
       "      <th>본사분재료비</th>\n",
       "      <th>외자분재료비</th>\n",
       "      <th>내자분재료비</th>\n",
       "      <th>...</th>\n",
       "      <th>최초등록일시</th>\n",
       "      <th>최초등록자사번</th>\n",
       "      <th>최종변경일시</th>\n",
       "      <th>최종변경자사번</th>\n",
       "      <th>사업소명</th>\n",
       "      <th>접수종류코드</th>\n",
       "      <th>접수종류명</th>\n",
       "      <th>공사형태코드</th>\n",
       "      <th>공사형태명</th>\n",
       "      <th>계약전력</th>\n",
       "    </tr>\n",
       "  </thead>\n",
       "  <tbody>\n",
       "    <tr>\n",
       "      <th>0</th>\n",
       "      <td>442720154691</td>\n",
       "      <td>99</td>\n",
       "      <td></td>\n",
       "      <td>23052610</td>\n",
       "      <td>15962515</td>\n",
       "      <td>35272725</td>\n",
       "      <td>3742400</td>\n",
       "      <td>23052610</td>\n",
       "      <td>0</td>\n",
       "      <td>23052610</td>\n",
       "      <td>...</td>\n",
       "      <td>20/01/10</td>\n",
       "      <td>MDE1707278</td>\n",
       "      <td>20/01/10</td>\n",
       "      <td>MDE1707278</td>\n",
       "      <td>동청주지사</td>\n",
       "      <td>11</td>\n",
       "      <td>신설(상용/임시)</td>\n",
       "      <td>2</td>\n",
       "      <td>외선소요</td>\n",
       "      <td>7700</td>\n",
       "    </tr>\n",
       "    <tr>\n",
       "      <th>1</th>\n",
       "      <td>442720154711</td>\n",
       "      <td>99</td>\n",
       "      <td></td>\n",
       "      <td>974130</td>\n",
       "      <td>1390620</td>\n",
       "      <td>2364750</td>\n",
       "      <td>0</td>\n",
       "      <td>974130</td>\n",
       "      <td>0</td>\n",
       "      <td>974130</td>\n",
       "      <td>...</td>\n",
       "      <td>19/11/09</td>\n",
       "      <td>ETL_DEV</td>\n",
       "      <td>19/11/09</td>\n",
       "      <td>ETL_DEV</td>\n",
       "      <td>동청주지사</td>\n",
       "      <td>11</td>\n",
       "      <td>신설(상용/임시)</td>\n",
       "      <td>2</td>\n",
       "      <td>외선소요</td>\n",
       "      <td>5</td>\n",
       "    </tr>\n",
       "    <tr>\n",
       "      <th>2</th>\n",
       "      <td>442720154728</td>\n",
       "      <td>99</td>\n",
       "      <td></td>\n",
       "      <td>67000695</td>\n",
       "      <td>38982058</td>\n",
       "      <td>102787081</td>\n",
       "      <td>3103395</td>\n",
       "      <td>67000695</td>\n",
       "      <td>0</td>\n",
       "      <td>67000695</td>\n",
       "      <td>...</td>\n",
       "      <td>19/11/09</td>\n",
       "      <td>ETL_DEV</td>\n",
       "      <td>19/11/09</td>\n",
       "      <td>ETL_DEV</td>\n",
       "      <td>동청주지사</td>\n",
       "      <td>11</td>\n",
       "      <td>신설(상용/임시)</td>\n",
       "      <td>2</td>\n",
       "      <td>외선소요</td>\n",
       "      <td>1450</td>\n",
       "    </tr>\n",
       "    <tr>\n",
       "      <th>3</th>\n",
       "      <td>442720155639</td>\n",
       "      <td>99</td>\n",
       "      <td></td>\n",
       "      <td>248504</td>\n",
       "      <td>1162131</td>\n",
       "      <td>1410635</td>\n",
       "      <td>0</td>\n",
       "      <td>248504</td>\n",
       "      <td>0</td>\n",
       "      <td>248504</td>\n",
       "      <td>...</td>\n",
       "      <td>20/03/05</td>\n",
       "      <td>2007200722</td>\n",
       "      <td>20/03/05</td>\n",
       "      <td>2007200722</td>\n",
       "      <td>동청주지사</td>\n",
       "      <td>11</td>\n",
       "      <td>신설(상용/임시)</td>\n",
       "      <td>2</td>\n",
       "      <td>외선소요</td>\n",
       "      <td>3</td>\n",
       "    </tr>\n",
       "    <tr>\n",
       "      <th>4</th>\n",
       "      <td>442720163475</td>\n",
       "      <td>99</td>\n",
       "      <td></td>\n",
       "      <td>12995746</td>\n",
       "      <td>8315348</td>\n",
       "      <td>21311094</td>\n",
       "      <td>0</td>\n",
       "      <td>12995746</td>\n",
       "      <td>0</td>\n",
       "      <td>12995746</td>\n",
       "      <td>...</td>\n",
       "      <td>19/11/09</td>\n",
       "      <td>ETL_DEV</td>\n",
       "      <td>19/11/09</td>\n",
       "      <td>ETL_DEV</td>\n",
       "      <td>동청주지사</td>\n",
       "      <td>11</td>\n",
       "      <td>신설(상용/임시)</td>\n",
       "      <td>2</td>\n",
       "      <td>외선소요</td>\n",
       "      <td>35</td>\n",
       "    </tr>\n",
       "  </tbody>\n",
       "</table>\n",
       "<p>5 rows × 143 columns</p>\n",
       "</div>"
      ],
      "text/plain": [
       "           공사번호  공사변경순번 배전공사형태코드    회사분공사비    도급분공사비      자본적금액    수익적금액  \\\n",
       "0  442720154691      99           23052610  15962515   35272725  3742400   \n",
       "1  442720154711      99             974130   1390620    2364750        0   \n",
       "2  442720154728      99           67000695  38982058  102787081  3103395   \n",
       "3  442720155639      99             248504   1162131    1410635        0   \n",
       "4  442720163475      99           12995746   8315348   21311094        0   \n",
       "\n",
       "     본사분재료비  외자분재료비    내자분재료비  ...    최초등록일시     최초등록자사번    최종변경일시  \\\n",
       "0  23052610       0  23052610  ...  20/01/10  MDE1707278  20/01/10   \n",
       "1    974130       0    974130  ...  19/11/09     ETL_DEV  19/11/09   \n",
       "2  67000695       0  67000695  ...  19/11/09     ETL_DEV  19/11/09   \n",
       "3    248504       0    248504  ...  20/03/05  2007200722  20/03/05   \n",
       "4  12995746       0  12995746  ...  19/11/09     ETL_DEV  19/11/09   \n",
       "\n",
       "      최종변경자사번   사업소명  접수종류코드      접수종류명  공사형태코드  공사형태명  계약전력  \n",
       "0  MDE1707278  동청주지사      11  신설(상용/임시)       2   외선소요  7700  \n",
       "1     ETL_DEV  동청주지사      11  신설(상용/임시)       2   외선소요     5  \n",
       "2     ETL_DEV  동청주지사      11  신설(상용/임시)       2   외선소요  1450  \n",
       "3  2007200722  동청주지사      11  신설(상용/임시)       2   외선소요     3  \n",
       "4     ETL_DEV  동청주지사      11  신설(상용/임시)       2   외선소요    35  \n",
       "\n",
       "[5 rows x 143 columns]"
      ]
     },
     "execution_count": 14,
     "metadata": {},
     "output_type": "execute_result"
    }
   ],
   "source": [
    "df_cc_d.head()"
   ]
  },
  {
   "cell_type": "code",
   "execution_count": null,
   "metadata": {},
   "outputs": [],
   "source": []
  }
 ],
 "metadata": {
  "kernelspec": {
   "display_name": "t213p310",
   "language": "python",
   "name": "python3"
  },
  "language_info": {
   "codemirror_mode": {
    "name": "ipython",
    "version": 3
   },
   "file_extension": ".py",
   "mimetype": "text/x-python",
   "name": "python",
   "nbconvert_exporter": "python",
   "pygments_lexer": "ipython3",
   "version": "3.10.12"
  },
  "orig_nbformat": 4
 },
 "nbformat": 4,
 "nbformat_minor": 2
}
