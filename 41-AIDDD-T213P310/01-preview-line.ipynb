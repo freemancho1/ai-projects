{
 "cells": [
  {
   "cell_type": "markdown",
   "metadata": {},
   "source": [
    "#### 전선 데이터셋"
   ]
  },
  {
   "cell_type": "markdown",
   "metadata": {},
   "source": [
    "#### 라이브러리 불러오기"
   ]
  },
  {
   "cell_type": "code",
   "execution_count": 1,
   "metadata": {},
   "outputs": [],
   "source": [
    "import copy\n",
    "import numpy as np\n",
    "import pandas as pd\n",
    "\n",
    "import matplotlib.pyplot as plt\n",
    "import seaborn as sns\n",
    "from datetime import datetime\n",
    "\n",
    "from aiddd.data_manager import read_data, write_data\n",
    "from freeman.plt_setting import plt_settings\n",
    "\n",
    "plt_settings()"
   ]
  },
  {
   "cell_type": "code",
   "execution_count": 2,
   "metadata": {},
   "outputs": [
    {
     "name": "stdout",
     "output_type": "stream",
     "text": [
      "Total elapsed time for data load: 0:00:29.926911, Shape: (39861, 77)\n"
     ]
    }
   ],
   "source": [
    "_start = datetime.now()\n",
    "df_data = read_data('2nd LINE')\n",
    "print(\n",
    "    f'Total elapsed time for data load: {datetime.now()-_start}, '\n",
    "    f'Shape: {df_data.shape}'\n",
    ")"
   ]
  },
  {
   "cell_type": "markdown",
   "metadata": {},
   "source": [
    "#### 데이터 확인"
   ]
  },
  {
   "cell_type": "code",
   "execution_count": 3,
   "metadata": {},
   "outputs": [
    {
     "data": {
      "text/plain": [
       "Index(['공사변경순번', '공사구분코드', '전압구분코드', '공사성격코드', '회선명', '상배열구분코드', '전선조정코드1',\n",
       "       '전선공사특성코드2', '전선조정코드2', '전선펴기여부', '중성선조정코드', '직선접속공사특성코드', '슬리브접속수량',\n",
       "       '시공방법코드', '건물방호관코드', '건물방호관수량', '고객제공여부', '직선접속중성선공사성격코드', '전압선중성선사용여부',\n",
       "       '중성선전압선사용여부', '전선펴기긴선여부', '기설전선여부', '전선공사특성코드3', '전선종류코드3', '전선규격코드3',\n",
       "       '전선구분코드3', '전선조정코드3', '기설설비유실여부', '사업소코드', '변전소코드', '회선코드', '기설설비상태코드',\n",
       "       '종단접속공사코드', '종단접속수량', '조가형태공사코드', '조가형태코드', '파형관규격코드', '디지털장력계여부',\n",
       "       '케이블헤더수량', 'NDIS사업소코드'],\n",
       "      dtype='object')"
      ]
     },
     "execution_count": 3,
     "metadata": {},
     "output_type": "execute_result"
    }
   ],
   "source": [
    "col_uniq_cnts = df_data.nunique()\n",
    "col_names_1u = col_uniq_cnts[col_uniq_cnts <= 1].index\n",
    "col_names_1u"
   ]
  },
  {
   "cell_type": "code",
   "execution_count": null,
   "metadata": {},
   "outputs": [],
   "source": []
  }
 ],
 "metadata": {
  "kernelspec": {
   "display_name": "t213p310",
   "language": "python",
   "name": "python3"
  },
  "language_info": {
   "codemirror_mode": {
    "name": "ipython",
    "version": 3
   },
   "file_extension": ".py",
   "mimetype": "text/x-python",
   "name": "python",
   "nbconvert_exporter": "python",
   "pygments_lexer": "ipython3",
   "version": "3.10.12"
  },
  "orig_nbformat": 4
 },
 "nbformat": 4,
 "nbformat_minor": 2
}
