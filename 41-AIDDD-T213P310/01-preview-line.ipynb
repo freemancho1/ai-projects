{
 "cells": [
  {
   "cell_type": "markdown",
   "metadata": {},
   "source": [
    "#### 전선 데이터셋"
   ]
  },
  {
   "cell_type": "markdown",
   "metadata": {},
   "source": [
    "#### 라이브러리 불러오기"
   ]
  },
  {
   "cell_type": "code",
   "execution_count": 3,
   "metadata": {},
   "outputs": [],
   "source": [
    "import copy\n",
    "import numpy as np\n",
    "import pandas as pd\n",
    "\n",
    "import matplotlib.pyplot as plt\n",
    "import seaborn as sns\n",
    "from datetime import datetime\n",
    "\n",
    "from aiddd.data_manager import read_data, write_data\n",
    "from freeman.plt_setting import plt_settings\n",
    "\n",
    "plt_settings()"
   ]
  },
  {
   "cell_type": "code",
   "execution_count": 7,
   "metadata": {},
   "outputs": [
    {
     "name": "stdout",
     "output_type": "stream",
     "text": [
      "Total Elapsed Time for Data Load: 0:00:22.138188, Shape: (39861, 77)\n"
     ]
    }
   ],
   "source": [
    "_start = datetime.now()\n",
    "df_data = read_data('2nd LINE')\n",
    "print(\n",
    "    f'Total Elapsed Time for Data Load: {datetime.now()-_start}, '\n",
    "    f'Shape: {df_data.shape}'\n",
    ")"
   ]
  },
  {
   "cell_type": "markdown",
   "metadata": {},
   "source": [
    "#### 데이터 확인"
   ]
  },
  {
   "cell_type": "code",
   "execution_count": 8,
   "metadata": {},
   "outputs": [
    {
     "name": "stdout",
     "output_type": "stream",
     "text": [
      "Number of Drop Columns: 40\n",
      "Columns: ['공사변경순번', '공사구분코드', '전압구분코드', '공사성격코드', '회선명', '상배열구분코드', '전선조정코드1', '전선공사특성코드2', '전선조정코드2', '전선펴기여부', '중성선조정코드', '직선접속공사특성코드', '슬리브접속수량', '시공방법코드', '건물방호관코드', '건물방호관수량', '고객제공여부', '직선접속중성선공사성격코드', '전압선중성선사용여부', '중성선전압선사용여부', '전선펴기긴선여부', '기설전선여부', '전선공사특성코드3', '전선종류코드3', '전선규격코드3', '전선구분코드3', '전선조정코드3', '기설설비유실여부', '사업소코드', '변전소코드', '회선코드', '기설설비상태코드', '종단접속공사코드', '종단접속수량', '조가형태공사코드', '조가형태코드', '파형관규격코드', '디지털장력계여부', '케이블헤더수량', 'NDIS사업소코드']\n"
     ]
    }
   ],
   "source": [
    "# 유일한 값으로 구성된 컬럼은 제거(학습에 필요없음)\n",
    "unique_cnt_cols = df_data.nunique()\n",
    "single_value_cols = unique_cnt_cols[unique_cnt_cols <= 1].index\n",
    "df_data.drop(columns=single_value_cols, axis=1, inplace=True)\n",
    "print(\n",
    "    f'Number of Drop Columns: {len(single_value_cols)}\\n'\n",
    "    f'Columns: {[col for col in single_value_cols]}'\n",
    ")"
   ]
  },
  {
   "cell_type": "code",
   "execution_count": 9,
   "metadata": {},
   "outputs": [
    {
     "data": {
      "text/plain": [
       "공사번호\n",
       "476920194408    49\n",
       "477420193177    49\n",
       "474920215348    46\n",
       "476920213694    38\n",
       "475920213201    36\n",
       "                ..\n",
       "442720233173     1\n",
       "474920214500     1\n",
       "474920214502     1\n",
       "442720233163     1\n",
       "474620234659     1\n",
       "Name: count, Length: 17191, dtype: int64"
      ]
     },
     "execution_count": 9,
     "metadata": {},
     "output_type": "execute_result"
    }
   ],
   "source": [
    "# 공사번호별 레코드수 확인\n",
    "df_data['공사번호'].value_counts()\n",
    "\n",
    "# 전선수가 1개 이상 11개 미만인 데이터만 대상으로 작업할 예정"
   ]
  },
  {
   "cell_type": "code",
   "execution_count": 10,
   "metadata": {},
   "outputs": [
    {
     "data": {
      "text/plain": [
       "접수종류명\n",
       "신설(상용/임시)     33945\n",
       "신설(발전기)        4218\n",
       "공급방식변경증설        624\n",
       "증설              308\n",
       "단순공급방식변경        273\n",
       "계약종별변경증설        184\n",
       "해지후재사용(신규)      115\n",
       "공급지점변경          111\n",
       "계약단위합병           40\n",
       "신증설(예비전력)        22\n",
       "일부해지(신규)         14\n",
       "계약단위분할            7\n",
       "Name: count, dtype: int64"
      ]
     },
     "execution_count": 10,
     "metadata": {},
     "output_type": "execute_result"
    }
   ],
   "source": [
    "# 접수종류명 확인\n",
    "df_data['접수종류명'].value_counts()\n",
    "\n",
    "# '신설(상용/임시)'만 대상으로 작업할 예정"
   ]
  },
  {
   "cell_type": "code",
   "execution_count": 11,
   "metadata": {},
   "outputs": [
    {
     "data": {
      "text/plain": [
       "계약전력\n",
       "3      15965\n",
       "5      11190\n",
       "4       1782\n",
       "10      1158\n",
       "100     1047\n",
       "       ...  \n",
       "385        1\n",
       "173        1\n",
       "138        1\n",
       "124        1\n",
       "156        1\n",
       "Name: count, Length: 200, dtype: int64"
      ]
     },
     "execution_count": 11,
     "metadata": {},
     "output_type": "execute_result"
    }
   ],
   "source": [
    "# 계약전력 확인\n",
    "df_data['계약전력'].value_counts()"
   ]
  },
  {
   "cell_type": "code",
   "execution_count": 12,
   "metadata": {},
   "outputs": [
    {
     "data": {
      "text/plain": [
       "0    14289819.0189981,4448996.33479691,14289818.237...\n",
       "1    14289811.3602924,4449112.09869807,14289810.953...\n",
       "2    14289796.7644173,4449178.15244157,14289796.308...\n",
       "3    14289874.1009936,4448903.55163219,14289872.802...\n",
       "4    14289831.244884,4448951.31661164,14289830.7514...\n",
       "5    14289801.7912967,4449034.10434287,14289802.020...\n",
       "6    14289868.401279,4447980.66854729,14289867.8549...\n",
       "7    14289855.0915732,4448036.95675113,14289854.803...\n",
       "8    14289844.103554,4448109.84989056,14289843.9521...\n",
       "9    14289842.5975731,4448148.69257442,14289844.016...\n",
       "Name: X좌표-Y좌표, dtype: object"
      ]
     },
     "execution_count": 12,
     "metadata": {},
     "output_type": "execute_result"
    }
   ],
   "source": [
    "# 좌표확인\n",
    "df_data['X좌표-Y좌표'].head(10)"
   ]
  },
  {
   "cell_type": "code",
   "execution_count": 15,
   "metadata": {},
   "outputs": [],
   "source": [
    "# 좌표 갯 수 확인\n",
    "df_data['좌표리스트'] = df_data['X좌표-Y좌표'].str.split(',')\n",
    "df_data['좌표수'] = df_data['좌표리스트'].apply(len)"
   ]
  },
  {
   "cell_type": "code",
   "execution_count": 14,
   "metadata": {},
   "outputs": [],
   "source": [
    "location_lens = df_data['X좌표-Y좌표'].str.len()"
   ]
  },
  {
   "cell_type": "code",
   "execution_count": 22,
   "metadata": {},
   "outputs": [
    {
     "name": "stdout",
     "output_type": "stream",
     "text": [
      "경도 (Longitude): -149.878624\n",
      "위도 (Latitude): 11.939015\n"
     ]
    }
   ],
   "source": [
    "import pyproj\n",
    "\n",
    "# 입력 좌표와 대상 좌표계 정의\n",
    "input_coordinates = (14289819.0189981, 4448996.33479691)\n",
    "input_epsg = pyproj.CRS.from_epsg(5179)  # 입력 좌표의 좌표계 (UTM Zone 52N)\n",
    "output_epsg = pyproj.CRS.from_epsg(4326)  # 대상 좌표계 (WGS 84, EPSG 4326)\n",
    "\n",
    "# 좌표 변환\n",
    "transformer = pyproj.Transformer.from_crs(input_epsg, output_epsg, always_xy=True)\n",
    "output_coordinates = transformer.transform(*input_coordinates)\n",
    "\n",
    "# 경도와 위도 추출\n",
    "longitude, latitude = output_coordinates\n",
    "\n",
    "# 결과 출력\n",
    "print(f\"경도 (Longitude): {longitude:.6f}\")\n",
    "print(f\"위도 (Latitude): {latitude:.6f}\")"
   ]
  },
  {
   "cell_type": "code",
   "execution_count": null,
   "metadata": {},
   "outputs": [],
   "source": []
  }
 ],
 "metadata": {
  "kernelspec": {
   "display_name": "t213p310",
   "language": "python",
   "name": "python3"
  },
  "language_info": {
   "codemirror_mode": {
    "name": "ipython",
    "version": 3
   },
   "file_extension": ".py",
   "mimetype": "text/x-python",
   "name": "python",
   "nbconvert_exporter": "python",
   "pygments_lexer": "ipython3",
   "version": "3.10.12"
  },
  "orig_nbformat": 4
 },
 "nbformat": 4,
 "nbformat_minor": 2
}
