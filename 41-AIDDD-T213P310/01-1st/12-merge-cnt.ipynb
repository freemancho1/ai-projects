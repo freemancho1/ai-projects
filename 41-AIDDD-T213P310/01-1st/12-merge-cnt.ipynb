{
 "cells": [
  {
   "cell_type": "code",
   "execution_count": 1,
   "metadata": {},
   "outputs": [],
   "source": [
    "import os\n",
    "import sys\n",
    "import numpy as np\n",
    "import pandas as pd\n",
    "\n",
    "# 사용자정의 함수: key를 입력하면 해당 데이터를 데이터프레임으로 읽어옴\n",
    "from aiddd.data_manager import read_data, write_data\n",
    "from aiddd.utils import show_commas"
   ]
  },
  {
   "cell_type": "code",
   "execution_count": 2,
   "metadata": {},
   "outputs": [],
   "source": [
    "df = {\n",
    "    '기별': {\n",
    "        '애자': read_data('기별 애자'),\n",
    "        '인입선': read_data('기별 인입선'),\n",
    "        '장주': read_data('기별 장주'),\n",
    "        '전선': read_data('기별 전선'),\n",
    "        '전주': read_data('기별 전주'),\n",
    "        '접지': read_data('기별 접지'),\n",
    "        '지지선': read_data('기별 지지선'),\n",
    "    },\n",
    "    '설계': {\n",
    "        '고객': read_data('설계 고객'),\n",
    "        '애자': read_data('설계 애자'),\n",
    "        '인입선': read_data('설계 인입선'),\n",
    "        '장주': read_data('설계 장주'),\n",
    "        '전선': read_data('설계 전선'),\n",
    "        '전주': read_data('설계 전주'),\n",
    "        '접지': read_data('설계 접지'),\n",
    "        '지지선': read_data('설계 지지선'),\n",
    "    },\n",
    "}"
   ]
  },
  {
   "cell_type": "code",
   "execution_count": 3,
   "metadata": {},
   "outputs": [],
   "source": [
    "df_cc = read_data('전처리 공사비')"
   ]
  },
  {
   "cell_type": "code",
   "execution_count": 4,
   "metadata": {},
   "outputs": [],
   "source": [
    "for key1 in ['기별', '설계']:\n",
    "    for key2 in df[key1].keys():\n",
    "        df_data = df[key1][key2]\n",
    "        sr_data_cnt = df_data['공사번호'].value_counts()\n",
    "        col_name = f'{key1}:{key2}'\n",
    "        df_cc = pd.merge(\n",
    "            df_cc, sr_data_cnt.rename(col_name),\n",
    "            left_on='공사번호', right_on=sr_data_cnt.index, how='left'\n",
    "        )\n",
    "        df_cc[col_name] = df_cc[col_name].fillna(0)\n",
    "        df_cc[col_name] = df_cc[col_name].astype(int)"
   ]
  },
  {
   "cell_type": "code",
   "execution_count": 5,
   "metadata": {},
   "outputs": [],
   "source": [
    "write_data('병합 전체카운트', df_cc)"
   ]
  },
  {
   "cell_type": "code",
   "execution_count": 6,
   "metadata": {},
   "outputs": [
    {
     "data": {
      "text/plain": [
       "(1299, 24)"
      ]
     },
     "execution_count": 6,
     "metadata": {},
     "output_type": "execute_result"
    }
   ],
   "source": [
    "condition1 = (df_cc['기별:전주'] > 0) & (df_cc['기별:전주'] < 11)\n",
    "df_cc[condition1].shape"
   ]
  },
  {
   "cell_type": "code",
   "execution_count": 7,
   "metadata": {},
   "outputs": [
    {
     "data": {
      "text/plain": [
       "(3340, 24)"
      ]
     },
     "execution_count": 7,
     "metadata": {},
     "output_type": "execute_result"
    }
   ],
   "source": [
    "condition2 = (df_cc['설계:전주'] > 0) & (df_cc['설계:전주'] < 11)\n",
    "df_cc[condition2].shape"
   ]
  },
  {
   "cell_type": "code",
   "execution_count": 8,
   "metadata": {},
   "outputs": [
    {
     "data": {
      "text/plain": [
       "(769, 24)"
      ]
     },
     "execution_count": 8,
     "metadata": {},
     "output_type": "execute_result"
    }
   ],
   "source": [
    "condition3 = (df_cc['기별:전선'] > 0) & (df_cc['기별:전선'] < 13)\n",
    "df_cc[condition3].shape"
   ]
  },
  {
   "cell_type": "code",
   "execution_count": 9,
   "metadata": {},
   "outputs": [
    {
     "data": {
      "text/plain": [
       "(3640, 24)"
      ]
     },
     "execution_count": 9,
     "metadata": {},
     "output_type": "execute_result"
    }
   ],
   "source": [
    "condition4 = (df_cc['설계:전선'] > 0) & (df_cc['설계:전선'] < 13)\n",
    "df_cc[condition4].shape"
   ]
  },
  {
   "cell_type": "code",
   "execution_count": 10,
   "metadata": {},
   "outputs": [
    {
     "data": {
      "text/plain": [
       "(225, 24)"
      ]
     },
     "execution_count": 10,
     "metadata": {},
     "output_type": "execute_result"
    }
   ],
   "source": [
    "df_cc[condition1 & condition3].shape"
   ]
  },
  {
   "cell_type": "code",
   "execution_count": 11,
   "metadata": {},
   "outputs": [
    {
     "data": {
      "text/plain": [
       "(3155, 24)"
      ]
     },
     "execution_count": 11,
     "metadata": {},
     "output_type": "execute_result"
    }
   ],
   "source": [
    "df_cc[condition2 & condition4].shape"
   ]
  },
  {
   "cell_type": "code",
   "execution_count": 12,
   "metadata": {},
   "outputs": [],
   "source": [
    "df_cc_ds = df_cc[condition2 & condition4]"
   ]
  },
  {
   "cell_type": "code",
   "execution_count": 13,
   "metadata": {},
   "outputs": [
    {
     "data": {
      "text/html": [
       "<style type=\"text/css\">\n",
       "</style>\n",
       "<table id=\"T_5da23\">\n",
       "  <thead>\n",
       "    <tr>\n",
       "      <th class=\"blank level0\" >&nbsp;</th>\n",
       "      <th id=\"T_5da23_level0_col0\" class=\"col_heading level0 col0\" >최종변경자사번</th>\n",
       "      <th id=\"T_5da23_level0_col1\" class=\"col_heading level0 col1\" >공사형태코드</th>\n",
       "      <th id=\"T_5da23_level0_col2\" class=\"col_heading level0 col2\" >총공사비</th>\n",
       "      <th id=\"T_5da23_level0_col3\" class=\"col_heading level0 col3\" >계약전력</th>\n",
       "      <th id=\"T_5da23_level0_col4\" class=\"col_heading level0 col4\" >설계:전주</th>\n",
       "      <th id=\"T_5da23_level0_col5\" class=\"col_heading level0 col5\" >설계:전선</th>\n",
       "      <th id=\"T_5da23_level0_col6\" class=\"col_heading level0 col6\" >설계:인입선</th>\n",
       "    </tr>\n",
       "  </thead>\n",
       "  <tbody>\n",
       "    <tr>\n",
       "      <th id=\"T_5da23_level0_row0\" class=\"row_heading level0 row0\" >16</th>\n",
       "      <td id=\"T_5da23_row0_col0\" class=\"data row0 col0\" >ETL</td>\n",
       "      <td id=\"T_5da23_row0_col1\" class=\"data row0 col1\" >2</td>\n",
       "      <td id=\"T_5da23_row0_col2\" class=\"data row0 col2\" >33,823,973</td>\n",
       "      <td id=\"T_5da23_row0_col3\" class=\"data row0 col3\" >5</td>\n",
       "      <td id=\"T_5da23_row0_col4\" class=\"data row0 col4\" >4</td>\n",
       "      <td id=\"T_5da23_row0_col5\" class=\"data row0 col5\" >5</td>\n",
       "      <td id=\"T_5da23_row0_col6\" class=\"data row0 col6\" >2</td>\n",
       "    </tr>\n",
       "    <tr>\n",
       "      <th id=\"T_5da23_level0_row1\" class=\"row_heading level0 row1\" >20</th>\n",
       "      <td id=\"T_5da23_row1_col0\" class=\"data row1 col0\" >ETL_DEV</td>\n",
       "      <td id=\"T_5da23_row1_col1\" class=\"data row1 col1\" >2</td>\n",
       "      <td id=\"T_5da23_row1_col2\" class=\"data row1 col2\" >9,618,492</td>\n",
       "      <td id=\"T_5da23_row1_col3\" class=\"data row1 col3\" >5</td>\n",
       "      <td id=\"T_5da23_row1_col4\" class=\"data row1 col4\" >2</td>\n",
       "      <td id=\"T_5da23_row1_col5\" class=\"data row1 col5\" >2</td>\n",
       "      <td id=\"T_5da23_row1_col6\" class=\"data row1 col6\" >1</td>\n",
       "    </tr>\n",
       "    <tr>\n",
       "      <th id=\"T_5da23_level0_row2\" class=\"row_heading level0 row2\" >25</th>\n",
       "      <td id=\"T_5da23_row2_col0\" class=\"data row2 col0\" >MDE1704620</td>\n",
       "      <td id=\"T_5da23_row2_col1\" class=\"data row2 col1\" >2</td>\n",
       "      <td id=\"T_5da23_row2_col2\" class=\"data row2 col2\" >99,079,663</td>\n",
       "      <td id=\"T_5da23_row2_col3\" class=\"data row2 col3\" >40</td>\n",
       "      <td id=\"T_5da23_row2_col4\" class=\"data row2 col4\" >8</td>\n",
       "      <td id=\"T_5da23_row2_col5\" class=\"data row2 col5\" >10</td>\n",
       "      <td id=\"T_5da23_row2_col6\" class=\"data row2 col6\" >1</td>\n",
       "    </tr>\n",
       "    <tr>\n",
       "      <th id=\"T_5da23_level0_row3\" class=\"row_heading level0 row3\" >26</th>\n",
       "      <td id=\"T_5da23_row3_col0\" class=\"data row3 col0\" >MDE1705172</td>\n",
       "      <td id=\"T_5da23_row3_col1\" class=\"data row3 col1\" >2</td>\n",
       "      <td id=\"T_5da23_row3_col2\" class=\"data row3 col2\" >32,575,622</td>\n",
       "      <td id=\"T_5da23_row3_col3\" class=\"data row3 col3\" >90</td>\n",
       "      <td id=\"T_5da23_row3_col4\" class=\"data row3 col4\" >4</td>\n",
       "      <td id=\"T_5da23_row3_col5\" class=\"data row3 col5\" >8</td>\n",
       "      <td id=\"T_5da23_row3_col6\" class=\"data row3 col6\" >10</td>\n",
       "    </tr>\n",
       "    <tr>\n",
       "      <th id=\"T_5da23_level0_row4\" class=\"row_heading level0 row4\" >28</th>\n",
       "      <td id=\"T_5da23_row4_col0\" class=\"data row4 col0\" >ETL_DEV</td>\n",
       "      <td id=\"T_5da23_row4_col1\" class=\"data row4 col1\" >2</td>\n",
       "      <td id=\"T_5da23_row4_col2\" class=\"data row4 col2\" >17,329,820</td>\n",
       "      <td id=\"T_5da23_row4_col3\" class=\"data row4 col3\" >5</td>\n",
       "      <td id=\"T_5da23_row4_col4\" class=\"data row4 col4\" >4</td>\n",
       "      <td id=\"T_5da23_row4_col5\" class=\"data row4 col5\" >8</td>\n",
       "      <td id=\"T_5da23_row4_col6\" class=\"data row4 col6\" >3</td>\n",
       "    </tr>\n",
       "    <tr>\n",
       "      <th id=\"T_5da23_level0_row5\" class=\"row_heading level0 row5\" >29</th>\n",
       "      <td id=\"T_5da23_row5_col0\" class=\"data row5 col0\" >ETL</td>\n",
       "      <td id=\"T_5da23_row5_col1\" class=\"data row5 col1\" >2</td>\n",
       "      <td id=\"T_5da23_row5_col2\" class=\"data row5 col2\" >23,386,663</td>\n",
       "      <td id=\"T_5da23_row5_col3\" class=\"data row5 col3\" >90</td>\n",
       "      <td id=\"T_5da23_row5_col4\" class=\"data row5 col4\" >2</td>\n",
       "      <td id=\"T_5da23_row5_col5\" class=\"data row5 col5\" >3</td>\n",
       "      <td id=\"T_5da23_row5_col6\" class=\"data row5 col6\" >1</td>\n",
       "    </tr>\n",
       "    <tr>\n",
       "      <th id=\"T_5da23_level0_row6\" class=\"row_heading level0 row6\" >32</th>\n",
       "      <td id=\"T_5da23_row6_col0\" class=\"data row6 col0\" >ETL</td>\n",
       "      <td id=\"T_5da23_row6_col1\" class=\"data row6 col1\" >2</td>\n",
       "      <td id=\"T_5da23_row6_col2\" class=\"data row6 col2\" >30,613,950</td>\n",
       "      <td id=\"T_5da23_row6_col3\" class=\"data row6 col3\" >3</td>\n",
       "      <td id=\"T_5da23_row6_col4\" class=\"data row6 col4\" >2</td>\n",
       "      <td id=\"T_5da23_row6_col5\" class=\"data row6 col5\" >7</td>\n",
       "      <td id=\"T_5da23_row6_col6\" class=\"data row6 col6\" >1</td>\n",
       "    </tr>\n",
       "    <tr>\n",
       "      <th id=\"T_5da23_level0_row7\" class=\"row_heading level0 row7\" >36</th>\n",
       "      <td id=\"T_5da23_row7_col0\" class=\"data row7 col0\" >ETL</td>\n",
       "      <td id=\"T_5da23_row7_col1\" class=\"data row7 col1\" >2</td>\n",
       "      <td id=\"T_5da23_row7_col2\" class=\"data row7 col2\" >26,689,844</td>\n",
       "      <td id=\"T_5da23_row7_col3\" class=\"data row7 col3\" >30</td>\n",
       "      <td id=\"T_5da23_row7_col4\" class=\"data row7 col4\" >2</td>\n",
       "      <td id=\"T_5da23_row7_col5\" class=\"data row7 col5\" >1</td>\n",
       "      <td id=\"T_5da23_row7_col6\" class=\"data row7 col6\" >1</td>\n",
       "    </tr>\n",
       "    <tr>\n",
       "      <th id=\"T_5da23_level0_row8\" class=\"row_heading level0 row8\" >40</th>\n",
       "      <td id=\"T_5da23_row8_col0\" class=\"data row8 col0\" >ETL</td>\n",
       "      <td id=\"T_5da23_row8_col1\" class=\"data row8 col1\" >2</td>\n",
       "      <td id=\"T_5da23_row8_col2\" class=\"data row8 col2\" >9,423,703</td>\n",
       "      <td id=\"T_5da23_row8_col3\" class=\"data row8 col3\" >5</td>\n",
       "      <td id=\"T_5da23_row8_col4\" class=\"data row8 col4\" >2</td>\n",
       "      <td id=\"T_5da23_row8_col5\" class=\"data row8 col5\" >4</td>\n",
       "      <td id=\"T_5da23_row8_col6\" class=\"data row8 col6\" >3</td>\n",
       "    </tr>\n",
       "    <tr>\n",
       "      <th id=\"T_5da23_level0_row9\" class=\"row_heading level0 row9\" >42</th>\n",
       "      <td id=\"T_5da23_row9_col0\" class=\"data row9 col0\" >ETL</td>\n",
       "      <td id=\"T_5da23_row9_col1\" class=\"data row9 col1\" >2</td>\n",
       "      <td id=\"T_5da23_row9_col2\" class=\"data row9 col2\" >8,037,711</td>\n",
       "      <td id=\"T_5da23_row9_col3\" class=\"data row9 col3\" >6</td>\n",
       "      <td id=\"T_5da23_row9_col4\" class=\"data row9 col4\" >3</td>\n",
       "      <td id=\"T_5da23_row9_col5\" class=\"data row9 col5\" >4</td>\n",
       "      <td id=\"T_5da23_row9_col6\" class=\"data row9 col6\" >6</td>\n",
       "    </tr>\n",
       "    <tr>\n",
       "      <th id=\"T_5da23_level0_row10\" class=\"row_heading level0 row10\" >43</th>\n",
       "      <td id=\"T_5da23_row10_col0\" class=\"data row10 col0\" >ETL_DEV</td>\n",
       "      <td id=\"T_5da23_row10_col1\" class=\"data row10 col1\" >2</td>\n",
       "      <td id=\"T_5da23_row10_col2\" class=\"data row10 col2\" >16,119,215</td>\n",
       "      <td id=\"T_5da23_row10_col3\" class=\"data row10 col3\" >3</td>\n",
       "      <td id=\"T_5da23_row10_col4\" class=\"data row10 col4\" >3</td>\n",
       "      <td id=\"T_5da23_row10_col5\" class=\"data row10 col5\" >3</td>\n",
       "      <td id=\"T_5da23_row10_col6\" class=\"data row10 col6\" >1</td>\n",
       "    </tr>\n",
       "    <tr>\n",
       "      <th id=\"T_5da23_level0_row11\" class=\"row_heading level0 row11\" >45</th>\n",
       "      <td id=\"T_5da23_row11_col0\" class=\"data row11 col0\" >ETL</td>\n",
       "      <td id=\"T_5da23_row11_col1\" class=\"data row11 col1\" >2</td>\n",
       "      <td id=\"T_5da23_row11_col2\" class=\"data row11 col2\" >21,918,446</td>\n",
       "      <td id=\"T_5da23_row11_col3\" class=\"data row11 col3\" >3</td>\n",
       "      <td id=\"T_5da23_row11_col4\" class=\"data row11 col4\" >5</td>\n",
       "      <td id=\"T_5da23_row11_col5\" class=\"data row11 col5\" >3</td>\n",
       "      <td id=\"T_5da23_row11_col6\" class=\"data row11 col6\" >1</td>\n",
       "    </tr>\n",
       "    <tr>\n",
       "      <th id=\"T_5da23_level0_row12\" class=\"row_heading level0 row12\" >46</th>\n",
       "      <td id=\"T_5da23_row12_col0\" class=\"data row12 col0\" >ETL_DEV</td>\n",
       "      <td id=\"T_5da23_row12_col1\" class=\"data row12 col1\" >2</td>\n",
       "      <td id=\"T_5da23_row12_col2\" class=\"data row12 col2\" >27,027,631</td>\n",
       "      <td id=\"T_5da23_row12_col3\" class=\"data row12 col3\" >3</td>\n",
       "      <td id=\"T_5da23_row12_col4\" class=\"data row12 col4\" >6</td>\n",
       "      <td id=\"T_5da23_row12_col5\" class=\"data row12 col5\" >7</td>\n",
       "      <td id=\"T_5da23_row12_col6\" class=\"data row12 col6\" >2</td>\n",
       "    </tr>\n",
       "    <tr>\n",
       "      <th id=\"T_5da23_level0_row13\" class=\"row_heading level0 row13\" >47</th>\n",
       "      <td id=\"T_5da23_row13_col0\" class=\"data row13 col0\" >ETL_DEV</td>\n",
       "      <td id=\"T_5da23_row13_col1\" class=\"data row13 col1\" >2</td>\n",
       "      <td id=\"T_5da23_row13_col2\" class=\"data row13 col2\" >3,602,014</td>\n",
       "      <td id=\"T_5da23_row13_col3\" class=\"data row13 col3\" >3</td>\n",
       "      <td id=\"T_5da23_row13_col4\" class=\"data row13 col4\" >2</td>\n",
       "      <td id=\"T_5da23_row13_col5\" class=\"data row13 col5\" >2</td>\n",
       "      <td id=\"T_5da23_row13_col6\" class=\"data row13 col6\" >1</td>\n",
       "    </tr>\n",
       "    <tr>\n",
       "      <th id=\"T_5da23_level0_row14\" class=\"row_heading level0 row14\" >48</th>\n",
       "      <td id=\"T_5da23_row14_col0\" class=\"data row14 col0\" >ETL_DEV</td>\n",
       "      <td id=\"T_5da23_row14_col1\" class=\"data row14 col1\" >2</td>\n",
       "      <td id=\"T_5da23_row14_col2\" class=\"data row14 col2\" >5,014,162</td>\n",
       "      <td id=\"T_5da23_row14_col3\" class=\"data row14 col3\" >5</td>\n",
       "      <td id=\"T_5da23_row14_col4\" class=\"data row14 col4\" >1</td>\n",
       "      <td id=\"T_5da23_row14_col5\" class=\"data row14 col5\" >1</td>\n",
       "      <td id=\"T_5da23_row14_col6\" class=\"data row14 col6\" >1</td>\n",
       "    </tr>\n",
       "    <tr>\n",
       "      <th id=\"T_5da23_level0_row15\" class=\"row_heading level0 row15\" >49</th>\n",
       "      <td id=\"T_5da23_row15_col0\" class=\"data row15 col0\" >mde1705172</td>\n",
       "      <td id=\"T_5da23_row15_col1\" class=\"data row15 col1\" >2</td>\n",
       "      <td id=\"T_5da23_row15_col2\" class=\"data row15 col2\" >10,967,006</td>\n",
       "      <td id=\"T_5da23_row15_col3\" class=\"data row15 col3\" >3</td>\n",
       "      <td id=\"T_5da23_row15_col4\" class=\"data row15 col4\" >4</td>\n",
       "      <td id=\"T_5da23_row15_col5\" class=\"data row15 col5\" >4</td>\n",
       "      <td id=\"T_5da23_row15_col6\" class=\"data row15 col6\" >1</td>\n",
       "    </tr>\n",
       "    <tr>\n",
       "      <th id=\"T_5da23_level0_row16\" class=\"row_heading level0 row16\" >50</th>\n",
       "      <td id=\"T_5da23_row16_col0\" class=\"data row16 col0\" >mde1705172</td>\n",
       "      <td id=\"T_5da23_row16_col1\" class=\"data row16 col1\" >2</td>\n",
       "      <td id=\"T_5da23_row16_col2\" class=\"data row16 col2\" >10,172,650</td>\n",
       "      <td id=\"T_5da23_row16_col3\" class=\"data row16 col3\" >15</td>\n",
       "      <td id=\"T_5da23_row16_col4\" class=\"data row16 col4\" >1</td>\n",
       "      <td id=\"T_5da23_row16_col5\" class=\"data row16 col5\" >1</td>\n",
       "      <td id=\"T_5da23_row16_col6\" class=\"data row16 col6\" >4</td>\n",
       "    </tr>\n",
       "    <tr>\n",
       "      <th id=\"T_5da23_level0_row17\" class=\"row_heading level0 row17\" >52</th>\n",
       "      <td id=\"T_5da23_row17_col0\" class=\"data row17 col0\" >ETL_DEV</td>\n",
       "      <td id=\"T_5da23_row17_col1\" class=\"data row17 col1\" >2</td>\n",
       "      <td id=\"T_5da23_row17_col2\" class=\"data row17 col2\" >23,522,996</td>\n",
       "      <td id=\"T_5da23_row17_col3\" class=\"data row17 col3\" >40</td>\n",
       "      <td id=\"T_5da23_row17_col4\" class=\"data row17 col4\" >4</td>\n",
       "      <td id=\"T_5da23_row17_col5\" class=\"data row17 col5\" >6</td>\n",
       "      <td id=\"T_5da23_row17_col6\" class=\"data row17 col6\" >1</td>\n",
       "    </tr>\n",
       "    <tr>\n",
       "      <th id=\"T_5da23_level0_row18\" class=\"row_heading level0 row18\" >53</th>\n",
       "      <td id=\"T_5da23_row18_col0\" class=\"data row18 col0\" >ETL</td>\n",
       "      <td id=\"T_5da23_row18_col1\" class=\"data row18 col1\" >2</td>\n",
       "      <td id=\"T_5da23_row18_col2\" class=\"data row18 col2\" >4,917,297</td>\n",
       "      <td id=\"T_5da23_row18_col3\" class=\"data row18 col3\" >3</td>\n",
       "      <td id=\"T_5da23_row18_col4\" class=\"data row18 col4\" >2</td>\n",
       "      <td id=\"T_5da23_row18_col5\" class=\"data row18 col5\" >2</td>\n",
       "      <td id=\"T_5da23_row18_col6\" class=\"data row18 col6\" >2</td>\n",
       "    </tr>\n",
       "    <tr>\n",
       "      <th id=\"T_5da23_level0_row19\" class=\"row_heading level0 row19\" >55</th>\n",
       "      <td id=\"T_5da23_row19_col0\" class=\"data row19 col0\" >ETL</td>\n",
       "      <td id=\"T_5da23_row19_col1\" class=\"data row19 col1\" >2</td>\n",
       "      <td id=\"T_5da23_row19_col2\" class=\"data row19 col2\" >17,906,816</td>\n",
       "      <td id=\"T_5da23_row19_col3\" class=\"data row19 col3\" >15</td>\n",
       "      <td id=\"T_5da23_row19_col4\" class=\"data row19 col4\" >5</td>\n",
       "      <td id=\"T_5da23_row19_col5\" class=\"data row19 col5\" >1</td>\n",
       "      <td id=\"T_5da23_row19_col6\" class=\"data row19 col6\" >1</td>\n",
       "    </tr>\n",
       "    <tr>\n",
       "      <th id=\"T_5da23_level0_row20\" class=\"row_heading level0 row20\" >56</th>\n",
       "      <td id=\"T_5da23_row20_col0\" class=\"data row20 col0\" >ETL</td>\n",
       "      <td id=\"T_5da23_row20_col1\" class=\"data row20 col1\" >2</td>\n",
       "      <td id=\"T_5da23_row20_col2\" class=\"data row20 col2\" >2,680,650</td>\n",
       "      <td id=\"T_5da23_row20_col3\" class=\"data row20 col3\" >5</td>\n",
       "      <td id=\"T_5da23_row20_col4\" class=\"data row20 col4\" >1</td>\n",
       "      <td id=\"T_5da23_row20_col5\" class=\"data row20 col5\" >2</td>\n",
       "      <td id=\"T_5da23_row20_col6\" class=\"data row20 col6\" >2</td>\n",
       "    </tr>\n",
       "    <tr>\n",
       "      <th id=\"T_5da23_level0_row21\" class=\"row_heading level0 row21\" >57</th>\n",
       "      <td id=\"T_5da23_row21_col0\" class=\"data row21 col0\" >ETL_DEV</td>\n",
       "      <td id=\"T_5da23_row21_col1\" class=\"data row21 col1\" >2</td>\n",
       "      <td id=\"T_5da23_row21_col2\" class=\"data row21 col2\" >10,404,278</td>\n",
       "      <td id=\"T_5da23_row21_col3\" class=\"data row21 col3\" >4</td>\n",
       "      <td id=\"T_5da23_row21_col4\" class=\"data row21 col4\" >2</td>\n",
       "      <td id=\"T_5da23_row21_col5\" class=\"data row21 col5\" >6</td>\n",
       "      <td id=\"T_5da23_row21_col6\" class=\"data row21 col6\" >2</td>\n",
       "    </tr>\n",
       "    <tr>\n",
       "      <th id=\"T_5da23_level0_row22\" class=\"row_heading level0 row22\" >59</th>\n",
       "      <td id=\"T_5da23_row22_col0\" class=\"data row22 col0\" >ETL</td>\n",
       "      <td id=\"T_5da23_row22_col1\" class=\"data row22 col1\" >2</td>\n",
       "      <td id=\"T_5da23_row22_col2\" class=\"data row22 col2\" >35,684,269</td>\n",
       "      <td id=\"T_5da23_row22_col3\" class=\"data row22 col3\" >5</td>\n",
       "      <td id=\"T_5da23_row22_col4\" class=\"data row22 col4\" >6</td>\n",
       "      <td id=\"T_5da23_row22_col5\" class=\"data row22 col5\" >8</td>\n",
       "      <td id=\"T_5da23_row22_col6\" class=\"data row22 col6\" >2</td>\n",
       "    </tr>\n",
       "    <tr>\n",
       "      <th id=\"T_5da23_level0_row23\" class=\"row_heading level0 row23\" >60</th>\n",
       "      <td id=\"T_5da23_row23_col0\" class=\"data row23 col0\" >ETL</td>\n",
       "      <td id=\"T_5da23_row23_col1\" class=\"data row23 col1\" >2</td>\n",
       "      <td id=\"T_5da23_row23_col2\" class=\"data row23 col2\" >13,462,623</td>\n",
       "      <td id=\"T_5da23_row23_col3\" class=\"data row23 col3\" >3</td>\n",
       "      <td id=\"T_5da23_row23_col4\" class=\"data row23 col4\" >2</td>\n",
       "      <td id=\"T_5da23_row23_col5\" class=\"data row23 col5\" >4</td>\n",
       "      <td id=\"T_5da23_row23_col6\" class=\"data row23 col6\" >6</td>\n",
       "    </tr>\n",
       "    <tr>\n",
       "      <th id=\"T_5da23_level0_row24\" class=\"row_heading level0 row24\" >61</th>\n",
       "      <td id=\"T_5da23_row24_col0\" class=\"data row24 col0\" >ETL</td>\n",
       "      <td id=\"T_5da23_row24_col1\" class=\"data row24 col1\" >2</td>\n",
       "      <td id=\"T_5da23_row24_col2\" class=\"data row24 col2\" >19,520,297</td>\n",
       "      <td id=\"T_5da23_row24_col3\" class=\"data row24 col3\" >850</td>\n",
       "      <td id=\"T_5da23_row24_col4\" class=\"data row24 col4\" >5</td>\n",
       "      <td id=\"T_5da23_row24_col5\" class=\"data row24 col5\" >7</td>\n",
       "      <td id=\"T_5da23_row24_col6\" class=\"data row24 col6\" >0</td>\n",
       "    </tr>\n",
       "    <tr>\n",
       "      <th id=\"T_5da23_level0_row25\" class=\"row_heading level0 row25\" >62</th>\n",
       "      <td id=\"T_5da23_row25_col0\" class=\"data row25 col0\" >ETL</td>\n",
       "      <td id=\"T_5da23_row25_col1\" class=\"data row25 col1\" >2</td>\n",
       "      <td id=\"T_5da23_row25_col2\" class=\"data row25 col2\" >7,893,948</td>\n",
       "      <td id=\"T_5da23_row25_col3\" class=\"data row25 col3\" >5</td>\n",
       "      <td id=\"T_5da23_row25_col4\" class=\"data row25 col4\" >1</td>\n",
       "      <td id=\"T_5da23_row25_col5\" class=\"data row25 col5\" >1</td>\n",
       "      <td id=\"T_5da23_row25_col6\" class=\"data row25 col6\" >1</td>\n",
       "    </tr>\n",
       "    <tr>\n",
       "      <th id=\"T_5da23_level0_row26\" class=\"row_heading level0 row26\" >63</th>\n",
       "      <td id=\"T_5da23_row26_col0\" class=\"data row26 col0\" >ETL</td>\n",
       "      <td id=\"T_5da23_row26_col1\" class=\"data row26 col1\" >2</td>\n",
       "      <td id=\"T_5da23_row26_col2\" class=\"data row26 col2\" >17,498,851</td>\n",
       "      <td id=\"T_5da23_row26_col3\" class=\"data row26 col3\" >10</td>\n",
       "      <td id=\"T_5da23_row26_col4\" class=\"data row26 col4\" >5</td>\n",
       "      <td id=\"T_5da23_row26_col5\" class=\"data row26 col5\" >4</td>\n",
       "      <td id=\"T_5da23_row26_col6\" class=\"data row26 col6\" >1</td>\n",
       "    </tr>\n",
       "    <tr>\n",
       "      <th id=\"T_5da23_level0_row27\" class=\"row_heading level0 row27\" >64</th>\n",
       "      <td id=\"T_5da23_row27_col0\" class=\"data row27 col0\" >ETL</td>\n",
       "      <td id=\"T_5da23_row27_col1\" class=\"data row27 col1\" >2</td>\n",
       "      <td id=\"T_5da23_row27_col2\" class=\"data row27 col2\" >2,132,298</td>\n",
       "      <td id=\"T_5da23_row27_col3\" class=\"data row27 col3\" >5</td>\n",
       "      <td id=\"T_5da23_row27_col4\" class=\"data row27 col4\" >1</td>\n",
       "      <td id=\"T_5da23_row27_col5\" class=\"data row27 col5\" >1</td>\n",
       "      <td id=\"T_5da23_row27_col6\" class=\"data row27 col6\" >1</td>\n",
       "    </tr>\n",
       "    <tr>\n",
       "      <th id=\"T_5da23_level0_row28\" class=\"row_heading level0 row28\" >68</th>\n",
       "      <td id=\"T_5da23_row28_col0\" class=\"data row28 col0\" >ETL</td>\n",
       "      <td id=\"T_5da23_row28_col1\" class=\"data row28 col1\" >2</td>\n",
       "      <td id=\"T_5da23_row28_col2\" class=\"data row28 col2\" >11,590,714</td>\n",
       "      <td id=\"T_5da23_row28_col3\" class=\"data row28 col3\" >5</td>\n",
       "      <td id=\"T_5da23_row28_col4\" class=\"data row28 col4\" >5</td>\n",
       "      <td id=\"T_5da23_row28_col5\" class=\"data row28 col5\" >6</td>\n",
       "      <td id=\"T_5da23_row28_col6\" class=\"data row28 col6\" >5</td>\n",
       "    </tr>\n",
       "    <tr>\n",
       "      <th id=\"T_5da23_level0_row29\" class=\"row_heading level0 row29\" >70</th>\n",
       "      <td id=\"T_5da23_row29_col0\" class=\"data row29 col0\" >2007200722</td>\n",
       "      <td id=\"T_5da23_row29_col1\" class=\"data row29 col1\" >2</td>\n",
       "      <td id=\"T_5da23_row29_col2\" class=\"data row29 col2\" >40,708,514</td>\n",
       "      <td id=\"T_5da23_row29_col3\" class=\"data row29 col3\" >15</td>\n",
       "      <td id=\"T_5da23_row29_col4\" class=\"data row29 col4\" >7</td>\n",
       "      <td id=\"T_5da23_row29_col5\" class=\"data row29 col5\" >9</td>\n",
       "      <td id=\"T_5da23_row29_col6\" class=\"data row29 col6\" >1</td>\n",
       "    </tr>\n",
       "  </tbody>\n",
       "</table>\n"
      ],
      "text/plain": [
       "<pandas.io.formats.style.Styler at 0x7ff39ccc8400>"
      ]
     },
     "execution_count": 13,
     "metadata": {},
     "output_type": "execute_result"
    }
   ],
   "source": [
    "show_commas(df_cc_ds[['최종변경자사번', '공사형태코드', '총공사비', '계약전력', '설계:전주', '설계:전선', '설계:인입선']][:30])"
   ]
  },
  {
   "cell_type": "code",
   "execution_count": null,
   "metadata": {},
   "outputs": [],
   "source": []
  }
 ],
 "metadata": {
  "kernelspec": {
   "display_name": "t213p310",
   "language": "python",
   "name": "python3"
  },
  "language_info": {
   "codemirror_mode": {
    "name": "ipython",
    "version": 3
   },
   "file_extension": ".py",
   "mimetype": "text/x-python",
   "name": "python",
   "nbconvert_exporter": "python",
   "pygments_lexer": "ipython3",
   "version": "3.10.12"
  },
  "orig_nbformat": 4
 },
 "nbformat": 4,
 "nbformat_minor": 2
}
