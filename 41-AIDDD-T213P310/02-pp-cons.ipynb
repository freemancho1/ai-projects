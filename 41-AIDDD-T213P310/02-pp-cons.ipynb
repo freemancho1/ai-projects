{
 "cells": [
  {
   "cell_type": "markdown",
   "metadata": {},
   "source": [
    "#### 공사비 1차 전처리\n",
    "* 컬럼값이 1개로 구성된 컬럼 제거(학습에 도움 안됨)\n",
    "* 접수종류명: 신설(상용/임시)\n",
    "* 계약전력: 100미만"
   ]
  },
  {
   "cell_type": "code",
   "execution_count": 1,
   "metadata": {},
   "outputs": [],
   "source": [
    "import pandas as pd\n",
    "from datetime import datetime\n",
    "\n",
    "from aiddd.data_manager import read_data, write_data"
   ]
  },
  {
   "cell_type": "markdown",
   "metadata": {},
   "source": [
    "#### 데이터 불러오기"
   ]
  },
  {
   "cell_type": "code",
   "execution_count": 14,
   "metadata": {},
   "outputs": [
    {
     "name": "stdout",
     "output_type": "stream",
     "text": [
      "Total Elapsed Time for Data Load: 0:00:18.994424\n",
      "Shape: (19052, 143)\n"
     ]
    }
   ],
   "source": [
    "_start = datetime.now()\n",
    "df_data = read_data('2nd CONS')\n",
    "print(\n",
    "    f'Total Elapsed Time for Data Load: {datetime.now()-_start}\\n'\n",
    "    f'Shape: {df_data.shape}'\n",
    ")"
   ]
  },
  {
   "cell_type": "markdown",
   "metadata": {},
   "source": [
    "#### 데이터 전처리"
   ]
  },
  {
   "cell_type": "code",
   "execution_count": 15,
   "metadata": {},
   "outputs": [
    {
     "name": "stdout",
     "output_type": "stream",
     "text": [
      "Number of Drop Columns: 67\n",
      "Columns: ['공사변경순번', '배전공사형태코드', '외자분재료비', '사업소재료비금액', '간접재료비', '작업부산물값', '전선변압기코드번호', '전선변압기추가금액', '전선변압기조정금액', '인력분기준비용', '기계분기준비용', '할선분기준비용', '전선기술노무비', '전선기술재료비', '전선기술경비', '무정전기술노무비', '무정전기술경비', '도급분무정전기술노무비', '도급분무정전기술경비', '감리총공사비', '폐기물총공사비', '자동화총공사비', '도통시험총공사비', '전주가지지공법노무비', '전주가지지공법경비', '가설공사비1', '가설공사비2', '현장관리비', '감리자본적금액', '감리수익적금액', '폐기자본적금액', '폐기수익적금액', '도통자본적금액', '도통수익적금액', '자동화자본적금액', '자동화수익적금액', '자본대비자본적비율', '수익대비수익적비율', '도급분원형전주버팀목공법자재비', '도급분원형전주버팀목공법노무비', '도급분원형전주버팀목공법경비', '더블블레이드총공사비', '더블블레이드자본금액', '더블블레이드수익금', '사급자재자체감리비', '고객부담자체감리비', '부대공사자체감리비', '신기술공종규격코드', '신기술공사비', '신기술적용대수', '신기술적용선로길이', '중공스크루로드총공사비', '중공스크루로드자본적금액', '중공스크루로드수익적금액', 'CUD상태코드', '손실보상금', '손실보상계수', '방호대총공사비', '방호대자본적금액', '방호대수익적금액', '미관개선총공사비', '미관개선자본적금액', '미관개선수익적금액', '직접기본노무비', '제수당', '퇴직금액', '교통보조비용']\n"
     ]
    }
   ],
   "source": [
    "# 컬럼값이 1개로 구성된 컬럼 제거(학습에 필요없음)\n",
    "unique_cnt_cols = df_data.nunique()\n",
    "single_value_cols = unique_cnt_cols[unique_cnt_cols <= 1].index\n",
    "df_data.drop(columns=single_value_cols, axis=1, inplace=True)\n",
    "print(\n",
    "    f'Number of Drop Columns: {len(single_value_cols)}\\n'\n",
    "    f'Columns: {[col for col in single_value_cols]}'\n",
    ")"
   ]
  },
  {
   "cell_type": "code",
   "execution_count": 16,
   "metadata": {},
   "outputs": [
    {
     "data": {
      "text/plain": [
       "공사번호      0\n",
       "회사분공사비    0\n",
       "도급분공사비    0\n",
       "자본적금액     0\n",
       "수익적금액     0\n",
       "         ..\n",
       "접수종류코드    0\n",
       "접수종류명     0\n",
       "공사형태코드    0\n",
       "공사형태명     0\n",
       "계약전력      0\n",
       "Length: 76, dtype: int64"
      ]
     },
     "execution_count": 16,
     "metadata": {},
     "output_type": "execute_result"
    }
   ],
   "source": [
    "# 결측치 확인\n",
    "df_data.isna().sum()"
   ]
  },
  {
   "cell_type": "code",
   "execution_count": 17,
   "metadata": {},
   "outputs": [],
   "source": [
    "# 접수종류명, 계약전력으로 값 추출\n",
    "condition = (df_data['접수종류명']=='신설(상용/임시)') & \\\n",
    "            (df_data['계약전력'] < 100)\n",
    "\n",
    "df_data = df_data[condition]"
   ]
  },
  {
   "cell_type": "code",
   "execution_count": 18,
   "metadata": {},
   "outputs": [
    {
     "data": {
      "text/plain": [
       "접수종류코드    1\n",
       "접수종류명     1\n",
       "dtype: int64"
      ]
     },
     "execution_count": 18,
     "metadata": {},
     "output_type": "execute_result"
    }
   ],
   "source": [
    "df_data[['접수종류코드', '접수종류명']].nunique()"
   ]
  },
  {
   "cell_type": "code",
   "execution_count": 19,
   "metadata": {},
   "outputs": [],
   "source": [
    "df_data.drop(columns=['접수종류코드', '접수종류명'], axis=1, inplace=True)"
   ]
  },
  {
   "cell_type": "code",
   "execution_count": 25,
   "metadata": {},
   "outputs": [
    {
     "data": {
      "text/plain": [
       "11388    70HC20193314\n",
       "11390    70HC20193651\n",
       "11391    70HC20193889\n",
       "11394    70HC20194288\n",
       "11397    70HC20194407\n",
       "             ...     \n",
       "13971    70HC20234435\n",
       "13972    70HC20234438\n",
       "13973    70HC20234439\n",
       "13974    70HC20234472\n",
       "13975    70HC20234512\n",
       "Name: 공사번호, Length: 2203, dtype: object"
      ]
     },
     "execution_count": 25,
     "metadata": {},
     "output_type": "execute_result"
    }
   ],
   "source": [
    "# 공사번호에 영문이 포함된 레코드 출력\n",
    "df_data['공사번호'][df_data['공사번호'].str.contains('[a-zA-Z]')]"
   ]
  },
  {
   "cell_type": "code",
   "execution_count": 20,
   "metadata": {},
   "outputs": [],
   "source": [
    "write_data('2nd pp cons1', df_data, index=False)"
   ]
  },
  {
   "cell_type": "code",
   "execution_count": 26,
   "metadata": {},
   "outputs": [],
   "source": [
    "df_temp = read_data('2nd pp cons1', dtype={'공사번호': str})"
   ]
  }
 ],
 "metadata": {
  "kernelspec": {
   "display_name": "t213p310",
   "language": "python",
   "name": "python3"
  },
  "language_info": {
   "codemirror_mode": {
    "name": "ipython",
    "version": 3
   },
   "file_extension": ".py",
   "mimetype": "text/x-python",
   "name": "python",
   "nbconvert_exporter": "python",
   "pygments_lexer": "ipython3",
   "version": "3.10.12"
  },
  "orig_nbformat": 4
 },
 "nbformat": 4,
 "nbformat_minor": 2
}
