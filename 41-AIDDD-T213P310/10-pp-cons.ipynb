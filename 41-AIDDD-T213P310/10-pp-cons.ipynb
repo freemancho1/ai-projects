{
 "cells": [
  {
   "cell_type": "markdown",
   "metadata": {},
   "source": [
    "#### 공사비 1차 전처리\n",
    "\n",
    "* 계약전력: 100미만\n",
    "* 접수종류명: 신설(상용/임시)\n",
    "* 컬럼값이 1개로 구성된 컬럼(학습에 영향이 없음)\n",
    "* 총공사비가 1억 이상인 레코드 제거(11개 레코드)\n",
    "* 공사형태명: '외선소요'만 처리(나머지 '외선소요(선공급)' , '외선불요'는 갯 수가 140개도 안됨)"
   ]
  },
  {
   "cell_type": "code",
   "execution_count": 1,
   "metadata": {},
   "outputs": [],
   "source": [
    "import re\n",
    "import pandas as pd\n",
    "from datetime import datetime\n",
    "\n",
    "from aiddd.data_manager import read_data, write_data\n",
    "\n",
    "import matplotlib.pyplot as plt\n",
    "from freeman.plt_setting import plt_settings\n",
    "\n",
    "plt_settings()"
   ]
  },
  {
   "cell_type": "markdown",
   "metadata": {},
   "source": [
    "#### 원본 데이터 불러오기"
   ]
  },
  {
   "cell_type": "code",
   "execution_count": 2,
   "metadata": {},
   "outputs": [
    {
     "name": "stdout",
     "output_type": "stream",
     "text": [
      "Total Elapsed Time for Data Load: 0:00:18.623921\n",
      "Shape: (19052, 143)\n"
     ]
    }
   ],
   "source": [
    "_start = datetime.now()\n",
    "df_data = read_data('2nd CONS')\n",
    "print(\n",
    "    f'Total Elapsed Time for Data Load: {datetime.now()-_start}\\n'\n",
    "    f'Shape: {df_data.shape}'\n",
    ")"
   ]
  },
  {
   "cell_type": "markdown",
   "metadata": {},
   "source": [
    "#### 데이터 전처리"
   ]
  },
  {
   "cell_type": "markdown",
   "metadata": {},
   "source": [
    "##### 결측치 처리"
   ]
  },
  {
   "cell_type": "code",
   "execution_count": 3,
   "metadata": {},
   "outputs": [
    {
     "data": {
      "text/plain": [
       "신기술공종규격코드    19052\n",
       "전선변압기코드번호    19052\n",
       "CUD상태코드      19052\n",
       "공사번호             0\n",
       "더블블레이드수익금        0\n",
       "dtype: int64"
      ]
     },
     "execution_count": 3,
     "metadata": {},
     "output_type": "execute_result"
    }
   ],
   "source": [
    "df_data.isna().sum().sort_values(ascending=False)[:5]\n",
    "# '신기술공종규격코드', '전선변압기코드번호', '상태코드' 3컬럼이 모두 결측치이기 때문에,\n",
    "# 단일값인 0으로 치환 후 이후 단일값으로 구성된 컬럼 삭제시 제거"
   ]
  },
  {
   "cell_type": "code",
   "execution_count": 4,
   "metadata": {},
   "outputs": [],
   "source": [
    "df_data.fillna(0, inplace=True)"
   ]
  },
  {
   "cell_type": "markdown",
   "metadata": {},
   "source": [
    "##### 제외대상 제거\n",
    "* 계약전력: 100미만\n",
    "* 접수종류명: '신설(상용/임시)'\n",
    "* 공사형태코드: 2(외선소요)"
   ]
  },
  {
   "cell_type": "code",
   "execution_count": 5,
   "metadata": {},
   "outputs": [
    {
     "data": {
      "text/plain": [
       "(3112, 143)"
      ]
     },
     "execution_count": 5,
     "metadata": {},
     "output_type": "execute_result"
    }
   ],
   "source": [
    "condition = (df_data['접수종류명']=='신설(상용/임시)') & \\\n",
    "            (df_data['계약전력'] < 100) & (df_data['공사형태코드'] == 2)\n",
    "df_data[~condition].shape\n",
    "# 전체 레코드(19,052)중에 3,112이 제거 대상"
   ]
  },
  {
   "cell_type": "code",
   "execution_count": 6,
   "metadata": {},
   "outputs": [],
   "source": [
    "# 조건에 맞는 레크드만 취하고 인덱스를 갱신함\n",
    "df_data = df_data[condition].reset_index(drop=True)"
   ]
  },
  {
   "cell_type": "markdown",
   "metadata": {},
   "source": [
    "##### 1개의 값으로 구성된 컬럼 제거"
   ]
  },
  {
   "cell_type": "code",
   "execution_count": 7,
   "metadata": {},
   "outputs": [
    {
     "name": "stdout",
     "output_type": "stream",
     "text": [
      "Number of Drop Columns: 89\n",
      "Columns: ['공사변경순번', '배전공사형태코드', '외자분재료비', '사업소재료비금액', '간접재료비', '작업부산물값', '전선변압기코드번호', '전선변압기추가금액', '전선변압기조정금액', '인력분기준비용', '기계분기준비용', '할선분기준비용', '전선기술노무비', '전선기술재료비', '전선기술경비', '무정전기술노무비', '무정전기술경비', '도급분무정전기술노무비', '도급분무정전기술경비', '감리총공사비', '폐기물총공사비', '자동화총공사비', '도통시험총공사비', '전주가지지공법노무비', '전주가지지공법경비', '공통공사비', '가설공사비1', '가설공사비2', '공동장비비용', '현장관리비', '직접공사비', '회사분직접공사비', '도급분직접공사비', '간접공사비', '가공분단위시설별공사비', '지중분단위시설별공사비', '가공분회사분재료비', '지중분회사분재료비', '가공분도급분재료비', '지중분도급분재료비', '감리자본적금액', '감리수익적금액', '폐기자본적금액', '폐기수익적금액', '도통자본적금액', '도통수익적금액', '자동화자본적금액', '자동화수익적금액', '자본대비자본적비율', '수익대비수익적비율', '원형전주버팀목공법자재비', '원형전주버팀목공법노무비', '원형전주버팀목공법경비', '도급분원형전주버팀목공법자재비', '도급분원형전주버팀목공법노무비', '도급분원형전주버팀목공법경비', '더블블레이드총공사비', '더블블레이드자본금액', '더블블레이드수익금', '사급자재자체감리비', '고객부담자체감리비', '부대공사자체감리비', '신기술공종규격코드', '신기술공사비', '신기술적용대수', '신기술적용선로길이', '중공스크루로드총공사비', '중공스크루로드자본적금액', '중공스크루로드수익적금액', 'CUD상태코드', '손실보상금', '손실보상계수', '무정전전선이선공사비', '무정전전선이선특허사용료율', '방호대총공사비', '방호대자본적금액', '방호대수익적금액', '미관개선총공사비', '미관개선자본적금액', '미관개선수익적금액', '직접기본노무비', '제수당', '퇴직금액', '교통보조비용', '총직접노무비', '접수종류코드', '접수종류명', '공사형태코드', '공사형태명']\n",
      "Data shape: (15940, 54)\n"
     ]
    }
   ],
   "source": [
    "# 컬럼별로 유일한 값의 갯 수 확인\n",
    "unique_cnt_cols = df_data.nunique()\n",
    "\n",
    "# 유일값이 1과 같거나 적은 컬럼명 추출\n",
    "# 위에서 모두 NaN이였던 컬럼 3개도 NaN값을 0으로 치환해 유일값이 1개로 같이 제거됨\n",
    "single_value_cols = unique_cnt_cols[unique_cnt_cols <= 1].index\n",
    "\n",
    "# 데이터프레임에서 해당 컬럼 제거\n",
    "df_data.drop(columns=single_value_cols, axis=1, inplace=True)\n",
    "\n",
    "# 결과확인\n",
    "print(\n",
    "    f'Number of Drop Columns: {len(single_value_cols)}\\n'\n",
    "    f'Columns: {[col for col in single_value_cols]}\\n'\n",
    "    f'Data shape: {df_data.shape}'\n",
    ")"
   ]
  },
  {
   "cell_type": "markdown",
   "metadata": {},
   "source": [
    "#### 개별 컬럼 특징확인"
   ]
  },
  {
   "cell_type": "code",
   "execution_count": 8,
   "metadata": {},
   "outputs": [
    {
     "data": {
      "text/plain": [
       "Index(['공사번호', '회사분공사비', '도급분공사비', '자본적금액', '수익적금액', '본사분재료비', '내자분재료비',\n",
       "       '내자분저장품재료비', '내자분비저장품재료비', '도급분재료비', '지입재료비', '잡재료비', '직접노무비', '간접노무비',\n",
       "       '기계경비', '공구손료', '회사분경비', '도급분경비', '무정전기준비용', '신설기준비용', '철거기준비용',\n",
       "       '일반관리비', '이윤', '총공사비', '재료비', '회사분재료비', '노무비', '경비', '운반비', '자본적비율',\n",
       "       '수익적비율', '도급분자본적금액', '도급분수익적금액', '도급분자본적비율', '도급분수익적비율', '전주파쇄비',\n",
       "       '기타자재파쇄비', '아치형전주버팀목공법자재비', '아치형전주버팀목공법노무비', '아치형전주버팀목공법경비',\n",
       "       '고객부담일반관리비', '복리후생비율', '소모품비율', '여비통신비율', '세금공과금비율', '아치형전주버팀목공법일반관리비',\n",
       "       '아치형전주버팀목공법이윤', '아치형전주버팀목공법기술료율', '최초등록일시', '최초등록자사번', '최종변경일시',\n",
       "       '최종변경자사번', '사업소명', '계약전력'],\n",
       "      dtype='object')"
      ]
     },
     "execution_count": 8,
     "metadata": {},
     "output_type": "execute_result"
    }
   ],
   "source": [
    "df_data.columns"
   ]
  },
  {
   "cell_type": "markdown",
   "metadata": {},
   "source": [
    "##### 공사번호 영문포함 여부"
   ]
  },
  {
   "cell_type": "code",
   "execution_count": 9,
   "metadata": {},
   "outputs": [
    {
     "data": {
      "text/plain": [
       "(2189,)"
      ]
     },
     "execution_count": 9,
     "metadata": {},
     "output_type": "execute_result"
    }
   ],
   "source": [
    "# 공사번호에 영문 포함 여부 확인\n",
    "df_data['공사번호'][df_data['공사번호'].str.contains('[a-zA-Z]')].shape\n",
    "\n",
    "# 2203개가 영문이 포함된 공사비임"
   ]
  },
  {
   "cell_type": "markdown",
   "metadata": {},
   "source": [
    "##### 총공사비 이상치(또는 특별값) 제거"
   ]
  },
  {
   "cell_type": "code",
   "execution_count": 10,
   "metadata": {},
   "outputs": [
    {
     "data": {
      "text/plain": [
       "(739093, 418398497)"
      ]
     },
     "execution_count": 10,
     "metadata": {},
     "output_type": "execute_result"
    }
   ],
   "source": [
    "# 총공사비 최소/최대값 확인\n",
    "df_data['총공사비'].min(), df_data['총공사비'].max()"
   ]
  },
  {
   "cell_type": "code",
   "execution_count": 11,
   "metadata": {},
   "outputs": [
    {
     "data": {
      "text/plain": [
       "(11, 54)"
      ]
     },
     "execution_count": 11,
     "metadata": {},
     "output_type": "execute_result"
    }
   ],
   "source": [
    "condition_cost = (df_data['총공사비'] > 99999999)\n",
    "df_data[condition_cost].shape\n",
    "\n",
    "# 총공사비가 1억 이상인 대상이 11개뿐이니 제거하고 처리"
   ]
  },
  {
   "cell_type": "code",
   "execution_count": 12,
   "metadata": {},
   "outputs": [],
   "source": [
    "df_data = df_data[~condition_cost].reset_index(drop=True)"
   ]
  },
  {
   "cell_type": "markdown",
   "metadata": {},
   "source": [
    "##### 날짜데이터 확인"
   ]
  },
  {
   "cell_type": "code",
   "execution_count": 13,
   "metadata": {},
   "outputs": [
    {
     "name": "stdout",
     "output_type": "stream",
     "text": [
      "<class 'pandas.core.frame.DataFrame'>\n",
      "RangeIndex: 15929 entries, 0 to 15928\n",
      "Data columns (total 2 columns):\n",
      " #   Column  Non-Null Count  Dtype         \n",
      "---  ------  --------------  -----         \n",
      " 0   최초등록일시  15929 non-null  datetime64[ns]\n",
      " 1   최종변경일시  15929 non-null  datetime64[ns]\n",
      "dtypes: datetime64[ns](2)\n",
      "memory usage: 249.0 KB\n"
     ]
    }
   ],
   "source": [
    "df_data[['최초등록일시', '최종변경일시']].info()"
   ]
  },
  {
   "cell_type": "code",
   "execution_count": 14,
   "metadata": {},
   "outputs": [
    {
     "data": {
      "text/html": [
       "<div>\n",
       "<style scoped>\n",
       "    .dataframe tbody tr th:only-of-type {\n",
       "        vertical-align: middle;\n",
       "    }\n",
       "\n",
       "    .dataframe tbody tr th {\n",
       "        vertical-align: top;\n",
       "    }\n",
       "\n",
       "    .dataframe thead th {\n",
       "        text-align: right;\n",
       "    }\n",
       "</style>\n",
       "<table border=\"1\" class=\"dataframe\">\n",
       "  <thead>\n",
       "    <tr style=\"text-align: right;\">\n",
       "      <th></th>\n",
       "      <th>최초등록일시</th>\n",
       "      <th>최종변경일시</th>\n",
       "    </tr>\n",
       "  </thead>\n",
       "  <tbody>\n",
       "    <tr>\n",
       "      <th>0</th>\n",
       "      <td>2021-06-03 08:21:39</td>\n",
       "      <td>2021-06-03 08:21:40</td>\n",
       "    </tr>\n",
       "    <tr>\n",
       "      <th>1</th>\n",
       "      <td>2021-06-16 16:59:17</td>\n",
       "      <td>2021-06-16 16:59:17</td>\n",
       "    </tr>\n",
       "    <tr>\n",
       "      <th>2</th>\n",
       "      <td>2021-02-25 09:10:17</td>\n",
       "      <td>2021-02-25 09:10:18</td>\n",
       "    </tr>\n",
       "    <tr>\n",
       "      <th>3</th>\n",
       "      <td>2021-02-25 13:52:47</td>\n",
       "      <td>2021-02-25 13:52:47</td>\n",
       "    </tr>\n",
       "    <tr>\n",
       "      <th>4</th>\n",
       "      <td>2021-04-12 08:11:23</td>\n",
       "      <td>2021-04-12 08:11:24</td>\n",
       "    </tr>\n",
       "  </tbody>\n",
       "</table>\n",
       "</div>"
      ],
      "text/plain": [
       "               최초등록일시              최종변경일시\n",
       "0 2021-06-03 08:21:39 2021-06-03 08:21:40\n",
       "1 2021-06-16 16:59:17 2021-06-16 16:59:17\n",
       "2 2021-02-25 09:10:17 2021-02-25 09:10:18\n",
       "3 2021-02-25 13:52:47 2021-02-25 13:52:47\n",
       "4 2021-04-12 08:11:23 2021-04-12 08:11:24"
      ]
     },
     "execution_count": 14,
     "metadata": {},
     "output_type": "execute_result"
    }
   ],
   "source": [
    "df_data[['최초등록일시', '최종변경일시']].head()"
   ]
  },
  {
   "cell_type": "code",
   "execution_count": 15,
   "metadata": {},
   "outputs": [
    {
     "data": {
      "text/plain": [
       "(0, 54)"
      ]
     },
     "execution_count": 15,
     "metadata": {},
     "output_type": "execute_result"
    }
   ],
   "source": [
    "# 최종변경일시와 최초등록일시가 1시간 이상(3600초) 차이나는 레코드 확인\n",
    "condition_date = (\n",
    "    (df_data['최종변경일시'] - df_data['최초등록일시']).dt.total_seconds() >= 3600\n",
    ")\n",
    "df_data[condition_date].shape\n",
    "\n",
    "# 최초등록일시와 최종변경일시가 1시간 차이도 안나기 때문에 '최종변경일시'만 사용"
   ]
  },
  {
   "cell_type": "code",
   "execution_count": 16,
   "metadata": {},
   "outputs": [],
   "source": [
    "df_data['year'] = df_data['최종변경일시'].dt.year\n",
    "df_data['month'] = df_data['최종변경일시'].dt.month\n",
    "df_data['day'] = df_data['최종변경일시'].dt.day\n",
    "df_data['dayofweek'] = df_data['최종변경일시'].dt.dayofweek\n",
    "df_data['dayofyear'] = df_data['최종변경일시'].dt.dayofyear"
   ]
  },
  {
   "cell_type": "markdown",
   "metadata": {},
   "source": [
    "##### 사번확인"
   ]
  },
  {
   "cell_type": "code",
   "execution_count": 17,
   "metadata": {},
   "outputs": [
    {
     "name": "stdout",
     "output_type": "stream",
     "text": [
      "<class 'pandas.core.frame.DataFrame'>\n",
      "RangeIndex: 15929 entries, 0 to 15928\n",
      "Data columns (total 2 columns):\n",
      " #   Column   Non-Null Count  Dtype \n",
      "---  ------   --------------  ----- \n",
      " 0   최초등록자사번  15929 non-null  object\n",
      " 1   최종변경자사번  15929 non-null  object\n",
      "dtypes: object(2)\n",
      "memory usage: 249.0+ KB\n"
     ]
    }
   ],
   "source": [
    "df_data[['최초등록자사번', '최종변경자사번']].info()"
   ]
  },
  {
   "cell_type": "code",
   "execution_count": 18,
   "metadata": {},
   "outputs": [
    {
     "data": {
      "text/html": [
       "<div>\n",
       "<style scoped>\n",
       "    .dataframe tbody tr th:only-of-type {\n",
       "        vertical-align: middle;\n",
       "    }\n",
       "\n",
       "    .dataframe tbody tr th {\n",
       "        vertical-align: top;\n",
       "    }\n",
       "\n",
       "    .dataframe thead th {\n",
       "        text-align: right;\n",
       "    }\n",
       "</style>\n",
       "<table border=\"1\" class=\"dataframe\">\n",
       "  <thead>\n",
       "    <tr style=\"text-align: right;\">\n",
       "      <th></th>\n",
       "      <th>최초등록자사번</th>\n",
       "      <th>최종변경자사번</th>\n",
       "    </tr>\n",
       "  </thead>\n",
       "  <tbody>\n",
       "    <tr>\n",
       "      <th>0</th>\n",
       "      <td>MDP2100104</td>\n",
       "      <td>MDP2100104</td>\n",
       "    </tr>\n",
       "    <tr>\n",
       "      <th>1</th>\n",
       "      <td>MDE1706013</td>\n",
       "      <td>MDE1706013</td>\n",
       "    </tr>\n",
       "    <tr>\n",
       "      <th>2</th>\n",
       "      <td>1988103181</td>\n",
       "      <td>1988103181</td>\n",
       "    </tr>\n",
       "    <tr>\n",
       "      <th>3</th>\n",
       "      <td>MDE1706013</td>\n",
       "      <td>MDE1706013</td>\n",
       "    </tr>\n",
       "    <tr>\n",
       "      <th>4</th>\n",
       "      <td>MDP2100086</td>\n",
       "      <td>MDP2100086</td>\n",
       "    </tr>\n",
       "  </tbody>\n",
       "</table>\n",
       "</div>"
      ],
      "text/plain": [
       "      최초등록자사번     최종변경자사번\n",
       "0  MDP2100104  MDP2100104\n",
       "1  MDE1706013  MDE1706013\n",
       "2  1988103181  1988103181\n",
       "3  MDE1706013  MDE1706013\n",
       "4  MDP2100086  MDP2100086"
      ]
     },
     "execution_count": 18,
     "metadata": {},
     "output_type": "execute_result"
    }
   ],
   "source": [
    "df_data[['최초등록자사번', '최종변경자사번']].head()"
   ]
  },
  {
   "cell_type": "code",
   "execution_count": 19,
   "metadata": {},
   "outputs": [
    {
     "data": {
      "text/plain": [
       "(0, 59)"
      ]
     },
     "execution_count": 19,
     "metadata": {},
     "output_type": "execute_result"
    }
   ],
   "source": [
    "condition_id = (df_data['최초등록자사번'] != df_data['최종변경자사번'])\n",
    "df_data[condition_id].shape\n",
    "\n",
    "# 등록자와 변경자의 사번이 모두 일치하기 때문에 최종변경자사번만 사용"
   ]
  },
  {
   "cell_type": "code",
   "execution_count": 20,
   "metadata": {},
   "outputs": [
    {
     "data": {
      "text/plain": [
       "사번코드\n",
       "MDP    6197\n",
       "MDE    5573\n",
       "MDF    1084\n",
       "MDO     853\n",
       "MDA     667\n",
       "MDJ     120\n",
       "MMP      11\n",
       "MDI       1\n",
       "Name: count, dtype: int64"
      ]
     },
     "execution_count": 20,
     "metadata": {},
     "output_type": "execute_result"
    }
   ],
   "source": [
    "# 최종변경자사번에서 알파벳 추출\n",
    "df_data['사번코드'] = df_data['최종변경자사번'].str.extract('([a-zA-Z]+)', expand=False)\n",
    "df_data['사번코드'].value_counts()"
   ]
  },
  {
   "cell_type": "code",
   "execution_count": 21,
   "metadata": {},
   "outputs": [
    {
     "data": {
      "text/plain": [
       "(14506, (15929, 60))"
      ]
     },
     "execution_count": 21,
     "metadata": {},
     "output_type": "execute_result"
    }
   ],
   "source": [
    "df_data['사번코드'].value_counts().sum(), df_data.shape\n",
    "# 전체데이터 16073중 영문에 포함된 사번은 14637이며 종류는 8개임"
   ]
  },
  {
   "cell_type": "markdown",
   "metadata": {},
   "source": [
    "##### 사번코드를 숫자로 만들기"
   ]
  },
  {
   "cell_type": "code",
   "execution_count": 22,
   "metadata": {},
   "outputs": [],
   "source": [
    "# 사번코드를 숫자로 만들기\n",
    "df_data['사번코드'].fillna('AAA', inplace=True)\n",
    "df_data['사번코드숫자'] = df_data['사번코드'].rank(method='dense').astype(int)"
   ]
  },
  {
   "cell_type": "code",
   "execution_count": 23,
   "metadata": {},
   "outputs": [
    {
     "name": "stdout",
     "output_type": "stream",
     "text": [
      "['AAA', 'MDA', 'MDE', 'MDF', 'MDI', 'MDJ', 'MDO', 'MDP', 'MMP']\n",
      "[2, 2696, 1, 4035, 4034, 8127, 1014, 0, 8237]\n"
     ]
    },
    {
     "data": {
      "text/html": [
       "<div>\n",
       "<style scoped>\n",
       "    .dataframe tbody tr th:only-of-type {\n",
       "        vertical-align: middle;\n",
       "    }\n",
       "\n",
       "    .dataframe tbody tr th {\n",
       "        vertical-align: top;\n",
       "    }\n",
       "\n",
       "    .dataframe thead th {\n",
       "        text-align: right;\n",
       "    }\n",
       "</style>\n",
       "<table border=\"1\" class=\"dataframe\">\n",
       "  <thead>\n",
       "    <tr style=\"text-align: right;\">\n",
       "      <th></th>\n",
       "      <th>최종변경자사번</th>\n",
       "      <th>사번코드</th>\n",
       "      <th>사번코드숫자</th>\n",
       "    </tr>\n",
       "  </thead>\n",
       "  <tbody>\n",
       "    <tr>\n",
       "      <th>2</th>\n",
       "      <td>1988103181</td>\n",
       "      <td>AAA</td>\n",
       "      <td>1</td>\n",
       "    </tr>\n",
       "    <tr>\n",
       "      <th>2696</th>\n",
       "      <td>MDA1570558</td>\n",
       "      <td>MDA</td>\n",
       "      <td>2</td>\n",
       "    </tr>\n",
       "    <tr>\n",
       "      <th>1</th>\n",
       "      <td>MDE1706013</td>\n",
       "      <td>MDE</td>\n",
       "      <td>3</td>\n",
       "    </tr>\n",
       "    <tr>\n",
       "      <th>4035</th>\n",
       "      <td>MDF1710844</td>\n",
       "      <td>MDF</td>\n",
       "      <td>4</td>\n",
       "    </tr>\n",
       "    <tr>\n",
       "      <th>4034</th>\n",
       "      <td>MDI1781912</td>\n",
       "      <td>MDI</td>\n",
       "      <td>5</td>\n",
       "    </tr>\n",
       "    <tr>\n",
       "      <th>8127</th>\n",
       "      <td>MDJ1563132</td>\n",
       "      <td>MDJ</td>\n",
       "      <td>6</td>\n",
       "    </tr>\n",
       "    <tr>\n",
       "      <th>1014</th>\n",
       "      <td>MDO2100010</td>\n",
       "      <td>MDO</td>\n",
       "      <td>7</td>\n",
       "    </tr>\n",
       "    <tr>\n",
       "      <th>0</th>\n",
       "      <td>MDP2100104</td>\n",
       "      <td>MDP</td>\n",
       "      <td>8</td>\n",
       "    </tr>\n",
       "    <tr>\n",
       "      <th>8237</th>\n",
       "      <td>MMP1900092</td>\n",
       "      <td>MMP</td>\n",
       "      <td>9</td>\n",
       "    </tr>\n",
       "  </tbody>\n",
       "</table>\n",
       "</div>"
      ],
      "text/plain": [
       "         최종변경자사번 사번코드  사번코드숫자\n",
       "2     1988103181  AAA       1\n",
       "2696  MDA1570558  MDA       2\n",
       "1     MDE1706013  MDE       3\n",
       "4035  MDF1710844  MDF       4\n",
       "4034  MDI1781912  MDI       5\n",
       "8127  MDJ1563132  MDJ       6\n",
       "1014  MDO2100010  MDO       7\n",
       "0     MDP2100104  MDP       8\n",
       "8237  MMP1900092  MMP       9"
      ]
     },
     "execution_count": 23,
     "metadata": {},
     "output_type": "execute_result"
    }
   ],
   "source": [
    "# 사번코드가 숫자로 잘 만들어 졌는지 확인하기 위해,\n",
    "# 사번코드별로 하나의 레코드를 추출해 사번과 사번코드 및 사번코드숫자를 확인\n",
    "unique_id_code = sorted(df_data['사번코드'].unique())\n",
    "unique_id_index = []\n",
    "for id_code in unique_id_code:\n",
    "    unique_id_index.append(df_data[df_data['사번코드']==id_code].index[0])\n",
    "\n",
    "print([code for code in unique_id_code])\n",
    "print([idx for idx in unique_id_index])\n",
    "    \n",
    "df_unique_id_code = df_data.iloc[unique_id_index]\n",
    "df_unique_id_code[['최종변경자사번', '사번코드', '사번코드숫자']]"
   ]
  },
  {
   "cell_type": "code",
   "execution_count": 24,
   "metadata": {},
   "outputs": [],
   "source": [
    "df_data['사번숫자'] = df_data['최종변경자사번'].apply(lambda x: re.findall(r'\\d+', x))\n"
   ]
  },
  {
   "cell_type": "code",
   "execution_count": 25,
   "metadata": {},
   "outputs": [],
   "source": [
    "def change_data(x):\n",
    "    return int(x[0])\n",
    "\n",
    "df_data['사번숫자'] = df_data['사번숫자'].apply(change_data)"
   ]
  },
  {
   "cell_type": "markdown",
   "metadata": {},
   "source": [
    "##### 사업소명 확인"
   ]
  },
  {
   "cell_type": "code",
   "execution_count": 26,
   "metadata": {},
   "outputs": [
    {
     "data": {
      "text/plain": [
       "사업소명\n",
       "증평괴산지사    2189\n",
       "동청주지사     1852\n",
       "충주지사      1737\n",
       "영동지사      1552\n",
       "제천지사      1487\n",
       "음성지사      1353\n",
       "보은지사      1343\n",
       "충북본부직할    1327\n",
       "옥천지사      1185\n",
       "진천지사      1065\n",
       "단양지사       839\n",
       "Name: count, dtype: int64"
      ]
     },
     "execution_count": 26,
     "metadata": {},
     "output_type": "execute_result"
    }
   ],
   "source": [
    "df_data['사업소명'].value_counts()"
   ]
  },
  {
   "cell_type": "code",
   "execution_count": 27,
   "metadata": {},
   "outputs": [],
   "source": [
    "# 사업소명을 숫자로 변경\n",
    "df_data['사업소코드'] = df_data['사업소명'].rank(method='dense').astype(int)"
   ]
  },
  {
   "cell_type": "code",
   "execution_count": 28,
   "metadata": {},
   "outputs": [
    {
     "data": {
      "text/plain": [
       "사업소코드\n",
       "8     2189\n",
       "2     1852\n",
       "11    1737\n",
       "4     1552\n",
       "7     1487\n",
       "6     1353\n",
       "3     1343\n",
       "10    1327\n",
       "5     1185\n",
       "9     1065\n",
       "1      839\n",
       "Name: count, dtype: int64"
      ]
     },
     "execution_count": 28,
     "metadata": {},
     "output_type": "execute_result"
    }
   ],
   "source": [
    "df_data['사업소코드'].value_counts()"
   ]
  },
  {
   "cell_type": "markdown",
   "metadata": {},
   "source": [
    "#### 학습에 사용할 컬럼"
   ]
  },
  {
   "cell_type": "code",
   "execution_count": 29,
   "metadata": {},
   "outputs": [],
   "source": [
    "feature_cols = [\n",
    "    '공사번호', '총공사비', \n",
    "    '최종변경일시', 'year', 'month', 'day', 'dayofweek', 'dayofyear',\n",
    "    '최종변경자사번', '사번코드', '사번코드숫자', '사번숫자',\n",
    "    '사업소명', '사업소코드', '계약전력'\n",
    "]"
   ]
  },
  {
   "cell_type": "code",
   "execution_count": 30,
   "metadata": {},
   "outputs": [],
   "source": [
    "df_data = df_data[feature_cols]"
   ]
  },
  {
   "cell_type": "markdown",
   "metadata": {},
   "source": [
    "#### 데이터 저장"
   ]
  },
  {
   "cell_type": "code",
   "execution_count": 31,
   "metadata": {},
   "outputs": [],
   "source": [
    "write_data('2nd pp cons1', df_data, index=False)"
   ]
  },
  {
   "cell_type": "markdown",
   "metadata": {},
   "source": [
    "#### 차트로 확인"
   ]
  },
  {
   "cell_type": "code",
   "execution_count": 32,
   "metadata": {},
   "outputs": [
    {
     "data": {
      "image/png": "[encoded data removed]",
      "text/plain": [
       "<Figure size 640x480 with 1 Axes>"
      ]
     },
     "metadata": {},
     "output_type": "display_data"
    }
   ],
   "source": [
    "df_data.plot.scatter(x='계약전력', y='총공사비')\n",
    "plt.xlabel('계약전력')\n",
    "plt.ylabel('총공사비')\n",
    "plt.title('총공사비 vs 계약전력 산점도')\n",
    "plt.show()"
   ]
  },
  {
   "cell_type": "code",
   "execution_count": 33,
   "metadata": {},
   "outputs": [
    {
     "data": {
      "image/png": "[encoded data removed]",
      "text/plain": [
       "<Figure size 640x480 with 1 Axes>"
      ]
     },
     "metadata": {},
     "output_type": "display_data"
    }
   ],
   "source": [
    "df_data.plot.scatter(x='사번코드숫자', y='총공사비')\n",
    "plt.xlabel('사번코드숫자')\n",
    "plt.ylabel('총공사비')\n",
    "plt.title('총공사비 vs 사번코드숫자 산점도')\n",
    "plt.show()"
   ]
  },
  {
   "cell_type": "code",
   "execution_count": null,
   "metadata": {},
   "outputs": [],
   "source": []
  }
 ],
 "metadata": {
  "kernelspec": {
   "display_name": "t213p310",
   "language": "python",
   "name": "python3"
  },
  "language_info": {
   "codemirror_mode": {
    "name": "ipython",
    "version": 3
   },
   "file_extension": ".py",
   "mimetype": "text/x-python",
   "name": "python",
   "nbconvert_exporter": "python",
   "pygments_lexer": "ipython3",
   "version": "3.10.12"
  },
  "orig_nbformat": 4
 },
 "nbformat": 4,
 "nbformat_minor": 2
}
