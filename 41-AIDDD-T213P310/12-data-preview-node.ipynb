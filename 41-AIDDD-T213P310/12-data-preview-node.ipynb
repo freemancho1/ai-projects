{
 "cells": [
  {
   "cell_type": "code",
   "execution_count": 1,
   "metadata": {},
   "outputs": [],
   "source": [
    "import os\n",
    "import warnings\n",
    "import numpy as np\n",
    "import pandas as pd\n",
    "\n",
    "from aiddd.get_datas import get_data"
   ]
  },
  {
   "cell_type": "code",
   "execution_count": 2,
   "metadata": {},
   "outputs": [],
   "source": [
    "df_bd_node = get_data('기별 전주')\n",
    "df_ds_node = get_data('설계 전주')"
   ]
  },
  {
   "cell_type": "code",
   "execution_count": 3,
   "metadata": {},
   "outputs": [
    {
     "data": {
      "text/plain": [
       "공사번호\n",
       "442720194689    894\n",
       "442720203885    536\n",
       "442720193507    403\n",
       "442720204021    342\n",
       "442720194067    277\n",
       "               ... \n",
       "442720203138      5\n",
       "442720203473      5\n",
       "442720223553      5\n",
       "442720233633      3\n",
       "442720204611      3\n",
       "Name: count, Length: 3749, dtype: int64"
      ]
     },
     "execution_count": 3,
     "metadata": {},
     "output_type": "execute_result"
    }
   ],
   "source": [
    "df_bd_node['공사번호'].value_counts()"
   ]
  },
  {
   "cell_type": "code",
   "execution_count": 4,
   "metadata": {},
   "outputs": [
    {
     "data": {
      "text/plain": [
       "공사번호\n",
       "442720194689    83\n",
       "442720203885    53\n",
       "442720193507    41\n",
       "442720204021    34\n",
       "442720194067    26\n",
       "                ..\n",
       "442720213487     1\n",
       "442720193741     1\n",
       "442720213482     1\n",
       "442720183782     1\n",
       "442720204550     1\n",
       "Name: count, Length: 3886, dtype: int64"
      ]
     },
     "execution_count": 4,
     "metadata": {},
     "output_type": "execute_result"
    }
   ],
   "source": [
    "df_ds_node['공사번호'].value_counts()"
   ]
  },
  {
   "cell_type": "code",
   "execution_count": null,
   "metadata": {},
   "outputs": [],
   "source": []
  }
 ],
 "metadata": {
  "kernelspec": {
   "display_name": "t213p310",
   "language": "python",
   "name": "python3"
  },
  "language_info": {
   "codemirror_mode": {
    "name": "ipython",
    "version": 3
   },
   "file_extension": ".py",
   "mimetype": "text/x-python",
   "name": "python",
   "nbconvert_exporter": "python",
   "pygments_lexer": "ipython3",
   "version": "3.10.12"
  },
  "orig_nbformat": 4
 },
 "nbformat": 4,
 "nbformat_minor": 2
}
