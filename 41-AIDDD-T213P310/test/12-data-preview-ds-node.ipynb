{
 "cells": [
  {
   "cell_type": "markdown",
   "metadata": {},
   "source": [
    "#### 설계:전주"
   ]
  },
  {
   "cell_type": "code",
   "execution_count": 1,
   "metadata": {},
   "outputs": [],
   "source": [
    "import os\n",
    "import warnings\n",
    "import numpy as np\n",
    "import pandas as pd\n",
    "\n",
    "import matplotlib.pyplot as plt\n",
    "\n",
    "# 사용자정의 함수: key를 입력하면 해당 데이터를 데이터프레임으로 읽어옴\n",
    "from aiddd.data_manager import read_data, write_data\n",
    "from freeman.plt_setting import plt_settings\n",
    "\n",
    "# matplotlib 설정: 한글표시, 차트 레이블 '-' 처리\n",
    "plt_settings()"
   ]
  },
  {
   "cell_type": "code",
   "execution_count": 2,
   "metadata": {},
   "outputs": [
    {
     "name": "stdout",
     "output_type": "stream",
     "text": [
      "<class 'pandas.core.frame.DataFrame'>\n",
      "RangeIndex: 8458 entries, 0 to 8457\n",
      "Data columns (total 62 columns):\n",
      " #   Column           Non-Null Count  Dtype  \n",
      "---  ------           --------------  -----  \n",
      " 0   공사번호             8458 non-null   int64  \n",
      " 1   공사변경순번           8458 non-null   int64  \n",
      " 2   전산화번호            8458 non-null   object \n",
      " 3   GISID            8458 non-null   int64  \n",
      " 4   전주순번             8458 non-null   int64  \n",
      " 5   공사구분코드           8458 non-null   object \n",
      " 6   공사성격코드           8458 non-null   object \n",
      " 7   전주형태코드           8458 non-null   object \n",
      " 8   전주종류코드           8399 non-null   object \n",
      " 9   전주규격코드           8399 non-null   float64\n",
      " 10  전주수량             8458 non-null   int64  \n",
      " 11  도색판공사특성코드        4612 non-null   object \n",
      " 12  도색판종류코드          8458 non-null   object \n",
      " 13  전주버팀목공사특성코드      8129 non-null   object \n",
      " 14  전주버팀목수량          8458 non-null   int64  \n",
      " 15  번호판구분코드          8392 non-null   object \n",
      " 16  철주철탑중량           8458 non-null   int64  \n",
      " 17  각입방법코드           0 non-null      float64\n",
      " 18  각입중량             8458 non-null   int64  \n",
      " 19  암반율코드            1407 non-null   float64\n",
      " 20  잔토처리여부           8458 non-null   object \n",
      " 21  부수기종류코드          3 non-null      object \n",
      " 22  부수기량             8458 non-null   int64  \n",
      " 23  구전산화번호           0 non-null      float64\n",
      " 24  설비조정코드           0 non-null      float64\n",
      " 25  암반종류코드           4 non-null      object \n",
      " 26  풍속               8458 non-null   int64  \n",
      " 27  지반코드             8457 non-null   object \n",
      " 28  전주깊이             8458 non-null   float64\n",
      " 29  점용위치코드           8457 non-null   object \n",
      " 30  점용구분코드           8456 non-null   object \n",
      " 31  기설설비유실여부         8458 non-null   object \n",
      " 32  사업소코드            0 non-null      float64\n",
      " 33  변전소코드            0 non-null      float64\n",
      " 34  회선코드             0 non-null      float64\n",
      " 35  기설설비상태코드         0 non-null      float64\n",
      " 36  전주종류명세코드         3 non-null      float64\n",
      " 37  선로순시여부           8458 non-null   object \n",
      " 38  조류둥지철거여부         8458 non-null   object \n",
      " 39  점용위치구분코드         8456 non-null   object \n",
      " 40  전주버팀목종류코드        8146 non-null   object \n",
      " 41  오손등급코드           0 non-null      float64\n",
      " 42  아라미드공법여부         8458 non-null   object \n",
      " 43  추가밑둥묻기깊이         8458 non-null   int64  \n",
      " 44  선로순시횟수           8458 non-null   int64  \n",
      " 45  조류둥지철거수량         8458 non-null   int64  \n",
      " 46  NDIS사업소코드        0 non-null      float64\n",
      " 47  최초등록일시           8458 non-null   object \n",
      " 48  최초등록자사번          8458 non-null   object \n",
      " 49  최종변경일시           8458 non-null   object \n",
      " 50  최종변경자사번          8458 non-null   object \n",
      " 51  H빔보강코드           0 non-null      float64\n",
      " 52  H빔공사성격코드         0 non-null      float64\n",
      " 53  고강도전주사용유무        8458 non-null   object \n",
      " 54  고강도전주_영업배전_공사성격  961 non-null    object \n",
      " 55  전주오름볼트사용여부       0 non-null      float64\n",
      " 56  사업소명             8458 non-null   object \n",
      " 57  접수종류코드           8458 non-null   object \n",
      " 58  접수종류명            8458 non-null   object \n",
      " 59  공사형태코드           8458 non-null   int64  \n",
      " 60  공사형태명            8458 non-null   object \n",
      " 61  계약전력             8458 non-null   int64  \n",
      "dtypes: float64(16), int64(15), object(31)\n",
      "memory usage: 4.0+ MB\n"
     ]
    }
   ],
   "source": [
    "df_node = read_data('설계 전주')\n",
    "df_node.info()"
   ]
  },
  {
   "cell_type": "code",
   "execution_count": 3,
   "metadata": {},
   "outputs": [
    {
     "data": {
      "text/plain": [
       "공사번호\n",
       "442720194689    83\n",
       "442720203885    53\n",
       "442720193507    41\n",
       "442720204021    34\n",
       "442720194067    26\n",
       "                ..\n",
       "442720233593     1\n",
       "442720233691     1\n",
       "442720233666     1\n",
       "442720233664     1\n",
       "442720204550     1\n",
       "Name: count, Length: 3886, dtype: int64"
      ]
     },
     "execution_count": 3,
     "metadata": {},
     "output_type": "execute_result"
    }
   ],
   "source": [
    "df_node['공사번호'].value_counts().sort_values(ascending=False)"
   ]
  },
  {
   "cell_type": "markdown",
   "metadata": {},
   "source": [
    "* 전처리 없이 일단 전선 갯 수만 확인"
   ]
  },
  {
   "cell_type": "code",
   "execution_count": 5,
   "metadata": {},
   "outputs": [],
   "source": [
    "# 공사비 데이터 읽어오기\n",
    "df_cc = read_data('전처리 공사비+설계')"
   ]
  },
  {
   "cell_type": "code",
   "execution_count": 6,
   "metadata": {},
   "outputs": [
    {
     "data": {
      "text/plain": [
       "3886"
      ]
     },
     "execution_count": 6,
     "metadata": {},
     "output_type": "execute_result"
    }
   ],
   "source": [
    "# 설계:전주에서 공사번호 중복 제거\n",
    "unique_no_line = df_node['공사번호'].unique()\n",
    "len(unique_no_line)"
   ]
  },
  {
   "cell_type": "code",
   "execution_count": 7,
   "metadata": {},
   "outputs": [
    {
     "data": {
      "text/plain": [
       "6927"
      ]
     },
     "execution_count": 7,
     "metadata": {},
     "output_type": "execute_result"
    }
   ],
   "source": [
    "# 공사비의 공사번호가 있는 설계:전주 레코드 추출\n",
    "df_node_cc = df_node[df_node['공사번호'].isin(df_cc['공사번호'])]\n",
    "len(df_node_cc)"
   ]
  },
  {
   "cell_type": "code",
   "execution_count": 8,
   "metadata": {},
   "outputs": [
    {
     "data": {
      "text/plain": [
       "(8458, (8458, 62))"
      ]
     },
     "execution_count": 8,
     "metadata": {},
     "output_type": "execute_result"
    }
   ],
   "source": [
    "# 설계:전주에서 공사번호별 레코드 갯 수(공사번호별 전주 갯 수) 추출\n",
    "sr_node_cnt = df_node['공사번호'].value_counts()\n",
    "sr_node_cnt.sum(), df_node.shape"
   ]
  },
  {
   "cell_type": "code",
   "execution_count": 9,
   "metadata": {},
   "outputs": [
    {
     "data": {
      "text/plain": [
       "6927.0"
      ]
     },
     "execution_count": 9,
     "metadata": {},
     "output_type": "execute_result"
    }
   ],
   "source": [
    "# 공사비 데이터프레임에 전주수 컬럼 추가\n",
    "df_cc = pd.merge(\n",
    "    df_cc, sr_node_cnt.rename('전주수'),\n",
    "    left_on='공사번호', right_on=sr_node_cnt.index, how='left'\n",
    ")\n",
    "df_cc['전주수'] = df_cc['전주수'].fillna(0)\n",
    "df_cc['전주수'].sum()"
   ]
  },
  {
   "cell_type": "code",
   "execution_count": 10,
   "metadata": {},
   "outputs": [],
   "source": [
    "write_data('전처리 공사비+설계', df_cc)"
   ]
  },
  {
   "cell_type": "code",
   "execution_count": null,
   "metadata": {},
   "outputs": [],
   "source": []
  }
 ],
 "metadata": {
  "kernelspec": {
   "display_name": "t213p310",
   "language": "python",
   "name": "python3"
  },
  "language_info": {
   "codemirror_mode": {
    "name": "ipython",
    "version": 3
   },
   "file_extension": ".py",
   "mimetype": "text/x-python",
   "name": "python",
   "nbconvert_exporter": "python",
   "pygments_lexer": "ipython3",
   "version": "3.10.12"
  },
  "orig_nbformat": 4
 },
 "nbformat": 4,
 "nbformat_minor": 2
}
