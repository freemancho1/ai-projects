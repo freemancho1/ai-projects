{
 "cells": [
  {
   "cell_type": "markdown",
   "metadata": {},
   "source": [
    "#### 설계: 전선"
   ]
  },
  {
   "cell_type": "code",
   "execution_count": 10,
   "metadata": {},
   "outputs": [],
   "source": [
    "import os\n",
    "import warnings\n",
    "import numpy as np\n",
    "import pandas as pd\n",
    "\n",
    "import matplotlib.pyplot as plt\n",
    "\n",
    "# 사용자정의 함수: key를 입력하면 해당 데이터를 데이터프레임으로 읽어옴\n",
    "from aiddd.data_manager import read_data, write_data\n",
    "from freeman.plt_setting import plt_settings\n",
    "\n",
    "# matplotlib 설정: 한글표시, 차트 레이블 '-' 처리\n",
    "plt_settings()"
   ]
  },
  {
   "cell_type": "code",
   "execution_count": 11,
   "metadata": {},
   "outputs": [
    {
     "name": "stdout",
     "output_type": "stream",
     "text": [
      "<class 'pandas.core.frame.DataFrame'>\n",
      "RangeIndex: 9853 entries, 0 to 9852\n",
      "Data columns (total 76 columns):\n",
      " #   Column         Non-Null Count  Dtype  \n",
      "---  ------         --------------  -----  \n",
      " 0   공사번호           9853 non-null   int64  \n",
      " 1   공사변경순번         9853 non-null   int64  \n",
      " 2   전산화번호          9853 non-null   object \n",
      " 3   GISID          9853 non-null   int64  \n",
      " 4   공사구분코드         9853 non-null   object \n",
      " 5   전원측전산화번호       9853 non-null   object \n",
      " 6   전압구분코드         9853 non-null   object \n",
      " 7   설치순서           9853 non-null   int64  \n",
      " 8   공사성격코드         9853 non-null   object \n",
      " 9   회선명            0 non-null      float64\n",
      " 10  결선방식코드         9853 non-null   int64  \n",
      " 11  상배열구분코드        0 non-null      float64\n",
      " 12  지지물간거리         9853 non-null   int64  \n",
      " 13  전선종류코드1        9851 non-null   object \n",
      " 14  전선규격코드1        9851 non-null   float64\n",
      " 15  전선조수1          9853 non-null   int64  \n",
      " 16  전선구분코드1        9660 non-null   object \n",
      " 17  전선조정코드1        0 non-null      float64\n",
      " 18  전선공사특성코드2      29 non-null     object \n",
      " 19  전선종류코드2        29 non-null     object \n",
      " 20  전선규격코드2        29 non-null     float64\n",
      " 21  전선조수2          9853 non-null   int64  \n",
      " 22  전선구분코드2        24 non-null     object \n",
      " 23  전선조정코드2        0 non-null      float64\n",
      " 24  전선펴기여부         9853 non-null   object \n",
      " 25  중성선공사특성코드      7356 non-null   object \n",
      " 26  중성선종류코드        9839 non-null   object \n",
      " 27  중성선규격코드        9839 non-null   float64\n",
      " 28  중성선구분코드        5483 non-null   object \n",
      " 29  중성선조정코드        0 non-null      float64\n",
      " 30  중성선공용구분코드      9852 non-null   object \n",
      " 31  직선접속공사특성코드     0 non-null      float64\n",
      " 32  직선접속수량         9853 non-null   int64  \n",
      " 33  슬리브접속수량        9853 non-null   int64  \n",
      " 34  시공방법코드         0 non-null      float64\n",
      " 35  상부가설여부         9853 non-null   object \n",
      " 36  수목접촉여부         9853 non-null   object \n",
      " 37  건물방호관코드        0 non-null      float64\n",
      " 38  건물방호관수량        9853 non-null   int64  \n",
      " 39  고객제공여부         9853 non-null   object \n",
      " 40  직선접속중성선공사성격코드  0 non-null      float64\n",
      " 41  직선접속중성선수량      9853 non-null   int64  \n",
      " 42  전압선중성선사용여부     9853 non-null   object \n",
      " 43  중성선전압선사용여부     9853 non-null   object \n",
      " 44  전선펴기긴선여부       9853 non-null   object \n",
      " 45  기설전선여부         9853 non-null   object \n",
      " 46  전선공사특성코드3      0 non-null      float64\n",
      " 47  전선종류코드3        0 non-null      float64\n",
      " 48  전선규격코드3        0 non-null      float64\n",
      " 49  전선구분코드3        0 non-null      float64\n",
      " 50  전선조정코드3        0 non-null      float64\n",
      " 51  기설설비유실여부       9853 non-null   object \n",
      " 52  사업소코드          0 non-null      float64\n",
      " 53  변전소코드          0 non-null      float64\n",
      " 54  회선코드           0 non-null      float64\n",
      " 55  기설설비상태코드       0 non-null      float64\n",
      " 56  위험표지판수량        9853 non-null   int64  \n",
      " 57  종단접속공사코드       0 non-null      float64\n",
      " 58  종단접속수량         9853 non-null   int64  \n",
      " 59  조가형태공사코드       0 non-null      float64\n",
      " 60  조가형태코드         0 non-null      float64\n",
      " 61  파형관규격코드        0 non-null      float64\n",
      " 62  디지털장력계여부       9853 non-null   object \n",
      " 63  분산형전원표시판수      9853 non-null   int64  \n",
      " 64  케이블헤더수량        9853 non-null   int64  \n",
      " 65  NDIS사업소코드      0 non-null      float64\n",
      " 66  최초등록일시         9853 non-null   object \n",
      " 67  최초등록자사번        9853 non-null   object \n",
      " 68  최종변경일시         9853 non-null   object \n",
      " 69  최종변경자사번        9853 non-null   object \n",
      " 70  사업소명           9853 non-null   object \n",
      " 71  접수종류코드         9853 non-null   object \n",
      " 72  접수종류명          9853 non-null   object \n",
      " 73  공사형태코드         9853 non-null   int64  \n",
      " 74  공사형태명          9853 non-null   object \n",
      " 75  계약전력           9853 non-null   int64  \n",
      "dtypes: float64(26), int64(18), object(32)\n",
      "memory usage: 5.7+ MB\n"
     ]
    }
   ],
   "source": [
    "df_line = read_data('설계 전선')\n",
    "df_line.info()"
   ]
  },
  {
   "cell_type": "markdown",
   "metadata": {},
   "source": [
    "#### 데이터전처리"
   ]
  },
  {
   "cell_type": "markdown",
   "metadata": {},
   "source": [
    "##### 결측치 1차 처리"
   ]
  },
  {
   "cell_type": "code",
   "execution_count": 12,
   "metadata": {},
   "outputs": [
    {
     "data": {
      "text/plain": [
       "전선규격코드3      9853\n",
       "전선구분코드3      9853\n",
       "중성선조정코드      9853\n",
       "전선구분코드2      9829\n",
       "전선공사특성코드2    9824\n",
       "전선종류코드2      9824\n",
       "전선규격코드2      9824\n",
       "중성선구분코드      4370\n",
       "중성선공사특성코드    2497\n",
       "전선구분코드1       193\n",
       "중성선규격코드        14\n",
       "중성선종류코드        14\n",
       "전선규격코드1         2\n",
       "전선종류코드1         2\n",
       "중성선공용구분코드       1\n",
       "최종변경일시          0\n",
       "공사형태명           0\n",
       "공사형태코드          0\n",
       "접수종류명           0\n",
       "접수종류코드          0\n",
       "dtype: int64"
      ]
     },
     "execution_count": 12,
     "metadata": {},
     "output_type": "execute_result"
    }
   ],
   "source": [
    "# 결측치 확인\n",
    "df_line.isna().sum().sort_values(ascending=False)[20:40]"
   ]
  },
  {
   "cell_type": "code",
   "execution_count": 13,
   "metadata": {},
   "outputs": [
    {
     "data": {
      "text/plain": [
       "['회선명',\n",
       " '상배열구분코드',\n",
       " '전선조정코드1',\n",
       " '전선공사특성코드2',\n",
       " '전선종류코드2',\n",
       " '전선규격코드2',\n",
       " '전선구분코드2',\n",
       " '전선조정코드2',\n",
       " '중성선구분코드',\n",
       " '중성선조정코드',\n",
       " '직선접속공사특성코드',\n",
       " '시공방법코드',\n",
       " '건물방호관코드',\n",
       " '직선접속중성선공사성격코드',\n",
       " '전선공사특성코드3',\n",
       " '전선종류코드3',\n",
       " '전선규격코드3',\n",
       " '전선구분코드3',\n",
       " '전선조정코드3',\n",
       " '사업소코드',\n",
       " '변전소코드',\n",
       " '회선코드',\n",
       " '기설설비상태코드',\n",
       " '종단접속공사코드',\n",
       " '조가형태공사코드',\n",
       " '조가형태코드',\n",
       " '파형관규격코드',\n",
       " 'NDIS사업소코드']"
      ]
     },
     "execution_count": 13,
     "metadata": {},
     "output_type": "execute_result"
    }
   ],
   "source": [
    "# 결측치 갯 수가 4000개 이상인 컬럼 리스트\n",
    "_nan_counts = df_line.isna().sum()\n",
    "cols_with_most_nan = _nan_counts[_nan_counts >= 4000].index.tolist()\n",
    "cols_with_most_nan"
   ]
  },
  {
   "cell_type": "code",
   "execution_count": 14,
   "metadata": {},
   "outputs": [],
   "source": [
    "# 결측치 4000개 이상 컬럼 삭제\n",
    "df_line.drop(columns=cols_with_most_nan, axis=1, inplace=True)"
   ]
  },
  {
   "cell_type": "markdown",
   "metadata": {},
   "source": [
    "##### 유일값 컬럼 처리"
   ]
  },
  {
   "cell_type": "code",
   "execution_count": 15,
   "metadata": {},
   "outputs": [
    {
     "name": "stdout",
     "output_type": "stream",
     "text": [
      "값이 하나인 컬럼 갯 수: 20\n"
     ]
    }
   ],
   "source": [
    "# 값이 하나인 컬럼 확인\n",
    "cols_unique = df_line.columns[df_line.nunique() == 1]\n",
    "\n",
    "print(f'값이 하나인 컬럼 갯 수: {len(cols_unique)}')"
   ]
  },
  {
   "cell_type": "code",
   "execution_count": 16,
   "metadata": {},
   "outputs": [
    {
     "data": {
      "text/plain": [
       "Index(['공사변경순번', '공사구분코드', '전압구분코드', '공사성격코드', '전선펴기여부', '직선접속수량', '슬리브접속수량',\n",
       "       '상부가설여부', '건물방호관수량', '고객제공여부', '직선접속중성선수량', '전압선중성선사용여부', '중성선전압선사용여부',\n",
       "       '전선펴기긴선여부', '기설전선여부', '기설설비유실여부', '종단접속수량', '디지털장력계여부', '케이블헤더수량',\n",
       "       '사업소명'],\n",
       "      dtype='object')"
      ]
     },
     "execution_count": 16,
     "metadata": {},
     "output_type": "execute_result"
    }
   ],
   "source": [
    "cols_unique"
   ]
  },
  {
   "cell_type": "code",
   "execution_count": 17,
   "metadata": {},
   "outputs": [],
   "source": [
    "# 값이 하나인 컬럼 제거\n",
    "df_line.drop(columns=cols_unique, axis=1, inplace=True)\n",
    "# write_data('전처리 설계전선', df_line)"
   ]
  },
  {
   "cell_type": "markdown",
   "metadata": {},
   "source": [
    "##### 전처리된 공사비를 읽어와서 설계:전선 값과 비교"
   ]
  },
  {
   "cell_type": "code",
   "execution_count": 18,
   "metadata": {},
   "outputs": [],
   "source": [
    "df_cc_pp = read_data('전처리 공사비')"
   ]
  },
  {
   "cell_type": "code",
   "execution_count": 19,
   "metadata": {},
   "outputs": [
    {
     "data": {
      "text/plain": [
       "(5810, (5810, 5))"
      ]
     },
     "execution_count": 19,
     "metadata": {},
     "output_type": "execute_result"
    }
   ],
   "source": [
    "df_cc_pp['공사번호'].nunique(), df_cc_pp.shape\n",
    "# 공사번호별로 하나의 로우로 구성됨을 알 수 있음(공사번호 유일값 갯 수 = 전체 로우 갯 수)"
   ]
  },
  {
   "cell_type": "code",
   "execution_count": 20,
   "metadata": {},
   "outputs": [
    {
     "data": {
      "text/plain": [
       "4289"
      ]
     },
     "execution_count": 20,
     "metadata": {},
     "output_type": "execute_result"
    }
   ],
   "source": [
    "# 설계:전선에서 중복된 공사번호의 중복 제거\n",
    "unique_no_line = df_line['공사번호'].unique()\n",
    "len(unique_no_line)\n",
    "\n",
    "# 전체공사비 5810개, 설계:전선의 공사비 4289개 \n",
    "# => 공사비중에 설계:전선이 없는 공사비: 1521개"
   ]
  },
  {
   "cell_type": "code",
   "execution_count": 21,
   "metadata": {},
   "outputs": [
    {
     "data": {
      "text/plain": [
       "3653"
      ]
     },
     "execution_count": 21,
     "metadata": {},
     "output_type": "execute_result"
    }
   ],
   "source": [
    "# 공사비에서 설계:전선의 유일한 공사번호로우 추출\n",
    "df_cc_pp_line = df_cc_pp[df_cc_pp['공사번호'].isin(unique_no_line)]\n",
    "len(df_cc_pp_line)\n",
    "\n",
    "# 최종적으로 공사비와 설계:전선의 공사번호가 일치한 로우는 3653개"
   ]
  },
  {
   "cell_type": "code",
   "execution_count": 22,
   "metadata": {},
   "outputs": [
    {
     "data": {
      "text/plain": [
       "(7743, 28)"
      ]
     },
     "execution_count": 22,
     "metadata": {},
     "output_type": "execute_result"
    }
   ],
   "source": [
    "# 공사비의 공사번호가 있는 설계:전선 레코드 추출\n",
    "df_line_cc = df_line[df_line['공사번호'].isin(df_cc_pp_line['공사번호'])]\n",
    "df_line_cc.shape"
   ]
  },
  {
   "cell_type": "code",
   "execution_count": 23,
   "metadata": {},
   "outputs": [
    {
     "data": {
      "text/plain": [
       "(0, 28)"
      ]
     },
     "execution_count": 23,
     "metadata": {},
     "output_type": "execute_result"
    }
   ],
   "source": [
    "# 양 데이터프레임에서 '공사번호'가 같은 로우의 '계약전력'은 모두 일치함\n",
    "# 따라서 공사번호당 계약전력은 일치한다고 볼 수 있음\n",
    "df_line_cc_not_match = df_line_cc[~df_line_cc['계약전력'].isin(df_cc_pp_line['계약전력'])]\n",
    "df_line_cc_not_match.shape"
   ]
  },
  {
   "cell_type": "code",
   "execution_count": 24,
   "metadata": {},
   "outputs": [
    {
     "data": {
      "text/plain": [
       "9853"
      ]
     },
     "execution_count": 24,
     "metadata": {},
     "output_type": "execute_result"
    }
   ],
   "source": [
    "sr_line_counts = df_line['공사번호'].value_counts()\n",
    "sr_line_counts.sum()"
   ]
  },
  {
   "cell_type": "code",
   "execution_count": 25,
   "metadata": {},
   "outputs": [],
   "source": [
    "# 공사비 데이터프레임에 전선수 컬럼 추가\n",
    "df_cc_pp = pd.merge(\n",
    "    df_cc_pp, sr_line_counts.rename('전선수'), \n",
    "    left_on='공사번호', right_on=sr_line_counts.index,\n",
    "    how='left'\n",
    ")"
   ]
  },
  {
   "cell_type": "code",
   "execution_count": 26,
   "metadata": {},
   "outputs": [
    {
     "data": {
      "text/plain": [
       "7743.0"
      ]
     },
     "execution_count": 26,
     "metadata": {},
     "output_type": "execute_result"
    }
   ],
   "source": [
    "df_cc_pp['전선수'] = df_cc_pp['전선수'].fillna(0)\n",
    "df_cc_pp['전선수'].sum()\n",
    "# 공사비의 공사번호가 있는 설계:전선 레코드 추출값인 7743과 동일함"
   ]
  },
  {
   "cell_type": "code",
   "execution_count": 28,
   "metadata": {},
   "outputs": [],
   "source": [
    "write_data('전처리 공사비+설계', df_cc_pp)"
   ]
  },
  {
   "cell_type": "code",
   "execution_count": null,
   "metadata": {},
   "outputs": [],
   "source": []
  }
 ],
 "metadata": {
  "kernelspec": {
   "display_name": "t213p310",
   "language": "python",
   "name": "python3"
  },
  "language_info": {
   "codemirror_mode": {
    "name": "ipython",
    "version": 3
   },
   "file_extension": ".py",
   "mimetype": "text/x-python",
   "name": "python",
   "nbconvert_exporter": "python",
   "pygments_lexer": "ipython3",
   "version": "3.10.12"
  },
  "orig_nbformat": 4
 },
 "nbformat": 4,
 "nbformat_minor": 2
}
