{
 "cells": [
  {
   "cell_type": "markdown",
   "metadata": {},
   "source": [
    "#### 기별:전선"
   ]
  },
  {
   "cell_type": "code",
   "execution_count": 1,
   "metadata": {},
   "outputs": [],
   "source": [
    "import os\n",
    "import warnings\n",
    "import numpy as np\n",
    "import pandas as pd\n",
    "\n",
    "import matplotlib.pyplot as plt\n",
    "\n",
    "# 사용자정의 함수: key를 입력하면 해당 데이터를 데이터프레임으로 읽어옴\n",
    "from aiddd.data_manager import read_data, write_data\n",
    "from freeman.plt_setting import plt_settings\n",
    "\n",
    "# matplotlib 설정: 한글표시, 차트 레이블 '-' 처리\n",
    "plt_settings()"
   ]
  },
  {
   "cell_type": "code",
   "execution_count": 9,
   "metadata": {},
   "outputs": [
    {
     "data": {
      "text/plain": [
       "(5391, 37)"
      ]
     },
     "execution_count": 9,
     "metadata": {},
     "output_type": "execute_result"
    }
   ],
   "source": [
    "df_line = read_data('기별 전선')\n",
    "df_line.shape"
   ]
  },
  {
   "cell_type": "code",
   "execution_count": 10,
   "metadata": {},
   "outputs": [
    {
     "data": {
      "text/plain": [
       "공사번호\n",
       "442720213962    73\n",
       "442720214045    48\n",
       "442720214935    34\n",
       "442720214195    34\n",
       "442720225012    32\n",
       "                ..\n",
       "442720204123     1\n",
       "442720204404     1\n",
       "442720183319     1\n",
       "442720204155     1\n",
       "442720204247     1\n",
       "Name: count, Length: 1242, dtype: int64"
      ]
     },
     "execution_count": 10,
     "metadata": {},
     "output_type": "execute_result"
    }
   ],
   "source": [
    "df_line['공사번호'].value_counts().sort_values(ascending=False)"
   ]
  },
  {
   "cell_type": "code",
   "execution_count": 11,
   "metadata": {},
   "outputs": [],
   "source": [
    "df_cc = read_data('전처리 공사비+설계')"
   ]
  },
  {
   "cell_type": "code",
   "execution_count": 12,
   "metadata": {},
   "outputs": [
    {
     "data": {
      "text/plain": [
       "(1242,)"
      ]
     },
     "execution_count": 12,
     "metadata": {},
     "output_type": "execute_result"
    }
   ],
   "source": [
    "unique_no_line = df_line['공사번호'].unique()\n",
    "unique_no_line.shape"
   ]
  },
  {
   "cell_type": "code",
   "execution_count": 13,
   "metadata": {},
   "outputs": [
    {
     "data": {
      "text/plain": [
       "(2871, 37)"
      ]
     },
     "execution_count": 13,
     "metadata": {},
     "output_type": "execute_result"
    }
   ],
   "source": [
    "# 공사비의 공사번호가 있는 레코드 추출\n",
    "df_line_cc = df_line[df_line['공사번호'].isin(df_cc['공사번호'])]\n",
    "df_line_cc.shape"
   ]
  },
  {
   "cell_type": "code",
   "execution_count": 14,
   "metadata": {},
   "outputs": [
    {
     "data": {
      "text/plain": [
       "(5391, (5391, 37))"
      ]
     },
     "execution_count": 14,
     "metadata": {},
     "output_type": "execute_result"
    }
   ],
   "source": [
    "# 공사번호별 레코드 갯 수 추출\n",
    "sr_line_cnt = df_line['공사번호'].value_counts()\n",
    "sr_line_cnt.sum(), df_line.shape"
   ]
  },
  {
   "cell_type": "code",
   "execution_count": 15,
   "metadata": {},
   "outputs": [
    {
     "data": {
      "text/plain": [
       "2871.0"
      ]
     },
     "execution_count": 15,
     "metadata": {},
     "output_type": "execute_result"
    }
   ],
   "source": [
    "# 공사비에 기별전선수 컬럼 추가\n",
    "df_cc = pd.merge(\n",
    "    df_cc, sr_line_cnt.rename('기별전선수'),\n",
    "    left_on='공사번호', right_on=sr_line_cnt.index, how='left'\n",
    ")\n",
    "df_cc['기별전선수'] = df_cc['기별전선수'].fillna(0)\n",
    "df_cc['기별전선수'].sum()"
   ]
  },
  {
   "cell_type": "code",
   "execution_count": 16,
   "metadata": {},
   "outputs": [],
   "source": [
    "write_data('전처리 공사비+설계기별', df_cc)"
   ]
  },
  {
   "cell_type": "code",
   "execution_count": null,
   "metadata": {},
   "outputs": [],
   "source": []
  }
 ],
 "metadata": {
  "kernelspec": {
   "display_name": "t213p310",
   "language": "python",
   "name": "python3"
  },
  "language_info": {
   "codemirror_mode": {
    "name": "ipython",
    "version": 3
   },
   "file_extension": ".py",
   "mimetype": "text/x-python",
   "name": "python",
   "nbconvert_exporter": "python",
   "pygments_lexer": "ipython3",
   "version": "3.10.12"
  },
  "orig_nbformat": 4
 },
 "nbformat": 4,
 "nbformat_minor": 2
}
