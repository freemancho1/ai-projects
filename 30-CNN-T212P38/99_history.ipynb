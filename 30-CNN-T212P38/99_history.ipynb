{
 "cells": [
  {
   "cell_type": "markdown",
   "metadata": {},
   "source": [
    "### cnn/12_cifar10_cnn"
   ]
  },
  {
   "cell_type": "markdown",
   "metadata": {},
   "source": [
    "##### 1. Run in the simplest way\n",
    "* Processing time: 5:11.4\n",
    "* Accuracy: Train=0.982, Test=0.6479 --> `Overfitting`"
   ]
  },
  {
   "cell_type": "markdown",
   "metadata": {},
   "source": [
    "##### 2. Append MaxPooling2D (x2)\n",
    "* Processing time: 2:59.4 --> `Decrease in time`\n",
    "* Accuracy: Train=0.9204, Test-0.7192 --> `Increase accuracy`"
   ]
  },
  {
   "cell_type": "markdown",
   "metadata": {},
   "source": [
    "##### 3. Append MaxPooling3D (x3)\n",
    "* Processing time: 3:00.2\n",
    "* Accuracy: Train-0.8940, Test-0.7233 --> `Increase accuracy`"
   ]
  },
  {
   "cell_type": "markdown",
   "metadata": {},
   "source": [
    "<hr>"
   ]
  },
  {
   "cell_type": "markdown",
   "metadata": {},
   "source": [
    "### cnn/13_cifar10_cnn_gradient_tape\n",
    "* cnn/12 + GradientTape"
   ]
  },
  {
   "cell_type": "markdown",
   "metadata": {},
   "source": [
    "##### 1. MaxPooling2D (x3), Adam()\n",
    "* Processing time: 2:13.7\n",
    "* Accuracy: Train-0.90188, Test-0.72180 --> `SoSo`"
   ]
  },
  {
   "cell_type": "markdown",
   "metadata": {},
   "source": [
    "##### 2. MaxPooling2D (x3), Adam(1e-5)\n",
    "* Processing time: 2:09.59\n",
    "* Accuracy: Train-0.54604, Test-0.54440 --> `Fail miserably`"
   ]
  },
  {
   "cell_type": "markdown",
   "metadata": {},
   "source": [
    "##### 3. (BEST) MaxPooling2D (x3), Adam(1e-3)\n",
    "* Processing time: 2:11.70\n",
    "* Accuracy: Train-0.91254, Test-0.73130 --> `Best`"
   ]
  },
  {
   "cell_type": "markdown",
   "metadata": {},
   "source": [
    "##### 4. MaxPooling2D (x3), Adam(1e-1)\n",
    "* Processing time: 2:13.54\n",
    "* Accuracy: Train-0.10043, Test-0.10000 --> `Fail miserably`"
   ]
  },
  {
   "cell_type": "markdown",
   "metadata": {},
   "source": [
    "##### 5. (BEST) MaxPooling2D(x3), Adam(1e-4)\n",
    "* Processing time: 2:10.44\n",
    "* Accuracy: Train-0.79520, Test-0.72250"
   ]
  },
  {
   "cell_type": "markdown",
   "metadata": {},
   "source": [
    "##### 6. MaxPooling2D(x3), Adam(0.0015)\n",
    "* Processing time: 2:13.47\n",
    "* Accuracy: Train-0.87322, Test-0.69830"
   ]
  },
  {
   "cell_type": "markdown",
   "metadata": {},
   "source": [
    "<hr/>"
   ]
  }
 ],
 "metadata": {
  "language_info": {
   "name": "python"
  },
  "orig_nbformat": 4
 },
 "nbformat": 4,
 "nbformat_minor": 2
}
