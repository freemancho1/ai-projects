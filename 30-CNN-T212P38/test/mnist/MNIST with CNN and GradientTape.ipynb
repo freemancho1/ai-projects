{
 "cells": [
  {
   "cell_type": "markdown",
   "metadata": {},
   "source": [
    "# Import the libraries"
   ]
  },
  {
   "cell_type": "code",
   "execution_count": 1,
   "metadata": {},
   "outputs": [
    {
     "name": "stderr",
     "output_type": "stream",
     "text": [
      "2023-08-03 09:18:35.730870: I tensorflow/core/platform/cpu_feature_guard.cc:182] This TensorFlow binary is optimized to use available CPU instructions in performance-critical operations.\n",
      "To enable the following instructions: AVX2 AVX512F FMA, in other operations, rebuild TensorFlow with the appropriate compiler flags.\n"
     ]
    },
    {
     "name": "stdout",
     "output_type": "stream",
     "text": [
      "TF Version: 2.12.0\n"
     ]
    }
   ],
   "source": [
    "import os\n",
    "import numpy as np\n",
    "import tensorflow as tf\n",
    "\n",
    "from datetime import datetime\n",
    "import matplotlib.pyplot as plt\n",
    "\n",
    "print(f'TF Version: {tf.__version__}')"
   ]
  },
  {
   "cell_type": "code",
   "execution_count": 2,
   "metadata": {},
   "outputs": [],
   "source": [
    "# tf.debugging.set_log_device_placement(True)"
   ]
  },
  {
   "cell_type": "markdown",
   "metadata": {},
   "source": [
    "# Fetching data for use in the program(or model)"
   ]
  },
  {
   "cell_type": "code",
   "execution_count": 3,
   "metadata": {},
   "outputs": [],
   "source": [
    "(train_x, train_y), (test_x, test_y) = tf.keras.datasets.mnist.load_data()"
   ]
  },
  {
   "cell_type": "code",
   "execution_count": 4,
   "metadata": {},
   "outputs": [
    {
     "data": {
      "text/plain": [
       "((60000, 28, 28), (10000, 28, 28))"
      ]
     },
     "execution_count": 4,
     "metadata": {},
     "output_type": "execute_result"
    }
   ],
   "source": [
    "train_x.shape, test_x.shape"
   ]
  },
  {
   "cell_type": "code",
   "execution_count": 5,
   "metadata": {},
   "outputs": [],
   "source": [
    "EPOCHS = 5\n",
    "BATCH_SIZE = 32"
   ]
  },
  {
   "cell_type": "code",
   "execution_count": 6,
   "metadata": {},
   "outputs": [
    {
     "name": "stderr",
     "output_type": "stream",
     "text": [
      "2023-08-03 09:18:47.458352: I tensorflow/core/common_runtime/gpu/gpu_device.cc:1635] Created device /job:localhost/replica:0/task:0/device:GPU:0 with 22787 MB memory:  -> device: 0, name: NVIDIA TITAN RTX, pci bus id: 0000:5e:00.0, compute capability: 7.5\n",
      "2023-08-03 09:18:47.459190: I tensorflow/core/common_runtime/gpu/gpu_device.cc:1635] Created device /job:localhost/replica:0/task:0/device:GPU:1 with 22427 MB memory:  -> device: 1, name: NVIDIA TITAN RTX, pci bus id: 0000:af:00.0, compute capability: 7.5\n"
     ]
    },
    {
     "data": {
      "text/plain": [
       "(TensorShape([60000, 28, 28, 1]), TensorShape([10000, 28, 28, 1]))"
      ]
     },
     "execution_count": 6,
     "metadata": {},
     "output_type": "execute_result"
    }
   ],
   "source": [
    "max_value = train_x.max().astype(np.float32)\n",
    "\n",
    "train_x, test_x = train_x / max_value, test_x / max_value\n",
    "train_x, test_x = tf.expand_dims(train_x, -1), tf.expand_dims(test_x, -1)\n",
    "\n",
    "train_x.shape, test_x.shape"
   ]
  },
  {
   "cell_type": "markdown",
   "metadata": {},
   "source": [
    "## Creating the final dataset for training and test"
   ]
  },
  {
   "cell_type": "code",
   "execution_count": 7,
   "metadata": {},
   "outputs": [],
   "source": [
    "train_ds = tf.data.Dataset.from_tensor_slices((train_x, train_y)).shuffle(train_x.shape[0]).batch(BATCH_SIZE)\n",
    "test_ds = tf.data.Dataset.from_tensor_slices((test_x, test_y)).batch(BATCH_SIZE)"
   ]
  },
  {
   "cell_type": "markdown",
   "metadata": {},
   "source": [
    "# Model creation"
   ]
  },
  {
   "cell_type": "markdown",
   "metadata": {},
   "source": [
    "## Define"
   ]
  },
  {
   "cell_type": "code",
   "execution_count": 8,
   "metadata": {},
   "outputs": [],
   "source": [
    "kargs = {\n",
    "    'model_name': 'MnistCnnClassifier',\n",
    "    'input_size': BATCH_SIZE,\n",
    "    'conv_dim': 64,\n",
    "    'full_dim': 128,\n",
    "    'output_dim': 10\n",
    "}"
   ]
  },
  {
   "cell_type": "code",
   "execution_count": 9,
   "metadata": {},
   "outputs": [],
   "source": [
    "class MnistCNNClassifier(tf.keras.Model):\n",
    "    \n",
    "    def __init__(self, **kargs):\n",
    "        super(MnistCNNClassifier, self).__init__(name=kargs['model_name'])\n",
    "        \n",
    "        self.start      = tf.keras.layers.Conv2D(kargs['input_size'], 3, activation='relu')\n",
    "        self.hidden     = tf.keras.layers.Conv2D(kargs['conv_dim'], 3, activation='relu')\n",
    "        self.flatten    = tf.keras.layers.Flatten()\n",
    "        self.full       = tf.keras.layers.Dense(kargs['full_dim'], activation='relu')\n",
    "        self.end        = tf.keras.layers.Dense(kargs['output_dim'], activation='softmax')\n",
    "        \n",
    "    def call(self, input):\n",
    "        _model = self.start(input)\n",
    "        _model = self.hidden(_model)\n",
    "        _model = self.flatten(_model)\n",
    "        _model = self.full(_model)\n",
    "        _model = self.end(_model)\n",
    "        return _model"
   ]
  },
  {
   "cell_type": "code",
   "execution_count": 10,
   "metadata": {},
   "outputs": [],
   "source": [
    "model = MnistCNNClassifier(**kargs)\n",
    "\n",
    "loss = tf.keras.losses.SparseCategoricalCrossentropy()\n",
    "optimizer = tf.keras.optimizers.Adam(1e-4)\n",
    "\n",
    "train_loss = tf.keras.metrics.Mean(name='train_loss')\n",
    "train_accuracy = tf.keras.metrics.SparseCategoricalAccuracy(name='train_accuracy')\n",
    "test_loss = tf.keras.metrics.Mean(name='test_loss')\n",
    "test_accuracy = tf.keras.metrics.SparseCategoricalAccuracy(name='test_accuracy')"
   ]
  },
  {
   "cell_type": "code",
   "execution_count": 11,
   "metadata": {},
   "outputs": [],
   "source": [
    "@tf.function\n",
    "def train_step(images, labels):\n",
    "    \n",
    "    with tf.GradientTape() as tape:\n",
    "        predictions = model(images, training=True)\n",
    "        _loss = loss(labels, predictions)\n",
    "    \n",
    "    gradients = tape.gradient(_loss, model.trainable_variables)\n",
    "    optimizer.apply_gradients(zip(gradients, model.trainable_variables))\n",
    "    \n",
    "    train_loss(_loss)\n",
    "    train_accuracy(labels, predictions)"
   ]
  },
  {
   "cell_type": "code",
   "execution_count": 12,
   "metadata": {},
   "outputs": [],
   "source": [
    "@tf.function\n",
    "def test_step(images, labels):\n",
    "    \n",
    "    predictions = model(images, training=False)\n",
    "    _loss = loss(labels, predictions)\n",
    "    \n",
    "    test_loss(_loss)\n",
    "    test_accuracy(labels, predictions)"
   ]
  },
  {
   "cell_type": "code",
   "execution_count": 13,
   "metadata": {},
   "outputs": [],
   "source": [
    "BASE_PATH = os.path.join(os.getcwd(), 'cnn_gradient_tape')\n",
    "CHECK_POINT_PATH = os.path.join(BASE_PATH, 'modeling', )"
   ]
  },
  {
   "cell_type": "code",
   "execution_count": 14,
   "metadata": {},
   "outputs": [
    {
     "name": "stdout",
     "output_type": "stream",
     "text": [
      "Check point path: /home/freeman/projects/ai/t212p38/test/mnist/cnn_gradient_tape/modeling/MnistCnnClassifier/ckpt\n"
     ]
    }
   ],
   "source": [
    "MODEL_NAME = kargs['model_name']\n",
    "BASE_PATH = os.path.join(os.getcwd(), 'cnn_gradient_tape')\n",
    "CHECK_POINT_PATH = os.path.join(BASE_PATH, 'modeling', MODEL_NAME, 'ckpt')\n",
    "print(f'Check point path: {CHECK_POINT_PATH}')\n",
    "\n",
    "if not os.path.exists(CHECK_POINT_PATH):\n",
    "    os.makedirs(CHECK_POINT_PATH, exist_ok=True)"
   ]
  },
  {
   "cell_type": "code",
   "execution_count": 15,
   "metadata": {},
   "outputs": [],
   "source": [
    "CHECK_POINT_PREFIX = os.path.join(CHECK_POINT_PATH, 'ckpt')\n",
    "check_point = tf.train.Checkpoint(optimizer=optimizer)"
   ]
  },
  {
   "cell_type": "markdown",
   "metadata": {},
   "source": [
    "# Training"
   ]
  },
  {
   "cell_type": "code",
   "execution_count": 16,
   "metadata": {},
   "outputs": [
    {
     "name": "stderr",
     "output_type": "stream",
     "text": [
      "2023-08-03 09:19:10.640999: I tensorflow/core/common_runtime/executor.cc:1197] [/device:CPU:0] (DEBUG INFO) Executor start aborting (this does not indicate an error and you can ignore this message): INVALID_ARGUMENT: You must feed a value for placeholder tensor 'Placeholder/_1' with dtype uint8 and shape [60000]\n",
      "\t [[{{node Placeholder/_1}}]]\n",
      "2023-08-03 09:19:10.641312: I tensorflow/core/common_runtime/executor.cc:1197] [/device:CPU:0] (DEBUG INFO) Executor start aborting (this does not indicate an error and you can ignore this message): INVALID_ARGUMENT: You must feed a value for placeholder tensor 'Placeholder/_1' with dtype uint8 and shape [60000]\n",
      "\t [[{{node Placeholder/_1}}]]\n",
      "2023-08-03 09:19:12.503927: I tensorflow/compiler/xla/stream_executor/cuda/cuda_dnn.cc:424] Loaded cuDNN version 8600\n",
      "2023-08-03 09:19:13.357770: I tensorflow/tsl/platform/default/subprocess.cc:304] Start cannot spawn child process: No such file or directory\n",
      "2023-08-03 09:19:13.747495: I tensorflow/compiler/xla/service/service.cc:169] XLA service 0x7f34365d4540 initialized for platform CUDA (this does not guarantee that XLA will be used). Devices:\n",
      "2023-08-03 09:19:13.747536: I tensorflow/compiler/xla/service/service.cc:177]   StreamExecutor device (0): NVIDIA TITAN RTX, Compute Capability 7.5\n",
      "2023-08-03 09:19:13.747561: I tensorflow/compiler/xla/service/service.cc:177]   StreamExecutor device (1): NVIDIA TITAN RTX, Compute Capability 7.5\n",
      "2023-08-03 09:19:13.753719: I tensorflow/compiler/mlir/tensorflow/utils/dump_mlir_util.cc:269] disabling MLIR crash reproducer, set env var `MLIR_CRASH_REPRODUCER_DIRECTORY` to enable.\n",
      "2023-08-03 09:19:13.855337: I tensorflow/tsl/platform/default/subprocess.cc:304] Start cannot spawn child process: No such file or directory\n",
      "2023-08-03 09:19:13.971081: I ./tensorflow/compiler/jit/device_compiler.h:180] Compiled cluster using XLA!  This line is logged at most once for the lifetime of the process.\n",
      "2023-08-03 09:19:26.896175: I tensorflow/core/common_runtime/executor.cc:1197] [/device:CPU:0] (DEBUG INFO) Executor start aborting (this does not indicate an error and you can ignore this message): INVALID_ARGUMENT: You must feed a value for placeholder tensor 'Placeholder/_1' with dtype uint8 and shape [10000]\n",
      "\t [[{{node Placeholder/_1}}]]\n"
     ]
    },
    {
     "name": "stdout",
     "output_type": "stream",
     "text": [
      "Epoch: 1, Train: loss(0.19146), accuracy(0.94567), Test: loss(0.06507), accuracy(0.97910), Processing time: 0:00:18.025208\n",
      "Epoch: 2, Train: loss(0.05773), accuracy(0.98322), Test: loss(0.04869), accuracy(0.98500), Processing time: 0:00:12.391708\n",
      "Epoch: 3, Train: loss(0.03790), accuracy(0.98840), Test: loss(0.04194), accuracy(0.98640), Processing time: 0:00:12.242989\n",
      "Epoch: 4, Train: loss(0.02723), accuracy(0.99150), Test: loss(0.04198), accuracy(0.98630), Processing time: 0:00:11.940020\n",
      "Epoch: 5, Train: loss(0.01989), accuracy(0.99380), Test: loss(0.03942), accuracy(0.98730), Processing time: 0:00:12.061907\n",
      "Total processing time: 0:01:06.681129\n"
     ]
    }
   ],
   "source": [
    "_time_training_start = datetime.now()\n",
    "\n",
    "for epoch in range(EPOCHS):\n",
    "    _time_epoch_start = datetime.now()\n",
    "    \n",
    "    train_loss.reset_state()\n",
    "    train_accuracy.reset_state()\n",
    "    test_loss.reset_state()\n",
    "    test_accuracy.reset_state()\n",
    "    \n",
    "    for images, labels in train_ds:\n",
    "        train_step(images, labels)\n",
    "        \n",
    "    for images, labels in test_ds:\n",
    "        test_step(images, labels)\n",
    "        \n",
    "    check_point.save(file_prefix=CHECK_POINT_PREFIX)\n",
    "    _time_epoch_end = datetime.now()\n",
    "    \n",
    "    print(\n",
    "        f'Epoch: {epoch+1}, '\n",
    "        f'Train: loss({train_loss.result():.05f}), accuracy({train_accuracy.result():.05f}), '\n",
    "        f'Test: loss({test_loss.result():.05f}), accuracy({test_accuracy.result():.05f}), '\n",
    "        f'Processing time: {_time_epoch_end - _time_epoch_start}'\n",
    "    )\n",
    "    \n",
    "print(f'Total processing time: {datetime.now() - _time_training_start}')"
   ]
  },
  {
   "cell_type": "markdown",
   "metadata": {},
   "source": [
    "##### Service"
   ]
  },
  {
   "cell_type": "code",
   "execution_count": 17,
   "metadata": {},
   "outputs": [],
   "source": [
    "def service(idx):\n",
    "    _sample_data = tf.reshape(test_x[idx], (1, 28, 28, 1))\n",
    "    _predict = model.predict(_sample_data)\n",
    "    _predict = tf.reshape(_predict, (10))       # (1,10) => (10) 즉, 2차원 배열을 1차원 배열로 변경\n",
    "    _x_labels = list(range(0, _predict.numpy().size))   # 0~9\n",
    "    \n",
    "    plt.figure(figsize=(12,5))\n",
    "    plt.subplot(1, 2, 1)\n",
    "    plt.imshow(_sample_data[0, :, :, 0], aspect='auto')\n",
    "    plt.title('Sample image to be predicted')\n",
    "    \n",
    "    plt.subplot(1, 2, 2)\n",
    "    plt.bar(_x_labels, _predict)\n",
    "    plt.xlabel('Index')\n",
    "    plt.ylabel('Value')\n",
    "    plt.title('Probability of being the corresponding number')\n",
    "    \n",
    "    plt.tight_layout()\n",
    "    plt.show()\n",
    "    \n",
    "    _predict = tf.math.argmax(_predict)       # <tf.Tensor: shape=(), dtype=int64, numpy=7>\n",
    "    _predict = _predict.numpy()\n",
    "    print(f'label: {test_y[idx]}, predict: {_predict}')"
   ]
  },
  {
   "cell_type": "code",
   "execution_count": 18,
   "metadata": {},
   "outputs": [
    {
     "name": "stdout",
     "output_type": "stream",
     "text": [
      "1/1 [==============================] - 0s 150ms/step\n"
     ]
    },
    {
     "data": {
      "image/png": "[encoded data removed]",
      "text/plain": [
       "<Figure size 1200x500 with 2 Axes>"
      ]
     },
     "metadata": {},
     "output_type": "display_data"
    },
    {
     "name": "stdout",
     "output_type": "stream",
     "text": [
      "label: 6, predict: 6\n"
     ]
    }
   ],
   "source": [
    "service(100)"
   ]
  },
  {
   "cell_type": "code",
   "execution_count": 19,
   "metadata": {},
   "outputs": [
    {
     "name": "stdout",
     "output_type": "stream",
     "text": [
      "1/1 [==============================] - 0s 22ms/step\n"
     ]
    },
    {
     "data": {
      "image/png": "[encoded data removed]",
      "text/plain": [
       "<Figure size 1200x500 with 2 Axes>"
      ]
     },
     "metadata": {},
     "output_type": "display_data"
    },
    {
     "name": "stdout",
     "output_type": "stream",
     "text": [
      "label: 3, predict: 3\n"
     ]
    }
   ],
   "source": [
    "service(200)"
   ]
  },
  {
   "cell_type": "code",
   "execution_count": null,
   "metadata": {},
   "outputs": [],
   "source": []
  }
 ],
 "metadata": {
  "kernelspec": {
   "display_name": "t212p38",
   "language": "python",
   "name": "python3"
  },
  "language_info": {
   "codemirror_mode": {
    "name": "ipython",
    "version": 3
   },
   "file_extension": ".py",
   "mimetype": "text/x-python",
   "name": "python",
   "nbconvert_exporter": "python",
   "pygments_lexer": "ipython3",
   "version": "3.8.17"
  },
  "orig_nbformat": 4
 },
 "nbformat": 4,
 "nbformat_minor": 2
}
